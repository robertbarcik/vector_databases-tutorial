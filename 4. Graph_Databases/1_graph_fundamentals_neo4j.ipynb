{
 "cells": [
  {
   "cell_type": "markdown",
   "id": "0",
   "metadata": {
    "id": "lnrfuMy51FMA"
   },
   "source": [
    "# 📊 Graph Database Fundamentals with Neo4j\n",
    "\n",
    "## Welcome to Graph Databases!\n",
    "\n",
    "In this notebook, you'll learn how to use **graph databases** to model and query complex, interconnected data. While vector databases excel at similarity search, graph databases are optimized for understanding and traversing **relationships** between entities.\n",
    "\n",
    "## 🎯 What You'll Learn\n",
    "\n",
    "- Core graph database concepts: nodes, relationships, and properties\n",
    "- **Cypher query language** for pattern matching and graph traversal\n",
    "- Building knowledge graphs from structured data\n",
    "- Advanced pattern matching and multi-hop relationship queries\n",
    "- When to use graph databases vs. vector databases in your AI applications\n",
    "\n",
    "## 💼 Business Value: Why Graph Databases Matter\n",
    "\n",
    "Graph databases power some of the world's most critical applications:\n",
    "\n",
    "- **Social Networks**: LinkedIn uses graphs to show \"how you're connected\" to other professionals\n",
    "- **Fraud Detection**: Banks detect fraud rings by analyzing transaction networks in real-time\n",
    "- **Recommendation Systems**: Netflix and Amazon use graphs to find \"people like you\" and recommend content\n",
    "- **Knowledge Management**: Enterprises build knowledge graphs to connect documents, people, projects, and expertise\n",
    "- **Supply Chain Optimization**: Companies model complex supply networks to identify bottlenecks and risks\n",
    "\n",
    "Unlike traditional databases that struggle with complex joins across multiple tables, graph databases are designed to traverse relationships at lightning speed—even across millions of connections.\n",
    "\n",
    "## 🔗 How This Connects to Your Previous Learning\n",
    "\n",
    "You've already learned about:\n",
    "- **Vector databases**: Great for similarity search (\"find documents similar to this\")\n",
    "- **RAG systems**: Retrieve relevant context for LLM queries\n",
    "- **LlamaIndex**: Orchestrate data ingestion and retrieval\n",
    "\n",
    "Graph databases complement these tools by adding **relationship intelligence**. In the next notebook, you'll combine graph databases with vector search to create **GraphRAG**—the next evolution of retrieval-augmented generation.\n",
    "\n",
    "Let's get started! 🚀"
   ]
  },
  {
   "cell_type": "markdown",
   "id": "1",
   "metadata": {
    "id": "8h7YGGwc1FME"
   },
   "source": [
    "---\n",
    "## 📚 Part 1: Theory - What Are Graph Databases?\n",
    "\n",
    "### Understanding Graph Databases\n",
    "\n",
    "A **graph database** stores data as a network of interconnected nodes and relationships, rather than rows and tables. This structure mirrors how we naturally think about connected information: people know people, products belong to categories, documents cite other documents.\n",
    "\n",
    "Traditional **relational databases** require complex JOIN operations to traverse relationships. As you add more joins (\"find friends of friends of friends\"), performance degrades exponentially. **Document databases** like MongoDB store data as self-contained documents, but struggle to represent complex relationships efficiently.\n",
    "\n",
    "Graph databases solve this by making relationships **first-class citizens**. Relationships are stored directly alongside the data, enabling constant-time traversal regardless of database size. A query that finds \"friends within 3 degrees of separation\" executes in milliseconds even with millions of users.\n",
    "\n",
    "### 🔑 Key Terminology\n",
    "\n",
    "Every graph database is built from three fundamental elements:\n",
    "\n",
    "1. **Nodes** (also called vertices): Represent entities in your domain\n",
    "   - Examples: Person, Company, Product, Document\n",
    "   - Have **labels** to categorize them (e.g., `:Employee`, `:Department`)\n",
    "   - Contain **properties** with key-value data (e.g., `name: \"Sarah\"`, `age: 35`)\n",
    "\n",
    "2. **Relationships** (also called edges): Connect nodes and represent how they're related\n",
    "   - Examples: WORKS_FOR, PURCHASED, KNOWS, MANAGES\n",
    "   - Always have a **direction** (though you can query in either direction)\n",
    "   - Also contain **properties** (e.g., `since: 2020`, `strength: 0.8`)\n",
    "\n",
    "3. **Properties**: Key-value pairs that store data on nodes and relationships\n",
    "   - Examples: `salary: 75000`, `created_at: \"2024-01-15\"`, `priority: \"high\"`\n",
    "\n",
    "### 🎯 When to Use Graph Databases vs. Vector Databases\n",
    "\n",
    "Choose **graph databases** when:\n",
    "- Your data has complex, multi-hop relationships (organizational hierarchies, social networks)\n",
    "- You need to answer \"how are these connected?\" questions\n",
    "- Relationships are as important as the entities themselves\n",
    "- You're detecting patterns across connections (fraud rings, influence networks)\n",
    "\n",
    "Choose **vector databases** when:\n",
    "- You need semantic similarity search (\"find documents similar to this query\")\n",
    "- Your data is unstructured (text, images, audio)\n",
    "- Relationships are less important than content similarity\n",
    "\n",
    "The best systems use **both**: vector search to find relevant content, graph traversal to understand context and relationships. You'll learn this hybrid approach in Notebook 2!\n",
    "\n",
    "### 🌟 Real-World Use Cases\n",
    "\n",
    "1. **LinkedIn Connections**: \"How are you connected to this person?\" requires traversing the professional network graph\n",
    "2. **Fraud Detection**: Banks analyze transaction graphs to find suspicious patterns—multiple accounts transferring to the same destination\n",
    "3. **Recommendation Engines**: \"Users who bought X also bought Y\" is a graph traversal problem\n",
    "4. **Drug Discovery**: Pharmaceutical companies use knowledge graphs to find relationships between proteins, diseases, and compounds\n",
    "5. **IT Operations**: Map dependencies between services to understand cascade failures\n",
    "\n",
    "### 💡 Key Point: The Power of Relationship Traversal\n",
    "\n",
    "In a relational database, finding \"friends of friends\" requires multiple self-joins that get exponentially slower. In a graph database, you simply follow the relationships—performance stays constant regardless of how many \"hops\" you traverse. This is called **index-free adjacency**, and it's what makes graph databases uniquely powerful for connected data.\n",
    "\n"
   ]
  },
  {
   "cell_type": "markdown",
   "id": "2",
   "metadata": {
    "id": "Zpu4yjgU1FMG"
   },
   "source": [
    "---\n",
    "## ⚙️ Part 2: Setup - Installing Neo4j in Google Colab\n",
    "\n",
    "Neo4j is the world's leading graph database. We'll install **Neo4j Community Edition** directly in this Colab environment—no external accounts or services needed!\n",
    "\n",
    "### What We're Installing\n",
    "\n",
    "- **Neo4j database**: Graph database engine that runs locally in this Colab VM\n",
    "- **Python driver**: Official Neo4j Python library for executing Cypher queries\n",
    "- **Supporting libraries**: pandas, matplotlib, networkx for data manipulation and visualization\n",
    "\n",
    "This installation takes about 30 seconds. Let's begin! ⚡"
   ]
  },
  {
   "cell_type": "code",
   "execution_count": null,
   "id": "3",
   "metadata": {
    "colab": {
     "base_uri": "https://localhost:8080/"
    },
    "id": "w9P5nEXX1FMH",
    "outputId": "b76fd606-8d65-4ee8-e1b1-de1622164508"
   },
   "outputs": [],
   "source": [
    "# 📦 Install Neo4j Community Edition in Colab\n",
    "# Simple approach: Download tarball, extract, and run directly\n",
    "\n",
    "import time\n",
    "import os\n",
    "\n",
    "print(\"🔄 Step 1: Installing Java (required for Neo4j)...\")\n",
    "!apt-get update -qq > /dev/null 2>&1\n",
    "!apt-get install -y default-jre wget > /dev/null 2>&1\n",
    "print(\"✅ Java installed!\\n\")\n",
    "\n",
    "print(\"📥 Step 2: Downloading Neo4j Community Edition 4.4.36...\")\n",
    "!wget -q https://dist.neo4j.org/neo4j-community-4.4.36-unix.tar.gz\n",
    "print(\"✅ Downloaded!\\n\")\n",
    "\n",
    "print(\"📦 Step 3: Extracting Neo4j...\")\n",
    "!tar -xf neo4j-community-4.4.36-unix.tar.gz\n",
    "!mv neo4j-community-4.4.36 neo4j\n",
    "print(\"✅ Extracted to 'neo4j' folder!\\n\")\n",
    "\n",
    "print(\"🔐 Step 4: Setting initial password...\")\n",
    "# Set the initial password using neo4j-admin\n",
    "!neo4j/bin/neo4j-admin set-initial-password password123\n",
    "print(\"✅ Password set to: password123\\n\")\n",
    "\n",
    "print(\"🚀 Step 5: Starting Neo4j server...\")\n",
    "# Start Neo4j in the background\n",
    "!neo4j/bin/neo4j start\n",
    "print(\"✅ Neo4j starting...\\n\")\n",
    "\n",
    "print(\"📚 Step 6: Installing Python drivers...\")\n",
    "!pip install -q neo4j py2neo\n",
    "print(\"✅ Python drivers installed!\\n\")\n",
    "\n",
    "print(\"⏳ Step 7: Waiting for Neo4j to be fully ready...\")\n",
    "# Wait for Neo4j to be ready (check if port 7687 is listening)\n",
    "import socket\n",
    "max_attempts = 30\n",
    "for attempt in range(max_attempts):\n",
    "    try:\n",
    "        sock = socket.socket(socket.AF_INET, socket.SOCK_STREAM)\n",
    "        sock.settimeout(1)\n",
    "        result = sock.connect_ex(('127.0.0.1', 7687))\n",
    "        sock.close()\n",
    "        if result == 0:\n",
    "            print(f\"✅ Neo4j is ready! (took {attempt * 2} seconds)\\n\")\n",
    "            break\n",
    "    except:\n",
    "        pass\n",
    "\n",
    "    if attempt % 5 == 0 and attempt > 0:\n",
    "        print(f\"   Still waiting... ({attempt}/{max_attempts})\")\n",
    "\n",
    "    time.sleep(2)\n",
    "\n",
    "print(\"=\" * 60)\n",
    "print(\"📊 NEO4J CONNECTION DETAILS\")\n",
    "print(\"=\" * 60)\n",
    "print(\"URI:      bolt://localhost:7687\")\n",
    "print(\"Username: neo4j\")\n",
    "print(\"Password: password123\")\n",
    "print(\"=\" * 60)\n",
    "print(\"\\n🎉 Setup complete! Ready to connect.\\n\")"
   ]
  },
  {
   "cell_type": "code",
   "execution_count": null,
   "id": "4",
   "metadata": {
    "colab": {
     "base_uri": "https://localhost:8080/"
    },
    "id": "QUj5z6nJ1FMK",
    "outputId": "64b5bfd8-5b69-4078-ee6e-f708ef38608d"
   },
   "outputs": [],
   "source": [
    "# 📦 Install additional dependencies for data manipulation and visualization\n",
    "\n",
    "print(\"📥 Installing additional libraries...\")\n",
    "!pip install -q pandas matplotlib networkx python-louvain\n",
    "\n",
    "# Suppress unnecessary warnings for cleaner output\n",
    "import warnings\n",
    "warnings.filterwarnings(\"ignore\")\n",
    "\n",
    "print(\"✅ All dependencies installed!\")"
   ]
  },
  {
   "cell_type": "code",
   "execution_count": null,
   "id": "5",
   "metadata": {
    "colab": {
     "base_uri": "https://localhost:8080/"
    },
    "id": "t1CJLPgT1FML",
    "outputId": "7775dc9f-f839-4bc5-f8be-6e5999bcad4b"
   },
   "outputs": [],
   "source": [
    "# 📚 Import all necessary libraries\n",
    "\n",
    "# Neo4j driver for database connection and queries\n",
    "from neo4j import GraphDatabase\n",
    "\n",
    "# Data manipulation and analysis\n",
    "import pandas as pd\n",
    "import json\n",
    "from typing import List, Dict, Any, Optional\n",
    "\n",
    "# Visualization libraries\n",
    "import matplotlib.pyplot as plt\n",
    "import networkx as nx\n",
    "from matplotlib.patches import Patch\n",
    "\n",
    "# Utilities\n",
    "import time\n",
    "from pprint import pprint\n",
    "\n",
    "print(\"✅ All libraries imported successfully!\")"
   ]
  },
  {
   "cell_type": "code",
   "execution_count": null,
   "id": "6",
   "metadata": {
    "colab": {
     "base_uri": "https://localhost:8080/"
    },
    "id": "u-MlUAWx1FML",
    "outputId": "74711522-ce3d-40b9-adaa-e79a9c4ff2e4"
   },
   "outputs": [],
   "source": [
    "# 🔗 Configure Neo4j connection parameters\n",
    "\n",
    "NEO4J_URI = \"bolt://localhost:7687\"\n",
    "NEO4J_USER = \"neo4j\"\n",
    "NEO4J_PASSWORD = \"password123\"\n",
    "\n",
    "# Create the database driver (connection pool)\n",
    "driver = GraphDatabase.driver(NEO4J_URI, auth=(NEO4J_USER, NEO4J_PASSWORD))\n",
    "\n",
    "print(\"✅ Neo4j driver created!\")"
   ]
  },
  {
   "cell_type": "code",
   "execution_count": null,
   "id": "7",
   "metadata": {
    "colab": {
     "base_uri": "https://localhost:8080/"
    },
    "id": "aEJmW8xz1FMM",
    "outputId": "fc04e46e-4137-4cbc-f5ea-7e21af78820d"
   },
   "outputs": [],
   "source": [
    "# 🧪 Test Neo4j connection with retry logic\n",
    "\n",
    "def test_neo4j_connection(max_retries=5, retry_delay=3):\n",
    "    \"\"\"\n",
    "    Verify that we can connect to Neo4j and execute a simple query.\n",
    "    This function tests the connection with retry logic for robustness.\n",
    "\n",
    "    Args:\n",
    "        max_retries: Maximum number of connection attempts\n",
    "        retry_delay: Seconds to wait between retries\n",
    "    \"\"\"\n",
    "    for attempt in range(1, max_retries + 1):\n",
    "        try:\n",
    "            print(f\"🔄 Connection attempt {attempt}/{max_retries}...\")\n",
    "\n",
    "            # Open a session and run a simple query\n",
    "            with driver.session() as session:\n",
    "                # Count all nodes in the database (should be 0 for a fresh install)\n",
    "                result = session.run(\"MATCH (n) RETURN count(n) as node_count\")\n",
    "                record = result.single()\n",
    "                node_count = record[\"node_count\"]\n",
    "\n",
    "                print(\"\\n✅ Successfully connected to Neo4j!\")\n",
    "                print(f\"📊 Current node count: {node_count}\")\n",
    "                print(\"🎉 Database is ready to use!\")\n",
    "                return True\n",
    "\n",
    "        except Exception as e:\n",
    "            print(f\"❌ Attempt {attempt} failed: {str(e)[:100]}\")\n",
    "\n",
    "            if attempt < max_retries:\n",
    "                print(f\"⏳ Waiting {retry_delay} seconds before retry...\")\n",
    "                time.sleep(retry_delay)\n",
    "            else:\n",
    "                print(\"\\n❌ All connection attempts failed!\")\n",
    "                print(\"\\n🔧 Troubleshooting steps:\")\n",
    "                print(\"   1. Check if Neo4j is running: !neo4j status\")\n",
    "                print(\"   2. Try restarting Neo4j: !neo4j restart\")\n",
    "                print(\"   3. Wait a bit longer and run this cell again\")\n",
    "                print(\"   4. Check Neo4j logs: !cat /var/log/neo4j/neo4j.log | tail -50\")\n",
    "                return False\n",
    "\n",
    "# Run the connection test with retries\n",
    "test_neo4j_connection()"
   ]
  },
  {
   "cell_type": "code",
   "execution_count": null,
   "id": "8",
   "metadata": {
    "colab": {
     "base_uri": "https://localhost:8080/"
    },
    "id": "iRNURgs51FMN",
    "outputId": "d3faec3f-7b1e-4f75-ef87-68ae1c53d739"
   },
   "outputs": [],
   "source": [
    "# 🔧 TROUBLESHOOTING: Run this cell ONLY if connection failed\n",
    "# Uncomment the lines below if you need to restart Neo4j\n",
    "\n",
    "# print(\"🔍 Checking Neo4j status...\")\n",
    "# !neo4j/bin/neo4j status\n",
    "\n",
    "# print(\"\\n🔄 Attempting to restart Neo4j...\")\n",
    "# !neo4j/bin/neo4j restart\n",
    "\n",
    "# print(\"\\n⏳ Waiting 30 seconds for Neo4j to fully initialize...\")\n",
    "# import time\n",
    "# time.sleep(30)\n",
    "\n",
    "# print(\"\\n✅ Neo4j restart complete!\")\n",
    "# print(\"📊 Now try running the connection test cell above again.\")\n",
    "\n",
    "# # Optionally check logs for errors\n",
    "# print(\"\\n📋 Recent Neo4j logs (last 20 lines):\")\n",
    "# !tail -20 neo4j/logs/neo4j.log 2>/dev/null || echo \"Could not access logs (logs may be in a different location)\"\n",
    "\n",
    "print(\"⚠️ This cell is commented out by default.\")\n",
    "print(\"Only uncomment and run if the connection test above failed.\")"
   ]
  },
  {
   "cell_type": "markdown",
   "id": "9",
   "metadata": {
    "id": "t2bEZUon1FMO"
   },
   "source": [
    "---\n",
    "## 🔤 Part 3: Cypher Basics - The Graph Query Language\n",
    "\n",
    "### Introduction to Cypher\n",
    "\n",
    "**Cypher** is Neo4j's query language for working with graphs. If you know SQL, you'll find Cypher familiar but more intuitive for connected data. Instead of thinking about tables and joins, you think about **patterns** in the graph.\n",
    "\n",
    "### Basic Syntax Patterns\n",
    "\n",
    "Cypher uses ASCII art to represent graph patterns:\n",
    "\n",
    "```cypher\n",
    "()                    // A node\n",
    "(p:Person)            // A node with label 'Person', aliased as 'p'\n",
    "(p:Person {name: \"Sarah\"})  // A node with properties\n",
    "\n",
    "-->                   // A relationship (directed)\n",
    "-[r]->                // A relationship, aliased as 'r'\n",
    "-[:KNOWS]->           // A relationship with type 'KNOWS'\n",
    "-[:KNOWS {since: 2020}]->  // A relationship with properties\n",
    "\n",
    "(p1:Person)-[:KNOWS]->(p2:Person)  // A complete pattern\n",
    "```\n",
    "\n",
    "### Core Cypher Commands\n",
    "\n",
    "- **CREATE**: Add new nodes and relationships to the graph\n",
    "- **MATCH**: Find patterns in the graph (like SQL's SELECT)\n",
    "- **WHERE**: Filter results based on conditions\n",
    "- **RETURN**: Specify what data to return\n",
    "- **DELETE**: Remove nodes and relationships (use DETACH DELETE to remove relationships too)\n",
    "- **MERGE**: Create if doesn't exist, or match if it does (prevents duplicates)\n",
    "\n",
    "### 💡 Key Point: Cypher's Pattern-Matching Power\n",
    "\n",
    "The magic of Cypher is in pattern matching. Instead of writing complex joins, you simply **draw the pattern** you're looking for using ASCII art. The database figures out how to traverse the graph efficiently. Want to find \"people who work with people who know each other\"? Just write the pattern:\n",
    "\n",
    "```cypher\n",
    "(p1:Person)-[:WORKS_WITH]->(p2:Person)-[:KNOWS]->(p3:Person)\n",
    "```\n",
    "\n",
    "Let's try some examples!"
   ]
  },
  {
   "cell_type": "code",
   "execution_count": null,
   "id": "10",
   "metadata": {
    "colab": {
     "base_uri": "https://localhost:8080/"
    },
    "id": "4QYY1Zwc1FMQ",
    "outputId": "60cf5ba1-c9b7-40b4-9f2e-c1d57e1d1ff3"
   },
   "outputs": [],
   "source": [
    "# 🛠️ Helper function to execute Cypher queries\n",
    "\n",
    "def run_query(query: str, parameters: Optional[Dict[str, Any]] = None) -> List[Dict[str, Any]]:\n",
    "    \"\"\"\n",
    "    Execute a Cypher query and return results as a list of dictionaries.\n",
    "\n",
    "    Args:\n",
    "        query: Cypher query string\n",
    "        parameters: Optional dictionary of parameters for the query\n",
    "\n",
    "    Returns:\n",
    "        List of result records as dictionaries\n",
    "    \"\"\"\n",
    "    try:\n",
    "        with driver.session() as session:\n",
    "            result = session.run(query, parameters or {})\n",
    "            # Convert results to list of dictionaries\n",
    "            records = [dict(record) for record in result]\n",
    "            return records\n",
    "    except Exception as e:\n",
    "        print(f\"❌ Query execution failed: {str(e)}\")\n",
    "        print(f\"Query: {query}\")\n",
    "        return []\n",
    "\n",
    "print(\"✅ Helper function created!\")"
   ]
  },
  {
   "cell_type": "markdown",
   "id": "11",
   "metadata": {
    "id": "072t9dOJ1FMR"
   },
   "source": [
    " ⚠️ Important: The Examples Below Are TEMPORARY. Before we build our real company knowledge graph, let's learn Cypher syntax with simple examples. We'll create some test nodes and relationships, experiment with queries, then **delete everything** —we're just learning the syntax!\n",
    "\n",
    " 🎯 What We'll Do:\n",
    " 1. ✏️ **Create** simple test nodes (Alice, Bob, TechCorp)\n",
    " 2. 🔍 **Practice** querying them with various Cypher commands\n",
    " 3. 🗑️ **Delete everything** to clean up\n",
    " 4. 🏗️ **Then** build our real knowledge graph in Part 4\n",
    "\n",
    " **Why are we doing this?** You need to understand Cypher syntax before working with real data. These throwaway examples let you experiment without worrying about messing up the real knowledge graph. Let's practice! 👇"
   ]
  },
  {
   "cell_type": "code",
   "execution_count": null,
   "id": "12",
   "metadata": {
    "colab": {
     "base_uri": "https://localhost:8080/"
    },
    "id": "lpaC0o3Z1FMS",
    "outputId": "ad718567-60eb-4948-cc55-36f86f1be7d4"
   },
   "outputs": [],
   "source": [
    "# 1️⃣ CREATE a single node\n",
    "print(\"1️⃣ Creating a Person node...\")\n",
    "\n",
    "query = \"\"\"\n",
    "CREATE (p:Person {name: \"Alice\", age: 30, role: \"Data Scientist\"})\n",
    "RETURN p.name as name, p.age as age, p.role as role\n",
    "\"\"\"\n",
    "result = run_query(query)\n",
    "print(f\"✅ Created: {result[0]}\\n\")"
   ]
  },
  {
   "cell_type": "code",
   "execution_count": null,
   "id": "13",
   "metadata": {
    "colab": {
     "base_uri": "https://localhost:8080/"
    },
    "id": "tgt1oU3E1FMT",
    "outputId": "0553ed82-2d72-46b4-e146-700061295162"
   },
   "outputs": [],
   "source": [
    "# 2️⃣ CREATE multiple nodes with different labels\n",
    "print(\"2️⃣ Creating multiple nodes...\")\n",
    "\n",
    "query = \"\"\"\n",
    "CREATE (p:Person {name: \"Bob\", age: 35}),\n",
    "       (c:Company {name: \"TechCorp\", industry: \"Software\"}),\n",
    "       (s:Skill {name: \"Python\", category: \"Programming\"})\n",
    "RETURN 'Nodes created' as status\n",
    "\"\"\"\n",
    "result = run_query(query)\n",
    "print(f\"✅ {result[0]['status']}\\n\")"
   ]
  },
  {
   "cell_type": "code",
   "execution_count": null,
   "id": "14",
   "metadata": {
    "colab": {
     "base_uri": "https://localhost:8080/"
    },
    "id": "9K3wF-9I1FMU",
    "outputId": "377b8975-b227-44f9-a424-369d4f936702"
   },
   "outputs": [],
   "source": [
    "# 3️⃣ CREATE nodes with relationships\n",
    "print(\"3️⃣ Creating nodes with relationships...\")\n",
    "\n",
    "query = \"\"\"\n",
    "CREATE (alice:Person {name: \"Alice\"})-[:WORKS_FOR {since: 2020}]->(company:Company {name: \"DataCo\"})\n",
    "RETURN alice.name as person, company.name as company\n",
    "\"\"\"\n",
    "result = run_query(query)\n",
    "print(f\"✅ {result[0]['person']} works for {result[0]['company']}\\n\")"
   ]
  },
  {
   "cell_type": "code",
   "execution_count": null,
   "id": "15",
   "metadata": {
    "colab": {
     "base_uri": "https://localhost:8080/"
    },
    "id": "VqGTEpfK1FMV",
    "outputId": "54976789-1502-49d8-b076-009e6a6bf091"
   },
   "outputs": [],
   "source": [
    "# 4️⃣ MATCH and return nodes\n",
    "print(\"4️⃣ Finding all Person nodes...\")\n",
    "\n",
    "query = \"\"\"\n",
    "MATCH (p:Person)\n",
    "RETURN p.name as name, p.age as age\n",
    "ORDER BY p.name\n",
    "\"\"\"\n",
    "results = run_query(query)\n",
    "print(f\"✅ Found {len(results)} people:\")\n",
    "for person in results:\n",
    "    print(f\"   - {person['name']}, age: {person.get('age', 'N/A')}\")\n",
    "print()"
   ]
  },
  {
   "cell_type": "code",
   "execution_count": null,
   "id": "16",
   "metadata": {
    "colab": {
     "base_uri": "https://localhost:8080/"
    },
    "id": "hNlQH_FC1FMV",
    "outputId": "4a6d26b7-4d08-4ebd-cd78-7fa752d23fda"
   },
   "outputs": [],
   "source": [
    "# 5️⃣ MATCH patterns with relationships\n",
    "print(\"5️⃣ Finding who works for which companies...\")\n",
    "\n",
    "query = \"\"\"\n",
    "MATCH (p:Person)-[r:WORKS_FOR]->(c:Company)\n",
    "RETURN p.name as employee, c.name as company, r.since as since\n",
    "\"\"\"\n",
    "results = run_query(query)\n",
    "if results:\n",
    "    print(f\"✅ Found {len(results)} employment relationships:\")\n",
    "    for rel in results:\n",
    "        print(f\"   - {rel['employee']} → {rel['company']} (since {rel.get('since', 'unknown')})\")\n",
    "else:\n",
    "    print(\"No employment relationships found.\")\n",
    "print()"
   ]
  },
  {
   "cell_type": "code",
   "execution_count": null,
   "id": "17",
   "metadata": {
    "colab": {
     "base_uri": "https://localhost:8080/"
    },
    "id": "_JfZ9WP11FMW",
    "outputId": "713bb846-8dbb-4d64-defd-187f2220827a"
   },
   "outputs": [],
   "source": [
    "# 6️⃣ Use WHERE to filter results\n",
    "print(\"6️⃣ Finding people over age 30...\")\n",
    "\n",
    "query = \"\"\"\n",
    "MATCH (p:Person)\n",
    "WHERE p.age > 30\n",
    "RETURN p.name as name, p.age as age\n",
    "ORDER BY p.age DESC\n",
    "\"\"\"\n",
    "results = run_query(query)\n",
    "if results:\n",
    "    print(f\"✅ Found {len(results)} people over 30:\")\n",
    "    for person in results:\n",
    "        print(f\"   - {person['name']}: {person['age']} years old\")\n",
    "else:\n",
    "    print(\"No people over 30 found.\")\n",
    "print()"
   ]
  },
  {
   "cell_type": "code",
   "execution_count": null,
   "id": "18",
   "metadata": {
    "colab": {
     "base_uri": "https://localhost:8080/"
    },
    "id": "b1EaZkHw1FMX",
    "outputId": "e3cb3403-4902-48b9-a0cf-36e1a87d83e1"
   },
   "outputs": [],
   "source": [
    "# 7️⃣ Clean up test data\n",
    "print(\"7️⃣ Cleaning up test data...\")\n",
    "\n",
    "query = \"\"\"\n",
    "MATCH (n)\n",
    "DETACH DELETE n\n",
    "\"\"\"\n",
    "run_query(query)\n",
    "print(\"✅ All nodes and relationships deleted!\\n\")\n",
    "\n",
    "# Verify database is empty\n",
    "verify_query = \"MATCH (n) RETURN count(n) as count\"\n",
    "result = run_query(verify_query)\n",
    "print(f\"📊 Current node count: {result[0]['count']}\")"
   ]
  },
  {
   "cell_type": "markdown",
   "id": "19",
   "metadata": {
    "id": "VWleTeAn1FMX"
   },
   "source": [
    "### 🎯 Cypher Basics - Key Takeaways\n",
    "\n",
    "- Cypher uses **ASCII art** to represent graph patterns: `(node)-[:RELATIONSHIP]->(node)`\n",
    "- **CREATE** adds new data, **MATCH** finds existing patterns\n",
    "- Use **DETACH DELETE** to remove nodes and their relationships\n",
    "- Properties are specified in curly braces: `{name: \"Alice\", age: 30}`\n",
    "- Pattern matching is intuitive—just draw what you're looking for!\n",
    "- Cypher reads like English: \"Match this pattern, where this condition, return that\"\n",
    "\n",
    "Now that you understand basic Cypher, let's build a real knowledge graph! 🚀"
   ]
  },
  {
   "cell_type": "markdown",
   "id": "20",
   "metadata": {
    "id": "KjZLMy0R1FMX"
   },
   "source": [
    "---\n",
    "## 🏢 Part 4: Building a Knowledge Graph\n",
    "\n",
    "### Use Case: Company Organizational Knowledge Graph\n",
    "\n",
    "We'll build a knowledge graph representing a company's organizational structure. This is a common real-world use case where graph databases excel.\n",
    "\n",
    "### 📊 Our Graph Schema\n",
    "\n",
    "**Entities (Nodes):**\n",
    "- **Employee**: People who work at the company\n",
    "- **Department**: Organizational units\n",
    "- **Project**: Work initiatives\n",
    "- **Skill**: Technical and professional competencies\n",
    "\n",
    "**Relationships:**\n",
    "- **(Employee)-[:WORKS_IN]->(Department)**: Where someone works\n",
    "- **(Employee)-[:MANAGES]->(Employee)**: Organizational hierarchy\n",
    "- **(Employee)-[:ASSIGNED_TO]->(Project)**: Project assignments\n",
    "- **(Employee)-[:HAS_SKILL]->(Skill)**: Professional competencies\n",
    "\n",
    "### 💡 Why This Structure Matters\n",
    "\n",
    "This graph enables powerful queries like:\n",
    "- \"Who has Python skills in the Data Science department?\"\n",
    "- \"Show me the reporting chain from employee to CEO\"\n",
    "- \"Find colleagues who work on similar projects\"\n",
    "- \"Which departments collaborate on projects most?\"\n",
    "\n",
    "Let's create realistic mock data for our company!"
   ]
  },
  {
   "cell_type": "markdown",
   "id": "21",
   "metadata": {
    "id": "u6im4vLJ1FMY"
   },
   "source": [
    "### 📝 Important Note: Manual Data Creation for Learning\n",
    "\n",
    "In this notebook, we're **manually** creating mock data and then programmatically inserting it into Neo4j. This is intentional for educational purposes—it helps you:\n",
    "\n",
    "- ✅ **Understand what happens \"under the hood\"** when data enters a graph database\n",
    "- ✅ **Learn graph modeling** (deciding what should be nodes vs. relationships)\n",
    "- ✅ **See the schema design process** step by step\n",
    "- ✅ **Practice writing Cypher CREATE statements**\n",
    "\n",
    "### 🏭 What Happens in the Real World (covered in the following notebook)\n",
    "\n",
    "In production and in our next notebook, **node and relationship creation is automated**:\n",
    "\n",
    "- 🤖 **Bulk CSV imports**: Load millions of records from files automatically\n",
    "- 🤖 **ETL pipelines**: Extract data from other databases and transform it into graphs\n",
    "- 🤖 **API integrations**: Real-time data from user actions, IoT sensors, etc.\n",
    "- 🤖 **LLM-powered extraction**: Use AI to automatically extract entities and relationships from unstructured text (this is what we'll do in Notebook 2!)\n",
    "\n",
    "### 🎯 The Key Distinction\n",
    "\n",
    "- **You design the model once** (manual thinking): \"Employees should be nodes, WORKS_IN should be a relationship\"\n",
    "- **The data insertion is automated** (computer does it): Creating 100,000 employee nodes from a CSV file\n",
    "\n",
    "To insert data into Neo4j, we will create several functions. Let's get started!"
   ]
  },
  {
   "cell_type": "code",
   "execution_count": null,
   "id": "22",
   "metadata": {
    "colab": {
     "base_uri": "https://localhost:8080/"
    },
    "id": "nPwRHGUi1FMY",
    "outputId": "96916a1f-6c1c-4723-9647-02032252bb2d"
   },
   "outputs": [],
   "source": [
    "# 📝 Generate comprehensive mock data for our company knowledge graph\n",
    "\n",
    "# Employees with realistic details\n",
    "employees = [\n",
    "    {\"id\": \"emp001\", \"name\": \"Sarah Chen\", \"title\": \"VP of Data Science\", \"years_experience\": 12, \"email\": \"sarah.chen@company.com\"},\n",
    "    {\"id\": \"emp002\", \"name\": \"Marcus Johnson\", \"title\": \"Senior ML Engineer\", \"years_experience\": 7, \"email\": \"marcus.j@company.com\"},\n",
    "    {\"id\": \"emp003\", \"name\": \"Priya Patel\", \"title\": \"Data Scientist\", \"years_experience\": 4, \"email\": \"priya.p@company.com\"},\n",
    "    {\"id\": \"emp004\", \"name\": \"James Liu\", \"title\": \"ML Engineer\", \"years_experience\": 5, \"email\": \"james.liu@company.com\"},\n",
    "    {\"id\": \"emp005\", \"name\": \"Elena Rodriguez\", \"title\": \"Data Analyst\", \"years_experience\": 3, \"email\": \"elena.r@company.com\"},\n",
    "    {\"id\": \"emp006\", \"name\": \"David Kim\", \"title\": \"VP of Engineering\", \"years_experience\": 15, \"email\": \"david.kim@company.com\"},\n",
    "    {\"id\": \"emp007\", \"name\": \"Amy Zhang\", \"title\": \"Senior Backend Engineer\", \"years_experience\": 8, \"email\": \"amy.zhang@company.com\"},\n",
    "    {\"id\": \"emp008\", \"name\": \"Carlos Santos\", \"title\": \"Frontend Engineer\", \"years_experience\": 5, \"email\": \"carlos.s@company.com\"},\n",
    "    {\"id\": \"emp009\", \"name\": \"Lisa Anderson\", \"title\": \"DevOps Engineer\", \"years_experience\": 6, \"email\": \"lisa.a@company.com\"},\n",
    "    {\"id\": \"emp010\", \"name\": \"Mohammed Ali\", \"title\": \"Backend Engineer\", \"years_experience\": 4, \"email\": \"mohammed.a@company.com\"},\n",
    "    {\"id\": \"emp011\", \"name\": \"Sophie Martin\", \"title\": \"Product Manager\", \"years_experience\": 9, \"email\": \"sophie.m@company.com\"},\n",
    "    {\"id\": \"emp012\", \"name\": \"Raj Sharma\", \"title\": \"Product Designer\", \"years_experience\": 6, \"email\": \"raj.s@company.com\"},\n",
    "    {\"id\": \"emp013\", \"name\": \"Nina Williams\", \"title\": \"UX Researcher\", \"years_experience\": 5, \"email\": \"nina.w@company.com\"},\n",
    "    {\"id\": \"emp014\", \"name\": \"Alex Turner\", \"title\": \"CEO\", \"years_experience\": 20, \"email\": \"alex.turner@company.com\"},\n",
    "    {\"id\": \"emp015\", \"name\": \"Jennifer Lee\", \"title\": \"CTO\", \"years_experience\": 18, \"email\": \"jennifer.lee@company.com\"},\n",
    "    {\"id\": \"emp016\", \"name\": \"Robert Brown\", \"title\": \"Senior Data Scientist\", \"years_experience\": 8, \"email\": \"robert.b@company.com\"},\n",
    "    {\"id\": \"emp017\", \"name\": \"Maria Garcia\", \"title\": \"Junior ML Engineer\", \"years_experience\": 2, \"email\": \"maria.g@company.com\"},\n",
    "    {\"id\": \"emp018\", \"name\": \"Tom Wilson\", \"title\": \"Data Engineer\", \"years_experience\": 5, \"email\": \"tom.w@company.com\"},\n",
    "]\n",
    "\n",
    "# Departments with budgets\n",
    "departments = [\n",
    "    {\"id\": \"dept001\", \"name\": \"Data Science\", \"budget\": 2500000, \"location\": \"Building A\"},\n",
    "    {\"id\": \"dept002\", \"name\": \"Engineering\", \"budget\": 5000000, \"location\": \"Building B\"},\n",
    "    {\"id\": \"dept003\", \"name\": \"Product\", \"budget\": 1500000, \"location\": \"Building A\"},\n",
    "    {\"id\": \"dept004\", \"name\": \"Executive\", \"budget\": 3000000, \"location\": \"Building C\"},\n",
    "]\n",
    "\n",
    "# Projects with status and priority\n",
    "projects = [\n",
    "    {\"id\": \"proj001\", \"name\": \"Customer Churn Prediction\", \"status\": \"active\", \"priority\": \"high\", \"budget\": 500000},\n",
    "    {\"id\": \"proj002\", \"name\": \"Recommendation Engine v2\", \"status\": \"active\", \"priority\": \"high\", \"budget\": 750000},\n",
    "    {\"id\": \"proj003\", \"name\": \"Real-time Analytics Dashboard\", \"status\": \"active\", \"priority\": \"medium\", \"budget\": 300000},\n",
    "    {\"id\": \"proj004\", \"name\": \"Mobile App Redesign\", \"status\": \"planning\", \"priority\": \"medium\", \"budget\": 400000},\n",
    "    {\"id\": \"proj005\", \"name\": \"Data Pipeline Optimization\", \"status\": \"active\", \"priority\": \"high\", \"budget\": 350000},\n",
    "    {\"id\": \"proj006\", \"name\": \"NLP Chatbot\", \"status\": \"completed\", \"priority\": \"low\", \"budget\": 200000},\n",
    "    {\"id\": \"proj007\", \"name\": \"Fraud Detection System\", \"status\": \"active\", \"priority\": \"critical\", \"budget\": 900000},\n",
    "    {\"id\": \"proj008\", \"name\": \"Infrastructure Migration\", \"status\": \"active\", \"priority\": \"high\", \"budget\": 600000},\n",
    "    {\"id\": \"proj009\", \"name\": \"A/B Testing Platform\", \"status\": \"planning\", \"priority\": \"medium\", \"budget\": 250000},\n",
    "    {\"id\": \"proj010\", \"name\": \"Computer Vision API\", \"status\": \"active\", \"priority\": \"medium\", \"budget\": 450000},\n",
    "]\n",
    "\n",
    "# Skills taxonomy\n",
    "skills = [\n",
    "    {\"name\": \"Python\", \"category\": \"Programming\", \"level\": \"essential\"},\n",
    "    {\"name\": \"TensorFlow\", \"category\": \"ML Framework\", \"level\": \"advanced\"},\n",
    "    {\"name\": \"PyTorch\", \"category\": \"ML Framework\", \"level\": \"advanced\"},\n",
    "    {\"name\": \"SQL\", \"category\": \"Database\", \"level\": \"essential\"},\n",
    "    {\"name\": \"Neo4j\", \"category\": \"Database\", \"level\": \"specialized\"},\n",
    "    {\"name\": \"AWS\", \"category\": \"Cloud\", \"level\": \"essential\"},\n",
    "    {\"name\": \"Docker\", \"category\": \"DevOps\", \"level\": \"essential\"},\n",
    "    {\"name\": \"Kubernetes\", \"category\": \"DevOps\", \"level\": \"advanced\"},\n",
    "    {\"name\": \"React\", \"category\": \"Frontend\", \"level\": \"essential\"},\n",
    "    {\"name\": \"Node.js\", \"category\": \"Backend\", \"level\": \"essential\"},\n",
    "    {\"name\": \"NLP\", \"category\": \"AI Specialty\", \"level\": \"specialized\"},\n",
    "    {\"name\": \"Computer Vision\", \"category\": \"AI Specialty\", \"level\": \"specialized\"},\n",
    "    {\"name\": \"Scikit-learn\", \"category\": \"ML Framework\", \"level\": \"essential\"},\n",
    "    {\"name\": \"Apache Spark\", \"category\": \"Big Data\", \"level\": \"advanced\"},\n",
    "    {\"name\": \"Product Strategy\", \"category\": \"Business\", \"level\": \"specialized\"},\n",
    "]\n",
    "\n",
    "# Relationships: Employee works in Department\n",
    "works_in = [\n",
    "    (\"emp001\", \"dept001\"), (\"emp002\", \"dept001\"), (\"emp003\", \"dept001\"),\n",
    "    (\"emp004\", \"dept001\"), (\"emp005\", \"dept001\"), (\"emp016\", \"dept001\"),\n",
    "    (\"emp017\", \"dept001\"), (\"emp018\", \"dept001\"),\n",
    "    (\"emp006\", \"dept002\"), (\"emp007\", \"dept002\"), (\"emp008\", \"dept002\"),\n",
    "    (\"emp009\", \"dept002\"), (\"emp010\", \"dept002\"),\n",
    "    (\"emp011\", \"dept003\"), (\"emp012\", \"dept003\"), (\"emp013\", \"dept003\"),\n",
    "    (\"emp014\", \"dept004\"), (\"emp015\", \"dept004\"),\n",
    "]\n",
    "\n",
    "# Relationships: Manager manages Employee\n",
    "manages = [\n",
    "    (\"emp014\", \"emp015\"),  # CEO -> CTO\n",
    "    (\"emp014\", \"emp001\"),  # CEO -> VP Data Science\n",
    "    (\"emp014\", \"emp006\"),  # CEO -> VP Engineering\n",
    "    (\"emp015\", \"emp006\"),  # CTO -> VP Engineering\n",
    "    (\"emp001\", \"emp002\"),  # VP DS -> Senior ML Engineer\n",
    "    (\"emp001\", \"emp016\"),  # VP DS -> Senior Data Scientist\n",
    "    (\"emp002\", \"emp003\"),  # Senior ML -> Data Scientist\n",
    "    (\"emp002\", \"emp004\"),  # Senior ML -> ML Engineer\n",
    "    (\"emp016\", \"emp017\"),  # Senior DS -> Junior ML Engineer\n",
    "    (\"emp001\", \"emp018\"),  # VP DS -> Data Engineer\n",
    "    (\"emp001\", \"emp005\"),  # VP DS -> Data Analyst\n",
    "    (\"emp006\", \"emp007\"),  # VP Eng -> Senior Backend\n",
    "    (\"emp007\", \"emp010\"),  # Senior Backend -> Backend Engineer\n",
    "    (\"emp006\", \"emp008\"),  # VP Eng -> Frontend Engineer\n",
    "    (\"emp006\", \"emp009\"),  # VP Eng -> DevOps Engineer\n",
    "    (\"emp011\", \"emp012\"),  # PM -> Product Designer\n",
    "    (\"emp011\", \"emp013\"),  # PM -> UX Researcher\n",
    "]\n",
    "\n",
    "# Relationships: Employee assigned to Project\n",
    "assigned_to = [\n",
    "    (\"emp001\", \"proj001\"), (\"emp003\", \"proj001\"), (\"emp005\", \"proj001\"),\n",
    "    (\"emp002\", \"proj002\"), (\"emp004\", \"proj002\"), (\"emp016\", \"proj002\"),\n",
    "    (\"emp018\", \"proj003\"), (\"emp007\", \"proj003\"), (\"emp005\", \"proj003\"),\n",
    "    (\"emp008\", \"proj004\"), (\"emp012\", \"proj004\"), (\"emp013\", \"proj004\"),\n",
    "    (\"emp018\", \"proj005\"), (\"emp009\", \"proj005\"), (\"emp007\", \"proj005\"),\n",
    "    (\"emp004\", \"proj006\"), (\"emp003\", \"proj006\"),\n",
    "    (\"emp002\", \"proj007\"), (\"emp016\", \"proj007\"), (\"emp004\", \"proj007\"),\n",
    "    (\"emp009\", \"proj008\"), (\"emp007\", \"proj008\"), (\"emp010\", \"proj008\"),\n",
    "    (\"emp011\", \"proj009\"), (\"emp012\", \"proj009\"),\n",
    "    (\"emp003\", \"proj010\"), (\"emp017\", \"proj010\"),\n",
    "]\n",
    "\n",
    "# Relationships: Employee has Skill\n",
    "has_skill = [\n",
    "    # Sarah Chen - VP Data Science\n",
    "    (\"emp001\", \"Python\"), (\"emp001\", \"TensorFlow\"), (\"emp001\", \"AWS\"), (\"emp001\", \"SQL\"),\n",
    "    # Marcus Johnson - Senior ML Engineer\n",
    "    (\"emp002\", \"Python\"), (\"emp002\", \"TensorFlow\"), (\"emp002\", \"PyTorch\"), (\"emp002\", \"Docker\"),\n",
    "    # Priya Patel - Data Scientist\n",
    "    (\"emp003\", \"Python\"), (\"emp003\", \"Scikit-learn\"), (\"emp003\", \"SQL\"), (\"emp003\", \"NLP\"),\n",
    "    # James Liu - ML Engineer\n",
    "    (\"emp004\", \"Python\"), (\"emp004\", \"PyTorch\"), (\"emp004\", \"Docker\"), (\"emp004\", \"NLP\"),\n",
    "    # Elena Rodriguez - Data Analyst\n",
    "    (\"emp005\", \"Python\"), (\"emp005\", \"SQL\"), (\"emp005\", \"Scikit-learn\"),\n",
    "    # David Kim - VP Engineering\n",
    "    (\"emp006\", \"Python\"), (\"emp006\", \"AWS\"), (\"emp006\", \"Kubernetes\"), (\"emp006\", \"Docker\"),\n",
    "    # Amy Zhang - Senior Backend Engineer\n",
    "    (\"emp007\", \"Python\"), (\"emp007\", \"Node.js\"), (\"emp007\", \"SQL\"), (\"emp007\", \"Docker\"), (\"emp007\", \"AWS\"),\n",
    "    # Carlos Santos - Frontend Engineer\n",
    "    (\"emp008\", \"React\"), (\"emp008\", \"Node.js\"),\n",
    "    # Lisa Anderson - DevOps Engineer\n",
    "    (\"emp009\", \"Docker\"), (\"emp009\", \"Kubernetes\"), (\"emp009\", \"AWS\"),\n",
    "    # Mohammed Ali - Backend Engineer\n",
    "    (\"emp010\", \"Python\"), (\"emp010\", \"Node.js\"), (\"emp010\", \"SQL\"), (\"emp010\", \"Docker\"),\n",
    "    # Sophie Martin - Product Manager\n",
    "    (\"emp011\", \"Product Strategy\"), (\"emp011\", \"SQL\"),\n",
    "    # Raj Sharma - Product Designer\n",
    "    (\"emp012\", \"React\"),\n",
    "    # Nina Williams - UX Researcher\n",
    "    (\"emp013\", \"Product Strategy\"),\n",
    "    # Robert Brown - Senior Data Scientist\n",
    "    (\"emp016\", \"Python\"), (\"emp016\", \"TensorFlow\"), (\"emp016\", \"Scikit-learn\"), (\"emp016\", \"SQL\"),\n",
    "    # Maria Garcia - Junior ML Engineer\n",
    "    (\"emp017\", \"Python\"), (\"emp017\", \"TensorFlow\"), (\"emp017\", \"Computer Vision\"),\n",
    "    # Tom Wilson - Data Engineer\n",
    "    (\"emp018\", \"Python\"), (\"emp018\", \"SQL\"), (\"emp018\", \"Apache Spark\"), (\"emp018\", \"AWS\"),\n",
    "]\n",
    "\n",
    "print(f\"✅ Mock data generated!\")\n",
    "print(f\"   📊 {len(employees)} employees\")\n",
    "print(f\"   🏢 {len(departments)} departments\")\n",
    "print(f\"   📁 {len(projects)} projects\")\n",
    "print(f\"   🎯 {len(skills)} skills\")\n",
    "print(f\"   🔗 {len(works_in) + len(manages) + len(assigned_to) + len(has_skill)} relationships\")"
   ]
  },
  {
   "cell_type": "code",
   "execution_count": null,
   "id": "23",
   "metadata": {
    "colab": {
     "base_uri": "https://localhost:8080/"
    },
    "id": "AWwwEPJy1FMZ",
    "outputId": "76153be2-48d0-40e4-dd1b-154559f2f891"
   },
   "outputs": [],
   "source": [
    "# 🧹 Clear existing data to start fresh\n",
    "\n",
    "print(\"🧹 Clearing database...\")\n",
    "run_query(\"MATCH (n) DETACH DELETE n\")\n",
    "print(\"✅ Database cleared!\\n\")"
   ]
  },
  {
   "cell_type": "code",
   "execution_count": null,
   "id": "24",
   "metadata": {
    "colab": {
     "base_uri": "https://localhost:8080/"
    },
    "id": "pYm8vWEn1FMa",
    "outputId": "633edac4-fe41-4187-9f21-104557b2d6b1"
   },
   "outputs": [],
   "source": [
    "# 🏗️ Create Employee nodes\n",
    "\n",
    "def create_employees():\n",
    "    \"\"\"\n",
    "    Create all Employee nodes in the graph.\n",
    "    Uses UNWIND for efficient batch creation.\n",
    "    \"\"\"\n",
    "    query = \"\"\"\n",
    "    UNWIND $employees AS emp\n",
    "    CREATE (e:Employee {\n",
    "        id: emp.id,\n",
    "        name: emp.name,\n",
    "        title: emp.title,\n",
    "        years_experience: emp.years_experience,\n",
    "        email: emp.email\n",
    "    })\n",
    "    \"\"\"\n",
    "    run_query(query, {\"employees\": employees})\n",
    "    print(f\"✅ Created {len(employees)} Employee nodes\")\n",
    "\n",
    "create_employees()"
   ]
  },
  {
   "cell_type": "code",
   "execution_count": null,
   "id": "25",
   "metadata": {
    "colab": {
     "base_uri": "https://localhost:8080/"
    },
    "id": "sPJo4GXN1FMb",
    "outputId": "2fcde3fd-0733-4299-9cc1-d8e261c40537"
   },
   "outputs": [],
   "source": [
    "# 🏢 Create Department nodes\n",
    "\n",
    "def create_departments():\n",
    "    \"\"\"\n",
    "    Create all Department nodes in the graph.\n",
    "    \"\"\"\n",
    "    query = \"\"\"\n",
    "    UNWIND $departments AS dept\n",
    "    CREATE (d:Department {\n",
    "        id: dept.id,\n",
    "        name: dept.name,\n",
    "        budget: dept.budget,\n",
    "        location: dept.location\n",
    "    })\n",
    "    \"\"\"\n",
    "    run_query(query, {\"departments\": departments})\n",
    "    print(f\"✅ Created {len(departments)} Department nodes\")\n",
    "\n",
    "create_departments()"
   ]
  },
  {
   "cell_type": "code",
   "execution_count": null,
   "id": "26",
   "metadata": {
    "colab": {
     "base_uri": "https://localhost:8080/"
    },
    "id": "_73K3Mr21FMb",
    "outputId": "4b7c669d-b84b-4595-87f6-c660ab9f981c"
   },
   "outputs": [],
   "source": [
    "# 📁 Create Project nodes\n",
    "\n",
    "def create_projects():\n",
    "    \"\"\"\n",
    "    Create all Project nodes in the graph.\n",
    "    \"\"\"\n",
    "    query = \"\"\"\n",
    "    UNWIND $projects AS proj\n",
    "    CREATE (p:Project {\n",
    "        id: proj.id,\n",
    "        name: proj.name,\n",
    "        status: proj.status,\n",
    "        priority: proj.priority,\n",
    "        budget: proj.budget\n",
    "    })\n",
    "    \"\"\"\n",
    "    run_query(query, {\"projects\": projects})\n",
    "    print(f\"✅ Created {len(projects)} Project nodes\")\n",
    "\n",
    "create_projects()"
   ]
  },
  {
   "cell_type": "code",
   "execution_count": null,
   "id": "27",
   "metadata": {
    "colab": {
     "base_uri": "https://localhost:8080/"
    },
    "id": "VNL9DER-1FMc",
    "outputId": "5fffb95f-a717-4744-cf0b-9eb13c820217"
   },
   "outputs": [],
   "source": [
    "# 🎯 Create Skill nodes\n",
    "\n",
    "def create_skills():\n",
    "    \"\"\"\n",
    "    Create all Skill nodes in the graph.\n",
    "    \"\"\"\n",
    "    query = \"\"\"\n",
    "    UNWIND $skills AS skill\n",
    "    CREATE (s:Skill {\n",
    "        name: skill.name,\n",
    "        category: skill.category,\n",
    "        level: skill.level\n",
    "    })\n",
    "    \"\"\"\n",
    "    run_query(query, {\"skills\": skills})\n",
    "    print(f\"✅ Created {len(skills)} Skill nodes\")\n",
    "\n",
    "create_skills()"
   ]
  },
  {
   "cell_type": "code",
   "execution_count": null,
   "id": "28",
   "metadata": {
    "colab": {
     "base_uri": "https://localhost:8080/"
    },
    "id": "rbblN99k1FMc",
    "outputId": "62d58bb3-5aa8-42e8-a6a4-cde546e808f8"
   },
   "outputs": [],
   "source": [
    "# 🔗 Create all relationships\n",
    "\n",
    "def create_relationships():\n",
    "    \"\"\"\n",
    "    Create all relationships between nodes.\n",
    "    This establishes the graph structure.\n",
    "    \"\"\"\n",
    "    # WORKS_IN relationships\n",
    "    works_in_query = \"\"\"\n",
    "    UNWIND $relationships AS rel\n",
    "    MATCH (e:Employee {id: rel.emp_id})\n",
    "    MATCH (d:Department {id: rel.dept_id})\n",
    "    CREATE (e)-[:WORKS_IN]->(d)\n",
    "    \"\"\"\n",
    "    works_in_data = [{\"emp_id\": e, \"dept_id\": d} for e, d in works_in]\n",
    "    run_query(works_in_query, {\"relationships\": works_in_data})\n",
    "    print(f\"✅ Created {len(works_in)} WORKS_IN relationships\")\n",
    "\n",
    "    # MANAGES relationships\n",
    "    manages_query = \"\"\"\n",
    "    UNWIND $relationships AS rel\n",
    "    MATCH (manager:Employee {id: rel.manager_id})\n",
    "    MATCH (report:Employee {id: rel.report_id})\n",
    "    CREATE (manager)-[:MANAGES]->(report)\n",
    "    \"\"\"\n",
    "    manages_data = [{\"manager_id\": m, \"report_id\": r} for m, r in manages]\n",
    "    run_query(manages_query, {\"relationships\": manages_data})\n",
    "    print(f\"✅ Created {len(manages)} MANAGES relationships\")\n",
    "\n",
    "    # ASSIGNED_TO relationships\n",
    "    assigned_query = \"\"\"\n",
    "    UNWIND $relationships AS rel\n",
    "    MATCH (e:Employee {id: rel.emp_id})\n",
    "    MATCH (p:Project {id: rel.proj_id})\n",
    "    CREATE (e)-[:ASSIGNED_TO]->(p)\n",
    "    \"\"\"\n",
    "    assigned_data = [{\"emp_id\": e, \"proj_id\": p} for e, p in assigned_to]\n",
    "    run_query(assigned_query, {\"relationships\": assigned_data})\n",
    "    print(f\"✅ Created {len(assigned_to)} ASSIGNED_TO relationships\")\n",
    "\n",
    "    # HAS_SKILL relationships\n",
    "    skill_query = \"\"\"\n",
    "    UNWIND $relationships AS rel\n",
    "    MATCH (e:Employee {id: rel.emp_id})\n",
    "    MATCH (s:Skill {name: rel.skill_name})\n",
    "    CREATE (e)-[:HAS_SKILL]->(s)\n",
    "    \"\"\"\n",
    "    skill_data = [{\"emp_id\": e, \"skill_name\": s} for e, s in has_skill]\n",
    "    run_query(skill_query, {\"relationships\": skill_data})\n",
    "    print(f\"✅ Created {len(has_skill)} HAS_SKILL relationships\")\n",
    "\n",
    "create_relationships()"
   ]
  },
  {
   "cell_type": "code",
   "execution_count": null,
   "id": "29",
   "metadata": {
    "colab": {
     "base_uri": "https://localhost:8080/"
    },
    "id": "xVEBxgN71FMc",
    "outputId": "684f2bda-895d-41ed-9bb1-d87cc393565c"
   },
   "outputs": [],
   "source": [
    "# 🔍 Verify data load\n",
    "\n",
    "print(\"📊 Verifying knowledge graph structure...\\n\")\n",
    "\n",
    "# Count nodes by label\n",
    "node_query = \"\"\"\n",
    "MATCH (n)\n",
    "RETURN labels(n)[0] as label, count(*) as count\n",
    "ORDER BY count DESC\n",
    "\"\"\"\n",
    "node_results = run_query(node_query)\n",
    "print(\"📍 Nodes by type:\")\n",
    "for row in node_results:\n",
    "    print(f\"   {row['label']}: {row['count']}\")\n",
    "\n",
    "# Count relationships by type\n",
    "rel_query = \"\"\"\n",
    "MATCH ()-[r]->()\n",
    "RETURN type(r) as relationship, count(*) as count\n",
    "ORDER BY count DESC\n",
    "\"\"\"\n",
    "rel_results = run_query(rel_query)\n",
    "print(\"\\n🔗 Relationships by type:\")\n",
    "for row in rel_results:\n",
    "    print(f\"   {row['relationship']}: {row['count']}\")\n",
    "\n",
    "print(\"\\n✅ Knowledge graph successfully created!\")"
   ]
  },
  {
   "cell_type": "markdown",
   "id": "30",
   "metadata": {
    "id": "y5XPBcZJ1FMd"
   },
   "source": [
    "---\n",
    "## 🔍 Part 5: Pattern Matching & Traversal\n",
    "\n",
    "### The Power of Pattern Matching\n",
    "\n",
    "Now that our knowledge graph is built, we can unleash the real power of graph databases: **pattern matching** and **relationship traversal**. Unlike SQL joins that get slower with complexity, graph traversals maintain constant performance.\n",
    "\n",
    "### What We'll Explore\n",
    "\n",
    "- **Single-hop queries**: Direct relationships (employee → department)\n",
    "- **Multi-hop queries**: Chained relationships (employee → project → other employees)\n",
    "- **Variable-length paths**: Find connections within N degrees\n",
    "- **Aggregations**: Count, collect, and analyze patterns\n",
    "- **Pattern combinations**: Complex queries matching multiple patterns simultaneously\n",
    "\n",
    "### 💡 Key Point: Traversal Performance\n",
    "\n",
    "Neo4j's **index-free adjacency** means each node physically stores references to its connected relationships. Traversing from one node to another is a simple pointer lookup—no index searches required. This is why graph databases can traverse millions of relationships in milliseconds, while relational databases struggle with just a few joins.\n",
    "\n",
    "Let's explore with practical queries! 🚀"
   ]
  },
  {
   "cell_type": "code",
   "execution_count": null,
   "id": "31",
   "metadata": {
    "colab": {
     "base_uri": "https://localhost:8080/"
    },
    "id": "UXi3-UKc1FMe",
    "outputId": "349d0283-5543-4e42-a7f5-2e7c408c3af7"
   },
   "outputs": [],
   "source": [
    "# 1️⃣ Find all employees in a specific department\n",
    "print(\"1️⃣ Who works in the Data Science department?\\n\")\n",
    "\n",
    "query = \"\"\"\n",
    "MATCH (e:Employee)-[:WORKS_IN]->(d:Department {name: \"Data Science\"})\n",
    "RETURN e.name as name, e.title as title, e.years_experience as experience\n",
    "ORDER BY e.years_experience DESC\n",
    "\"\"\"\n",
    "results = run_query(query)\n",
    "print(f\"📊 Found {len(results)} Data Science employees:\\n\")\n",
    "for emp in results:\n",
    "    print(f\"   • {emp['name']} - {emp['title']} ({emp['experience']} years)\")\n",
    "print()"
   ]
  },
  {
   "cell_type": "code",
   "execution_count": null,
   "id": "32",
   "metadata": {
    "colab": {
     "base_uri": "https://localhost:8080/"
    },
    "id": "ip17biRZ1FMf",
    "outputId": "461ccd93-73a3-4f27-f027-010380cf2525"
   },
   "outputs": [],
   "source": [
    "# 2️⃣ Find organizational hierarchy (who manages whom)\n",
    "print(\"2️⃣ Organizational reporting structure:\\n\")\n",
    "\n",
    "query = \"\"\"\n",
    "MATCH (manager:Employee)-[:MANAGES]->(report:Employee)\n",
    "RETURN manager.name as manager, manager.title as manager_title,\n",
    "       report.name as report, report.title as report_title\n",
    "ORDER BY manager.name\n",
    "\"\"\"\n",
    "results = run_query(query)\n",
    "print(f\"📊 Found {len(results)} management relationships:\\n\")\n",
    "current_manager = None\n",
    "for rel in results[:10]:  # Show first 10 for brevity\n",
    "    if rel['manager'] != current_manager:\n",
    "        current_manager = rel['manager']\n",
    "        print(f\"\\n👤 {rel['manager']} ({rel['manager_title']}) manages:\")\n",
    "    print(f\"   └─ {rel['report']} ({rel['report_title']})\")\n",
    "print()"
   ]
  },
  {
   "cell_type": "code",
   "execution_count": null,
   "id": "33",
   "metadata": {
    "colab": {
     "base_uri": "https://localhost:8080/"
    },
    "id": "LW1bHbD_1FMg",
    "outputId": "461c5473-0c08-4547-9372-d2ca71889cfc"
   },
   "outputs": [],
   "source": [
    "# 3️⃣ Find employees with specific skills\n",
    "print(\"3️⃣ Who has TensorFlow skills?\\n\")\n",
    "\n",
    "query = \"\"\"\n",
    "MATCH (e:Employee)-[:HAS_SKILL]->(s:Skill {name: \"TensorFlow\"})\n",
    "RETURN e.name as name, e.title as title\n",
    "ORDER BY e.name\n",
    "\"\"\"\n",
    "results = run_query(query)\n",
    "print(f\"📊 Found {len(results)} employees with TensorFlow skills:\\n\")\n",
    "for emp in results:\n",
    "    print(f\"   🔧 {emp['name']} - {emp['title']}\")\n",
    "print()"
   ]
  },
  {
   "cell_type": "code",
   "execution_count": null,
   "id": "34",
   "metadata": {
    "colab": {
     "base_uri": "https://localhost:8080/"
    },
    "id": "VpwEtUyx1FMg",
    "outputId": "9058217f-2c81-4ca0-89bf-0fbff4d178aa"
   },
   "outputs": [],
   "source": [
    "# 4️⃣ Find employees working on high-priority projects\n",
    "print(\"4️⃣ Who's working on high-priority projects?\\n\")\n",
    "\n",
    "query = \"\"\"\n",
    "MATCH (e:Employee)-[:ASSIGNED_TO]->(p:Project)\n",
    "WHERE p.priority IN ['high', 'critical']\n",
    "RETURN p.name as project, p.priority as priority, p.status as status,\n",
    "       collect(e.name) as team_members\n",
    "ORDER BY\n",
    "    CASE p.priority\n",
    "        WHEN 'critical' THEN 1\n",
    "        WHEN 'high' THEN 2\n",
    "        ELSE 3\n",
    "    END\n",
    "\"\"\"\n",
    "results = run_query(query)\n",
    "print(f\"📊 Found {len(results)} high-priority projects:\\n\")\n",
    "for proj in results:\n",
    "    priority_emoji = \"🔴\" if proj['priority'] == 'critical' else \"🟠\"\n",
    "    print(f\"{priority_emoji} {proj['project']} [{proj['status']}]\")\n",
    "    print(f\"   Team: {', '.join(proj['team_members'])}\\n\")\n",
    "print()"
   ]
  },
  {
   "cell_type": "code",
   "execution_count": null,
   "id": "35",
   "metadata": {
    "colab": {
     "base_uri": "https://localhost:8080/"
    },
    "id": "9oR0pDMq1FMh",
    "outputId": "f0388f31-dd7d-41de-add6-288e24de7cc7"
   },
   "outputs": [],
   "source": [
    "# 5️⃣ Find colleagues (people in same department)\n",
    "print(\"5️⃣ Who are Sarah Chen's colleagues?\\n\")\n",
    "\n",
    "query = \"\"\"\n",
    "MATCH (sarah:Employee {name: \"Sarah Chen\"})-[:WORKS_IN]->(d:Department)<-[:WORKS_IN]-(colleague:Employee)\n",
    "WHERE sarah <> colleague\n",
    "RETURN colleague.name as name, colleague.title as title, d.name as department\n",
    "ORDER BY colleague.name\n",
    "\"\"\"\n",
    "results = run_query(query)\n",
    "print(f\"📊 Sarah Chen has {len(results)} colleagues in her department:\\n\")\n",
    "for col in results:\n",
    "    print(f\"   👥 {col['name']} - {col['title']}\")\n",
    "print()"
   ]
  },
  {
   "cell_type": "code",
   "execution_count": null,
   "id": "36",
   "metadata": {
    "colab": {
     "base_uri": "https://localhost:8080/"
    },
    "id": "Bl4r5gik1FMh",
    "outputId": "3e2c1648-2633-4373-887a-4110f318c5fc"
   },
   "outputs": [],
   "source": [
    "# 6️⃣ Skill overlap analysis\n",
    "print(\"6️⃣ Who shares the most skills with Sarah Chen?\\n\")\n",
    "\n",
    "query = \"\"\"\n",
    "MATCH (sarah:Employee {name: \"Sarah Chen\"})-[:HAS_SKILL]->(s:Skill)<-[:HAS_SKILL]-(colleague:Employee)\n",
    "WHERE sarah <> colleague\n",
    "RETURN colleague.name as name,\n",
    "       colleague.title as title,\n",
    "       count(s) as shared_skills,\n",
    "       collect(s.name) as skills\n",
    "ORDER BY shared_skills DESC\n",
    "LIMIT 5\n",
    "\"\"\"\n",
    "results = run_query(query)\n",
    "print(f\"📊 Top colleagues by shared skills with Sarah Chen:\\n\")\n",
    "for i, person in enumerate(results, 1):\n",
    "    print(f\"{i}. {person['name']} ({person['title']})\")\n",
    "    print(f\"   Shared skills ({person['shared_skills']}): {', '.join(person['skills'])}\\n\")\n",
    "print()"
   ]
  },
  {
   "cell_type": "code",
   "execution_count": null,
   "id": "37",
   "metadata": {
    "colab": {
     "base_uri": "https://localhost:8080/"
    },
    "id": "OPf4fS261FMi",
    "outputId": "f92751a7-9253-47aa-eead-6b35e4f2433a"
   },
   "outputs": [],
   "source": [
    "# 7️⃣ Project team composition\n",
    "print(\"7️⃣ Who's on the 'Customer Churn Prediction' team?\\n\")\n",
    "\n",
    "query = \"\"\"\n",
    "MATCH (e:Employee)-[:ASSIGNED_TO]->(p:Project {name: \"Customer Churn Prediction\"})\n",
    "RETURN p.name as project,\n",
    "       p.status as status,\n",
    "       p.priority as priority,\n",
    "       collect({name: e.name, title: e.title}) as team\n",
    "\"\"\"\n",
    "results = run_query(query)\n",
    "if results:\n",
    "    proj = results[0]\n",
    "    print(f\"📁 Project: {proj['project']}\")\n",
    "    print(f\"   Status: {proj['status']} | Priority: {proj['priority']}\\n\")\n",
    "    print(f\"   👥 Team Members ({len(proj['team'])}):\\n\")\n",
    "    for member in proj['team']:\n",
    "        print(f\"      • {member['name']} - {member['title']}\")\n",
    "print()"
   ]
  },
  {
   "cell_type": "code",
   "execution_count": null,
   "id": "38",
   "metadata": {
    "colab": {
     "base_uri": "https://localhost:8080/"
    },
    "id": "cKmHxU9J1FMj",
    "outputId": "af453fd3-955b-429e-901d-02ffa5a5c5b2"
   },
   "outputs": [],
   "source": [
    "# 8️⃣ Find paths between employees (relationship chains)\n",
    "print(\"8️⃣ How is Sarah Chen connected to Carlos Santos?\\n\")\n",
    "\n",
    "query = \"\"\"\n",
    "MATCH path = (sarah:Employee {name: \"Sarah Chen\"})-[*1..4]-(carlos:Employee {name: \"Carlos Santos\"})\n",
    "RETURN [node in nodes(path) | node.name] as connection_path,\n",
    "       [rel in relationships(path) | type(rel)] as relationship_types,\n",
    "       length(path) as path_length\n",
    "ORDER BY path_length\n",
    "LIMIT 3\n",
    "\"\"\"\n",
    "results = run_query(query)\n",
    "print(f\"📊 Found {len(results)} connection paths:\\n\")\n",
    "for i, path in enumerate(results, 1):\n",
    "    print(f\"Path {i} ({path['path_length']} degrees of separation):\")\n",
    "    for j in range(len(path['connection_path']) - 1):\n",
    "        print(f\"   {path['connection_path'][j]} --[{path['relationship_types'][j]}]--> \", end=\"\")\n",
    "    print(path['connection_path'][-1])\n",
    "    print()\n",
    "print()"
   ]
  },
  {
   "cell_type": "code",
   "execution_count": null,
   "id": "39",
   "metadata": {
    "colab": {
     "base_uri": "https://localhost:8080/"
    },
    "id": "25nvKrAi1FMk",
    "outputId": "7a716290-409f-444f-dabe-bbc6c8769a56"
   },
   "outputs": [],
   "source": [
    "# 9️⃣ Department budget analysis with employee count\n",
    "print(\"9️⃣ Department resource analysis:\\n\")\n",
    "\n",
    "query = \"\"\"\n",
    "MATCH (d:Department)\n",
    "OPTIONAL MATCH (e:Employee)-[:WORKS_IN]->(d)\n",
    "RETURN d.name as department,\n",
    "       d.budget as budget,\n",
    "       count(e) as employee_count,\n",
    "       d.budget / count(e) as budget_per_employee\n",
    "ORDER BY d.budget DESC\n",
    "\"\"\"\n",
    "results = run_query(query)\n",
    "print(f\"📊 Department Resource Allocation:\\n\")\n",
    "for dept in results:\n",
    "    print(f\"🏢 {dept['department']}\")\n",
    "    print(f\"   Budget: ${dept['budget']:,}\")\n",
    "    print(f\"   Employees: {dept['employee_count']}\")\n",
    "    print(f\"   Budget per employee: ${dept['budget_per_employee']:,.0f}\\n\")\n",
    "print()"
   ]
  },
  {
   "cell_type": "code",
   "execution_count": null,
   "id": "40",
   "metadata": {
    "colab": {
     "base_uri": "https://localhost:8080/"
    },
    "id": "tDqPMCeb1FMk",
    "outputId": "8441123c-1213-4496-96aa-2e2bb7ce8dcd"
   },
   "outputs": [],
   "source": [
    "# 🔟 Find potential collaborators (similar skills + different projects)\n",
    "print(\"🔟 Recommended collaborators for cross-team projects:\\n\")\n",
    "\n",
    "query = \"\"\"\n",
    "MATCH (e1:Employee {name: \"Priya Patel\"})-[:HAS_SKILL]->(s:Skill)<-[:HAS_SKILL]-(e2:Employee)\n",
    "MATCH (e1)-[:WORKS_IN]->(d1:Department), (e2)-[:WORKS_IN]->(d2:Department)\n",
    "WHERE e1 <> e2 AND d1 <> d2\n",
    "RETURN e2.name as name,\n",
    "       e2.title as title,\n",
    "       d2.name as department,\n",
    "       count(DISTINCT s) as shared_skills,\n",
    "       collect(DISTINCT s.name)[0..3] as sample_skills\n",
    "ORDER BY shared_skills DESC\n",
    "LIMIT 5\n",
    "\"\"\"\n",
    "results = run_query(query)\n",
    "print(f\"📊 Priya Patel should collaborate with:\\n\")\n",
    "for i, person in enumerate(results, 1):\n",
    "    print(f\"{i}. {person['name']} from {person['department']}\")\n",
    "    print(f\"   {person['title']}\")\n",
    "    print(f\"   {person['shared_skills']} shared skills: {', '.join(person['sample_skills'])}\\n\")\n",
    "print()"
   ]
  },
  {
   "cell_type": "code",
   "execution_count": null,
   "id": "41",
   "metadata": {
    "colab": {
     "base_uri": "https://localhost:8080/"
    },
    "id": "zvTDtPxG1FMl",
    "outputId": "5d9514d5-7d53-4c73-8b14-c8d9af1518ab"
   },
   "outputs": [],
   "source": [
    "# 1️⃣1️⃣ Multi-hop: Find employees by skill category, then their projects\n",
    "print(\"1️⃣1️⃣ What projects are ML experts working on?\\n\")\n",
    "\n",
    "query = \"\"\"\n",
    "MATCH (e:Employee)-[:HAS_SKILL]->(s:Skill)\n",
    "WHERE s.category = \"ML Framework\"\n",
    "MATCH (e)-[:ASSIGNED_TO]->(p:Project)\n",
    "RETURN DISTINCT p.name as project,\n",
    "       p.priority as priority,\n",
    "       collect(DISTINCT e.name) as ml_experts\n",
    "ORDER BY\n",
    "    CASE p.priority\n",
    "        WHEN 'critical' THEN 1\n",
    "        WHEN 'high' THEN 2\n",
    "        ELSE 3\n",
    "    END\n",
    "\"\"\"\n",
    "results = run_query(query)\n",
    "print(f\"📊 Projects with ML Framework experts:\\n\")\n",
    "for proj in results:\n",
    "    print(f\"📁 {proj['project']} [{proj['priority']}]\")\n",
    "    print(f\"   ML Experts: {', '.join(proj['ml_experts'])}\\n\")\n",
    "print()"
   ]
  },
  {
   "cell_type": "code",
   "execution_count": null,
   "id": "42",
   "metadata": {
    "colab": {
     "base_uri": "https://localhost:8080/"
    },
    "id": "pu_wt4Dk1FMl",
    "outputId": "033f0f7e-abb1-4d10-cc55-ba9f5480434a"
   },
   "outputs": [],
   "source": [
    "# 1️⃣2️⃣ Find the most in-demand skills\n",
    "print(\"1️⃣2️⃣ Most in-demand skills across the company:\\n\")\n",
    "\n",
    "query = \"\"\"\n",
    "MATCH (e:Employee)-[:HAS_SKILL]->(s:Skill)\n",
    "RETURN s.name as skill,\n",
    "       s.category as category,\n",
    "       count(e) as employee_count,\n",
    "       collect(e.name)[0..3] as sample_employees\n",
    "ORDER BY employee_count DESC\n",
    "LIMIT 10\n",
    "\"\"\"\n",
    "results = run_query(query)\n",
    "print(f\"📊 Top 10 Skills:\\n\")\n",
    "for i, skill in enumerate(results, 1):\n",
    "    print(f\"{i}. {skill['skill']} ({skill['category']})\")\n",
    "    print(f\"   {skill['employee_count']} employees have this skill\")\n",
    "    print(f\"   Including: {', '.join(skill['sample_employees'])}...\\n\")\n",
    "print()"
   ]
  },
  {
   "cell_type": "markdown",
   "id": "43",
   "metadata": {
    "id": "DSzvYvYe1FMm"
   },
   "source": [
    "---\n",
    "## 📊 Part 6: Visualizing Your Graph with Neo4j Browser\n",
    "\n",
    "### What is Neo4j Browser?\n",
    "\n",
    "**Neo4j Browser** is a built-in, interactive web interface that comes with Neo4j. It's the professional tool for exploring, querying, and visualizing graph databases. Think of it as a graphical SQL client, but for graphs!\n",
    "\n",
    "### 🎨 Features of Neo4j Browser\n",
    "\n",
    "- **Interactive graph visualization**: Click nodes to explore, expand relationships, see properties\n",
    "- **Built-in Cypher editor**: Write and execute queries with autocomplete\n",
    "- **Result visualization**: View results as graphs, tables, or JSON\n",
    "- **Query history**: Save and replay queries\n",
    "- **Graph styling**: Customize colors, sizes, and labels\n",
    "\n",
    "### 🌐 Accessing Neo4j Browser\n",
    "\n",
    "#### **In a Local Neo4j Installation:**\n",
    "When you run Neo4j on your computer (Neo4j Desktop or local server), you can access Neo4j Browser at:\n",
    "```\n",
    "http://localhost:7474/browser/\n",
    "```\n",
    "\n",
    "#### **In Google Colab (This Notebook):**\n",
    "\n",
    "⚠️ **Important Limitation**: Neo4j Browser runs on `localhost:7474`, which isn't directly accessible from Colab since Colab runs on Google's servers, not your local machine.\n",
    "\n",
    "**Your Options:**\n",
    "1. **For this exercise**: Use the query-based exploration below (shows results as tables)\n",
    "2. **For full visualization**: Install Neo4j Desktop on your computer and run these queries there\n",
    "3. **Alternative**: Use Neo4j Aura (cloud-hosted) which provides browser access from anywhere\n",
    "\n",
    "### 📋 Exploring Your Graph (Colab-Friendly Approach)\n",
    "\n",
    "Since we can't use Neo4j Browser directly in Colab, let's explore the graph using queries that return structured results. These same queries work beautifully in Neo4j Browser when run locally!"
   ]
  },
  {
   "cell_type": "code",
   "execution_count": null,
   "id": "44",
   "metadata": {
    "id": "i3hKxJfo1FMm"
   },
   "outputs": [],
   "source": [
    "# 📊 Exploration 1: Overview of the entire graph\n",
    "\n",
    "print(\"📊 Graph Overview: What's in our knowledge graph?\\n\")\n",
    "\n",
    "query = \"\"\"\n",
    "MATCH (n)\n",
    "WITH labels(n) as nodeType, count(*) as count\n",
    "RETURN nodeType, count\n",
    "ORDER BY count DESC\n",
    "\"\"\"\n",
    "\n",
    "results = run_query(query)\n",
    "print(\"Node Types:\")\n",
    "print(\"-\" * 40)\n",
    "for row in results:\n",
    "    print(f\"  {row['nodeType'][0]}: {row['count']} nodes\")\n",
    "\n",
    "query = \"\"\"\n",
    "MATCH ()-[r]->()\n",
    "WITH type(r) as relType, count(*) as count\n",
    "RETURN relType, count\n",
    "ORDER BY count DESC\n",
    "\"\"\"\n",
    "\n",
    "results = run_query(query)\n",
    "print(\"\\nRelationship Types:\")\n",
    "print(\"-\" * 40)\n",
    "for row in results:\n",
    "    print(f\"  {row['relType']}: {row['count']} relationships\")\n",
    "\n",
    "print(\"\\n✅ This gives you a bird's-eye view of your graph structure!\")\n",
    "print(\"💡 In Neo4j Browser, you'd see this as an interactive visualization.\")"
   ]
  },
  {
   "cell_type": "code",
   "execution_count": null,
   "id": "45",
   "metadata": {
    "colab": {
     "base_uri": "https://localhost:8080/"
    },
    "id": "QzD9pXu01FMm",
    "outputId": "4916693d-ff69-43e0-c026-741a72c2fdab"
   },
   "outputs": [],
   "source": [
    "# 📊 Exploration 2: Data Science Department subgraph\n",
    "\n",
    "print(\"📊 Exploring the Data Science Department structure\\n\")\n",
    "\n",
    "query = \"\"\"\n",
    "MATCH (d:Department {name: \"Data Science\"})<-[:WORKS_IN]-(e:Employee)\n",
    "OPTIONAL MATCH (e)-[:MANAGES]->(report:Employee)\n",
    "RETURN e.name as employee,\n",
    "       e.title as title,\n",
    "       CASE WHEN report IS NOT NULL THEN report.name ELSE 'No direct reports' END as manages\n",
    "ORDER BY e.years_experience DESC\n",
    "\"\"\"\n",
    "\n",
    "results = run_query(query)\n",
    "\n",
    "print(\"Data Science Department Structure:\")\n",
    "print(\"=\" * 80)\n",
    "for row in results:\n",
    "    print(f\"\\n👤 {row['employee']} ({row['title']})\")\n",
    "    if row['manages'] != 'No direct reports':\n",
    "        print(f\"   └─ Manages: {row['manages']}\")\n",
    "\n",
    "print(\"\\n💡 In Neo4j Browser:\")\n",
    "print(\"   • You'd see this as an interactive graph with nodes and arrows\")\n",
    "print(\"   • Click any employee to see their full details\")\n",
    "print(\"   • Expand to see more relationships\")"
   ]
  },
  {
   "cell_type": "code",
   "execution_count": null,
   "id": "46",
   "metadata": {
    "colab": {
     "base_uri": "https://localhost:8080/"
    },
    "id": "DAcBXSVd1FMn",
    "outputId": "61c311b5-aca5-40b5-bb93-a393ad59b554"
   },
   "outputs": [],
   "source": [
    "# 📊 Exploration 3: Project team network\n",
    "\n",
    "print(\"📊 Exploring the 'Fraud Detection System' project team\\n\")\n",
    "\n",
    "query = \"\"\"\n",
    "MATCH (p:Project {name: \"Fraud Detection System\"})<-[:ASSIGNED_TO]-(e:Employee)\n",
    "MATCH (e)-[:HAS_SKILL]->(s:Skill)\n",
    "RETURN e.name as employee,\n",
    "       e.title as title,\n",
    "       collect(s.name) as skills\n",
    "ORDER BY e.name\n",
    "\"\"\"\n",
    "\n",
    "results = run_query(query)\n",
    "\n",
    "print(\"Fraud Detection System - Project Team:\")\n",
    "print(\"=\" * 80)\n",
    "for row in results:\n",
    "    print(f\"\\n👤 {row['employee']} ({row['title']})\")\n",
    "    print(f\"   🎯 Skills: {', '.join(row['skills'][:5])}\")\n",
    "\n",
    "# Show project details\n",
    "query2 = \"\"\"\n",
    "MATCH (p:Project {name: \"Fraud Detection System\"})\n",
    "RETURN p.status as status, p.priority as priority, p.budget as budget\n",
    "\"\"\"\n",
    "result2 = run_query(query2)[0]\n",
    "\n",
    "print(f\"\\n📁 Project Details:\")\n",
    "print(f\"   Status: {result2['status']}\")\n",
    "print(f\"   Priority: {result2['priority']}\")\n",
    "print(f\"   Budget: ${result2['budget']:,}\")\n",
    "\n",
    "print(\"\\n💡 In Neo4j Browser:\")\n",
    "print(\"   • Nodes would be color-coded: Employees (blue), Project (red), Skills (purple)\")\n",
    "print(\"   • You could see all connections radiating from the central project node\")"
   ]
  },
  {
   "cell_type": "code",
   "execution_count": null,
   "id": "47",
   "metadata": {
    "colab": {
     "base_uri": "https://localhost:8080/"
    },
    "id": "mh7QHeRE1FMn",
    "outputId": "c140998b-64a4-4da6-b915-dada26257024"
   },
   "outputs": [],
   "source": [
    "# 📊 Exploration 4: Skill distribution across departments\n",
    "\n",
    "print(\"📊 Python Skill Network - Who knows Python?\\n\")\n",
    "\n",
    "query = \"\"\"\n",
    "MATCH (s:Skill {name: \"Python\"})<-[:HAS_SKILL]-(e:Employee)\n",
    "MATCH (e)-[:WORKS_IN]->(d:Department)\n",
    "RETURN d.name as department,\n",
    "       collect(e.name) as employees,\n",
    "       count(e) as employee_count\n",
    "ORDER BY employee_count DESC\n",
    "\"\"\"\n",
    "\n",
    "results = run_query(query)\n",
    "\n",
    "print(\"Python Skills by Department:\")\n",
    "print(\"=\" * 80)\n",
    "for row in results:\n",
    "    print(f\"\\n🏢 {row['department']} ({row['employee_count']} employees)\")\n",
    "    for emp in row['employees']:\n",
    "        print(f\"   • {emp}\")\n",
    "\n",
    "print(\"\\n💡 In Neo4j Browser:\")\n",
    "print(\"   • The 'Python' skill node would be at the center\")\n",
    "print(\"   • Lines connect it to all employees who have that skill\")\n",
    "print(\"   • Different colored nodes show which department each person is in\")"
   ]
  },
  {
   "cell_type": "code",
   "execution_count": null,
   "id": "48",
   "metadata": {
    "colab": {
     "base_uri": "https://localhost:8080/"
    },
    "id": "O5q2Dp4x1FMo",
    "outputId": "5a5babde-7060-44f3-96c1-353d386fe623"
   },
   "outputs": [],
   "source": [
    "# 📊 Exploration 5: Cross-department collaboration\n",
    "\n",
    "print(\"📊 Real-time Analytics Dashboard - Cross-Department Collaboration\\n\")\n",
    "\n",
    "query = \"\"\"\n",
    "MATCH (p:Project {name: \"Real-time Analytics Dashboard\"})<-[:ASSIGNED_TO]-(e:Employee)\n",
    "MATCH (e)-[:WORKS_IN]->(d:Department)\n",
    "RETURN d.name as department,\n",
    "       collect({name: e.name, title: e.title}) as team_members,\n",
    "       count(e) as count\n",
    "ORDER BY count DESC\n",
    "\"\"\"\n",
    "\n",
    "results = run_query(query)\n",
    "\n",
    "print(\"Cross-Department Collaboration on Analytics Dashboard:\")\n",
    "print(\"=\" * 80)\n",
    "\n",
    "total_people = sum(r['count'] for r in results)\n",
    "print(f\"\\n📊 Total team size: {total_people} people across {len(results)} departments\\n\")\n",
    "\n",
    "for row in results:\n",
    "    print(f\"\\n🏢 {row['department']} Department ({row['count']} people)\")\n",
    "    for member in row['team_members']:\n",
    "        print(f\"   • {member['name']} - {member['title']}\")\n",
    "\n",
    "print(\"\\n💡 In Neo4j Browser:\")\n",
    "print(\"   • You'd see the project node in the center\")\n",
    "print(\"   • Employee nodes from different departments clustered around it\")\n",
    "print(\"   • Department nodes showing organizational structure\")\n",
    "print(\"   • This instantly reveals cross-functional collaboration patterns!\")"
   ]
  },
  {
   "cell_type": "markdown",
   "id": "49",
   "metadata": {
    "id": "v_aZWySk1FMo"
   },
   "source": [
    "### 🎯 Neo4j Browser - Key Takeaways\n",
    "\n",
    "**What We Learned:**\n",
    "- Neo4j Browser is a powerful built-in visualization tool for exploring graph databases\n",
    "- It provides interactive, clickable graph visualizations\n",
    "- In Colab, we can't access it directly (since it runs on localhost:7474)\n",
    "- The same Cypher queries work in both environments—only the visualization differs\n",
    "\n",
    "**When to Use Neo4j Browser:**\n",
    "- ✅ **Exploring data**: Visually discover patterns and relationships\n",
    "- ✅ **Debugging queries**: See exactly what your Cypher returns\n",
    "- ✅ **Presentations**: Show stakeholders how data is connected\n",
    "- ✅ **Development**: Build and test queries interactively\n",
    "\n",
    "**How to Get Full Visualization Access:**\n",
    "1. **Install Neo4j Desktop** (free): Download from [neo4j.com/download](https://neo4j.com/download/)\n",
    "2. **Use Neo4j Aura** (cloud-based): Sign up at [neo4j.com/aura](https://neo4j.com/aura)\n",
    "3. **Run locally**: Follow the same installation steps from this notebook on your machine\n",
    "\n",
    "**💡 Pro Tip:** All the queries we ran above produce beautiful interactive graphs in Neo4j Browser. Try them locally to see the full visual experience!\n",
    "\n",
    "---\n",
    "\n",
    "Now let's move on to best practices for working with graph databases."
   ]
  },
  {
   "cell_type": "markdown",
   "id": "50",
   "metadata": {
    "id": "-vl8AbeO1FMo"
   },
   "source": [
    "### 📊 Matplotlib Visualizations for Colab\n",
    "\n",
    "Since we don't have direct access to Neo4j Browser in Colab, let's create **matplotlib visualizations** to see our graph structure! We'll use NetworkX to create graph layouts and matplotlib to render them with color-coded nodes.\n",
    "\n",
    "**What we'll visualize:**\n",
    "- Department organizational structure\n",
    "- Project team networks\n",
    "- Skill distribution across employees\n",
    "- Cross-department collaboration patterns\n",
    "\n",
    "Let's create our visualization function! 🎨"
   ]
  },
  {
   "cell_type": "code",
   "execution_count": null,
   "id": "51",
   "metadata": {
    "colab": {
     "base_uri": "https://localhost:8080/"
    },
    "id": "PM31Z0vU1FMo",
    "outputId": "56644753-5919-4514-b936-aa2c2cb3e9d9"
   },
   "outputs": [],
   "source": [
    "# 🎨 Create visualization function using NetworkX and Matplotlib\n",
    "\n",
    "def visualize_subgraph(query: str, title: str, node_colors: dict = None):\n",
    "    \"\"\"\n",
    "    Execute a Cypher query and visualize the resulting subgraph.\n",
    "\n",
    "    Args:\n",
    "        query: Cypher query that returns nodes and relationships\n",
    "        title: Title for the visualization\n",
    "        node_colors: Dictionary mapping node labels to colors\n",
    "    \"\"\"\n",
    "    # Default color scheme\n",
    "    if node_colors is None:\n",
    "        node_colors = {\n",
    "            'Employee': '#3498db',    # Blue\n",
    "            'Department': '#e74c3c',  # Red\n",
    "            'Project': '#2ecc71',     # Green\n",
    "            'Skill': '#f39c12'        # Orange\n",
    "        }\n",
    "\n",
    "    # Execute query to get graph data\n",
    "    with driver.session() as session:\n",
    "        result = session.run(query)\n",
    "\n",
    "        # Create NetworkX graph\n",
    "        G = nx.DiGraph()\n",
    "\n",
    "        # Process results\n",
    "        for record in result:\n",
    "            # Extract nodes and relationships from the result\n",
    "            for key in record.keys():\n",
    "                value = record[key]\n",
    "\n",
    "                # Handle nodes\n",
    "                if hasattr(value, 'labels') and hasattr(value, 'id'):\n",
    "                    node_id = value.id\n",
    "                    label = list(value.labels)[0] if value.labels else 'Unknown'\n",
    "                    name = value.get('name', value.get('title', f'Node{node_id}'))\n",
    "                    G.add_node(node_id, label=label, name=name, color=node_colors.get(label, '#95a5a6'))\n",
    "\n",
    "                # Handle relationships in path format\n",
    "                if hasattr(value, 'nodes') and hasattr(value, 'relationships'):\n",
    "                    # This is a path object\n",
    "                    for node in value.nodes:\n",
    "                        node_id = node.id\n",
    "                        label = list(node.labels)[0] if node.labels else 'Unknown'\n",
    "                        name = node.get('name', node.get('title', f'Node{node_id}'))\n",
    "                        G.add_node(node_id, label=label, name=name, color=node_colors.get(label, '#95a5a6'))\n",
    "\n",
    "                    for rel in value.relationships:\n",
    "                        G.add_edge(rel.start_node.id, rel.end_node.id, type=rel.type)\n",
    "\n",
    "    if len(G.nodes()) == 0:\n",
    "        print(f\"⚠️ No data returned from query for '{title}'\")\n",
    "        return\n",
    "\n",
    "    # Create visualization\n",
    "    plt.figure(figsize=(14, 10))\n",
    "\n",
    "    # Use spring layout for better visualization\n",
    "    pos = nx.spring_layout(G, k=2, iterations=50, seed=42)\n",
    "\n",
    "    # Draw nodes by type with different colors\n",
    "    for label_type, color in node_colors.items():\n",
    "        nodes_of_type = [n for n, d in G.nodes(data=True) if d.get('label') == label_type]\n",
    "        if nodes_of_type:\n",
    "            nx.draw_networkx_nodes(G, pos, nodelist=nodes_of_type,\n",
    "                                 node_color=color, node_size=800, alpha=0.9, label=label_type)\n",
    "\n",
    "    # Draw edges\n",
    "    nx.draw_networkx_edges(G, pos, edge_color='#7f8c8d', arrows=True,\n",
    "                          arrowsize=15, alpha=0.5, width=1.5, arrowstyle='->')\n",
    "\n",
    "    # Draw labels\n",
    "    labels = {n: d['name'][:15] for n, d in G.nodes(data=True)}  # Truncate long names\n",
    "    nx.draw_networkx_labels(G, pos, labels, font_size=8, font_weight='bold')\n",
    "\n",
    "    # Add legend and title\n",
    "    plt.title(title, fontsize=16, fontweight='bold', pad=20)\n",
    "    plt.legend(scatterpoints=1, loc='upper left', fontsize=10)\n",
    "    plt.axis('off')\n",
    "    plt.tight_layout()\n",
    "    plt.show()\n",
    "\n",
    "    print(f\"✅ Visualization complete: {len(G.nodes())} nodes, {len(G.edges())} relationships\\n\")\n",
    "\n",
    "print(\"✅ Visualization function created!\")"
   ]
  },
  {
   "cell_type": "code",
   "execution_count": null,
   "id": "52",
   "metadata": {
    "colab": {
     "base_uri": "https://localhost:8080/",
     "height": 553
    },
    "id": "R39x15sp1FMp",
    "outputId": "d9e0d17c-894f-4ccc-fe17-44c04859d08b"
   },
   "outputs": [],
   "source": [
    "# 📊 Visualization 1: Data Science Department Structure\n",
    "\n",
    "print(\"📊 Visualizing Data Science Department...\\n\")\n",
    "\n",
    "query = \"\"\"\n",
    "MATCH path = (d:Department {name: \"Data Science\"})<-[:WORKS_IN]-(e:Employee)\n",
    "OPTIONAL MATCH (e)-[r:MANAGES]->(report:Employee)\n",
    "RETURN path\n",
    "LIMIT 30\n",
    "\"\"\"\n",
    "\n",
    "visualize_subgraph(query, \"Data Science Department - Organizational Structure\")"
   ]
  },
  {
   "cell_type": "code",
   "execution_count": null,
   "id": "53",
   "metadata": {
    "colab": {
     "base_uri": "https://localhost:8080/",
     "height": 553
    },
    "id": "WHBvOBHA1FMp",
    "outputId": "eb692824-a408-431e-90c0-378c81666102"
   },
   "outputs": [],
   "source": [
    "# 📊 Visualization 2: Fraud Detection Project Team\n",
    "\n",
    "print(\"📊 Visualizing Fraud Detection System project team...\\n\")\n",
    "\n",
    "query = \"\"\"\n",
    "MATCH path = (p:Project {name: \"Fraud Detection System\"})<-[:ASSIGNED_TO]-(e:Employee)\n",
    "OPTIONAL MATCH (e)-[:HAS_SKILL]->(s:Skill)\n",
    "RETURN path\n",
    "LIMIT 30\n",
    "\"\"\"\n",
    "\n",
    "visualize_subgraph(query, \"Fraud Detection System - Project Team & Skills\")"
   ]
  },
  {
   "cell_type": "code",
   "execution_count": null,
   "id": "54",
   "metadata": {
    "colab": {
     "base_uri": "https://localhost:8080/",
     "height": 553
    },
    "id": "OdVQ7YIK1FMp",
    "outputId": "6f9c8851-f0fb-4532-8db8-66887f7a7d26"
   },
   "outputs": [],
   "source": [
    "# 📊 Visualization 3: Python Skill Network\n",
    "\n",
    "print(\"📊 Visualizing Python skill network...\\n\")\n",
    "\n",
    "query = \"\"\"\n",
    "MATCH path = (s:Skill {name: \"Python\"})<-[:HAS_SKILL]-(e:Employee)-[:WORKS_IN]->(d:Department)\n",
    "RETURN path\n",
    "LIMIT 25\n",
    "\"\"\"\n",
    "\n",
    "visualize_subgraph(query, \"Python Skill Distribution Across Departments\")"
   ]
  },
  {
   "cell_type": "code",
   "execution_count": null,
   "id": "55",
   "metadata": {
    "colab": {
     "base_uri": "https://localhost:8080/",
     "height": 553
    },
    "id": "hKhJ-Q901FMp",
    "outputId": "eeac0ca0-0845-48fa-a429-63e6e916ce53"
   },
   "outputs": [],
   "source": [
    "# 📊 Visualization 4: Cross-Department Collaboration\n",
    "\n",
    "print(\"📊 Visualizing cross-department collaboration on Analytics Dashboard...\\n\")\n",
    "\n",
    "query = \"\"\"\n",
    "MATCH path = (p:Project {name: \"Real-time Analytics Dashboard\"})<-[:ASSIGNED_TO]-(e:Employee)-[:WORKS_IN]->(d:Department)\n",
    "RETURN path\n",
    "LIMIT 20\n",
    "\"\"\"\n",
    "\n",
    "visualize_subgraph(query, \"Real-time Analytics Dashboard - Cross-Department Collaboration\")"
   ]
  },
  {
   "cell_type": "code",
   "execution_count": null,
   "id": "56",
   "metadata": {
    "colab": {
     "base_uri": "https://localhost:8080/",
     "height": 553
    },
    "id": "fAbolV311FMp",
    "outputId": "ff3d7ebf-4103-4d69-9917-bc1e41e8dfce"
   },
   "outputs": [],
   "source": [
    "# 📊 Visualization 5: Management Hierarchy\n",
    "\n",
    "print(\"📊 Visualizing management hierarchy from CEO...\\n\")\n",
    "\n",
    "query = \"\"\"\n",
    "MATCH path = (ceo:Employee {title: \"CEO\"})-[:MANAGES*1..3]->(report:Employee)\n",
    "RETURN path\n",
    "LIMIT 25\n",
    "\"\"\"\n",
    "\n",
    "visualize_subgraph(query, \"Organizational Management Hierarchy - Top 3 Levels\")"
   ]
  },
  {
   "cell_type": "markdown",
   "id": "57",
   "metadata": {
    "id": "rFwfxmCq1FMp"
   },
   "source": [
    "### 🎯 Visualization Key Takeaways\n",
    "\n",
    "**What These Visualizations Show:**\n",
    "- **Color-coded nodes**: Each entity type (Employee, Department, Project, Skill) has its own color\n",
    "- **Directed relationships**: Arrows show the direction of relationships (e.g., Employee → Department)\n",
    "- **Network patterns**: See how entities cluster and connect across the organization\n",
    "- **Graph structure**: Understand the shape and density of your knowledge graph\n",
    "\n",
    "**Insights from Our Visualizations:**\n",
    "1. **Department Structure**: Shows how employees are organized and who manages whom\n",
    "2. **Project Teams**: Reveals which employees work together and what skills they bring\n",
    "3. **Skill Distribution**: Identifies expertise across departments (e.g., Python is widely distributed)\n",
    "4. **Cross-Department Work**: Highlights collaboration patterns between departments\n",
    "5. **Management Hierarchy**: Shows reporting chains from leadership down\n",
    "\n",
    "**💡 Comparison to Neo4j Browser:**\n",
    "- These matplotlib visualizations work great in Colab and show the graph structure clearly\n",
    "- Neo4j Browser adds interactivity: click nodes to expand, filter, and explore dynamically\n",
    "- Both approaches are valuable: matplotlib for static analysis, Neo4j Browser for interactive exploration\n",
    "\n",
    "**Next Steps:**\n",
    "For production applications, consider:\n",
    "- **Plotly** or **Pyvis** for interactive web-based graph visualizations\n",
    "- **Neo4j Bloom** for business-user-friendly graph exploration\n",
    "- **Graph Data Science library** for advanced analytics (centrality, community detection, etc.)\n",
    "\n",
    "---\n",
    "\n",
    "Now you can see your graph database visually! Let's wrap up with next steps."
   ]
  },
  {
   "cell_type": "markdown",
   "id": "58",
   "metadata": {
    "id": "30CJgyjR1FMq"
   },
   "source": [
    "---\n",
    "## 🚀 Part 7: Next Steps and Extensions\n",
    "\n",
    "### 🔜 What's Next: Notebook 2 - GraphRAG\n",
    "\n",
    "In the next notebook, you'll take your graph database skills to the next level by combining them with:\n",
    "\n",
    "- **Vector embeddings** for semantic search\n",
    "- **LlamaIndex** for document ingestion and retrieval\n",
    "- **LLMs** for entity extraction and query generation\n",
    "- **Hybrid search** that leverages both graph relationships and vector similarity\n",
    "\n",
    "You'll learn how **GraphRAG** (Graph + Retrieval-Augmented Generation) provides better context and reduces hallucinations compared to traditional RAG systems.\n",
    "\n",
    "\n",
    "### 📖 Additional Resources\n",
    "\n",
    "- **Neo4j Documentation**: [neo4j.com/docs](https://neo4j.com/docs/)\n",
    "- **Cypher Manual**: [neo4j.com/docs/cypher-manual](https://neo4j.com/docs/cypher-manual/current/)\n",
    "- **Neo4j Graph Academy**: Free online courses at [neo4j.com/graphacademy](https://neo4j.com/graphacademy/)\n",
    "- **Graph Data Science Library**: Advanced algorithms for centrality, community detection, and more\n",
    "\n"
   ]
  },
  {
   "cell_type": "code",
   "execution_count": null,
   "id": "59",
   "metadata": {
    "colab": {
     "base_uri": "https://localhost:8080/"
    },
    "id": "ErPaDQYt1FMq",
    "outputId": "3c513f4d-875b-4ac8-9d0b-1279afd82438"
   },
   "outputs": [],
   "source": [
    "# 🧹 Optional: Clean up and close connections\n",
    "\n",
    "print(\"🧹 Closing Neo4j driver connection...\")\n",
    "driver.close()\n",
    "print(\"✅ Connection closed successfully!\")\n",
    "print(\"\\n👋 Thanks for learning graph databases with Neo4j!\")\n",
    "print(\"📚 See you in Notebook 2: GraphRAG with LlamaIndex! 🚀\")"
   ]
  }
 ],
 "metadata": {
  "colab": {
   "provenance": []
  },
  "kernelspec": {
   "display_name": "Python 3",
   "language": "python",
   "name": "python3"
  },
  "language_info": {
   "codemirror_mode": {
    "name": "ipython",
    "version": 3
   },
   "file_extension": ".py",
   "mimetype": "text/x-python",
   "name": "python",
   "nbconvert_exporter": "python",
   "pygments_lexer": "ipython3",
   "version": "3.10.0"
  }
 },
 "nbformat": 4,
 "nbformat_minor": 5
}
