{
 "cells": [
  {
   "cell_type": "markdown",
   "id": "0",
   "metadata": {
    "id": "88f36011"
   },
   "source": [
    "# Sematic Search with Pinecone\n",
    "\n",
    "Pinecone is a managed vector database that’s designed to scale semantic search and retrieval without worrying about the underlying infrastructure. Unlike local options like ChromaDB, Pinecone runs in the cloud, so it’s especially useful when:\n",
    "- You need to handle large collections (millions or even billions of vectors).\n",
    "- You want high availability and low-latency queries without managing servers yourself.\n",
    "- You care about production-grade reliability. Pinecone takes care of sharding (splitting the data into smaller chunks called shards), replication and indexing behind the scenes.\n",
    "\n",
    "We'll explore how to do semantic search with this database. The workflow will feel familiar:\n",
    "1. connecting to a Pinecone index\n",
    "2. inserting documents as vectors\n",
    "3. running semantic queries to retrieve the most relevant results"
   ]
  },
  {
   "cell_type": "markdown",
   "id": "1",
   "metadata": {},
   "source": [
    "# Setup: Installing Required Libraries\n",
    "\n",
    "Before we begin, we need to install the necessary Python libraries. Run the cell below to install all dependencies for this notebook."
   ]
  },
  {
   "cell_type": "code",
   "execution_count": null,
   "id": "2",
   "metadata": {},
   "outputs": [],
   "source": [
    "# Install required libraries\n",
    "!pip install -q pinecone==7.3.0 transformers==4.55.0 pandas==2.3.1 sentence-transformers==3.3.1 torch==2.5.1\n",
    "\n",
    "print(\"✅ All libraries installed successfully!\")"
   ]
  },
  {
   "cell_type": "markdown",
   "id": "3",
   "metadata": {
    "id": "4edfecf5"
   },
   "source": [
    "# 1. Loading the Data and Basic Preprocessing"
   ]
  },
  {
   "cell_type": "code",
   "execution_count": null,
   "id": "4",
   "metadata": {
    "id": "9a0599fd"
   },
   "outputs": [],
   "source": [
    "import pandas as pd\n",
    "import os\n",
    "from pinecone import Pinecone, ServerlessSpec"
   ]
  },
  {
   "cell_type": "markdown",
   "id": "5",
   "metadata": {
    "id": "399d4e26-4195-4dc9-8146-24b25668d96f"
   },
   "source": [
    "Let's load the data we'll be working with. The original dataset contains 2,500 articles published on the website Medium:"
   ]
  },
  {
   "cell_type": "code",
   "execution_count": null,
   "id": "6",
   "metadata": {
    "id": "0dea2982"
   },
   "outputs": [],
   "source": [
    "# Loading\n",
    "data = pd.read_csv(\"articles.csv\")"
   ]
  },
  {
   "cell_type": "markdown",
   "id": "7",
   "metadata": {
    "id": "ad104c50-df8b-48f5-b5e6-ce9665e43f85"
   },
   "source": [
    "Each row in the DataFrame represents 1 article. For each article, we have both the full text and a set of useful descriptive columns such as authors, timestamp and tags."
   ]
  },
  {
   "cell_type": "code",
   "execution_count": null,
   "id": "8",
   "metadata": {
    "id": "43bd1b9f-11f7-4f47-a741-02b7c90cb1cc",
    "outputId": "221d6663-4502-42e5-ad59-6d3b43dd2569"
   },
   "outputs": [],
   "source": [
    "# Inspecting\n",
    "data.head()"
   ]
  },
  {
   "cell_type": "markdown",
   "id": "9",
   "metadata": {
    "id": "9f79a630-cf85-420e-a633-579432c80a6e"
   },
   "source": [
    "The full body of the article is stored in \"text\" column:"
   ]
  },
  {
   "cell_type": "code",
   "execution_count": null,
   "id": "10",
   "metadata": {
    "id": "cd1a5cee-f097-457d-8d6f-fc2ca0c89a56",
    "outputId": "71230b5e-8d77-4303-e72b-25e13e13168a"
   },
   "outputs": [],
   "source": [
    "data.text[10]"
   ]
  },
  {
   "cell_type": "markdown",
   "id": "11",
   "metadata": {
    "id": "b76d08b5-8195-4325-ba1a-095c9d4067dd"
   },
   "source": [
    "The original article can be accessed via URL address stored in \"url\" column:"
   ]
  },
  {
   "cell_type": "code",
   "execution_count": null,
   "id": "12",
   "metadata": {
    "id": "5ccbc939-eaab-4d42-b848-c9afbdb63921",
    "outputId": "77e77aef-5c76-4938-9312-74f1e73c8443"
   },
   "outputs": [],
   "source": [
    "data.url[10]"
   ]
  },
  {
   "cell_type": "markdown",
   "id": "13",
   "metadata": {
    "id": "156915a8-812c-4fdb-b1d6-34c1a788233f"
   },
   "source": [
    "Let's make some basic preprocessing of the data:"
   ]
  },
  {
   "cell_type": "code",
   "execution_count": null,
   "id": "14",
   "metadata": {
    "id": "658ebfcf-a43e-4a78-b7df-e73874718629"
   },
   "outputs": [],
   "source": [
    "# Ensure the text is a string and strip whitespace\n",
    "data[\"text\"] = data[\"text\"].astype(str).str.strip()"
   ]
  },
  {
   "cell_type": "code",
   "execution_count": null,
   "id": "15",
   "metadata": {
    "id": "24eef56c-723a-42d0-b069-7b2ba0866130"
   },
   "outputs": [],
   "source": [
    "# Converting values in \"tags\" column to Python lists (so that we can filter results by tags later on)\n",
    "import ast\n",
    "data[\"tags\"] = data[\"tags\"].apply(lambda x: ast.literal_eval(x) if isinstance(x, str) else x)"
   ]
  },
  {
   "cell_type": "code",
   "execution_count": null,
   "id": "16",
   "metadata": {
    "id": "4e08eeb3-1df2-4d0b-bc30-59e649bc2c23"
   },
   "outputs": [],
   "source": [
    "# Converting values in \"authors\" column to Python lists (so that we can filter results by authors later on)\n",
    "data[\"authors\"] = data[\"authors\"].apply(lambda x: x if isinstance(x, list) else (ast.literal_eval(x) if pd.notna(x) else []))"
   ]
  },
  {
   "cell_type": "code",
   "execution_count": null,
   "id": "17",
   "metadata": {
    "id": "59979040-8605-4e5a-9a07-02b553e4b64d",
    "outputId": "6e33d7da-9d21-46a6-a5cb-96cd7ef062d1"
   },
   "outputs": [],
   "source": [
    "# Checking the types after conversion\n",
    "print(type(data.tags[0]),\n",
    "      type(data.authors[0]) )"
   ]
  },
  {
   "cell_type": "code",
   "execution_count": null,
   "id": "18",
   "metadata": {
    "id": "08cac496-8a93-4922-bcbf-97b9a68ae41c"
   },
   "outputs": [],
   "source": [
    "# \"timestamp\" holds the original timestamps - converting them to pandas Datetime objects\n",
    "ts = pd.to_datetime(data[\"timestamp\"], utc=True, format=\"mixed\", errors=\"coerce\")\n",
    "\n",
    "# ISO 8601 formatted string version of the timestamp for display purposes\n",
    "data[\"timestamp_iso\"] = ts.dt.strftime(\"%Y-%m-%dT%H:%M:%SZ\")\n",
    "\n",
    "# Exctracting just the year from the timestamp (so that we can filter results by year later on)\n",
    "data[\"year\"] = ts.dt.year.astype(\"Int64\")"
   ]
  },
  {
   "cell_type": "markdown",
   "id": "19",
   "metadata": {
    "id": "44a88b1c"
   },
   "source": [
    "# 2. Creating Pinecone Account  \n",
    "\n",
    "First, sign up for a Pinecone account at their website - there’s **a free Starter plan**. Navigate to **API Keys** section and click \"Create API key\". **Store it safely** because you won’t be able to see it again once you close the dialog. You'll use this API key to authenticate your notebook when it interacts with Pinecone.\n",
    "\n",
    "You can make your Pinecone API key load automatically every time your terminal starts by adding it to your shell startup file. Open the terminal and type `nano ~/.zshrc`. At the end of the file, add: `export PINECONE_API_KEY=\"your_api_key\"`. Save and exit. Then reload your shell config (so the change applies immediately) using `source ~/.zshrc`.\n",
    "\n",
    "Now, we'll create a client for interacting with the Pinecone account:"
   ]
  },
  {
   "cell_type": "code",
   "execution_count": null,
   "id": "20",
   "metadata": {},
   "outputs": [],
   "source": [
    "import os\n",
    "\n",
    "# Configure Pinecone API key\n",
    "PINECONE_API_KEY = None\n",
    "\n",
    "try:\n",
    "    from google.colab import userdata  # type: ignore\n",
    "    PINECONE_API_KEY = userdata.get('PINECONE_API_KEY')\n",
    "    if PINECONE_API_KEY:\n",
    "        print('✅ API key loaded from Colab secrets')\n",
    "except Exception:\n",
    "    pass\n",
    "\n",
    "if not PINECONE_API_KEY:\n",
    "    PINECONE_API_KEY = os.getenv('PINECONE_API_KEY')\n",
    "\n",
    "if not PINECONE_API_KEY:\n",
    "    try:\n",
    "        from getpass import getpass\n",
    "        print('💡 To use Colab secrets: Go to 🔑 (left sidebar) → Add new secret → Name: PINECONE_API_KEY')\n",
    "        PINECONE_API_KEY = getpass('Enter your Pinecone API Key: ')\n",
    "    except Exception as exc:\n",
    "        raise ValueError('❌ ERROR: No API key provided! Set PINECONE_API_KEY as an environment variable or Colab secret.') from exc\n",
    "\n",
    "if not PINECONE_API_KEY or PINECONE_API_KEY.strip() == '':\n",
    "    raise ValueError('❌ ERROR: No API key provided!')\n",
    "\n",
    "os.environ['PINECONE_API_KEY'] = PINECONE_API_KEY\n",
    "\n",
    "print('✅ Pinecone authentication configured!')"
   ]
  },
  {
   "cell_type": "code",
   "execution_count": null,
   "id": "21",
   "metadata": {
    "id": "76f0793e"
   },
   "outputs": [],
   "source": [
    "# Client\n",
    "pinecone_client = Pinecone(api_key=PINECONE_API_KEY)"
   ]
  },
  {
   "cell_type": "markdown",
   "id": "22",
   "metadata": {
    "id": "c1jFSoZsEqa2"
   },
   "source": [
    "# 3. Types of Indexes for Vector Embeddings\n",
    "\n",
    "Okay, we've covered the essentials: loading the data and setting up Pinecone client. Now, it's time to understand how Pinecone actually **stores and searches our data**. We'll begin with indexes.\n",
    "\n",
    "Pinecone utilizes 2 types of indexes for vector embeddings:\n",
    "\n",
    "a) **dense indexes**:\n",
    "- they store dense vectors which are numerical representations of data trasnformed into a vector of **floating-pont numbers**\n",
    "- they are **fundamental for semantic search** = allow a system to understand the user's **intent** and **the contextual meaning of a query**, rather than relying on exact keyword matching\n",
    "- *Example:  a search for \"what to wear in cold weather\" could yield results for \"winter coats\" or \"wool sweaters\", even if those exact words are not in the query*\n",
    "\n",
    "b) **sparse indexes**:\n",
    "- they store sparse vectors, which primarily represent **keyword information**\n",
    "- they have most of their values as zero, with only a few non-zero values indicating the presence or importance of specific terms\n",
    "- effective at **keyword matching**\n",
    "- useful when precision is required for **specific entities**, such as product names, part numbers, or unique identifiers, where an exact term match is crucial\n",
    "\n",
    "\n",
    "\n"
   ]
  },
  {
   "cell_type": "markdown",
   "id": "23",
   "metadata": {
    "id": "-fIl7nLttrby"
   },
   "source": [
    "## 3.1 Creating an Index\n",
    "\n",
    "Now, we will create a dense index using `create_index()`. We also need to decide how many dimensions each stored vector will have by specifing `dimension` parameter. This value **must exactly match the size of the vectors produced by our embedding model**.\n",
    "\n",
    "In our demo, we’ll use the Hugging Face model `all-MiniLM-L6-v2` (Section 4. Creating Embeddings). According to its model card, this model **maps each sentence or paragraph to a 384-dimensional dense vector**. That means every embedding it produces is an array of 384 numbers.\n",
    "\n",
    "If our Index was created with a different dimension value, Pinecone would reject our data because the vectors wouldn’t \"fit\" the index structure.\n",
    "\n",
    "Paramer `metric` specifies how Pinecone measures similarity between vectors. We'll set **\"cosine\"** which compares their orientation (angle) rather than magnitude, making it ideal for semantic similarity tasks like our text search.\n",
    "\n",
    "Finally, we will specify `cloud` and `region` to tell Pinecone **where we want our index deployed**, letting Pinecone manage the infrastructure automatically.\n",
    "\n",
    "> NOTE: On the free Starter plan, we can create serverless indexes in **\"us-east-1\" region of AWS only**."
   ]
  },
  {
   "cell_type": "code",
   "execution_count": null,
   "id": "24",
   "metadata": {
    "colab": {
     "base_uri": "https://localhost:8080/",
     "height": 469
    },
    "id": "2976d1d4-b792-4573-b705-27d59013815b",
    "outputId": "a61385e5-5c81-4b8f-e2c9-ff5970470b89"
   },
   "outputs": [],
   "source": [
    "# Creating an Index\n",
    "pinecone_client.create_index(name = \"demo-articles\",\n",
    "                             dimension = 384,\n",
    "                             metric = \"cosine\",\n",
    "                             spec = ServerlessSpec(\n",
    "                                 cloud = \"aws\",\n",
    "                                 region = \"us-east-1\"\n",
    "                             ))"
   ]
  },
  {
   "cell_type": "markdown",
   "id": "25",
   "metadata": {},
   "source": [
    "### 📝 EXERCISE 1: Inspect Your Pinecone Index (3-5 minutes)\n",
    "\n",
    "**What you'll practice:** Understanding Pinecone index properties and configuration.\n",
    "\n",
    "**Your task:**\n",
    "1. Use the Pinecone client to describe your index and check its stats\n",
    "2. Print out key information: dimension size, metric type, and total vector count\n",
    "3. Think about: Why does the dimension size matter? What would happen if you tried to insert vectors of a different size?\n",
    "\n",
    "**Hint:** You can use `pc.describe_index(INDEX_NAME)` to get index details and `index.describe_index_stats()` to see statistics.\n",
    "\n",
    "**Expected outcome:** You should see that your index is configured for 384-dimensional vectors (matching the embedding model) and uses cosine similarity metric."
   ]
  },
  {
   "cell_type": "code",
   "execution_count": null,
   "id": "26",
   "metadata": {},
   "outputs": [],
   "source": [
    "# YOUR CODE HERE\n",
    "# Example solution structure:\n",
    "# index_info = pc.describe_index(INDEX_NAME)\n",
    "# print(\"Index configuration:\")\n",
    "# print(f\"  Dimension: {index_info.dimension}\")\n",
    "# print(f\"  Metric: {index_info.metric}\")\n",
    "# \n",
    "# stats = index.describe_index_stats()\n",
    "# print(f\"\\nIndex statistics:\")\n",
    "# print(f\"  Total vectors: {stats.get('total_vector_count', 0)}\")"
   ]
  },
  {
   "cell_type": "markdown",
   "id": "27",
   "metadata": {
    "id": "02cd4217-182c-4920-b9d7-9ed6726c7566"
   },
   "source": [
    "The output above confirms that the Pinecone index \"demo-articles\" has been successfully created and is ready to use. If you go back to your Pinecone dashboard and refresh, you should see \"demo-articles\" listed under your indexes.\n",
    "\n",
    "When you click on the index, you’ll see that Record Count shows 0, meaning no vectors have been inserted yet. The Browser tab lists all records stored in the index, so right now it’s an empty space (\"No records yet\"). This is expected, we’ve only created the index structure."
   ]
  },
  {
   "cell_type": "code",
   "execution_count": null,
   "id": "28",
   "metadata": {},
   "outputs": [],
   "source": [
    "# Connect to the index\n",
    "index_name = \"demo-articles\"\n",
    "index = pinecone_client.Index(index_name)\n",
    "\n",
    "print(f\"✅ Connected to index: {index_name}\")"
   ]
  },
  {
   "cell_type": "markdown",
   "id": "29",
   "metadata": {
    "id": "pIhkl2yDF1-U"
   },
   "source": [
    "![Snímka obrazovky 2025-09-18 o 15.50.20.png](data:image/png;base64,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)"
   ]
  },
  {
   "cell_type": "markdown",
   "id": "30",
   "metadata": {
    "id": "ONQVTdfxxrQt"
   },
   "source": [
    "# 4. Creating Embeddings\n",
    "\n",
    "To generate vector representations (embeddings) of our text, we need an embedding model. We'll use small and efficient `all-MiniLM-L6-v2` model from Hugging Face’s `sentence-transformers` library. You can read more about this model on [Hugging Face](https://huggingface.co/sentence-transformers/all-MiniLM-L6-v2).\n",
    "\n",
    "We use `SentenceTransformer()` to download the model weights, configuration and tokenizer from Hugging Face and set up everything needed to compute embeddings:"
   ]
  },
  {
   "cell_type": "code",
   "execution_count": null,
   "id": "31",
   "metadata": {
    "colab": {
     "base_uri": "https://localhost:8080/",
     "height": 491,
     "referenced_widgets": [
      "b4997dd5adab4af7893c2a780da7b256",
      "41e18397bccc4723a2f50e259176ffb8",
      "7bbd134ebc3947dc92b2bd8521e098b9",
      "c31299017b2246f4b0c0182e5b1eed41",
      "9f208b757ca34f92b227d429f8a3bfa2",
      "8ed7835f0db0453f8e6d32ec6615a2ee",
      "e2a3740dfc5d457ab8148cac8f3ee0c6",
      "30fcf84ced5d4c2eb2d2c56704d9746a",
      "56edbcf8846744d586421c481fe0a50e",
      "ea6873a16e494d29ad9ceebfe5c61b08",
      "24906da219934a46af699b718b084eaa",
      "0497827077b24b88afa9511a6f406244",
      "245f61c49a14406a944fd3644853c81c",
      "126f65707fb34defbbb4e1aff6ca28c7",
      "6a66cc1c8588428f8c8f4ec87bda309f",
      "a66c2c4d97d9439d926183ebbea7786a",
      "c4eeb589c7df498bb6652436a8117bff",
      "d8ad4e605a314001bb866e0dd8c16978",
      "a086900e095c4d8786fa132c692036ee",
      "e1e40741fc244000884e00732fa1155c",
      "2111df918431441e808e155b85fec83e",
      "4ae52b1b38964bcaa92901cca67fa79b",
      "0a4b6321e4a14ee9ae981fa4e1315885",
      "7db83c6e8cda4f12bc2adcd9c66bf71c",
      "0c01479196064f118f13358c34eb238f",
      "3bba0ad8e9d14d87a3fc6a7c434cec73",
      "8beacc332cbf46cb893c5e2a29a41a79",
      "84516120ed5e4709b8d1bb0cd919680b",
      "ac97c7bf39a54d84957e759d3b90f1cb",
      "7aa69aceebac44eb9e0a089c6cdf731d",
      "a8c7ada9fdd34587a46f8a2a37316a3f",
      "34547c0a8c25481192cd45189acf0ea6",
      "cd165c918e69444d94804b6e546160ee",
      "3749007244dd4928b0659e15d0175cda",
      "db5f3050bbb6488ebf30d532ee494f57",
      "7328da638f464eb9a3c2c93d61027240",
      "36fa5aaa3be34e7dbecd52a8f46a49a3",
      "6cc7e431ba604740b76764cd12269a76",
      "35b4f4e5bb25423f9b3c168b6d8ab2ce",
      "4aaedc5113be41ebb605734cc035c691",
      "05c284ddec6c4bcdb6fb167c85478001",
      "0b951117918a4bf99c5c093b9317b877",
      "d33c2f88fd014913994fb359d3cb7813",
      "dcb6ae7d564441a3a7bb8535a25fa791",
      "11060ad321db4046948c1da7ca95b512",
      "034a529fe00245ec99104ebf58778b77",
      "2042e650c2744ecf889f7ab503a7aeef",
      "dcf1ee3ca20b41179c6b3054c5759233",
      "d67c5ee467b74c7fa708e6e522f46fb4",
      "540dc6a6bf4b49588fb69b68a392ba1a",
      "9d9eb64de8634b70866f108befb51df9",
      "b3d3513d6dbd43289bfce4cf01d2db94",
      "5a2ab317c1034fbcbc73f11926ba0bb9",
      "a32a8a3eed004d3196dc8814f2e88a5b",
      "55d193fc8c7c4dc4a11b014e3a6aea1b",
      "8df36218b3a84ebe8edc374dcd03580f",
      "0aaeaa692bdd4a1f95000ce2555744e0",
      "926d815542b64e7f8ec089e395fe0383",
      "1c6ef8485f8d4d3b92d68a1dfffa7eb2",
      "93628fc0f29d446ab7ce20f7b428bd65",
      "d21ebb6a1e00438ea699424c09c53e71",
      "372b58ddd4c74b2e96909974fdb48074",
      "5757447277d0438fb59393e0be260091",
      "1da002a793be44b9a436b2eeac53f426",
      "9ee20d308c6d4f7aa6f1fa62945f97ad",
      "9e605627809047f084ee8d71e6d5899e",
      "66315472b3574a5f8491b1bc12a3732e",
      "99939ce29be945f5aa936c7203c97dbd",
      "d001905c3f8a4772badac9af870e1d4c",
      "8b4ac35cf87c425092d063552a9ef172",
      "c13ff8af0a344bbb8451fb467bd82987",
      "88a464bc62f84a65b5dd38c53c4bd0a8",
      "1355030cb8224cd2b95f57c8fe6e3323",
      "27ab3cc8ea974812802e34f91fc1c755",
      "485d6311191041cca08b978d69d7333c",
      "dc12abd9f7314516a849d0472dead30b",
      "fdcf1913ec5146e18416c8a5a4e81a17",
      "1eb5997390ba4bf2b363e6474719c934",
      "cd54b0d389924f57b3f8c9e5cc3b839b",
      "20aa166df1284148ac5df62c43bc2281",
      "1e527d3ef5984eb9a51d8e8d2108d399",
      "0ec4fcaf31bf45389e99c42e85624a00",
      "08d9e01794de4db7a67af0fa079d2c0a",
      "1eb88688bf9b4f55bebe69dc70177a49",
      "dc8600376d5643f79a053ee2a335af76",
      "0d3db584eae245d6bdfdf38f739d8a14",
      "a9ce116f0bef413298c5b9e087d90545",
      "5b69849807194ee28618e539fec667be",
      "f475862e9c08484e81f86460d081f86f",
      "039889c9a15b449db361f85d77a12440",
      "cc2e47036d774ae7acac4f3d50dba2b7",
      "4ef1150f41974aa78388afc2e6a92d32",
      "6e8043f8bebf417dafb45d1dbaec7d6e",
      "b75d7ee5c55e43ab847846080e47703b",
      "d381f91e8dde4f86acd78793e0bdbf2d",
      "c182d80f4cf440c682ec1f5052387e84",
      "fccdd1842cb845afb827384d3c57b85f",
      "7246579e39764bb2af339b8af3782403",
      "181a1fc391fc44da9ec041a90d4ef638",
      "401625c40b1646f391c756b04cb2f900",
      "3626eaaf4138417a9c300704c9d6e30d",
      "f1379ecda52c49b9a184a94fc964a491",
      "146f902ba9e049ddacc27302b4563763",
      "d8ca689ec4994d92a6e91cb7fdf68415",
      "5ff7bc87a85341ddb79bf4db7ea41718",
      "ffcd69d7319b446e9879d0e90bdbddba",
      "53d3be038dad4c6e8350a689cb90b617",
      "860cf1ec722f48518258b45598b2310f",
      "3d4533f7aaa84957806b587ec8da15cc",
      "342de04bb86e41759a9cfecc26110660",
      "80c7b209fe314624b570c75f44a8817a",
      "1357153b5a0f418097e4f2da63822342",
      "f99c8badb2b0461b8685a3adf537d1e8",
      "d28d4476f58a4fb98d94bc2447fe6eb1",
      "fd997bd3472b48dd9bb97b16ecfe899d",
      "d1a076bade7547bca5f2d3fa5d68208f",
      "add4abce0de645c2aef33b31e0e9164f",
      "ac6993de08904a399024da75ca596087",
      "430e9cb91cd64c66b255e6be88e46c86",
      "587c640e3de84366a1794de26b0b2d7a",
      "11a12aee940c44358c04c8c7838c2da5"
     ]
    },
    "id": "b386c898",
    "outputId": "9f9a0378-20c1-41c3-d4a4-fba1a5fe2a11"
   },
   "outputs": [],
   "source": [
    "from sentence_transformers import SentenceTransformer\n",
    "\n",
    "model = SentenceTransformer('all-MiniLM-L6-v2', device = \"cpu\") # forces the model to run on CPU only, regardless of GPU availability\n",
    "model"
   ]
  },
  {
   "cell_type": "markdown",
   "id": "32",
   "metadata": {
    "id": "PZXb6HKw49XJ"
   },
   "source": [
    "> NOTE: Picking a model hosted by Pinecone\n",
    "\n",
    ">In addition to uploading your own embeddings, Pinecone also offers hosted embedding models that can generate embeddings directly within the platform. You can find these in your Pinecone dashboard under the \"Inference\" section. These models such as NVIDIA’s llama-text-embed-v2 are optimized for high retrieval quality, support multiple languages, and save you the step of running a separate embedding model locally. However, it’s important to note that these hosted models are not free, usage is billed based on the number of tokens processed."
   ]
  },
  {
   "cell_type": "markdown",
   "id": "33",
   "metadata": {
    "id": "305885a8-a8d3-4227-873d-39999ceab8ad"
   },
   "source": [
    "![Snímka obrazovky 2025-09-18 o 15.53.15.png](data:image/png;base64,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)"
   ]
  },
  {
   "cell_type": "code",
   "execution_count": null,
   "id": "34",
   "metadata": {
    "colab": {
     "referenced_widgets": [
      "ffb613710b864152936769c7a8b076c9"
     ]
    },
    "id": "NPl4eSWU6vKb",
    "outputId": "e674fdc9-602e-4887-f166-453cb5129adf"
   },
   "outputs": [],
   "source": [
    "texts = data[\"text\"].tolist()\n",
    "\n",
    "# Creating embeddings\n",
    "embeddings = model.encode(\n",
    "    texts,\n",
    "    batch_size = 64,                # adjust if you hit RAM limits\n",
    "    show_progress_bar = True,\n",
    "    convert_to_numpy = True,        # get NumPy array back (easier to store)\n",
    "    normalize_embeddings = False    # set to False because Pinecone computes cosine itself\n",
    ")\n",
    "\n",
    "# Storing embeddings back into the DataFrame as Python lists\n",
    "data[\"values\"] = [vec.tolist() for vec in embeddings]"
   ]
  },
  {
   "cell_type": "markdown",
   "id": "35",
   "metadata": {
    "id": "d349b3e3-66e8-4a85-b338-20e52dbf4f75"
   },
   "source": [
    "Now you can see the actual vector representations in \"values\" column:"
   ]
  },
  {
   "cell_type": "code",
   "execution_count": null,
   "id": "36",
   "metadata": {
    "id": "b2fe38cc-ea92-4a5d-9a07-557b72142f7b",
    "outputId": "a7992650-9e65-4f8a-b68a-2bbee82ab756"
   },
   "outputs": [],
   "source": [
    "data.head(2)"
   ]
  },
  {
   "cell_type": "markdown",
   "id": "37",
   "metadata": {
    "id": "02d60392-b413-4a95-a86a-2edc48e2cc76"
   },
   "source": [
    "Also, we need to make sure the data is in a clean and consistent format that Pinecone’s API can understand (no NaN values, the correct type):"
   ]
  },
  {
   "cell_type": "code",
   "execution_count": null,
   "id": "38",
   "metadata": {
    "id": "87681172-c8f4-4513-bb46-eb28b9cd7933",
    "outputId": "b4ac17fe-ca1d-4937-8606-6460ad327641"
   },
   "outputs": [],
   "source": [
    "data.isnull().sum()"
   ]
  },
  {
   "cell_type": "markdown",
   "id": "39",
   "metadata": {
    "id": "78e3e59a-c91a-4bbd-b5db-0739c9878198"
   },
   "source": [
    "For this demo, let's just drop it from the DataFrame:"
   ]
  },
  {
   "cell_type": "code",
   "execution_count": null,
   "id": "40",
   "metadata": {
    "id": "46a59106-c9ab-4751-a9cc-690d508a1ef4"
   },
   "outputs": [],
   "source": [
    "data.dropna(inplace=True)"
   ]
  },
  {
   "cell_type": "markdown",
   "id": "41",
   "metadata": {
    "id": "fb6dc3c3-ff95-48eb-982f-430649bfc214"
   },
   "source": [
    "Next we reset the original index and create a new column \"id\" with unique identifiers (additionally, we'll convert the values to strings). Pinecone will identify vectors by their IDs."
   ]
  },
  {
   "cell_type": "code",
   "execution_count": null,
   "id": "42",
   "metadata": {
    "id": "0b6d29ee-cc4a-4ecd-96b6-81003b2629a8"
   },
   "outputs": [],
   "source": [
    "data = data.reset_index(drop=True)\n",
    "data[\"id\"] = data.index.astype(str)"
   ]
  },
  {
   "cell_type": "markdown",
   "id": "43",
   "metadata": {
    "id": "aGZoU-hPK64W"
   },
   "source": [
    "# 5. Attaching Metadata\n",
    "Before we insert our embeddings into Pinecone, let’s prepare some metadata. These are small pieces of extra information that describe each vector. Metadata doesn’t affect the math of similarity search, but they’re extremely valuable for **organizing, filtering and presenting search results**:\n",
    "\n",
    "1. **Adding context to search results**: Metadata lets you display useful details like the article title, author, or date directly alongside the retrieved results.\n",
    "\n",
    "2. **Filtering**: You can filter search results by metadata values, for instance returning results from a certain date range, author or category. We’ll explore filtering later in the notebook.\n",
    "\n",
    "The decision of what to store in metadata depends on:\n",
    "- What you plan to filter on\n",
    "- What you want to show after retrieval\n",
    "\n",
    "\n",
    "For our dataset, a practical set of metadata fields would be, for example:\n",
    "- \"authors\" → for filtering or attribution\n",
    "- \"timestamp\" → for sorting or date filtering\n",
    "- \"tags\" → for topical filtering\n",
    "\n"
   ]
  },
  {
   "cell_type": "code",
   "execution_count": null,
   "id": "44",
   "metadata": {
    "id": "a31cedb9"
   },
   "outputs": [],
   "source": [
    "# Creating \"metadata\" column\n",
    "data['metadata'] = data.apply(lambda x: {\n",
    "    \"title\": x[\"title\"],\n",
    "    \"authors\": x[\"authors\"],\n",
    "    \"timestamp\": x[\"timestamp_iso\"],\n",
    "    \"year\": x[\"year\"],\n",
    "    \"tags\": x[\"tags\"]\n",
    "}, axis=1)"
   ]
  },
  {
   "cell_type": "code",
   "execution_count": null,
   "id": "45",
   "metadata": {
    "id": "e436bcde-d63b-4f81-ab7c-43ccaac5554d",
    "outputId": "add4ffd7-9a69-4b76-d28a-75a6b04b5971"
   },
   "outputs": [],
   "source": [
    "# IDs of documents along with their metadata\n",
    "for _id, meta in data[[\"id\", \"metadata\"]].head().values:\n",
    "    print(f\"ID: {_id}\")\n",
    "    print(\"Metadata:\", meta)\n",
    "    print(\"-\" * 40)"
   ]
  },
  {
   "cell_type": "markdown",
   "id": "46",
   "metadata": {
    "id": "7671fe34-98cb-456d-9844-ea040b7831e2"
   },
   "source": [
    "Now we'll create a DataFrame with columns that should be upserted into a database:"
   ]
  },
  {
   "cell_type": "code",
   "execution_count": null,
   "id": "47",
   "metadata": {
    "id": "43a1f386"
   },
   "outputs": [],
   "source": [
    "# Creating a new DataFrame\n",
    "df_upsert = data[['id', 'values', 'metadata']]"
   ]
  },
  {
   "cell_type": "code",
   "execution_count": null,
   "id": "48",
   "metadata": {
    "colab": {
     "base_uri": "https://localhost:8080/",
     "height": 111
    },
    "id": "vfIcTdHfLlch",
    "outputId": "f2bf794c-f374-49cc-f716-508ee16a579c"
   },
   "outputs": [],
   "source": [
    "df_upsert.head(2)"
   ]
  },
  {
   "cell_type": "markdown",
   "id": "49",
   "metadata": {
    "id": "Hslwgy7tFY_7"
   },
   "source": [
    "# 6. Namespaces\n",
    "\n",
    "Before we move on to upserting our data into Pinecone, let's take a look at another powerful feature - **namespaces**. They are like logical partitions within a single Pinecone index that let you **group data in isolation**. You can think of them as subfolders inside a file directory. Everything lives in the same index, but separated into named \"places\" that you can write to, query or clear independently.\n",
    "\n",
    "Let's take a look at the main advantages:\n",
    "\n",
    "**1. Multitenancy and Isolation**:\n",
    "Namespaces are **ideal when multiple users, teams or clients share the same index but need to keep their data separate**.\n",
    "\n",
    "For example, imagine we’re building a semantic search tool for a law firm. Instead of creating a separate index for each team, we create one index with multiple namespaces:\n",
    "- Namespace \"team-A\": contains only contracts and case files relevant to Team A\n",
    "- Namespace \"team-B\": contains only materials for Team B\n",
    "- Namespace \"team-C\": contains only materials for Team C\n",
    "\n",
    "When someone from Team A runs a query, Pinecone searches only within \"team-A\", so there’s no risk of retrieving Team B or Team C’s data.\n",
    "\n",
    "**2. Cost Efficiency and Performance**:\n",
    "By restricting searches to a specific namespace, Pinecone scans only a portion of the index instead of the entire dataset. This **reduces latency** (faster results) and **operation costs**, which is especially valuable if you have thousands or millions of records.\n",
    "\n",
    "**3. Easy Data Management**:\n",
    "If you ever need to remove all content for a particular team, you can simply delete that team’s namespace. This instantly clears their data without affecting any other team’s vectors.\n",
    "\n",
    "> NOTE: If we don’t specify a namespace when upserting data, Pinecone **automatically stores the records in the default namespace**.\n",
    "\n"
   ]
  },
  {
   "cell_type": "markdown",
   "id": "50",
   "metadata": {
    "id": "myTgwLu2CG--"
   },
   "source": [
    "# 7. Upserting Data into Pinecone\n",
    "We’ll use `upsert_from_dataframe()` function, which automatically batches our DataFrame and uploads it efficiently. Pinecone recommends making batches as large as possible, **up to 1 000 records, without exceeding the 2 MB per-request limit**.\n",
    "\n",
    "\n",
    "For our 384-dimension vectors, each vector is ~1.5 KB (384 × 4 bytes). For our dataset of 9999 vectors, the total payload for just the vector data is ~14 MB (far over Pinecone’s 2 MB per-request limit). This does not include IDs, metadata and HTTP request overhead which also contribute to the total payload size. Sending all vectors in one go would result in an error.\n",
    "\n",
    "Hence, we'll set `batch_size = 500`. This is a safe starting point that keeps us well under request size limit. Feel free to experiment by increasing this value towards 1000 to see if you can achieve faster upsert speeds without exceeding the ~2 MB limit.\n"
   ]
  },
  {
   "cell_type": "code",
   "execution_count": null,
   "id": "51",
   "metadata": {
    "colab": {
     "base_uri": "https://localhost:8080/",
     "height": 66,
     "referenced_widgets": [
      "48abd5c6b23b4250ad778d0ce72eacf7",
      "529a6d5d3b8a49fd8cc8d63ce491ac4a",
      "e3b675d0c1eb44339a4b40aa095d559a",
      "b1504b9ece144b3399ed5d9e91f33cfe",
      "b83ad70821e34056bd9eb33f27934a47",
      "f6c2ac9c70674b3aa757f62cc86e48db",
      "0e3e8d0432c94adbabff44a16dcba7f7",
      "b2aad46aba504e8d9538eee7c73c5f90",
      "41ec6333603547609fdd499234108b8e",
      "7063981367f048cf9584c07e8f88b255",
      "6bedc0c5bf7a4c7c8e7d22d1c042eca5",
      "399a6abd8d7b4e82b1762c2d79c260fc"
     ]
    },
    "id": "0fbaced0",
    "outputId": "07cb218b-0915-4948-fb88-075974768c07"
   },
   "outputs": [],
   "source": [
    "# Upserting the data\n",
    "index.upsert_from_dataframe(\n",
    "    df_upsert,\n",
    "    namespace = \"client_A\",\n",
    "    batch_size = 500,\n",
    "    show_progress = True)"
   ]
  },
  {
   "cell_type": "markdown",
   "id": "52",
   "metadata": {
    "id": "06a87ba3-b4c7-4c25-81dc-e8d32e4b370b"
   },
   "source": [
    "Once `upsert_from_dataframe()` step finishes, go to your Pinecone web console and refresh the page for your index. You should now see  Record Count updated to 9999. This number represents the total number of vectors we’ve just inserted into the index."
   ]
  },
  {
   "cell_type": "markdown",
   "id": "53",
   "metadata": {
    "id": "Vaw5UKimGoLe"
   },
   "source": [
    "![Snímka obrazovky 2025-09-18 o 15.54.27.png](data:image/png;base64,iVBORw0KGgoAAAANSUhEUgAABIQAAAMuCAYAAABo8tgwAAABWWlDQ1BJQ0MgUHJvZmlsZQAAKJF1kM8rg3Ecx19jLFqRHIjDDpLDSNuUi8PmIOXw5EeN27Nns6n9eHr2COXIiYNykFz8KH+BH1cHByXtoCTJ3VlcWI/P18Y28qlPn1fv3n1694Y6t26aaTeQydrW5FjEF52d83meaaKNFrqo0428Gda0CbHwfWvn7Q6Xurf96tfIzV5u9eC00LlxvHPdeFn466+Z5ngib8j9kPUbpmWDq09YW7JNxcvC7ZaEEt5UnCzxvuJYiU++PNOTo8JXwq1GSo8L36ufsSo9WcWZ9KJRzqDSexPZmSmly3YzygxBQowRIIr2jzdU9uYwWcFigSQpbHyERTFJkxAeJ4vBAH7hAIOyQ6rj391VtNwhDL9C/VZFi+3C+Tp0PFS0HumgZQ3OCqZu6T+Nut7c+flgoMTeCDQ8Oc5LL3i2objlOO+HjlM8kv+PcJH9BG8QZHMQ/Hj9AAAAVmVYSWZNTQAqAAAACAABh2kABAAAAAEAAAAaAAAAAAADkoYABwAAABIAAABEoAIABAAAAAEAAASEoAMABAAAAAEAAAMuAAAAAEFTQ0lJAAAAU2NyZWVuc2hvdGyCJaQAAAHXaVRYdFhNTDpjb20uYWRvYmUueG1wAAAAAAA8eDp4bXBtZXRhIHhtbG5zOng9ImFkb2JlOm5zOm1ldGEvIiB4OnhtcHRrPSJYTVAgQ29yZSA2LjAuMCI+CiAgIDxyZGY6UkRGIHhtbG5zOnJkZj0iaHR0cDovL3d3dy53My5vcmcvMTk5OS8wMi8yMi1yZGYtc3ludGF4LW5zIyI+CiAgICAgIDxyZGY6RGVzY3JpcHRpb24gcmRmOmFib3V0PSIiCiAgICAgICAgICAgIHhtbG5zOmV4aWY9Imh0dHA6Ly9ucy5hZG9iZS5jb20vZXhpZi8xLjAvIj4KICAgICAgICAgPGV4aWY6UGl4ZWxZRGltZW5zaW9uPjgxNDwvZXhpZjpQaXhlbFlEaW1lbnNpb24+CiAgICAgICAgIDxleGlmOlBpeGVsWERpbWVuc2lvbj4xMTU2PC9leGlmOlBpeGVsWERpbWVuc2lvbj4KICAgICAgICAgPGV4aWY6VXNlckNvbW1lbnQ+U2NyZWVuc2hvdDwvZXhpZjpVc2VyQ29tbWVudD4KICAgICAgPC9yZGY6RGVzY3JpcHRpb24+CiAgIDwvcmRmOlJERj4KPC94OnhtcG1ldGE+CoVbhrgAAEAASURBVHgB7J0FmCzF1Ybr4u7u7u4aXIK7O8EJgUBwCw6BAIEAgQRCgODu7u6uPw4Xd7vY/PUW1KRn7tju3b07u/vW8+xOT3d1ddVb1T1dX59zesCgQYNKwSQBCUhAAhKQgAQkIAEJSEACEpCABCTQbwgM029aakMlIAEJSEACEpCABCQgAQlIQAISkIAEEgEFIQeCBCQgAQlIQAISkIAEJCABCUhAAhLoZwQUhPpZh9tcCUhAAhKQgAQkIAEJSEACEpCABCSgIOQYkIAEJCABCUhAAhKQgAQkIAEJSEAC/YyAglA/63CbKwEJSEACEpCABCQgAQlIQAISkIAEFIQcAxKQgAQkIAEJSEACEpCABCQgAQlIoJ8RUBDqZx1ucyUgAQlIQAISkIAEJCABCUhAAhKQwHDNEHz77bfhiy++CKVSqVlWt0tAAhKQgAQkIAEJSEACEpCABCQgAQm0QGDAgAFhjDHGCCOPPHILubs+S1NBCDFo4oknDsMN1zRr19fOEiUgAQlIQAISkIAEJCABCUhAAhKQQB8k8OOPP4aBAwf2mCDU1GUMyyDFoD448mySBCQgAQlIQAISkIAEJCABCUhAAj1GAK2lJ72xmgpCPUbGA0tAAhKQgAQkIAEJSEACEpCABCQgAQl0CwEFoW7BaqESkIAEJCABCUhAAhKQgAQkIAEJSKB9CSgItW/fWDMJSEACEpCABCQgAQlIQAISkIAEJNAtBBSEugWrhUpAAhKQgAQkIAEJSEACEpCABCQggfYloCDUvn1jzSQgAQlIQAISkIAEJCABCUhAAhKQQLcQUBDqFqwWKgEJSEACEpCABCQgAQlIQAISkIAE2peAglD79o01k4AEJCABCUhAAhKQgAQkIAEJSEAC3UJAQahbsFqoBCQgAQlIQAISkIAEJCABCUhAAhJoXwIKQu3bN9ZMAhKQgAQkIAEJSEACEpCABCQgAQl0CwEFoW7BaqESkIAEJCABCUhAAhKQgAQkIAEJSKB9CSgItW/fWDMJSEACEpCABCQgAQlIQAISkIAEJNAtBBSEugWrhUpAAhKQgAQkIAEJSEACEpCABCQggfYloCDUvn1jzSQgAQlIQAISkIAEJCABCUhAAhKQQLcQUBDqFqwWKgEJSEACEpCABCQgAQlIQAISkIAE2peAglD79o01k4AEJCABCUhAAhKQgAQkIAEJSEAC3UJAQahbsFqoBCQgAQlIQAISkIAEJCABCUhAAhJoXwIKQu3bN9ZMAhKQgAQkIAEJSEACEpCABCQgAQl0CwEFoW7BaqESkIAEJCABCUhAAhKQgAQkIAEJSKB9CSgItW/fWDMJSEACEpCABCQgAQlIQAISkIAEJNAtBBSEugWrhUpAAhKQgAQkIAEJSEACEpCABCQggfYloCDUvn1jzSQgAQlIQAISkIAEJCABCUhAAhKQQLcQUBDqFqwWKgEJSEACEpCABCQgAQlIQAISkIAE2peAglD79o01k4AEJCABCUhAAhKQgAQkIAEJSEAC3UJAQahbsFqoBCQgAQlIQAISkIAEJCABCUhAAhJoXwIKQu3bN9ZMAhKQgAQkIAEJSEACEpCABCQgAQl0CwEFoW7BaqESkIAEJCABCUhAAhKQgAQkIAEJSKB9CSgItW/fWDMJSEACEpCABCQgAQlIQAISkIAEJNAtBBSEugVr9xT60ksvhdNPPz18+eWX3XMAS5WABCQgAQlIQAISkIAEJCABCUigXxBoa0Ho7bffDmOMMUaYdtpp+0Vn5Eb++OOP4bnnngsIQMW01157hT322CNceOGFxdVNl6eaaqrE8d13322a1wwSkIAEJCABCUhAAhKQgAQkIAEJ9H0Cw/X9Jva+Fn744YdhoYUWCmOPPXZ44403yg3YfffdA+LOqquuWl7nggQkIAEJSEACEpCABCQgAQlIQAIS6CiBfiMIlUqlMGDAgAo+tdZVZGizL4sttljgry+lJz99Kxz79HXhpnefSc1afpLZwh6zrxTmHHvyvtRM2yIBCUhAAhKQgAQkIAEJSEACEmgrAm3lMnbOOeeE5ZZbLkw++eRhgw02CB988EFNWPfcc0/Yeuutw3TTTRdmnXXW8Ic//CF8+umn5bwvv/xymHnmmcPmm28e7rzzzjD33HMnt7PDDz885cHlao455ggTTzxxWHfddSv2JQOuarhmzT///GHGGWcM22yzTbj//vvL5bey8MQTT4S11147HXeyySYLK6+8crjrrrvKu+Y6cvzrr78+HWvZZZcN1113XZhppplSPtpEO/bbb7/0fdddd03fr7766nI5gwYNCkceeWRgX9qDZdE///nP8vZ6C2+++WbA4mieeeYJU089dVhnnXXC888/X5H9vffeC1tttVWYffbZA21YZpllUl0rMg3BF8Sg5W88JtwYxaBSLIc/llnHNpMEJCABCUhAAhKQgAQkIAEJSEAC3UOgbQShSy+9NOy0007hwQcfDJNOOml49NFHw3bbbTdYqx955JEkXiCKIFQQY+iss84Kyy+/fPj+++9T/h9++CG88847KQ4PwtHII48cPv7443D00UeHk046Key8885pP8SUG2+8seI4n3zySVh99dVT8Oavv/46jDfeeClmz1prrRUee+yxwepTawXCCuLJrbfemsSoxRdfPNx7772p3k8//XRFHZ999tl0fMQvXMRGH330MP3005eLZXnCCSdM36kb7fr222/T959//jlsu+22SRB64YUXkqiE0PPHP/4xHHHEEeUyqhcoZ4011kjC0ZhjjplEpttuuy0sscQS4ZVXXknZiWO01FJLhUsuuST1x4orrhhefPHFsP7664fbb7+9ushOfccyCBGoOrGObSYJSEACEpCABCQgAQlIQAISkIAEuodA2whCe++9d2rhscceGx544IEkPkwxxRSDtRqRCCHniiuuCJdffnmy3MG6BbHizDPPrMjPuosuuijcd999STRiI9Y2l112WcDKCBGKxPJPP/2Ulg855JCA9Q4CEGINQg51QhyqJVClnar+ffHFF8mCCaEKQeX8888PO+64Y/juu+8Gs7DBGok6vf766+Hiiy8OiEfZAgiB6Kqrrgq77LJL1RF++Ur7+SOuEIIQebFCGnHEEcO5555bFsiqd6aNCD8HHHBAEnewSqKN1O+ggw5K2RG/EJ+wwrrhhhuSeET9sFIaZZRRqovs1PfsJlZr50bbauV3nQQkIAEJSEACEpCABCQgAQlIQAKtE2iLGEK4Jr3//vvJagf3LNIwwwyTxIebb7653BpcqBBrSFgB4Q5GwsWMhFVRMU0yySTJJYp1K6ywQtqEmIHoQsICZqSRRgpfffVV+Pzzz8M444wTHnroobQNK5scc4g6IaLw1i/yYVWDpcxHH32U8uZ/CCxLLrlkWHDBBdMfwhUWQa+99lq5bm+9VekKheiDlU8+Vi6rlc9c1+233z6MNtpoaRcEnKeeeipMNNFEdcu8++67y3kzQ6yySJkhrmpYVlF3xDpc3uadd96w8MILp3z+k4AEJCABCUhAAhKQgAQkIAEJSKD3EmgLQSi/Xn3KKaesEDGwfCkmLHZyqvWmrVdffTVvTp+IPTkhMJGGG+5/TUaEGXbYYXOWZCWU4+hMM8005fXkI87Ok08+mayGFllkkcCxELKK6csvv0xfEa6Ia3TNNdcEXK9IuLaRCGRdTAhCnRGDKOOZZ34JxEzdiolYQvUSllBZVNtss80Gy8ar6bEUwnXtxBNPDIceemg45ZRT0h+i05ZbbpliDyGeDWkigDQxg2oltpkkIAEJSEACEpCABCQgAQlIQAIS6B4C/1NHuqf8lkrNrmGIEcVU/R3BiITlCq5c1akoAFVva+U74hDWRrhvIfZgbZPTwIED02IWqR5++OG8abBPgjXj0rbKKqsk6x8CX1955ZUpts9gmYdgBTyw9sl1y0URWygLYHld/qSNBIjGVY24QWONNVbeVP7E5YxEYG8CY99xxx3J7e68885LMZjYlgN0s9zZxNvEcA2rlMhCGBALZJtJAhKQgAQkIAEJSEACEpCABCQgge4h0BYxhBA2sKAh8DPxanL673//mxfTJ2LNBBNMULa6QbDhDzcuxI1vvvmmIn9nvsw333xpt+KxCQ5N0Gdc0PhrlnjDGInAzriQjT/++C0HpGa/bMWEW1y1RRHbc8p1veCCCwIiEIn4RbyljKDWWPrUSgsssEBaTdyhzBCLH0QrXPewWMLVDTc5YiDx5jdiC/3lL39J+9US42odp9k6Xi1/0wp7hhWiNRAiEH8ss87Xzjej53YJSEACEpCABCQgAQlIQAISkEDnCbSFhRACBIGTDzvssPSac+LVEJ+n6CKWm3jwwQent5FhfUMcH8STf/3rX4E3ZyFozDDDDDlrpz553fwtt9wSjj/++BQzCKGEINTUEfepVtJcc82VgjYTewfXNmL95ADWreyPgEQZCEu4dcEDa53qtN5664V///vfKQg3og2xkXiFPdZNvDGsnsUUFky0cbfddgu8tQ2hjYDRzz33XKD9iy66aGovgaaxxsJVDiEui2Q5HlN1fTrzHeHnnN9s15ld3UcCEpCABCQgAQlIQAISkIAEJCCBThJoC0GIuu+5557J0gfR4cILLwzTTjttEnoQQ4ppk002SQGl//GPf4QTTjghWdAQEJk3jBEkekjTLLPMksSRAw88MIkrxAAiwDJvCVt33XVbKh7hiGDMvL2LP8QdAk7vu+++Le1PJvLjloXIhThWSxAipg9CE2IarmO4sQ0//PBJVDvqqKPqHmv22WdPlj9Y/eS3kREziD7gjzTbbLOlbfvss0+KH8Q64h3ttdde5TysM0lAAhKQgAQkIAEJSEACEpCABCTQ+wgMiG/Cqg7hUtEKrE1yjJ+KDd30BdenDz/8MEw44YRNj4BVEC5V4447btO8ncnw7bffJje0zpZP/XjTWKMgz83qRYDqUUcdNYwwwggNsxIsmrhAHKtZ3mJBtJF64gpXL7g1dSBfK+5yxbJdloAEJCABCUhAAhKQgAQkIAEJSKA+gTfffDO9Jbx+ju7b0naCUPc11ZIlIAEJSEACEpCABCQgAQlIQAISkED7EOhJQagtgkq3T1dYEwlIQAISkIAEJCABCUhAAhKQgAQk0PcJKAj1/T62hRKQgAQkIAEJSEACEpCABCQgAQlIoIKAglAFDr9IQAISkIAEJCABCUhAAhKQgAQkIIG+T0BBqO/3sS2UgAQkIAEJSEACEpCABCQgAQlIQAIVBBSEKnD4RQISkIAEJCABCUhAAhKQgAQkIAEJ9H0CCkJ9v49toQQkIAEJSEACEpCABCQgAQlIQAISqCCgIFSBwy8SkIAEJCABCUhAAhKQgAQkIAEJSKDvE1AQ6vt9bAslIAEJSEACEpCABCQgAQlIQAISkEAFAQWhChx+kYAEJCABCUhAAhKQgAQkIAEJSEACfZ+AglDf72NbKAEJSEACEpCABCQgAQlIQAISkIAEKggoCFXg8IsEJCABCUhAAhKQgAQkIAEJSEACEuj7BBSE+n4f20IJSEACEpCABCQgAQlIQAISkIAEJFBBQEGoAodfJCABCUhAAhKQgAQkIAEJSEACEpBA3yegINT3+9gWSkACEpCABCQgAQlIQAISkIAEJCCBCgIKQhU4/CIBCUhAAhKQgAQkIAEJSEACEpCABPo+AQWhvt/HtlACEpCABCQgAQlIQAISkIAEJCABCVQQUBCqwOEXCUhAAhKQgAQkIAEJSEACEpCABCTQ9wkoCPX9PraFEpCABCQgAQlIQAISkIAEJCABCUiggoCCUAUOv0hAAhKQgAQkIAEJSEACEpCABCQggb5PQEGo7/exLZSABCQgAQlIQAISkIAEJCABCUhAAhUEFIQqcPhFAhKQgAQkIAEJSEACEpCABCQgAQn0fQIKQn2/j22hBCQgAQlIQAISkIAEJCABCUhAAhKoIKAgVIHDLxKQgAQkIAEJSEACEpCABCQgAQlIoO8TUBDq+31sCyUgAQlIQAISkIAEJCABCUhAAhKQQAUBBaEKHH6RgAQkIAEJSEACEpCABCQgAQlIQAJ9n4CCUN/vY1soAQlIQAISkIAEJCABCUhAAhKQgAQqCCgIVeDwiwQkIAEJSEACEpCABCQgAQlIQAIS6PsEFIT6fh/bQglIQAISkIAEJCABCUhAAhKQgAQkUEFAQagCh18kIAEJSEACEpCABCQgAQlIQAISkEDfJ6Ag1Pf72BZKQAISkIAEJCABCUhAAhKQgAQkIIEKAgpCFTj8IgEJSEACEpCABCQgAQlIQAISkIAE+j4BBaG+38e2UAISkIAEJCABCUhAAhKQgAQkIAEJVBBQEKrA4RcJSEACEpCABCQgAQlIQAISkIAEJND3CSgI9f0+toUSkIAEJCABCUhAAhKQgAQkIAEJSKCCgIJQBQ6/SEACEpCABCQgAQlIQAISkIAEJCCBvk9AQajv97EtlIAEJCABCUhAAhKQgAQkIAEJSEACFQQUhCpw+EUCEpCABCQgAQlIQAISkIAEJCABCfR9AgpCfb+PbaEEJCABCUhAAhKQgAQkIAEJSEACEqggoCBUgcMvEpCABCQgAQlIQAISkIAEJCABCUig7xNQEOr7fWwLJSABCUhAAhKQgAQkIAEJSEACEpBABQEFoQocfpGABCQgAQlIQAISkIAEJCABCUhAAn2fgIJQ3+9jWygBCUhAAhKQgAQkIAEJSEACEpCABCoIKAhV4PCLBCQgAQlIQAISkIAEJCABCUhAAhLo+wQUhIagj7/77rtQKpWGoAR3rSbwww8/hB9//LF6ddPvgwYNapqnIxm+/fbbjmRv67ytsPn5559DK/nauqFWTgISkIAEJCABCUhAAhKQgARaJjBcyzm7MSMiwC677JKOcNhhh4Vxxx23fLR33303HHrooWGYYYYJf//739P6Yv5yxriw5pprhuWXXz689tpr4ZhjjiluKi8vs8wyYZ111gnVZYw22mhh2mmnDRtuuGEYc8wxU/5nn302nHzyyeH4448PI400UrmM22+/Pdxzzz2Bug033HBh4YUXDmuvvXYYccQRy3l6cqG6beOPP36YbrrpEpuJJpqoXLXLL788PP/882HfffdN63J74Q/zAQMGlPPecccd4cILLwwzzjhj2HXXXSvylzP9urDXXnuFqaaaqsx48sknD3vvvXfqQ7K88sor4bjjjgtHHHFEGHvssdNe7733Xjj77LPDm2++mY5LX2yxxRbl7blutfri3nvvDe+8804aN3PNNVdYa621ysei8KOPPjoMHDgwHHTQQeXyWL/jjjuGzTffPCy44IJ8TeLetddeG2jr119/HUYfffTw29/+Niy11FJpezv8oy2wYQzn9Mknn4T99tsv7LnnnmHqqafOqwPjtBkbhK/zzjsvPPXUU6m/JpxwwrDxxhuH6aefPpVz4403hiuuuKJcZnFhhx12CHPMMUdxlcsSkIAEJCABCUhAAhKQgAQk0EsItIUglFmNPPLI4YEHHggrr7xyXpW+jzLKKAFrnOq00UYbhZlmmqm8GlGHhABxyCGHpGUmxU8//XRZcOIYxUQZM888c/jiiy/ClVdeGU499dQkXhTzFJdvvvnmcNVVV4V11103iSNMxhFKEDO23XbbYtYeX0YgY8L+wQcfhIceeij89a9/DbvttluYeOKJG9btm2++SaJNFgXITL/QD7USYkRRDMsiT8771ltvJZFl6aWXzqsG+0R4m2GGGRJDjg/Tf/3rX2GPPfYYLG9eUewL9kX0YT/6csstt6wQtLB+Ydv222+fdx/s88EHHwy33XZb2G677RKjZ555JpxzzjlpuTjOBtuxDVe0yubiiy8OH374YRrziJ7sR18gPPF98cUXD/PMM09q4ZlnnhkQF1ddddX0fYwxxmjDllslCUhAAhKQgAQkIAEJSEACEmiFQFu5jM0222xJeMhuWHwiZLC+VsKShwlq/stiD1Y7ed2oo44ahh122PL3LBrl8ihjvPHGC9NMM01YbrnlwhtvvFFTfCI/9cGCBGug3/zmNwFrCsSkzTbbLIkQtUSrfJye+MQaiD9Eoa233joJG0z4myV433///eVsWO9guTPLLLOU1xUX4Jd58wn/YsJqCxHts88+K64uL8ONbVj3ICZNOumkSZRBdKuX6Ivrrruu3Be0c+655077Pfzww0kEK+6LsPHSSy8lS5ji+uIyghJtwQoKsWORRRYJ+++/f1MBrVhGOyx3hA1tRvibZJJJwjjjjJMsjxANs3UYImDu2xFGGCGJRPl7UQRsh3ZbBwlIQAISkIAEJCABCUhAAhJonUDbCUIfffRRsk6hCbgz4brDBL1WYjKL+1H++/7772tla3nd22+/naxg6k10sbTB0gQRqJgQk7BkKbqVFbe3wzITfAQdBK9mafbZZw+PPfZYOaYMljO0sZ6F0KuvvlruA9z1qhMuTux/0UUXVW9K3+E255xzJmscXJTef//9gJA35ZRT1szPSvoCIam6L3BVo/8QsIoJMQNhCiuherFyFlhggcAYOOWUU5JwxHhCnMouhMXyenKZcwQXr/zHeVJMHWGz0EILJdcy+oZ+xDUzMyyW6bIEJCABCUhAAhKQgAQkIAEJ9C0ClaYcPdw2rDJw/cE9CasFPhEnmMzXSlidFNMBBxyQLGKK65otn3HGGckCCSHj888/T/FnsnVE9b5MxElYUvTGhPXNxx9/3LTq2SLriSeeCIgkCEKIKcRMqpVybCe2EXfnqKOOqsj2008/JcuTww8/POCGVUs4w8XrrrvuCrfcckuKWUMsnE033bSudU69vqDv6B/coIqJOhA/ithPWHkRZ6g6If7g/sa4Ov3005OlE1ZjRRfG6n164jvxlBBBcyIgdDF1hM0SSyyRrLJggnslY2T99ddPAl2xTJclIAEJSEACEpCABCQgAQlIoG8RaCtBCLQE+L3kkkvCeuutF5588smw1VZbpWC3tbAT62VIg9qONdZYaRKM+IG7EAJAvZQDMmOBgXjQ2xL1bhY/iDZhYYP71iOPPJICNSOUzTfffEkoqdVmAkTXEnmKeXFJIobQBRdcEDbZZJPiprSMmxnb+cOK6dJLL02WOgS3rpVyO6r7AnEEMShvL+47/PDDJ7HjtNNOS4HAawl/9CvBkgm2jCBJPRgXOfB0sbyeWkbEqRVUOtcnt71VNpxD/BEP64YbbgiIpATgxjXMJAEJSEACEpCABCQgAQlIQAJ9k0BbuYyBmAC2vHYcSxFEgllnnbVbyROnBvEJ4YkJMfFy6iXevoUr0+OPP16RBeFq9913TyJCxYY2+oL7E6JXIzesYnVxJSLmDgG56YPq2EvFvK0uY2lD3xbjE7EvLmJY5fB2NBJ15O1eWLrgMlgrYQVEnXBtKyYskDhGvXZicUZ7CCBeHevozjvvDFjfkIhHxdvFKOf1119P63rLv1bZwAnuecyzH+cDohqucyYJSEACEpCABCQgAQlIQAIS6LsE2k4QwtIE65RrrrkmzDvvvINN2otd8emnn6bJLBNa/r766qvi5g4tYwFDkOirr7664X4ElL7++usDsW5woUIMOv/885OLTQ5q3bCAobiRV7EzscflC7cuYuestNJKLdWAuE3EDLrpppuS21ijnRB0ch/wWS+WE32LZQuBwosJkQ2eiDS8IQwLHwRBLFTYVi/RF1i0sC9txaKHt70tueSSDd36EACJu1NdT9px7rnnJncshCgspIhFVHyVe726tNv6VtggiBGHiPGLNRHsCdRNUGriCJkkIAEJSEACEpCABCQgAQlIoO8SaDuXMVDjnsOborBSaZRwPyomLFBWWWWV4qqWl3Ef4nXaxI7hNem8ur5WWnjhhZOQQLybK664IuCGxNuomIC3W8L6gz9c3QjsjKtWq68Khwfxg4grQ8DnRqk6ZhBvqSIWVK2E8EYcnxdffLG8GUsf3LQQJm699db0hqvJJpssrStnqrHA+EDUwbKHvsDChf5p1he4gK2wwgqDiX+rrbZaEhVPPPHEZGWEIIYL4fzzz1/j6O29qlU22267bTjrrLPCwQcfnIQgYgixjk+TBCQgAQlIQAISkIAEJCABCfRdAgOi1UipUfOw+JhiiikaZem324gzg9VLrVg0/RbKEDb8m2++SVZh9QKJ1yueN441i2NUb9/q9bhMYW3WqnhWvX+7fW+FDe56iGuNLLLarV3WRwISkIAEJCABCUhAAhKQQG8ngFdKjlc8tNvSlhZCQxtCZ4/Xbi5inW1HO+1X79X2zerYVWIQx+HV631FDKI9rbDB0o0/kwQkIAEJSEACEpCABCQgAQn0DwJtF0Oof2C3lRKQgAQkIAEJSEACEpCABCQgAQlIoOcIKAj1HHuPLAEJSEACEpCABCQgAQlIQAISkIAEeoSAglCPYPegEpCABCQgAQlIQAISkIAEJCABCUig5wgoCPUce48sAQlIQAISkIAEJCABCUhAAhKQgAR6hICCUI9g96ASkIAEJCABCUhAAhKQgAQkIAEJSKDnCCgI9Rx7jywBCUhAAhKQgAQkIAEJSEACEpCABHqEgIJQj2D3oBKQgAQkIAEJSEACEpCABCQgAQlIoOcIKAj1HHuPLAEJSEACEpCABCQgAQlIQAISkIAEeoTAcD1yVA8qAQlIQAISkIAEJCCBJgReeumlJjl+2TzDDDO0lM9MEpCABCQgAQn8j4CC0P9YuCQBCUhAAhKQgAQk0CYEjj/++NCqILTbbrsFRaE26TirIQEJSEACvYaAglCv6SorKgEJSEACEpCABPoHAYQg/hB5WhF6WsnTP8jZSglIQAISkEDrBBSEWmdlTglIQAISkIAEJCCBoUhg5ZVXbkkQGopV8lASkIAEJCCBPkOg3whCTz31VLj55psDJsXDDNN/Ymm/8cYb4bXXXguzzTZbGG+88QYbuD/99FN47rnnwhdffBHmmmuuMOqoow6WJ6/4/vvvw5133hmmnHJKb84ylKH8SV+Spp566qF85NYPd9FFF4Wnn346HHrooeWdBg0aFLbffvvw+9//Pswzzzzl9Xnhhx9+CC+88EKYbLLJwthjj51X98nPE088MSy++OI1OVQ3+Jtvvgn/93//F6aZZpqG52b1fp35/swzz4Txxx8/TDjhhJ3ZvVv3YdyXSqXEoVsP1MsL/+yzz8Jbb70VZpxxxjDCCCN0qDX3339/GH744dPvwHDDVd4acP4+8cQTYZRRRgmzzDJLGHbYYQcr+8MPPwzPPvts+m2YZJJJyts//fTT8Pbbb5e/Fxcmn3zyMNZYYxVXVSx/8MEH4f333w+zzz57xfr8hd+kF198MX+t+BxnnHHCpJNOWrGOujzyyCOpDdXbKjJ2wZeOnOddcLgeK2Jo3lthLXTttde21FashRCSTBKQgAQkIAEJNCbQb5SRSy65JBx++OGBG8z+kLiJXn755dON9GqrrZYmUrvssktAAMqJG/xZZ501LLroounGaYoppgj/+te/8ubBPo866qiw9tprhw033HCwba4YOgTow5122qnhwZiIPPDAA+U877zzTjjhhBPqTsrKGbto4cwzzwxff/11RWnU59JLL02CT8WGX78wmWQcXnnllbU299p1Dz74YGKfG/D5558noey8887Lqxp+co7C5eGHH26Yrys2LrbYYuGMM87oiqK6vAzG/Q477NDl5fa1Am+66aY0XhCFOpJuv/32sMIKK4Sll146fPzxxxW73nLLLen3Y7nllktlzz333Em8zZkQc7fbbrsw7bTTBn5rZpppprDRRhuFb7/9NmVhAs8YrvXXbHL/73//O+1X/N3Kx+Vz4MCBNcvlWEVBmrwIihtssEH6DfvLX/7Cqm5LHT3Pu60iQ6HgoXlv1ZF4Qtdcc03LsYeGAiYPIQEJSEACEmhbApWPAdu2mkNesT//+c9h9913D2OOOeaQF9YLSth5553DRx99FO69994w/fTTByYKm2yySZh33nnD5ptvnm6ON9tss2RpgtXPGGOMEY477rhkQbXwwgunJ6jFZmI9gNBgan8CBxxwQNh7773DQgstlCqLdcWBBx6YLFKwwOnOhBCEeLHjjjtWHIYJJ+LjBBNMULG+r3+h3UcccUT4wx/+EAYMGJCuP1j8jD766H296bavlxBAuGF81kqM1fXWWy/9diDKffnll4HP9ddfPzz22GPJUujUU08NV1xxRfpbZJFF0vmP8ILownVnzTXXDL/5zW8qiv/Pf/4TjjnmmMF+ZyoytfAFKx9+m4rp+eefD+uuu+5gZfOwozpvcb+uXOY+o7+c50P73grLHyy9G6Uce+jll1/WmrkRKLdJQAISkIAEIoG2shBCkODGEXPzVVddNWCKXExXXXVVWH311QOWLGuttVa48cYbi5vDHXfcEZZaaqm0/3zzzRfOPvvs8nZuWueff/6yhczMM88csGQ46KCD0hNNJs88USom3F4QTXCR4qkoT895ytgb0n777Rfghan9SCONFFZZZZXkcpJdjnABwIoIXriIjDzyyIktbat+uvzzzz8nV5+VVlopPWHtDe3v63W88MILA8Id4/jII49MzeVpeQ6qiTUXy1jl0G8kxgATJRKi4FZbbRXOOuusJNTMMccc4eCDDw70dU64G66zzjpp/OMmss8++wTGTU6UjftFMd19992pjCWWWKK4OiCMMNZyevPNN8Omm26aymY97mLVqdH5x3FpHxYGWDVwTcAigAnrlltuGSaaaKIkft53330VxTa7hlRkLnzhvOcagrsbohbXi6I10ymnnBJgyDVpzjnnTFZc++67bxKDKAZR9thjj00lsu/f/va3cum4azLBYf+pppoqbLvttoNZaZQzx4VGXMjX6DpYLKfRMhZM8MWNiIRrDpwRlXNqxrJePbAogRHX3pzyeM3uPxyPaxeTzVoJC4xdd901ucJSzz333HMwq7Tq/f7+97+HBRZYIP0+LLPMMgHrLRJWB7hYYaWW01dffZXOC8S8nJr9PuV8fLYyXhBIEU8RUXAB/d3vfjdYvzPG+C1EyOU8QbwvJhjjFoPrFX3DWOpoOuyww9LvIgJNdYIN59Zf//rXMN1006Xfwcsvvzz9dtKPpHHHHTede4wPfmtwh2QsZ6s23JApI//xe8P4woKV39VW0kMPPVSTE65tudz8+d///je5R8Mzp3fffTdd3xhztUTxV155Jf22UQYst9lmm4YsW7l+Fs/zfL265557whZbbJGue1hkcdxiatbfCFocm+sE12Su/cVrdvFaggv4n/70p4DbaU7si+tu8feDc6+YOnpuVd9bUVY+V7Aa43cGgcYkAQlIQAISkEB7EmgbQYgbbyZ0THK5MSUWAhNYrFxIt912W7qR4oaTiSuJG+A84XvvvffSk0huThFullxyySRicANG4gafPDkxeUYQwoWMmz+2M5HMebiBZDLMJIG6cfOKhVFRZMplteMnN4Pc+HLTjvDDTT/La6yxRqouHBHVzjnnnDSpZ/LPjSFPXKsn86eddlrgSVutCUM7tr2v1+nVV19NN/SMf8RTJgVMJIjFkc8NJjYsMw7yJB43DsY66ZNPPgl33XVX+Oc//5me+HO+MOkrToARjzgWk0IszsjLMolJxtZbb50m4mnFr/8QfpjkFS3xONaTTz6ZBAWyYZGABQHnLjGFll122cEsFJqdfwgGnKu4gWLBwLUCiwREJo69//77p3OaCVBOza4hOV+tT1xX9tprr7DiiismDgg8XC/yhI7rB0Iqx8WtEtcZxGsmbiSEDVxuSNSb/CTOSfqH/qPuWHbhokNf1UrNuFA2Fhn1roO1yqy1jv5BVGNCyYTz5JNPTn2IyEVqxrJRPYhTgwBz/fXXlw/NMvsgKJKYQHNNQsSvTj/++GNideutt6ZxgzUaIkA9Kxf2R8RA0GSsnX766WG00UZL13cm0EzM+T1A4MrpuuuuS/3JdZ/U7Pcp75c/WxkvuHLi/kl/cV7ecMMN6QFEdo/iXGKMIVAwtomJwzUbCxgS4tnGG28cmMBjFYiVZ/H8zXVp9Pn4448HxEwm8LXix3HeIt7BD8GHP9rGOc5vCIk6IGLmxG8qD3OwRq2VsA6i7Xks1cpTvQ6rpHqcinmJh4e1EmOBeEc58dvNOVsUifI2rkdw5VzmN+6QQw5JY5OxXy+1cv0snuf5esU1GQGTcz4Lu/kYzfobZlxb+C3mOoOV1tFHH52ugZRRfS3hHEb4QYDKY4p6I9SxPv9+MGauvvrqVI3OnFvV91bFcwWGiFjUu7+46+f+9FMCEpCABCTQawjEJ/6lRn/xpjw+7Oze9N1335XizW5pjz32KB8o3vyk79HsOq2LN+2lGBegFG9Y0vd4g1WKN5yleCOXvsebqVJ0wyjFiUW5jHgzWyIfKd44pe15/zhpLMUJWzlvnAyk7dFKKK2L4lQpPt0qRReYcp44YSvFCXb5e29YiE/nUrtioN5SnORUVDlO6ktxgpS2wy6KQaV481aRJ1pylOLEsPSPf/wjrY8Tl1K0kqjI45ehRyAKH6UoApXiJCYdNAqmpSgElaKFRLkS9GUUSsrf4yQ79XG0Liivo5woGpSiiFFeFycOaQxEASCVzzkZJ23l7dGKpxQtcMrf4yS8FEWd8ncW4gS+xLlTTJdddlkpBjQvMd5I0Yom1SdOQsrZovVGWhctltK6ZudfdIVM+aMbSMpPnaPFRSlaW5TLjOJVysMYJjW7hnAdjJO4ij/WkaJwUIpxkNIy/6KlXSr73HPPTevy9SVa1JTzsBDFupSP+uVEf2VG0cIjbY+T2Ly5FIWOtB1euZ1c30jNuDS7DsbJW0X7aG9OXBNzvVgX4xelsRXFoDQuoqiVszZl2aweUbRP7Y5idSmK/yWOHSf8Ja6xpChOpzGTr7+M1yjOpG257OiylL7zL4o8qbwomJXXFRdoF9fAGFQ4raY/o9VCOUuMn1SKljbl73EyXYqiR/reyu9TecdfF1odLzH+SnnXKLimNsCdRHvjQ4nyduoR4/OUooia1kVRoBStbUrFNkeRIJURxY2Up1F/RwEh/aZGYSDljUJN2rc4JqLlUikKQqX4UoLUJ1FQSXmidVa5XsUFyowPHUoxCHqZdXE7bYhiYEW72F593lFvUj6vGnFKGX/9x/jh2HncsDqKWanvuR8gRavKUhSM0nL+F4WkEvccOfE7x/WkXmp2/WS/4nmez+Mo7JWL5JodRbw0/lnZrL/jQ51StE4sxQDd5TLiw5pSvmbWupZccMEFqb+iCJT2od78zlf/fkSxO23vzLmV+4h7q1rnCtdKfkviA4dyvVtdiKJnKVo0lfgksdxKOXm/fD/X6vHMJwEJSEACEugpAmgujTSZ7tw2XDsoVzxB4ulWfhpLnbB84KkoiSfUPKnkKWp+uwlPmXlaefHFF6c8BJHEtYun7LjIYPHAEzLy1UtFc/X8JDremKbsPDnliVYUqcq7Y1HBEzae9nX0DS7lQobyAk9Kf/vb36anz/DgST+M4qBK1g60F/cVrEuwAOEJOk/eMUcn4ZZBkNBaT1aHclM83K8EcBPLT+exBMHdBCuwjibM+YvuE7jR4AaGZQaWLTyRP+mkk9LbhXBX4YkylhU5VQcXx3oF169sRZTzxUlGWHDBBZNbIuuwHiCeDsfLqdoqrdn5l/fj7VskysOihXGcE20g4UbWyjUEa8JsQZd2jP9wScMFhpg/I444Yrom8YSe+CkkrDOKqZ5VRDFPcZl2UvdsPcS2bIlRzJeXm3Fpdh3EbQ1rkGLCSqZWwjKEawWWNVhb4JZFaoVls3pglUOCOWOZfsM9949//GNaz7WWINdFK4+0If4j0DYJSx/YkbKlFlYzE088cVpX/Ee/cp3D5Q8XLCy9+MuJayNutlzzOSZWWtlCpNnvUy6j+NnqeOF3KieuvSTOD9zlsrteMR4XViK0kYSFCdeCYns5T7FuyqlRf8Pj9ddfL/+G5n2Kn1iWcG159NFH028y27jmxAcEyaK3eD2IN1DJ4g/LP9yvi+diLhMLW64TWHTlxO8p1jvFxJjjL6d6nBijOfGGMyztovhXHjecn/QjDHFjq5ewqMRCjLFF7B8s1RrdO1BOs+tnrWMV37DIPQfuVvBlvDTrb645/C5jxZsTwbxzyteS4n1UXmZf3OhJ/J7X+/3ozLmVj89nrXOF6zBWUfmaWczvsgQkIAEJSEACPU+gLQQhTI5J+SalGgtiETeNxLkpJvJj7s0EhZs34gz8O5qzM4lDyMGdhBtTboBqpSwusS1PLHK+XKfiK7AxjSdRn94iCHETzB/ub7hFYBLPJI9YJ9xAYl7PBJSEcMQEm+DR3PBzc33zzTent/tES4iUJz5xTJ+Y/TOxKvJJG/zX7QSK45aDVY/dVitQPYYRPEicUyRcL3F7Ov/889OYYOwgKOKiVSsRz4QJInFaiglBCLeFnOJT5DDMMMOUxV3W52PnPM3Ov5yv1c9WriEIxNl1IpebJ5GcE7jlIHTQPoTS4kQ956ddHUkE4aY/m00+c5nNuOD20+g6iAtdcXKdy633mccCk/08zlph2ex6jBsUYgZB77mOEzsO4Y03XDGxx2WsXvwgmJG49uQ6MbnmD7GiVooWLkloYQKOu1u0qkjulIjf1BX3SNxwEAVwOeT3JguemXm936dax2t1vBTPwTwGOD9gnFPxGouLZQ7MTt9UnzfF8ti/Xn8jLOEijOjGNZ7ENT1/RkuS1D+IzdSLBzQ5ITLgZoYghYt3TriA8ftAOfkBS97GJw8hECMRA4vCCOVXn3dZzM37F9tV5JS380l7oiVi2S2WdbhKM6YQvnP7ooVNWibGD0IgbumcE4wrRELEafqa61mjVKwT+XJf5HOm1r7F60Meu+Rrpb+pX/U9UPEY+VpCXKWc8pjN5wzrG/1+5HwdObfysfisd65QD9yMTRKQgAQkIAEJtB+B/9059GDdmIhxc8REhkkBiZsH4tsQi4MnoDwZY3sx8Z0nhNxk4fvO005eTcwfVg7cdBK8kieGHU3UicC37Jtv4rixJE5DviHtaJlDKz9PRZmAE2OAG96cmKznG89s2UBcipy4oeXpeN5G/BhuHnkSX52wPIJRcbJSncfvPUeACXx1ql6HpQvWIYxpEucTN+75aT3nE1Y8CH+cj1gwMKGuJwgh/CCYFM8PxhDnYhYdOQ6TcywPeGLMpIyEAFBMXX3+MbabXUMYy9WWSrlOCAiIY1yTSFgRdCQVBZXifrSTaxfibBbSiIOClUi1tRL7NePS7DrIRLt6sl2sT3EZ652LLrooWYlhPcOEm6C8rbBsVg+Og7DApJvysD5DzKF9xHZjUp2tG4p1Ypm4WCRiWGGlQWIiC+OixUra8Os/xi9/iEz8EUMFi1PGLMdBZGGMEscHyxYCPSNakahTs9+nXw9T/mh1vDDuseoh5SDMnB8wQYzkYQYPNnLCmoSgzCSsiGgHbc/xf6rPo3r9jZUOvwW0nz9SjjPDbx4WKwh2/BHfCZEqiwsIdqR8nWAZsZig3VgUcr2olXhYw0OJ/FAh54FtvfMu56nHKW9HnELMQwAqiiZcfxgXRWsj9mF8Eq+L30cEQn7ro0to2TIWi+Rmqdn1s9n+xe2t9DfjEMsqxnG2nOPtofDDwpDt1deSfM/EtlZSZ86tYrm1zhV+Y7BqqyWgF/d1WQISkIAEJCCBniHQscfZ3VRHJqRMfnh6yASEoJkEkeSGLT9x4kknT3OZlDBZ4qYe03TWk3B1wS0FCwZu7rjJ44YXN7LOJCa9CEA8kWWCxs0iE4aiwNKZcofGPjzhJig3Lh5MrjB/hxdWQXmSyQ0kN/i83Yg31zAhZZkJByIcie8x5kbFH5ZGTARYz4TE1H4EeHsRlhd5ckgAX54a40pSfNsLE0BcAXnbEq9k5g/Rg7ycQwiqCH+IH0xWebKOawUJqzysCBhXJCZdTCyLwg/rOQ8RWoquHVglMKmlbLZj0ZfflMY+pO44/5pdQ345cu3/WEjglvR6FMmYCBJgupWUXS9xbcUqozrBAqs8WMCPPiNALyJAUVjL+zXj0lXXQQQArn0II3DD4hKrlzxRbsaylXogxHAtp83ZXQoBknHIG62yO2Bue/6EGZYreewypqkP16Ns4UDwXsYn45TEtRCxElcwRILsnpPHM3kI5M21ElEoWwexvpXfJ8QIxM0YL4VdkkVNK+MFoY06cW6yjMCVJ+W40DFusMah3BiLK735LLtkci3n9xG3ISb+CPcEf24lYcFTfW0/4YQT0q6Mb95ERSIYMxN6rGMR7+gbxia/H1jjkHA1RoihXxCSqCd/MMmJ8UTQeixwWhUn8r4IHlhv1eNEvmwdVO3azDisbifXHt58xblMyi533E/wEgmYV1ssVY8n9mt0/WR7R1Oz/uYBDxzpG36vuW4iinLPRCpeS+greOGCiajHvVErqTPnVrHc4rkCR85thFcSgbtNEpCABCQgAQm0IYFmAYoIcDQ0UnwiXIpvVCnFm7MUBDGKDqVioFXqQPBC1sebzhRcM05QylWL4k8KrEvwQrYTfDHezKYgh3lf1scnaGmf6gCqBLVkO4E9cyIIc3xqn9bHG50UdHRo8ch16OxnFLNK8SY+BYSmXXGiUYouL+X2Uy7BS+OT2RTwkTwEDo03/A0PSR9FoaBhHjd2HwGCgsaJdMUB6I84IS6vI4hqnByncRsnv2l9fHNOKVo8pPOGFbmcKLqmgL7ROqMUxYZy4GfyEDCZfRgb0WqiFIXCcgBbztcYF6KUA9LGJ/QpH8FZiylOssuBgovr4wQ2BaCmbI4RJ25p/2hZUc7W6PzLQVqjiFLOH8WEUnybTfk7HCg/WjSU1zW6hpQz1VggKCvBcCmPANlxkp6WCYZNKgZWLe7O9RWu8I2T1bQJltEKo5yNPooT7BT4lvLjpKyUOdZqZyMuza6D5YPWWCheEw888MBUZ4Kzkig3Ch4paHd0p0rrGrFspR7kIUB68XpCkHIY5CC36UDxXx6v+TvMOA/y9T4KjqVi0HSuffQX45TE9Z2g1VzHKT8+KCgVxxp5ouVF2sb2KIKwqpya/T5Fy7nS+OOPX4pWb2mfVsdLnMynazT1ot8z73xgGOdxR1vjg5KKczQK/uXfxCjylHJw9hxUOpfTyifXftoOq2IiCDy/DWwjIDEvKoBVToxdtlX/EfA6J/iwPQoZeVVLn7Sfc4frAy83qMWJYNGsjzGRWiozio0VQaW5JyBQN+OfOkYr5VJ8q2Jqay6wejzl8djo+lk8z2udxwTK5njFPm/W35z7MRZQ2o82U6/iWC1eSxgv0Q28Igh1rnduF5+cf9GiuLyqo+cWdaYd+d6q+lyJYlQpCv/l8ju6UORjUOmO0jO/BCQgAQn0FgJoDM10me7aPoCCG+lUBB0uPkVtlLcrtmHyjJUKT+2yq1Z1uQT+zHEUqrfl/QkwW+0rX5231e8EksaaJptpt7pfO+TjCTn1z09za9UpjoH05BHLIlPfIYDrX7FP4wQ8xUbBvQS3DuKkYDWWrSqy20mRQLyIJjePOLkou4zk7ZSXrVhwFcE6L968583pCTouK7zGmddn10rE76Dseuc6+3TH+dfoGlKrnnkdVj7Ut+iWkrc1+oyTpHQ9qo47UtwHaw8sABqdq8X8jbh0x3WweOziciOW3V0PuDJ+azErjs9cX/JjPZmtQvL6Vj9ze2r9PnE+VfdvvfGCixVWNVivcI5hhcO4qpdwtaKN+Xwr5mN/LFvq/SYW8w7JMhazuNN11e9qR+sC+2acOlpmMT+uWFwz642N4nhq9fpZLL8jy436m3Lob65B9VwkuZZwTR2Se5aOnlvV7euO/iIcAAGqsV5ulLAaxJIuCmAhvj2wUVa3SUACEpCABNqCAN4Z6Bc9kdoihlCx4birFN+iUdyWlxvd+Layfy6n1c9GN+qtltFT+bgprDVZKtaH+AX8mfoWgaIYRMuYTNaaUNYSgjIJ3DWKAWXz+lxe/s4kCreKYmKyi0tD8W1Oxe0sNxub5OmO86/RNYRj1kvNrk319mtFQGJyV2+CV6vcRly64zpYqw6sa8Syu+sB13psa431Rvnrta+4vlF7qsUg9mtlvFBmo76knHoiBds4Rxv1AXm6IhHjqSdTK5yGpH6IJ40ElFrjieM1un52tj6N+psyozVaw6I7ch2pV1Cjc6Uei2JZ3d1fxWO5LAEJSEACEpBA5wm0nSDU+aa4pwQk0CoBJhw8we2qRGyp6oTYUy0SVefxuwT6IwHiatWLkdQfefS2Nnf19bO3tb+n60v8pEapGCuvUT63SUACEpCABCQQHy62m8uYnSIBCUhAAhKQgAQkIIEiAYSga665priq7nIrrmV1d3aDBCQgAQlIYCgT6EmXMQWhodzZHk4CEpCABCQgAQlIoHMEWrEAQhAySUACEpCABHoLgZ4UhHQZ6y2jxHpKQAISkIAEJCCBfk5AsaefDwCbLwEJSEACXUpgmC4tzcIkIAEJSEACEpCABCQgAQlIQAISkIAE2p6AglDbd5EVlIAEJCABCUhAAhKQgAQkIAEJSEACXUtAQahreVqaBCQgAQlIQAISkIAEJCABCUhAAhJoewIKQm3fRVZQAhKQgAQkIAEJSEACEpCABCQgAQl0LQEFoa7laWkSkIAEJCABCUhAAhKQgAQkIAEJSKDtCSgItX0XWUEJSEACEpCABCQgAQlIQAISkIAEJNC1BBSEupanpUlAAhKQgAQkIAEJSEACEpCABCQggbYnoCDU9l1kBSUgAQlIQAISkIAEJCABCUhAAhKQQNcSUBDqWp6WJgEJSEACEpCABCQgAQlIQAISkIAE2p6AglDbd5EVlIAEJCABCUhAAhKQgAQkIAEJSEACXUtAQahreVqaBCQgAQlIQAISkIAEJCABCUhAAhJoewIKQm3fRVZQAhKQgAQkIAEJSEACEpCABCQgAQl0LQEFoa7laWkSkIAEJCABCUhAAhKQgAQkIAEJSKDtCSgItX0XWUEJSEACEpCABCQgAQlIQAISkIAEJNC1BBSEupanpUlAAhKQgAQkIAEJSEACEpCABCQggbYnoCDU9l1kBSUgAQlIQAISkIAEJCABCUhAAhKQQNcSUBDqWp6WJgEJSEACEpCABCQgAQlIQAISkIAE2p6AglDbd5EVlIAEJCABCUhAAhKQgAQkIAEJSEACXUtAQahreVqaBCQgAQlIQAISkIAEJCABCUhAAhJoewIKQm3fRVZQAhKQgAQkIAEJSEACEpCABCQgAQl0LQEFoa7laWkSkIAEJCABCUhAAhKQgAQkIAEJSKDtCSgItX0XWUEJSEACEpCABCQgAQlIQAISkIAEJNC1BBSEupanpUlAAhKQgAQkIAEJSEACEpCABCQggbYnoCDU9l1kBSUgAQlIQAISkIAEJCABCUhAAhKQQNcSUBDqWp6WJgEJSEACEpCABCQgAQlIQAISkIAE2p6AglDbd5EVlIAEJCABCUhAAhKQgAQkIAEJSEACXUugLQWh7777LpRKpSFq6Q8//DDEZQxRBfrZzt9++22nWjxo0KBO7edOEmhHAp09D7qrLe1Wn4620+t4R4mZXwISkIAEJCABCUhAAq0TGK71rN2f8/bbbw/33HNPePfdd8Nwww0XFl544bD22muHEUccMR382WefDSeffHI4/vjjw0gjjVSzQi+88EK47rrrwquvvpr2m2mmmcL6668fxhhjjHL+yy+/PDz//PNh3333La9jYY899girrrpqWGKJJdL63XffPXzzzTdpefTRRw/TTjttWHTRRcNss82W1vXWf5ljrv94442X2rTOOuuEYYcdNq2G0U033ZSzpM/hhx8+/O1vfyu9CxD2AABAAElEQVSv+/HHH8PFF18cnnrqqfDZZ58lxiuuuGJYaqmlynnysar7jL6+9957wzvvvBPGHXfcMNdcc4W11lorDDPM/zTKo48+OgwcODAcdNBBYeyxxy6XueOOO4bNN988LLjgguV1LnSewEknnRSee+65mgXkfjvzzDPTOUVfMA5In3/+eeqbZZZZJp03rKPPXn/9dRbT+TfllFOGNdZYI0w99dRpHRP8XXbZJS0X/6255pph+eWXL67qNcucB5dcckl48skn03nAtYLzYOmllx6sDVdddVW4/vrrw+qrr57yFDPkcyWvm2CCCcIcc8wRYFM8LxDMd9tttzDCCCOEY489ttwfeb9W6lN9DezKMZDrkT/zmOCcXWihhfLq8PPPP4e99947fPnll4Fr7XTTTVfe1up1PF+jYMEYg1c193z8cuFxYdZZZw0777xzcZXLEpCABCQgAQlIQAIS6HcE2kYQuvnmmwOTpXXXXTfMOOOM4ZNPPgkXXnhhOPvss8O2227bUse88sor4ZRTTgmLL754WG+99cLXX38drr322nDCCSekCceoo47aUjk5E0IFkwyEki+++CIwSTnttNPCFltsEeabb76crdd+7r///mlS+f7774fzzjsviXAIcDlNPPHEYYcddshfw4ABA8rLTOZOP/30JN5tsMEGYZJJJgkvvfRS6jMyFUWh8k6/LhT7eoYZZkiiD30N4y233LLiOFgQsW377bevLsbvXURgs802C99//30q7cADD0zn4Oyzz56+ZzGWcYEYdMMNN5TFn8suuyyMNtpogwkbiyyySPjtb3+bxFQE3hNPPDEcfvjhoXj+bbTRRgGxNifK6Y2J8+CMM85IwmY+D/7v//4vXHDBBUnEWXLJJSua9fDDD4dZZpkl8IloVCvl8xJhnPMSAW611VYrZ0V44tzE+ueZZ54Jc889d3lbR+uTd+zqMZDLzZ8jjzxyuP/++ysEIUTIn376KWcpf3bkOs74RFTiOvHGG2+EK6+8Mnz44YfpIUC5wLjAwwXGZE4ISCYJSEACEpCABCTQVwhwD8iD13zvXq9d5MHwojivq5e3u9ZTB45PPRol7u+atafR/m5rjUDjXmitjCHOhXsYwg2Tzt/85jepvAknnDAwSWHSyRPxehZBxYPztBjrHUSlnKaYYoo0kX3ssceSUJTXt/KJtcxEE01U/kO8YPBeccUVfUIQQvCC6/jjjx/mn3/+8OKLL1Zg4SRlW6301ltvhaeffjoccMABSQwiD3mZ4DGRrZfoayy4in0N47HGGiscc8wxYeWVVw70fU6Ie4888kiyQuLpv6nrCYw55pgVhWJNV93v5FlllVXShBsrD8S7hx56KAl12WIoF8LkH6szElZfd999d3jttdcqLOsor/oYef/e9Pn222+nsVl9HnDNypZSuT0IFgjdO+20U/jzn/+czhOE1OpUPC9ffvnlZL1VFIQ4H7jOcQyEpaIg1JH6FI/b1WOgWDbLCIyMl48//jhZBLLugQceSO1gfTF15DqOFRXXDxLWaFw7eACw3HLLhXHGGadc7CijjNInxlu5QS5IQAISkIAEJNCrCRS9MbAE556QeU+eC9O4Vqycube86KKL0oN5Hhby0BBjBh5AFlNHra/r1WlIPGiKdWBOiBHIhhtuONg9WqueJHjv0NacmIMeeuihgQfccMieCZNPPnl6gJgt7nn4eNxxx4UjjjgieaEwT2EeWivhCVE8Rq08vX1dWwhCH3zwQXrCO/PMM1fwnGaaaZIbV8XKBl+YcDFpLSYmp0wU3nzzzeLqTi8zEUPQwPqoaPHQ6QLbYEdOSCaSRbcsqoUqywmTE1YcefIFT4SD6glt8SKW9yt+0tdMZKv7eqqppkoKMOUWBSGe5ONKhJUQFw1V4iLNobuMK859990XrrnmmvDpp5+mH5o555yzYSVwKyNVWwDhCsgkPSeE295otcE1p9Z5UG0ZRDsRb/jh4hzih4nvuI41SvArsuO6g7vrsssum85PrJOKgnlH6tPouPW2dWYMUBYCIec1IhCiLzcsWDoh+lcLQkNyHUe0ZxxRRlEQwqW1eC1DjKwWweq12fUSkIAEJCABCUigOwggWhAKA3d/HgIy32E+li31OWYjK2ce0BLegfsavDq4J+Ve69RTTw1/+tOfAvfXpI5YXzerU2c9aGhf0ZMHiybmFDzIQ8DJc7yOeJKkxrXwD0OGO+64Y7CwAnlX7ssPOeSQ9BUxCqOHHOICLaGvp7YQhD766KPEuXgD31HwuLxwUtQqg4H73nvvdbTImvmzaMKT7t4uCDGZRAziBCXlgZ8bjnjDRSaneeaZJ2y99dbpK24ZRda4rtx11105a7IcySpseWVcqNfXWF5RHuUWExZHKLO4HmFFhsWJqWcI0J+4ReUxgZVLrfTEE08k0QPxAjehySabLAkgxby4hxYTFjZZbCyub/dlxnPxPKhXX86zRx99NI1l8hAzC3ENy59qk13GOj+KiKPsk8859nv88cfTtumnnz5Z42HFyDpuFkit1idl7sS/VsdAddG0HyvELAjRLn5gaUcxDel1HJYIPVyfiwkLUTjlRFy5ZuJ1zuunBCQgAQlIQAIS6A4CeGNkq3rug4mvSgiOoiDUyMqZh2oIK9ttt11ZUOFhIw8UEYGyINQR6+tmdeqsBw1CT7UnD/e4xLFEsCGWJPeLHfEkabVPMC5g7sFcFq+U6lT0imF+Txv7gidDdTvrfW8LQShPBBEgJp100np1bbiep8IIP5RBwNBiIkYOamcxMeCqE+uqJ2fVeSifPEUrluo8veU7JwRBs1GlV1hhhcEmZ6il1YG3c9vgyUUrJxRprB+YxBJkuh7H3A/Vfc3FDDEob8/l8olLEhM44jcx8a1XdnEfl7uHABYYWO7x44W7Tq3EZPzOO+9M7ohYEGHNwoW1mPjh6gsugFy7EHCaJX6UsVLhRx4+XJP4xEQVnsUEO8QSrjHbbLNNhUsYT1I4ZwnmTsKK7+qrry4LQq3Wp3i8ji63MgZqlUkQeOqP9Q5ubwhE1aJxR6/j1cdBQMZ0uvo6gmVTXzf3rWbhdwlIQAISkIAEeg8BrKe5N1xggQUqKt3Iypl7Ku4js3VN3hEL7GLqrPV1vToVy2a5FQ+aWnWg3rzUKSfmhx3xJMn7NftkjorohGtdq7GJm5XZl7a3hSCEkIMaxxPcoiCES8F//vOfcNhhh6UJUjPwuIZhnYC7RhYNcG0hlkfxjVRMmjAbQwhBESShpDLRaib0oMSyf/WJ16xu7bidWEvEECJwLRM03O0yj2b1RXGGF3GHcOXiO3/EfKIfMv/qcrCmwAWGJ/bFvsbCiP5g31oJpRyhj6CxrdaxVjmuG3ICTNr5q5f6g69tbjvjlfMAoQehJKdLL700CR9//OMf0yrOLxJjHxEnP53gelItCO233341Y6ZxjcouZJRBQjjiGod1JKJsq/VJOw/Bv2ZjoFbRiIj8IHONRiCrZ+1HG1q5jtc6BpZHiEL5iVitPK6TgAQkIAEJSEAC7UAAkeKf//xnepjFQ0Luleadd96KqjWycsYyvHj/WbHjr186an3dSp2qj9PMg6ZRHYplddSTpLhvo2XuDXkwyEtumHO2Epu4UXl9bVtbCEJAJcjwueeem6xBmPxjLXL++ecHLAyqffd4ul4UZBBoSCuttFJ6DTMiEu4AuKxgHsb24snF240QLP71r3+lfRAiCOzF66KLkzMGD69F5w/FFsuXBx98cDDXqnTwXvwPbrj2YPGzxBJLlFsCl2pXu8waMQdrHRjSd1gTESjs1ltvTcHByoXUWCD/Oeeck0QFFGUuPFg8IOQ1cr/hzXEECuOiYurdBBAximMLoaQYK6e3tI4YWpwH/JjzQ4OYwevjb7vttrDpppumZmD9xo959avm+dFHmGZcV1vK1Go/ZXDdO/LII8uiKIH48BFHCOHNfq3Up1bZQ2sdAckRoBHeEW0QsqpTq9dx9uO3gOszohyur9dff31Yc80107W8WC6/BcXxhqDV6FpT3NdlCUhAAhKQgAQk0F0EeEjIgzISb1uujnHYyMqZeRlWNY0S9zwd8aKhrGZ1qj5eMw+afN9FvmpPnmJZ2cKbfEXDgXqeJNUeP/l7LcME7pFhyZuAN9lkk+Jh+/1y2whCTKqY6BOHhrd44SbE66sRD6rTUUcdVbGKAFV0PAOHwFy4UBA5nMGH+MMrrotvQkLF3HXXXdPEhLLYl4kcE6tivi+//DKJFVgocXLydJs3BFXHvaioTC/8Ag+i2jOZgnlmQODf6jgxBCnLaeONN05CDlY7TPDxtWRyu9hii+UsNT+ZFNLXuMbQ10zM6P9afV0sgAk0rm30r6l3E+BiXEwEGq4OCF/c3s7L+TxAVMasF2GZ84BxTkIo/eqrr1LcoGI7EKkZywSJbvTjmPchCDUCatFCjnMVAR1LIwQhUrP65PJ64pM2I/RnNrXq0Op1nH25jnB95knP1FNPnd4wWSs2ELGL+MuJa3i23srr/JSABCQgAQlIQAJDkwAP1HmgyByIoMZ3xAeFReOEZnVh/kqMVe4ziw9WeWMWc+D8ltqOWF93pk6teNDUqgNz7YMPPjjFy+StaB3xJEEM46FgMfGWMe6TEcBqJeYb3E9jCGH6H4EB0fVg8GA6/9uenqoObfN7/BW5wa+l7hWq1nCRiQIDotmTd1wvyJNFkIaFurEugeKbjupmqrGhs/vVKMpVEuhxAliqFN+e1tMVarf6dJRHq9fxjpZrfglIQAISkIAEJNCTBHiQyEPBHK8Va288LwgdkK1jeO08wgcPxHPK1jZ8Zx517LHHJgtyLKx5yI+3BqEK9tlnn/ILWxBOyMdLTYpeNMT45AFZnge3Uide1U6oF4Ssag+aRkYTuQ5zzz13qgNWP4RYwIp7//33Lz/w5AEeniSIWUVPEmIrEVM2J0LLEF+WB8rzzTdf8i7C2wjhiTeukfJr54kbxHFJsIEzKb92Pn359R8CG6IRQtXQTMThzZ44Q/O4HKttLISKDa92EStua3WZk6WVVHQ9ayW/eWoT6KwvZmf3q10L10qgZwm0kxgEiXarT0d7p9XreEfLNb8EJCABCUhAAhJoJwK8AQtvDazHt99++3LVGlk5M4/aeeedk/U14QsQiHCNwmOmKC50xPq6fOC4UKtOnfWgoQ60ixeMIE7h3jXzzDMnN7mi9XurniSElcH1C2aUyZweq/lm7mCIR7wQhji4pl8ItKWFkJ0jAQlIQAISkIAEJCABCUhAAhKQQHMCWNxgWd3sYXs7WF9TBzx0ikJQrRa26kmClREPQYfEu6jW8YfmOi2EhiZtjyUBCUhAAhKQgAQkIAEJSEACEugjBBBYmolBNLUdrK9brUMr7aFNuLCZOk9gmM7v6p4SkIAEJCABCUhAAhKQgAQkIAEJSEACvZGAglBv7DXrLAEJSEACEpCABCQgAQlIQAISkIAEhoCAgtAQwHNXCUhAAhKQgAQkIAEJSEACEpCABCTQGwkoCPXGXrPOEpCABCQgAQlIQAISkIAEJCABCUhgCAgoCA0BPHeVgAQkIAEJSEACEpCABCQgAQlIQAK9kYCCUG/sNessAQlIQAISkIAEJCABCUhAAhKQgASGgMBwQ7Cvu0qg3xB46aWXWmrrDDPM0FI+M0lAAhKQgAQkIAEJSEACEpCABHqSgIJQT9L32L2CwPHHHx9aFYR22223oCjUK7rVSkpAAhKQgAQkIAEJSEACEujXBBSE+nX32/hmBBCC+EPkaUXoaSVPs2O6XQISkIAEJCABCUhAAhKQQH8g8O6774YJJ5wwDDvssB1q7ldffRV++OGHMPbYYzfcjzwfffRRmHjiiRvmY+OHH34YRhtttDDyyCM3zdtXMrSNIPTc8y+F/Q85Jrzz7sDw448/hcUXXTAccfDe4fiTTw+lUinsv9euifkW2+4aZp1lxvCnXXdI6zeP33+3xUZxAA0TDj78uPDFF1+GUWIHHrDPrmHpJRbrK/1kO3qYwMorr9ySINTD1fTwEpCABCQgAQlIQAISkIAE2prAl19+GX7/+9+HO+64I3zyySdhxBFHDOuss0448sgjw1hjjdWw7pdddlk47rjjwnPPPRd++umnMPXUU4ejjz46rLjiihX7sX333XcPjz32WPj222/DmGOOmb5z3KL4hNZw6KGHhksuuSS8/vrrYZhhhgkLLbRQOPHEE8OMM85YUWZf/NI2gtDX33wTjjp0vzD9tFOFN958OyyxwtphjVVXDONExe/SK6+LglAIH3z4UbjzngfCwPc/CHv8Yfvw+htvhfvufzgcf/TBYbFl1wgH7rNb2HDdNcK33w0Kb8ZtraSBAwcmxXCSSSYJ4447btoFFfGFF14IE0wwQVIrczmfffZZeOutt8Jkk01WoUR+8MEH4f3330+CAYOZxMD6v//7v/D222+HmWeeuaKcXJ6fQ4fA119/HV599dV0EZhiiimG6KBYC1177bUtlYG1EEJSuyfG+/333x9+/vnndA5wsRxSTu3e5q6uX28735955pkw/vjje13q6oFgeRKQgAQkIAEJSEACDQl8E+f9a6yxRnj44YfD5JNPHpZbbrlw3333hfPOOy+88sor4eabb667/+WXXx623nrrtH3ppZdOn7fffntYb731whVXXBHyOuZsq6yySprnzzXXXGHaaadN5R544IHh888/DwcddFD5GHvttVc47bTTwhhjjBHWXnvtNG+kPpT11FNPlTWC8g59bKFt3jI2/7xzhRmmmzqpfFNMPlmYesopwvMvvhKWWHyhZDUE91tuuzusuNySsWM/TpPXm265M8w91+xhpJFGDMMMGCZgZfRVnPyPHL/POON0LXXVZpttFhZddNGwzz77lPMPGDAgKYx/+tOfyutYOOmkk1Lev/zlLxXr99tvv7DMMsukOrGBgTPnnHOGeeaZJ6y22mph+umnT4ong8805ARQax944IGWCrrnnnuSwlvdxy3tXCNTR+IJXXPNNS3HHqpxqKG26r333ksXTMYqnGabbbakhm+55ZbhnXfeGWr16K0H6o3n+2KLLRbOOOOM3orcektAAhKQgAQkIAEJ9FICt9xySxKDpptuuvRQmntS5nY8TH/wwQfDDTfcULdlxxxzTNILmI9feuml6e+vf/1ryn/IIYeU9/vnP/+ZxCAEnrvuuiucddZZ4frrr0+uYIg/GHSQsE76xz/+EfWEkdJDf/LdeeedSWDCiom5X19PbSMIPf/iy2HdjbcNy66yflhzg63Ch9HPrxQtFmaaYbow7jhjhwcfeTzcdue9yZVs0kknDp98+lm454GHwkILzBNGHWWU8LfjDg333P9QWHSZ1cMuexwYXnv9zaZ998Ybb6RBt9Zaa4Wrr746oFaShhtuuLD44ouHu+++O1n65IJQH9mGaVsxMcgWXnjhNMB+/PHHsOaaa4apppoqDXQsUy644IKAMLHHHnsUd3O5kwQOOOCAcNtttzXdm/5C5EAdxgKsqxIXK4JHN/rLlkEvv/xyVx2228v53e9+l0wqGd+InAgdKPa9qQ3dDqnqAJ7vVUD8KgEJSEACEpCABCQggQYEsL4hYZiBVQ5p9NFHDzyMJl155ZXps/of3jq4gRHjJ+clD+Xg4YBrGN48pHyMnXfeOX3n3+yzzx6WWmqpgPcIohQJLwks/Zn7Y9CR0y677JIW69Ul5+sLn20hCOGqsulWu4Tppp0q3H79JeHKi84Kk04yUeRbSj58a0bXsbPPvTiJPHPMOktYZsnFwlXX3hTeeOOdaEG0cOoH1rHveWeeHF3O3ori0nZJPWzUSRdddFFy/Tr88MOTGIQolBMmYh9//HF49tln06ovvvgiPP7442GbbbZJ6whMRWKyjNtZNk978803UzCqVVddNVlZjDfeeGGllVZKSuN2222X9unpf4888khSYPOJQn1wg0LowM2NhJ/lrrvuGmaZZZYw5ZRTho022ii1M21s8u/pp59OJyb7zT333MkSgRMtJ0wBN9hgg+SWhJkgTOGbE0IdPqTsz/Gx3ho0aFA6PnUkHXXUUam+rK+XRolC4Y033ph8UUcYYYR62Vz/KwFUev6wbOPCypj4/vvvk49uhkQ/oshjYULf0Y/42ua0+eabh+233z5ceOGFSSTFXZK+KiYEJy7GiHTzzTdfOPvss4ubQ7PxU5G5h7+0er63wg1B7thjj01iMiIyTyTwWya4XU4Ez5t11lnDEUcckVZ1ptxcVvGzGfN652Qu4+9//3tYYIEFUp9iLcnTHZMEJCABCUhAAhKQgASqCTC/IBGrp5jyfO21114rri4vsx/3vtX78X344YdP+TDGIOU5YnXe6mPUy5fLI/wL4TX6cqrshR5q6aBB34cPosAy3zxzBdy1Pvr4k/DSK6+FTz/7RSRA9Ln+ptvS+plnmi4stvAC4YJLrgzfDfouzDPn7Glg5I6abZaZwu67bBc+jGIOQaYaJQShZZddNkw66aRpEswkNicmrCSsf0hYC1Ee4gUpr8+fWRCaZpppUllMgs8555yy0MHEjslvOyROJtyE8slInb777ru0DosH0v777x/++9//hj/+8Y9JACDmCBPWZoko8Yg5TGKZtC6//PIpeFee9CM0YZGFKITJH6Z9mO8V3fPWXXfd5LvJhBhVF5M/lgkwdvDBB6cqEOOGZSy26qUFF1wwzD///PU2u74JgYkmmii5kKG250SgN/oNqyuCryEgrr766mn8kAezS/yBOZc22WSTJBAwDrLYyrjDgo54XZiHLrnkkimgHBZ0pGbjJ2Vqo3+tnu+tcLv11lvTE5Gddtopue2tsMIKSQS96qqryi2+7rrr0pMPzitSZ8otF/brQivM652TFIEvN6It19LTTz89PbXhGlAUeauP6XcJSEACEpCABCQggf5JYJFFFkkN//e//53mDnxh7njKKaek9TyIrJWI78vDa+4xmR/mdOqppyb3ML7nffMxTjjhhHJYl0cffTRwL03KD7Tx8iExp2c7CV0hP9Bm/o8o1KdTVMVKjf4i1CjEdX86/qTTSzPOtXhpk61+X1pj/S1Lx55wamm5VTdIB44CUWmKGecvbbPzn9L3t95+tzTVzAuWDjv6hPT9k08+Lc218HKldTbeprTRFjuWZp5nidLV197UsNJPPvlkKZqmlWI08ZQvPpkvRcGhFCes5f2idUopBqhK36O7VykKOmk5xlkpRaEiLUdLilIMUhW9234u7xeDWJU23HDDVH58DV4pTp5L0dqivL2nF+69995Ut+hSVa4KHOARg2mndXHCWVpiiSXK7YrmdxVs4FT8i5YLab8oEiQe0RSvXPamm25aisG8yt+jqV8pxqYpf48iWylaPaTvUTAqjTPOOKV99923vJ06RR/O8nfqGa26yt+jCFFRF75Xp2giWIpWTtWrm35/8cUXS9HipcQnieXop9ryfjGOUNO8PZ0hWrmkvo9WHoNVJYo5pWiCWaJf+GM8xxhO5Xz0Jf0RxdW0jrEeBdaUlxXRki6dVzFYW9rOmCN/FAHTd/5xLkZxMn1vZfyUd2yThWbne6vcYrD6UvG8oXnREqsU3Q/LLY0WWaVodZe+D0m59CmsSc2Yc5xG5yT7My4+/fTTVF78kS7BxCQBCUhAAhKQgAQkIIFqAjFMS4m5JnOC6DFQim8HK3EfHB8upnXzzjtv9S7l7/FBaZpbsG+0Ti9F4acUX1lfYn7OuhhXKOWNxgdpTsq66GFSimEw0v1sPkb0hCmXGR9spn25n41GHiU0gOgxUYreKml9fHlUOW93LaC5NNJkunNbffOKoSyD/WGn38WA0UuFL2LwpnlioGheBbfrztumWhBD6IXH74qmYL9Ud7IYQ+iph26Nr5cfKW0fe+yxwsN3Xx8eefSJ8PEnn4VTTjgy+hH+4o9YrxlEMScRdZw3hKEiogBi2ZB9BrESIlo5Lm24uUSBJO3zm9/8JhAwmITlEC4SWDblRBBprGtwN0OFxBIJ1xosWrC46Q2J+v7hD39IbiC8wo8n/tmvEssi2lhMWAjwh1sdQbqK8ZJQXLEcYT/M9LDuwerhiSeeSBYmMMxmeQT0woKEAN5spw+wNMFXtF7CeuGhhx4qb8adKau/5ZUudIoArpH45NIvqOZYkOHOxFv4iikKZuWvM800U8rPCiyBeBUk5xiJoNW4AkaRMLlSYiHEWMv938r4SQW10b9m5zvXgVa54eZYTLAhnhPnFNvwd87WdENSbvEYzZg3Oyd5S8Tf/va3ZBmJqyzXi+rXfhaP57IEJCABCUhAAhKQQP8lMPLII6dXvGOFQ1xY5huEVsG7gyDQhKWol7jXPP/888N//vOfNFfECwcrIN4eRuJt4CTeKsZ8nXtUPBGYhxLiAJcyQhvkfOTFm4HveDRgDcRckvtv5r68QZw38/bl1CaCUCkJKjNVvRls2GH/J7KM/Kv4kztj9NFGzYvpc7goIC20wLwh/PhdCD/Fv+8+CWHYEUIYfnAhAYEH0zISMW6KCdekLAjhBsZgI+o5r64jmDGJSezJJ5+c1jOAs7tYsRyWifXBHyIQogWDlUDERfGoep+e+h7VzopDE6grqrPpFXy4hPBmL05U4scwec8uQHkngmiTiHFCigpr+uTfxhtvnJYxv8PED34E82LSiMjGhBPBLSdciXBD4mTnuLgowZvXCdZKxF0pvsGteOxa+V3XOgFiy+RzpNi3Rca///3vwxxzzFEuFDG3mIrjnbGDeIeJKDGKEA6J4cUFGyGpeIxcRnH8ZL/fvK2dPuud78U2NeJW7eNM27hu4L6JgIowx49ZtD5MzR6ScovciuXk9dXMG52TvJWOAORcU/lR5+0MCO24wGWhL5frpwQkIAEJSEACEpBA/yZA/F3m0MwhmAfkxLyPhMhTKzGH54Eo4V4w7shzjGjNnh5WE0oEIYhEeBLmnswji4YFGDmQmHeQeJMY7mOEathxxx3TOv4RMgNjEe7v83HKG/vYQnsIQo8cHcL0cbI/5jRDhnfg/SE8+fcQholC0PsP/yIIbfSLL2CxYCxSSFgprL/++uVNDMKbb745PP/884FguAgXTNKIf8NAIPo4CWsiBtyZZ56Zvud4Q3zh9XfR3SmpnkQyJzFBRnVEjWRgNYp7k3bo5n/R/SMdgSjttJFU/SYp/Djx08SXk5OPANO0F1GMaPDZWirtXPiHeECg3ehGUg74RXBu9mFyiAjAdkQ2AkaTostQoYRffDqxukIB5s1vxCZhslkUhIoCFpNPU9cTIAYW/ZRf4QhnzgNEii222KJ8QKx/oqlm+XujBSxluOjusMMO6Q8/X4JYc1FnzDQbP43K7oltrZzvQ8KNcxDBmddvEkOLa09+ajIk5RZZtcKcPqt3TnKO8vfnP/85/WFlSaw13vKXYx0Vj+eyBCQgAQlIQAISkED/JcDDYebhxAPiLV9Y4RDT8rjjjktzja233romHObl3GMyh2WOihcJiZiazDeZK+KdQOJV8vzxYiReM0+66aab0h/30ghAJMQk5rWUTV2w/OcBLJ4vpFZi6KaMvfjfMG1R91l/F8JDUR28cfMQXrs2Wvh0MpL3xAuFMO+fQuBz1ctDGLX2q8aZsDDwMFPD/Sv/YcFDwiWGhHCCqRiWKog7+ek+KiOTWPIhahB8NydMzGIsjbDVVluFyy67LJmoYYbGhBeLmJ4Wg6gnAx2BhhMJ1zasoIqBaxFbmMhhsodYQ0BpRDLaX1RYc5uLn5yInJAovpysCApMaHF9IU088cTpkzecITpdfPHFFdZGiEWwxV2NgMUEKMZ0DzeznFBqYxykwNvSTF1HgLHAWOc8QCilDxB/ssUcFiqrrbZacn3EJQ+RALGI8dRqXyCgYA6KxRd9jUUJ6j1uZKRm46frWts1JbVyvg8pN37IELERhbJ1ELUf0nIzgWbMm52Te+65Z3IFxJ0NM1x+TEnFczYfy08JSEACEpCABCQggf5N4Le//W0Sg7DiwRqI+QXeBrxWHqGIuUW9xByTxEtYeFjJXJ25C/fFxdAseLswb2V+w0NU5qNYB/FwG+v7PCfn4SvzHkQgHrxSF47P/Szz/DyHrVefPrG+WYCioRVUuvTzT6XSU6eVSmdMGv8mK5Xu2adUGvhQqfT566XSoC9KpZ9/rIzhRP4fvi2VvhoYI9c+XSo9c1ap9N8Y9PmsGUql128slR4+ulR69t+V+8RvBEgl6G2c6A62jRVxsJSidVApWvKk7THuTwomFf0IK/ITSJUgVQShqk4xJkcKbEWQavJwvDhoy4F2q/P3xPc4eStFU7kUDJZAwATgoq45qHQUYkoE9GIdfwTWihZOLVU1igUpyBf7ReEpBcXN4yhaiJTiiZwCFbM9Wl2lAN0wyuncc88tReU2HReG8cQsRdU4by5FF7YSQaLZP05Ay+sbLXQ2qDRl5oDSLPfloNLw5I8AalEkKEWf23KwZ9pO4vyJYmca0+Sl36Lq/svG+J+xRJC4YmLsRIuitCqKP6UoIKSgbuwfL8Kl3XffvRTfclfepdH4KWdqo4VWzvfOcMtNJPBe7hsCNhdTZ8uNP5rloNKU14x5o3OS4PIx7lc61/P4iW5jxWq6LAEJSEACEpCABCQggTKBaEBQimJLKRpWpPvc+ObedG8aPVPKeeotRKOMUhSQ0n7RYKEUvXVK0XhhsOy8uCZa/6T5LveoUTwqxfjAg+Vj3h9FolKMe5rKpE5RmCrFkCSD5e2uFT0ZVHoAglAjZSve7A/dJ70/xBg0T54Wwv37hlD6OST3r2Fj8OiRYkyakaKr03Ax6OrP8dXo338Wbbw+iu+F+zp+/z7mGz6EJaLf4UwxXs0ww4ZwWTQDWz1aGw1fGaS1UVu7elucrKVgynHS3NVFd1l5vG6eGD71EsGgMaHDXaWjiX0puzpQLuXgYkLcn2wxVF12PNnSK7ex0qpXP/ZHDR6aCVenGKk+xYJqdFxiThGPKgokIb4lqlHWXrkN10dcxei/zvjV4jrG/ljXVcccykAajZ+cp50+Wznfh5RbvfZ2VbmNmDc7J2k/T3bqndP16u56CUhAAhKQgAQkIIH+SSDfw8a3jXUYAF4pBKiuNdcsFsY9KvFrxxtvvOLqmsu4rmE1lC2IambqhpVY5Be9jrrhEHWLbI8YQsXqEQR6vj1CmC36DhIH6J27Qxh4XwifvhDCx89FkeinX8QfxKEJYhDpSRaNf4vF5XlCGGH0X0pCSFr9mh4Vg6gIA7SdxSDqWE9sYRspxxv65VvH/jfalxO30cmLyNDswjC0xaCOtb5v50bEadY/jQhwkW12bjQaP43K7qltrZzvQ8qtXtu6qtxGzJudk7SfP5MEJCABCUhAAhKQgARaITAk97A5XlCz43TkHnVI5jfN6tGu29tPEMqksAiacvlf/vK6Vj8HxNBIw1e+hazVXc0ngVYIEBy7UcJCyCQBCUhAAhKQgAQkIAEJSEACEmhXAu0rCLUrMevVrwngAsYr0lsRfHAt64vuYv16ANh4CUhAAhKQgAQkIAEJSEACfYRA+8UQ6iNgbUbfJtCqINS3Kdg6CUhAAhKQgAQkIAEJSEACEhgSAsYQGhJ67iuBHiCA9Y9JAhKQgAQkIAEJSEACEpCABCTQWwnEYDsmCUhAAhKQgAQkIAEJSEACEpCABCQggf5EQEGoP/W2bZWABCQgAQlIQAISkIAEJCABCUhAApGAgpDDQAISkIAEJCABCUhAAhKQgAQkIAEJ9DMCCkL9rMNtrgQkIAEJSEACEpCABCQgAQlIQAISUBByDEhAAhKQgAQkIAEJSEACEpCABCQggX5GQEGon3W4zZWABCQgAQlIQAISkIAEJCABCUhAAgpCjgEJSEACEpCABCQgAQlIQAISkIAEJNDPCCgI9bMOt7kSkIAEJCABCUhAAhKQgAQkIAEJSEBByDEgAQlIQAISkIAEJCABCUhAAhKQgAT6GQEFoX7W4TZXAhKQgAQkIAEJSEACEpCABCQgAQkoCDkGJCABCUhAAhKQgAQkIAEJSEACEpBAPyOgINTPOtzmSkACEpCABCQgAQlIQAISkIAEJCABBSHHgAQkIAEJSEACEpCABCQgAQlIQAIS6GcEFIT6WYfbXAlIQAISkIAEJCABCUhAAhKQgAQkoCDkGJCABCQgAQlIQAISkIAEJCABCUhAAv2MgIJQP+twmysBCUhAAhKQgAQkIAEJSEACEpCABBSEHAMSkIAEJCABCUhAAhKQgAQkIAEJSKCfEVAQ6mcdbnMlIAEJSEACEpCABCQgAQlIQAISkICCkGNAAhKQgAQkIAEJSEACEpCABCQgAQn0MwIKQv2sw22uBCQgAQlIQAISkIAEJCABCUhAAhJQEHIMSEACEpCABCQgAQlIQAISkIAEJCCBfkZAQaifdbjNlYAEJCABCUhAAhKQgAQkIAEJSEACCkKOAQlIQAISkIAEJCABCUhAAhKQgAQk0M8IKAj1sw63uRKQgAQkIAEJSEACEpCABCQgAQlIQEHIMSABCUhAAhKQgAQkIAEJSEACEpCABPoZAQWhftbhNlcCEpCABCQgAQlIQAISkIAEJCABCSgIOQYkIAEJSEACEpCABCQgAQlIQAISkEA/I9BUEBowYED48ccf+xkWmysBCUhAAhKQgAQkIAEJSEACEpCABLqPAFoLmktPpeGaHXj00UcPAwcODKVSqVlWt0tAAhKQgAQkIAEJSEACEpCABCQgAQm0QAAxCM2lp9KAQYMGqfT0FH2PKwEJSEACEpCABCQgAQlIQAISkIAEeoBAU5exHqiTh5SABCQgAQlIQAISkIAEJCABCUhAAhLoRgIKQt0I16IlIAEJSEACEpCABCQgAQlIQAISkEA7ElAQasdesU4SkIAEJCABCUhAAhKQgAQkIAEJSKAbCSgIdSNci5aABCQgAQlIQAISkIAEJCABCUhAAu1IQEGoHXvFOklAAhKQgAQkIAEJSEACEpCABCQggW4koCDUjXAtWgISkIAEJCABCUhAAhKQgAQkIAEJtCMBBaF27BXrJAEJSEACEpCABCQgAQlIQAISkIAEupGAglA3wrVoCUhAAhKQgAQkIAEJSEACEpCABCTQjgQUhNqxV6yTBCQgAQlIQAISkIAEJCABCUhAAhLoRgIKQt0I16IlIAEJSEACEpCABCQgAQlIQAISkEA7ElAQasdesU4SkIAEJCABCUhAAhKQgAQkIAEJSKAbCSgIdSNci5aABCQgAQlIQAISkIAEJCABCUhAAu1IQEGoHXvFOklAAhKQgAQkIAEJSEACEpCABCQggW4koCDUjXAtWgISkIAEJCABCUhAAhKQgAQkIAEJtCMBBaF27BXrJAEJSEACEpCABCQgAQlIQAISkIAEupGAglA3wrVoCUhAAhKQgAQk8P/s3QWYXNXZwPGzyaIJCQQNXijuxd1dimtxhxaXYi3+YYUixd2KFStQKO7u7k4CgUBCIEA22W/+Jz3D3cnM7uxmZ3dm53+eZzIz1+/v3Jnseec95yqggAIKKKCAAgpUo4ABoWqsFY9JAQUUUEABBRRQQAEFFFBAAQUUqKCAAaEK4rppBRRQQAEFFFBAAQUUUEABBRRQoBoFDAhVY614TAoooIACCiiggAIKKKCAAgoooEAFBQwIVRDXTSuggAIKKKCAAgoooIACCiiggALVKGBAqBprxWNSQAEFFFBAAQUUUEABBRRQQAEFKihgQKiCuG5aAQUUUEABBRRQQAEFFFBAAQUUqEYBA0LVWCsekwIKKKCAAgoooIACCiiggAIKKFBBAQNCFcR10woooIACCiiggAIKKKCAAgoooEA1ChgQqsZa8ZgUUEABBRRQQAEFFFBAAQUUUECBCgo0VnDb+U2//0lD+GHk2LcNDSHMMn1z6Nc3Pzu++PLrhvDlN79Om2Ha5jDl5L++L3zF9p5/rVeY57djwtRTtJz77fAQPv+yIcw/R3OLGZ8NbgjDR4Qw729bTv/4i4aQO6wwc+64Uvniq4bw5vsN4TczNscHx51K4bGm6f0nG3tuvH/l7V9XmHiiEGafuTn0rrLw2+effx4aGxvDtNNOm06hxfM333wTfvrppzif5X7++efw9ddft1iGN7169QoDBw4MI0eODEOHDh1nfpowxRRThEknnTQMHz48fP/992lymHzyyUOfPn3y73nBMuxv6qmnbjGdN7/88kv46KOPQt++fcN0000X91+4UFNTU/jiiy8CzzPMMEOYaKJcJVRJSY4DBgwIk0wySYujwgXHaaaZpsV03lAfnE+x+hoyZEh0waN3797jrMt2Mc1aU//FCvueYIIJ8rM4HpblWKln6juVwrpMdZzmZ59bO/603JgxY8Inn3wS304//fRhwgknTLPiczrPFhNzb7LnxbyO1P/zzz8f3nzzzfCHP/whv/l0flyHHMttt90W+vfvH1ZaaaX8MtX24ssvvwzDhg2LdTXZZLkvpRKFa4JlZ5555nGcWQXr5ubmotciny3qmmsiXc+Fu+E65HpM2+Iz2K9fv8LFwuDBg8OIESPi8bbne4Bj5zsgrZO9nrl+p5pqqhbXauGOOQe+j7h2Uvnqq6/CqFGj0tsWz9nvSvbF9gu/V7h+P/3007jdYt9d6Xoq/ByxIz4f7IPry6KAAgoooIACCiigQFcIdElAaJcjG8MzrzTkGpkh18AI4edfQlh8geZw3em5xnou8EM595+9wikX9w6T/K/d/uNPIcw6Q3P4x19Gh1WXHpO3GDK0Iex0RO/w0NO9AoGW738IYeF5msN5RzeFRXLPFAJQy241QfjgvlH57TN9m4Maw1MvN4QvHv2lRbBpw70bw8arjwlH7TU6EEza/s+N4b4nesV1CSItMGdzuOHvTfF42E461olatlXDuiuOCdec1hSaRufOb9MJ4vERBBrVFEJjro2+wapjwgXHNMXpbKc7Cw2XU045JR7CMccc06JRxEQa1KeeemoMThx22GGxYUcQ5txzz20RLGDZiSeeOBx//PHh3XffDVdeeSWTYkOSbdDAafhfNG2rrbYKiy66aHj00UfDvffem98OAZ4pp5wybLHFFmGuueaK67PMO++8E/bff//4nn9owF599dVxPzTOCVbR6GK93/72t/nlXnrppXDttdfGfXOeNFjXW2+9sOqqq+aX6c4XyXHeeecNu+++e4tDefLJJ8OLL74YDj300BbTR48ena+PE088Md8ITgtdc8014cMPPwzbbbddNE7T0zMeb7zxRthss83CcsstF1L902jPBnhY/oADDggEYwgG3HnnnbGuaDTTaKcBvP3227eop8K6JGBFncw+++xp96Gt4+d4/vWvf4XnnnsuHhvvadRTbxxvKpznxx9/PE7Q6/e//31Yfvnl42IdqX/O9T//+U9YZZVV0q7C448/Hm699dYYaMNklllmCXPMMUe8BpdZZpmiQZT8yt3w4oknngj33HNPDPzx+eBzxXFuvPHGLby4/m644YYY5OOzy+eUzx2BMAIkqaRrKp17ms4z3w077rhjWHDBBUO6nrNBRJYhsHHUUUfxMrAtrof1118/vuef9D3AdcW6BGKWXXbZsOGGG+aPt9j3QNrAhRdeGFZYYYWw4oor5q9nvm+4nrneeOb4+N4pPLbPPvssngPB4kMOOSRtMn5/EaCi4EJhmxS+o/guTJ+dPffcM8w999xxHtNuvvnmeP2yb86FgNnaa68dllhiibgM/3A+//3vfwPXa/ZaY951110Xv2c32WQT3loUUEABBRRQQAEFFKi4QJcEhDiL/XcYHY7fLxcpyRUCNgec1DvsfGTvcPdFY//oZvri8zeHR64Z++ssmTzX3tE7EKx5485RYaaBzeGrbxrCGjs3xgyjF24ZFeaYpTmQrXP65b3C2rtMEO66aFT43bzN8TEg9yPrA081hG1/PzZINCy3vedfbwhzztocHnqmV9hkjbFBJtZ/472GcO5fx74/+JTG3B/8IQaNJs/9uP5dLpFl5yMawx8ObgyPXfvrL8fZY+XYi5WbzmwKqy87Jm7vnY8awg6HNQa2f/ZRv55zsfW6chpZKk899VRYa621Wuz2lVdeiY1DskMKy0knnZRvJGXn0fg67bTT4iQyhQg0HXTQQfGX/+xyvKZxnYI9BHaeffbZcMEFF8QGJA2pwkIw6Oyzz843yggE0eClgUXDcL/99otBDH5lv/zyy8Nuu+0WCLjQ0H/77bfjMvwqz7RqKTQ8yUohSNZWIXOFuqKRzTo0hAsL8wkoFW6PbBGCdcUyD3BKjdrC7T3zzDOxgXvEEUfELBEayA888EC46KKLwrHHHpsPHmTrkuuFYzjvvPNiXaZ9tnb8NKavuOKKmFlBI5uMFYKIr776amwk0yBfaqml8odHQzobWMjPyL3oaP3j891334XFFlssbo7gEMEpgiSXXnppfhfzzDNPDC4QdMo29PMLdNOLhx9+OPz73/8OW2+9dZh//vljsIqgxz//+c8YHN12223jkRE0pG64frAmg4isGAJE55xzTvjjH/+Yr1dWIAjCNg4++OB8kKbUKZb6Xii2/IMPPhiDjdtss02Yb7754vES6CNwRNCXoGNHyq677hqvZz73nBcB6ltuuSVsvvnmLTbH9w2BRj5LZAoRAKXwfZUKx0IweaeddkqTij5z/bIfMtv22GOPeP0SEHr55ZfD9ddfH4NTSy+9dH5dgqsE7vi+JMvIooACCiiggAIKKKBAdwnk8le6vtB9aot1xsRATKm906Vsjy1Hx65ljz4/tvvVNf8ee7hk6xAMokw7VXM4+aDRMfDyt0vHdpXJ/TAcVllqTC4g9OvpPfJsr9hta60VWk5/8JmGQFevJRYcu73X3m0IKy3RHAgGUXi+5tSmmPkzdkr7/+V45p6tOeyw0Zhw7xO/diVr/5Y6fw2CBwSEaEBlC436RRZZJDupYq/JUiC7g+f333+/6H5owBEk2HnnnfPdyMiCIOuHRjzZRJRBgwbFLJaUacQ6BDyOPvroMOuss8ZlquEfjmvTTTeNWQU//JBLc2ujcP4LL7xwfBCoKVaoL/zo6pMt1C+BjMLuLdllir2moUyXn9R9jcDMGmusEQ4//PBxMi7S+nQhImBDRsZ7772XJseAX6njJ3BB45lgBHVEZgc+NJgJ/BCsKbd0tP7JniKDhWuKMuecc4Y///nP8Tm773Q9sXy1FD67ZHJtueWW4Xe/+13+HGacccaYHUM3T4KuFLJTuE7IvErdyahfAoMs88ILL7Q4LYJe1CVZYJ1VON677rorHhvHkswJLBIg+vbbb0M5n4nWjod6IlONQOJbb73VYlECOCkQu8ACC8Rrs8UC7XzD9UuAMHv98lnDjuysO+64o8UWCWaTuUVGkEUBBRRQQAEFFFBAge4U+DVi0oVHMeTbEM7/Z+/w+1VaBiEKD4HuYN/lunBN978fUcnwWWGx5lDYVYv1Vlsm90d+bn4qvCfYk8p9TzaE5Rdtjo/7c69TeTAXNFppiTH58X22Xm9MOP2y3uGq23qFkT+PXYquaYx7NL7l01xPhIHjDokzvpsdr/UJlvz4449x7JS0IbIsaMwvtNBCaVLFn/klnuyS1Egt3CG/vtMtLHXfyM7n1/+VVlopTiLwwTL8Ys8YI6kwdkm2O0ya3l3PNIqxp9FOV5PWCi6vvfZaDJDQgGX8kuy5pXUZSwUjgnmpsB8CQgQKaAi3pyy++OKxMU3jnQytVMhEKuyCk+bxzH7I3krjI7V1/Iy5QuOd7RYWMitSdkvhvGLvO1r/BNLoDpYKwaFS54hxqcBlWr8rn8mE4fNTLNOL64tMPIKtFKyLLUdQZrbZZovzs8dOVhhBDQJCqStVdn5HXnPtcn2koG12GwSFyPZL4wJl53XkNVlfheMWkTFI+c1vfhO/41I3xY5sn3UwJahW7PrFmi5xBLlSIXuIwCrBy+xnNc33WQEFFFBAAQUUUECBrhLosi5j5+UCQFfnMnxy7dPYzYsMnhMPaNl16rlcQOfB3NhAlM9ywZNL/9U7zJob1HnJhcY2ZF96qyHss+3YbmeFQAwg/eFnDYGuYf1z2UWrLd0c9vhrQ3jrg1yGSC475/4ne4Wj/zg6rLD4mPDxF43ho88b4phADzzdEA7e+ddt7rX16DBhbqyjw07vHf50fGPMNNp9izFhzeVaNqZfeCO3/qq5BTPlrCNGhw1W+XU5tt3Y2Cv8lAssPfdaQzjzit7h70e0POfM6t3ykkYvv9Iz/kjqTkUjhQyJwoZUOkC6C2ULWUaMidGeQveQlNVDo4390z2FRlqxwq/wK6+8crFZLaYxJs4+++wTu88w1g6/xnN+BIw6q5HZYofj8YbACeOFnHzyybGbV/Iv3CRjCmGTBuilIU2WUGG3KYI/Sy65ZOwis+6668YuPhgTkKEbUWGmAvshcJYNsrGffffdNx4CwQTGOLr99ttjZgmNdbIeyLrAuVhh0Ny77747Zn3MOuuscZG2jp+6pTtfuYVugmRMZQtdmggmdrT+6VZXrKtidh/pNcsRIKP+CsdfSst05TN+nDsDLLdW0oDGqXtU4bJMJ3MmWzhHPpMEFOk6RrCG7JtihS6fWQ+y/rjuCgsBzcLjJUiUDZowtk+p4HDh9rLvCfZwDARdCCLTNY1MvGzh2iHYnbK9CE7xOSkWKMuuV+o1/qVM+TyRLcQ5p+sLU4KlfGcSDKbLXKnv2lL7dLoCCiiggAIKKKCAAp0h0GUBofVXHhN23mxs4OWTLxrCGZf3Dpvu2xjuurApn52TG4szbLF/Y24wz5C/K9mH948Kff53IybuJvb1t8UbI9/kpk+a+xG87//GRGXMIcYLIsDUd9Ix4b2P6Qo2JnYBY5whMoZWWTIEjmX1ZX7N/mHwZ7qqbb/R6ED20E339Aob/7GxxRhIwHP3MbqqZcsiue1mC5lGl9wUwrD/JVec/ufRYZdNfw0YZZftztdkYZx55plxMFoalQQbGNi1VKGBlQ0IpIZOqeWLTSd4cckll+SzSViGQFPqPlK4DsfFL+3lFLJNdtlllziGCOPQkCFDkIvBcYv9il/ONiu1DJkFq622WhzDhQFrixUGNyZ7JWXp8JoxSOj2U9g4p6F74403xvF36KLFedOYL5XtwlgyM800U363hf5k3NBQJoBHty6CSnQr2muvvfLXAIMKH3jggXEbZJQwLgpjqaSMrLaOn7ot7OaWP6AiLzimwvF7UjYSi3ek/rm22gqopEMhUMH1S2ZdueukdSvxzDEQ9GsrQIURwRLOFaPCQjetUufD98EJJ5wQHnnkkTiIc+G6vCdzKvu9kMaPKly22PHynfP000/HRbnO6RpKl8H2Fsa4IricusiR3UT3rFTIpCLotcMOO+Q/TwS8HnvssQ4HhDifUtcvwSYexVy5hjlnPq+cr0UBBRRQQAEFFFBAga4W6LKA0IzTje2uFU8w13Vr1aWaY4bNy7msHwI0lCVz4/ikQaVPvKB3OOfq3rlgzq9Blt/NNyawfLFC9tBCc7e8tTvdxh5+tiFM1mfsncKm+t9YxSsvOSYwplBj7zFxXCGCO4WFu52tk7tr2NhHr7DdoY3hz7uNzgecpsjdPZl5rZU7zh87qDRZS3OtOWG8I1pry3fXPDI5yKThl3N+6aYBQ2OsVACGTJZsVklHjpt9pkGlCW4wKG5rY9ww0DC/xBcr/PpOIasgWwi2MMYQdyE6/fTTY6Nvgw02yC5SFa8JCNFtha5ZhQ1HBufmvHnQaM0WshoKu90Q+CFji4Ym8wiIkTFVqlAPbWVGEHRiOR4EkI477rg4UHfKaGKQ3DTwLsHBbLZDOcdPQKrw3NLxkj1Glygy1lIh4ERWRVulPfVP9hjBgnIKy2GS26OBvAAAQABJREFUDUKVs16llsGPQBxdugozVfgs0/2TYA3BPjKx+Lxk7wCXjotrLBscTNN5xofPDhktBBoLA5Esw2etnO+FYsdLthsPspi4MxnfRxSOOQV34oTMP0wvDHSmO38RIGNQ+8I6JahJufzyy+Nz9h+Wbe07KLts9nVr1y/jcGFV+N2U1qe7KxmCfE6z2VVpvs8KKKCAAgoooIACClRSYGz/rEruocS2J51k7FhA3Ea+WPnTH0bn/pAO4YxcN6tUGAPonsd6BbprZcvXueEZLr6pV1hu0ZYBGjJ/ns7d7v6pl3oFgkCprJILRj3xYkN4+uVeLbKDuKPYens0hpfebLl9BsEme+nHkS2np+219UwXtgN3Gp27G1rvMHRYW0t3z3y6AXFnMR4M0lxOw66zjpTuXBR+3S9VaMByp6rCoBBdQ7jLWBp4mAwG7iqULZwLgYrCxmF2me58TaOWhiFdoQiAZAtBOo79+OOPb/EgS6iw21Raj7qk6wyZPARP6OrVkcKgtylrI61P1geN9KwlASH2wSMbDGKdco6fQBPbKxYUIgBBsLDc0tH6x4luY+UU6ohMs2w2TDnrVWoZMrEI9DBgdGEhO467dqXPM58jjAiYZAt3H+MzROCoVKE7IgEnBrBO2yu1bGvTOV66P3K8ZFplCwEbAm2peyTZO3QnK6wbxt8hYM24R8UK2yDQev/998dMrrQM1yMZc9nPU8pMpGtjRwrXL4G3wuuXc2PsJYLZhYGrtB8ytRiE/bbbbisaZEvL+ayAAgoooIACCiigQCUEuiwg9O3whvDux2Mf/36wV7yVO4NDp/GBCk9usj4hju1z1pW9QwoabbjamLDtBrlxV/ZpDJff0ivevv7W+3rlbk0/QZg+94PykXu27MLFeEFDcreqv+uRXPewXBAolaUXGRNvYX/nww1xMOo0nTuKDfu+IY4d9Oo7DeHnX0LMSNonN5YQdyGbZspft/FTbl46n/T8+ZelA0Z7bzM6Nxh2czj1kl8DXGm/1fDMAMIMjkoAgIZfa4XuEWRtpEep7hKtbSM7j1/labw99NBD+W4c2fm8pisUx0jwh0YuA19/8MEH4fzzz4+N09SFiMwCAggEV2j00g2GBjDBpHKySgr321XvyebhHAsblTRg6dJHN6Xsg1tm03jOBmbSsdIAJTuGYEpbdZkycFJd8kyQjUJWCLcyx45pZPuk22hnM3bSfos9l3P8BJG4uxTHSwOaxj7ZLtwK/fXXXw9rrrlmi03TVSt7vLxmGqWj9Y9XuQNFs1zKYGlxYN34Zscdd4wDgF977bXxPKgrPgcEGtZaa6189glZOAwwzXg/BH/57NLF6uKLL453+mstW4xMly222CJ2uSp23bXn9DleriuOlwwmgj6M90Mwd+21184HRwi2EIQ677zz4jg/ZBCx3kUXXRSDQSlwVGzfZLMRiEl3SCOoRNCLz072s0SQk+8PrtWOFK7frbfeOn/9khXEORGIoztlW4Oic33T3Y/zsiiggAIKKKCAAgoo0JUCXdZl7OIbewUelOmmbo7dux64YlT+9u7FTpqxfP5+Za9w4gW9whmHjQ32MChz/8lygzPnMod2/0tDmH7a5rB6bgBpBqjmbmDZwnhCSy3UHLhtfTZ7iO5gSy2c6072TK+wYi5olC03nzMq7HpkY1hmywnCL7l2Mdsku+ji41sOBk3XtfnXazmoNAGoey9tuVzaNuMbHbbbmHD4GbnBqv8wJkw/za/BpbRMdz7TQKILEA3EUt1G0vGddNJJ6WX+mTGIxqcwAC0BIbIGGGi5WNlss83iuDRkEjHALRkaDFpLMCGNV8P4MrwnkHHTTbkBnHKFDJatttoqP2h2sW1Xw7SNNtooZG9nzrg91AeDYhcWgls00AkKpWBYdhmCSARYCKK1VnAsLH/6059ipggDU4/OpcbRvYbuOeyPxjmDTpczQHd7jp9ubnR7Yswjus7RQCawxVhFPGcLAQwe2UIQgcBHR+ufLpI04DnftjJ/aLjTDbGaCpkm3Dr+vvvui8EeAjZc94z3xbWQCtldLMdA4YxdQ4CF7KJll102BmLScqWeWZZzJ/NmfAqBHAYsZzsEecmwYdscb3bMHzKRuB65ThlzjOuQzzrfVQSnWiucK3fz4lzJQqRbJsGbYllFXH98hxFI68g4Y4XXL/smi49zJPustULQivMmSGdRQAEFFFBAAQUUUKArBRpyDYfqiky04+y/zd2SnrF8KlFG5eI6ZPww9hEDTVuqS4DMnzRIbqkjY3BaxuUoJ3hRahtOD7FbD5lEONLQrXQhmEHwaXz31Z76p3sPgyavs846sUtRqXMkO4hsGsanGd/jK7WP8Z1OUAvDFCRtbXtk0XX3WEgE/wgIkbnUWqGOCGAR1OH6qNaCPUEexwSq1hryuBRQQAEFFFBAAQWSQE0HhNJJ+KyAAgqMrwB3QyP7hzvUlSpk1ZBNRzaSRQEFFFBAAQUUUEABBRSoZQEDQrVcex67AgoooIACCiiggAIKKKCAAgoo0AGBLhtUugPH5ioKKKCAAgoooIACCiiggAIKKKCAAhUQMCBUAVQ3qYACCiiggAIKKKCAAgoooIACClSzgAGhaq4dj00BBRRQQAEFFFBAAQUUUEABBRSogIABoQqgukkFFFBAAQUUUEABBRRQQAEFFFCgmgUMCFVz7XhsCiiggAIKKKCAAgoooIACCiigQAUEDAhVANVNKqCAAgoooIACCiiggAIKKKCAAtUsYECommvHY1NAAQUUUEABBRRQQAEFFFBAAQUqIGBAqAKoblIBBRRQQAEFFFBAAQUUUEABBRSoZgEDQtVcOx6bAgoooIACCiiggAIKKKCAAgooUAEBA0IVQHWTCiiggAIKKKCAAgoooIACCiigQDULGBCq5trx2BRQQAEFFFBAAQUUUEABBRRQQIEKCBgQqgCqm1RAAQUUUEABBRRQQAEFFFBAAQWqWcCAUDXXjsemgAIKKKCAAgoooIACCiiggAIKVEDAgFAFUN2kAgoooIACCiiggAIKKKCAAgooUM0CBoSquXY8NgUUUEABBRRQQAEFFFBAAQUUUKACAo1tbXOiBSZsaxHnd4PAz6/+0g17dZcKKKCAAgoooIACCiiggAIKKNATBMwQ6gm16DkooIACCiiggAIKKKCAAgoooIAC7RBo+Pnnn5tbW37w4MGtzXaeAgoooIACCiiggAIKKKCAAgoooEAHBaabbroOrjl+q7UZEBq/zbu2AgoooIACCiiggAIKKKCAAgoo0LMFhgwZEqaeeup2n+SwYcNC//79271eZ6xgl7HOUHQbCiiggAIKKKCAAgoooIACCiigQA0JGBCqocryUBVQQAEFFFBAAQUUUEABBRRQQIHOEGjzLmOdsRO3oYACCiiggAIKKKCAAgoooIACCtSTwLfffhu++OKL8OOPP8bTnnTSScP0008fpphiiqpgMCBUFdXgQSiggAIKKKCAAgoooIACCiigQE8RGDp0aHj77bdbnM7w4cMDj7nmmisMGDCgxbzueGOXse5Qd58KKKCAAgoooIACCiiggAIKKNBjBcgMKlVam1dqnUpMNyBUCVW3qYACCiiggAIKKKCAAgoooIACdSswcuTIkufe2rySK1VghgGhCqC6SQUUUEABBRRQQAEFFFBAAQUUqF+Bpqamkiff2rySK1VghgGhCqC6SQUUUEABBRRQQAEFFFBAAQUUUKCaBQwIVXPteGwKKKCAAgoooIACCiiggAIKKKBABQQMCFUA1U0qoIACCiiggAIKKKCAAgoooIAC1SxgQKiaa8djU0ABBRRQQAEFFFBAAQUUUEABBSogYECoAqhuUgEFFFBAAQUUUEABBRRQQAEFFKhmAQNC1Vw7HpsCCiiggAIKKKCAAgoooIACCihQAQEDQhVAdZMKKKCAAgoooIACCiiggAIKKKBANQsYEKrm2vHYFFBAAQUUUEABBRRQQAEFFFBAgQoIGBCqAKqbVEABBRRQQAEFFFBAAQUUUEABBapZwIBQNdeOx6aAAgoooIACCiiggAIKKKCAAgpUQMCAUAVQ3aQCCiiggAIKKKCAAgoooIACCihQzQIGhKq5djw2BRRQQAEFFFBAAQUUUEABBRRQoAICBoQqgOomFVBAAQUUUEABBRRQQAEFFFBAgWoWMCBUzbXjsSmggAIKKKCAAgoooIACCiiggAIVEDAgVAFUN6mAAgoooIACCiiggAIKKKCAAgpUs4ABoWquHY9NAQUUUEABBRRQQAEFFFBAAQUUqIBAYwW26SYVUEABBRRQQAEFFFBAgZoTGDlyZBg2bFjNHbcHrIAC3SfQ0NAQ+vXr130HMB57NiA0HniuqoACCiiggAIKKKCAAj1HgGDQBBNM0HNOqBPPZNSoUWG66abrxC26qWICgwcP1rkYTBVPa2pqCt98803o1av2OmDV3hFX8YXgoSmggAIKKKCAAgoooIACCiigQP0INDY2hubm5po8YQNCNVltHrQCCiiggAIKKKCAAgoooIACCijQcQEDQh23c00FFFBAAQUUUEABBRRQQAEFFFCgJgUMCNVktXnQCiiggAIKKKCAAgoooIACCiigQMcFDAh13M41FVBAAQUUUEABBRRQQAEFFFBAgZoUMCBUk9XmQSuggAIKKKCAAgoooIACCiiggAIdFzAg1HE711RAAQUUUEABBRRQQAEFFFBAAQVqUqCsgNByyy0Xpppqqvxj+umnD6uttlo4/PDDww8//FBTJ77ooovG83jnnXdq6rg9WAUUUEABBRRQQAEFFKhegSFDhoTHH388fPzxx1VzC+q33347fPPNN92CNnLkyDB48ODQ1NRUdP+DBg0KDz/8cKdY/fe//w0vvPBC3M9XX30V98u+s48RI0YUPY7OmMh+Krn9co9x+PDh8ZzLbaOnOho9enTJXQwbNix8+eWXJef3tBn1dr5lBYRSJc8+++xhkUUWCQSEXnrppXDhhReGzTffPHAhWRRQQAEFFFBAAQUUUECBehP47rvvws477xz4EX2nnXYKa6yxRlhzzTXDu+++2+0UG264Ybj22mu75TjefPPNcOaZZwYCZcXKyy+/HAjkfP/998VmjzPt0UcfjcG2whmjRo0KzGtsbIyzLr/88rhf9p19pIBR4fqF7zkuHu0pZ511Vnj66afbs0pFlr3mmmviOd95551lbZ+AIUbffvttyeXvv//+cOmll5ac39Nm1Nv5jv3UlFmLf/vb3+IXHYu/9dZbYYMNNogX/iOPPBK/9MrcjIspoIACCiiggAIKKKCAAj1C4KijjgoffPBBoDE+xxxzhI8++igcccQRYffddw/33Xdf6NWrXb/B9wiTck6CoNmKK64YJplkknIWD3fddVdYddVVwyyzzNJiebzJcCF5IZXf/va3YaONNkpv4/Okk07a4n2pN88880zMWlpooYVKLVKV04cOHRo++eSTsOCCC4bXX389/PLLL2HCCSesymP1oKpHoF0Boexhzz333GHdddcNV111VXj22WfzAaFPP/00nHPOOeGhhx4KRMvJKDr66KMDy2fLk08+Ga688spAMGnMmDEx0EQXtN/85jf5xT7//PNAtJWIL+lvyy+/fNh+++3DUkstlV/mwAMPDPfee28444wzwnXXXRfuueeecMUVV4SVV145PPXUU+Hss8+Oz3xBnHzyyfn1si/48uZY6EY2YMCA+MX017/+NfTv3z+7mK8VUEABBRRQQAEFFFBAgRYCZJMsvPDCYbHFFovTCSSQUUHjnO5SNMqbm5vDBRdcEO6+++5AG2fxxRePw2/MOOOMcR3m066iXUJXKoIef/rTn2K2EQvQvqG98pe//CUcf/zxYYkllggnnHBC7KZ02mmnxfYS3YQIsBx22GFh8sknj9tN//DD/m233RbbN/vss09YffXV06xue6Z7He28Qw89NAbNyPQhs4WsFYIZs846a/j9738fj+8f//hHfCZ7g7bnwQcfnM8IIhOLHix9+vTJnwvmtOuKFXq30Gak7Ucgaf75549tWdY577zzYr2x3v/93/+FLbbYIsw222zhp59+inXHvng911xzxbZwdp+sQ/3Sk4YgF0OszDfffEzuksJ1SNBr7bXXDq+++moMCtEWz5b33nsvPPjgg/Ea47wInBWWJ554IhrTBY7rtK2CCe1xus2xf9YhcFesECu4+uqrY2IJ3QV//PHHcNBBB8XPB/GD1157LWYrUffrrbdeizokyEX7ns8VdUt7n+BXKuz/gQceiMFZ5jOPrL1UTjrppPieY3jjjTcCcQQ+J+0937S9nvI8XuHqn3/+OTqkqC5RyU033TR+ARJMIQhExfJheP/99/Nmzz//fPxw3XjjjWGaaaYJU089dbjlllvih4qKpLCtTTbZJFxyySVxnCLGMGJ5PpQvvvhiflss98UXX4Rjjz02fslNOeWUoXfv3oGLfZtttokfdi5MLuitt956nJTEyy67LOy7774xkr/OOusE1ufLlmUtCiiggAIKKKCAAgoooEBrAjRcaYjS9YZ2CYU2DgGilKHBj9QENWgXHXLIIbHtseOOO8bAB8vTziHAs8oqqwQCPDSI999//7gc8wn2ECjiB24a/HRLI9hE0IjgxmabbRb23nvv+GP7XnvtxSr58u9//zt8/fXXsW3Edg444IDAODvdXQgA8aN/KmQA0U4kqLX++uvHAMP1118fgytkE1GmmGKKGLzJZl3R7isW2EjbzT6TiEDQjWAQyQbLLrtsHHuItihlhRVWyC/OPmmDEjQiiEGwgjqljlifAF620Ealzbn00ksH2skkK2TPL7tsJV4TiCJDjSAHgcZsm5n9UeecBwEtAoITTzxxzGDLHgvb4HohoEJQ56Nc9hXBk1KFsYUIVhIYYygZxuslK456LFawxOT2228PM8wwQ6wDliPQx2do3nnnDWuttVYc94qgahp/iqATXR/pFkgvJeIH+FL3FMb9oV3Pdc5xs22CiySfpMJ+iU1w3aXzb+/5pm31pOd2ZQhR4Tzo5wkuUWYKFz3lxBNPjIEfUiT5AqNwgRB9I2DDawpfVkQDTznllNjPlmlEqqlUKo4+uGyLCqbf60UXXRQaGhpicIgIMusTycsWLhY+pHz5Unbbbbd4YRBVvvjii+P6fEkfd9xx2dVi6iET2B8BKKLzfBmzHT4sfFAsCiiggAIKKKCAAgoooEAxgT333DO2IWhznHvuuWHOOeeMARp+YKYBS7YL2UG0iRhjiEJGEYEkxtDhmZ4XrMd0Cg1j5tFgJThEoTFNOyVlfZAtQZuIYBMBIgq9LZ577rkYkJhooonitJlmmilmu/CGrJA//vGP4ZVXXonBqbhAlfxDwGu66aYLSy65ZGy7cd780D/BBBOE3/3udzFoxjOPVAjAkFCAX7YwsDdtyGzZZZddwocffhjbqxgQNKCwfQIUBNrI6MGINmHaD4kNPEg2IJuIQluRYAnBBdanEKwiOYJCIIngy2effRbrMk6s4D8EIgn4EKyicB5pfKbJJpssTiNIQ0CMHjf9+vWL00iEYKynVLiecPnDH/4Q6wADsstKFc5z1113jQEo6gofxmqiCyXBoVKFHj9k+FBox5O1RCCIIB2FDLm///3vsX3PZ4JgEdfGtttuG7PJOC4CiMQIKGSNkflFMDT18uHzQqCJLKEUQBw4cGDYbrvt4jr8097zza/Yg160KyBEP9jCst9++4VlllkmTn7sscfiM92zSP+jkL5HSYN4MWAVgR4qiqh4Kny5EZTp27dvnESlUsjeSRXNFyjLESEkCpgqm+W4sFMwiPdpILDs+lwgpP6lSCPLcYFxARIsIpJLcOvII49klkUBBRRQQAEFFFBAAQUUaFWABjc/WtNWoQFKtyHaLLSNzj///NgFivbHrbfems9oSBtMGQ5kWBBYYHmCFgRsKLR5smWBBRbIv+XHcNpJ2awWGr/ZbjIsnO22lAJOpQZ6zm+8G17QyCdTh0AAPU3oepfakqUOBz+CboXjCjEtBT2y69Jdj8LwJamQVULBpNQ6OBOwS4VMHB7Zkrr/MY0gHKWrMoRSW5tgDskbs+aCaQR/CCimIAtBI4Iq2XMksyoFhFieoBxZU6n9TYYb50I3q2KFIBAZSQQnCUiRPMKwMSRWtFaSD8sQ0GPfZDSxfrZQJwTnOHba6Smww/Flg4AE3ji3bHyAbn3EFNjGtNNOGzeb3W9Hzjd7bD3ldbsCQnSn4gsmZQYBmoInRODSF1qKfGeRuLi4MNIFx0WaLjSWS5FLXrMtBq2mZMcUYnnW4wuS1LWUmcRy2T6ifOHyRUrJfjnwJcuXCv0OUyGiSXSXcyJLicKXEf1Sq6FvbTpOnxVQQAEFFFBAAQUUUKB6BejGsuWWW8YHY9EQ2OCH7HQLcBrOPFKhVwSZQBSGyaD3BOOvkAFEb4c///nPadH8c7b9xHZpkBP8aK2kRjTLZNdvbZ3umMe4SARVyNpgDBx6pNDeo4tQqUL7k/ZhoQGBEYYaKSxka1GyA0zPPPPMgUfheEBpXdbBDevWSnc5EzBhPCZKYTYP4/SkgBDZTIXnkHUjQMIjO41tFr5nWiq0o7l2yY4iQEY7mp5AbZXsdZgdhiZbLxw3bXdiAzxSJlaxbbONwuNM71Ods152vx0532L7rvVprX97FJwdlU1AiC5hZAURYWVwJ6LOXFx88JhGP9bsl13aDGmLKUBDgChbqJD0IWJbfBmQ6keUMGUNsXxajw9+qULlkw7GsbB8ihSyj8L+smQVkU5IYIs+hRw76XU77LBD/CLKBppK7c/pCiiggAIKKKCAAgooUH8CtDcIAjGkBc+ppEwEGqO0lWiIMi4OY/2kQmYKXW4ojJVDty+6f1FoB7VVyBbih3AyhVLmD2Pb8MM5Y6Om8Yva2k61zKf7F+0+ul0R5CCjijt+4VJqGA8CQmS0lFtSxhHBp2RPHbG/1MWObfE+Fdq4tCOpawJHFNqoZK1QBynwkJbv6me6Z1EY3yh1J+Q9wSCuB46VDBnOnYwhzjddG9nMH86DoGb22kvnzfaKFTKTCOLQKycFm8iSa0/huPh8kBFGvaRCplNKGiH7J3tcLEP2D58z5hE74FgKz434AnGBYqUj51tsO7U+rVdHToB+lfSh5ALJjsmTRiFnZHi6jfEgWsjAVFyIVDQfKIIwBGYIwKRCBJ0vS/paUlKfQ8YVSoWuXaR8UamlKjYtm/p3MvhUKnypZNPX+KAzWBXZQBwn3c5Yfp555ondx0oNhpW257MCCiiggAIKKKCAAgrUrwBtG35AJjODdgyNUgaIZigMGuG0b2jU0vOAZRgLhe4tp59+egxkpK5hLEu2BfPo6UCXs7YKjWd+bOe292SIsC0GrOYuzalx3tY2umI+QQmG80gPsqYKC+0yxlm6/PLLY6CFbkQ8uHlRCtTQ8Cf4kYIYtCfpUlfYdatw29n39D6h18sNN9wQe42wDdp/p556an6Ab/ZDm5P6oO2Y1qE7GwEo9s/63FkrJTRk99HVr+lqRXCDLlS009ODsXgpaXBpgldk0qRzp9tcuv7SMROU4RwZGJprkbGVCrstpmV5JvGCsXtYluXSuEXZZdp6TR3zOSExg95E3DSK7fAZSnVNsIvrhmATcQWGp7n55pvz8wmIkgHFZ49j4XNIhhkBstYCdu0937bOpRbntytDKHuC3B6OSDYXC2l9ZAwxnhBfcgRYqAQidf/6179ixTLIdBpr6JhjjokDPpEmyaDPpICxLSorBYJYnm3xhUbl80VLQIeg0tFHH509lKKvGdyNCyb12yXgw3su2nRRsy0ulDvuuCNG1onasy8uRFIG0/EW3YETFVBAAQUUUEABBRRQoO4FCGIcfvjhMahAAIHsC7rOMHZpChgQDOJ28ARsyHxgHBcCOem22bSfGOiYOySxPu/J8GitkE1DDw62SRczsoXogkZgpZoCQoyplC20EQuDOLTLuEvVTTfdlM+SIluFQYSZR8HmP//5Txy4m7Yo7TYM0vgw2X2Uek3wgXFsCRxceOGFsR1KgIgBwFPWDINaE4jAceONN47d+NI63MmKpAgCgSQTpPottb9KT6fO6bHDWECFWVS0f8mgIRDHHdMIbNH2pk1Ml0bcCFRyU6dUVlpppdhWJuDCclxPXMtp2Je0XHrGioAfbW4KAZiUHZeWKeeZ7n3UPcEqPkOcC23ztC0GoSbwxFhFxB/oPsb1kBJSqI+tttoqjt/F3fxYnwDYRhtt1Oru23u+rW6sRmc25KKEv+bDlTgJuokxpg8BmewgZX/961/j7RMJ4hDRozz99NMxayilbBER5wuKUfXTh4zlGNGcrlpsl4gwXwrcRjE7KBopgtydjEwdLnYGF2Nga0Y9T4UPJxlIXIRpVPc0jwuKaC9Rdr50zzjjjHgbRy5oglgMDEYEki9wop+kmPHlSaSQjKXUpzdtz2cFFFBAAQUUUEABBRTouQJkpbQ2VklrZ86P3KxPhkmpgAzL0FWMHhMp0JHdJsNd8EN4yorJzmvtNeO2kP1BEKBShQwMzq3ShXPBhuBNsUJggHncwRqnbFe9YsuXmsb50P4rNXYQgQm2n60njGmXllqn1L7aMz1dQ+1Zpz3L0vZm/KnssCyF63OdYlOqDgqXZ3sEx8pdvnD99J5gWwqYZt3TfJ5J7uDYS33GOBaOoz3Buvaeb/Z40mvqjWMikJlKdvDyNC37nMZE5pzSMDfZ+V3xuqyAUEcOhA8qdxSja1epymS7fCFyUWbhCvfHtvhiIHrbkUIqIH1EW7so+GDTD5Qv58Loakf26ToKKKCAAgoooIACCihQWwLjExCqrTNt/9F2VUCo3CNjOBG6R6Uxastdr9qXq3RAqNrPv1aPr1YDQh3uMtZWRRGVKydCmAbzam175W6r1DYI8rRV6K6WBglra1nnK6CAAgoooIACCiiggAIKdJ/Ayiuv3H07d88K9BCBDg0q3UPO3dNQQAEFFFBAAQUUUEABBRRQQAEF6lLAgFBdVrsnrYACCiiggAIKKKCAAgoooIAC9SxgQKiea99zV0ABBRRQQAEFFFBAAQUUUECBuhQwIFSX1e5JK6CAAgoooIACCiiggAIKKKBAPQsYEKrn2vfcFVBAAQUUUEABBRRQQAEFFFCgLgUMCNVltXvSCiiggAIKKKCAAgoooIACCihQzwIGhOq59j13BRRQQAEFFFBAAQUUUEABBRTosEBTU1NoaGjo8PrduWJjd+7cfSuggAIKKKCAAgoooIAC1SLQv3//MGzYsGo5nKo7jsGDB1fdMfXEA9K5tmqVYFC/fv3CiBEjauvAc0drQKjmqswDVkABBRRQQAEFFFBAgUoITDLJJIGHRQEFFGivQC0GhOwy1t5adnkFFFBAAQUUUEABBRRQQAEFFFCgxgUMCNV4BXr4CiiggAIKKKCAAgoooIACCiigQHsFDAi1V8zlFVBAAQUUUEABBRRQQAEFFFBAgRoXMCBU4xXo4SuggAIKKKCAAgoooIACCiiggALtFTAg1F4xl1dAAQUUUEABBRRQQAEFFFBAAQVqXMCAUI1XoIevgAIKKKCAAgoooIACCiiggAIKtFfAgFB7xVxeAQUUUEABBRRQQAEFFFBAAQUUqHEBA0I1XoEevgIKKKCAAgoooIACCiiggAIKKNBeAQNC7RVzeQUUUEABBRRQQAEFFFBAAQUUUKDGBQwI1XgFevgKKKCAAgoooIACCiiggAIKKKBAewUMCLVXzOUVUEABBRRQQAEFFFBAAQUUUECBGhcwIFTjFejhK6CAAgoooIACCiiggAIKKKCAAu0VMCDUXjGXV0ABBRRQQAEFFFBAAQUUUEABBWpcwIBQjVegh6+AAgoooIACCiiggAIKKKCAAgq0V8CAUHvFXF4BBRRQQAEFFFBAAQUUUEABBRSocYHGto5/5MiRYfjw4aG5ubmtRZ2vgAIKKKCAAgoooIACCiiggAIK1I1AQ0ND6NevX02eb5sBIYJBAwcODI2NbS5akwAetAIKKKCAAgoooIACCiiggAIKKNARgaampjBo0KDQq1ftdcBq84jJDDIY1JHLwnUUUEABBRRQQAEFFFBAAQUUUKAnCxAvqdUeVW0GhHpyxXluCiiggAIKKKCAAgoooIACCiigQD0KGBCqx1r3nBVQQAEFFFBAAQUUUEABBRRQoK4FDAjVdfV78goooIACCiiggAIKKKCAAgooUI8CBoTqsdY9ZwUUUEABBRRQQAEFFFBAAQUUqGsBA0J1Xf2evAIKKKCAAgoooIACCiiggAIK1KOAAaF6rHXPWQEFFFBAAQUUUEABBRRQQAEF6lrAgFBdV78nr4ACCiiggAIKKKCAAgoooIAC9ShgQKgea91zVkABBRRQQAEFFFBAAQUUUECBuhYwIFTX1e/JK6CAAgoooIACCiiggAIKKKBAPQoYEKrHWvecFVBAAQUUUEABBRRQQAEFFFCgrgUMCNV19XvyCiiggAIKKKCAAgoooIACCihQjwIGhOqx1j1nBRRQQAEFFFBAAQUUUEABBRSoawEDQnVd/Z68AgoooIACCiiggAIKKKCAAgrUo4ABoXqsdc9ZAQUUUEABBRRQQAEFFFBAAQXqWsCAUF1XvyevgAIKKKCAAgoooIACCiiggAL1KGBAqB5r3XNWQAEFFFBAAQUUUEABBRRQQIG6FjAgVNfV78kroIACCiiggAIKKKCAAgoooEA9ChgQqsda95wVUEABBRRQQAEFFFBAAQUUUKCuBQwI1XX1e/IKKKCAAgoooIACCiiggAIKKFCPAgaE6rHWPWcFFFBAAQUUUEABBRRQQAEFFKhrAQNCdV39nrwCCiiggAIKKKCAAgoooIACCtSjgAGheqx1z1kBBRRQQAEFFFBAAQUUUEABBepawIBQXVe/J6+AAgoooIACCiiggAIKKKCAAvUoYECoHmvdc1ZAAQUUUEABBRRQQAEFFFBAgboWMCBU19XvySuggAIKKKCAAgoooIACCiigQD0KGBCqx1r3nBVQQAEFFFBAAQUUUEABBRRQoK4FDAjVdfV78goooIACCiiggAIKKKCAAgooUI8CBoTqsdY9ZwUUUEABBRRQQAEFFFBAAQUUqGsBA0J1Xf2evAIKKKCAAgoooIACCiiggAIK1KOAAaF6rHXPWQEFFFBAAQUUUEABBRRQQAEF6lrAgFBdV78nr4ACCiiggAIKKKCAAgoooIAC9SjQWC0n/fbbb4dRo0aF+eefv8UhMe2tt94KAwcODFNNNVWLeb5RQIHKCzQ3N4f3338/fPbZZ2GeeeYJ0047beV3WsYeXnvttTDNNNPERxmLhw8//DBwLrPNNls5i9fcMum7cvrppw9TTjll/D598sknw5gxY+L7/v37h5lnnrnmzssDVkABBRRQQIH6EKA9+Msvv5Q8WdqJDQ0NJed3ZEbh309pG2n6hBNOGOaaa6402WcFepxA1WQIbbrppmGZZZYJ1113XQvkr776Kiy77LLh6quvbjHdNwooUHmBV155JSy00ELhd7/7Xdhggw3CHHPMEfisDhs2rPI7b2MPyy23XLjkkkvaWOrX2fvss0/Yc889f53Qw14NHjw4fldef/318cx4v95668V64zuUP6L4g2bHHXcMn3/+eQ87e09HAQUUUEABBWpdYOONN45/y/B3S7FHU1NTp59i4d9P7ID98PfSCiusEBMTOn2nblCBKhKomoBQMvnzn/8chgwZkt76rIAC3STAf4YbbbRRmHXWWcOzzz4bPvjggxiwfeyxx8JBBx3UTUflbtsrsMsuu4QXXnghPPTQQ+GII44IBPlWX3318O6777Z3Uy6vgAIKKKCAAgpUTOC///1vePXVV+ODYAyZzek9zxNMMEHF9p02PHr06LDbbruFf//73+Gcc84Jv//979MsnxXokQJVFRAiKkwXkEMPPbRV7AceeCCsssoqYbrppotdWE466aT88s8991yYc845w5133hmX4YvkuOOOC99//32M9LLOoosuGp544on8Ory47bbbwvrrrx9mnHHGsPLKK4eHH364xfx//OMfYYkllgh0x1h11VXD008/nZ+//fbbh5122ilcdtllYb755gsLLrhgOProo2NXjbTQ8OHDw8EHHxzmnnvueNz8cv/666+n2fH59ttvj1867GPppZcON998c4v5bR1ji4V9o8B4CnzyyScxOMvngswSumyus8468bOx++6757dON6xTTz01kLEz00wzhS233DJ89NFHLeafd955McuIz/dSSy0VP29pgXPPPTd+Zu65556YjbT33nvHWXxm9t9//ziPoBT/OX/zzTdptfzzX//61/i5Yrv8591WKfU53WqrrcJaa63VYvVHH300fp/ce++9LabX0pvf/va3gQdZXtttt138biQd+29/+1stnYbHqoACCiiggAI9XGCGGWYIs8wyS3xMMskkobGxMf+e6RSGDKDtxRAAtNnOPvvsFioMb0C77cADD4w/aq600krj9EBpsULmDX/T7rXXXuGmm24KJ598cthmm20yc32pQM8UqKqAEI2UY445Jn4I//Of/xQVf+ONN8Jmm20Wx8Q4//zzw9Zbbx1OPPHEfJcytkHq3wknnBA233zz2GWCxuq2224bGEPjyCOPDCNGjIhfJGkHDz74YAwW0Zhl2QEDBgSCU2+++WZc5JZbbgmHHXZYWG211cKFF14Y+vbtG7vN0GClDB06NDzyyCPh4osvDnRL4Yvn9NNPj8cVF8j9s99++4V//vOf4U9/+lOgAUzDluNLhSDXDjvsECaaaKJwyimnxEYoqYocG6WtY0zb8VmBzhLgP1qCCARcr7rqqpCud4JDiy22WH43//d//xevWYKcBF8Zb4hfU3766ae4zOWXXx6DvARb+IzQ7Yxr+7333ovz+Tx++umn8bO5ySabxC5O9Nv+wx/+EANHfHbJHLzvvvvi5z2/49wLukfRrXTXXXeNn2sCs4MGDcou0uI1fdNLfU4JMhMofuedd/Lr3HjjjWHkyJFh+eWXz0+r9RcExUnDJmvIooACCiiggAIK1IoAXd75W5EsZ/42XGSRRWL289///vf8KfB34Jlnnhn4YZN232STTRb22GOPQFurtdKrV68YBKK9xnqsY1GgLgR+/vnn5tYeH3/8cS5YWvmSG9+iOfcBjzvKdVNpzmXSNOcaoM25gWybcx/k5jPOOCPOywV8mnONtnjM6ahykeDmXMZCfPv444/H5XNji8T3uQFVm3NZO8258YnS4nFbbDP3RRGnrbHGGs25cVHy83MN2bj/XPAmTss1cpunmGKK5m+//Ta+57hyjcb88rmGcHNuENfmXKM2Py0X3GnORbmb2T8l9wXWnIto5+dfeeWV8TiT75prrtmca6Q157rpxGVYL/dF15wLBMX3bR1jfsO+UKATBbjOc5kz8VrlM8C1nsu+y+8hFyyJn43cf7z5abmgbVz+hhtuiNP4vDz11FP5+bnBneP83LhgcVruF5j4PjcAcn6ZXPemOO3WW2/NT7v//vub+Sz++OOPcVouwNucCzzl5+cy7OI6uSyh/LTsi7Y+p7kgbXMuGNycC4DF1XJBqebcr1HN++67b3YzVfua7zO+13K/isVjLHyfPfBcEL0ZP+rPooACCiiggAIKVJsAbbPcOJYtDuv4449vzmWbx/ZhmpHLLG/O/diVb0Px902uV0czf8dR+FuHdmbuh/i0Sovn9PdSLsM9/h3F31Kp/dViQd8o0IYA7XpiF9nYCm2a1h5p2dwP3C3WS9O74rlq7jKWjb6ddtppYckllwx0BSHdL1voO0o3sEsvvTSQLcQv/tz9qHCQ23QnIUai5xfxySefPL8Zup9Q6EbGHXi4Ew+FFMFUiECzbcqGG24YzjrrrJgtQfcZMh0Ku5bMPvvssbtZWp9uZf/6179C7sKI6YrcmYkUR1IQyaDIBa7iot99911c7+WXX45ZDr17947TOW4yLyjlHGNc0H8U6GQBsnmuvfba2L3xrrvuCrkgT+wSRpfIAw44IE5nrCEGg+dugNmSPj+5/1hj5hvZd/yikzJTCj+zdOVM5cUXX4x3kWCsm1TI4OGRLfwylMriiy8eX5IhWKq09TnNBV5jV026rea+vGP2H13Jelr5+uuvY8bkxBNP3NNOzfNRQAEFFFBAgR4qwN+Q8847b6BrWSr87Zb7oT2225hHIbOb7mYU/tbhxkUMA9BaYbgRbj5CRjptwtyPmaFfv36treI8BXqEQFV1GUuiBHMIBBH0Sd220jy6dCy88MLhoosuih9wxithfIyOFrqmpJLLgAjpQdcuxkuhcHceBmKl6wpfRFtssUVYccUV422d07rckjBb6PpFobsJhXVoWNJNhnGG6PuaCsdAVzf6yhYr5RxjsfWcpkBnCXDNMgYW/znSdZLU3FyQPHbTYh/pc5Oe+fwwlhaFtF0GBiRVd+DAgbH7ZJxR8A+puqn88MMPgeBoW4MHpgAq65VzG9K2Pqd8RvnOIZhFQJcAEsHpnlYYmDEbTOtp5+f5KKCAAgoooEDPE+Dvw8L2UnqfyyDPn3Dh34/8/ZfaZPmFirxg3KALLrggDj/Q1pi2RVZ3kgI1KVCVGUJIMpgs44Nk+4QynX6dNDppmKYPe3ZQaZZpTyFwQ8OVwZ4ZdyiVL7/8MpDVQ+ELhgfjG/HguBizJJdOGIhKU8h8YIyVFEl+5plnYsCKDIsvvvgiMGo+mU8MjEthXJVUOAYi2qyTLUS7abQtsMACbR5jdj1fK9AZAgREDj/88JjVxjVIIQDDwOsMqs5dGAjOEohhXK8dcmNgpZL9/DCIM2MKMQ4RhQy5tgrXPZlHZAoxmDuFjEACs2TsdTSzpbXPKfsg849swrvvvjswyHVP7D9OPfD9eeyxx3LKFgUUUEABBRRQoCYE+PuQzHXaZZNOOmk8ZtpPZAPxA34qzz//fHoZf8DkffpbNj+j4AXjYFIYJ5MxYXPDlcRxLddee+2CJX2rQM8S+PUn+So7L4IkDMxcmN7HHbjoasIHm0ALjZrWuoiUc1rceYfBYxnsOTe+SewyQkYEXwSUQw45JA7CSgoht95OXczoupYKjWNu70xDOTd+UXzQCOYLikGqacByB7QhQ4bExhjnli1kDOXGSIkD+JKhQBe1P/7xj7FBzHJtHWN2W75WoDMEuGtYbtyseAc97njH7eYZwP2aa66JgROubQZq32CDDcLRuS5kdCn76KOP4meSQCjXO4XPLJlxzCMgU84vLuybTMHc+D0x8Mq2CKYStE2B4I6cI1lNpT6nbI9fkBiskKwmBn7vCd3F+MOJQDrBdTIVMSWAxx87FgUUUEABBRRQoFYE+DuGm5bwgx1tQf7Goc3E9OyPhfygyN+mLMPfnQzbwd93rZXs35f8IMrdyvhbiZsHWRToyQJVmyEEOrcS5MPLuDup0Jij60nKzKHLWBo7JC3T3mcamozlwxcKI9bzhcAdjlJ2wFFHHRWDTxwLDUoCPCxLVlEq3I2J7iW5waFjEIixT1iGwhcUdw7jC4mxVrj19s4775wfI4hlOC++cLgDEo1u0h9ZnkAQpa1jjAv5jwKdKECGHJltBCa5Xgl6kgFHkIRst1Tovsmt4rlGU5Yc4wWlO5ERtOXzRCYegV7es93WCvvh7n7c3p7PHdlCuYEF4xhG2W5irW2j2Dz6kJf6nKblOT+CunRz486DtV7IqsKR7y26v5HlyHdbtoterZ+jx6+AAgoooIACPV+AzHR6WfzlL3+J7UT+XkxjvWbPnrvO8mMiP8Dz4yVDkWSH68guW+w1f6/SdYyxK1mXbHeLAj1VoIGRq1s7ObJvspkwrS3blfMYFJUMhexg0Z2xf25VONVUUxXNQqDvKYEjxkHJFgaaZgwgupjQt5XSp0+f7CLxNY1atk/GRGuNWga0nnrqqWO2wjgbyU1o7RiLLe80BcZXgGufgGV2EL/CbRIwoqsYn49i4/lwXROUSH29C9cv9Z7b0vNrEJ/LziqtfU4ZX4fbsp933nlhm2226axduh0FFFBAAQUUUECBThIgk5t2YGGbimkHHXRQvHU8yxAQos1oUaDSArk71sXrkXZ8KqlnUXpf+Lz00kvHSfSA4lrtjlKzn47ObBxm4QuDPdl5NGTbaswWCwSlbfBlVE7GQWuNbrbV2jGmffmsQGcKcN23dV3yHzLBzlKlrfVLrde3b9/AozNLsc8pg7dfccUVMYuPcZI23njjztyl21JAAQUUUEABBRToJIEpp5yyzS2Vs0ybG3EBBXq4QNWOIVRL7gRoOtrYraXz9FgV6MkCb731Vhw3jDRhuna2FfztyRaemwIKKKCAAgooUIsCDA1ARrpFAQXKE6jZDKHyTq9rlrrwwgu7ZkfuRQEFKibA3Sdef/31im3fDSuggAIKKKCAAgpUVoCBpC0KKFC+gBlC5Vu5pAIKKKCAAgoooIACCiiggAIKKNAjBAwI9Yhq9CQUUEABBRRQQAEFFFBAAQUUUECB8gUMCJVv5ZIKKKCAAgoooIACCiiggAIKKKBAjxAwINQjqtGTUEABBRRQQAEFFFBAAQUUUEABBcoXMCBUvpVLKqCAAgoooIACCiiggAIKKKCAAj1CoCruMvbDDz+EoUOHhubm5h6B6kkoUM0CDQ0N8Xacffr0afUw/Vy2ytNlM62vLqN2RwoooIACCijQyQL+HdM2aLlGbW/JJRRov0BVBIQIBg0cODA0NlbF4bRf0TUUqCGBpqamMGjQoNBWQMjPZXVUqvVVHfXgUSiggAIKKKBA+wX8O6Zts3KN2t6SSyjQfoGqiMCQGWQwqP2V5xoKdESAz1o52Xh+Ljui2/nrWF+db+oWFVBAAQUUUKBrBPw7pm3nco1GjBhhr5q2OcdZImVg9e3bd5x5TgjBMYS8ChRQQAEFFFBAAQUUUEABBRSoYgGHWOlY5fAjN3aW4gIGhIq7OFUBBRRQQAEFFFBAAQUUUECBqhAoJ8O/Kg60Cg9Cu9KVYkCotI1zFFBAAQUUUEABBRRQQAEFFFBAgR4pYECoR1arJ6WAAgoooIACCiiggAIKKKCAAgqUFjAgVNrGOQoooIACCiiggAIKKKCAAgoooECPFDAg1COr1ZNSQAEFFFBAAQUUUEABBRRQQAEFSgsYECpt4xwFFFBAAQUUUEABBRRQQAEFFFCgRwoYEOqR1epJKaCAAgoooIACCiiggAIKKKCAAqUFDAiVtnGOAgoooIACCiiggAIKKKCAAgoo0CMFDAj1yGr1pBRQQAEFFFBAAQUUUEABBRRQQIHSAgaESts4RwEFFFBAAQUUUEABBRRQQAEFFOiRAgaEemS1elIKKKCAAgoooIACCiiggAIKjCvQ3NwcRowYEYYPHx5Gjx497gLdMGXUqFHhhx9+6IY91/cue3xA6M033wzff/99rOW33347XH/99VVR46+99lr4/PPPq+JYPAgFOlvg1Vdfjf/JpO0++uij4cknnwxM/+STT9JknxVQQAEFFFBAAQUU6BSBDz74ILz++uvjbKupqSk89dRT4dtvvx1nXj1O+Prrr8MzzzwTXnnllUCb9Omnn66Kv8+//PLL8PLLL9djlXTrOff4gNA666wTHnnkkYh88803hyOPPDKMGTOm09D/8Y9/hE8//bRd2+NCX2aZZcIWW2zRrvVcWIFaEOA/3WWXXTb+58Lx8n7dddcNa665ZlhttdXCggsuGOaaa66wyy67BL74LQoooIACCiiggAIKdFRg5MiR4eCDDw4LL7xwWGWVVVps5qqrrgqzzz572G677cIcc8wRdtppp6rJiGlxoF305scffwzvvPNOmHbaacNiiy0WFl100TDLLLOEzz77zL/Lu6gOqm03PT4glAU/7LDDwhtvvBF69eq80z722GPD+++/n91Nm6+vu+662Bj++OOPi0ax29yAC/RoAX7daKuUs0xb2+jq+bfcckv8j2bQoEHhmmuuCT///HNYY401Ap+DnlDKqZNylukJFp6DAgoooIACCijQVQKbbLJJoCfICSec0GKXzz77bDjggAPC+eefH4MgZKq/8MILgfZbvZbUc2aaaaYJE044YZhooonCDDPMEBZYYIHQr1+/PAtdtzAlkwizwYMH5+fxgiDcW2+9FeezzLvvvtsi0Pbcc8+FL774IrqTncXf/ZRvvvkmtn/JSnrppZcC2UqFha5sZHqxXYJXnZnMUbgv34fQeZGRbtT8+9//HpZffvl4MfOF8N577xU9Ghqhm222WYt5p59+elhuueXCzDPPHLbffvt44aYF9tlnn8C2+XKZd955YxT1pptuirNp1M4555zxw7DBBhuEtddeO63W6jN9NG+88caw+eabx6yJf/7zn60u78z6Erj33nvjf1o8lyrlLFNq3WqYPskkk8TP0mWXXRY/s2TZ1Xopp07KWabWHTx+BRRQQAEFFFCgqwUOPPDAcPvtt4ff/OY3LXbNj/Drrbdevp02cODAcMwxxwSyhuq1TDnllDE5ggDOd999FxhLiDLZZJMF/kan/PLLL4FhVxjTZ9ZZZw1TTDFF4EfNlNlPgIb5BIUwJ8No6NChcZm4gf9tg+FRWHammWYKjY2NcX8EeEjOYD32x3uOI1vofcM+J5988hgw6ik/HmfPsZpe13xA6Iwzzgg0KPfcc89w5513xguHDz4XaGEhRS4bhWTdSy+9NBx00EHh2muvDcOGDQtbb711PrrJxUnAhov2kksuCUsssUTYbbfdYkbDVFNNFVJw6LjjjouBo8L9FXv/4IMPxslsi0DSDTfckN9fseWdVp8CBA94FJZS0wuXq4X3/MdAhtCLL75YC4db1jGWqp9S08vaqAspoIACCiiggAIKlBRYddVVi86jFwc/6mfLfPPNF9uDtPvqsfD399xzzx1PnZ4zKQuHdnIqZAMRKJpnnnkCmUQEbwgkpfFvaRuzDSynnnrq2P1swIABcYDqtA2e+/TpE5cjA6l3796xW9qkk04ap7FdhpCYfvrpQ0NDQ3a1MOOMM8bpJF+wPANfWyon0Fi5TVd+y0QcTz311BgQ2mijjeIOSQm84oorYkQzRTmLHQnrnnLKKTGow3gnlPnnnz/2LWXwW7KGKFysdDWjLLLIIuHWW28NpMCRicRYKOxjoYUWihd0XKiNf4hUEwjig8SXFx++hx56KL5uY1Vn14HA6quvHs8yG0AoNS1Nr2UW/qM5+eSTa/kU4rGnuqiXeqv5CvMEFFBAAQUUUKDHC5DVQq+MbCE4Qfnwww/jmEPZefXymswbHgTFyOwhYYKuXAR46DZGly2ygzBKhWUZF5RAEQEcupqxLsv+9NNPcVuFgZ2+ffum1eMz3dCmm266FgEgMpAKS3Y9MpfYj6VyAjUdECLVjYswO3jYBBNMEMfnaYuMdbkoyfK57bbb8ovTv5HUtRQQykaVJ5544hj4Sely+ZXKfMGxkhF0+eWXhyFDhsS1llxyyXDxxRcbECrTsB4WKxZc4LwJNlCYn5aJE2r4H/4D4peFnlBSnWSDQpxXT6y3nlBfnoMCCiiggAIK9GyBFNzInmUaQyc7Xk52fj297t+/f+BBly4y9hnzBxcSJyhkE6VCkgSFeTy4QxnPdO1iGyQ7FHb9Sutm12M5S3UJ/FrL1XVcZR0NAR0uKiKU7S0EZyhER7MX+6GHHtoi26cw0tne/WSXp28rZYcddojP2X84nmw0NDvP1/UnUCq40JOCQdQqg/uReddTSr3UW0+pL89DAQUUUEABBXquAHcXK7wbNHfTou3H+LH1WMj6IduHHi6pnYsHXbrSeEJ09SLrJ5u9Q8YQy7EOGTskUXBXN7p0UUioaK3QZmfZFJBLy5JoQRuYfVq6R8JG8zgAAEAASURBVKCmQ3SktXHxMkJ5tnCb+TSSeXZ69jXrclHT1eyII47IPxiJPnUhyy7fGa/pLsag1gx6nR6Mzs4HgDswWRTIChQGfwrfZ5etxdfcPeDqq68OK664Yi0efsljLqynwvclV3SGAgoooIACCiigQKcJMDTB3Xff3WK81jvuuCMOEUI7sB4L2TwMWcIdxL799tv8QM8EgBgHiEL2Pt3DaK+yLEEcfsRlIGkKdyejMLYPgSIy/svp1sWt7skiIkjHdslIYpynlKgRN+o/XS5Q0wEhMoMIsBx88MExKskdvBhgmmltDRRG9y+W405ijFxORJSgDKOkf/LJJ2VXxBxzzBFvxcdo7K0VLngCVTvvvHMcl4i0Ox4MpMVA1t5trDW9+p2XggnpuZYlUhD0sccei+N3MQ7XxhtvHHbaaadaPq2ix57qKz0XXciJCiiggAIKKKCAAhUT4KZDBDOOPPLIGHxgLNhzzz03cEOgei0EfWi/0tOGAA8DSxPYYeBoAjYUMnYY0JlADYkXBINod5NxRaFbGcsyRtOzzz4bB5suZwgIxg8iM4usILZLm5sBpNN+48b9p8sFaj40etZZZ4W99torZhkQlOFC445hqZ9ja6Jnn3122HvvvWNGEFFRMnW481h7UggJRpFhdOaZZ4aPPvoon3pXuF/GDuJiX2qppQpnhU033TSstdZa8UPRnn2PsyEn9EgBggo9ofBZoXCHPj4H++67b7xrX084t2Ln0FPqrdi5OU0BBRRQQAEFFKh2AbJhuFM0t5pnXFjaWQwPwl1u67kQvElZQCRFMAZvYSFwxINMIbqJ0SsnFd4THJo1NyA0CRkpYygFjFhumWWWSYu3eCYAxIN2O/tN3dZYKM3LrsA2s9vNzvN15wg05LpWNbe2KW47V+kgBdHB8d0H6WpfffVVGDhwYBxXqLVzKpzHhUykknWzF2Xhcq29J/pMdtKJJ544zmJc3ERfLQpUi0A5n7lylqmW8+npx1FOXZSzTE938vwUUEABBRRQoPoEyvkbpZxlxufMaKtxx6pqLeWcP71aLB0XoCdQJQt1SOAsmy3F3ctbK0svvXScTe8mApjdUWo+QyihEWFMtxFM08p9puLoujU+hS+YPfbYI2y55ZbjbKZe+6iOA+EEBRRQQAEFFFBAAQUUUKCLBao5GNTFFO5OgRYCPSYg1OKsuukNdyzjYVFAAQUUUEABBRRQQAEFFFBAAQWqWaCmB5WuZliPTQEFFFBAAQUUUEABBRRQQAEFFKhWAQNC1VozHpcCCiiggAIKKKCAAgoooIACCihQIQEDQhWCdbMKKKCAAgoooIACCiiggAIKKKBAtQoYEKrWmvG4FFBAAQUUUEABBRRQQAEFFFBAgQoJGBCqEKybVUABBRRQQAEFFFBAAQUUUEABBapVwIBQtdaMx6WAAgoooIACCiiggAIKKKCAAgpUSMCAUIVg3awCCiiggAIKKKCAAgoooIACCihQrQIGhKq1ZjwuBRRQQAEFFFBAAQUUUEABBRRQoEICBoQqBOtmFVBAAQUUUEABBRRQQAEFFOgMgYaGhs7YTF1uQ7vS1W5AqLSNcxRQQAEFFFBAAQUUUEABBRTodoEBAwYEAxvtrwbMsLMUF2gsPtmpCiiggAIKKKCAAgoooIACCihQDQJ9+/YNPCwKdKZAVWQIEbVramrqzPNyWwooUEKAz1o5vy74uSwB2MWTra8uBnd3CiiggAIKKNBpAv4d0zZluUZtb8klFGi/QFVkCJHCNWjQoNDc3Nz+M3ANBRRol0C5aZN+LtvFWrGFra+K0bphBRRQQAEFFKiwgH/HtA1crlHbW3IJBdovUBUBoT59+gQeFgUUqB4BP5fVUxflHIn1VY6SyyiggAIKKKBANQr4d0w11orHVA8CVdFlrB6gPUcFFFBAAQUUUEABBRRQQAEFFFCgWgQMCFVLTXgcCiiggAIKKKCAAgoooIACCiigQBcJGBDqImh3o4ACCiiggAIKKKCAAgoooIACClSLgAGhaqkJj0MBBRRQQAEFFFBAAQUUUEABBRToIgEDQl0E7W4UUEABBRRQQAEFFFBAAQUUUECBahEwIFQtNeFxKKCAAgoooIACCiiggAIKKKCAAl0kYECoi6DdjQIKKKCAAgoooIACCiiggAIKKFAtAgaEqqUmPA4FFFBAAQUUUEABBRRQQAEFFFCgiwQMCHURtLtRQAEFFFBAAQUUUEABBRRQQAEFqkXAgFC11ITHoYACCiiggAIKKKCAAgoooIACCnSRgAGhLoJ2NwoooIACCiiggAIKKKCAAgoooEC1CBgQqpaa8DgUUEABBRRQQAEFFFBAAQUUUECBLhIwINRF0O5GAQUUUEABBRRQQAEFFFBAAQUUqBYBA0LVUhMehwIKKKCAAgoooIACCiiggAIKKNBFAgaEugja3SiggAIKKKCAAgoooIACCiiggALVImBAqFpqwuNQQAEFFFBAAQUUUEABBRRQQAEFukjAgFAXQbsbBRRQQAEFFFBAAQUUUEABBRRQoFoEDAhVS014HAoooIACCiiggAIKKKCAAgoooEAXCRgQ6iJod6OAAgoooIACCiiggAIKKKCAAgpUi4ABoWqpCY9DAQUUUEABBRRQQAEFFFBAAQUU6CIBA0JdBO1uFFBAAQUUUEABBRRQQAEFFFBAgWoRMCBULTXhcSiggAIKKKCAAgoooIACCiiggAJdJGBAqIug3Y0CCiiggAIKKKCAAgoooIACCihQLQKN1XAgP/zwQxg6dGhobm6uhsPpccfQ0NAQBgwYEPr06dPquVkPrfJ028xy66/bDtAdK6CAAgoooIACCiiggAIK1JxAVQSECAYNHDgwNDZWxeHUXCW2dcBNTU1h0KBBbQaErIe2JLtnfrn11z1H514VUEABBRRQQAEFFFBAAQVqUaAquoyRGWQwqHKXD7blZF9ZD5Wrg/HZcrn1Nz77cF0FFFBAAQUUUEABBRRQQIH6EqiKgFB9kXu2CiiggAIKKKCAAgoooIACCiigQPcKGBDqXn/3roACCiiggAIKKKCAAgoooIACCnS5gAGhLid3hwoooIACCiiggAIKKKCAAgoooED3ChgQ6l5/966AAgoooIACCiiggAIKKKCAAgp0uYABoS4nd4cKKKCAAgoooIACCiiggAIKKKBA9woYEOpef/eugAIKKKCAAgoooIACCiiggAIKdLmAAaEuJ3eHCiiggAIKKKCAAgoooIACCiigQPcKGBDqXn/3roACCiiggAIKKKCAAgoooIACCnS5gAGhLid3hwoooIACCiiggAIKKKCAAgoooED3CjR27+4rt/c777wzbnzdddftlJ0MHjw4NDU1jbOt/v37h8kmmyy8+OKLcf7iiy8el/n888/j9H79+o2zTj1N6Ox6+PHHH8PQoUPzhBNPPHGYaqqp8u+788XPP/8chgwZEqaeeuow0UQTdeehuG8FFFBAAQUUUEABBRRQQAEFWhXosQGhd955J554ZwWEzjnnnPDNN9+Mg7nhhhuGNddcM/z3v/8NBARSQOiEE04Ia621Vthggw3iOvfee2+YbbbZwuyzzz7ONnryhM6uh1deeSVcccUVLcgmnXTSsMIKK0TrhoaGFvO68s2nn34a/va3v4V99903zD333F25a/elgAIKKKCAAgoooIACCiigQLsEemxAqF0KZS48zzzzhK233rrF0n369InvDzjggNDc3NxiXvbNzTffHNZZZ526CwhlDTrz9d577x0GDhwYRo4cGV5//fVw6623xoysVVZZpTN347YUUEABBRRQQAEFFFBAAQUU6JECBoTaUa0TTjhhye5Jl19+eRg9enTYY489Wmxx2LBh4f/+7//itLvuuis8/vjj4fjjjw+NjY3hs88+C//5z3/CW2+9Ffr27RsIZpDpQpbLhx9+GC644IKwxRZbxOyjH374IRx77LEttl3PbyaffPIw5ZRTRoIZZ5wxPPnkkzEwlAJCdOF7+OGHw8cffxymnXbasNFGG4W55porLl/KluDS7bffHl566aVA17RZZ501bL755mGGGWaI61100UWBa4DsHzLCWGa55ZYLpbLQRowYEc4666xAt8Ldd9891nk915nnroACCiiggAIKKKCAAgooUD0CDirdSXVBwIYAQGGZZJJJAt3KKAMGDIive/XqFb777rtAN7Tvv/8+bLrppmG++eYL1113XQwYsSzBJYJJ119/fZh55pnD6quvzmRLEQGssCeoRnnzzTfDxRdfHL0JqDH97LPPDl988UWcX8r22muvDU8//XRYbbXVwrbbbhu3ee6558Z1+Ic6Jpj0zDPPhGWWWSZMMcUU4Y477ogBpPxC/3tB90Hql6AR2yIAaFFAAQUUUEABBRRQQAEFFFCgWgR6RCuVgYvTWDUJNr0/44wz0qT4POecc5bM6GixYJE377//fijc3n777RczeoosHieRUbLUUkvFcW945kF55JFHwpgxYwJdnxiAeOmll44BIMYaIusklRVXXDGsvfba6W1VP3dVPYDw/PPPhy+//DIGaXhNsGaRRRaJPhzHvPPOG7bbbrv4frHFFgtHHXVUePDBB8M222wTp/FPoe0mm2wSx31KGUG//PJLuOqqq+LYUSkbiSDdEUccESaYYIKw5JJLhkMPPTS8++67YeGFF85vl4DThRdeGNc7+OCDQ70PLJ6H8YUCCiiggAIKKKCAAgoooEDVCPSIgFBXaZLlQVelzih0ZSI7iAygVN5+++0Y2MjezYxuS5ZxBe6+++4WE7fffvsYlGEcJwJ3lCuvvDK/DBlZgwYNyr/nRaEtgRu68T333HPhq6++ioEelqMrWSrTTz99DAbxnswj7nBGkChb2O/w4cNjZtA000yTneVrBRRQQAEFFFBAAQUUUEABBapCoEcEhBjDpXAcl5TJs//++3ca9CyzzBJ23HHHTtkeXYooaVBqXpMlRCHDJJXuvGtWOoZyn7uqHjieAw88MMw000xx7CCCamTsULJ2WVu6gRVm6hTannfeebG72YILLhjHDSKYUxh4Klyn8D3HQDCIcv/998e7zqVjixP9RwEFFFBAAQUUUEABBRRQQIEqEOgRAaEqcGz3IRBc4jb2G2+8cb7LGePgMOZQ79692729elth4oknjl3tll9++Rh4YTBouoyRxcUg09yBjC5gqRCkKQwIpXk8k0H02muvxUG8V1pppTjrsccei8/t/WfXXXcNk046aRxQ+sYbbxznznTt3Z7LK6CAAgoooIACCiiggAIKKNDZAg4q3dmiJbZHVyPGmmFQYsoSSywRBy2++uqr42DHdHM6+eSTQ3YQ4xKbcnJGgODZeuutF7t4PfHEE3HOsssuG5599tnwwAMPhCFDhsTxhg4//PBwzz33ZNZs+ZJsIoJJH330UezKR320tnzLtVu+IxjEncjWXHPN8Oijj4YXXnih5QK+U0ABBRRQQAEFFFBAAQUUUKCbBQwIdVEF0J1q6NCh4ZRTTolBCjKEyCQhQHTccceF0047Ld4Va+utt+6iI+o5uyG4RkYQg0mPGjUqkOGz/vrrBwbo/stf/hIuu+yy2B0v3ZK+2JnTrYs7khG8OeSQQ8IFF1wQB40utmy50ziG2WabLRD0IxvMooACCiiggAIKKKCAAgoooEC1CDTkxrJpbu1gBg8eHG973toy4zvvk08+6fR9EBygFI4tNL7HOr7rM0Ax3cKyhTtkkZ3C3cYqVcoxLmeZ9h5fd9cDAz4z+HO53fC48xvdxxg8vFev6omXVqJu2luXLq+AAgoooIACCiiggAIKKDCuAO012pxTTz11fuaTTz6Zf13sRRpDmDZr//79iy1S8Wk9dgyhagsEpZosDAYxPTv4cVqupzx3dz2094NFEGjAgAE9hd/zUEABBRRQQAEFFFBAAQUUUKCoQPWkQBQ9PCcqoIACCiiggAIKKKCAAgoooIACCnS2gAGhzhZ1ewoooIACCiiggAIKKKCAAgoooECVCxgQqvIK8vAUUEABBRRQQAEFFFBAAQUUUECBzhYwINTZom5PAQUUUEABBRRQQAEFFFBAAQUUqHIBA0JVXkEengIKKKCAAgoooIACCiiggAIKKNDZAgaEOlvU7SmggAIKKKCAAgoooIACCiiggAJVLmBAqMoryMNTQAEFFFBAAQUUUEABBRRQQAEFOlvAgFBni7o9BRRQQAEFFFBAAQUUUEABBRRQoMoFDAhVeQV5eAoooIACCiiggAIKKKCAAgoooEBnC1RFQKihoSE0NTV19rm5vf8JYItxW8V6aEuoe+aXW3/dc3TuVQEFFFBAAQUUUEABBRRQoBYFGqvhoAcMGBAGDRoUmpubq+FwetwxEOjBuK1iPbQl1D3zy62/7jk696qAAgoooIACCiiggAIKKFCLAlUREOrTp0/gYeleAeuhe/3duwIKKKCAAgoooIACCiiggAJdJVAVXca66mTdjwIKKKCAAgoooIACCiiggAIKKKBACAaEvAoUUEABBRRQQAEFFFBAAQUUUECBOhMwIFRnFe7pKqCAAgoooIACCiiggAIKKKCAAgaEvAYUUEABBRRQQAEFFFBAAQUUUECBOhMwIFRnFe7pKqCAAgoooIACCiiggAIKKKCAAgaEvAYUUEABBRRQQAEFFFBAAQUUUECBOhMwIFRnFe7pKqCAAgoooIACCiiggAIKKKCAAgaEvAYUUEABBRRQQAEFFFBAAQUUUECBOhMwIFRnFe7pKqCAAgoooIACCiiggAIKKKCAAgaEvAYUUEABBRRQQAEFFFBAAQUUUECBOhMwIFRnFe7pKqCAAgoooIACCiiggAIKKKCAAgaEvAYUUEABBRRQQAEFFFBAAQUUUECBOhMwIFRnFe7pKqCAAgoooIACCiiggAIKKKCAAgaEvAYUUEABBRRQQAEFFFBAAQUUUECBOhMwIFRnFe7pKqCAAgoooIACCiiggAIKKKCAAgaEvAYUUEABBRRQQAEFFFBAAQUUUECBOhMwIFRnFe7pKqCAAgoooIACCiiggAIKKKCAAgaEvAYUUEABBRRQQAEFFFBAAQUUUECBOhNoMyDU0NAQmpqa6ozF01VAAQUUUEABBRRQQAEFFFBAAQVaFyBeQtykFktjWwfdr1+/MGjQoNDc3NzWos5XQAEFFFBAAQUUUEABBRRQQAEF6kaAYBBxkxEjRtTcObcZEJpkkkkCD4sCCiiggAIKKKCAAgoooIACCiigwLgCtRgQarPL2Lin6RQFFFBAAQUUUEABBRRQQAEFFFBAgVoWMCBUy7XnsSuggAIKKKCAAgoooIACCiiggAIdEDAg1AE0V1FAAQUUUEABBRRQQAEFFFBAAQVqWcCAUC3XnseugAIKKKCAAgoooIACCiiggAIKdEDAgFAH0FxFAQUUUEABBRRQQAEFFFBAAQUUqGUBA0K1XHseuwIKKKCAAgoooIACCiiggAIKKNABAQNCHUBzFQUUUEABBRRQQAEFFFBAAQUUUKCWBQwI1XLteewKKKCAAgoo8P/snQWcHMX2tisQHBLcQoIEgrsFD+7uFwvBggcIHiDYxd0dgrtbcLlAcC4SEggSJLi79VfP+d8zX81kbGdnVrLv+f12Z6a7urr66eqernfOOSUCIiACIiACIiACIiACNRCQIFQDNG0iAiIgAiIgAiIgAiIgAiIgAiIgAiIgAu2ZgASh9nz21HYREAEREAEREAEREAEREAEREAEREAERqIGABKEaoGkTERABERABERABERABERABERABERABEWjPBCQIteezp7aLgAiIgAiIgAiIgAiIgAiIgAiIgAiIQA0EJAjVAE2biIAIiIAIiIAIiIAIiIAIiIAIiIAIiEB7JiBBqD2fPbVdBERABERABERABERABERABERABERABGogIEGoBmjaRAREQAREQAREQAREQAREQAREQAREQATaMwEJQu357KntIiACIiACIiACIiACIiACIiACIiACIlADAQlCNUDTJiIgAiIgAiIgAiIgAiIgAiIgAiIgAiLQnglIEGrPZ09tFwEREAEREAEREAEREAEREAEREAEREIEaCEgQqgGaNhEBERABERABERABERABERABERABERCB9kxAglB7PntquwiIgAiIgAiIgAiIgAiIgAiIgAiIgAjUQECCUA3QtIkIiIAIiIAIiIAIiIAIiIAIiIAIiIAItGcCEoTa89lT20VABERABERABERABERABERABERABESgBgIShGqApk1EQAREQAREQAREQAREQAREQAREQAREoD0TkCDUns+e2i4CIiACIiACIiACIiACIiACIiACIiACNRCQIFQDNG0iAiIgAiIgAiIgAiIgAiIgAiIgAiIgAu2ZgASh9nz21HYREAEREAEREAEREAEREAEREAEREAERqIGABKEaoGkTERABERABERABERABERABERABERABEWjPBCQIteezp7aLgAiIgAiIgAiIgAiIgAiIgAiIgAiIQA0EmiQIjRkzJjzxxBPhgw8+CFmW5e3u7bffDj/++GPeskZ+ePTRR8Ozzz7byF1Y3V988UV44403wq+//jrWvj799NPw6quvjsWisOA333wTRo0aVbg47/OQIUPCxx9/nLdMH0RABERABERABERABERABERABERABESgEQSqEoS+++67sOWWW4ZFFlkkDBgwICy11FJhlVVWCaNHj861acMNNwxPP/107nOj35x11lnh0ksvbehurrrqqrDkkkuGPn36hOHDh+f29cMPP4QNNtjAOGy11VZh4YUXDk8++WRufeGb22+/Pey8886Fi3Off/rpp3DkkUeGoUOH2rLPP/88nHPOORWFplwFeiMCIiACIiACIiACIiACIiACIiACIiACTSBQlSA0aNAgEydGjhwZXnnllfDOO++Ebt26lRU5mtCGmoredtttDRWETj75ZBNlzjvvvLHat/vuu4fOnTuHt956K7z55puhf//+YZdddgl4DNVik08+uTHt16+fbf7JJ5+Eo48+Ovzzzz+1VKdtREAEREAEREAEREAEREAEREAEREAERKAsgaoEIbxjll9++dC1a1erjFe8cy677LK8yn/++WcTRnr16hXWXHNNE0vSAiNGjAg77bRTmHvuucPaa68drr766tzqQw45JBx00EG5z3gbzTvvvHlhYXvttZcJJRQ68MADA6IN9u6774b5558/vP7662GTTTYJc845Z9h+++3zQtgQV4499tiwxBJLmEfPJZdcEvbee+9QTPChTo73qaeeCiussAIfc/bVV1+FBx98MJx00kmhS5cuYfzxxw977LFHmGGGGcIDDzyQK1fszZ133mneRrQVwSe1lVdeOTz22GPh7rvvDmussYatohxtxhCbttlmGzu2xRZbLJx55pnyIDIy+icCIiACIiACIiACIiACIiACIiACItBUAlUJQptvvnk499xzww033JDLpTPxxBOH7t275+2PMK7VV189XHTRReZBgyjjRi4ewqvY7sorrwzUSZjUTTfdZEUWX3zxcM8993jxQI6gL7/8Mjz++OO27O+//w733XefCTosIIyN0C3sr7/+CoRZ0cZ99tknnHDCCZbb54gjjrD1/DvmmGNsX4cddph5/tx///3h4YcfDoRrFbNll102TDLJJGOteu+998KEE04YevbsmbcO8QphqpSRH4j9nXjiiWG33XYLF1xwQbjxxhtzxTnW3377zYSoU045xZZff/31JqDxwUPO7rjjjnD88cfbMcBDJgIiIAIiIAIiIAIiIAIiIAIiIAIiIAJNJdC5mg0QIyaYYALzasEzZ8UVVwyEN6266qp5m5NHaIsttrBliCnrrbeeCTV4zyB+4FFz9tlnm1fNMsssY0IO4gfbkJNozz33tDCs+eabz3LyEIqFl86hhx5qoWoIJuTzKWU77rhj6N27t63+6KOPcmITghEeQZdffrl5LlFggQUWsJxIpeoqtfz9998PM844YxhvvHwtbaaZZgqE1JUyklKfdtppJibRRoSu559/3nIzpdtMNdVU5sHEsoUWWshY8Z4wPYQu2s0fCbWnm246VslEQAREQAREQAREQAREQAREQAREQAREoEkE8lWNEpuSL4dQr5dfftnCxAgZI3zJw5l8M7xk3Ei0jOG5g7322mthueWWywkcLEPcYcay77//PkwzzTQBLyGSM+P9Q3gZIWJsRygas5shIk022WRsWtTmmWee3HLEFLySMGZA++OPP2z/XmDqqae20DX/XO0rolYxryLa6CF1xerCowjPIjfa99lnn/nHiq99+/YN++67r+Uruvnmm8OUU04ZOnXqVHE7FRABERABERABERABERABERABERABERCBQgJVCUK+EV4/5Lc5//zzw4UXXmghWgghboVeM76cV0SUSSedNF1kn5m+3qd0J9wMQQjvF8QhPHHIo4MnDTmFPLdOXiXJh3T/qVjiyZnTZWxW+DmpquTbOeaYIzCN/C+//JJXBo8k1pWytG2Uaeq+Dz/88EAOIhgixC299NImdJXan5aLgAiIgAiIgAiIgAiIgAiIgAiIgAiIQCkCFQUhvHcI6SJhc2qIH+T1SQWhdH3he6asZ4ay1F566aUw/fTTm/DDcgShYcOGhWeeecZCyFhGKBli0IsvvmjrWdZUw3OJkDfqcUPUwQupqTbbbLNZHiRyELl9/fXXJlqRLLtRxnkgIfbpp58e4DbzzDOHIUOGNGp3qlcEREAEREAEREAEREAEREAEREAERGAcJlBRECIMCjFi4MCBNmvY77//buIQuYTw4kHQqcbIL4Sow8xkeAQhMA0ePNhCz3z7BRdc0DxgCIli1i2M12uuucYEkHIeOF5HsVfEIKaF32+//cJVV11lyavJN1Qu/KxYPSybaKKJLKfRcccdZ/mNCHk74IADAjOrrbvuuqU2a9LyWWed1QQsQvT+/PPPgOBEXiUEIEQ4ElTjkaQcQk3CqsIiIAIiIAIiIAIiIAIiIAIiIAIiIAL/I1BREKLctddeG8i5gwdPt27dbMp4Pl933XVVg8RLh6TOTFePl81GG21kIWDM+pUaYWHk+yFxMoZXDOFm7Ls5hvi0++67h1tuucVm+EIQIhytFqOeNddcM+y6666B2cgQuJi+nino62HkU2K2tC233NJyN/GZ5NscAzO7sU8SU7N/mQiIgAiIgAiIgAiIgAiIgAiIgAiIgAg0lUCn6PGTVbsR3ipjxowxbx0STddqTLGOoFQvAaWadtB28vZ4u8krhIfT3nvvbTOmVVNHYRnqQAyqxdOosK5inxHG8AgidxPG/khEjUCEp5JMBERABERABERABERABERABERABESg9Qmgc6RRPORGLmdMmoURkVVugqpydTR3XZNUHUKvevTo0dx95kFqdmVVVrDzzjubIHTwwQdbONYNN9wQPv3001xoWpXV5BUjUXSjxCB2lM5Kxmf2R+4gmQiIgAiIgAiIgAiIgAiIgAiIgAiIgAg0h0BVIWPN2UFb2ZacP3gIEaq26qqrWv6f2267Lcw+++xtpYlqhwiIgAiIgAiIgAiIgAiIgAiIgAiIgAi0CIEmeQi1SIsatBNy71xxxRUNql3VioAIiIAIiIAIiIAIiIAIiIAIiIAIiED7IdBhPITazylRS0VABERABERABERABERABERABERABESgsQQkCDWWr2oXAREQAREQAREQAREQAREQAREQAREQgTZHQIJQmzslapAIiIAIiIAIiIAIiIAIiIAIiIAIiIAINJaABKHG8lXtIiACIiACIiACIiACIiACIiACIiACItDmCEgQanOnRA0SAREQAREQAREQAREQAREQAREQAREQgcYSkCDUWL6qXQREQAREQAREQAREQAREQAREQAREQATaHAEJQm3ulKhBIiACIiACIiACIiACIiACIiACIiACItBYAhKEGstXtYuACIiACIiACIiACIiACIiACIiACIhAmyMgQajNnRI1SAREQAREQAREQAREQAREQAREQAREQAQaS0CCUGP5qnYREAEREAEREAEREAEREAEREAEREAERaHMEJAi1uVOiBomACIiACIiACIiACIiACIiACIiACIhAYwlIEGosX9UuAiIgAiIgAiIgAiIgAiIgAiIgAiIgAm2OgAShNndK1CAREAEREAEREAEREAEREAEREAEREAERaCwBCUKN5avaRUAEREAEREAEREAEREAEREAEREAERKDNEZAg1OZOiRokAiIgAiIgAiIgAiIgAiIgAiIgAiIgAo0lIEGosXxVuwiIgAiIgAiIgAiIgAiIgAiIgAiIgAi0OQIShNrcKVGDREAEREAEREAEREAEREAEREAEREAERKCxBDpXqv7XX38NP/zwQ8iyrFJRrRcBERABERABERABERABERABERABERCBDkOgU6dOoUuXLu3yeCsKQohBM800U+jcuWLRdglAjRYBERABERABERABERABERABERABERCBWgj89ddfYcyYMWG88dpfAFbFFuMZJDGolm6hbURABERABERABERABERABERABERABMZlAugl7TWiqqIgNC6fOB2bCIiACIiACIiACIiACIiACIiACIiACHREAhKEOuJZ1zGLgAiIgAiIgAiIgAiIgAiIgAiIgAh0aAIShDr06dfBi4AIiIAIiIAIiIAIiIAIiIAIiIAIdEQCEoQ64lnXMYuACIiACIiACIiACIiACIiACIiACHRoAhKEOvTp18GLgAiIgAiIgAiIgAiIgAiIgAiIgAh0RAIShDriWdcxi4AIiIAIiIAIiIAIiIAIiIAIiIAIdGgCEoQ69OnXwYuACIiACIiACIiACIiACIiACIiACHREAhKEOuJZ1zGLgAiIgAiIgAiIgAiIgAiIgAiIgAh0aAIShDr06dfBi4AIiIAIiIAIiIAIiIAIiIAIiIAIdEQCEoQ64lnXMYuACIiACIiACIiACIiACIiACIiACHRoAhKEOvTp18GLgAiIgAiIgAiIgAiIgAiIgAiIgAh0RAIShDriWdcxi4AIiIAIiIAIiIAIiIAIiIAIiIAIdGgCEoQ69OnXwYuACIiACIiACIiACIiACIiACIiACHREAhKEOuJZ1zGLgAiIgAiIgAiIgAiIgAiIgAiIgAh0aAIShDr06dfBi4AIiIAIiIAIiIAIiIAIiIAIiIAIdEQCEoQ64lnXMYuACIiACIiACIiACIiACIiACIiACHRoAhKEOvTp18GLgAiIgAiIgAiIgAiIgAiIgAiIgAh0RAIShDriWdcxi4AIiIAIiIAIiIAIiIAIiIAIiIAIdGgCEoQ69OnXwYuACIiACIiACIiACIiACIiACIiACHREAhKEOuJZ1zGLgAiIgAiIgAiIgAiIgAiIgAiIgAh0aAIShDr06dfBi4AIiIAIiIAIiIAIiIAIiIAIiIAIdEQCEoQ64lnXMYuACIiACIiACIiACIiACIiACIiACHRoAp3b2tH//XcIf/7V1lo1dnsmiOTGH3/s5VoiAiIgAiIgAiIgAiIgAiIgAiIgAiIgAm2dQJvzEGoPYhAntb20s613QLVPBERABERABERABERABERABERABESg5Qm0OUGo5RFojyIgAiIgAiIgAiIgAiIgAiIgAiIgAiLQsQhIEOpY51tHKwIiIAIiIAIiIAIiIAIiIAIiIAIiIAJBgpA6gQiIgAiIgAiIgAiIgAiIgAiIgAiIgAh0MAIShNrBCf87Ztp+/fXX7Y/m8vmFF14I1113nS0bMWKELWvOobz33nvhzTffHKuKv/76Kzz33HPh22+/HWudL6hXGa9PryIgAiIgAiIgAiIgAiIgAiIgAiIgAo0lIEGosXzrUvt3330XlltuOfv7559/Ap9XXXXV0L9/f1u25JJLhu7du4cNN9wwDB06tEn7/PXXX8OBBx4YFllkkbDKKqvkbXv11VeHnj17hu233z7MNddcoV+/fmMJT/Uqk7djfRABERABERABERABERABERABERABEWgoAQlCDcXb+MoPO+wwE3RWW221MGzYsLDllluGK664ouodb7rppgEPo+OPPz5vGzyQ9t9//3DhhReGkSNHmifSyy+/HI455phcuXqVyVWoNyIgAiIgAiIgAiIgAiIgAiIgAiIgAi1CQIJQi2Bu3E4OOuigcMQRR4QhQ4aE66+/3nbEsj/++MPef//99+Hiiy8OH330UdFGHHDAAeGuu+4Ks88+e976G264Iay33nph7bXXtuUzzTRTOProowMeQW71KuP16VUEREAEREAEREAEREAEREAEREAERKBlCEgQahnOLbKXlVdeOcw999zh999/z+UDQgwaOHBgOPLII4u2gdCzYjZq1Kgw33zz5a2af/75w1dffRUQmbB6lcnbiT6IgAiIgAiIgAiIgAiIgAiIgAiIgAg0nIAEoYYjbtkdzDPPPLbDV155xV7JC7TooouG9ddfv0kNIcl0t27d8rbxz++//74tr1eZvJ3ogwiIgAiIgAiIgAiIgAiIgAiIQIciQJqSM844w/5479bU5b6dXqsj0Lm6YirVXgh8/fXX1tQZZpjBXhdffPHwxBNPNLn5Xbp0CT/99FPedj/++KN9Zh1WrzJWmf6JgAiIgAiIgAiIgAiIgAiIgAh0SAL33nuv5a71g+/Vq5e9bepy316v1RGQh1B1nNpFKfIGvfHGG9bWxRZbrFltZnaxwrxDH3/8cejcuXPo0aOH1V2vMs1qqDYWAREQAREQAREQAREQAREQAREQARFoMgEJQk1G1jY3YCr63XbbLeAhNO+88waSQLuR64fp6pti1PHAAw/kTTN/zz332PTziEJYvco0pV0qKwIiIAIiIAIiIAIiIAIiIAIiMG4RWHfddQNeQfzx3q2py307vVZHQCFj1XFqs6WWWWaZ8Ntvv4UPPvggZFkWZplllnDLLbfk2nv55ZeHAQMGhF133TWceuqpueWV3uy+++7hyiuvDIMGDQp77713eP7558P5559vs5n5tvUq4/XpVQREQAREQAREQAREQAREQAREoOMRcDGo8Miburxwe30uT0CCUHk+bX7t8OHDw0QTTRSWWmqp0Lt379CvX7/QvXv3XLunnHJKC/Oaeuqpc8uqedO1a9dw2WWX2VTzzDZGmNjBBx8c1lhjjdzm9SqTq1BvREAEREAEREAEREAEREAEREAEREAEWoRApzhFeVZuT5999lkuZ0y5cvVa99vv9arp/+r5+eefo/fMe/ahV695wgQTTFC3HUw8Ud2qamhFv/76a5hkkklq3gfJpKeYYoqy29erTNmdaKUIiIAIiIAIiIAIiIAIiIAIiIAItDECo0ePDuOPP36Ybrrpci179tlnc++LvSHaB/v+++8DzhatYeN0DqGnnnw8rLjC0mHlPsvZ3xeff94ajFt9n80Rg2h8JTGonmVaHZYaIAIiIAIiIAIiIAIiIAIiIAIiIAIdgMA4Kwg99NCDYdNNNwhdotLmSZA7wPnUIYqACIiACIiACIiACIiACIiACIiACIhARQLjrCD0008/hYEDDwlDhz7+/8PEOnWqCEQFREAEREAEREAEREAEREAEREAEREAERGBcJzDOJpXeaKNNQicJQON6/9XxiYAIiIAIiIAIiIAIiIAIiIAIiIAI1EBgnPUQkhhUQ2/QJiIgAiIgAiIgAiIgAiIgAiIgAiIgAh2CwDgrCHWIs6eDFAEREAEREAEREAEREAEREAEREAEREIEaCEgQqgGaNhEBERABERABERABERABERABERABERCB9kxAglB7PntquwiIgAiIgAiIgAiIgAiIgAiIgAiIgAjUQECCUA3QtIkIiIAIiIAIiIAIiIAIiIAIiIAIiIAItGcCEoTa89lT20VABERABERABERABERABERABERABESgBgLj7LTzKYsPR3+eftR7ERABERABERABERABERABERABERABEejQBOQh1KFPvw5eBERABERABERABERABERABERABESgIxKQINQRz7qOWQREQAREQAREQAREQAREQAREQAREoEMTkCDUoU9/CJ988kl4/fXXw7ffftsmSRx88MFhhRVWsL+///67aBvHjBkT3n///fDLL7/YsZQq984774SXXnop/PPPP0XraYmFtOGjjz4quiuWs7617a+//grDhg0zVr/++mtDmvPuu++Gzz//PHzxxRdlj/moo47Knf+ff/65IW1RpSIgAiIgAiIgAiIgAiIgAiLQEQlIEOpAZ/2JJ54IZ555Znj++edzR33ssceG5ZZbLtxzzz25ZW3pzXvvvRcWX3zxcPLJJ4fxxx+/aNMuuOCCMGDAgDB8+HA7FoSh1K688sow//zzh6WXXjqsu+66YbbZZguHHXZYqwhD9913X1hmmWVMiEvbiDDHcta3liEE7bvvvsZn4403DmuttVaYd955A/zqbbvssksYMmRIuO6660K/fv1KVr/NNtuEgQMHhtdeey2UEvpKbqwVIiACIiACIiACIiACIiACIiACJQlIECqJZtxbcf/994cjjzwyPP744+3q4Hr06GFiSalGTzbZZGGSSSYJk046qRXhvdtFF10U8DI6+uijw8cff2x/N9xwQ7j99tvD7rvvHrIs86It8rrnnnuG2WefPeyzzz55+0PQQqhifWsYYkvfvn2tb9xxxx3mxfTZZ5+F0047LRx++OHhiiuuqGuzOGecLz93pSrv1atXWGKJJUqt1nIREAEREAEREAEREAEREAEREIEaCUgQqhFcS282atSosNVWW4U55pgjdO/ePWy22WbmEePtWHnllQOD5zTkaKGFFrJlX331lXnEnH/++Vb8uOOOM28Z35ZXvEMOOuggK9+nT5/w9NNPp6vDLbfcEjbaaCPb9zrrrBMuv/zy3Hq8W9j3aqutFq6//np7f+GFF9r6u+++O9C2mWeeOdCeQw89NKRhSHgtUXdzDAHIBYYJJ5wwdO78f5PnIfYcc8wx4eyzzzZeCBCsW3bZZcNdd91lbR05cqTt+tprrw1bb721CUV4THE8iGep4WH0yCOP5BZxHJR78803bRkizymnnBL69+8fZppppvDKK6/kyvob9n/OOeeERx99NLBPDIHq4YcftuWs5xxS708//eSbBTgtuuiiuc+8wduLcLpu3bqFTTfdNBCGlRpeX+uvv36YZZZZwuqrr57nGZaW4/2rr74a7r33XvtDgMEbiz/qhWHaHypxqIalC3h+7grbo88iIAIiIAIiIAIiIAIiIAIiIAKNJdAhpp1vLMLG104I1Nprr205V3j9888/w9ChQy1fzhtvvBEmmGCC8OWXXwY8OljnRn4WtsX7A9EgtXnmmSf9GC6++OLw3Xffhe+//97qQXwaMWKECS233XZb2GmnnWw/hG+9/PLLJhBQL6E/vLJvBJIDDjjAtkHYIF8PIT9TTDGFCQv//e9/w3nnnWdtPPXUU+11yy23tDa6eJXXqCo/IIrMNddcYdpppw1HHHFEbiuElR9//DGsssoquWX+hvIIa4g2c889t7WBsKQpp5wy0LbnnnsuEE5HqBltxOD522+/eRX2ynEjpmHww7tm++23N5FnzjnntOWF/xZZZBHzTqKtq666qrUZEckFH+qj3jTX0R9//GH797rOOOOMgMCH59N8881nYtJ6661nx4PI8swzz4Rdd901kIOHv5tvvjkQBka4YGFfoE44wATxqNA49/y5VeJAn6vEcttttw09e/Y00ck9u7x+vYqACIiACIiACIiACIiACIiACDSegAShxjNu9h4QBk4//XQTXjbccEOrb8EFFwwffviheacgMFQyQpFIWoyIMGjQIPMGSreZfvrpw3/+8x8ThBBBfvjhB/MawVsGDxG8ba666irLwYOogDcQy3feeedcNYhJ5JvZZJNNbBnhWhgeR3jFIBTceeedYeGFF7blCFmILRzHrLPOastq+edCCtuSA8cNAYrjmm666XxR3itCCsIF4heGJ9VZZ50V8DIin8/jMbTu2WefzQlCeRuX+LDkkksGPLAqGecA76k11lgjTDTRRHlCVqVt6Q94IiGuIfJgeGRxfhAEEYQI9YLFbrvtZuvx+nnhhRfC1VdfHQ455BBblv6DFec9NUQxzpnbiiuumPO+8mWlXiux9H7M9uQpkomACIiACIiACIiACIiACIiACLQsAQlCLcu7pr1NPvnklkcFLw8G+IQ5IaJgCDf1MISJ8cYbL0w11VRhqaWWspAmvFTweiGxM6IF3kkY6wkB+/TTTwOhbAgoGO10gYLPJCUmfw/CByIQIgviC0KMGwJMowyPIUQqPG7wWCq0r7/+Oi83ER49fiyUxWupMAyrsI7Cz3jZVGN4xZx44okWpkaYXVO8ZPB8Ipws9XxCXEvFuYceeigw+xrH6PbWW2+VFN4QzZipLbXBgwfb+cXzi342evRo86BKy5R6Xw+WperWchEQAREQAREQAREQAREQAREQgeYTUA6h5jNseA0IMnie4FXCewQZEhAXszTMKH1frGy6DEHBLRVP3EOE9QhGbi6c+HqWs6xTp05exMQHvIkIDyLUihmlNthgg7DXXnvlyjTyDZ5Tv//+u4W+Fe6HMDdy/6TeRenxUT49lsLt6/HZw/YIWatkafJrpl+nrYh0xczLdu3aNaR/e++9t3kkFdsGVngJpfbAAw9YPiNyFU0zzTRWV7q+3PuWZlmuLVonAiIgAiIgAiIgAiIgAiIgAiIwNoH/P8Ife52WtBECJAfG04WwLzw/TjrppFzLXLSYeuqpbZlPKf/666+Ple/GN0IMqdbwBJpxxhnNI8WTJOOdRPjZxBNPXDbch3LkONpvv/1MlCG/DnbTTTfl8u6Q4wdPpEYY+YAIgyInUKERbgW7VBAqLFP4Ge+p1GMIca4Rxn6wdF+p9w7HRMJnEkGn9uSTT5oAxnHhjUVOIWYI87/999/fPJLSbfw9uaEQmi699FJflHslATf1eV9rKQ65BuiNCIiACIiACIiACIiACIiACIhA3QlIEKo70vpXOMMMM1ilzPREguc99tgjFzLm3iB4DWEHHnighW0RPuQika2I/7wMIUokTK7WPBSJBNHkn2G2MUSlHXbYwRJNl6oHD5O+cSpzZu8idxGzaWEIGnghUQdtWmCBBSy8qVQ9zVl+ZcxpxMxgTDFPjiQEKgQ1kjEjfiAaVWuIJkOGDAnDhg0zQeySSy6pdtMmlUOAY5Yy8gQhOiHEpTOx4Rm0+eab27kmfBCOCFwsQzjEtttuu3DyySdbDiQ8xQgXI+9UWk/aKIQ/6iDEj/3C6cUXX7Q8RMyAluZmaikOafv0XgREQAREQAREQAREQAREQAREoL4EJAjVl2dDamPq8HXXXdcSICOwfPvtt5bUmZ251wYzSTFjFQIRnjl8dk8TbxTTxVMPHjkkHU7DvbxMsVemo+ePuhF28OphVqzUU6nYdjvuuGMYMGBAYFp6hKRbb7019OnTx0QVyhNWRBvJPVQq/KlYvU1ZRjgWuZfIpYNgstJKK4XHHnvMkjDjQdMUI1k0AtKaa65poW8kzy4MjWpKfeXKXnHFFTaL3GKLLWbCDyJgameffbbNjsbxkDib80JIHu8xwvRgzzlgGQmhmUIeMa+UkeCb2csQgChPf0FwQoRkqnm3luTg+9SrCIiACIiACIiACIiACIiACIhAfQl0ijlWsnJVIh706NGjXJG6rvvt97pW19DKJi6ewqVh+ySRMLNIFQo96Q7J1UMoVzkjSTBeI5NNNlm5YkXXMb19qVm7im4QFyIk0Y9I8pzmKqI87eCYSglCiDiIOkx7Pvvss5faRVXL2Q/Tt9dy3OkOqmGclm/O+0r74piYBh6PolLiFMm/OWeF7Mu1i/AxynuuqGJlK7Wt2DZNXcaxkbgcEe7jjz8OXbp0aWoVKi8CIiACIiACIiACIiACIiACDSXABDyk9UjHysxYXc5Iy4ER5UHu19awsadeao1WJPucILboz7+SBW30Le1sacOTppJVEoPYnmnJa7W0g1dbB15MCBbFDBGjlBhEeTxyCDXjb8SIEXaRFaunmmUIHE0RRUrVWQ3jUts2dXmlfXE83bp1K1st4WBNtWpEs0pta+o+i5U//vjjw7333mteTu4NV6yclomACIiACIiACIiACIiACIiACDSNQJvzEGpa81VaBERABERABERABERABERABERABERABFqPQHv1EFIOodbrM9qzCIiACIiACIiACIiACIiACIiACIiACLQKAQlCrYJdOxUBERABERABERABERABERABERABERCB1iMgQaj12GvPIiACIiACIiACIiACIiACIiACIiACItAqBCQItQp27VQEREAEREAEREAEREAEREAEREAEREAEWo+ABKHWY689i4AIiIAIiIAIiIAIiIAIiIAIiIAIiECrEJAg1CrYtVMREAEREAEREAEREAEREAEREAEREAERaD0CEoRaj732LAIiIAIiIAIiIAIiIAIiIAIiIAIiIAKtQkCCUKtg105FQAREQAREQAREQAREQAREQAREQAREoPUISBBqPfbaswiIgAiIgAiIgAiIgAiIgAiIgAiIgAi0CgEJQq2CXTsVAREQAREQAREQAREQAREQAREQAREQgdYjIEGo9dhrzyIgAiIgAiIgAiIgAiIgAiIgAiIgAiLQKgQkCLUK9nFrpwcffHBYYYUV7O/vv/8uenBjxowJ77//fvjll1/C66+/Hrzczz//HB544IHw3//+15Z//fXXRbdv7sIRI0aEG2+8sbnV5G1f6pjyChX58O6774bPP/88fPHFF+Gdd94pUiIYpyeeeCK88cYbOVZFCzZw4ffffx8uvvji8Ouvv1a1l4cffjg888wzVZUtVagaNoXb/vjjj9Z3WA6vH374IVfkvffes3X0ufSvXD/zPpqrpBXeNKK/1sL2n3/+MW5cpx988EH49NNPjQaMU56F77/77rtmU/vmm28CbW6k/fbbb3YcHGdLWbn+Wq4Npe43nBv4Z1lWbvM2v+7KK68MH330Ud3aWS3n0aNH576/zj777LrtXxWJgAiIgAiIgAiIQHsgIEGoPZyl2MbrrrsunHnmmeGTTz5pcy1m0L344ouHk08+OYw//vhF23fBBReEAQMGhOHDh4flllvOBA8KvvDCC2GLLbYIK664YlhttdXCHHPMEZZccslw5JFHhj///LNoXbUsvO2228KgQYNCPQd+pY6pUvt22WWXMGTIEDun/fr1yyv+5Zdfhk022ST06NEjbLvttjZQWWqppcLTTz+dV64RH1566aVw880356p+9dVXw2GHHRZGjRqVW1buzemnnx4uuuiiXJHzzjuvyQO8cmxyFRe8ee6558JKK61kS1ddddU8Vv3797d19K30j/5Qyl577TXjXmp9I5YXsmpEf62F7e+//27XK4LDAQccEM455xw7fMRK5wlzrulVVlklt+yhhx5qNqZbb7019O3bt9n1lKsAkZq2//TTT+WK1XVduf5abkel7jfcQzmGP/74o9zmbWpd4b0G/txrHnzwwbq1s1rO0003nX13zTjjjDnBs26NUEUiIAIiIAIiIAIi0MYJdG7j7VPz/kfg/PPPNy8axIFu3bq1OS4IGMsss0zJdk022WRhkkkmCZNOOqmV4X1qeMxMNNFE4dtvvw0MyA888MDw1ltvhauvvtq2S8vW8v7QQw8NAwcODOONVz8NtNIxlWon28FhwgknzDs2PIbWXXfdMNtss4Vhw4aFnj17mnCGlw6iGYPs+eefv1S1zV7+1FNPhfvvvz9svvnmVhciC14JE0wwQVV133333Xl8jznmGGtv9+7dq9qeQqXYlKsAlt6v0ve+zT7Bw0/TAABAAElEQVT77BMGDx7sH9vkayGrRvXXYv2uHBCu006dOhlfPzeUX3/99c3Ljfd4ddAvEYnmm28+FsnKEEj7aPq+zCa2qtb7TaV6W2N94b1m8sknDx9++GHV95pq2pyyTd8Xbksf57tr+umnL1ylzyIgAiIgAiIgAiIwzhOo3+h4nEfVegfIL/GEVGFrrbVWYICL4e3Cr8ZLL710mGGGGcLCCy8czjjjDFvn//D4wPsGkYFB5gknnBB69eploUBeB549CE0zzTRT6N27d7j88st9cwtDuOaaa8Lzzz+fW1bLGx66fUCJENK5c3Etcqqppgp9+vQJ9957b3jxxRdNBPH9EQKw33772eBz7rnnNi8iQj7c8J7acsstzbtmwQUXDKeddloujOLaa6/NCR2Uhx0iAcwYxF544YVh9913Dx4yQCgXnOC+wQYbWJ3/+te/Am1wq/aYvLy/sh0DFN/el99www0mqMAbMQijHJ5VHBcDbszb9uijj5o3lQs4lfiwHqFtrrnmCvwavummm+Y8zvh1Hq+sZ5991o4bYYj9MNDn13s4wKPQQw0vpqOPPtraxbmhfyEiUZZQM9itvfbath4PlUMOOcTe+z/61bzzzhu++uorW1SKjZcv9poO9tL3xcoWW0YbYIFwtdFGG1n703Jcb//+97/TRWGzzTbLu07efvvtsMMOO4RZZ5010Pfck8Y3euSRR8LKK69s1+kCCywQLrnkEltVilVhf6UwHoKEZnL+dt1117xzQfmtt9463H777eYtAn/OZ2q1sGV7Z+rbp3VWeo/X2PLLL2/XD3w85My3u++++6yPzDzzzHafKuZZVOqY/Dood42yH98H54Zr5T//+Y/vvuhrpfJ48dGX8Wbk3ov3Hh6SiLilrpPtttsuIPphzrPwva0s88/vF2xf7h5aqS80lxuemxwv5yU17p0I2lhT7zVsQz/hOnHza2r22Wc3z7OrrrrKV9kr7OkvO+64o32/4aH25ptv5srUyjlXgd6IgAiIgAiIgAiIQAcgIEGoHZzkOeecM9dKBgWzzDKLfUbEIH8POSQIM2IAftRRR+UGmwgIDBwJ/UHsQXBA7Pnss89yIRIMXI877riAsIIXCnljECDuuOMO2weDnD322CMghjTHGMgyiJ522mnDEUccUbEqfq1l0EHbMQQcHvwJX8Jb6tRTT7UBiYsRlPHwEsSkE0880QbQ99xzD6vM08ZFBz7DCR60hfoYBA4dOjTH5a+//jJOZ511lvE45ZRTwiuvvGKiGttjTT2m/9sqWCgYYXEcHwNFN+pnUISnVKEh9HEeMG8bIgUiH8JWNXwOOuig8Pjjj1tYF8eKtxQiGEbdiCIMom655Zaw7LLL5vZD3QsttJAJWOkgEI8mWK+55ppWB3ljyC3DOaYO7Nhjj7XzwHtCi66//vq8UMCbbropIO6xDYbAVIyNrSzxDyEH7y8MUYqBf7X28ccfm9iG1x3iKcdSKFr5caV1koOIXEMYHOjbE088seWpok/SPz18jjw4W221lQ1qEfEQag4//HAT30qxou60v3L+CSvjfF166aV2nXK9cu1jlMezjvPKvil37rnn5uXNqoUtdSMWcj3SPzw0j+WVjDZzv+HcEPLKvYX7iOcPQ5jhmqVOrj/EOEQtjsMN76PCY6IPYX4dlLtG033Q1+aZZx4734SuFrNK5RFDttlmG/OK4jzQV7gGya9EeF2p64T7kF8ntfbXau83lfpCc7nhMcgPB9w/U0OIQszHmnqvYRuuIxf402uKerl+6IfpPinDfR6ul112mf3IkH5P1cqZtshEQAREQAREQAREoMMQiA+xWbm/6MYdc1XKWptAzBGRTTHFFFkcsOSaEgdOWRxwZfFXd1sWH5ytTPwV3D7vtNNO9jnm/rDPcWCbRe8CWxa9Z2xZHNzY5yiK2Of463EWxaAseoLY5ziIy6JXUhYHsfa52L84GM68vmLryy177LHHbP9xIDBWsThozuIg1JbHPBlZHLRn8ZfnXLk4UMymnnrqLObOsGUxbC2LiaNz62MYWhbFDPscw64yGGJxUJfFgXgWB6H2mX9xgJ9FL6vs+OOPt2UxXM3aFZMk58pET6psscUWy32u95tFF100i4PMitV626IHVa5sNXyiWJPBxA32HHMcoNuiOIDP1lhjDV+d+X7oA1gcfGVx8G7v+RcFySx6WOU+R3EriwJl7nMUETL24RbFiyx6JmUxibgtigPTLHpZ5J0zL1uv19VXXz2LYmgWPWby/pzDSSedlEUPuhwD9hsH+FmXLl1yTSg8LlbEgW8WxVQrA7cYcpJxPG5ReMvSvsN1lRrtit4zuUWFrNL+yvnhGGJeoVx5WEYhLceO8jEXit3LvVD0zsr23Xdf/9iw15iU166V6J2R2wdt5lxH75ncshgOatddDBeyZVHEzvbff//cet5w/cacZLas2DHFULUsemzZeu+fKefCa7TYPqLolO211155dXgfr1Se+y/nKooRtj3/opeKHX8U4G1Z9JIb6zpZZJFFcuXr/YZrjO8Gv4cW45b2hXpw47xOM800GecUi8nc7ZqJAp59buq9ho2iF2sWhTPbvtg1xXdUer+hPNevW/RuNA7xBw9f1KTXKIrn3b+atLEKi4AIiIAIiIAIdHgC6Cbxx+Y8bYUxQbk/12F4tvT3Lf1aPG6nw8hh7ftACU3B2wcvHzxn8ObBcNfH/Jf2jTfe2D537drVfsFNf2VdZ511wl133WWeRszCxS+/JDomhAOLA2PLK2MfWvgfHhKEwmF4CuF94mEXLCPfEL/Y8+s8YTRRAAt77rmneRTEAXfguMl/Umh4B5CAlV/c3aKwZN4D/tlfCWdyI7wMb4RGGd4i5Wa/Ktwvx+xWDR/ydNAnmM0HrxWSruJNAAu8WyoZv9LjlUQSccJl8ALCo6Naw/uIEDK241d9PNjwCCAfTSONkMvUc4B9cS1ghPjgDZXmliKfCN441Rrs6UtpQvUonOVtPuWUUwZCXuJg3ELxCIcsl3Mr3ZgQH8L2CIlxgyXXKl5leApheBISSuSGt0qjZ+nyfRW+0ma8lzjXd955Z251/IILI0eONE84uOH1l5ofiy8rPCauQbZPrdw1WmwfcCwMP/L6KpXn+sHLiETEbpzH9D7DdULopF8neJ415TrxepvzWsitWF9oDjeuGb4j+O7YfvvtAwnAuQbce7W595pi1xTnDY8sPM38+i08BpiRj86/N5rDUNuKgAiIgAiIgAiIQEcgoJCxdnyWyQdDqApCDgN68gulhliCpQPV9D3rGCjzUB89Q2zwSPgUITselkGZ1jKmEI9eM7Z7nwWIgYD/xV+ITchicIwRikPoCZ8Jo4rePDarma1M/hEChaWDuGKfWZYKBYXlWV9P41gRKIoZszyVWkf5avjsvPPOFu5CHiDYMGtUU4xQLAaCDP4ItWJ2o6YOdCnPOUIIYqBMmBBhkI00xCuujfTPw/IIs/T33obCz7681CvsvQ8WK8PgFiEDIZa+S+gWHKs1hBX6YWG74MY6t7SvsqzR/dX3W+zV+yNCmF+vvBLiSohg/AnJQlzLcaPeao4pLZMec6l9sE9vX9r2asoT7pbuI93e33NfQqzjOmFKc8S/pl4nXletrykT6ijW5rRMur4aDpRH+OIYMYS/VHRt7r2m2DXFeaNtiNhu6TH4Mr2KgAiIgAiIgAiIgAhUT0AeQtWzahMlXczgwZi8HCRnZgpfBl6IOCzzh3sGofxKTZ4XBigMHp988sm842CwSp4OpkFnwMkv2ySZpi4fxCAg4EHT6IF72jCOA08eHzjHkAs7Rn4hdlGLXBjwcK8IfjlGzOIPMYwEp3jDxLCCtGpLIk0eDFh4wuNvvvkmkMQUz6LWMqaOJlktXgicOzdEC5JK4/3EL/3FrBIfvKsYtDGtM30B8wS+3l+K1Vu4jEEfuVPwHOPcMLtcU4wE52xL8lgSV5MfpDUNni+//HJeE9yzzheS6LzQ04bpyt0Q8gqTruMhQ79EREOwXWKJJfI8ZfDqq5Y7ib3p81yrfu64/vEOIkdYWzTazL0JL720z9KX/T7Ccu5deH64IZ7g3cL9rLkG32L7YJ8uNKf7qKY825EXi/w15FXCSMTO+UiNe+cVV1wR8JQhLxj5bNqLVcOBY+EYSdxP3iUSbW+44YZ2iPW41xS7pugbeP6QD08mAiIgAiIgAiIgAiJQHwLyEKoPx4bXgsiBkQCaQTQP7YQtIIowQCcEwsOpfHBCwmIGksz+wgxHJDF2ryFvMAloERpIlEpiTheMXJBAJGFwF3Om+CYNeWXAzR/iFclDY+4TC9vxaayZBY3BQMw5YqFihDkNGjTIZlRCFCLUioEkAhC/4iNy8ZeGdnjDEYP69+9vs7WR9BYPKbw2GLw112gXyb5TwaDaOgmn4ld3xJ+rr77apmEmrItkvogLnKNSVokPM7whxPgsPMz2hPiHeX8hBI12w5J+Vczw6BkxYoT1NxcMi5VjGfUhtsDEjV/0OT5Cz1xU8nWlXpmOGqZ4FdVihBZ6//JXlmEwZ0DLNYRYAe+YgyVvN3hTPR6TcZNoHSGAtqez5CF6IAixHXXQ7+hPtBkjYTW8PcSRc4u449wpU4wVyzGEWmbHwiOQcClCQmkDg/BCr8D/26L6/81lW2pPeCzSZmZoYx8cKwnJEcjwmsG4PzFzGvccrmGmIid8MOYEKlVtk5en+yBc7e677zbxO/VmSSutVJ77MPdGrlOOByGde3KhpwpJ/rl3sr7UvtL98h5vG2YsawtWiQNtZPYvvlNIIM154x6D1eNeU3hN4R3JBAC0SyYCIiACIiACIiACIlA/AhKE6seyoTXhOcI0u/wajXCD4fnCL+kIQYRL4aaPIRZh5E5BKGJ2Jwaq5AZCXEgNQQhPGvK5MBsQYVqUQ5TB+DWfB/yYQDTdrO7vycPBwJv94q3Dr+sMutwIF4hJdU2MYEptpk3Hy+SCCy6wwRjtY1YjRCKEIwZu1OmzaHk9/sqv/AhhzDzEbEywYzrw5hoeWQyQCgeI1dbLNN0IJoh45Iji3HBsDGTLeU1U4oMwyOAbPrCjL/kU0d5fCBvE0wi+Pi16Ybtj8lrbjn7CoK2cIWAguCF2pOIHQhIhcLz6vsvVgycT56iaPEfF6qEv0bfSP58BDE8EwiTxdCAnCjltmIEubRdCHNcN1yAeOpyHNHcJoiUDfwQhcqjglYJoQD0Yg1i8GghdQxxCgOSaTPdRipUfD/2BUCtyEyGq4F1F3/VcX16uqa/NZVtuf3hBce7xfEOYZfZCrlH3KoMrYYvcb1jP9Y4HIHnN6mXpPuj31M+55t5YzCqVR5jF44v7C9cq+ZE4zlQgpF7ETsQ6BFj3nCm2v3QZfYB8aG3BKnHwNiJ2cS2nolc97jXpNUUf514Fz2pmqPS26VUEREAEREAEREAERKAygU5ksS5XjKTF/gBfrpzWtQwB3PEZGHuYFANtzhEDqsJBCS1iQMJglJAvDI8IvB0IyVpvvfVsGf/wHCKJM4OmdKDKOsQk9lm4nHUYngAMVknqzK/GjTZySPDnU5Wn+8PTYMyYMbauMOdKWo7j5XicGdsxkGfQ6sJaWr7a9wz2EQII52muIYwxsPQ2VltfOT54T5H/h0EWnlLFjO1hx8CuHoZHC0KSG4NeBBNCs2aL+VYqGQIb3kGIIo00+k2x/u/7xNOJc1FO7MODCHGumLcZnlf0s2Jea76PQla+3F/pt5Tx69mX1/raEmzpcyT65T5U6h5CWCpc/L5W6/GU266pyYZLled+6GFv7A8RGGGRpP4knHbbbbfd7K2Lj7682CveYwh9eBU1V+QrVn9zlpXiUKnOet1r8ISjv9frflTYbq4p7omDBw+2PspU9jIREAEREAEREAERaCoBvOB5Xkmf9XHmKGc+yUw6aUa58o1Y17kRlarOxhFAIEiNAVapnAp4B+29997m8YEQxGADTyAergtnQUIcKFVPOvhJ9+3v8ZggYS5/hBM16sHd98eAm79ixmAdL4xK1rdvXxuc4pHEsSOQMShN85lUqqPYekJ68P6oh9U66C/Hh3PDwLOclWJbbpty61wMQrwkPAtPJbxAqhGDqBemnK9GW6n+7/utRqzwvDK+TfpajZeds0q3S9/TV2vtF2k9/r4l2NLnKokc1Vyz3uZaX5s681Sx8oil5IPaYYcdzMMNARAvS3IEuRhE2CWhkoSA4cVYjXEe8DqrxKmauupdphiHavZRr3tN+lBVzX6bWoYQT7wjscJZ75pal8qLgAiIgAiIgAiIQHsjIEGovZ2xJrSXUBV+zSZsh7AGBqS43pM0utLAswm7KRle1JQ6Wros+XMOP/xw44H3CYMxvHsI62mOMVgsJwo0p+72vu2oUaMCXhN4YiEKVWvMpNdcoa7afXW0cmLbtDOOWEpoIGG69GE8Jwkfe+CBB3IV4cmG8Elomudiy60s8QaRj1xEspYnwD2f3GIyERABERABERABEeiIBNpkyBhhFbhxlwv54WQxkKdMqTAEP6EkE61Ul5fVqwiIgAiIgAiIgAiIgAiIgAiIgAiIgAhUS0AhY9WSKlMObxZm0GJGEQQhXNVJbkli0tQee+wxm42FmXvI6UHsHUlfU9GHWZKYZpu6yM+ASz9TXjMFsBv7YBYcN/J+9OzZ00IBunbtaovJwUNC20I7+OCDqw55KdxWn0VABERABERABERABERABERABERABESgNQm0qZCxm2++2aZSZiYYXPF9Bhxm0+IzxjJCezyRMYl3mfWFfDm77rqrlcHDiGmkSRTJjE0IS8OHD7ccN6xDGEqNGVIIGSJhM7PGMHMVbUiN8KJUcJpqqqnS1XovAiIgAiIgAiIgAiIgAiIgAiIgAiIgAu2GQJsShJjlB28gT6xJfgumx/aQMJLS3nvvveYN5KIOYs/2229vU5ITQoZwhBDEDEZMUet1MXsQswTdd999YwlCeAMxYxV/q6++ejjvvPMsHM1FKM4m69LP7eYMq6EiIAIiIAIiIAIiIAIiIAIiIAIiIAIiUECgTQlCvXv3DjfddJNNzUxyXqYwT2ciYkYX8gHhzZMaSSEHDhyYW/Thhx/adN0uBvkKZoG54447Qrlp3RCTSByaegOxPVML+yxDzJ7SEtOre7v1KgIiIAIiIAIiIAIiIAIiIAIiIAIiIAL1JNCmBCGmQicUCy8g8gTxnpAvn6nlq6++smOvNO0y5YqV8Wmfv/zyy+A5gqjwkksuCQsssEBgumDEok022STnleSw8RpyY4auE0880T/qVQREQAREQAREQAREQAREQAREQAREQATaFYE2JQhBjimp+SM3EFP5ItYcddRRYbrppguEfWF4CnXr1s3eF/s300wzWdLpwnWff/65LWJ9alNOOaWJT6+++moubCxdz3umEFbIWCEVfRYBERABERABERABERABERABERABEWiPBMZrK41mVjCSRX/22WfWJDx8SBxNEmjCuDA8fCabbLLwyiuv2Gf/R76gAw44IDBLGdajR4/wyy+/hBEjRngRe2U7ryNdwX622GKL0K9fPxOivA1pGb0XAREQAREQAREQAREQAREQAREQAREQgXGFQJsRhJg+ninir7/+evMAYsYvEkCTSDrNI8T08vfff3948MEHA9POIwaxDWFlk0wyiZ0Xcgctu+yy4bLLLgvPP/+8CUoehkY4WCkjbxFJqu++++6xiuBdhFDkfySolomACIiACIiACIiACIiACIiACIiACIhAeyTQpkLGmDb+iiuuCIMHDzYhiBxCLEuneF9mmWVstrAnn3zSEkRPMMEEJv4gFKW2zTbbBKaxv/3228N3330XZplllsCyxRZbLC2W957ZzNZff/1w8cUXh48++ih07949t74wZ9B+++0XevXqlVuvNyIgAiIgAiIgAiIgAiIgAiIgAiIgAiLQXgh0irN2ZeUai0cMIVgtaX/++aeJPoSHlTNCxMjr49PSlyrLzGSFs4aVKqvlIiACIiACIiACIiACIiACIiACIiACIlAtgdGjRwdmIyf3sduzzz7rb4u+4uyClZsFveiGdVzYpjyE/Ljw+uGvknmIWKVy46oYdPnll1vI3KmnnloVr0qcOsL6MWPGhN9++81CA0eNGhXmm28+u3D92Mk99fLLLwcSj/fs2dMX572S7+rFF18Mc889d573WlqImezefPNNq3/66adPV+Xef/LJJxYeucgii1QUNXMb/e9NNW3gOMmbRdJ02jreeNVHiMIGVnjUTTrppIW7D+z/9ddft+ULLrhgIOQT+/vvv8Nbb71l74v9IzdYmhD+vffes9xf888/f17xWtruzOecc07zCMyr8H8f2B/ef4SYwqVaI3T1iSeeCHPNNVde+337H3/80XgsvvjieeIzYvTIkSO9WN4rzOadd15b9u677wZmL0Tc5guB/chEQAREQAREQAREQAREQAREoJEE2qQg1MgDbq91X3fddSYekADbB9Tnn3++DTb33nvvwCC4NYwBNsnA8SIrl5+pNdpWbJ8XXHCBiWhHHnlkWHnllQOiDANx7IYbbgh77bWXzWb31VdfBYSOm266KU/0ufrqq8OgQYNs0M9MeBtssIHNhIcajJEEfeDAgeHKK6+0kEPEh759+wZEOxdkyI+15ZZbhpdeeilMPvnkVhft6tOnj9VR6V+lNrD9o48+Grbddtsw4YQTBsQKhK8bb7wxkF+rnH377beWYP2NN96wBOx4CJ577rlhq622ym1Gri9CNBF/MI791ltvtdkBETNWW221XFmEHYQPF4y23nrrcOaZZ5oIxDm46KKLLPeXzwDIhk1tOx6FBx98sDGnH5KEnjZwDnxmQMJG2TcCGbMVfvjhh3YeSUZfjZGPbP/99w877LBDOOecc/I2IXz02muvDYhdP/30UzjooIPCPvvsY2XYT8qDhfCiHOfi7bfftnK77LJLWGeddUzYheVTTz1ly/VPBERABERABERABERABERABBpFoHqXgUa1QPVWRQDxhwE0A0w3EmXjhtZaYhDtGD58uLWL3E/twQhDxLPMvV7cywwXv/79+5u4hRjy/vvvh65du4Yjjjgid1gvvPCCiQIXXnihCXF4yOBNdMwxx+TKILoMHTo0UAcJzynzwAMPWD4rL8TgHw84vELeeeedsMcee4Qdd9zRxCkvU+q1mjYgiCDgIOQg2HEsiCAIh5Xs8MMPN8+ZDz74wI7hjjvuMC4IZ24ITeT2om7+dt5557D99tvbakQRxB3/Q6A54YQTcp8RgzAEJWYBPP744+2z/6ul7Qg/iEiwfvXVV+3cwJZrxu3f//63iXW0lzIILiyDZyUjeT3n2EW/tDyMSUI/bNgwE3fIW3bccceFhx56yIqRZ8xZ+Cv7hhPCkRv9kj7p/dOX61UEREAEREAEREAEREAEREAEGkVAglCjyNaxXjwM8MrA1lprrZz3AYP+jTfeOBeSgscLA1A8T5ZffnkLOyFBNh4i/fr1M48EZl9DxHDDo4WB8QorrGBhNiTVRshwY/3JJ58cllpqKQuj6t27dyBUDbvzzjvN64L3hNOwbwQOjAH6qquuat5MhL/su+++Ac8YDHGBsngUITgQzkS9DJQJr2E7QrY4NrxwsNtuu822OfDAA609hHMtvfTS4dJLL7X1/o923HLLLf5xrFcEIB984z3jnivkozrttNMsQTkbUW711Vc38cArwYNovfXWC2uvvbYtoo1HH310wGPHjVnqTj/99JwnDt5chF3hmYLhecQseXgMdenSxUQGhBoEG5ZXsmracN5554WNNtrI+OKVxH6GDBkSzjrrrErVG1OSunuYJf0IYQwRBSOkjr6022675eqCCUKLn9/cijJv8MzBs2z22WfPK1VN2znH9C83+tFjjz2W85xDbFlggQXyBDb63JJLLpkTAlk/7bTT5pW55pprcv3X6+aVtuJdtMUWW6SL7T1cDz300NxxEAeMFxF1FTO8mTy5PRzdXKT0/unL9SoCIiACIiACIiACIiACIiACjSIgQahRZOtYb+oBxICRGdMwxAVCesjngpFDhc94bzBwxyOB8CZCXdwTAs8V9+ZgGwQWZlAjtGe55ZYLzz33nIlOeGpghMfg8cB6BsSEBA0YMMCEHISC1MgDQ4gOghJiDrlk1l13XcvXgwcR4VgYoUa0k3KE+uB5QVm8U3baaScTFtjfI488Eg477DDbBsGGbRARzj77bBOM8E5yYYFCDLYJxWKgXSpvC8LXZpttZmJA6v2DKMW+U8MDC6HKzXMO+WdeOWbOA1ywVVZZJayxxhr2nn+EKj399NO5eqgDISo9p5QjpMvFND6XsmragKfMPPPMYwKXHy9ik/ebUnWzHDEjzefzzDPPhJ9//jksuuiithleLJx/RCY3OJELJ13m60q9IvoVs2raTp+m37hNM800ubA++sCDDz5ofQdRzI1QS4RCcj9xPAhP9EPOF4aYteeeewZC91JD9ESMxTuv0BBL8b5KeVGGc4mHUjFDdEScKgw7w+sKwYocRNttt12xTbVMBERABERABERABERABERABOpKoHNda1NlDSFAiBJCDgPT22+/PefFUmpnDGwRRfBcYOCLdwoeHoS+4BlBeBTiCgPaSy65xMQJvHMQcxgQM9hmO0J9XEjafffdA38MdEmWzOCVHCjXX3+9eU+stNJK1jbahFcK9eL9QTny6DBoRuBJDQGLtlEO7ybeI8qcccYZls8HYev5559PN7HBPMvYN55NiFmEDJHLhzAsBCHC6maddda87fyDCxt8xmuplMEcZhyHG14whV4ins8JYYDk0KmRiBjvH7yhNtxwQ1tFHXgWeT4hL8/xEEKFIfAhWqRGriGEs2rawHnGa4lwLUQ4+g5hXX/88UcuF5ALWL4Pzr17Bfky8gkRzsYx0L5ihjcaIgc5ruph1bSdfD6evyjdJ6IjAiH86L+IYW6IQ/QbF4AQ5Qj1chGL1/vuu8+81XwbGCGYIkDiVVZotJWk0d4HfD2f6Q+FhoCJZxhiUOE23j/YxhNNF26vzyIgAiIgAiIgAiIgAiIgAiJQTwIShOpJs43URSgVRqgShtcBYkL37t3NWwcxiKS2ntAWkYcwFgyxCGPwipHoFq8cRCLy4+Axg9hUSiBgGwa7eKjcc889lsfGw40IXUMkcZtqqqlyM3kx6xOCEG3FllhiCXulnalxbL5vBvkIQh5OR7lqwqLS+oq9x8ME7yHywRAC5oZoUNgejglzYcHL8kroFYIa4UzMHoVRzrexBf/7R73ucYVHEQJXaoRJIWZV0wYEEQQMwuw474hkCErk7yHMEDGFvpAaXmCeCJnlCB30idlmm808t9Ky/p6+Qn14oJXy+PGy1b5Wajv1ILAVM8Id8fQiJJL+6l4/lMXDBw8hwh0RIPFqgjH5nbzP4SGXGn2AEDDCNIuZn/PC88m59HW+HeIrQi1hiISfyURABERABERABERABERABESgtQlIEGrtM9CA/bv44FUXfvblqRcK+VQwXhGS8C7B/vWvf5kAQ/JcwskYbONFhAdNqYEtXkx9+/Y1jyNy0JDjBS+SQivWrmLL0u3wAnLDywMjvKxehscLbT/llFPGmvWLvEV4O6VGaB15iJyXr8OziPxGeJ3gEeRGHeRFIqTPE1uzjnpdBEOEcEHOt5tuuunsbTVtoC0LLbSQiUG+PR5YeFQRekfYYWH9LkZRHtGOHEFff/21Jcj2PEteF68cA2GBffr0yUuOnJap5X01bS9VL32XP/JkcYwkgkaEoX/gMUReH8//hAiEFw8CInmACo2+znK8g0gSjiEU0udIGI2wg+jD/ugDhIm5cS45T6lxvbA/ckDJREAEREAEREAEREAEREAERKAtEBivLTRCbaieAJ4G9TL3IMI7hwErU4DjKYIYQOgNhncPA1wGx4RiMTMSggGhYqml7SJ8iDKEcjGFdpqbp5Lgk9ZZ7D05YNxL5/HHH7cihMG54a2BB1QtRjgWuWYIJUMUKjRCefAoScOV8IIiaXYqmhCKRD4kBAjYpoZ3CuFZeKi4IbwgQOBVhRG6hZdV+ufiVzVtoB4PP/N9kJ8IYQqhBEvr5j0eRG7kbSK8Cg+jVCjy9YhKeB0h3jCTV3PPqdfLazVtT8vz/qSTTsqFK/o68gpxnvhD+MTzaPrpp/fV9orIRo6nYgYvvMOYBY2QOf4Qwehbaagh54M+kBqf07Avrptjjz3WQiEL25Bup/ciIAIiIAIiIAIiIAIiIAIi0JIE2pwgxICeRLaErFRj/PpPeZLRpqJEum01Zchng8DgyZTT7QvfI0oUelgUlqn3Z3LxYAg21157bV2qJ7ExYTIkd8bbh9wmhGHh9eFeE+Q8wcuC8CFytzz55JO2bxc6EJXIh4NnDaFDX3zxRS7MCjGIsKtUEEpDxmo5CMKASNqMaOVJofFUwRj8MxsaAtGYMWOaVD2JoamH4yFPEOKQ/3mbyaFE/ySpMfljmCENQYTBvhvCDseLoEYeI6/Dp21H7GF7ZicjDAyvEQQGQp0Ieapk1bQB8YK6ycXEcfEeVoX5j4rtC08wvJs471yD3n6f7Y1rjOODL8eAWOhlEIqaa9W0Ha8d2ueG2INQyfWLWEhfRMjBG4iQOcQhrh/CxhB68M5C2MNbh6TnGMfVv39/8wLiM4mdEdXSP0Qwkm6TAN0NBgig/CEWIU4RiumCKuXI44RHEl5bJAUnRJM/uMlEQAREQAREQAREQAREQAREoNUIxEFfVu4v/rodx8MtY3H2oiz+ap/FwXEWvRayGM5RdsfRoyWLg70sChv2GsM4sjhQz9umUpkoImRxMJlNOeWUWUwKnMUQkCyKH1kcNObV4x+i8JRNMcUUWcyt4ota5DUmcs7i9PNZDFPJYviP7TMKH9YW1mExcXPe55tuusk+R/HE1vMverPYsjgwtmVR4MjiDEfGm+OK+XmyKDplcbYmWx8H/lnME5PFfD+2XfQyyaKAkccnDoqNB9vHcJosDnazOAC38mwXp63P1U+l9CnKRsHE9sG/KATYsuhVY8toH2VoL8ZyPscQtiwmSDYO9JGYONvW8y8O6rMYbmX1Rq+b3PJq3kQhxOpnH4V/aV+I+X0y+ln0nMkWXHDBLE4xn1d9FA3G2p76osiWK0efGzhwYDbHHHNYv40hdZmfj1yhMm8qtYFNo+CRRS8Vawt9NebUydhvJYNp4fHzOYpYtmkUD4uup0wMqRqrevoo12Api95UWfSayVtdqe1RtMxiXp/cNvTVKHjZeacdcTa1LIowWRSocmXoD/Tj6PVj7adfRVEptz4KSbZ9FJJyywrf0O+ot9CiUJpFIdH6ZEyunsUZ3XJFohBYkhf3GpkIiIAIiIAIiIAIiIAIiED7J8AYNzqX5Gkr8QfrrNyf6zDRqSJvO1/eEq+d2Ek5NYpfvQvzo5QrX+s6PBNIekt+DsJqnn32WZuZCW8Y8nUUGl4P/GLPL/PMHIR3Ap4sePoQsoNVU4aEyXgl4PkSBQoLCyGJrCfLTfeLFwHJc/EaICEys221tOEhQ8iRhxDVa/8cm3v3FAsBYjpvvE1mnHHGoiFCeOfQNri4cS4IRfIwJV9eyyv9AO8YZmNiBi3CgPC2SUO1qJfjoK2FM2bVss9y2+ApFMWHckUqrqOt9NtiM1hV3DgWqKYNhKNNPfXURc9ZNftozTKl2g43rHCmNpbRR/EIKtaHWU8/JUyMMoWGp1FhfyosU+4z/b8wmXS58lonAiIgAiIgAiIgAiIgAiIwbhBgwh2iEzz3K0eFplHOyB2LMbtxsVQd5bat17o2EzJGiBLTpCMGYcAhPIM8LMUs/gpv00r7NNKIDuQ+QQQinAerpgxl2SdiEMbgOXp+5Oqwhf/7R54dBqNMx54mN07LNPo9A856i0G0mcF1KbGH9RwvOWhKDbTp/KkYxDZcDPUQg6ir0BBRig3eOY5Gi0G0pbliEHXQ1lrFoGrbUE4coY62bKXaDjf+ihlJnkv1Ucp7CFmxbYv1p2LlSi2TGFSKjJaLgAiIgAiIgAiIgAiIgAi0RQLFR1Ut3FJEFnKpxJCnvD0zcw+5NooZnieeXNjX+6xZH3zwgS2qpgx5Rtg3U6rjrfHoo4+GRx55xGbG8np5JVcKszSRv4RBpaxlCSDAxBArE61ads/amwiIgAiIgAiIgAiIgAiIgAiIgAiMewTahCCEl04MXbOZj1LEzH6EWFPM8AwigS+JfTHCNfAQwjuAUBOsmjJ4BpEYeNddd7VkyCRV3m+//Wzqaqvkf/9ifiPzWPJkyuk6vW88gQ022MBmPGM6eJkIiIAIiIAIiIAIiIAIiIAIiIAIiEDzCLQJQchDLciJkhoeQL4uXc77ZZddNgwePNhEGqaqZpYmZojCk8Sndq6mTEyEa3Ucc8wxNksRM20hOiASuTFT1siRI20qcV+mVxEQAREQAREQAREQAREQAREQAREQARForwQ6t4WGI/qQ+4Mp3wkTcyNMq2fPnv5xrFem646zToVhw4YFplCnjjgzWZ6nUaUycZYom8KcchiiEkmJCQ/bY489zPMoztBkU3bH2Z2sDCISU0YPHTrUpjmPM5TZcv0TAREQAREQAREQAREQAREQAREQAREQgfZAoE14CAEqTpEd7rnnnjxmfGZ5MYtTUweEGhIXr7feegEvIWYMi9NchzjttG1STRkyeqeZwNkQDyPyESEMxWnXLaHy7bffbrORMSPZnXfeafXzftSoUfZe/0RABERABERABERABERABERABERABESgvRBoEx5CwDr66KMD07337t3bcv9cddVV4e233w7MPobhLXT44YdbmBjJhfljanhmBdtuu+3CSy+9FI466iibAcw2iP+qKUNS6YsuuigsueSS5h30zjvvhBNPPNGmumdmLULRmGY+NdqEZ9Grr76aLtZ7ERABERABERABERABERABERABERABEWgXBNqMh9ASSywRTj755HDaaaeZCMOU8ZdccolNdQ7J0aNHBzx+PvzwQwPbq1evcN111wWEI7yD9tlnH/MY2nbbbXPgqykzaNCgsOmmmwa2m2GGGcI666xjXkYXX3xxrh69EQEREAEREAEREAEREAEREAEREAEREIFxiUCnOLtXVu6APvvss9CjR49yReq+jhnDiiWT/uuvv0LnzmM7NX3zzTdhqqmmshnGSjWmmjJfffVVmGaaacrWU6p+LRcBERABERABERABERABERABERABEeh4BHBgGX/88fPS0Tz77LNlQSyzzDK2njQ2Xbt2LVu2USvHVlcatacm1FtMDGLzYmIQywkbq2TVlCEptUwEREAEREAEREAEREAEREAEREAEREAExnUCbSZkbFwHreMTAREQAREQAREQAREQAREQAREQAREQgbZCQIJQWzkTaocIiIAIiIAIiIAIiIAIiIAIiIAIiIAItBABCUItBFq7EQEREAEREAEREAEREAEREAEREAEREIG2QkCCUFs5EzW04/LLLw/77rtv+PPPP0tu/cknn4TXX389fP311yXLNHXFmDFjwvvvvx9++eUXq/vvv//OVcG+/O+dd94J6bpcIb2pigCJ0N99992yZa+88srw0UcflS1Tr5X0M87tr7/+mlfld999Z8tjgvq85fS54cOH27JqjiVv4wZ9uOmmm8Iee+wRbrjhhgbtoenVwujHH39s+oZN2ILr9YsvvmjCFmMXrUcdY9dafkk1+2yL57T8UTV2LecZbrVaS/THUm3jHnLGGWeE3XbbLbz00kulijVkeTV9rV475p7N9yj222+/2f3zn3/+KVr9ww8/HJ555pmi62pZWGl/tdRZ721aow/yrHTEEUeEPffcM3z77bdVHVJ6HqvaoImFuJYfe+yxitczz2JPPfVUYGKUQhs5cmT4/PPPCxfbZ//uzrIs/Pzzz9YPeY+xDbP98p3/xhtvjPW9b4Wq+Of1fvnll3ml6e///e9/w3PPPVexbq/Dny0//vjjvLoa+aHR94WmXt88E3Ju6Bs8Y8tEQAREoB4EJAjVg2IL1HHdddeFM888M/DQ4nb++eeHK664Inz44Ye26IknnrAyzz//vBcJxx57bFhuueXCrbfemlvW3DcXXHBBGDBggA32qZuHEYxZ4Pi86qqrhjXWWCOQNb1bt25h5513tofe5u63Odufd955zRJOmG0P/v6w1Jy2VLst56xv374li//000/hsMMOCw8++GDJMvVc0alTp7D22muHu+66K6/as846y8770KFD85afcMIJ4YADDrBllY4lb8MGfbj55pvDPvvsE6aYYoow00wzNWgv/1ftHXfcESrNKuANWGeddcKTTz7pHxvyinCMeNgcq0cdTd1/pX3W+5wiQlBnezbOM/28VmuJ/liqbQceeGC49NJL7fqcbrrpShVryPJKfa2eOz388MMD902MASffm9zPi9npp58eLrroomKrqlpW2Kcr7a+qShtcqDX64HrrrWfC2yyzzBKmnHLKsY6w2DNAeh7H2qAZC3iGo0/MNddc9gyw8MILh4022ijv+Y/qEVk23XRTmwl46623Dj179gwrrrhieO2113J7P+WUU8Luu++e+5y++fe//20CGN/tL7zwgu3zjz/+sCIXX3xx2HLLLcNqq60WVl555QAX3l999dVpFWXfI2T27t3b6r322mtzZYcNG2Zt5TxvvvnmYfHFFy/7feltW3311e3ZcsEFFwy9evUKF154Ya7ORr1p9H2hqdf3LrvsEoYMGRIYE/Tr169Rh616RUAEOhgBCULt5IQj/hx55JE58Ydm33vvvfYlOuecc9pR8GsOZR5//HH73Kh/k002WZhkkknCpJNOarvgfWrXX3+9/frJLxiIVPxCdeihh6ZFan5fqyBzzDHHhFGjRtW8X4Q42Jb6Fbfmipux4eSTT279AcGtJYxZ/njYLOxf/ILJw1nhcj6vssoqLdG0qvbx9NNPhzXXXDOcdNJJYaWVVqpqm1oL8dD8yCOP1Lq5tquSQL3PKb+yI0jIWocA53O//fYLgwcPtkFu67Sibe317rvvbpaYqz5d+Xwi9vB8wA9HPKsgkBRaSz0D4DGz8cYbh7XWWss8hPnB7+2337YpjNddd93cj2s8X/GZtrINXjM8a62wwgph/fXXD6+++qodAkIR39EcY2p4b992221hq622ShfnvV9yySXNGwXhCZFp1113DYcccoh9h+YVLPKBZz8EJQSV+eefP1cCb1iOb6+99rLnF45v7733Dttuu21FT3bK4lnH37nnnhuOO+64cM899+Tqbutvij2/NvX65vmbZ29/Dm/rx6z2iYAItA8CEoTawXniVxlcazEeEvzXX77I+WLlIQBPEUQjjC/JpZde2t4X+8cvhtttt12YbbbZAr884cnhvwpRni/yW265pdimtgwByL+UJpxwwoBQUMzGG2+8MPfcc9u+0sHxW2+9FXbYYYcw66yz2i9D6S9HuMAiLvAAw69A88wzT7jmmmvsGBEX+NWYX4k+/fTTvF3ed999YYMNNrA6+cXpP//5j63nwYH6CHNiPR4ubjxI8ODEL1/UmXpWeRle77zzTvuFjPf8YsdgxY1fd5ZffnkbvHBMhe3inCyyyCLWbh7UCj1BeNBzFhzvOeec41XnXm+//Xb7hY3jQJRKjX07Wzjy8FeuPA92/MI0xxxzWB9hAMavc/xih+GazS+DP/zwQ7qb3HvOAf3DDdd6Hjx5uOOcucGdfom3WGql2kabeNBMjfMx77zzFnWDpxzHzS+XM8wwQ1hggQXCJZdckm6ee+99AG869g9H95jjOuE91xX9wA1vMM4X55uH4NQzrxJnrteHHnoonHzyybavpoZrep+YffbZ7RfZq666yptlr7iMc+3TXq4hBtBp2CiiJf1koYUWsgfxYgIHD+Vsx4M61yjlCSVxq6YOL+uv5c5HJWbU0ZR9ljun5drBfvjVmn4888wzmxeje9hxD4UDnl30EQT2csZ9+LTTTgt4CXA98Yt+oSdHpXNF/d7X8Kbk1/7CMNFK9xjYch1wP8dzM+0LpdpfaZ/pdpXuYfQvBo60Hy+LtP1cNwwKe/ToYfdzeBUbFHGPhTnb7r///vbeQ2HL7Z9j51qgDNfq2WefbU2vd//Gc4l2uXEfxxsjDeXq379/3v250nnzuiq9cp3yHY359yPPA3yfwfVf//pXyZDTcn2aMKBydVT7/Ui7ENjTMNxTTz3Vvrv9nsK1zfcMP2Jh1VwXVjD+o78QxsW14fWVe4bw7dJXvK84f3xPLLHEEhYa5tcJjOh72FJLLRX69Olj79N/5Z4BKHf88ceH+eabz+ou9DCs1BfT/fCea4TnOsLX3EuOexUCCJ6tHkrpvLkG/EdBvgtpC99BXOMYxzP99NOP9UzHDzaEcm+22WZWrtI/vm+22GKLwP7YR6WwOvaJUMUPVjwLunHt8Jl71fjjj2/v8WDiOdKfZbxsqdeJJ57YPIU4Nr5r3crd+2l3peejar6DKp1PniluvPFGax/MDjroILs+d9xxxzDjjDPaM3f6DJVe3xxH2ld5BkBQ47nMzX+M9edwX65XERABEWgWgRizn5X7i4p8/D6WtSaBmE8hi2Eu9he/ZLPo4WDNiQ83tuzNN9/M4sNCrgxlt99+eyvj28aBin2Og/QsPkRm8UEjiw/q2WKLLWbbDRw40NZHYSiLDxW2bMSIEbas8N/LL7+cRQEmi19cWXzoyK2OD1i2XYyJzi3jTRxkZVFwsWXxV60sPjhlMZQoiwP+LA7is6mnnjqLD4q2Pj7oWR3xISKLDz4Z7Y4DjSyGoGXxoSyLv3Zm0QU5i4KWledfFDXseOJDaBYfQLJBgwbZNtTF8cRftqxO2hoH27ZdFIyy+HCVRZfjLLojZ/FLO4sPXVn8lS1Xr7+JD01ZHPRYHbTJy8QH/iwOqLMoMli7Ntxwwyw+GGcxdM42jQ8g1g5eOUdHH3207SOG2Nn6GAdu20fBIYuD0CwKE3ZuaBMWhRn7HAcaWRx4ZOxvqqmmyqKrsK3nXxwEZvHB3T5TPgooWWH5+OBo62HBeYheMll8cMrir4NZFJSMf3xAsTKcB/oPbSlm7733nq2PAxNbzbHTh2DUtWvXLA7ibHn0ErO2xV8h7XOlY6E8/ZI2utFHYFrM2P+0006bRfEziwObLD6AWR+AU6F5H4gCT7bssstaf4gijRWDH/2RfkifwOAcH7Azzlt8aM7iQ7BtR3/HKnGO+S+yOFjM4gDG9sV1Uc7Sc5j2CdpDu+iX8MG4Vy+66KJZfLC164PrIQqJuXsCZeJAIotCahYHJlkU6bL4K3IWhaNcGc4JbYtiqB1fDAHMuJdEQY7NzSrV4eX8tdL5qMSMepqyz1LntFI74sO89ZvoMWj3giggWL+JApP13Riiafc/7hkxv4YfXtFX7kFRhMi4V9HvOFfcn/16q+ZcpX3tlVdeyWIIQBYFuszvEZXuMQ888IBdv1FItntfHDxkcRCRRWGmaJtZWGmfaX+sdA979NFHbf/cL7gOo7Br14rvPA5M7fqJAobdp+IAKaO/FRr3D79Pcy/mPfwq7Z9+xfcD32UxZNXOYSP6N+eUe4Ib32ncJ2NIti3ink87/NgqnTf6zsEHH2zb+nfe999/79XnvRYrSz/hHk67uNajYJK3jX/gflzYp31/MEvriINy38zuhdV+P7IR+2c/blGgND7cfzD6Nt8PMcdNVfewtA/ybBJ/VMm4N2KVniGsUPKP/hBFjyyKwFkUf7MYzptFATPHDEY8z3A+o7eGfVcnm9vbUs8AnBvunTH0yu4BMOQ7Oobl2XbV9MXCffHdwXdzJYN3FBOKFoseqva94Cu5t0bB2j/aK88dm2yySW4Z5woGUXSzZdwjYVZoHFMUNjKu/WqN792YG8yKs59pppkmiz/S5TbnO7J79+6576jciv+9KWybr+c7jOc9rNK9vx7fQdWcT/ouz4Hw4Xkq/lhgz1zcE3h23mGHHezZyI8hvb4L+2oUz+wZbZtttvHi1n9jLqWM67jUc1qusN6IgAi0OAF0E8aJqbbCWKLcn5fl+83ft/RrqLRDCUIt3peK7pAvc76sfdBKoVQQ4jMPmJRxwYhlhYJQ9OSwMjwwYPGXBxuAxJj5LP7iY8viL982EPcHA1tYxT8XhPiC5gucwQoPSgg+MQG21cCXIgPU1HhYibHktsgfVvnCc2MgjzjgFj09TPjwzzzUxF///KO9MmDmWN0YqNEmN7Y58cQT/aO98hAbf4nNW+YfXnzxRePmYo8/FCFGucEPkYJBOgaPDz74wFfbgxYPxQhQGA9IMc9STkBiGTcMFzV4gEG44xp14wGI8+OWPjgXKx9/Ac4YJGL0HThww3GLv67ZcbkgxECbZek+vay/IkAw+MVoiz+Ucp68X9Hv0gFCsbalx0I/5CGTPoPBmQcphJ5SxgNgaohd9K9SRn9IBz2Ug58/qPKZ88pAKH0g92vE21LsWFLO1EP/8sEinxGTEBj8jzrd0nNYrE9E74csevJ5cRv0pg/TPLj7gz19jj7oAisbcb7pR97f6X8MXhFH3BhMc51y/qupw7dLX8udj0rMat1nsXNarh2IFtwjXdSl/YhBbvBHfHaDs58zXtNBOw/yDFRh5sa9F5HVjcFmqXNVrK9RF9cW+6nmHsM1lAp58RfuLIZ1jnWP9fZU2ifl0v5Y6R6GeA0D9ovxncHg2Q2R168bljGo97JeJn2ln6eCd6X906/oy+k5aET/Rsjg3k3/wWAMdwQvjB83GORynVdz3tJBoH/npX3LKv3fv2Jl/TuCItET0UT5dJv0fWGf9v2lzxL0W4Rmt6Z+PyKE0W84txwHPyrxncyPIFj0esmit6hXX/YeRiHvgwj+/MjhPzSwrtIzBGVS47ube2J6zSNQch+IHmxWlFc+p/tJ6+B94TMAyzg36fMM1zrfH4jxWKW+aIWSf9yLaEepH+OSona++KGqmCE8UI/3KX6Q4jOvGIIzPzR4O1nG8xFl/LmvlCBEWQQP/zGw3D2SslgqCPHdxzUbQ/Pse57rJXppZV26dLEf5v5vi/z/hW2LHswZz4GIb/7swhbl7v31+A6q5nzSd2OezdwBcJzR8yz3OXrHGWd/Nkyv72J9NYYyZnHihNz2eiMCItC2CbRXQah4rE+zfI60cVsmwIwGGLHyhM9gHuYUH0IsjMiTXdrKGv6xffyyzoUdETqDuywWf/m1sCncaN3IcRAfxPyjveIK7xa/9EN8oPOP5jYdH7xznwlZ8vp9ISEhhaE2vo5X3IwJO0nDeeKDsoXgpOVKvY8PHubGS2gd7uRuUUixUClCuXCB5jOsYcsMGfGBOcSBpRWn3YQl4TbtFh+0/K294gpOWJ4bIX6EYpWywvKEDXkIB+wJwXM3dOog8XeaL2GCCSYwd/NS9bMctrg84woeH9QscTnLaTufyQXAekJpUitsW3osxMQTvgBP8vywfXwwtZC+tI70PYk/OcecN85HfJiy40nLVPOeUBM36qFvcYxutI3EmPFXbnOZZ3nhsaScfbv0NQ6w8pJmcoyFoQWUL9YnaAvhdPHhPsRBqV0LhDnRHvJewIr2YPQz+hz9yo3z7etZxj4ICYwP/F7E3P/j4DvEh1QLH61UR27D5E2l81GOWTXtTnZV9m25dhAih0s/1yfhD4SQEnZQygh94f7lRqgs9w03wk+4ZtzIsUV5WLKc+1apc1Wsr7EN1xUGkzh4smui1D2G0CFCldy4lumrceDni/JeK+0zr3D8UOkexjUbxQQLtSGkh8S33GPcdtppJwv3IeE8YbmEwqT3Gy9X6rXS/tkuDsDyzkEj+ncUeywcKAr2FhpHWGf0zrGwTM4R9z1CBukf1Zy3UsdbYHQCsQAAHIBJREFU7XJCad24j9bynU2IkxthzWkdTf1+5B5FKA3fcXyXUx9hS1w/GNy457mVuy68DO0h5IgE/YTeuFX7DOHluU8SEhZFCF9k4YvcF+krhGM1x9L8OIQyEYLr+Xoq9cX0u4c2cO+izzNbmIexlWobDNPnl7Qcyz3PDMs515wT+iz3fQ+HJQdRLUb7CE/DKt0jC+unXbSD0H7SAfD8Q/u4D6fPJoXb8Zn1E000kX1HcU2SMJt7rlu5ez9lmvsdVO35jN5O3qRQ7PmVlVwvhVasrxKOzJ9MBERABBpJQIJQI+m2wbrjrznWKr5YXWQhrhrjYaYehtBE7hgGndGLKe+Ljy9BHngY2LqRdyIVRXx5Na9RJ7b8QDxkpMbnVDRK17ENRhvSdpDYsNovXq/bH+C8/uilZQ+EfEYUY5YtBk08tMfwJxNLvCx1ECNeztLYe8pVGkyVKx9/iau4fbm2+Doe/olr58F/9OjRuQcyHujIBYCoQO4Q8pqkVq5tlKMfRtdoE4IQSxhcFiYs9/p4MONhFiEG8QMRKnoJ+OqaXxnc0U4eOlOjHaxzq3QsXs5fefBN21dYv5cr1ifoy/RZZvPj/HNtcS4RMxhkM9Dx/FeIaJThGkst3Z/33bTv856+y764bivVkdbN+2rORzlm1bS7cJ/FPlfTDgQaBpmILORf4R5FYs+UkddNnqBCsdnX8ZqKtf45erfZjIvca8udq1J9zev381TqHkOfQLgrbHdhm7w+XivtMy3L+0r3sOgNYVNSUw7RBzEsegfmct6Qk4l+SpL1wYMHm3jMtZ0KGoX7TD9X2n9a1t87t3r2b+p2oRoBipxJHDt9B9GCHzU8P53vv9R583Y25zW9lip9J5TaT6k6avl+RAhDEEOc9ns/omv0EjWxmRx15DbEuL+Uuy68vfyQQT9hplTq8n7d1GcI+nyx7xHudek93ffb1Ndy/L0vlOqLhfviGYxjRliLXjWFq+3HNJ5REMiiR1cut2RhQUQzchKmz1V8vzJDLIIQ9z6eS4pxKayr8DM/TPC9j8CEVbpHFm7PZ85nDD+3XI+cB36YQqhPRbti2yFkcb9DZCGHV2rV3PvTPs+26bmr5juoqeczbV8170v11Wq2VRkREAERaA6B/FFDc2rSti1CAA+TSsZgsZQxmMcLg0S5CDEYnhU83PqXMQ9cfDGRAK85Fl2ALXFgdPG2X735Euchhl/BU+8RBk61PJjQNr7QEQVItMixufGZfRUztuEBhOMnWaVbU9rBr4IMuvnFm/27pXXEMDmbsYSEpBgPE/7QwWfa5wN5PmP8gs+Db8z58n8L6vif/fFwHUOILMkkVZNA1wcA1e4KTyC8nJhNjmPnvGI8wMZwkRDdm81LwPtTtfXySx99Jua1sF8wY/6QkpvGMBT7xT71nCAhd/qAV3LjMis4rzxE/7/27jRmrukP4PgpilJF7BSxxBr7HlK1hiD2LUTtEiEVQiTElvDGmhCJIBEviFhC7LxQW2xpKEXstda+1v7Q//0eOfO/nZ6Ze2f6PG1n5nuS55nnuXPXz7nLub97zrkULqlpQcKHJ3ccM92mqiefab65fYLjk6exHKN0nk6NPm6W0jHDTXfabp60UujlhiCtP/sctcroOJtEQZ6bVWodpRsGghicW9j3iqZjlfNI65s+5zU/6qx3Wla7zzrrwQ0pNbb44Uk3+zA1ItL5sDx/9kd+WiVu3MqJ/YQbNvKGWiPt8iq3rzEvOl3l5qjOOYZxiuYh8QY7rQe1hlqlqmU2B5eqzmHsM1xvOI/ygyM1r4p+XwJP8Ll5JHjCD7WmCOLedttttd5SxDZULT+3nSOxf7McAkJ0Wk0tAwIaJGrBEAziPJ468a2Tb3HihfRXt9dHfLBgn6dj5KL5UbzGFU114jUiXSd5kUG74yKxUG7gmkLwgI6fU20jzpGdlCHYH6hJUr4283KFclAjLXO4P6v2xdzyCKxhRmfp5UAStf44R+FHQIjxeBkD1yqWkxK1gzjGqLFXTnQeTbmLcxTHKdfvbhJvYaNWVarBVHWObF5G0b9S4HX3dJTO8UMq+t2LbxxLx1XzNOl/amQ2n6PSd3XO/Wnc3Geda1A3+ZlbVqthuX2VzrsxK/pqbDWZwxVQQIF5FlhknufgDOaLAAVqEk/ZWt0o84YMEhd6bvxziRoYBDJ4qlP0KRJvCqllwA8FJgr3zIcnn+WmEbl51RlGjRGeelG4IxFAodBIgYUbVQov3JhR46TbVLTBjoVxbqR4Ys7T/ttvvz0+/U/zpGo2N06plgbT8DSbgAg3NTQ74olaq7er8VSYQiiBJm5s2CaqPONYtBeNQQNqRhHIoaBJotBE8wFutgkGFX0lRd8UgMGCGwkKf9hT44aaLkW/HGm1h/WTfYiaShQ0WVeM2J/KT81Yh6JD8vj0rtXCKaRSOOHpfbmJGzfBLKPo12CO4Fyr+TQPZz14IxGFRQqZuSekaRqCTdxUUFgiP6iBQME42abxOv2ksEm+EsQjiEJwlPXhBiIFVOrMk/2NYAG1ejpZp+Z9gpt79hv2VxLbzb7C01VS0adBrHaflkEecNNNk0zGIXDHtrAPpsTxTYCJt+7gxzFR9PsVbzA4FurMI80rfc5rfnSzzLTs8mfVehR9VMVgJfsK28oneZQCduQbhW/OS2Wz8jLKf3MjQyCAPOFGi32FgAipKq+a9zXOvTQvZf8jkFLnHMO4LL/oDyaeTzkmqbHSKlUts3m6qnMY+yaBAILMGHCOJS/Hjh0bDQmecK5n2zi38JOsm5eV+79q+blpRmL/ZjkENKgJQ3OXdOPKJ81WyetUY6FOvuXWe6SGdbpPsx6dXh+Zhv2AYAU1hNLNKz5cz/guparjIo3H9bbo8y5eZwgMFh3oxq86LUOwPxBM521OnMdZP4KXBMzZP+um5jJAnemq9sXcPKhJx37GeaToCy6ub9FHU7w2Uss4Bdao4UMNR67nXP843zMegR8e5hHwLyeOOwIwF198cXwgUG5WXB6v/HfR71J8+MB5jnLlpOJNqrx9jtfVl8sN5Wmq/qaMxPmKt4zxYIPzFc1eqRFMfnebqs79VfOtcw3qJj+rllv+vnlfpdxILXOsTAoooMBIChgQGkndYZw3T4J4akwA49Zbb83OueiYOd4M0n6dJ3Tc6DQnCmjcsNNcjCc0VCHmqQSFXC6IXOSp8UGBvtWTmOZ5tvufeXJDStCDG3ienlKAZrk85aIQTZVhngB2mwhycdEs3rzSKAix/enpE/NlHShUUjjm5pnACxdZmoNQCKF2SuoDI7cePO2mQEnwikIRiRopzI8ndRS2mF/RgWd8FTDfU3ODgA+FUQqTFNKwLdfmICiDDRYU9AjYUGAbiUTtD56iEbQhQEftGrah3LyIYBY3zQS52iX2IwrWEydOnGM0/mf/4/tuEtXaCaTwmZxy8+GGBVdqY1AQpCDMMttNk5tPbhi1AOgHgmAXhVeqqVPriZvTuol9sehAN+Z50RFt3cliXwppn2B5BHcIRHHjTWIfoUkOT83ZnyhIExQobzc3YOyP5DPHF8cx+ZLG4XijQE+wkqe8zIdaWRyTqZBfNY/mDRqO/Oh0mc3rwP9V61F0GB3HoTkjxz3BT4JhFMRJfM/5EJeic+c4rN0vzj0EuMkrzr/8pP7R6uRVeV9jfXh9etGpcuPGqOocw77A+YhAKscD53GC6ymvc+tetczyNFXnMJbFvsZ5kHMYASkCQOxznDM5H+JLAJL9kZqZPCSom6qWn5vPSOzfaTkENgig8vCAxDZx01YOeDC8Kt8YZ36lTvdp1qvT6yPTcK7hYQHXw3Qe4UETwdWyT53jgvmlxPw4/9GkmyB9p2UIyiCc7wiY0ByL45tgL8dKu+MkLT995soA6btWn3X2xeZpmYbrDdceyhysM8cMgTDKCuVErSkCQuxvbBfnHsZn2whMNieuq1OK/py4ZqQ8ah6n/D8PBQnu8XCG6wPHMQEhatN0m1gu12uCw9tss01sSk+/Y5yX5iVVnfvrzLvqGtRNftZZbhqneV/lnEpZjCbnJgUUUGAkBUYVNSr+61ClxVK4uSt38NtiNAfPJwGaO3ChT+3pc4vlSS1Pv3nK1C5Re4D5cJErJ6al1sVwBITK823+m+YaXACr1rN5unb/cxNOoaVVosYHVdnLiUAVNzU8kaxK3AzwtJv1Ton/WS43ZLkCJoETmui0206esJMPBOJGMrFvlNedQjJV8OnjIXUGS2G5HCQayfVpnveMov8hgmI0eSKIVpW42WB/Jf+GO3EMsL/QhKrblNvf6s6Lp9ksOzXrKk9HPrLtBMNy+xzjsmy+a7dPETTmJ/UnVl5G3XmUpxmO/Kiz3uVl5v6uWg+OY445Ajm5GyNMOP/l7NPyCCYxPTUtWV6rIHqdvGJfY304h+TWp+ocw/Sczzs5DqqWmbaTz6pzGHmGWe7cy/HJjSX7WLfXlKrll9e1/Pdw79/ledf5uyrf6sxjuMaps0/nltXJ9TE3fathdY6LVtOm4Z2WISg/cZ0vXwPTvOp+5soAdaat2hdbzYPrAMdOq/N8mo7jn3JGLyXOG5wT2pVnO92eqnN/nfnVuQZ1m591ls847KvUeO/knF533o6ngAIjJ8CDdcqO5WOXyhztEg/LSOnlMe3GHanvDAiNlKzzVWAhE6AAQxt8ahTwpJAbUJ4wUoOlk1osI7FZ1NqiGjnNXyiwd9u/wUism/NUICdQDgjlvneYAgoooIACCiigwOAI9GpAyCZjg7OPuqUDLkANJKqc0zyI5odUG+fpPU3EFnTi9ek0fyEYlDpnXdDr5PIVaCdAU7tWNavaTed3CiiggAIKKKCAAgosLALWEFpYcsL1UEABBRRQQAEFFFBAAQUUUECBnhOwhlDPZZkrrIACCiiggAIKKKCAAgoooIACCgymgE3GBjPf3WoFFFBAAQUUUEABBRRQQAEFFBhgAQNCA5z5broCCiiggAIKKKCAAgoooIACCgymgAGhwcx3t1oBBRRQQAEFFFBAAQUUUEABBQZYwIDQAGe+m66AAgoooIACCiiggAIKKKCAAoMpYEBoMPPdrVZAAQUUUEABBRRQQAEFFFBAgQEWMCA0wJnvpiuggAIKKKCAAgoooIACCiigwGAKGBAazHx3qxVQQAEFFFBAAQUUUEABBRRQYIAFDAgNcOa76QoooIACCiiggAIKKKCAAgooMJgCBoQGM9/dagUUUEABBRRQQAEFFFBAAQUUGGABA0IDnPnDvenffPNNmDJlSvj6669bzvrzzz8Pr776apg9e3Z2nKGhofg94/B3q/TGG2+EGTNmtPra4QoooIACCiiggAIKKKCAAgoo0EbAgFAbHL+qJ/Dvv/+Gs88+O2y44YZh8uTJYaONNor/Mzyln3/+Oey7775hq622CoceemjYZJNNYvAofc/n66+/HjbeeOP4PePwN8PK6bXXXgubb7552H///cOOO+4YJkyYEL788svyKP6tgAIKKKCAAgoooIACCiiggAIVAgaEKoD8ulrgrrvuCk888USYPn16mDZtWqD2zmOPPRbuvvvuxsSnnHJKGD16dHj//ffDe++9F04//fRwwgknBGoMpXTssceGU089NXz44Yfx5+STTw7HHXdc+jr8+OOPgXEIFjEfxltnnXXiOP/8809jPP9QQAEFFFBAAQUUUEABBRRQQIH2AgaE2vssFN+ef/75YYMNNghXXXVVY32+/fbbWCNn0003DdS+IRGAOeCAA8L48ePDzjvvHO67777G+PzxwQcfhKOOOiqsu+66Yc011wyHHXZYePvttxvj7LbbbnE5BHd22GGHcMwxx8TvCL7ccsst4bfffmuMW/5jlVVWCddcc01YffXV4+A11lgjbL311rHpFwNY10cffTSu/7hx48Kiiy4azjzzzLDqqqvG4YzDvE888cRw2mmn8W9M1AIi6JO276mnngoEfi644IIYXFpqqaXicl966aUYZErT+amAAgoooIACCiiggAIKKKCAAu0FDAi191kovt1rr71is6h77rmnsT4PPfRQmDlzZthss80CQRaCP9Soeeutt8LEiRPDF198EY4//vjwwAMPxGkIuNBki8DM9ttvH38I/Bx00EHh77//juPQBxDNr84666w4/dJLLx2Hn3POObEJ2J133tlYfvmP3XffPey9996NQdTkee6552KTLgYSiFp88cXD+uuv3xiHP2g2Rm0hEsEdlsu2pPTwww/HZmNpGPMhMLbYYoulUcIKK6wQCEgRtDIpoIACCiiggAIKKKCAAgoooEA9gf/fWdcb37EWgAABHoIeBHs++uij2EwqBXqOPvrouEaXXXZZGDVqVHjyySdjDSCabVFLiFpFBx54YKA/H2rxUMOG/0kEkz7++OPw5ptvhi233DIO4xeBoyuvvDIsssh/8cJDDjkk1tJhflWJzqKp/UPgJi2HWj6rrbZaY35pHtQoeuedd9K/c3xOnTo1XH311eGOO+5oDGc+qRZSY2DxBzWScDEpoIACCiiggAIKKKCAAgoooEA9AQNC9ZwW6Fg0sTr88MPDDTfcEKg1Qz86zzzzTFhuueXCPvvsE/vWIVhCOvfcc+dYVwIuBIPGjh0btt1229isjGZZ7777bgwGMXJqkpUmZP4pGMSwSZMmxZ/0fbvPSy65JLzyyiuB5l0EqEjU8Pnll1/mmmzWrFlh2WWXnWv4J598Epu20VH1Hnvs0fie+ZT7HEpfMO9UiygN81MBBRRQQAEFFFBAAQUUUEABBVoLGBBqbbNQfUPfPwSEHn/88bDSSivFZl70AbTEEkvEPnrSyq644orpz5BqD/3555+xedmuu+4agz+pydh3332XfXU78+wm3XzzzbGvoUceeSTWCErzWG+99cL3338f+wmiaVhKn376aQxSpf/5ZLyDDz44Nns777zzyl/FJmf0F9ScPvvss8AyTAoooIACCiiggAIKKKCAAgooUE/AgFA9pwU+Fq9a5zXsL7/8ckhBnxTwockUTcrovPmKK66I/epQK+j555+PzcLGjBkT6HPop59+CmeccUYchw2iPyFSqskT/8n8GhoaCtTaoTPqVunBBx+MnT3zxrEttthijtF4E9iSSy4ZazdR04lEMOrFF1+MtZ3SyL///ns48sgjw1prrRVuvPHGudaL19nTFI5mbmuvvXacjJpIBLxoomZSQAEFFFBAAQUUUEABBRRQQIF6Av91ElNvXMdawALUEiJocu+998baMtttt11jjehAOvUPdN1118VAy3777Rf782EkAkYkOnumA2pe+05ghUS/P+0Sr4Knj6H7778/OxqBnZNOOinQ+TSBGpqv8ZOad1Hj6MILLwyXXnppePrpp2N/P5MnT45vSeOtaCQCWMyDjrIZj9pDaT5sM2mXXXYJvAmNaWkKR20h3sBGkGvllVeO4/hLAQUUUEABBRRQQAEFFFBAAQWqBQwIVRstNGMcccQRjXVJtYPSAF7FTkCGWkIXXXRRbFpGZ9DXXnttHIXACwGiadOmxbeP/fDDD2HPPfeM31XVEOJNXqNHj27ZTw8BqD/++CNcfvnlMXBE8Igf+iJKiaANnVXzankCWQR5brrppvgKesaZPn16rMVETSQCP2kefD777LNpNuH666+PbySbMGFC7FeJ19uz7SYFFFBAAQUUUEABBRRQQAEFFKgvMKpobtO2egivIacJj2nBC/z666+xBg6viefNYOPHj8+u1FdffRWbjZVfz55GpCNnpl9++eXToFqfBHBoejaviZpAzCu90r7b+TEPglS5bex2nk6ngAIKKKCAAgoooIACCiigQKcCVGzgZVD095vSCy+8kP7Mfu60005xOF275F62lJ1omAfah9Awg47U7KhZQ+2ev/76K3YW3SoYxPJT87DcuvC2sW7ScASDWC5vL5vXYBDzGa71YV4mBRRQQAEFFFBAAQUUUEABBQZNwCZjPZDjvFadYBCJV8bTRMukgAIKKKCAAgoooIACCiiggAIKdCtgDaFu5ebjdMsss0yYOnXqfFyii1JAAQUUUEABBRRQQAEFFFBAgX4WsIZQP+eu26aAAgoooIACCiiggAIKKKCAAgpkBAwIZVAcpIACCiiggAIKKKCAAgoooIACCvSzgAGhfs5dt00BBRRQQAEFFFBAAQUUUEABBRTICBgQyqA4SAEFFFBAAQUUUEABBRRQQAEFFOhnAQNC/Zy7bpsCCiiggAIKKKCAAgoooIACCiiQETAglEFxkAIKKKCAAgoooIACCiiggAIKKNDPAgaE+jl33TYFFFBAAQUUUEABBRRQQAEFFFAgI2BAKIPiIAUUUEABBRRQQAEFFFBAAQUUUKCfBQwI9XPuum0KKKCAAgoooIACCiiggAIKKKBARsCAUAbFQQoooIACCiiggAIKKKCAAgoooEA/CxgQ6ufcddsUUEABBRRQQAEFFFBAAQUUUECBjIABoQyKgxRQQAEFFFBAAQUUUEABBRRQQIF+FjAg1M+567YpoIACCiiggAIKKKCAAgoooIACGQEDQhkUBymggAIKKKCAAgoooIACCiiggAL9LGBAqJ9z121TQAEFFFBAAQUUUEABBRRQQAEFMgIGhDIoDlJAAQUUUEABBRRQQAEFFFBAAQX6WcCAUD/nrtumgAIKKKCAAgoooIACCiiggAIKZAQMCGVQHKSAAgoooIACCiiggAIKKKCAAgr0s4ABoX7OXbdNAQUUUEABBRRQQAEFFFBAAQUUyAgYEMqgOEgBBRRQQAEFFFBAAQUUUEABBRToZwEDQv2cu26bAgoooIACCiiggAIKKKCAAgookBEwIJRBcZACCiiggAIKKKCAAgoooIACCijQzwIGhPo5d902BRRQQAEFFFBAAQUUUEABBRRQICNgQCiD4iAFFFBAAQUUUEABBRRQQAEFFFCgnwUMCPVz7rptCiiggAIKKKCAAgoooIACCiigQEbAgFAGxUEKKKCAAgoooIACCiiggAIKKKBAPwsYEOrn3HXbFFBAAQUUUEABBRRQQAEFFFBAgYyAAaEMioMUUEABBRRQQAEFFFBAAQUUUECBfhaoDAiNGjUqDA0N9bOB26aAAgoooIACCiiggAIKKKCAAgp0LEC8hLhJL6bFqlZ63LhxYebMmWH27NlVo/q9AgoooIACCiiggAIKKKCAAgooMDACBIOIm8yaNavntrkyIDRmzJjAj0kBBRRQQAEFFFBAAQUUUEABBRRQYG6BXgwIVTYZm3szHaKAAgoooIACCiiggAIKKKCAAgoo0MsCBoR6OfdcdwUUUEABBRRQQAEFFFBAAQUUUKALAQNCXaA5iQIKKKCAAgoooIACCiiggAIKKNDLAgaEejn3XHcFFFBAAQUUUEABBRRQQAEFFFCgCwEDQl2gOYkCCiiggAIKKKCAAgoooIACCijQywIGhHo591x3BRRQQAEFFFBAAQUUUEABBRRQoAsBA0JdoDmJAgoooIACCiiggAIKKKCAAgoo0MsCBoR6OfdcdwUUUEABBRRQQAEFFFBAAQUUUKALAQNCXaA5iQIKKKCAAgoooIACCiiggAIKKNDLAgaEejn3XHcFFFBAAQUUUEABBRRQQAEFFFCgCwEDQl2gOYkCCiiggAIKKKCAAgoooIACCijQywIGhHo591x3BRRQQAEFFFBAAQUUUEABBRRQoAsBA0JdoDmJAgoooIACCiiggAIKKKCAAgoo0MsC/wMtLeaHuNkojAAAAABJRU5ErkJggg==)"
   ]
  },
  {
   "cell_type": "markdown",
   "id": "54",
   "metadata": {
    "id": "zW5tAlmqF1WG"
   },
   "source": [
    "## 7.1 Upserting Data: Manual Batched Upserts\n",
    "\n",
    "However, not all workflows start with a DataFrame. In some projects, your vectors may come from a live data stream, a generator function or another format entirely. In those cases, you can manually batch your records and upsert them using `upsert()`.\n",
    "\n",
    "This approach is useful when:\n",
    "1. **Your data isn’t a DataFrame**: e.g., using generators, streaming data or custom collections.\n",
    "2. **You want fine-grained control**: such as dynamic batch sizes or pre-processing each batch separately.\n",
    "3. **You need to ensure payload size limits (2 MB per request) aren’t exceeded**: Manually adjusting batch sizes helps manage large metadata or vector sizes.\n",
    "4. **You want to implement parallel uploads**: sending multiple batches concurrently can drastically improve throughput.\n",
    "\n",
    "You can read more in [the documentation](https://docs.pinecone.io/guides/index-data/upsert-data#upsert-in-batches).\n",
    "\n"
   ]
  },
  {
   "cell_type": "markdown",
   "id": "55",
   "metadata": {
    "id": "1cd3dc80"
   },
   "source": [
    "# 8. Querying the Database\n",
    "\n",
    "Now that we’ve upserted our vectors, we can start querying it. First, we'll connect to the Index:"
   ]
  },
  {
   "cell_type": "code",
   "execution_count": null,
   "id": "56",
   "metadata": {
    "id": "bf0c5364-efd9-4a12-8d47-15708c8f1a2f"
   },
   "outputs": [],
   "source": [
    "# Connecting\n",
    "index = pinecone_client.Index(\"demo-articles\")"
   ]
  },
  {
   "cell_type": "markdown",
   "id": "57",
   "metadata": {
    "id": "caf47dfe-4c7d-42fd-b6cf-6a6fe65d09f7"
   },
   "source": [
    "This will be our query:"
   ]
  },
  {
   "cell_type": "code",
   "execution_count": null,
   "id": "58",
   "metadata": {
    "id": "e76f0721-706a-4743-bd17-968bab73d11d"
   },
   "outputs": [],
   "source": [
    "# Our question\n",
    "query_text = \"What are some good books for learning Python?\""
   ]
  },
  {
   "cell_type": "markdown",
   "id": "59",
   "metadata": {
    "id": "89cade94-c426-4713-acd5-64576a5f4b37"
   },
   "source": [
    "Now we'll create the query vector with the SAME embedding model we used for indexing:"
   ]
  },
  {
   "cell_type": "code",
   "execution_count": null,
   "id": "60",
   "metadata": {
    "id": "3c039cb0-c585-4e31-ad1a-a2c1903540f7"
   },
   "outputs": [],
   "source": [
    "query_vector = model.encode(query_text, convert_to_numpy=True)\n",
    "\n",
    "# Pinecone expects a plain Python list of floats\n",
    "query_vector = query_vector.tolist()"
   ]
  },
  {
   "cell_type": "markdown",
   "id": "61",
   "metadata": {
    "id": "736b68e4-3e45-476c-be7a-d1cf5a5e4d10"
   },
   "source": [
    "We'll use `query()` function which:\n",
    "- **searches for similar vectors**\n",
    "- **returns the results**: `top_k = 5` returns top 5 results, and `include_metadata = True` returns any extra information we stored with those vectors\n",
    "\n",
    "\n",
    "> NOTE: Pinecone imposes **4 MB response size limit**. If you request too many results or include large metadata values, the query might fail. If needed, switch `include_metadata=False` or lower `top_k` parameter."
   ]
  },
  {
   "cell_type": "code",
   "execution_count": null,
   "id": "62",
   "metadata": {
    "id": "3093b83b"
   },
   "outputs": [],
   "source": [
    "# Querying the database\n",
    "responses = index.query(\n",
    "    vector = query_vector,\n",
    "    top_k = 5,\n",
    "    include_metadata = True,\n",
    "    namespace = \"client_A\"\n",
    ")"
   ]
  },
  {
   "cell_type": "code",
   "execution_count": null,
   "id": "63",
   "metadata": {
    "colab": {
     "base_uri": "https://localhost:8080/"
    },
    "id": "9Fl1YPaeOIOj",
    "outputId": "55540fc7-c4d6-4b44-b024-371a86048537"
   },
   "outputs": [],
   "source": [
    "# Printing the results\n",
    "responses"
   ]
  },
  {
   "cell_type": "markdown",
   "id": "64",
   "metadata": {
    "id": "WsQTkt1nRj2s"
   },
   "source": [
    "Let's loop through responses and round scores to make the output readable and easy to interpret. For every match, we see:\n",
    "- **ID** → the unique identifier of the stored vector/document\n",
    "- **Score** → the similarity score between our query vector and the document’s vector (higher = more relevant)\n",
    "- **Metadata** → the descriptive fields we stored along with each document"
   ]
  },
  {
   "cell_type": "code",
   "execution_count": null,
   "id": "65",
   "metadata": {
    "id": "8a5b3f14-b8a8-4afe-96e5-4976b1e0c9e7",
    "outputId": "1a8732db-7d3a-494f-9923-87d88eaacfaf"
   },
   "outputs": [],
   "source": [
    "# Displaying the results in a clean format\n",
    "for respose in responses[\"matches\"]:\n",
    "    print(f\"ID: {respose['id']}\")\n",
    "    print(f\"Score: {respose['score']:.4f}\")\n",
    "    metadata = respose.get(\"metadata\", {})\n",
    "    print(\"Metadata:\")\n",
    "    for key, value in metadata.items():\n",
    "            print(f\" {key}: {value}\")\n",
    "    print(\"\\n\" + \"-\" * 40 + \"\\n\")"
   ]
  },
  {
   "cell_type": "markdown",
   "id": "66",
   "metadata": {},
   "source": [
    "### 📝 EXERCISE 2: Perform Your Own Semantic Search (10-12 minutes)\n",
    "\n",
    "**What you'll practice:** Querying the Pinecone index and analyzing similarity scores.\n",
    "\n",
    "**Your task:**\n",
    "1. Create your own query about a topic that might be in the articles (e.g., \"machine learning applications\", \"data privacy concerns\", \"cloud computing benefits\")\n",
    "2. Encode your query using the same `model` that was used to create the embeddings\n",
    "3. Query the Pinecone index for the top 5 most similar articles\n",
    "4. Display the results with their similarity scores and titles\n",
    "5. Analyze: Look at the top result's score vs. the 5th result's score. What does this tell you about relevance?\n",
    "\n",
    "**Hint:** Follow the same pattern as the query example above:\n",
    "- Use `model.encode()` to convert your text to a vector\n",
    "- Use `index.query()` with `top_k=5` and `include_metadata=True`\n",
    "\n",
    "**Expected outcome:** Higher scores (closer to 1.0) indicate better matches. You should see a gradual decrease in scores as results become less relevant."
   ]
  },
  {
   "cell_type": "code",
   "execution_count": null,
   "id": "67",
   "metadata": {},
   "outputs": [],
   "source": [
    "# YOUR CODE HERE\n",
    "# Example solution structure:\n",
    "# \n",
    "# my_query = \"Your search query here\"\n",
    "# query_vector = model.encode(my_query, convert_to_numpy=True)\n",
    "# \n",
    "# results = index.query(\n",
    "#     vector=query_vector.tolist(),\n",
    "#     top_k=5,\n",
    "#     include_metadata=True\n",
    "# )\n",
    "# \n",
    "# print(f\"Query: {my_query}\\n\")\n",
    "# for i, match in enumerate(results['matches'], 1):\n",
    "#     print(f\"Result {i}:\")\n",
    "#     print(f\"  Score: {match['score']:.4f}\")\n",
    "#     print(f\"  Title: {match['metadata'].get('title', 'N/A')}\")\n",
    "#     print(f\"  ID: {match['id']}\\n\")"
   ]
  },
  {
   "cell_type": "markdown",
   "id": "68",
   "metadata": {
    "id": "dsL-Uri4XyLV"
   },
   "source": [
    "As we can saw, if we specify `include_metadata = True` within `query()` function, Pinecone returns all metadata fields stored with the vectors. However, **we can limit what comes back using parameter**`fields`.\n",
    "\n",
    "This can **improve performance**, **reduce payload size** and **lower data transfer costs**, which is useful if the metadata contains large text blocks or multiple fields we don’t always need.\n",
    "\n",
    "Let's say we only want to retrieve metadata that contains information about the article's authors and the date it was published. We'll specify `[\"authors\", \"timestamp\"]`:"
   ]
  },
  {
   "cell_type": "code",
   "execution_count": null,
   "id": "69",
   "metadata": {
    "id": "bf74e334-e954-42b3-9fc5-940b463f732c"
   },
   "outputs": [],
   "source": [
    "# Querying the database\n",
    "responses = index.query(\n",
    "    vector = query_vector,\n",
    "    top_k = 5,\n",
    "    include_metadata = True,\n",
    "    namespace = \"client_A\",\n",
    "    fields = [\"authors\", \"timestamp\"] # Returns only these two metadata fields\n",
    ")"
   ]
  },
  {
   "cell_type": "code",
   "execution_count": null,
   "id": "70",
   "metadata": {
    "id": "ad5d3052-45bd-4916-9bb2-229f6cc9df94",
    "outputId": "43f91912-7875-459e-d183-693e385b0aea"
   },
   "outputs": [],
   "source": [
    "# Displaying the results in a clean format\n",
    "for response in responses[\"matches\"]:\n",
    "    print(f\"ID: {response['id']}\")\n",
    "    print(f\"Score: {response['score']:.4f}\")  # 4 decimal places\n",
    "\n",
    "    # Metadata\n",
    "    metadata = response.get(\"metadata\", {})\n",
    "    print(f\"Authors: {metadata.get('authors', 'N/A')}\")\n",
    "    print(f\"Timestamp: {metadata.get('timestamp', 'N/A')}\")\n",
    "\n",
    "    print(\"\\n\" + \"-\" * 40 + \"\\n\")"
   ]
  },
  {
   "cell_type": "markdown",
   "id": "71",
   "metadata": {
    "id": "da258cc9-04aa-4e53-b54c-ecef7f87d253"
   },
   "source": [
    "## 8.1 Refining Queries with Filters\n",
    "\n",
    "In this section, we'll examine parameter called `filter` that is used to **narrow down which vectors are even considered for the search**, based on their **metadata values**.\n",
    "\n",
    "This happens **BEFORE** Pinecone computes vector similarity, so it can speed up queries and make results more relevant.\n",
    "\n",
    "Pinecone supports various operators for filtering, including:\n",
    "\n",
    "- `$eq`, `$ne` for equality / inequality,\n",
    "- `$gt`, `$gte`, `$lt`, `$lte` for numeric comparisons,\n",
    "- `$in`, `$nin` for list membership,\n",
    "- logical combinators `$and`, `$or`\n",
    "\n",
    "You can find all supported operators in [the documentation](https://docs.pinecone.io/guides/search/filter-by-metadata#metadata-filter-expressions).\n",
    "\n",
    "\n",
    "> NOTE: We should avoid filtering on high-cardinality fields like \"title\" (which are mostly unique values) because this can slow down queries and increase resource use. Pinecone supports up to 40 KB of metadata per vector.\n",
    "\n",
    "\n",
    "Let's say we want to search for the most effective storytelling techniques for brand marketing, but only within articles that are **tagged with \"Marketing\"** in their metadata. Here, we'll use `$in` operator, which looks for \"Marketing\" inside the \"tags\" array:"
   ]
  },
  {
   "cell_type": "code",
   "execution_count": null,
   "id": "72",
   "metadata": {
    "id": "25fdcf7e-7d6e-438f-bd79-85cbf2e4c594"
   },
   "outputs": [],
   "source": [
    "# Our question\n",
    "query_text = \"What are the most effective storytelling techniques for brand marketing?\"\n",
    "\n",
    "# Creating the query vector with the SAME embedding model we used for indexing\n",
    "query_vector = model.encode(query_text, convert_to_numpy=True)\n",
    "query_vector = query_vector.tolist()  # Pinecone expects a plain Python list of floats"
   ]
  },
  {
   "cell_type": "code",
   "execution_count": null,
   "id": "73",
   "metadata": {
    "id": "869d29d8-1c2e-418e-976d-c4f3e07bd27c"
   },
   "outputs": [],
   "source": [
    "# Querying the database\n",
    "responses = index.query(\n",
    "    vector = query_vector,\n",
    "    top_k = 5,\n",
    "    include_metadata = True,\n",
    "    namespace = \"client_A\",\n",
    "    filter = {\n",
    "        \"tags\": {\"$in\": [\"Marketing\"]}\n",
    "    }\n",
    ")"
   ]
  },
  {
   "cell_type": "code",
   "execution_count": null,
   "id": "74",
   "metadata": {
    "id": "5567b6f7-cae6-434f-8e3a-c3439eb09f3b",
    "outputId": "b94c77e1-2679-40e4-f90b-e358ff593bc6"
   },
   "outputs": [],
   "source": [
    "# Displaying the results in a clean format\n",
    "for response in responses[\"matches\"]:\n",
    "    print(f\"ID: {response['id']}\")\n",
    "    print(f\"Score: {response['score']:.4f}\")  # 4 decimal places\n",
    "\n",
    "    # Metadata\n",
    "    metadata = response.get(\"metadata\", {})\n",
    "    print(f\"Tags: {metadata.get('tags', 'N/A')}\")\n",
    "    print(f\"Title: {metadata.get('title', 'N/A')}\")\n",
    "    print(f\"Timestamp: {metadata.get('timestamp', 'N/A')}\")\n",
    "\n",
    "    print(\"\\n\" + \"-\" * 40 + \"\\n\")"
   ]
  },
  {
   "cell_type": "markdown",
   "id": "75",
   "metadata": {
    "id": "782d8130-338f-4d82-b008-7f6aa6a265a5"
   },
   "source": [
    "Now, let’s say now we want to refine our semantic search so that it only returns **articles tagged with \"Marketing\" and published in a specific time range: on or after 2019, but before 2021**.\n",
    "\n",
    "We achieve this by using the logical `$and` operator to combine 2 criteria:\n",
    "1. The first ensures the tags array includes \"Marketing\" using `$in` operator\n",
    "2. The second applies numeric comparison operators:\n",
    "    - `$gte`: 2019 means greater than or equal to 2019\n",
    "    - `$lt`: 2021 means less than 2021, so this includes years 2019 and 2020 but excludes 2021 onward"
   ]
  },
  {
   "cell_type": "code",
   "execution_count": null,
   "id": "76",
   "metadata": {
    "id": "2e9a942e-553b-4a69-8369-3c77b1da0007"
   },
   "outputs": [],
   "source": [
    "# Querying the database with multiple filters\n",
    "responses = index.query(\n",
    "    vector = query_vector,\n",
    "    top_k = 5,\n",
    "    include_metadata = True,\n",
    "    namespace = \"client_A\",\n",
    "    filter={\n",
    "        \"$and\": [\n",
    "            {\"tags\": {\"$in\": [\"Marketing\"]}},\n",
    "            {\"year\": {\"$gte\": 2019, \"$lt\": 2021}}\n",
    "        ]\n",
    "    }\n",
    ")"
   ]
  },
  {
   "cell_type": "code",
   "execution_count": null,
   "id": "77",
   "metadata": {
    "id": "4a46e6c4-9001-4b16-8e78-bb93403aab96",
    "outputId": "57e4cd49-8640-4d3a-fd31-b2846bd8dfb2"
   },
   "outputs": [],
   "source": [
    "# Displaying the results in a clean format\n",
    "for response in responses[\"matches\"]:\n",
    "    print(f\"ID: {response['id']}\")\n",
    "    print(f\"Score: {response['score']:.4f}\")\n",
    "\n",
    "    # Metadata\n",
    "    metadata = response.get(\"metadata\", {})\n",
    "    print(f\"Tags: {metadata.get('tags', 'N/A')}\")\n",
    "    print(f\"Title: {metadata.get('title', 'N/A')}\")\n",
    "    print(f\"Timestamp: {metadata.get('timestamp', 'N/A')}\")\n",
    "    print(f\"Year: {metadata.get('year', 'N/A')}\")\n",
    "\n",
    "    print(\"\\n\" + \"-\" * 40 + \"\\n\")"
   ]
  }
 ],
 "metadata": {
  "accelerator": "GPU",
  "colab": {
   "gpuType": "T4",
   "provenance": []
  },
  "kernelspec": {
   "display_name": "Python 3 (ipykernel)",
   "language": "python",
   "name": "python3"
  },
  "language_info": {
   "codemirror_mode": {
    "name": "ipython",
    "version": 3
   },
   "file_extension": ".py",
   "mimetype": "text/x-python",
   "name": "python",
   "nbconvert_exporter": "python",
   "pygments_lexer": "ipython3",
   "version": "3.10.18"
  }
 },
 "nbformat": 4,
 "nbformat_minor": 5
}
