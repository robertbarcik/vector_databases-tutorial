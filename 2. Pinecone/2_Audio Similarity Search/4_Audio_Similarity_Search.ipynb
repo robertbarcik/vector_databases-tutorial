{
 "cells": [
  {
   "cell_type": "markdown",
   "id": "0",
   "metadata": {
    "id": "9acbf8e1"
   },
   "source": [
    "# Audio Similarity Search\n",
    "\n",
    "In this notebook we'll build a content-based audio similarity search system: given a short sound clip, we turn it into a vector embedding with a pretrained audio-tagging model, store those vectors in a Pinecone index, and then retrieve the most relevant results.\n",
    "\n",
    "Audio similarity search systems are used in various fields. In music tech, they suggest tracks with a similar timbre or texture to a seed clip, helping build cohesive playlists and spot near-duplicates in catalogs. In post-production for film/TV, game studios and podcast teams, they let editors search huge SFX libraries by \"sound-alike\" to quickly find alternate takes or variations, even when filenames or tags are inconsistent. In contact centers and QA/compliance, they automatically flag recurring audio motifs across thousands of calls such as hold music, IVR beeps, or alarm tones so teams can monitor policy adherence, improve customer experience and streamline auditing."
   ]
  },
  {
   "cell_type": "markdown",
   "id": "1",
   "metadata": {},
   "source": [
    "# Setup: Installing Required Libraries\n",
    "\n",
    "Before we begin, we need to install the necessary Python libraries. Run the cell below to install all dependencies for this notebook."
   ]
  },
  {
   "cell_type": "code",
   "execution_count": null,
   "id": "2",
   "metadata": {},
   "outputs": [],
   "source": [
    "# Install required libraries\n",
    "!pip install -q ipython ipywidgets tqdm \"numpy>=2.0.0\" \"pandas>=2.0.0,<3.0.0\" librosa==0.10.2 \\\n",
    "    datasets==3.2.0 \"torch>=2.5.1\" \"torchaudio>=2.5.1\" \\\n",
    "    soundfile pinecone==5.4.2 panns-inference==0.1.0 requests\n",
    "\n",
    "print(\"✅ All libraries installed successfully!\")"
   ]
  },
  {
   "cell_type": "markdown",
   "id": "3",
   "metadata": {
    "id": "d27d0f94"
   },
   "source": [
    "# 1. Loading the Data\n",
    "\n",
    "We'll be working with the ESC-50 (Environmental Sound Classification 50) dataset, which contains 2000 sounds spanning 50 semantic classes such as \"chirping_birds\", \"crow\" and \"fireworks\".\n",
    "\n",
    "> Data source: https://huggingface.co/datasets/ashraq/esc50"
   ]
  },
  {
   "cell_type": "code",
   "execution_count": null,
   "id": "4",
   "metadata": {
    "id": "fe790b13-8dcd-4c7b-aea4-5863b815228a"
   },
   "outputs": [],
   "source": [
    "import numpy as np\n",
    "import pandas as pd\n",
    "import os\n",
    "\n",
    "from pinecone import Pinecone, ServerlessSpec\n",
    "\n",
    "# For loading and analysing audio files\n",
    "import librosa\n",
    "from IPython.display import Audio, display\n",
    "import IPython.display as ipd\n",
    "from IPython.display import Audio as Ipa\n",
    "\n",
    "# Library that provides audio embedding models and reference tools for generating vectors\n",
    "import panns_inference\n",
    "\n",
    "# For progress bar\n",
    "from tqdm.notebook import tqdm\n",
    "\n",
    "from datasets import load_dataset\n",
    "from datasets import Audio\n",
    "\n",
    "import torch"
   ]
  },
  {
   "cell_type": "code",
   "execution_count": null,
   "id": "5",
   "metadata": {
    "id": "2cddb3ae",
    "outputId": "2a35de5b-d2bd-4601-d653-060c9fbfbac5"
   },
   "outputs": [],
   "source": [
    "data = load_dataset(\"ashraq/esc50\", split = \"train\")"
   ]
  },
  {
   "cell_type": "markdown",
   "id": "6",
   "metadata": {
    "id": "1e86faef-b598-46a4-8966-93acee76f60c"
   },
   "source": [
    "Let's preview the data in a DataFrame. There are several columns:\n",
    "\n",
    "- filename: the WAV file name\n",
    "- fold: integer indicating cross‑validation fold (1–5)\n",
    "- target: numeric class ID (0–49)\n",
    "- category: human‑readable sound label\n",
    "- esc10: boolean flag if it's part of the 10‑class ESC‑10 subset\n",
    "- src_file: original source identifier\n",
    "- take: version or fragment label\n",
    "- audio: decoded audio data object including duration and samples\n"
   ]
  },
  {
   "cell_type": "code",
   "execution_count": null,
   "id": "7",
   "metadata": {
    "id": "e95ef323-cd3d-4795-b193-cf330fa63e3a",
    "outputId": "6883a335-5794-46b4-ac3d-1e5a40f61b67"
   },
   "outputs": [],
   "source": [
    "preview_df = pd.DataFrame({c: data[c][:5] for c in data.column_names})\n",
    "preview_df"
   ]
  },
  {
   "cell_type": "markdown",
   "id": "8",
   "metadata": {
    "id": "fcf85234-ffa7-4030-b34e-de07531968a5"
   },
   "source": [
    "We'll display 1 audio file that we are selecting using its index from \"data\". In the result below, we can see:\n",
    "- `data (shape)`: 1 means there's one audio channel (mono), and the total number of samples is 220 500\n",
    "- `duration_seconds`: the audio is 5 seconds long\n",
    "- `sample_rate`: 44 100 measurements (samples) per second were taken when recording (this is a standard for high-quality audio)"
   ]
  },
  {
   "cell_type": "code",
   "execution_count": null,
   "id": "9",
   "metadata": {
    "id": "8264af3a-7a1b-487a-9dda-730ea8100013",
    "outputId": "838dcc99-acc4-4234-d6ad-6fb35e54a508"
   },
   "outputs": [],
   "source": [
    "audio_dec = data[10][\"audio\"]\n",
    "# Extract the audio array and sampling rate\n",
    "audio_array = audio_dec['array']\n",
    "sampling_rate = audio_dec['sampling_rate']\n",
    "\n",
    "print(f\"Audio shape: {audio_array.shape}\")\n",
    "print(f\"Duration (seconds): {len(audio_array) / sampling_rate:.2f}\")\n",
    "print(f\"Sampling rate: {sampling_rate} Hz\")"
   ]
  },
  {
   "cell_type": "markdown",
   "id": "10",
   "metadata": {
    "id": "0ed5bd4a-17b3-4a37-b667-86f32b538b47"
   },
   "source": [
    "When we look at the audio array, we're seeing the raw waveform. It is a long list of floating-point amplitudes (volume levels) between -1.0 and 1.0.\n",
    "\n",
    "- positive values: parts of the wave that move upward\n",
    "- negative values: parts of the wave that move downward\n",
    "- values near zero: moments of silence or very low volume"
   ]
  },
  {
   "cell_type": "code",
   "execution_count": null,
   "id": "11",
   "metadata": {
    "id": "a5d0608b-4cbc-4eae-a071-a81981a48312",
    "outputId": "8505b7d6-53c5-46a9-be60-0b5dd305f045"
   },
   "outputs": [],
   "source": [
    "# Display first 10 audio samples\n",
    "audio_array[:10]"
   ]
  },
  {
   "cell_type": "markdown",
   "id": "12",
   "metadata": {
    "id": "ffef3fde"
   },
   "source": [
    "# 2. Playing the Audio file\n",
    "\n",
    "Let's play the audio file so we can hear what is acutally sounds like. We'll extract its waveform array and then use Ipython's `Audio` widget to play it directly in the notebook:"
   ]
  },
  {
   "cell_type": "code",
   "execution_count": null,
   "id": "13",
   "metadata": {
    "id": "cf7bfc08-d2be-4012-ab80-59d86f00985c",
    "outputId": "9fa3b529-961d-4921-d4ce-58f46081dae5"
   },
   "outputs": [],
   "source": [
    "# Choosing index (from 0 to 1999)\n",
    "sound_num = 10\n",
    "\n",
    "# Taking the \"array\" tha represents the actual sound\n",
    "sound_array = data[sound_num][\"audio\"]['array']\n",
    "\n",
    "# Printing the category of sound\n",
    "print(data[sound_num][\"category\"])\n",
    "\n",
    "# Playing\n",
    "ipd.Audio(sound_array, rate = 44100)"
   ]
  },
  {
   "cell_type": "markdown",
   "id": "14",
   "metadata": {
    "id": "311d7941"
   },
   "source": [
    "# 3. Initializing the Auto-Tagging Model for Embeddings\n",
    "\n",
    "Next, we will initialize **AudioTagging model** from `panns_inference` library. This model is based on PANNs (Pretrained Audio Neural Networks), a family of convolutional neural networks trained on the large-scale AudioSet dataset. The model takes an audio waveform as input and produce **2048-dimensional embedding vector**.\n",
    "\n",
    "The code below will:\n",
    "1. Download the pretrained model checkpoint (~81 MB) with a **progress bar** using Python's `requests` library\n",
    "2. Load the model into memory\n",
    "\n",
    "**Expected download time**: 30 seconds to 2 minutes (depending on your network speed)\n",
    "\n",
    "> **Note**: The download happens only once. If you re-run this cell, it will skip the download if the file already exists. No system tools like `wget` are required - everything is handled by Python!"
   ]
  },
  {
   "cell_type": "code",
   "execution_count": null,
   "id": "15",
   "metadata": {
    "id": "58144546",
    "outputId": "49e32e7e-816c-4d79-de6d-9a74aad3b221"
   },
   "outputs": [],
   "source": [
    "import os\n",
    "import time\n",
    "import requests\n",
    "from tqdm import tqdm\n",
    "from panns_inference import AudioTagging\n",
    "\n",
    "# Model Citation: PANNs Cnn14 from Kong et al. (2019)\n",
    "# Source: https://zenodo.org/record/3987831 | DOI: 10.5281/zenodo.3987831 | License: MIT\n",
    "\n",
    "# Remove potentially corrupted checkpoint file if it exists\n",
    "checkpoint_path = '/root/panns_data/Cnn14_mAP=0.431.pth'\n",
    "checkpoint_dir = '/root/panns_data'\n",
    "\n",
    "if os.path.exists(checkpoint_path):\n",
    "    print(f\"Removing existing checkpoint: {checkpoint_path}\")\n",
    "    os.remove(checkpoint_path)\n",
    "    print(\"Checkpoint removed. Will re-download...\\n\")\n",
    "\n",
    "# Create directory if it doesn't exist\n",
    "os.makedirs(checkpoint_dir, exist_ok=True)\n",
    "\n",
    "# Manual download with progress bar (faster and more visible)\n",
    "model_url = 'https://zenodo.org/record/3987831/files/Cnn14_mAP%3D0.431.pth?download=1'\n",
    "\n",
    "if not os.path.exists(checkpoint_path):\n",
    "    print(\"Downloading model checkpoint (81 MB)...\")\n",
    "    print(\"This may take 30 seconds to 2 minutes depending on your connection.\\n\")\n",
    "    \n",
    "    response = requests.get(model_url, stream=True)\n",
    "    total_size = int(response.headers.get('content-length', 0))\n",
    "    \n",
    "    with open(checkpoint_path, 'wb') as f, tqdm(\n",
    "        total=total_size,\n",
    "        unit='B',\n",
    "        unit_scale=True,\n",
    "        unit_divisor=1024,\n",
    "        desc=\"Downloading\"\n",
    "    ) as pbar:\n",
    "        for chunk in response.iter_content(chunk_size=8192):\n",
    "            f.write(chunk)\n",
    "            pbar.update(len(chunk))\n",
    "    \n",
    "    print(\"\\n✅ Download complete!\")\n",
    "else:\n",
    "    print(\"✅ Checkpoint already exists!\")\n",
    "\n",
    "# Load the model\n",
    "print(\"\\nLoading AudioTagging model...\")\n",
    "model = AudioTagging(checkpoint_path=checkpoint_path)\n",
    "print(\"✅ Model loaded successfully!\")"
   ]
  },
  {
   "cell_type": "markdown",
   "id": "16",
   "metadata": {
    "id": "85fb1b20-638d-46cc-8d2c-0f70c01d4726"
   },
   "source": [
    "We will resample all clips to 32 kHz because the PANNs checkpoint was trained at 32 kHz and its front-end is sample-rate–dependent. Feeding 44.1 kHz would shift the time/frequency scale, yielding embeddings that don’t align or compare well across files."
   ]
  },
  {
   "cell_type": "code",
   "execution_count": null,
   "id": "17",
   "metadata": {
    "id": "b26a2b85-f527-4b26-9099-38973a057aad"
   },
   "outputs": [],
   "source": [
    "resampled_data = data.cast_column(\"audio\", Audio(sampling_rate=32000))"
   ]
  },
  {
   "cell_type": "markdown",
   "id": "18",
   "metadata": {
    "id": "a0616019-7a1f-4027-901e-2aa0da2df55c"
   },
   "source": [
    "Let’s extract one audio file and compute its embedding for quick visual exploration:"
   ]
  },
  {
   "cell_type": "code",
   "execution_count": null,
   "id": "19",
   "metadata": {
    "id": "c09a1d0d-d166-4b05-904f-e2820b549048"
   },
   "outputs": [],
   "source": [
    "# Selecting audio file with index 10\n",
    "sound_num = 10\n",
    "text_audio_file = resampled_data[sound_num]\n",
    "\n",
    "# Extracting the raw waveform from the \"audio\" column\n",
    "sound_array = text_audio_file[\"audio\"][\"array\"].astype(\"float32\")\n",
    "# Storing the sampling rate\n",
    "sr = text_audio_file[\"audio\"][\"sampling_rate\"]"
   ]
  },
  {
   "cell_type": "markdown",
   "id": "20",
   "metadata": {
    "id": "51c8a9f0-0d07-4a8c-98a6-abe20b075f97"
   },
   "source": [
    "We'll use `inference()` method on audio file that we stored in \"sound_array\". This method returns 2 outputs:\n",
    "- \"probabilities\" = array of class probabilities\n",
    "- \"audio_vec\" = embedding vector of the sound"
   ]
  },
  {
   "cell_type": "code",
   "execution_count": null,
   "id": "21",
   "metadata": {
    "id": "908a1658-3f57-4d6c-899e-c3e0a87d16eb"
   },
   "outputs": [],
   "source": [
    "probabilities, audio_vec = model.inference(sound_array[None, :])"
   ]
  },
  {
   "cell_type": "code",
   "execution_count": null,
   "id": "22",
   "metadata": {
    "id": "ef0ba8f2-4a0f-4f1d-8f9f-2c2e58813460",
    "outputId": "7be9aecc-7a1a-4b7f-c748-bcf7bc948c3d"
   },
   "outputs": [],
   "source": [
    "# Class probabilities\n",
    "probabilities"
   ]
  },
  {
   "cell_type": "code",
   "execution_count": null,
   "id": "23",
   "metadata": {
    "id": "9b61dbbf",
    "outputId": "06b18fad-a7ab-4093-ece7-e69adbf0ab59"
   },
   "outputs": [],
   "source": [
    "# 2048-dimensional embedding vector\n",
    "audio_vec.shape[1]"
   ]
  },
  {
   "cell_type": "markdown",
   "id": "24",
   "metadata": {},
   "source": [
    "### 📝 EXERCISE 1: Explore Audio Embeddings (5-7 minutes)\n",
    "\n",
    "**What you'll practice:** Understanding how audio files are converted to numerical vectors.\n",
    "\n",
    "**Your task:**\n",
    "1. Select a different audio file from the dataset (choose any index from 0 to 1999)\n",
    "2. Extract the audio waveform and compute its embedding using the `model.inference()` method\n",
    "3. Print the embedding vector length (should be 2048 dimensions)\n",
    "4. Look at the class probabilities - what sound categories does the model think this audio might be?\n",
    "\n",
    "**Hint:** Follow the same pattern as shown above:\n",
    "- Use `resampled_data[index][\"audio\"][\"array\"]` to get the audio\n",
    "- Use `model.inference(sound_array[None, :])` to get probabilities and embeddings\n",
    "\n",
    "**Expected outcome:** Every audio file, regardless of content, will produce a 2048-dimensional vector. The probabilities tell you what type of sound the model detected."
   ]
  },
  {
   "cell_type": "code",
   "execution_count": null,
   "id": "25",
   "metadata": {},
   "outputs": [],
   "source": [
    "# YOUR CODE HERE\n",
    "# Example solution structure:\n",
    "# \n",
    "# my_index = 50  # Choose any number from 0-1999\n",
    "# my_audio = resampled_data[my_index][\"audio\"][\"array\"]\n",
    "# \n",
    "# probabilities, embedding = model.inference(my_audio[None, :])\n",
    "# \n",
    "# print(f\"Audio file: {resampled_data[my_index]['filename']}\")\n",
    "# print(f\"Embedding dimensions: {embedding.shape}\")\n",
    "# print(f\"\\nTop 3 predicted sound categories:\")\n",
    "# # Print top 3 probabilities"
   ]
  },
  {
   "cell_type": "markdown",
   "id": "26",
   "metadata": {
    "id": "a9f54714"
   },
   "source": [
    "# 4. Creating an Index in Pinecone\n",
    "\n",
    "We'll now create a Pinecone index to store our audio embeddings. Dimension must match our model output, 2048 in this case.\n",
    "\n",
    "**Setup:** Before running the next cell, add your Pinecone API key to Google Colab Secrets:\n",
    "1. Click the key icon (🔑) in the left sidebar\n",
    "2. Add a new secret with name: `PINECONE_API_KEY`\n",
    "3. Paste your API key as the value\n",
    "4. Toggle the \"Notebook access\" switch to enable it"
   ]
  },
  {
   "cell_type": "code",
   "execution_count": null,
   "id": "27",
   "metadata": {
    "id": "24372a70-b089-449e-b2ef-533c17fa5dad"
   },
   "outputs": [],
   "source": [
    "from google.colab import userdata\n",
    "\n",
    "# Load API key from Google Colab secrets\n",
    "pinecone_client = Pinecone(api_key=userdata.get('PINECONE_API_KEY'))"
   ]
  },
  {
   "cell_type": "code",
   "execution_count": null,
   "id": "28",
   "metadata": {
    "id": "678afa4d",
    "outputId": "0bcf778c-daec-457d-9afe-f24a12e3d431"
   },
   "outputs": [],
   "source": [
    "# Creating an index\n",
    "pinecone_client.create_index(name = \"audio-files\",\n",
    "                             dimension = 2048,\n",
    "                             metric = 'cosine',\n",
    "                             spec = ServerlessSpec(\n",
    "                                 cloud = \"aws\",\n",
    "                                 region = \"us-east-1\")\n",
    "                            )"
   ]
  },
  {
   "cell_type": "markdown",
   "id": "29",
   "metadata": {
    "id": "9f07c4e4"
   },
   "source": [
    "# 5. Creating Audio Embeddings\n",
    "\n",
    "Instead of loading all 2000 audio files into memory at once, we process them in mini-batches. For each iteration, the function takes a slice of the dataset containing up to 64 audio clips, converts each waveform into a NumPy array and stacks them together into a single 2D array."
   ]
  },
  {
   "cell_type": "code",
   "execution_count": null,
   "id": "30",
   "metadata": {
    "id": "bf90e143-ebe7-4698-9b2b-6ae374392f38"
   },
   "outputs": [],
   "source": [
    "def iter_batches(ds, batch_size=64):\n",
    "    for i in range(0, len(ds), batch_size):\n",
    "        batch = ds[i:i+batch_size]  # columnar dict: keys are column names\n",
    "\n",
    "        # Waveforms: list of dicts under batch[\"audio\"], each has {\"array\", \"sampling_rate\"}\n",
    "        waves = np.stack(\n",
    "            [a[\"array\"].astype(\"float32\") for a in batch[\"audio\"]],\n",
    "            axis=0\n",
    "        )\n",
    "\n",
    "        yield waves, batch"
   ]
  },
  {
   "cell_type": "markdown",
   "id": "31",
   "metadata": {
    "id": "69349924-9bd6-4ece-8bd3-0df4a2c75b85"
   },
   "source": [
    "Each batch of audio waveforms is passed to `inference()` method, which turns them into 2048-dimensional embedding vectors. At the same time, we also save an ID for each audio file and some extra info like its category:"
   ]
  },
  {
   "cell_type": "code",
   "execution_count": null,
   "id": "32",
   "metadata": {
    "colab": {
     "referenced_widgets": [
      "5dbbcfb8611a49ae88d1bbe76f104c4e"
     ]
    },
    "id": "889cab5c-d2a0-471a-b7a8-fe95d92b7836",
    "outputId": "eb5b4e33-4a09-4fe9-9c5e-062c62a4b82f"
   },
   "outputs": [],
   "source": [
    "embeddings = []  # will hold the 2048-D vectors for each audio clip\n",
    "metas = []       # will hold metadata dictionaries (category, filename)\n",
    "ids = []         # will hold unique IDs (filenames) for Pinecone\n",
    "\n",
    "for waves, batch in tqdm(iter_batches(resampled_data, batch_size=64),\n",
    "                         total = (len(resampled_data)+63)//64,\n",
    "                         desc = \"Creating embeddings\"):\n",
    "    # Converting waveforms into embeddings\n",
    "    _, emb = model.inference(waves)\n",
    "    # Storing results\n",
    "    embeddings.extend(emb.tolist())\n",
    "\n",
    "    # IDs & metadata from the column lists\n",
    "    ids.extend([str(fn) for fn in batch[\"filename\"]])\n",
    "    metas.extend({\"category\": str(cat), \"filename\": str(fn)}\n",
    "                 for cat, fn in zip(batch[\"category\"], batch[\"filename\"]))"
   ]
  },
  {
   "cell_type": "markdown",
   "id": "33",
   "metadata": {
    "id": "71acb267-1b70-47e4-a1db-9998e7c58adb"
   },
   "source": [
    "Once all embeddings and metadata are collected, we store them into a DataFrame:"
   ]
  },
  {
   "cell_type": "code",
   "execution_count": null,
   "id": "34",
   "metadata": {
    "id": "a63728d0-d25b-4d72-a291-a8e26e365104"
   },
   "outputs": [],
   "source": [
    "df_to_upsert = pd.DataFrame({\n",
    "    \"id\": ids,\n",
    "    \"values\": embeddings,\n",
    "    \"metadata\": metas\n",
    "})"
   ]
  },
  {
   "cell_type": "code",
   "execution_count": null,
   "id": "35",
   "metadata": {
    "id": "c41e0ad7-fee9-4622-91b8-8770e642585d",
    "outputId": "94e7b267-99f0-43f4-b621-71b6dd741c12"
   },
   "outputs": [],
   "source": [
    "df_to_upsert.head()"
   ]
  },
  {
   "cell_type": "markdown",
   "id": "36",
   "metadata": {
    "id": "d97b112f-d20b-4196-9131-a85f43e350b9"
   },
   "source": [
    "# 6. Upserting data into Pinecone DB\n",
    "\n",
    "Now we can upsert the data into the database, using batches of 100 vectors to ensure each request stays within Pinecone’s 2 MB payload limit:"
   ]
  },
  {
   "cell_type": "code",
   "execution_count": null,
   "id": "37",
   "metadata": {
    "id": "ae113339-a2f8-4da8-a780-fcc0594927e9"
   },
   "outputs": [],
   "source": [
    "index = pinecone_client.Index(\"audio-files\")"
   ]
  },
  {
   "cell_type": "code",
   "execution_count": null,
   "id": "38",
   "metadata": {
    "colab": {
     "referenced_widgets": [
      "98689bdef9174e7d820455c7c3c61ccf",
      "b2db5e6283ec4eb0934e5276e1cfe7ce"
     ]
    },
    "id": "3bc98910-5d15-4763-9bed-60e259b29ca9",
    "outputId": "3924f747-6157-4382-b7a2-252899649306"
   },
   "outputs": [],
   "source": [
    "index.upsert_from_dataframe(\n",
    "    df_to_upsert,\n",
    "    batch_size = 100,\n",
    "    show_progress = True\n",
    ")"
   ]
  },
  {
   "cell_type": "markdown",
   "id": "39",
   "metadata": {
    "id": "9a5e63ac-039f-4b69-bb15-914a7f10f322"
   },
   "source": [
    "We should now see Record Count updated to 2000 in Pinecone web console."
   ]
  },
  {
   "cell_type": "markdown",
   "id": "40",
   "metadata": {
    "id": "UsUAtDeulSXP"
   },
   "source": [
    "![Screenshot 2025-09-29 at 10.26.58.png](data:image/png;base64,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)"
   ]
  },
  {
   "cell_type": "markdown",
   "id": "41",
   "metadata": {
    "id": "aa50f513"
   },
   "source": [
    "# 7. Audio Search with an Example from the Dataset\n",
    "\n",
    "Now that we’ve stored all our audio embeddings in Pinecone, we can try searching the index to see how well our system retrieves similar sounds. For this first test, we’ll keep things simple by using in-sample data. That means our query audio will come directly from the same dataset we used to build the index.\n",
    "\n",
    "This is a useful sanity check because the query clip itself should appear as the top match and other high-scoring results should come from the same sound category.\n",
    "\n",
    "Let's pick one audio file from \"resampled_data\" so we can hear what we are searching for:"
   ]
  },
  {
   "cell_type": "code",
   "execution_count": null,
   "id": "42",
   "metadata": {
    "id": "a82f1451-3a14-44af-9d24-6c7dd79f24c0",
    "outputId": "7e6a3d0e-b1e0-4a87-fa59-f7ce0b998da5"
   },
   "outputs": [],
   "source": [
    "# Playing the sound\n",
    "sound_num = 390\n",
    "query_clip = resampled_data[sound_num]\n",
    "query_wave = query_clip[\"audio\"][\"array\"].astype(\"float32\")\n",
    "sr = query_clip[\"audio\"][\"sampling_rate\"]\n",
    "print(f\"Query category: {query_clip['category']} | filename: {query_clip['filename']} | sr: {sr}\")\n",
    "ipd.Audio(query_wave, rate=sr)"
   ]
  },
  {
   "cell_type": "markdown",
   "id": "43",
   "metadata": {
    "id": "9713af77-21c7-4336-908b-3a79bb983ee1"
   },
   "source": [
    "Now we'll compute the embedding for this single clip:"
   ]
  },
  {
   "cell_type": "code",
   "execution_count": null,
   "id": "44",
   "metadata": {
    "id": "1d0b6fd5-15d7-4380-9d51-70aa8ebd190c",
    "outputId": "c9446f56-680c-47f6-a97f-4c5f5c146ef4"
   },
   "outputs": [],
   "source": [
    "_, emb = model.inference(query_wave[None, :])\n",
    "query_vector = emb[0].tolist()\n",
    "len(query_vector)"
   ]
  },
  {
   "cell_type": "markdown",
   "id": "45",
   "metadata": {
    "id": "633dd7d0-4c57-4a40-a548-1fdc53162fd0"
   },
   "source": [
    "Now we'll request the top 5 most similar results along with their metadata:"
   ]
  },
  {
   "cell_type": "code",
   "execution_count": null,
   "id": "46",
   "metadata": {
    "id": "3ecd10bc-7af7-4a8c-96b0-444dc6d71a39"
   },
   "outputs": [],
   "source": [
    "# Search for similar results\n",
    "responses = index.query(\n",
    "    vector = query_vector,\n",
    "    top_k = 3,\n",
    "    include_metadata = True\n",
    ")"
   ]
  },
  {
   "cell_type": "markdown",
   "id": "47",
   "metadata": {
    "id": "05e69b9c-48d9-439f-b7d4-a2511292e9cc"
   },
   "source": [
    "Let's print responses:\n",
    "- The top result (\"1-96950-A-9.wav\") is an exact match to the query, which is why its similarity score is exactly 1.\n",
    "- The next two results (IDs \"1-96950-B-9.wav\" and \"2-108766-A-9.wav\") are also labeled as \"crow\" and have high similarity scores, meaning their embeddings are very close to the query vector."
   ]
  },
  {
   "cell_type": "code",
   "execution_count": null,
   "id": "48",
   "metadata": {
    "id": "913ed49b-96f8-4dff-b857-41856485e03d",
    "outputId": "b6f130ab-c799-423e-e24e-0b5bfca9b010"
   },
   "outputs": [],
   "source": [
    "for response in responses[\"matches\"]:\n",
    "    print(f\"ID: {response['id']}\")\n",
    "    print(f\"Score: {response['score']:.4f}\")  # 4 decimal places\n",
    "    metadata = response.get(\"metadata\", {})\n",
    "    print(\"Metadata:\")\n",
    "    for key, value in metadata.items():\n",
    "            print(f\" {key}: {value}\")\n",
    "    print(\"\\n\" + \"-\" * 40 + \"\\n\")"
   ]
  },
  {
   "cell_type": "markdown",
   "id": "49",
   "metadata": {},
   "source": [
    "### 📝 EXERCISE 2: Find Similar Sounds (10 minutes)\n",
    "\n",
    "**What you'll practice:** Performing audio similarity search using Pinecone.\n",
    "\n",
    "**Your task:**\n",
    "1. Choose a different audio file from the dataset as your query sound\n",
    "2. Play the audio to hear what it sounds like\n",
    "3. Compute the embedding for this query audio\n",
    "4. Search the Pinecone index for the top 3 most similar sounds\n",
    "5. Print the results showing filenames and similarity scores\n",
    "6. Optional: Play the top match to verify it sounds similar\n",
    "\n",
    "**Hint:** You'll need to:\n",
    "- Extract audio from the dataset: `resampled_data[your_index]`\n",
    "- Compute embedding: `model.inference(audio[None, :])`\n",
    "- Query Pinecone: `index.query(vector=embedding.tolist(), top_k=3, include_metadata=True)`\n",
    "\n",
    "**Expected outcome:** The search should return sounds that are acoustically similar. The top result might even be the exact same file if it's in the database!"
   ]
  },
  {
   "cell_type": "code",
   "execution_count": null,
   "id": "50",
   "metadata": {},
   "outputs": [],
   "source": [
    "# YOUR CODE HERE\n",
    "# Example solution structure:\n",
    "# \n",
    "# # Step 1: Choose and play audio\n",
    "# query_idx = 100  # Choose your index\n",
    "# query_audio = resampled_data[query_idx][\"audio\"][\"array\"]\n",
    "# print(f\"Query sound: {resampled_data[query_idx]['filename']}\")\n",
    "# # ipd.Audio(query_audio, rate=32000)  # Uncomment to play\n",
    "# \n",
    "# # Step 2: Compute embedding\n",
    "# _, query_embedding = model.inference(query_audio[None, :])\n",
    "# \n",
    "# # Step 3: Search\n",
    "# results = index.query(\n",
    "#     vector=query_embedding.tolist(),\n",
    "#     top_k=3,\n",
    "#     include_metadata=True\n",
    "# )\n",
    "# \n",
    "# # Step 4: Display results\n",
    "# print(\"\\nTop 3 similar sounds:\")\n",
    "# for i, match in enumerate(results[\"matches\"], 1):\n",
    "#     print(f\"{i}. {match['metadata']['filename']} - Score: {match['score']:.4f}\")"
   ]
  },
  {
   "cell_type": "markdown",
   "id": "51",
   "metadata": {
    "id": "6eb2e7f5-93a4-4d53-aaaa-44c6f9680969"
   },
   "source": [
    "We can also play the top matches to confirm that similar sounds are being retrieved:"
   ]
  },
  {
   "cell_type": "code",
   "execution_count": null,
   "id": "52",
   "metadata": {
    "id": "e8831c29-675e-4514-9ed3-ebe85dcfc28c",
    "outputId": "9217dcd3-95cd-4f13-e36a-035979ebd078"
   },
   "outputs": [],
   "source": [
    "filename_to_idx = {fn: i for i, fn in enumerate(resampled_data[\"filename\"])}\n",
    "\n",
    "for m in responses[\"matches\"][:3]:\n",
    "    fn = m[\"id\"]                        # filename string\n",
    "    idx = filename_to_idx[fn]           # row index in resampled_data\n",
    "    ex = resampled_data[idx]\n",
    "    print(ex[\"category\"], \"|\", ex[\"filename\"], \"| score:\", f\"{m['score']:.3f}\")\n",
    "    display(Ipa(ex[\"audio\"][\"array\"], rate = ex[\"audio\"][\"sampling_rate\"]))"
   ]
  },
  {
   "cell_type": "markdown",
   "id": "53",
   "metadata": {
    "id": "d592cbfb"
   },
   "source": [
    "# 8. Audio Search with a New Sound\n",
    "\n",
    "In the second example, we'll use an external audio file \"frog.wav\", which should be placed in the same directory as this notebook, to search database for similar sounds. We first load the audioWe and resample it to 32 kHz so it matches the PANNs model’s training setup."
   ]
  },
  {
   "cell_type": "code",
   "execution_count": null,
   "id": "54",
   "metadata": {
    "id": "322a88b4-c60e-45b5-be05-e1186dc8604e"
   },
   "outputs": [],
   "source": [
    "own_audio, sample_rate = librosa.load(\"frogs.wav\", sr = 32000)"
   ]
  },
  {
   "cell_type": "code",
   "execution_count": null,
   "id": "55",
   "metadata": {
    "id": "8a9dc4d9",
    "outputId": "fd9a6e6a-c52a-445a-ba07-cfbca2ab8945"
   },
   "outputs": [],
   "source": [
    "ipd.Audio(own_audio, rate = sample_rate)"
   ]
  },
  {
   "cell_type": "markdown",
   "id": "56",
   "metadata": {
    "id": "6ecb5b3f-caf6-40b6-be92-fb051ff96e08"
   },
   "source": [
    "Then we convert the waveform into an embedding vector using our pretrained audio model:"
   ]
  },
  {
   "cell_type": "code",
   "execution_count": null,
   "id": "57",
   "metadata": {
    "id": "4cbeee0a-551a-4462-b54d-54e8bb83ede4",
    "outputId": "31591367-1f0e-44c3-ba98-b4968efbaddb"
   },
   "outputs": [],
   "source": [
    "# Creating Embedding\n",
    "_, emb = model.inference(own_audio[None, :])\n",
    "query_vec = emb[0].tolist()\n",
    "len(query_vec)"
   ]
  },
  {
   "cell_type": "markdown",
   "id": "58",
   "metadata": {
    "id": "c2b7aad6-3510-4d33-9f10-eefa64da4977"
   },
   "source": [
    "Next, we search Pinecone for top 3 similar sounds in the database:"
   ]
  },
  {
   "cell_type": "code",
   "execution_count": null,
   "id": "59",
   "metadata": {
    "id": "a4a88c34-6faa-446c-a3d7-50f04115c616"
   },
   "outputs": [],
   "source": [
    "# Searching for similar results\n",
    "responses = index.query(\n",
    "    vector = query_vec,\n",
    "    top_k = 3,\n",
    "    include_metadata = True)"
   ]
  },
  {
   "cell_type": "code",
   "execution_count": null,
   "id": "60",
   "metadata": {
    "id": "e3c655fb-4fe8-46d9-9c13-72cbf3463698",
    "outputId": "54cda2af-e4aa-4bad-8e7b-5a0c0b322056"
   },
   "outputs": [],
   "source": [
    "# Printing the top matches\n",
    "for response in responses[\"matches\"]:\n",
    "    print(f\"ID: {response['id']}\")\n",
    "    print(f\"Score: {response['score']:.4f}\")\n",
    "    metadata = response.get(\"metadata\", {})\n",
    "    print(\"Metadata:\")\n",
    "    for key, value in metadata.items():\n",
    "            print(f\" {key}: {value}\")\n",
    "    print(\"\\n\" + \"-\" * 40 + \"\\n\")"
   ]
  },
  {
   "cell_type": "markdown",
   "id": "61",
   "metadata": {
    "id": "195bcd31-6083-42d1-9361-b98f86a02745"
   },
   "source": [
    "We can of course play the retrieved sounds so we can hear how closely they match our query:"
   ]
  },
  {
   "cell_type": "code",
   "execution_count": null,
   "id": "62",
   "metadata": {
    "id": "3d22d53b-4dfb-4b11-9684-7ffe8adf1dbb",
    "outputId": "9e4e298e-a73f-4173-934d-424d58c29945"
   },
   "outputs": [],
   "source": [
    "filename_to_idx = {fn: i for i, fn in enumerate(resampled_data[\"filename\"])}\n",
    "\n",
    "for m in responses[\"matches\"][:3]:\n",
    "    fn = m[\"id\"]                        # filename string\n",
    "    idx = filename_to_idx[fn]           # row index in resampled_data\n",
    "    ex = resampled_data[idx]\n",
    "    print(ex[\"category\"], \"|\", ex[\"filename\"], \"| score:\", f\"{m['score']:.3f}\")\n",
    "    display(Ipa(ex[\"audio\"][\"array\"], rate = ex[\"audio\"][\"sampling_rate\"]))"
   ]
  }
 ],
 "metadata": {
  "colab": {
   "provenance": []
  },
  "kernelspec": {
   "display_name": "Python 3 (ipykernel)",
   "language": "python",
   "name": "python3"
  },
  "language_info": {
   "codemirror_mode": {
    "name": "ipython",
    "version": 3
   },
   "file_extension": ".py",
   "mimetype": "text/x-python",
   "name": "python",
   "nbconvert_exporter": "python",
   "pygments_lexer": "ipython3",
   "version": "3.11.13"
  }
 },
 "nbformat": 4,
 "nbformat_minor": 5
}
