{
 "cells": [
  {
   "cell_type": "markdown",
   "id": "0",
   "metadata": {
    "id": "0"
   },
   "source": [
    "# 1. Named Entity Recognition\n",
    "\n",
    "In this notebook, we explore Named Entity Recognition (NER) which is **automatically finding and classifying key pieces of information in text**, such as people, organizations, locations, or other specific entities.\n",
    "\n",
    "NER is especially useful in search systems. When a database contains thousands of documents, simply relying on keyword search can return too many results. **By combining semantic similarity with entity extraction, we can narrow down the search space and surface more relevant results**.\n",
    "\n",
    "You\u2019ve already seen this idea in everyday life:\n",
    "- Job boards that let you filter results by company or skill names\n",
    "- News sites that let you browse by politician, city or sports team\n",
    "- Research databases that let you filter by author or journal\n",
    "\n",
    "\n",
    "\n",
    "In this notebook, we\u2019ll build a simplified version of that workflow. We will:\n",
    "- **embed the query** \u2192 get semantic similarity scores with documents\n",
    "- **extract named entities** \u2192 identify the most important keywords/topics\n",
    "- **apply entity filters in Pinecone** \u2192 return results that are both semantically relevant and constrained to the specified entities\n",
    "\n",
    "\n",
    "\n",
    "\n",
    "\n"
   ]
  },
  {
   "cell_type": "markdown",
   "id": "1",
   "metadata": {
    "id": "1"
   },
   "source": [
    "# Setup: Installing Required Libraries\n",
    "\n",
    "Before we begin, we need to install the necessary Python libraries. Run the cell below to install all dependencies for this notebook."
   ]
  },
  {
   "cell_type": "code",
   "execution_count": 1,
   "id": "2",
   "metadata": {
    "colab": {
     "base_uri": "https://localhost:8080/"
    },
    "id": "2",
    "outputId": "34af1190-560c-4b2b-bfb8-0dca195c79b0"
   },
   "outputs": [
    {
     "output_type": "stream",
     "name": "stdout",
     "text": [
      "\u001b[2K   \u001b[90m\u2501\u2501\u2501\u2501\u2501\u2501\u2501\u2501\u2501\u2501\u2501\u2501\u2501\u2501\u2501\u2501\u2501\u2501\u2501\u2501\u2501\u2501\u2501\u2501\u2501\u2501\u2501\u2501\u2501\u2501\u2501\u2501\u2501\u2501\u2501\u2501\u2501\u2501\u2501\u2501\u001b[0m \u001b[32m587.6/587.6 kB\u001b[0m \u001b[31m8.9 MB/s\u001b[0m eta \u001b[36m0:00:00\u001b[0m\n",
      "\u001b[2K   \u001b[90m\u2501\u2501\u2501\u2501\u2501\u2501\u2501\u2501\u2501\u2501\u2501\u2501\u2501\u2501\u2501\u2501\u2501\u2501\u2501\u2501\u2501\u2501\u2501\u2501\u2501\u2501\u2501\u2501\u2501\u2501\u2501\u2501\u2501\u2501\u2501\u2501\u2501\u2501\u2501\u2501\u001b[0m \u001b[32m259.3/259.3 kB\u001b[0m \u001b[31m8.9 MB/s\u001b[0m eta \u001b[36m0:00:00\u001b[0m\n",
      "\u001b[2K   \u001b[90m\u2501\u2501\u2501\u2501\u2501\u2501\u2501\u2501\u2501\u2501\u2501\u2501\u2501\u2501\u2501\u2501\u2501\u2501\u2501\u2501\u2501\u2501\u2501\u2501\u2501\u2501\u2501\u2501\u2501\u2501\u2501\u2501\u2501\u2501\u2501\u2501\u2501\u2501\u2501\u2501\u001b[0m \u001b[32m65.5/65.5 kB\u001b[0m \u001b[31m3.0 MB/s\u001b[0m eta \u001b[36m0:00:00\u001b[0m\n",
      "\u001b[?25h\u2705 All libraries installed successfully!\n",
      "\u26a0\ufe0f  IMPORTANT: Please restart your kernel/runtime now before running the next cell!\n"
     ]
    }
   ],
   "source": [
    "# Install required libraries\n",
    "!pip install -q sentence-transformers transformers pinecone datasets torch\n",
    "\n",
    "print(\"\u2705 All libraries installed successfully!\")\n",
    "print(\"\u26a0\ufe0f  IMPORTANT: Please restart your kernel/runtime now before running the next cell!\")"
   ]
  },
  {
   "cell_type": "code",
   "execution_count": 2,
   "id": "3",
   "metadata": {
    "id": "3"
   },
   "outputs": [],
   "source": [
    "# Importing libraries\n",
    "\n",
    "from sentence_transformers import SentenceTransformer\n",
    "from transformers import AutoTokenizer, AutoModelForTokenClassification\n",
    "from transformers import pipeline\n",
    "\n",
    "import torch\n",
    "\n",
    "import pandas as pd\n",
    "import os\n",
    "from pinecone import Pinecone, ServerlessSpec\n",
    "\n",
    "# For data preprocessing\n",
    "import ast\n",
    "\n",
    "from tqdm.auto import tqdm"
   ]
  },
  {
   "cell_type": "markdown",
   "id": "4",
   "metadata": {
    "id": "4"
   },
   "source": [
    "We\u2019ll use a pre-trained BERT-based model called `dslim/bert-base-NER`. This model has been fine-tuned specifically for Named Entity Recognition tasks. It works at the token level - it looks at each word (or subword) in the input text and assigns it an entity label:\n",
    "- `ORG`: organization\n",
    "- `PER`: person's name\n",
    "- `LOC`: location\n",
    "- `MISC`: miscellaneous entity\n",
    "\n",
    "You can read more about this model on [Hugging Face's website](https://huggingface.co/dslim/bert-base-NER)."
   ]
  },
  {
   "cell_type": "code",
   "execution_count": 3,
   "id": "5",
   "metadata": {
    "id": "5"
   },
   "outputs": [],
   "source": [
    "model = \"dslim/bert-base-NER\""
   ]
  },
  {
   "cell_type": "markdown",
   "id": "6",
   "metadata": {
    "id": "6"
   },
   "source": [
    "Let's load the tokenizer which splits input text into tokens in exactly the same way the model was trained and prepares it for inference:"
   ]
  },
  {
   "cell_type": "code",
   "execution_count": 4,
   "id": "7",
   "metadata": {
    "id": "7",
    "colab": {
     "base_uri": "https://localhost:8080/",
     "height": 177,
     "referenced_widgets": [
      "d571f6a138724fa1a88456c6bc9c85b8",
      "959d9074b29242cbafb3869ad3494453",
      "94508c3b31964f329de911370db866d1",
      "42ca056e073941ee871bb0ab416579be",
      "79573cc6638947ab89003006ffcceb57",
      "348ad2d0d01346ad8f6851ed498e248c",
      "2e09eb98b9b5445a858e991c781276dd",
      "799cd7230da440348d68ebead5d22591",
      "26415af43fe04f5c85d78937f0c65eee",
      "ca68787723ee42a8bb816079954a3735",
      "7780f0f6c0684ed68603afc165aa4262",
      "15e5bab3fb4e4379a6184feefed03e9f",
      "0b3ef996d5f54747bcdab501f8c8b4d5",
      "1d7a8494eda64b7280dd903166da4060",
      "1483feec7ef4495c853d490039f7b6ea",
      "9846f80146da408da0cbf130b75410ea",
      "a1b0b1c8995f40ceb16ef5a68e11da0b",
      "658bb737f0ed454ab4b1d3e7201e9669",
      "02cb7d04372942978bb836660b896384",
      "c0945d6f7b5f4732ae23428c84a2a59c",
      "c78381da0a5747be811a6feafd9e7ab7",
      "d1c5c36d452f445a940fcd578e41a0ae",
      "b11b4ce01ed342d5a6d9963dd4cd99e4",
      "ed0217945d0d45489eeb8583e8b2bd5b",
      "a72267c7595b4f1aacf25e86e0d87cf4",
      "ddf076c701b34957a99ac9216948342b",
      "b57dbce7a8764cfc933a690a3c8fc849",
      "2ebb06443c77400cb5e6fedef4deb43a",
      "c902895fc39f4f4eb4c9b989c1391003",
      "1ff63f2d7fc14f81bb222a800f6d221a",
      "ca97233a9b2d4add958f482f135af261",
      "099f4c4a4e8e4a2cbb59a9242bd1e80a",
      "c332b268faba4547bd490292acbc8307",
      "15e74996955940618f30ed5776246ccf",
      "c8bdf956781c48cfadb982b28007bb7e",
      "0e4422d5ff6e40709f11c3fea718ba91",
      "67a1fd0325374ca38b5a4131060d7fad",
      "2505679a16644275854f0d396ab378eb",
      "32008a512c5a487f96a29ec105c5c274",
      "84a1533578f742f98febbb0e190bc047",
      "5fbc01f8d82d4baab37d936b72e71969",
      "e900c455dcf14ea5b0f973e74f39f801",
      "73cc6eda4819403793389291f0d2c7db",
      "fcd6ab55f7484c11b84de7c74386b8e8",
      "e677f3bad50549c59c2d9794435e48c0",
      "01942c5cf4a7424ebf9743ccb04896c6",
      "74cccae8594646c5b6da1c1d6bcdbbf4",
      "bc84ac8d55d645c0b24f5e26e3d7bf11",
      "472b65d1cee84afdb0c03c74e386ccb3",
      "cb43616b372d49b7acce06428227f52e",
      "35a01c0a2c7a4f4091c2446bd52a5636",
      "733a9415c895432b96cb3269b42556c5",
      "f410b3f4c6374bbbb0fced9a7a592c56",
      "91ad1db052704121b822c2b5ebd22d68",
      "73f42be9f4d74be1be4a6efb031d286a"
     ]
    },
    "outputId": "d76eb628-d871-4c85-aed8-2a857657613c"
   },
   "outputs": [
    {
     "output_type": "display_data",
     "data": {
      "text/plain": [
       "tokenizer_config.json:   0%|          | 0.00/59.0 [00:00<?, ?B/s]"
      ],
      "application/vnd.jupyter.widget-view+json": {
       "version_major": 2,
       "version_minor": 0,
       "model_id": "d571f6a138724fa1a88456c6bc9c85b8"
      }
     },
     "metadata": {}
    },
    {
     "output_type": "display_data",
     "data": {
      "text/plain": [
       "config.json:   0%|          | 0.00/829 [00:00<?, ?B/s]"
      ],
      "application/vnd.jupyter.widget-view+json": {
       "version_major": 2,
       "version_minor": 0,
       "model_id": "15e5bab3fb4e4379a6184feefed03e9f"
      }
     },
     "metadata": {}
    },
    {
     "output_type": "display_data",
     "data": {
      "text/plain": [
       "vocab.txt: 0.00B [00:00, ?B/s]"
      ],
      "application/vnd.jupyter.widget-view+json": {
       "version_major": 2,
       "version_minor": 0,
       "model_id": "b11b4ce01ed342d5a6d9963dd4cd99e4"
      }
     },
     "metadata": {}
    },
    {
     "output_type": "display_data",
     "data": {
      "text/plain": [
       "added_tokens.json:   0%|          | 0.00/2.00 [00:00<?, ?B/s]"
      ],
      "application/vnd.jupyter.widget-view+json": {
       "version_major": 2,
       "version_minor": 0,
       "model_id": "15e74996955940618f30ed5776246ccf"
      }
     },
     "metadata": {}
    },
    {
     "output_type": "display_data",
     "data": {
      "text/plain": [
       "special_tokens_map.json:   0%|          | 0.00/112 [00:00<?, ?B/s]"
      ],
      "application/vnd.jupyter.widget-view+json": {
       "version_major": 2,
       "version_minor": 0,
       "model_id": "e677f3bad50549c59c2d9794435e48c0"
      }
     },
     "metadata": {}
    }
   ],
   "source": [
    "# Loading the tokenizer\n",
    "ner_tokenizer = AutoTokenizer.from_pretrained(model)"
   ]
  },
  {
   "cell_type": "markdown",
   "id": "8",
   "metadata": {
    "id": "8"
   },
   "source": [
    "Now, we'll load the NER model:"
   ]
  },
  {
   "cell_type": "code",
   "execution_count": 5,
   "id": "9",
   "metadata": {
    "id": "9",
    "outputId": "eafa2fd0-0531-4538-a25a-6e0b38b87840",
    "colab": {
     "base_uri": "https://localhost:8080/",
     "height": 817,
     "referenced_widgets": [
      "ac4f1545e35b44dfbaa531e3d656657e",
      "a35a571c1c7c4be68d9f7a86197c2a11",
      "acfaeec45bf6482b9786bb5853aa8896",
      "3a296f90c10e4bb18a6e302d529bc5a0",
      "f8f53140fe5842189183f50df944788e",
      "37e2000db2db40ccaba293928e7a9405",
      "b84d2b97d452487e8599eac4597471ed",
      "ee7528b33f8c40e49ef4032dfd702194",
      "7996b93a3cfe470aafa3b59451c0cb71",
      "5b2efac9cf2749a1b64d1c0443ea37de",
      "5affbb52bcfc4c9ba554454e13d028dc"
     ]
    }
   },
   "outputs": [
    {
     "output_type": "display_data",
     "data": {
      "text/plain": [
       "model.safetensors:   0%|          | 0.00/433M [00:00<?, ?B/s]"
      ],
      "application/vnd.jupyter.widget-view+json": {
       "version_major": 2,
       "version_minor": 0,
       "model_id": "ac4f1545e35b44dfbaa531e3d656657e"
      }
     },
     "metadata": {}
    },
    {
     "output_type": "stream",
     "name": "stderr",
     "text": [
      "Some weights of the model checkpoint at dslim/bert-base-NER were not used when initializing BertForTokenClassification: ['bert.pooler.dense.bias', 'bert.pooler.dense.weight']\n",
      "- This IS expected if you are initializing BertForTokenClassification from the checkpoint of a model trained on another task or with another architecture (e.g. initializing a BertForSequenceClassification model from a BertForPreTraining model).\n",
      "- This IS NOT expected if you are initializing BertForTokenClassification from the checkpoint of a model that you expect to be exactly identical (initializing a BertForSequenceClassification model from a BertForSequenceClassification model).\n"
     ]
    },
    {
     "output_type": "execute_result",
     "data": {
      "text/plain": [
       "BertForTokenClassification(\n",
       "  (bert): BertModel(\n",
       "    (embeddings): BertEmbeddings(\n",
       "      (word_embeddings): Embedding(28996, 768, padding_idx=0)\n",
       "      (position_embeddings): Embedding(512, 768)\n",
       "      (token_type_embeddings): Embedding(2, 768)\n",
       "      (LayerNorm): LayerNorm((768,), eps=1e-12, elementwise_affine=True)\n",
       "      (dropout): Dropout(p=0.1, inplace=False)\n",
       "    )\n",
       "    (encoder): BertEncoder(\n",
       "      (layer): ModuleList(\n",
       "        (0-11): 12 x BertLayer(\n",
       "          (attention): BertAttention(\n",
       "            (self): BertSdpaSelfAttention(\n",
       "              (query): Linear(in_features=768, out_features=768, bias=True)\n",
       "              (key): Linear(in_features=768, out_features=768, bias=True)\n",
       "              (value): Linear(in_features=768, out_features=768, bias=True)\n",
       "              (dropout): Dropout(p=0.1, inplace=False)\n",
       "            )\n",
       "            (output): BertSelfOutput(\n",
       "              (dense): Linear(in_features=768, out_features=768, bias=True)\n",
       "              (LayerNorm): LayerNorm((768,), eps=1e-12, elementwise_affine=True)\n",
       "              (dropout): Dropout(p=0.1, inplace=False)\n",
       "            )\n",
       "          )\n",
       "          (intermediate): BertIntermediate(\n",
       "            (dense): Linear(in_features=768, out_features=3072, bias=True)\n",
       "            (intermediate_act_fn): GELUActivation()\n",
       "          )\n",
       "          (output): BertOutput(\n",
       "            (dense): Linear(in_features=3072, out_features=768, bias=True)\n",
       "            (LayerNorm): LayerNorm((768,), eps=1e-12, elementwise_affine=True)\n",
       "            (dropout): Dropout(p=0.1, inplace=False)\n",
       "          )\n",
       "        )\n",
       "      )\n",
       "    )\n",
       "  )\n",
       "  (dropout): Dropout(p=0.1, inplace=False)\n",
       "  (classifier): Linear(in_features=768, out_features=9, bias=True)\n",
       ")"
      ]
     },
     "metadata": {},
     "execution_count": 5
    }
   ],
   "source": [
    "# Loading the NER model\n",
    "ner_model = AutoModelForTokenClassification.from_pretrained(model)\n",
    "ner_model"
   ]
  },
  {
   "cell_type": "markdown",
   "id": "10",
   "metadata": {
    "id": "10"
   },
   "source": [
    "To run NER, we use a pipeline that wraps the model and tokenizer together and gives us a simple function we can call on text:"
   ]
  },
  {
   "cell_type": "code",
   "execution_count": 6,
   "id": "11",
   "metadata": {
    "id": "11",
    "outputId": "e1ade878-4f38-4e0b-de25-757e020c7e3e",
    "colab": {
     "base_uri": "https://localhost:8080/"
    }
   },
   "outputs": [
    {
     "output_type": "stream",
     "name": "stderr",
     "text": [
      "Device set to use cpu\n"
     ]
    }
   ],
   "source": [
    "# Pipeline\n",
    "ner_pipeline = pipeline('ner',\n",
    "                        # Model\n",
    "                        model = ner_model,\n",
    "                        # Tokenizer\n",
    "                        tokenizer = ner_tokenizer,\n",
    "                        # BERT splits words into subword pieces: option \"max\" groups those pieces back into whole words\n",
    "                        # and keeps the label with the highest confidence for each word span\n",
    "                        aggregation_strategy = \"max\",\n",
    "                        # CPU\n",
    "                        device= None)"
   ]
  },
  {
   "cell_type": "markdown",
   "id": "12",
   "metadata": {
    "id": "12"
   },
   "source": [
    "Our NER model identified and categorized several key named entities in the sentence. It recognized organizations like DeepMind, Meta, and Meta Superintelligence Labs as `ORG`, individuals like Demis Hassabis, Lex Fridman, and Mark Zuckerberg as `PER`, and AI as a miscellaneous entity (`MISC`). Each detection includes a high confidence score, along with the exact text span in which the entity appeared."
   ]
  },
  {
   "cell_type": "code",
   "execution_count": 7,
   "id": "13",
   "metadata": {
    "id": "13",
    "outputId": "506acf67-deae-4ef7-a151-f20733af2731",
    "colab": {
     "base_uri": "https://localhost:8080/"
    }
   },
   "outputs": [
    {
     "output_type": "execute_result",
     "data": {
      "text/plain": [
       "[{'entity_group': 'ORG',\n",
       "  'score': np.float32(0.9984956),\n",
       "  'word': 'DeepMind',\n",
       "  'start': 0,\n",
       "  'end': 8},\n",
       " {'entity_group': 'PER',\n",
       "  'score': np.float32(0.99966085),\n",
       "  'word': 'Demis Hassabis',\n",
       "  'start': 13,\n",
       "  'end': 27},\n",
       " {'entity_group': 'PER',\n",
       "  'score': np.float32(0.9971025),\n",
       "  'word': 'Lex Fridman',\n",
       "  'start': 54,\n",
       "  'end': 65},\n",
       " {'entity_group': 'ORG',\n",
       "  'score': np.float32(0.99914956),\n",
       "  'word': 'Meta',\n",
       "  'start': 79,\n",
       "  'end': 83},\n",
       " {'entity_group': 'MISC',\n",
       "  'score': np.float32(0.9862601),\n",
       "  'word': 'AI',\n",
       "  'start': 150,\n",
       "  'end': 152},\n",
       " {'entity_group': 'ORG',\n",
       "  'score': np.float32(0.99918956),\n",
       "  'word': 'Meta Superintelligence Labs',\n",
       "  'start': 183,\n",
       "  'end': 210},\n",
       " {'entity_group': 'PER',\n",
       "  'score': np.float32(0.99974495),\n",
       "  'word': 'Mark Zuckerberg',\n",
       "  'start': 221,\n",
       "  'end': 236}]"
      ]
     },
     "metadata": {},
     "execution_count": 7
    }
   ],
   "source": [
    "ner_pipeline(\"\"\"DeepMind CEO Demis Hassabis recently suggested on the Lex Fridman podcast that\n",
    "Meta's aggressive hiring spree reflects its attempt to catch up in the AI race\u2014\n",
    "this includes launching Meta Superintelligence Labs under CEO Mark Zuckerberg.\"\"\")"
   ]
  },
  {
   "cell_type": "markdown",
   "id": "14",
   "metadata": {
    "id": "14"
   },
   "source": [
    "### \ud83d\udcdd EXERCISE 1: Extract Entities from Your Own Text (5-7 minutes)\n",
    "\n",
    "\n",
    "**Your task:**\n",
    "1. Create a sentence or short paragraph with at least 3 named entities (people, organizations, or locations)\n",
    "   - Example: \"Microsoft CEO Satya Nadella announced new AI features in Seattle.\"\n",
    "2. Run the NER pipeline on your text\n",
    "3. Print the detected entities with their types (PER, ORG, LOC)\n",
    "4. Analyze: Did the model correctly identify all entities? Were there any mistakes?\n",
    "\n"
   ]
  },
  {
   "cell_type": "code",
   "execution_count": 8,
   "id": "15",
   "metadata": {
    "id": "15"
   },
   "outputs": [],
   "source": [
    "# YOUR CODE HERE\n"
   ]
  },
  {
   "cell_type": "markdown",
   "id": "16",
   "metadata": {
    "id": "16"
   },
   "source": [
    "# 2. Enhancing Semantic Search with NER\n",
    "\n",
    "Now that we've seen how NER can automatically highlight people, places or organizations in text, let\u2019s put it to work in a real search scenario.\n",
    "\n",
    "Imagine a tech article search platform. Users can type questions like \"How to learn NLP?\" or \"Best Python libraries for deep learning\". The system first finds articles semantically related to the question (so synonyms work), but it also uses Named Entity Recognition to find important terms (like \"NLP\", \"Python\", \"PyTorch\") and **filters results to only include articles that mention those entities**. This means if someone searches \"NLP with PyTorch\", they won\u2019t get generic NLP articles but **they\u2019ll get ones specifically mentioning PyTorch**.\n",
    "\n",
    "That\u2019s exactly what we\u2019ll build in the upcoming demo. Here are the steps we'll follow:\n",
    "\n",
    "1. Load and **preprocess the dataset** - we\u2019ll reuse the Medium dataset containing tech articles\n",
    "2. **Extract named entities** from each article using a NER model\n",
    "3. **Build metadata** that includes those entities along with other useful fields like title, authors and year\n",
    "4. **Generate embeddings** for each article\n",
    "\n",
    "Finally, we\u2019ll upsert everything into Pinecone. When we'll be querying the database, Pinecone will combine both to return results:\n",
    "- **Vector similarity** (to capture semantic meaning)\n",
    "- and **Entity metadata filters** (to narrow results to those mentioning specific terms)\n",
    "\n",
    "\n",
    "\n"
   ]
  },
  {
   "cell_type": "markdown",
   "id": "17",
   "metadata": {
    "id": "17"
   },
   "source": [
    "## 2.1 Loading and Preprocessing the Dataset\n",
    "\n",
    "The first step is loading the dataset and preprocessing of some of the columns - cleaning text, parsing lists (for columns \"authors\" and \"tags\"), creating new columns \"timestamp_iso\" and \"year\", removing missing value and creating unique identifiers for each article."
   ]
  },
  {
   "cell_type": "code",
   "execution_count": 34,
   "id": "18",
   "metadata": {
    "id": "18"
   },
   "outputs": [],
   "source": [
    "# Loading\n",
    "data = pd.read_csv(\"articles.csv\")"
   ]
  },
  {
   "cell_type": "code",
   "execution_count": 35,
   "metadata": {
    "colab": {
     "base_uri": "https://localhost:8080/"
    },
    "id": "XGyJd0I83Z1b",
    "outputId": "bbb6abdc-2147-4a43-ca15-045fe2e3d607"
   },
   "outputs": [
    {
     "output_type": "stream",
     "name": "stdout",
     "text": [
      "Original dataset size: 2,500 articles\n",
      "Memory usage: 28.61 MB\n",
      "\n",
      "\u2713 Created random sample\n",
      "\n",
      "Sampled dataset size: 250 articles\n",
      "Memory usage: 2.79 MB\n",
      "\n",
      "\ud83d\udca1 Tip: Adjust SAMPLE_SIZE variable above to change sample size\n"
     ]
    }
   ],
   "source": [
    "# Dataset Sampling for Faster Processing\n",
    "# -------------------------------------\n",
    "# The full dataset is very large and entity extraction can take significant time.\n",
    "# We'll create a representative sample that maintains the diversity of the data\n",
    "# while reducing processing time for demonstration purposes.\n",
    "\n",
    "print(f\"Original dataset size: {len(data):,} articles\")\n",
    "print(f\"Memory usage: {data.memory_usage(deep=True).sum() / 1024**2:.2f} MB\\n\")\n",
    "\n",
    "# Create a stratified sample if 'category' column exists, otherwise random sample\n",
    "SAMPLE_SIZE = 250  # Adjust this number based on your needs\n",
    "\n",
    "if len(data) > SAMPLE_SIZE:\n",
    "    # Try stratified sampling by category if available\n",
    "    if 'category' in data.columns:\n",
    "        # Sample proportionally from each category to maintain distribution\n",
    "        data = data.groupby('category', group_keys=False).apply(\n",
    "            lambda x: x.sample(min(len(x), max(1, int(SAMPLE_SIZE * len(x) / len(data)))),\n",
    "                              random_state=42)\n",
    "        ).reset_index(drop=True)\n",
    "        print(f\"\u2713 Created stratified sample maintaining category distribution\")\n",
    "    else:\n",
    "        # Random sampling\n",
    "        data = data.sample(n=SAMPLE_SIZE, random_state=42).reset_index(drop=True)\n",
    "        print(f\"\u2713 Created random sample\")\n",
    "\n",
    "    print(f\"\\nSampled dataset size: {len(data):,} articles\")\n",
    "    print(f\"Memory usage: {data.memory_usage(deep=True).sum() / 1024**2:.2f} MB\")\n",
    "    print(f\"\\n\ud83d\udca1 Tip: Adjust SAMPLE_SIZE variable above to change sample size\")\n",
    "else:\n",
    "    print(f\"Dataset is already small ({len(data)} articles), no sampling needed.\")"
   ],
   "id": "XGyJd0I83Z1b"
  },
  {
   "cell_type": "code",
   "execution_count": 36,
   "id": "19",
   "metadata": {
    "id": "19"
   },
   "outputs": [],
   "source": [
    "def _safe_literal_eval(x):\n",
    "    # Parsing a Python-literal string to a Python object\n",
    "    if isinstance(x, str):\n",
    "        try:\n",
    "            return ast.literal_eval(x)\n",
    "        except (ValueError, SyntaxError):\n",
    "            return x\n",
    "    return x\n",
    "\n",
    "def preprocess_articles(df: pd.DataFrame) -> pd.DataFrame:\n",
    "    dataset = data.copy()\n",
    "\n",
    "    # \"text\" column: ensuring \"text\" is a stripped string\n",
    "    if \"text\" in dataset.columns:\n",
    "        dataset[\"text\"] = dataset[\"text\"].astype(str).str.strip()\n",
    "\n",
    "    # Parsing columns \"tags\" and \"authors\" into Python lists\n",
    "    if \"tags\" in dataset.columns:\n",
    "        dataset[\"tags\"] = dataset[\"tags\"].apply(_safe_literal_eval)\n",
    "    if \"authors\" in dataset.columns:\n",
    "        def _to_list(x):\n",
    "            if isinstance(x, list):\n",
    "                return x\n",
    "            if pd.notna(x):\n",
    "                parsed = _safe_literal_eval(x)\n",
    "                return parsed if isinstance(parsed, list) else [str(parsed)]\n",
    "            return []\n",
    "        dataset[\"authors\"] = dataset[\"authors\"].apply(_to_list)\n",
    "\n",
    "    # Converting \"timestamp\" to pandas datetime objects. Creating new columns \"timestamp_iso\" and \"year\"\n",
    "    if \"timestamp\" in dataset.columns:\n",
    "        ts = pd.to_datetime(dataset[\"timestamp\"], utc=True, format=\"mixed\", errors=\"coerce\")\n",
    "        dataset[\"timestamp_iso\"] = ts.dt.strftime(\"%Y-%m-%dT%H:%M:%SZ\")\n",
    "        dataset[\"year\"] = ts.dt.year.astype(\"Int64\")\n",
    "\n",
    "    return dataset"
   ]
  },
  {
   "cell_type": "code",
   "execution_count": 37,
   "id": "20",
   "metadata": {
    "id": "20"
   },
   "outputs": [],
   "source": [
    "# Calling preprocess_articles function\n",
    "clean_data = preprocess_articles(data)"
   ]
  },
  {
   "cell_type": "code",
   "execution_count": 38,
   "id": "21",
   "metadata": {
    "id": "21",
    "outputId": "33f4d76a-d9af-486c-8e58-c17af51555a3",
    "colab": {
     "base_uri": "https://localhost:8080/",
     "height": 230
    }
   },
   "outputs": [
    {
     "output_type": "execute_result",
     "data": {
      "text/plain": [
       "   Unnamed: 0                                              title  \\\n",
       "0        5804  Anti-maskers Pushing for Herd Immunity Just Wa...   \n",
       "1        4526  Six Wrong Predictions Reported By the New York...   \n",
       "\n",
       "                                                text  \\\n",
       "0  They just want minorities gone\\n\\nAmong the mi...   \n",
       "1  The New York Times is one of the prominent Ame...   \n",
       "\n",
       "                                                 url            authors  \\\n",
       "0  https://medium.com/discourse/anti-maskers-who-...  [Henner Townlove]   \n",
       "1  https://medium.com/swlh/six-wrong-predictions-...   [Mass\u00f9od Hemmat]   \n",
       "\n",
       "                          timestamp  \\\n",
       "0  2020-10-16 08:21:23.109000+00:00   \n",
       "1  2020-12-15 19:03:49.558000+00:00   \n",
       "\n",
       "                                                tags         timestamp_iso  \\\n",
       "0  [Minorities, BlackLivesMatter, Racism, Herd Im...  2020-10-16T08:21:23Z   \n",
       "1  [The New York Times, Predictions, Journalism, ...  2020-12-15T19:03:49Z   \n",
       "\n",
       "   year  \n",
       "0  2020  \n",
       "1  2020  "
      ],
      "text/html": [
       "\n",
       "  <div id=\"df-04f414fe-be27-43d0-853f-2f7b167402ea\" class=\"colab-df-container\">\n",
       "    <div>\n",
       "<style scoped>\n",
       "    .dataframe tbody tr th:only-of-type {\n",
       "        vertical-align: middle;\n",
       "    }\n",
       "\n",
       "    .dataframe tbody tr th {\n",
       "        vertical-align: top;\n",
       "    }\n",
       "\n",
       "    .dataframe thead th {\n",
       "        text-align: right;\n",
       "    }\n",
       "</style>\n",
       "<table border=\"1\" class=\"dataframe\">\n",
       "  <thead>\n",
       "    <tr style=\"text-align: right;\">\n",
       "      <th></th>\n",
       "      <th>Unnamed: 0</th>\n",
       "      <th>title</th>\n",
       "      <th>text</th>\n",
       "      <th>url</th>\n",
       "      <th>authors</th>\n",
       "      <th>timestamp</th>\n",
       "      <th>tags</th>\n",
       "      <th>timestamp_iso</th>\n",
       "      <th>year</th>\n",
       "    </tr>\n",
       "  </thead>\n",
       "  <tbody>\n",
       "    <tr>\n",
       "      <th>0</th>\n",
       "      <td>5804</td>\n",
       "      <td>Anti-maskers Pushing for Herd Immunity Just Wa...</td>\n",
       "      <td>They just want minorities gone\\n\\nAmong the mi...</td>\n",
       "      <td>https://medium.com/discourse/anti-maskers-who-...</td>\n",
       "      <td>[Henner Townlove]</td>\n",
       "      <td>2020-10-16 08:21:23.109000+00:00</td>\n",
       "      <td>[Minorities, BlackLivesMatter, Racism, Herd Im...</td>\n",
       "      <td>2020-10-16T08:21:23Z</td>\n",
       "      <td>2020</td>\n",
       "    </tr>\n",
       "    <tr>\n",
       "      <th>1</th>\n",
       "      <td>4526</td>\n",
       "      <td>Six Wrong Predictions Reported By the New York...</td>\n",
       "      <td>The New York Times is one of the prominent Ame...</td>\n",
       "      <td>https://medium.com/swlh/six-wrong-predictions-...</td>\n",
       "      <td>[Mass\u00f9od Hemmat]</td>\n",
       "      <td>2020-12-15 19:03:49.558000+00:00</td>\n",
       "      <td>[The New York Times, Predictions, Journalism, ...</td>\n",
       "      <td>2020-12-15T19:03:49Z</td>\n",
       "      <td>2020</td>\n",
       "    </tr>\n",
       "  </tbody>\n",
       "</table>\n",
       "</div>\n",
       "    <div class=\"colab-df-buttons\">\n",
       "\n",
       "  <div class=\"colab-df-container\">\n",
       "    <button class=\"colab-df-convert\" onclick=\"convertToInteractive('df-04f414fe-be27-43d0-853f-2f7b167402ea')\"\n",
       "            title=\"Convert this dataframe to an interactive table.\"\n",
       "            style=\"display:none;\">\n",
       "\n",
       "  <svg xmlns=\"http://www.w3.org/2000/svg\" height=\"24px\" viewBox=\"0 -960 960 960\">\n",
       "    <path d=\"M120-120v-720h720v720H120Zm60-500h600v-160H180v160Zm220 220h160v-160H400v160Zm0 220h160v-160H400v160ZM180-400h160v-160H180v160Zm440 0h160v-160H620v160ZM180-180h160v-160H180v160Zm440 0h160v-160H620v160Z\"/>\n",
       "  </svg>\n",
       "    </button>\n",
       "\n",
       "  <style>\n",
       "    .colab-df-container {\n",
       "      display:flex;\n",
       "      gap: 12px;\n",
       "    }\n",
       "\n",
       "    .colab-df-convert {\n",
       "      background-color: #E8F0FE;\n",
       "      border: none;\n",
       "      border-radius: 50%;\n",
       "      cursor: pointer;\n",
       "      display: none;\n",
       "      fill: #1967D2;\n",
       "      height: 32px;\n",
       "      padding: 0 0 0 0;\n",
       "      width: 32px;\n",
       "    }\n",
       "\n",
       "    .colab-df-convert:hover {\n",
       "      background-color: #E2EBFA;\n",
       "      box-shadow: 0px 1px 2px rgba(60, 64, 67, 0.3), 0px 1px 3px 1px rgba(60, 64, 67, 0.15);\n",
       "      fill: #174EA6;\n",
       "    }\n",
       "\n",
       "    .colab-df-buttons div {\n",
       "      margin-bottom: 4px;\n",
       "    }\n",
       "\n",
       "    [theme=dark] .colab-df-convert {\n",
       "      background-color: #3B4455;\n",
       "      fill: #D2E3FC;\n",
       "    }\n",
       "\n",
       "    [theme=dark] .colab-df-convert:hover {\n",
       "      background-color: #434B5C;\n",
       "      box-shadow: 0px 1px 3px 1px rgba(0, 0, 0, 0.15);\n",
       "      filter: drop-shadow(0px 1px 2px rgba(0, 0, 0, 0.3));\n",
       "      fill: #FFFFFF;\n",
       "    }\n",
       "  </style>\n",
       "\n",
       "    <script>\n",
       "      const buttonEl =\n",
       "        document.querySelector('#df-04f414fe-be27-43d0-853f-2f7b167402ea button.colab-df-convert');\n",
       "      buttonEl.style.display =\n",
       "        google.colab.kernel.accessAllowed ? 'block' : 'none';\n",
       "\n",
       "      async function convertToInteractive(key) {\n",
       "        const element = document.querySelector('#df-04f414fe-be27-43d0-853f-2f7b167402ea');\n",
       "        const dataTable =\n",
       "          await google.colab.kernel.invokeFunction('convertToInteractive',\n",
       "                                                    [key], {});\n",
       "        if (!dataTable) return;\n",
       "\n",
       "        const docLinkHtml = 'Like what you see? Visit the ' +\n",
       "          '<a target=\"_blank\" href=https://colab.research.google.com/notebooks/data_table.ipynb>data table notebook</a>'\n",
       "          + ' to learn more about interactive tables.';\n",
       "        element.innerHTML = '';\n",
       "        dataTable['output_type'] = 'display_data';\n",
       "        await google.colab.output.renderOutput(dataTable, element);\n",
       "        const docLink = document.createElement('div');\n",
       "        docLink.innerHTML = docLinkHtml;\n",
       "        element.appendChild(docLink);\n",
       "      }\n",
       "    </script>\n",
       "  </div>\n",
       "\n",
       "\n",
       "    <div id=\"df-1286367f-3603-49f8-8f4a-2c3a4d356bf5\">\n",
       "      <button class=\"colab-df-quickchart\" onclick=\"quickchart('df-1286367f-3603-49f8-8f4a-2c3a4d356bf5')\"\n",
       "                title=\"Suggest charts\"\n",
       "                style=\"display:none;\">\n",
       "\n",
       "<svg xmlns=\"http://www.w3.org/2000/svg\" height=\"24px\"viewBox=\"0 0 24 24\"\n",
       "     width=\"24px\">\n",
       "    <g>\n",
       "        <path d=\"M19 3H5c-1.1 0-2 .9-2 2v14c0 1.1.9 2 2 2h14c1.1 0 2-.9 2-2V5c0-1.1-.9-2-2-2zM9 17H7v-7h2v7zm4 0h-2V7h2v10zm4 0h-2v-4h2v4z\"/>\n",
       "    </g>\n",
       "</svg>\n",
       "      </button>\n",
       "\n",
       "<style>\n",
       "  .colab-df-quickchart {\n",
       "      --bg-color: #E8F0FE;\n",
       "      --fill-color: #1967D2;\n",
       "      --hover-bg-color: #E2EBFA;\n",
       "      --hover-fill-color: #174EA6;\n",
       "      --disabled-fill-color: #AAA;\n",
       "      --disabled-bg-color: #DDD;\n",
       "  }\n",
       "\n",
       "  [theme=dark] .colab-df-quickchart {\n",
       "      --bg-color: #3B4455;\n",
       "      --fill-color: #D2E3FC;\n",
       "      --hover-bg-color: #434B5C;\n",
       "      --hover-fill-color: #FFFFFF;\n",
       "      --disabled-bg-color: #3B4455;\n",
       "      --disabled-fill-color: #666;\n",
       "  }\n",
       "\n",
       "  .colab-df-quickchart {\n",
       "    background-color: var(--bg-color);\n",
       "    border: none;\n",
       "    border-radius: 50%;\n",
       "    cursor: pointer;\n",
       "    display: none;\n",
       "    fill: var(--fill-color);\n",
       "    height: 32px;\n",
       "    padding: 0;\n",
       "    width: 32px;\n",
       "  }\n",
       "\n",
       "  .colab-df-quickchart:hover {\n",
       "    background-color: var(--hover-bg-color);\n",
       "    box-shadow: 0 1px 2px rgba(60, 64, 67, 0.3), 0 1px 3px 1px rgba(60, 64, 67, 0.15);\n",
       "    fill: var(--button-hover-fill-color);\n",
       "  }\n",
       "\n",
       "  .colab-df-quickchart-complete:disabled,\n",
       "  .colab-df-quickchart-complete:disabled:hover {\n",
       "    background-color: var(--disabled-bg-color);\n",
       "    fill: var(--disabled-fill-color);\n",
       "    box-shadow: none;\n",
       "  }\n",
       "\n",
       "  .colab-df-spinner {\n",
       "    border: 2px solid var(--fill-color);\n",
       "    border-color: transparent;\n",
       "    border-bottom-color: var(--fill-color);\n",
       "    animation:\n",
       "      spin 1s steps(1) infinite;\n",
       "  }\n",
       "\n",
       "  @keyframes spin {\n",
       "    0% {\n",
       "      border-color: transparent;\n",
       "      border-bottom-color: var(--fill-color);\n",
       "      border-left-color: var(--fill-color);\n",
       "    }\n",
       "    20% {\n",
       "      border-color: transparent;\n",
       "      border-left-color: var(--fill-color);\n",
       "      border-top-color: var(--fill-color);\n",
       "    }\n",
       "    30% {\n",
       "      border-color: transparent;\n",
       "      border-left-color: var(--fill-color);\n",
       "      border-top-color: var(--fill-color);\n",
       "      border-right-color: var(--fill-color);\n",
       "    }\n",
       "    40% {\n",
       "      border-color: transparent;\n",
       "      border-right-color: var(--fill-color);\n",
       "      border-top-color: var(--fill-color);\n",
       "    }\n",
       "    60% {\n",
       "      border-color: transparent;\n",
       "      border-right-color: var(--fill-color);\n",
       "    }\n",
       "    80% {\n",
       "      border-color: transparent;\n",
       "      border-right-color: var(--fill-color);\n",
       "      border-bottom-color: var(--fill-color);\n",
       "    }\n",
       "    90% {\n",
       "      border-color: transparent;\n",
       "      border-bottom-color: var(--fill-color);\n",
       "    }\n",
       "  }\n",
       "</style>\n",
       "\n",
       "      <script>\n",
       "        async function quickchart(key) {\n",
       "          const quickchartButtonEl =\n",
       "            document.querySelector('#' + key + ' button');\n",
       "          quickchartButtonEl.disabled = true;  // To prevent multiple clicks.\n",
       "          quickchartButtonEl.classList.add('colab-df-spinner');\n",
       "          try {\n",
       "            const charts = await google.colab.kernel.invokeFunction(\n",
       "                'suggestCharts', [key], {});\n",
       "          } catch (error) {\n",
       "            console.error('Error during call to suggestCharts:', error);\n",
       "          }\n",
       "          quickchartButtonEl.classList.remove('colab-df-spinner');\n",
       "          quickchartButtonEl.classList.add('colab-df-quickchart-complete');\n",
       "        }\n",
       "        (() => {\n",
       "          let quickchartButtonEl =\n",
       "            document.querySelector('#df-1286367f-3603-49f8-8f4a-2c3a4d356bf5 button');\n",
       "          quickchartButtonEl.style.display =\n",
       "            google.colab.kernel.accessAllowed ? 'block' : 'none';\n",
       "        })();\n",
       "      </script>\n",
       "    </div>\n",
       "\n",
       "    </div>\n",
       "  </div>\n"
      ],
      "application/vnd.google.colaboratory.intrinsic+json": {
       "type": "dataframe",
       "variable_name": "clean_data",
       "summary": "{\n  \"name\": \"clean_data\",\n  \"rows\": 250,\n  \"fields\": [\n    {\n      \"column\": \"Unnamed: 0\",\n      \"properties\": {\n        \"dtype\": \"number\",\n        \"std\": 2718,\n        \"min\": 231,\n        \"max\": 9995,\n        \"num_unique_values\": 250,\n        \"samples\": [\n          4533,\n          6325,\n          7022\n        ],\n        \"semantic_type\": \"\",\n        \"description\": \"\"\n      }\n    },\n    {\n      \"column\": \"title\",\n      \"properties\": {\n        \"dtype\": \"string\",\n        \"num_unique_values\": 250,\n        \"samples\": [\n          \"4 Books by Caribbean Authors You Should Read\",\n          \"The Hoax that Inspired AI: The Mechanical Turk\",\n          \"Stop Burying Digital Advertising\"\n        ],\n        \"semantic_type\": \"\",\n        \"description\": \"\"\n      }\n    },\n    {\n      \"column\": \"text\",\n      \"properties\": {\n        \"dtype\": \"string\",\n        \"num_unique_values\": 250,\n        \"samples\": [\n          \"June is recognized as Caribbean-American Heritage Month. It is a time to recognize the significance of Caribbean people and their descendants in US history and culture. One way to learn about Caribbean influence, not just in the US, but globally, is through books. Hence my writing this post to encourage you to purchase and read books by Caribbean authors or authors of Caribbean heritage.\\n\\nThese Ghosts Are Family by Maisy Card\\n\\nThese Ghosts Are Family is a transgenerational family sage spanning over 200 years that details the ripple effect of ancestral decisions on present-day life.\\n\\nThe novel begins by revealing that Stanford Solomon is actually Abel Paisley, a man who faked his own death and stole the identity of his best friend.\\n\\nAnd now, nearing the end of his life, Stanford is about to meet his firstborn daughter, Irene Paisley, a home health aide who has shown up for her first day of work to tend to the father she thought was dead.\\n\\nThese Ghosts Are Family revolves around the consequences of Abel\\u2019s decision and tells the story of the Paisley family from colonial Jamaica to present-day Harlem.\\n\\nThe story of each member of the family was very unique as they try to create an identity outside of their family history and trauma. I haven\\u2019t read much about slavery in Jamaica, so it was \\u201cinteresting\\u201d and educational to read this. We often learn about the life of slaves in the American South, but not so much in the Caribbean so the book opened my eyes to the experiences of slaves in Jamaican plantations. I did feel like the book jumped around a lot between generations and character, so it was a little difficult to follow at first. However, once I got used to the structure it flowed much smoother.\\n\\n\\u201cEven though they were just words, they built a world that she couldn\\u2019t stop thinking about, that she felt trapped inside every night.\\u201d\\n\\nSurge by Jay Bernard\\n\\nImage by Uju Onyishi\\n\\nSurge is a collection of poems about the 1981 New Cross Fire, a house fire at a birthday party in south London that killed thirteen people all of whom were Black. The fire was initially believed to be a racist attack, but there was a sense of indifference from the police, the government and the press.\\n\\nThe collection also talks about the Grenfell fire on 14th June 2017. A case where institutional indifference to working-class lives left 72 people dead. The lack of justice and accountability in both cases exemplify Britain\\u2019s racist past and present.\\n\\nThe collection begins with the arrival of the Windrush Generation into Britain, followed by the New Cross Fire and then into present-day. The first few poems are told through the voices of ghosts and then it goes into real bodies. There was a lot of shifts in perspectives both between and within poems and that was done so effortlessly. I really enjoyed reading the collection. Some of the poems really spoke to me. But there were some that I didn\\u2019t quite understand (the struggles of reading poetry), though I was able to find some Youtube videos where Bernard reads and discusses the poems and that was extremely beneficial.\\n\\n\\u201cMe seh blood ah goh run for di pain of di loss\\u201d\\n\\nThe Perseverance by Raymond Antrobus\\n\\nImage by Uju Onyishi\\n\\nThe Perseverance is a collection of poems about the D/deaf experience in a hearing world, the author\\u2019s identity as a British-Jamaican and some poems about his father.\\n\\nReading this collection made me confront a privilege that I have, but hardly ever think about. I don\\u2019t know what else to say about this except that it was powerful and incredible. So much so that less than 12 hours after reading it for the first time I decided to reread the collection.\\n\\n\\u201cProving people wrong is great but tiring.\\u201d\\n\\nQueenie by Candice Carty-Williams\\n\\nImage by Uju Onyishi\\n\\nQueenie is a year in the life of a 25-year-old Black woman of Jamaican heritage living in London. At the start everything is okay. She\\u2019s living with her white boyfriend and has a job she worked hard to get. But then he wants to go on a break, so Queenie has to move out. And let\\u2019s just say she did not handle the break well.\\n\\nShe starts doing badly at work and having unprotected sex with various guys that showed her no respect. As the story goes on we learn that she experienced some childhood trauma that completely destroyed her self esteem and self-regard. And because of that, her default is self-sabotage.\\n\\nThe book touches on so many heavy topics including racism in Britain, micro-aggressions in the workplace, complicated family dynamics, the fetishization of the Black woman\\u2019s body and mental health issues. It did a good job in portraying the stigma surrounding going to therapy in the Black community. I also liked that Carty-Williams did not rush Queenie\\u2019s healing process. The story flowed so smoothly and it was written so vividly.\\n\\nI was really rooting for Queenie, but I couldn\\u2019t help but be annoyed by a lot of her actions. She is also such a contradictory character but the fact that she is such a flawed character make things more realistic. She stays current on the issues of police brutality and the Black Lives Matter movement but then she harbours so much self-hate and allows her body to be used by white men that just don\\u2019t care about her. Oh and don\\u2019t get me started on her relationship with Black men. It just goes show hoe white supremacist ideologies are so deeply rooted in our subconscious.\\n\\nI can\\u2019t recommend this book enough.\",\n          \"Artificial Intelligence. These two words spark a variety of emotions in today\\u2019s culture. For many, they flicker fear: fear of lost jobs, greater dependence on technology, and even fears spurred by science-fiction films imagining a future of robot overlords. Some members of the population view artificial intelligence with hopeful anticipation. They envision a world of greater relaxation spent pursuing projects of cultural and artistic significance free from the more mundane aspects of life on earth. Whichever vision you prefer, AI has changed daily life and appears to be shaping life for generations to come.\\n\\nDespite the plethora of views, most remain unaware of the hoax that inspired AI over 200 years ago.\\n\\nAs with all great stories, ours will begin in an 18th century palace. Empress Maria Theresa, ruler of Austria, appreciated a good magician. On frequent occasions, she invited only the best and brightest of the trade to entertain in her court. It was in Austria\\u2019s Schonbrunn Palace, in 1770, that yet another illusionist awed his observers. Yet, one audience member wasn\\u2019t impressed. Baron Wolfgang von Kempelen, an inventor specializing in physics, hydraulics, and mechanics, knew he could do better and he told the Empress so. Empress Maria gave the Baron six months to invent a device that could top any magician\\u2019s act (Garfinkel and Grunspan 36). Kempelen took the challenge, creating a device he claimed could beat any of the best human chess masters in the world (Garfinkel and Grunspan 36).\\n\\nAs a modern observer, let\\u2019s take a step back. Machines that play chess are not uncommon to us, but the year was 1770, and digital computers of complex operation had not yet been invented.\\n\\nWhen Baron Wolfgang introduced his device, he convinced the world that the device could play chess and respond to an unpredictable human using only mechanical means.\\n\\nHis contraption used a variety of gears, pulleys, hydraulics, and a simple crank (\\u201cMeet the Mechanical Turk\\u2026\\u201d).\\n\\nThe device involved a desk of sorts, behind which sat a wooden man in oriential dress. Under the desk was housed all of the mechanics. Kempelen went to great lengths to illustrate that his device was true to his claim. He always began a performance by opening small doors in the desk showing the opponent his device\\u2019s inner workings, convincing them it was in fact operated solely by mechanical means (Walter, \\u201cThe Mechanical Turk\\u2026\\u201d). Baron Wolfgang called his device the Automaton Chess Player (Eschner, \\u201cDebunking the Mechanical\\u2026\\u201d), later it came to be known as the \\u201cMechanical Turk.\\u201d\\n\\nTruth be told, the device impressed the Empress and baffled nearly every opponent it played.\\n\\nThe Mechanical Turk was good, almost too good.\\n\\nKempelen and its later owner, Johann Nepomuk M\\u00e4lzel (Fourtane, \\u201cThe Turk\\u2026\\u201d), took the Chess Player on a worldwide tour where it beat US ambassador Benjamin Franklin and poet Edgar Allen Poe (Garfinkel and Grunspan 36). Even Napoleon Bonaparte played the Mechanical Turk. He attempted a number of illegal moves and the Turk responded by moving the pieces back to their original locations. Eventually, the Turk had enough of Napoleon\\u2019s cheats and swept every piece from the board (Garfinkel and Grunspan 36).\\n\\nThe technology Kempelen claimed to have invented, \\u201ca thinking machine,\\u201d was unbelievable. As confused as many were, most refused to believe that the Mechanical Turk was truly operating by itself. Many believed that the device was operated by a human, but nobody could figure out how it was operated. A variety of theories abounded. Some believed that it was operated by thin wires and strong magnets from a distance, a trained monkey, or even evil spirits (\\u201cThe Mechanical Turk: AI\\u2026\\u201d). Edgar Allen Poe personally believed that it worked via a small human who crawled into the body of the wooden Turk (Eschner, \\u201cDebunking the Mechanical\\u2026\\u201d).\\n\\nAlthough the real operation of the Chess Player was a marvel of hidden engineering, it was indeed a hoax. A human operator was hidden inside the device. The Museum of Hoaxes reports on the real \\u201cmagic:\\u201d\\n\\nA series of sliding panels and a rolling chair allowed the automaton\\u2019s operator to hide while the interior of the machine was being displayed. The operator then controlled the Turk by means of a \\u2018pantograph\\u2019 device that synchronized his arm movements with those of the wooden Turk. Magnetic chess pieces allowed him to know what pieces were being moved on the board above his head (Museum of Hoaxes as quoted in Eschner, \\u201cDebunking the Mechanical\\u2026\\u201d).\\n\\nAfter befuddling and confounding many around the world over the course of 84 years, the Mechanical Turk was lost during a fire in the Chinese Museum of Philadelphia in 1854 (Fourtane, \\u201cThe Turk\\u2026\\u201d).\\n\\nAlthough the chess playing Mechanical Turk was a hoax and an illusion, many were inspired by the idea.\\n\\nEdgar Allen Poe was inspired to write his own hoax and detective stories, \\u201cmost famously the Balloon-Hoax of 1844, in which he wrote a series of fictionalized newspaper articles about a three-day trans-Atlantic balloon flight\\u201d (Eschner, \\u201cDebunking the Mechanical\\u2026\\u201d).\\n\\nOne man, Charles Babbage, was also inspired by the Turk. Babbage was an early computer scientist, creating the Analytical Engine which was really the first general purpose computer (Walter, \\u201cThe Mechanical Turk\\u2026\\u201d). Although quick to call the device a hoax \\u2014 after he was beaten twice by the Mechanical Turk \\u2014 he envisioned a future where a real device could beat a human chess player (Walter, \\u201cThe Mechanical Turk\\u2026\\u201d).\\n\\nHis dream saw reality in 1997 when IBM\\u2019s Deep Blue computer beat world-chess master Garry Kasparov (Greenemeier, \\u201c20 Years after\\u2026\\u201d).\\n\\nThe Mechanical Turk wasn\\u2019t artificial intelligence, but it sparked the thought for the first time. What if a device could mimic human thought? What would that device do? How would that device function? These are questions still being answered today.\\n\\nIn 2005 Amazon honored the legacy of the Mechanical Turk, by naming its new service after the device that sparked artificial intelligence (Schwartz, \\u201cUntold History\\u2026\\u201d). As Amazon grew, it realized it needed mundane tasks completed that, strangely, could not be completed by a computer. Just like the Turk was operated by a human appearing as a mechanical device, Amazon\\u2019s Mechanical Turk (or mTurk for short) is using humans to accomplish tasks by mimicking the appearance of a computer. Amazon Founder and CEO, Jeff Bezos, calls it \\u201cartificial artificial intelligence\\u201d (Schwartz, \\u201cUntold History\\u2026\\u201d). Human operators, any human on the Internet, can be paid to accomplish tasks via mTurk. To learn more about mTurk, visit Amazon\\u2019s website. However, if you think you\\u2019ve found a sweet new gig online, consider reading The Atlantic\\u2019s 2018 article.\\n\\nThe future of AI is still very much uncharted, but the research looks promising.\\n\\nAlready, AI is creating new kinds of data that offer life-altering insights into health and life on earth. AI is making cars and roads safer and allowing humans greater time to relax and pursue projects of interest and worldwide benefit. Given AI\\u2019s impact on our world and its promise for the future, we\\u2019ll be revisiting this topic significantly on our journey through the history of computers.\\n\\nThe Mechanical Turk was an elaborate hoax, yet it sparked inspiration for a new kind of technology that is still altering our world and lives. The Mechanical Turk is the eleventh major milestone in the history of computing.\\n\\nMore on the History of Computers:\",\n          \"A case for moving digital advertising up the funnel\\n\\nOriginally published at InsideHigherEd.com\\n\\nBy 2020, more than $117 billion will be spent on digital and mobile advertising in the U.S. And as marketing budgets continue to increase across our industry, the investment in digital advertising will likely continue to grow, as well.\\n\\nAs I survey our industry\\u2019s digital advertising output, it is clear that the bulk of ad dollars are going to direct response ads, those middle-of-the-funnel type.\\n\\nIs this the best strategy?\\n\\nThere is power in closely aligning digital (as well as social) advertising with traditional marketing efforts. To me, there is an obvious place for digital advertising in the marketing mix, but do we need to scrape the bottom of the supply-side barrel to increase digital metrics or only maintain a direct response approach?\\n\\nLess Direct\\n\\n\\u201cYou\\u2019re more likely to be accepted into Harvard than click on a banner.\\u201d \\u2014 \\u201cBanner Beater\\u201d\\n\\nMarketers enjoy a 0.05 percent click-through-rate across all industries. Why design for the less than one percent? As consumers continue to adopt to rapid media environments, behavior is becoming increasingly passive and content is being consumed in rapid succession. Similarly, there is little evidence, from a business perspective, that clicks are linked to brand impact or sales.\\n\\nDirect response ads rely on conscious consumption and rational messaging to provoke action, which is a lot to ask for when, according to Millward Brown, consumers look at display ads for less than three seconds. We must deliver our messages quickly to be effective. Concurrently, research has shown that 250 milliseconds of exposure on mobile display is enough to gain significant ad recall. Knowing the media environment in which our ads are often viewed, we should shift the mindset that digital advertising shouldn\\u2019t be primarily a conversion-only tactic and given a more brand-building role.\\n\\nTo adopt this approach, here are three principles to consider when developing your next digital advertising campaign.\\n\\nDesign for System One\\n\\n\\u201cWe (marketers) are in a System One business.\\u201d \\u2014 Rory Sutherland\\n\\nDaniel Kahneman introduced how we form thought in Thinking, Fast and Slow. The instinctual System One describes the part of mind that is responsible for fast, automatic and emotional agency. Roughly 80 percent of our decisions are made using System One, including most purchasing decisions. System Two is slower, used to make complex computations and requires attention.\\n\\nDirect response digital advertising relies on System Two and is meant to drive an action. Digital advertising meant to drive brand awareness doesn\\u2019t need active engagement or a unique-selling proposition. They simply need to be distinct enough to be stored as implicit memories and used as a shortcut by System One, knowing that the ads are being processed passively and subconsciously.\\n\\nTo be effective, digital ads should include a direct link to the brand via always-present branding (logo or name). Your logo is a distinctive asset that helps to maintain mental networks, improve saliency and linkage within the communication in the split-second consumers give to an ad. In this case, it might be best to ditch the elaborate research photo for better placement of your logo.\\n\\nInclude Brand Assets\\n\\n\\u201cRather than striving for meaningful perceived differentiation, marketers should seek meaningless distinctiveness. Branding lasts. Differentiation doesn\\u2019t.\\u201d\\u2013 Byron Sharp\\n\\nIn 2009, Tropicana learned the hard way the importance of brand assets. After ditching their distinctive straw-in-orange logo, font and green color pallet, the brand saw sales drop by 22 percent. Distinctive brand assets are unique identity elements of a brand, and it is these brand assets that our brains rely on to make purchasing decisions. Visual elements like fonts, colors and slogans, through repeat exposure, help build familiarity and memory structures related to the brand. The more brand assets you \\u201cown\\u201d the more likely you are to trigger brand memories in and amongst the digital clutter. Check out Ehrenberg-Bass\\u2019s Measure Your Distinctive Assets to assess what assets you should identify.\\n\\nMake it Integrated (And Get Creative)\\n\\n\\u201cUpwards of 50 percent of taps on mobile are on accident.\\u201d \\u2013Google Benchmark\\n\\nA quick survey of moat.com would indicate that many digital campaigns are designed in a vacuum. Digital ads should trigger any brand-level or recruitment campaigns \\u2014 building upon the familiarity of other tactics (i.e. brand assets).\\n\\nThere is also an opportunity to creatively integrate digital campaigns within the broader communications plan. The mere exposure effect indicates digital advertising is a great way to build familiarity before view books or event invites are sent, acting as a priming agent for message comprehension. Research also indicates that digital advertising and television work in synergy to improve campaign effectiveness. Why not build campaigns around television buys or football games? Similarly, why not use digital ads to build familiarity as part of your strategy for attracting prospective students and drive awareness between search campaigns?\\n\\nInstead of spending money on re-targeting, I have found success combining web data and CRM data to plan digital campaigns around moments of intent during the college search process. The data gave us a sense of how far out we needed to begin to build awareness. At the end of each advertising campaign we then used emails to convert and drive middle-of-the-funnel actions.\\n\\nIf we remove ourselves from the confines of using digital ads to drive conversions, we can begin to unlock the creative potential of digital ads playing a role in driving familiarity, which drives fluency and helps improve brand metrics throughout the funnel.\"\n        ],\n        \"semantic_type\": \"\",\n        \"description\": \"\"\n      }\n    },\n    {\n      \"column\": \"url\",\n      \"properties\": {\n        \"dtype\": \"string\",\n        \"num_unique_values\": 250,\n        \"samples\": [\n          \"https://medium.com/the-open-bookshelf/5-books-by-caribbean-authors-you-should-read-4ef0cb084cd4\",\n          \"https://medium.com/tech-is-a-tool/the-hoax-that-inspired-ai-the-mechanical-turk-2914ba2063bf\",\n          \"https://medium.com/chris-huebner/stop-burying-digital-advertising-7e92b93f8c80\"\n        ],\n        \"semantic_type\": \"\",\n        \"description\": \"\"\n      }\n    },\n    {\n      \"column\": \"authors\",\n      \"properties\": {\n        \"dtype\": \"object\",\n        \"semantic_type\": \"\",\n        \"description\": \"\"\n      }\n    },\n    {\n      \"column\": \"timestamp\",\n      \"properties\": {\n        \"dtype\": \"string\",\n        \"num_unique_values\": 250,\n        \"samples\": [\n          \"2020-06-18 11:58:29.978000+00:00\",\n          \"2020-06-06 13:31:01.164000+00:00\",\n          \"2018-12-28 02:07:46.821000+00:00\"\n        ],\n        \"semantic_type\": \"\",\n        \"description\": \"\"\n      }\n    },\n    {\n      \"column\": \"tags\",\n      \"properties\": {\n        \"dtype\": \"object\",\n        \"semantic_type\": \"\",\n        \"description\": \"\"\n      }\n    },\n    {\n      \"column\": \"timestamp_iso\",\n      \"properties\": {\n        \"dtype\": \"object\",\n        \"num_unique_values\": 250,\n        \"samples\": [\n          \"2020-06-18T11:58:29Z\",\n          \"2020-06-06T13:31:01Z\",\n          \"2018-12-28T02:07:46Z\"\n        ],\n        \"semantic_type\": \"\",\n        \"description\": \"\"\n      }\n    },\n    {\n      \"column\": \"year\",\n      \"properties\": {\n        \"dtype\": \"Int64\",\n        \"num_unique_values\": 6,\n        \"samples\": [\n          2020,\n          2019,\n          2015\n        ],\n        \"semantic_type\": \"\",\n        \"description\": \"\"\n      }\n    }\n  ]\n}"
      }
     },
     "metadata": {},
     "execution_count": 38
    }
   ],
   "source": [
    "# Inspect the data\n",
    "clean_data.head(2)"
   ]
  },
  {
   "cell_type": "markdown",
   "id": "22",
   "metadata": {
    "id": "22"
   },
   "source": [
    "We'll also drop missing values and create a new column with unique IDs:"
   ]
  },
  {
   "cell_type": "code",
   "execution_count": 39,
   "id": "23",
   "metadata": {
    "id": "23"
   },
   "outputs": [],
   "source": [
    "# Dropping missing values\n",
    "clean_data.dropna(inplace=True)"
   ]
  },
  {
   "cell_type": "code",
   "execution_count": 40,
   "id": "24",
   "metadata": {
    "id": "24"
   },
   "outputs": [],
   "source": [
    "# Creating unique identifiers\n",
    "clean_data[\"id\"] = clean_data.index.astype(str)"
   ]
  },
  {
   "cell_type": "code",
   "execution_count": 41,
   "id": "25",
   "metadata": {
    "id": "25",
    "outputId": "dccd4656-e7cc-48ff-9196-05a115063a03",
    "colab": {
     "base_uri": "https://localhost:8080/",
     "height": 230
    }
   },
   "outputs": [
    {
     "output_type": "execute_result",
     "data": {
      "text/plain": [
       "   Unnamed: 0                                              title  \\\n",
       "0        5804  Anti-maskers Pushing for Herd Immunity Just Wa...   \n",
       "1        4526  Six Wrong Predictions Reported By the New York...   \n",
       "\n",
       "                                                text  \\\n",
       "0  They just want minorities gone\\n\\nAmong the mi...   \n",
       "1  The New York Times is one of the prominent Ame...   \n",
       "\n",
       "                                                 url            authors  \\\n",
       "0  https://medium.com/discourse/anti-maskers-who-...  [Henner Townlove]   \n",
       "1  https://medium.com/swlh/six-wrong-predictions-...   [Mass\u00f9od Hemmat]   \n",
       "\n",
       "                          timestamp  \\\n",
       "0  2020-10-16 08:21:23.109000+00:00   \n",
       "1  2020-12-15 19:03:49.558000+00:00   \n",
       "\n",
       "                                                tags         timestamp_iso  \\\n",
       "0  [Minorities, BlackLivesMatter, Racism, Herd Im...  2020-10-16T08:21:23Z   \n",
       "1  [The New York Times, Predictions, Journalism, ...  2020-12-15T19:03:49Z   \n",
       "\n",
       "   year id  \n",
       "0  2020  0  \n",
       "1  2020  1  "
      ],
      "text/html": [
       "\n",
       "  <div id=\"df-927acf92-d0d2-4a9b-bcb9-49f5b904343c\" class=\"colab-df-container\">\n",
       "    <div>\n",
       "<style scoped>\n",
       "    .dataframe tbody tr th:only-of-type {\n",
       "        vertical-align: middle;\n",
       "    }\n",
       "\n",
       "    .dataframe tbody tr th {\n",
       "        vertical-align: top;\n",
       "    }\n",
       "\n",
       "    .dataframe thead th {\n",
       "        text-align: right;\n",
       "    }\n",
       "</style>\n",
       "<table border=\"1\" class=\"dataframe\">\n",
       "  <thead>\n",
       "    <tr style=\"text-align: right;\">\n",
       "      <th></th>\n",
       "      <th>Unnamed: 0</th>\n",
       "      <th>title</th>\n",
       "      <th>text</th>\n",
       "      <th>url</th>\n",
       "      <th>authors</th>\n",
       "      <th>timestamp</th>\n",
       "      <th>tags</th>\n",
       "      <th>timestamp_iso</th>\n",
       "      <th>year</th>\n",
       "      <th>id</th>\n",
       "    </tr>\n",
       "  </thead>\n",
       "  <tbody>\n",
       "    <tr>\n",
       "      <th>0</th>\n",
       "      <td>5804</td>\n",
       "      <td>Anti-maskers Pushing for Herd Immunity Just Wa...</td>\n",
       "      <td>They just want minorities gone\\n\\nAmong the mi...</td>\n",
       "      <td>https://medium.com/discourse/anti-maskers-who-...</td>\n",
       "      <td>[Henner Townlove]</td>\n",
       "      <td>2020-10-16 08:21:23.109000+00:00</td>\n",
       "      <td>[Minorities, BlackLivesMatter, Racism, Herd Im...</td>\n",
       "      <td>2020-10-16T08:21:23Z</td>\n",
       "      <td>2020</td>\n",
       "      <td>0</td>\n",
       "    </tr>\n",
       "    <tr>\n",
       "      <th>1</th>\n",
       "      <td>4526</td>\n",
       "      <td>Six Wrong Predictions Reported By the New York...</td>\n",
       "      <td>The New York Times is one of the prominent Ame...</td>\n",
       "      <td>https://medium.com/swlh/six-wrong-predictions-...</td>\n",
       "      <td>[Mass\u00f9od Hemmat]</td>\n",
       "      <td>2020-12-15 19:03:49.558000+00:00</td>\n",
       "      <td>[The New York Times, Predictions, Journalism, ...</td>\n",
       "      <td>2020-12-15T19:03:49Z</td>\n",
       "      <td>2020</td>\n",
       "      <td>1</td>\n",
       "    </tr>\n",
       "  </tbody>\n",
       "</table>\n",
       "</div>\n",
       "    <div class=\"colab-df-buttons\">\n",
       "\n",
       "  <div class=\"colab-df-container\">\n",
       "    <button class=\"colab-df-convert\" onclick=\"convertToInteractive('df-927acf92-d0d2-4a9b-bcb9-49f5b904343c')\"\n",
       "            title=\"Convert this dataframe to an interactive table.\"\n",
       "            style=\"display:none;\">\n",
       "\n",
       "  <svg xmlns=\"http://www.w3.org/2000/svg\" height=\"24px\" viewBox=\"0 -960 960 960\">\n",
       "    <path d=\"M120-120v-720h720v720H120Zm60-500h600v-160H180v160Zm220 220h160v-160H400v160Zm0 220h160v-160H400v160ZM180-400h160v-160H180v160Zm440 0h160v-160H620v160ZM180-180h160v-160H180v160Zm440 0h160v-160H620v160Z\"/>\n",
       "  </svg>\n",
       "    </button>\n",
       "\n",
       "  <style>\n",
       "    .colab-df-container {\n",
       "      display:flex;\n",
       "      gap: 12px;\n",
       "    }\n",
       "\n",
       "    .colab-df-convert {\n",
       "      background-color: #E8F0FE;\n",
       "      border: none;\n",
       "      border-radius: 50%;\n",
       "      cursor: pointer;\n",
       "      display: none;\n",
       "      fill: #1967D2;\n",
       "      height: 32px;\n",
       "      padding: 0 0 0 0;\n",
       "      width: 32px;\n",
       "    }\n",
       "\n",
       "    .colab-df-convert:hover {\n",
       "      background-color: #E2EBFA;\n",
       "      box-shadow: 0px 1px 2px rgba(60, 64, 67, 0.3), 0px 1px 3px 1px rgba(60, 64, 67, 0.15);\n",
       "      fill: #174EA6;\n",
       "    }\n",
       "\n",
       "    .colab-df-buttons div {\n",
       "      margin-bottom: 4px;\n",
       "    }\n",
       "\n",
       "    [theme=dark] .colab-df-convert {\n",
       "      background-color: #3B4455;\n",
       "      fill: #D2E3FC;\n",
       "    }\n",
       "\n",
       "    [theme=dark] .colab-df-convert:hover {\n",
       "      background-color: #434B5C;\n",
       "      box-shadow: 0px 1px 3px 1px rgba(0, 0, 0, 0.15);\n",
       "      filter: drop-shadow(0px 1px 2px rgba(0, 0, 0, 0.3));\n",
       "      fill: #FFFFFF;\n",
       "    }\n",
       "  </style>\n",
       "\n",
       "    <script>\n",
       "      const buttonEl =\n",
       "        document.querySelector('#df-927acf92-d0d2-4a9b-bcb9-49f5b904343c button.colab-df-convert');\n",
       "      buttonEl.style.display =\n",
       "        google.colab.kernel.accessAllowed ? 'block' : 'none';\n",
       "\n",
       "      async function convertToInteractive(key) {\n",
       "        const element = document.querySelector('#df-927acf92-d0d2-4a9b-bcb9-49f5b904343c');\n",
       "        const dataTable =\n",
       "          await google.colab.kernel.invokeFunction('convertToInteractive',\n",
       "                                                    [key], {});\n",
       "        if (!dataTable) return;\n",
       "\n",
       "        const docLinkHtml = 'Like what you see? Visit the ' +\n",
       "          '<a target=\"_blank\" href=https://colab.research.google.com/notebooks/data_table.ipynb>data table notebook</a>'\n",
       "          + ' to learn more about interactive tables.';\n",
       "        element.innerHTML = '';\n",
       "        dataTable['output_type'] = 'display_data';\n",
       "        await google.colab.output.renderOutput(dataTable, element);\n",
       "        const docLink = document.createElement('div');\n",
       "        docLink.innerHTML = docLinkHtml;\n",
       "        element.appendChild(docLink);\n",
       "      }\n",
       "    </script>\n",
       "  </div>\n",
       "\n",
       "\n",
       "    <div id=\"df-7eae1b0b-6da0-403b-beaa-133a5eca3873\">\n",
       "      <button class=\"colab-df-quickchart\" onclick=\"quickchart('df-7eae1b0b-6da0-403b-beaa-133a5eca3873')\"\n",
       "                title=\"Suggest charts\"\n",
       "                style=\"display:none;\">\n",
       "\n",
       "<svg xmlns=\"http://www.w3.org/2000/svg\" height=\"24px\"viewBox=\"0 0 24 24\"\n",
       "     width=\"24px\">\n",
       "    <g>\n",
       "        <path d=\"M19 3H5c-1.1 0-2 .9-2 2v14c0 1.1.9 2 2 2h14c1.1 0 2-.9 2-2V5c0-1.1-.9-2-2-2zM9 17H7v-7h2v7zm4 0h-2V7h2v10zm4 0h-2v-4h2v4z\"/>\n",
       "    </g>\n",
       "</svg>\n",
       "      </button>\n",
       "\n",
       "<style>\n",
       "  .colab-df-quickchart {\n",
       "      --bg-color: #E8F0FE;\n",
       "      --fill-color: #1967D2;\n",
       "      --hover-bg-color: #E2EBFA;\n",
       "      --hover-fill-color: #174EA6;\n",
       "      --disabled-fill-color: #AAA;\n",
       "      --disabled-bg-color: #DDD;\n",
       "  }\n",
       "\n",
       "  [theme=dark] .colab-df-quickchart {\n",
       "      --bg-color: #3B4455;\n",
       "      --fill-color: #D2E3FC;\n",
       "      --hover-bg-color: #434B5C;\n",
       "      --hover-fill-color: #FFFFFF;\n",
       "      --disabled-bg-color: #3B4455;\n",
       "      --disabled-fill-color: #666;\n",
       "  }\n",
       "\n",
       "  .colab-df-quickchart {\n",
       "    background-color: var(--bg-color);\n",
       "    border: none;\n",
       "    border-radius: 50%;\n",
       "    cursor: pointer;\n",
       "    display: none;\n",
       "    fill: var(--fill-color);\n",
       "    height: 32px;\n",
       "    padding: 0;\n",
       "    width: 32px;\n",
       "  }\n",
       "\n",
       "  .colab-df-quickchart:hover {\n",
       "    background-color: var(--hover-bg-color);\n",
       "    box-shadow: 0 1px 2px rgba(60, 64, 67, 0.3), 0 1px 3px 1px rgba(60, 64, 67, 0.15);\n",
       "    fill: var(--button-hover-fill-color);\n",
       "  }\n",
       "\n",
       "  .colab-df-quickchart-complete:disabled,\n",
       "  .colab-df-quickchart-complete:disabled:hover {\n",
       "    background-color: var(--disabled-bg-color);\n",
       "    fill: var(--disabled-fill-color);\n",
       "    box-shadow: none;\n",
       "  }\n",
       "\n",
       "  .colab-df-spinner {\n",
       "    border: 2px solid var(--fill-color);\n",
       "    border-color: transparent;\n",
       "    border-bottom-color: var(--fill-color);\n",
       "    animation:\n",
       "      spin 1s steps(1) infinite;\n",
       "  }\n",
       "\n",
       "  @keyframes spin {\n",
       "    0% {\n",
       "      border-color: transparent;\n",
       "      border-bottom-color: var(--fill-color);\n",
       "      border-left-color: var(--fill-color);\n",
       "    }\n",
       "    20% {\n",
       "      border-color: transparent;\n",
       "      border-left-color: var(--fill-color);\n",
       "      border-top-color: var(--fill-color);\n",
       "    }\n",
       "    30% {\n",
       "      border-color: transparent;\n",
       "      border-left-color: var(--fill-color);\n",
       "      border-top-color: var(--fill-color);\n",
       "      border-right-color: var(--fill-color);\n",
       "    }\n",
       "    40% {\n",
       "      border-color: transparent;\n",
       "      border-right-color: var(--fill-color);\n",
       "      border-top-color: var(--fill-color);\n",
       "    }\n",
       "    60% {\n",
       "      border-color: transparent;\n",
       "      border-right-color: var(--fill-color);\n",
       "    }\n",
       "    80% {\n",
       "      border-color: transparent;\n",
       "      border-right-color: var(--fill-color);\n",
       "      border-bottom-color: var(--fill-color);\n",
       "    }\n",
       "    90% {\n",
       "      border-color: transparent;\n",
       "      border-bottom-color: var(--fill-color);\n",
       "    }\n",
       "  }\n",
       "</style>\n",
       "\n",
       "      <script>\n",
       "        async function quickchart(key) {\n",
       "          const quickchartButtonEl =\n",
       "            document.querySelector('#' + key + ' button');\n",
       "          quickchartButtonEl.disabled = true;  // To prevent multiple clicks.\n",
       "          quickchartButtonEl.classList.add('colab-df-spinner');\n",
       "          try {\n",
       "            const charts = await google.colab.kernel.invokeFunction(\n",
       "                'suggestCharts', [key], {});\n",
       "          } catch (error) {\n",
       "            console.error('Error during call to suggestCharts:', error);\n",
       "          }\n",
       "          quickchartButtonEl.classList.remove('colab-df-spinner');\n",
       "          quickchartButtonEl.classList.add('colab-df-quickchart-complete');\n",
       "        }\n",
       "        (() => {\n",
       "          let quickchartButtonEl =\n",
       "            document.querySelector('#df-7eae1b0b-6da0-403b-beaa-133a5eca3873 button');\n",
       "          quickchartButtonEl.style.display =\n",
       "            google.colab.kernel.accessAllowed ? 'block' : 'none';\n",
       "        })();\n",
       "      </script>\n",
       "    </div>\n",
       "\n",
       "    </div>\n",
       "  </div>\n"
      ],
      "application/vnd.google.colaboratory.intrinsic+json": {
       "type": "dataframe",
       "variable_name": "clean_data",
       "summary": "{\n  \"name\": \"clean_data\",\n  \"rows\": 250,\n  \"fields\": [\n    {\n      \"column\": \"Unnamed: 0\",\n      \"properties\": {\n        \"dtype\": \"number\",\n        \"std\": 2718,\n        \"min\": 231,\n        \"max\": 9995,\n        \"num_unique_values\": 250,\n        \"samples\": [\n          4533,\n          6325,\n          7022\n        ],\n        \"semantic_type\": \"\",\n        \"description\": \"\"\n      }\n    },\n    {\n      \"column\": \"title\",\n      \"properties\": {\n        \"dtype\": \"string\",\n        \"num_unique_values\": 250,\n        \"samples\": [\n          \"4 Books by Caribbean Authors You Should Read\",\n          \"The Hoax that Inspired AI: The Mechanical Turk\",\n          \"Stop Burying Digital Advertising\"\n        ],\n        \"semantic_type\": \"\",\n        \"description\": \"\"\n      }\n    },\n    {\n      \"column\": \"text\",\n      \"properties\": {\n        \"dtype\": \"string\",\n        \"num_unique_values\": 250,\n        \"samples\": [\n          \"June is recognized as Caribbean-American Heritage Month. It is a time to recognize the significance of Caribbean people and their descendants in US history and culture. One way to learn about Caribbean influence, not just in the US, but globally, is through books. Hence my writing this post to encourage you to purchase and read books by Caribbean authors or authors of Caribbean heritage.\\n\\nThese Ghosts Are Family by Maisy Card\\n\\nThese Ghosts Are Family is a transgenerational family sage spanning over 200 years that details the ripple effect of ancestral decisions on present-day life.\\n\\nThe novel begins by revealing that Stanford Solomon is actually Abel Paisley, a man who faked his own death and stole the identity of his best friend.\\n\\nAnd now, nearing the end of his life, Stanford is about to meet his firstborn daughter, Irene Paisley, a home health aide who has shown up for her first day of work to tend to the father she thought was dead.\\n\\nThese Ghosts Are Family revolves around the consequences of Abel\\u2019s decision and tells the story of the Paisley family from colonial Jamaica to present-day Harlem.\\n\\nThe story of each member of the family was very unique as they try to create an identity outside of their family history and trauma. I haven\\u2019t read much about slavery in Jamaica, so it was \\u201cinteresting\\u201d and educational to read this. We often learn about the life of slaves in the American South, but not so much in the Caribbean so the book opened my eyes to the experiences of slaves in Jamaican plantations. I did feel like the book jumped around a lot between generations and character, so it was a little difficult to follow at first. However, once I got used to the structure it flowed much smoother.\\n\\n\\u201cEven though they were just words, they built a world that she couldn\\u2019t stop thinking about, that she felt trapped inside every night.\\u201d\\n\\nSurge by Jay Bernard\\n\\nImage by Uju Onyishi\\n\\nSurge is a collection of poems about the 1981 New Cross Fire, a house fire at a birthday party in south London that killed thirteen people all of whom were Black. The fire was initially believed to be a racist attack, but there was a sense of indifference from the police, the government and the press.\\n\\nThe collection also talks about the Grenfell fire on 14th June 2017. A case where institutional indifference to working-class lives left 72 people dead. The lack of justice and accountability in both cases exemplify Britain\\u2019s racist past and present.\\n\\nThe collection begins with the arrival of the Windrush Generation into Britain, followed by the New Cross Fire and then into present-day. The first few poems are told through the voices of ghosts and then it goes into real bodies. There was a lot of shifts in perspectives both between and within poems and that was done so effortlessly. I really enjoyed reading the collection. Some of the poems really spoke to me. But there were some that I didn\\u2019t quite understand (the struggles of reading poetry), though I was able to find some Youtube videos where Bernard reads and discusses the poems and that was extremely beneficial.\\n\\n\\u201cMe seh blood ah goh run for di pain of di loss\\u201d\\n\\nThe Perseverance by Raymond Antrobus\\n\\nImage by Uju Onyishi\\n\\nThe Perseverance is a collection of poems about the D/deaf experience in a hearing world, the author\\u2019s identity as a British-Jamaican and some poems about his father.\\n\\nReading this collection made me confront a privilege that I have, but hardly ever think about. I don\\u2019t know what else to say about this except that it was powerful and incredible. So much so that less than 12 hours after reading it for the first time I decided to reread the collection.\\n\\n\\u201cProving people wrong is great but tiring.\\u201d\\n\\nQueenie by Candice Carty-Williams\\n\\nImage by Uju Onyishi\\n\\nQueenie is a year in the life of a 25-year-old Black woman of Jamaican heritage living in London. At the start everything is okay. She\\u2019s living with her white boyfriend and has a job she worked hard to get. But then he wants to go on a break, so Queenie has to move out. And let\\u2019s just say she did not handle the break well.\\n\\nShe starts doing badly at work and having unprotected sex with various guys that showed her no respect. As the story goes on we learn that she experienced some childhood trauma that completely destroyed her self esteem and self-regard. And because of that, her default is self-sabotage.\\n\\nThe book touches on so many heavy topics including racism in Britain, micro-aggressions in the workplace, complicated family dynamics, the fetishization of the Black woman\\u2019s body and mental health issues. It did a good job in portraying the stigma surrounding going to therapy in the Black community. I also liked that Carty-Williams did not rush Queenie\\u2019s healing process. The story flowed so smoothly and it was written so vividly.\\n\\nI was really rooting for Queenie, but I couldn\\u2019t help but be annoyed by a lot of her actions. She is also such a contradictory character but the fact that she is such a flawed character make things more realistic. She stays current on the issues of police brutality and the Black Lives Matter movement but then she harbours so much self-hate and allows her body to be used by white men that just don\\u2019t care about her. Oh and don\\u2019t get me started on her relationship with Black men. It just goes show hoe white supremacist ideologies are so deeply rooted in our subconscious.\\n\\nI can\\u2019t recommend this book enough.\",\n          \"Artificial Intelligence. These two words spark a variety of emotions in today\\u2019s culture. For many, they flicker fear: fear of lost jobs, greater dependence on technology, and even fears spurred by science-fiction films imagining a future of robot overlords. Some members of the population view artificial intelligence with hopeful anticipation. They envision a world of greater relaxation spent pursuing projects of cultural and artistic significance free from the more mundane aspects of life on earth. Whichever vision you prefer, AI has changed daily life and appears to be shaping life for generations to come.\\n\\nDespite the plethora of views, most remain unaware of the hoax that inspired AI over 200 years ago.\\n\\nAs with all great stories, ours will begin in an 18th century palace. Empress Maria Theresa, ruler of Austria, appreciated a good magician. On frequent occasions, she invited only the best and brightest of the trade to entertain in her court. It was in Austria\\u2019s Schonbrunn Palace, in 1770, that yet another illusionist awed his observers. Yet, one audience member wasn\\u2019t impressed. Baron Wolfgang von Kempelen, an inventor specializing in physics, hydraulics, and mechanics, knew he could do better and he told the Empress so. Empress Maria gave the Baron six months to invent a device that could top any magician\\u2019s act (Garfinkel and Grunspan 36). Kempelen took the challenge, creating a device he claimed could beat any of the best human chess masters in the world (Garfinkel and Grunspan 36).\\n\\nAs a modern observer, let\\u2019s take a step back. Machines that play chess are not uncommon to us, but the year was 1770, and digital computers of complex operation had not yet been invented.\\n\\nWhen Baron Wolfgang introduced his device, he convinced the world that the device could play chess and respond to an unpredictable human using only mechanical means.\\n\\nHis contraption used a variety of gears, pulleys, hydraulics, and a simple crank (\\u201cMeet the Mechanical Turk\\u2026\\u201d).\\n\\nThe device involved a desk of sorts, behind which sat a wooden man in oriential dress. Under the desk was housed all of the mechanics. Kempelen went to great lengths to illustrate that his device was true to his claim. He always began a performance by opening small doors in the desk showing the opponent his device\\u2019s inner workings, convincing them it was in fact operated solely by mechanical means (Walter, \\u201cThe Mechanical Turk\\u2026\\u201d). Baron Wolfgang called his device the Automaton Chess Player (Eschner, \\u201cDebunking the Mechanical\\u2026\\u201d), later it came to be known as the \\u201cMechanical Turk.\\u201d\\n\\nTruth be told, the device impressed the Empress and baffled nearly every opponent it played.\\n\\nThe Mechanical Turk was good, almost too good.\\n\\nKempelen and its later owner, Johann Nepomuk M\\u00e4lzel (Fourtane, \\u201cThe Turk\\u2026\\u201d), took the Chess Player on a worldwide tour where it beat US ambassador Benjamin Franklin and poet Edgar Allen Poe (Garfinkel and Grunspan 36). Even Napoleon Bonaparte played the Mechanical Turk. He attempted a number of illegal moves and the Turk responded by moving the pieces back to their original locations. Eventually, the Turk had enough of Napoleon\\u2019s cheats and swept every piece from the board (Garfinkel and Grunspan 36).\\n\\nThe technology Kempelen claimed to have invented, \\u201ca thinking machine,\\u201d was unbelievable. As confused as many were, most refused to believe that the Mechanical Turk was truly operating by itself. Many believed that the device was operated by a human, but nobody could figure out how it was operated. A variety of theories abounded. Some believed that it was operated by thin wires and strong magnets from a distance, a trained monkey, or even evil spirits (\\u201cThe Mechanical Turk: AI\\u2026\\u201d). Edgar Allen Poe personally believed that it worked via a small human who crawled into the body of the wooden Turk (Eschner, \\u201cDebunking the Mechanical\\u2026\\u201d).\\n\\nAlthough the real operation of the Chess Player was a marvel of hidden engineering, it was indeed a hoax. A human operator was hidden inside the device. The Museum of Hoaxes reports on the real \\u201cmagic:\\u201d\\n\\nA series of sliding panels and a rolling chair allowed the automaton\\u2019s operator to hide while the interior of the machine was being displayed. The operator then controlled the Turk by means of a \\u2018pantograph\\u2019 device that synchronized his arm movements with those of the wooden Turk. Magnetic chess pieces allowed him to know what pieces were being moved on the board above his head (Museum of Hoaxes as quoted in Eschner, \\u201cDebunking the Mechanical\\u2026\\u201d).\\n\\nAfter befuddling and confounding many around the world over the course of 84 years, the Mechanical Turk was lost during a fire in the Chinese Museum of Philadelphia in 1854 (Fourtane, \\u201cThe Turk\\u2026\\u201d).\\n\\nAlthough the chess playing Mechanical Turk was a hoax and an illusion, many were inspired by the idea.\\n\\nEdgar Allen Poe was inspired to write his own hoax and detective stories, \\u201cmost famously the Balloon-Hoax of 1844, in which he wrote a series of fictionalized newspaper articles about a three-day trans-Atlantic balloon flight\\u201d (Eschner, \\u201cDebunking the Mechanical\\u2026\\u201d).\\n\\nOne man, Charles Babbage, was also inspired by the Turk. Babbage was an early computer scientist, creating the Analytical Engine which was really the first general purpose computer (Walter, \\u201cThe Mechanical Turk\\u2026\\u201d). Although quick to call the device a hoax \\u2014 after he was beaten twice by the Mechanical Turk \\u2014 he envisioned a future where a real device could beat a human chess player (Walter, \\u201cThe Mechanical Turk\\u2026\\u201d).\\n\\nHis dream saw reality in 1997 when IBM\\u2019s Deep Blue computer beat world-chess master Garry Kasparov (Greenemeier, \\u201c20 Years after\\u2026\\u201d).\\n\\nThe Mechanical Turk wasn\\u2019t artificial intelligence, but it sparked the thought for the first time. What if a device could mimic human thought? What would that device do? How would that device function? These are questions still being answered today.\\n\\nIn 2005 Amazon honored the legacy of the Mechanical Turk, by naming its new service after the device that sparked artificial intelligence (Schwartz, \\u201cUntold History\\u2026\\u201d). As Amazon grew, it realized it needed mundane tasks completed that, strangely, could not be completed by a computer. Just like the Turk was operated by a human appearing as a mechanical device, Amazon\\u2019s Mechanical Turk (or mTurk for short) is using humans to accomplish tasks by mimicking the appearance of a computer. Amazon Founder and CEO, Jeff Bezos, calls it \\u201cartificial artificial intelligence\\u201d (Schwartz, \\u201cUntold History\\u2026\\u201d). Human operators, any human on the Internet, can be paid to accomplish tasks via mTurk. To learn more about mTurk, visit Amazon\\u2019s website. However, if you think you\\u2019ve found a sweet new gig online, consider reading The Atlantic\\u2019s 2018 article.\\n\\nThe future of AI is still very much uncharted, but the research looks promising.\\n\\nAlready, AI is creating new kinds of data that offer life-altering insights into health and life on earth. AI is making cars and roads safer and allowing humans greater time to relax and pursue projects of interest and worldwide benefit. Given AI\\u2019s impact on our world and its promise for the future, we\\u2019ll be revisiting this topic significantly on our journey through the history of computers.\\n\\nThe Mechanical Turk was an elaborate hoax, yet it sparked inspiration for a new kind of technology that is still altering our world and lives. The Mechanical Turk is the eleventh major milestone in the history of computing.\\n\\nMore on the History of Computers:\",\n          \"A case for moving digital advertising up the funnel\\n\\nOriginally published at InsideHigherEd.com\\n\\nBy 2020, more than $117 billion will be spent on digital and mobile advertising in the U.S. And as marketing budgets continue to increase across our industry, the investment in digital advertising will likely continue to grow, as well.\\n\\nAs I survey our industry\\u2019s digital advertising output, it is clear that the bulk of ad dollars are going to direct response ads, those middle-of-the-funnel type.\\n\\nIs this the best strategy?\\n\\nThere is power in closely aligning digital (as well as social) advertising with traditional marketing efforts. To me, there is an obvious place for digital advertising in the marketing mix, but do we need to scrape the bottom of the supply-side barrel to increase digital metrics or only maintain a direct response approach?\\n\\nLess Direct\\n\\n\\u201cYou\\u2019re more likely to be accepted into Harvard than click on a banner.\\u201d \\u2014 \\u201cBanner Beater\\u201d\\n\\nMarketers enjoy a 0.05 percent click-through-rate across all industries. Why design for the less than one percent? As consumers continue to adopt to rapid media environments, behavior is becoming increasingly passive and content is being consumed in rapid succession. Similarly, there is little evidence, from a business perspective, that clicks are linked to brand impact or sales.\\n\\nDirect response ads rely on conscious consumption and rational messaging to provoke action, which is a lot to ask for when, according to Millward Brown, consumers look at display ads for less than three seconds. We must deliver our messages quickly to be effective. Concurrently, research has shown that 250 milliseconds of exposure on mobile display is enough to gain significant ad recall. Knowing the media environment in which our ads are often viewed, we should shift the mindset that digital advertising shouldn\\u2019t be primarily a conversion-only tactic and given a more brand-building role.\\n\\nTo adopt this approach, here are three principles to consider when developing your next digital advertising campaign.\\n\\nDesign for System One\\n\\n\\u201cWe (marketers) are in a System One business.\\u201d \\u2014 Rory Sutherland\\n\\nDaniel Kahneman introduced how we form thought in Thinking, Fast and Slow. The instinctual System One describes the part of mind that is responsible for fast, automatic and emotional agency. Roughly 80 percent of our decisions are made using System One, including most purchasing decisions. System Two is slower, used to make complex computations and requires attention.\\n\\nDirect response digital advertising relies on System Two and is meant to drive an action. Digital advertising meant to drive brand awareness doesn\\u2019t need active engagement or a unique-selling proposition. They simply need to be distinct enough to be stored as implicit memories and used as a shortcut by System One, knowing that the ads are being processed passively and subconsciously.\\n\\nTo be effective, digital ads should include a direct link to the brand via always-present branding (logo or name). Your logo is a distinctive asset that helps to maintain mental networks, improve saliency and linkage within the communication in the split-second consumers give to an ad. In this case, it might be best to ditch the elaborate research photo for better placement of your logo.\\n\\nInclude Brand Assets\\n\\n\\u201cRather than striving for meaningful perceived differentiation, marketers should seek meaningless distinctiveness. Branding lasts. Differentiation doesn\\u2019t.\\u201d\\u2013 Byron Sharp\\n\\nIn 2009, Tropicana learned the hard way the importance of brand assets. After ditching their distinctive straw-in-orange logo, font and green color pallet, the brand saw sales drop by 22 percent. Distinctive brand assets are unique identity elements of a brand, and it is these brand assets that our brains rely on to make purchasing decisions. Visual elements like fonts, colors and slogans, through repeat exposure, help build familiarity and memory structures related to the brand. The more brand assets you \\u201cown\\u201d the more likely you are to trigger brand memories in and amongst the digital clutter. Check out Ehrenberg-Bass\\u2019s Measure Your Distinctive Assets to assess what assets you should identify.\\n\\nMake it Integrated (And Get Creative)\\n\\n\\u201cUpwards of 50 percent of taps on mobile are on accident.\\u201d \\u2013Google Benchmark\\n\\nA quick survey of moat.com would indicate that many digital campaigns are designed in a vacuum. Digital ads should trigger any brand-level or recruitment campaigns \\u2014 building upon the familiarity of other tactics (i.e. brand assets).\\n\\nThere is also an opportunity to creatively integrate digital campaigns within the broader communications plan. The mere exposure effect indicates digital advertising is a great way to build familiarity before view books or event invites are sent, acting as a priming agent for message comprehension. Research also indicates that digital advertising and television work in synergy to improve campaign effectiveness. Why not build campaigns around television buys or football games? Similarly, why not use digital ads to build familiarity as part of your strategy for attracting prospective students and drive awareness between search campaigns?\\n\\nInstead of spending money on re-targeting, I have found success combining web data and CRM data to plan digital campaigns around moments of intent during the college search process. The data gave us a sense of how far out we needed to begin to build awareness. At the end of each advertising campaign we then used emails to convert and drive middle-of-the-funnel actions.\\n\\nIf we remove ourselves from the confines of using digital ads to drive conversions, we can begin to unlock the creative potential of digital ads playing a role in driving familiarity, which drives fluency and helps improve brand metrics throughout the funnel.\"\n        ],\n        \"semantic_type\": \"\",\n        \"description\": \"\"\n      }\n    },\n    {\n      \"column\": \"url\",\n      \"properties\": {\n        \"dtype\": \"string\",\n        \"num_unique_values\": 250,\n        \"samples\": [\n          \"https://medium.com/the-open-bookshelf/5-books-by-caribbean-authors-you-should-read-4ef0cb084cd4\",\n          \"https://medium.com/tech-is-a-tool/the-hoax-that-inspired-ai-the-mechanical-turk-2914ba2063bf\",\n          \"https://medium.com/chris-huebner/stop-burying-digital-advertising-7e92b93f8c80\"\n        ],\n        \"semantic_type\": \"\",\n        \"description\": \"\"\n      }\n    },\n    {\n      \"column\": \"authors\",\n      \"properties\": {\n        \"dtype\": \"object\",\n        \"semantic_type\": \"\",\n        \"description\": \"\"\n      }\n    },\n    {\n      \"column\": \"timestamp\",\n      \"properties\": {\n        \"dtype\": \"string\",\n        \"num_unique_values\": 250,\n        \"samples\": [\n          \"2020-06-18 11:58:29.978000+00:00\",\n          \"2020-06-06 13:31:01.164000+00:00\",\n          \"2018-12-28 02:07:46.821000+00:00\"\n        ],\n        \"semantic_type\": \"\",\n        \"description\": \"\"\n      }\n    },\n    {\n      \"column\": \"tags\",\n      \"properties\": {\n        \"dtype\": \"object\",\n        \"semantic_type\": \"\",\n        \"description\": \"\"\n      }\n    },\n    {\n      \"column\": \"timestamp_iso\",\n      \"properties\": {\n        \"dtype\": \"object\",\n        \"num_unique_values\": 250,\n        \"samples\": [\n          \"2020-06-18T11:58:29Z\",\n          \"2020-06-06T13:31:01Z\",\n          \"2018-12-28T02:07:46Z\"\n        ],\n        \"semantic_type\": \"\",\n        \"description\": \"\"\n      }\n    },\n    {\n      \"column\": \"year\",\n      \"properties\": {\n        \"dtype\": \"Int64\",\n        \"num_unique_values\": 6,\n        \"samples\": [\n          2020,\n          2019,\n          2015\n        ],\n        \"semantic_type\": \"\",\n        \"description\": \"\"\n      }\n    },\n    {\n      \"column\": \"id\",\n      \"properties\": {\n        \"dtype\": \"string\",\n        \"num_unique_values\": 250,\n        \"samples\": [\n          \"142\",\n          \"6\",\n          \"97\"\n        ],\n        \"semantic_type\": \"\",\n        \"description\": \"\"\n      }\n    }\n  ]\n}"
      }
     },
     "metadata": {},
     "execution_count": 41
    }
   ],
   "source": [
    "# Inspecting\n",
    "clean_data.head(2)"
   ]
  },
  {
   "cell_type": "markdown",
   "id": "26",
   "metadata": {
    "id": "26"
   },
   "source": [
    "## 2.2 Extracting Named Entities\n",
    "\n",
    "\n",
    "The next step is extracting named entities. We need to make sure that each created entity list will be clean and free of duplicates. For example, if our NER model extracts [\"Python\", \"Python\", \"NLP\"], we don\u2019t want duplicates cluttering our metadata. Thus, we will create a function called `dedupe_entities()` that removes duplicates:"
   ]
  },
  {
   "cell_type": "code",
   "execution_count": 42,
   "id": "27",
   "metadata": {
    "id": "27"
   },
   "outputs": [],
   "source": [
    "# Deduplicate extracted entities per document\n",
    "def dedupe_entities(entity_lists):\n",
    "    return [sorted(set(map(str, ents))) for ents in entity_lists]"
   ]
  },
  {
   "cell_type": "markdown",
   "id": "28",
   "metadata": {
    "id": "28"
   },
   "source": [
    "\n",
    "\n",
    "Next, we'll create another helper function `extract_entities()`, which applies our previously initialized `ner_pipeline` (with the NER model from the first section of this notebook). This function takes a list of texts, runs the model on each one and returns the named entities it detects. We\u2019ll later use it to extract entities for all articles in our dataset."
   ]
  },
  {
   "cell_type": "code",
   "execution_count": 43,
   "id": "29",
   "metadata": {
    "id": "29"
   },
   "outputs": [],
   "source": [
    "# Extracting named entities\n",
    "def extract_entities(texts):\n",
    "    results = []\n",
    "    for t in texts:\n",
    "        ents = ner_pipeline(t)        # NER model\n",
    "        labels = [ent[\"word\"] for ent in ents]\n",
    "        results.append(labels)\n",
    "    return results"
   ]
  },
  {
   "cell_type": "markdown",
   "id": "30",
   "metadata": {
    "id": "30"
   },
   "source": [
    "Running the NER model on thousands of articles can be slow and memory-intensive, so instead of processing everything at once, we split the dataset into **smaller batches**:"
   ]
  },
  {
   "cell_type": "code",
   "execution_count": 44,
   "id": "31",
   "metadata": {
    "id": "31",
    "colab": {
     "base_uri": "https://localhost:8080/",
     "height": 49,
     "referenced_widgets": [
      "1dd9fd90d872403abedf4ebf92012553",
      "c5e6e210184f47f6bb98cf72c866c218",
      "94798730fb1945a382ca3ff13e3b607e",
      "d4678326963843b1bad61eb832ceb692",
      "044840ad693b468cab470a958f0f5136",
      "5f1510699ea3494a87a3f47848d291df",
      "506f801972f341a8a4f71de404e65f2f",
      "380433c397db48d7acb1151bc530078a",
      "ddfa93dccb794bce9ea2711821d3009c",
      "5512e67a0c8241e980e7e587c08398e4",
      "f33d823a829d4fcbb8f05f644ea8b9df"
     ]
    },
    "outputId": "d1255631-94fe-4c54-b816-bb7044551569"
   },
   "outputs": [
    {
     "output_type": "display_data",
     "data": {
      "text/plain": [
       "Extracting entities:   0%|          | 0/4 [00:00<?, ?it/s]"
      ],
      "application/vnd.jupyter.widget-view+json": {
       "version_major": 2,
       "version_minor": 0,
       "model_id": "1dd9fd90d872403abedf4ebf92012553"
      }
     },
     "metadata": {}
    }
   ],
   "source": [
    "# Extracting entities in batches\n",
    "\n",
    "# Take 64 texts at a time\n",
    "BATCH_SIZE = 64\n",
    "texts = clean_data[\"text\"].astype(str).tolist()\n",
    "all_entities = []\n",
    "\n",
    "for i in tqdm(range(0, len(texts), BATCH_SIZE), desc = \"Extracting entities\"):\n",
    "    batch = texts[i:i+BATCH_SIZE]\n",
    "    # For each batch, run the function with the NER model\n",
    "    batch_results = extract_entities(batch)\n",
    "    # Accumulate results into one list\n",
    "    all_entities.extend(batch_results)\n",
    "\n",
    "# Deduplicate and add named entities as a new column\n",
    "clean_data[\"named_entity\"] = dedupe_entities(all_entities)"
   ]
  },
  {
   "cell_type": "code",
   "execution_count": 45,
   "id": "32",
   "metadata": {
    "id": "32",
    "colab": {
     "base_uri": "https://localhost:8080/",
     "height": 632
    },
    "outputId": "6e398336-4f29-4487-cf1c-8093e4096b19"
   },
   "outputs": [
    {
     "output_type": "execute_result",
     "data": {
      "text/plain": [
       "   Unnamed: 0                                              title  \\\n",
       "0        5804  Anti-maskers Pushing for Herd Immunity Just Wa...   \n",
       "1        4526  Six Wrong Predictions Reported By the New York...   \n",
       "2        4351         The #1 Mistake I Made on Medium this Month   \n",
       "3        9125   4 Signs You May Have an Anxious Attachment Style   \n",
       "4        6172                           Revit Like It\u2019s Sketchup   \n",
       "\n",
       "                                                text  \\\n",
       "0  They just want minorities gone\\n\\nAmong the mi...   \n",
       "1  The New York Times is one of the prominent Ame...   \n",
       "2  The #1 Mistake I Made on Medium this Month\\n\\n...   \n",
       "3  4 Signs You May Have an Anxious Attachment Sty...   \n",
       "4  Paper Architecture Illustration\\n\\nThis is not...   \n",
       "\n",
       "                                                 url               authors  \\\n",
       "0  https://medium.com/discourse/anti-maskers-who-...     [Henner Townlove]   \n",
       "1  https://medium.com/swlh/six-wrong-predictions-...      [Mass\u00f9od Hemmat]   \n",
       "2  https://medium.com/the-innovation/the-1-mistak...  [Michelle Loucadoux]   \n",
       "3  https://medium.com/wholistique/4-signs-you-may...            [Casey A.]   \n",
       "4  https://medium.com/paper-architecture/revit-li...         [Dan Edleson]   \n",
       "\n",
       "                          timestamp  \\\n",
       "0  2020-10-16 08:21:23.109000+00:00   \n",
       "1  2020-12-15 19:03:49.558000+00:00   \n",
       "2  2020-12-27 21:57:42.493000+00:00   \n",
       "3  2020-09-28 15:41:39.895000+00:00   \n",
       "4  2019-05-23 06:28:38.087000+00:00   \n",
       "\n",
       "                                                tags         timestamp_iso  \\\n",
       "0  [Minorities, BlackLivesMatter, Racism, Herd Im...  2020-10-16T08:21:23Z   \n",
       "1  [The New York Times, Predictions, Journalism, ...  2020-12-15T19:03:49Z   \n",
       "2  [Writing, Writing Tips, Advice, Inspiration, B...  2020-12-27T21:57:42Z   \n",
       "3  [Relationships, Attachment, Self Development, ...  2020-09-28T15:41:39Z   \n",
       "4       [Sketchup, Architecture, Bim, Design, Revit]  2019-05-23T06:28:38Z   \n",
       "\n",
       "   year id                                       named_entity  \n",
       "0  2020  0        [California, China, Chinese, Donald, Trump]  \n",
       "1  2020  1  [Airplanes & Flying, American, Apple & iPhone,...  \n",
       "2  2020  2  [Bermix Studio, Forbes, Gary Vaynerchuk, Jon S...  \n",
       "3  2020  3  [Diane Poole Heller, Power of Attachment, The ...  \n",
       "4  2019  4  [Autodesk, Dynamo, Grasshopper, InDesign, Mass...  "
      ],
      "text/html": [
       "\n",
       "  <div id=\"df-b7a370d2-aa21-4459-b940-3588a1a11949\" class=\"colab-df-container\">\n",
       "    <div>\n",
       "<style scoped>\n",
       "    .dataframe tbody tr th:only-of-type {\n",
       "        vertical-align: middle;\n",
       "    }\n",
       "\n",
       "    .dataframe tbody tr th {\n",
       "        vertical-align: top;\n",
       "    }\n",
       "\n",
       "    .dataframe thead th {\n",
       "        text-align: right;\n",
       "    }\n",
       "</style>\n",
       "<table border=\"1\" class=\"dataframe\">\n",
       "  <thead>\n",
       "    <tr style=\"text-align: right;\">\n",
       "      <th></th>\n",
       "      <th>Unnamed: 0</th>\n",
       "      <th>title</th>\n",
       "      <th>text</th>\n",
       "      <th>url</th>\n",
       "      <th>authors</th>\n",
       "      <th>timestamp</th>\n",
       "      <th>tags</th>\n",
       "      <th>timestamp_iso</th>\n",
       "      <th>year</th>\n",
       "      <th>id</th>\n",
       "      <th>named_entity</th>\n",
       "    </tr>\n",
       "  </thead>\n",
       "  <tbody>\n",
       "    <tr>\n",
       "      <th>0</th>\n",
       "      <td>5804</td>\n",
       "      <td>Anti-maskers Pushing for Herd Immunity Just Wa...</td>\n",
       "      <td>They just want minorities gone\\n\\nAmong the mi...</td>\n",
       "      <td>https://medium.com/discourse/anti-maskers-who-...</td>\n",
       "      <td>[Henner Townlove]</td>\n",
       "      <td>2020-10-16 08:21:23.109000+00:00</td>\n",
       "      <td>[Minorities, BlackLivesMatter, Racism, Herd Im...</td>\n",
       "      <td>2020-10-16T08:21:23Z</td>\n",
       "      <td>2020</td>\n",
       "      <td>0</td>\n",
       "      <td>[California, China, Chinese, Donald, Trump]</td>\n",
       "    </tr>\n",
       "    <tr>\n",
       "      <th>1</th>\n",
       "      <td>4526</td>\n",
       "      <td>Six Wrong Predictions Reported By the New York...</td>\n",
       "      <td>The New York Times is one of the prominent Ame...</td>\n",
       "      <td>https://medium.com/swlh/six-wrong-predictions-...</td>\n",
       "      <td>[Mass\u00f9od Hemmat]</td>\n",
       "      <td>2020-12-15 19:03:49.558000+00:00</td>\n",
       "      <td>[The New York Times, Predictions, Journalism, ...</td>\n",
       "      <td>2020-12-15T19:03:49Z</td>\n",
       "      <td>2020</td>\n",
       "      <td>1</td>\n",
       "      <td>[Airplanes &amp; Flying, American, Apple &amp; iPhone,...</td>\n",
       "    </tr>\n",
       "    <tr>\n",
       "      <th>2</th>\n",
       "      <td>4351</td>\n",
       "      <td>The #1 Mistake I Made on Medium this Month</td>\n",
       "      <td>The #1 Mistake I Made on Medium this Month\\n\\n...</td>\n",
       "      <td>https://medium.com/the-innovation/the-1-mistak...</td>\n",
       "      <td>[Michelle Loucadoux]</td>\n",
       "      <td>2020-12-27 21:57:42.493000+00:00</td>\n",
       "      <td>[Writing, Writing Tips, Advice, Inspiration, B...</td>\n",
       "      <td>2020-12-27T21:57:42Z</td>\n",
       "      <td>2020</td>\n",
       "      <td>2</td>\n",
       "      <td>[Bermix Studio, Forbes, Gary Vaynerchuk, Jon S...</td>\n",
       "    </tr>\n",
       "    <tr>\n",
       "      <th>3</th>\n",
       "      <td>9125</td>\n",
       "      <td>4 Signs You May Have an Anxious Attachment Style</td>\n",
       "      <td>4 Signs You May Have an Anxious Attachment Sty...</td>\n",
       "      <td>https://medium.com/wholistique/4-signs-you-may...</td>\n",
       "      <td>[Casey A.]</td>\n",
       "      <td>2020-09-28 15:41:39.895000+00:00</td>\n",
       "      <td>[Relationships, Attachment, Self Development, ...</td>\n",
       "      <td>2020-09-28T15:41:39Z</td>\n",
       "      <td>2020</td>\n",
       "      <td>3</td>\n",
       "      <td>[Diane Poole Heller, Power of Attachment, The ...</td>\n",
       "    </tr>\n",
       "    <tr>\n",
       "      <th>4</th>\n",
       "      <td>6172</td>\n",
       "      <td>Revit Like It\u2019s Sketchup</td>\n",
       "      <td>Paper Architecture Illustration\\n\\nThis is not...</td>\n",
       "      <td>https://medium.com/paper-architecture/revit-li...</td>\n",
       "      <td>[Dan Edleson]</td>\n",
       "      <td>2019-05-23 06:28:38.087000+00:00</td>\n",
       "      <td>[Sketchup, Architecture, Bim, Design, Revit]</td>\n",
       "      <td>2019-05-23T06:28:38Z</td>\n",
       "      <td>2019</td>\n",
       "      <td>4</td>\n",
       "      <td>[Autodesk, Dynamo, Grasshopper, InDesign, Mass...</td>\n",
       "    </tr>\n",
       "  </tbody>\n",
       "</table>\n",
       "</div>\n",
       "    <div class=\"colab-df-buttons\">\n",
       "\n",
       "  <div class=\"colab-df-container\">\n",
       "    <button class=\"colab-df-convert\" onclick=\"convertToInteractive('df-b7a370d2-aa21-4459-b940-3588a1a11949')\"\n",
       "            title=\"Convert this dataframe to an interactive table.\"\n",
       "            style=\"display:none;\">\n",
       "\n",
       "  <svg xmlns=\"http://www.w3.org/2000/svg\" height=\"24px\" viewBox=\"0 -960 960 960\">\n",
       "    <path d=\"M120-120v-720h720v720H120Zm60-500h600v-160H180v160Zm220 220h160v-160H400v160Zm0 220h160v-160H400v160ZM180-400h160v-160H180v160Zm440 0h160v-160H620v160ZM180-180h160v-160H180v160Zm440 0h160v-160H620v160Z\"/>\n",
       "  </svg>\n",
       "    </button>\n",
       "\n",
       "  <style>\n",
       "    .colab-df-container {\n",
       "      display:flex;\n",
       "      gap: 12px;\n",
       "    }\n",
       "\n",
       "    .colab-df-convert {\n",
       "      background-color: #E8F0FE;\n",
       "      border: none;\n",
       "      border-radius: 50%;\n",
       "      cursor: pointer;\n",
       "      display: none;\n",
       "      fill: #1967D2;\n",
       "      height: 32px;\n",
       "      padding: 0 0 0 0;\n",
       "      width: 32px;\n",
       "    }\n",
       "\n",
       "    .colab-df-convert:hover {\n",
       "      background-color: #E2EBFA;\n",
       "      box-shadow: 0px 1px 2px rgba(60, 64, 67, 0.3), 0px 1px 3px 1px rgba(60, 64, 67, 0.15);\n",
       "      fill: #174EA6;\n",
       "    }\n",
       "\n",
       "    .colab-df-buttons div {\n",
       "      margin-bottom: 4px;\n",
       "    }\n",
       "\n",
       "    [theme=dark] .colab-df-convert {\n",
       "      background-color: #3B4455;\n",
       "      fill: #D2E3FC;\n",
       "    }\n",
       "\n",
       "    [theme=dark] .colab-df-convert:hover {\n",
       "      background-color: #434B5C;\n",
       "      box-shadow: 0px 1px 3px 1px rgba(0, 0, 0, 0.15);\n",
       "      filter: drop-shadow(0px 1px 2px rgba(0, 0, 0, 0.3));\n",
       "      fill: #FFFFFF;\n",
       "    }\n",
       "  </style>\n",
       "\n",
       "    <script>\n",
       "      const buttonEl =\n",
       "        document.querySelector('#df-b7a370d2-aa21-4459-b940-3588a1a11949 button.colab-df-convert');\n",
       "      buttonEl.style.display =\n",
       "        google.colab.kernel.accessAllowed ? 'block' : 'none';\n",
       "\n",
       "      async function convertToInteractive(key) {\n",
       "        const element = document.querySelector('#df-b7a370d2-aa21-4459-b940-3588a1a11949');\n",
       "        const dataTable =\n",
       "          await google.colab.kernel.invokeFunction('convertToInteractive',\n",
       "                                                    [key], {});\n",
       "        if (!dataTable) return;\n",
       "\n",
       "        const docLinkHtml = 'Like what you see? Visit the ' +\n",
       "          '<a target=\"_blank\" href=https://colab.research.google.com/notebooks/data_table.ipynb>data table notebook</a>'\n",
       "          + ' to learn more about interactive tables.';\n",
       "        element.innerHTML = '';\n",
       "        dataTable['output_type'] = 'display_data';\n",
       "        await google.colab.output.renderOutput(dataTable, element);\n",
       "        const docLink = document.createElement('div');\n",
       "        docLink.innerHTML = docLinkHtml;\n",
       "        element.appendChild(docLink);\n",
       "      }\n",
       "    </script>\n",
       "  </div>\n",
       "\n",
       "\n",
       "    <div id=\"df-d5c0cad8-b7ae-4948-9362-144693e879ea\">\n",
       "      <button class=\"colab-df-quickchart\" onclick=\"quickchart('df-d5c0cad8-b7ae-4948-9362-144693e879ea')\"\n",
       "                title=\"Suggest charts\"\n",
       "                style=\"display:none;\">\n",
       "\n",
       "<svg xmlns=\"http://www.w3.org/2000/svg\" height=\"24px\"viewBox=\"0 0 24 24\"\n",
       "     width=\"24px\">\n",
       "    <g>\n",
       "        <path d=\"M19 3H5c-1.1 0-2 .9-2 2v14c0 1.1.9 2 2 2h14c1.1 0 2-.9 2-2V5c0-1.1-.9-2-2-2zM9 17H7v-7h2v7zm4 0h-2V7h2v10zm4 0h-2v-4h2v4z\"/>\n",
       "    </g>\n",
       "</svg>\n",
       "      </button>\n",
       "\n",
       "<style>\n",
       "  .colab-df-quickchart {\n",
       "      --bg-color: #E8F0FE;\n",
       "      --fill-color: #1967D2;\n",
       "      --hover-bg-color: #E2EBFA;\n",
       "      --hover-fill-color: #174EA6;\n",
       "      --disabled-fill-color: #AAA;\n",
       "      --disabled-bg-color: #DDD;\n",
       "  }\n",
       "\n",
       "  [theme=dark] .colab-df-quickchart {\n",
       "      --bg-color: #3B4455;\n",
       "      --fill-color: #D2E3FC;\n",
       "      --hover-bg-color: #434B5C;\n",
       "      --hover-fill-color: #FFFFFF;\n",
       "      --disabled-bg-color: #3B4455;\n",
       "      --disabled-fill-color: #666;\n",
       "  }\n",
       "\n",
       "  .colab-df-quickchart {\n",
       "    background-color: var(--bg-color);\n",
       "    border: none;\n",
       "    border-radius: 50%;\n",
       "    cursor: pointer;\n",
       "    display: none;\n",
       "    fill: var(--fill-color);\n",
       "    height: 32px;\n",
       "    padding: 0;\n",
       "    width: 32px;\n",
       "  }\n",
       "\n",
       "  .colab-df-quickchart:hover {\n",
       "    background-color: var(--hover-bg-color);\n",
       "    box-shadow: 0 1px 2px rgba(60, 64, 67, 0.3), 0 1px 3px 1px rgba(60, 64, 67, 0.15);\n",
       "    fill: var(--button-hover-fill-color);\n",
       "  }\n",
       "\n",
       "  .colab-df-quickchart-complete:disabled,\n",
       "  .colab-df-quickchart-complete:disabled:hover {\n",
       "    background-color: var(--disabled-bg-color);\n",
       "    fill: var(--disabled-fill-color);\n",
       "    box-shadow: none;\n",
       "  }\n",
       "\n",
       "  .colab-df-spinner {\n",
       "    border: 2px solid var(--fill-color);\n",
       "    border-color: transparent;\n",
       "    border-bottom-color: var(--fill-color);\n",
       "    animation:\n",
       "      spin 1s steps(1) infinite;\n",
       "  }\n",
       "\n",
       "  @keyframes spin {\n",
       "    0% {\n",
       "      border-color: transparent;\n",
       "      border-bottom-color: var(--fill-color);\n",
       "      border-left-color: var(--fill-color);\n",
       "    }\n",
       "    20% {\n",
       "      border-color: transparent;\n",
       "      border-left-color: var(--fill-color);\n",
       "      border-top-color: var(--fill-color);\n",
       "    }\n",
       "    30% {\n",
       "      border-color: transparent;\n",
       "      border-left-color: var(--fill-color);\n",
       "      border-top-color: var(--fill-color);\n",
       "      border-right-color: var(--fill-color);\n",
       "    }\n",
       "    40% {\n",
       "      border-color: transparent;\n",
       "      border-right-color: var(--fill-color);\n",
       "      border-top-color: var(--fill-color);\n",
       "    }\n",
       "    60% {\n",
       "      border-color: transparent;\n",
       "      border-right-color: var(--fill-color);\n",
       "    }\n",
       "    80% {\n",
       "      border-color: transparent;\n",
       "      border-right-color: var(--fill-color);\n",
       "      border-bottom-color: var(--fill-color);\n",
       "    }\n",
       "    90% {\n",
       "      border-color: transparent;\n",
       "      border-bottom-color: var(--fill-color);\n",
       "    }\n",
       "  }\n",
       "</style>\n",
       "\n",
       "      <script>\n",
       "        async function quickchart(key) {\n",
       "          const quickchartButtonEl =\n",
       "            document.querySelector('#' + key + ' button');\n",
       "          quickchartButtonEl.disabled = true;  // To prevent multiple clicks.\n",
       "          quickchartButtonEl.classList.add('colab-df-spinner');\n",
       "          try {\n",
       "            const charts = await google.colab.kernel.invokeFunction(\n",
       "                'suggestCharts', [key], {});\n",
       "          } catch (error) {\n",
       "            console.error('Error during call to suggestCharts:', error);\n",
       "          }\n",
       "          quickchartButtonEl.classList.remove('colab-df-spinner');\n",
       "          quickchartButtonEl.classList.add('colab-df-quickchart-complete');\n",
       "        }\n",
       "        (() => {\n",
       "          let quickchartButtonEl =\n",
       "            document.querySelector('#df-d5c0cad8-b7ae-4948-9362-144693e879ea button');\n",
       "          quickchartButtonEl.style.display =\n",
       "            google.colab.kernel.accessAllowed ? 'block' : 'none';\n",
       "        })();\n",
       "      </script>\n",
       "    </div>\n",
       "\n",
       "    </div>\n",
       "  </div>\n"
      ],
      "application/vnd.google.colaboratory.intrinsic+json": {
       "type": "dataframe",
       "variable_name": "clean_data",
       "summary": "{\n  \"name\": \"clean_data\",\n  \"rows\": 250,\n  \"fields\": [\n    {\n      \"column\": \"Unnamed: 0\",\n      \"properties\": {\n        \"dtype\": \"number\",\n        \"std\": 2718,\n        \"min\": 231,\n        \"max\": 9995,\n        \"num_unique_values\": 250,\n        \"samples\": [\n          4533,\n          6325,\n          7022\n        ],\n        \"semantic_type\": \"\",\n        \"description\": \"\"\n      }\n    },\n    {\n      \"column\": \"title\",\n      \"properties\": {\n        \"dtype\": \"string\",\n        \"num_unique_values\": 250,\n        \"samples\": [\n          \"4 Books by Caribbean Authors You Should Read\",\n          \"The Hoax that Inspired AI: The Mechanical Turk\",\n          \"Stop Burying Digital Advertising\"\n        ],\n        \"semantic_type\": \"\",\n        \"description\": \"\"\n      }\n    },\n    {\n      \"column\": \"text\",\n      \"properties\": {\n        \"dtype\": \"string\",\n        \"num_unique_values\": 250,\n        \"samples\": [\n          \"June is recognized as Caribbean-American Heritage Month. It is a time to recognize the significance of Caribbean people and their descendants in US history and culture. One way to learn about Caribbean influence, not just in the US, but globally, is through books. Hence my writing this post to encourage you to purchase and read books by Caribbean authors or authors of Caribbean heritage.\\n\\nThese Ghosts Are Family by Maisy Card\\n\\nThese Ghosts Are Family is a transgenerational family sage spanning over 200 years that details the ripple effect of ancestral decisions on present-day life.\\n\\nThe novel begins by revealing that Stanford Solomon is actually Abel Paisley, a man who faked his own death and stole the identity of his best friend.\\n\\nAnd now, nearing the end of his life, Stanford is about to meet his firstborn daughter, Irene Paisley, a home health aide who has shown up for her first day of work to tend to the father she thought was dead.\\n\\nThese Ghosts Are Family revolves around the consequences of Abel\\u2019s decision and tells the story of the Paisley family from colonial Jamaica to present-day Harlem.\\n\\nThe story of each member of the family was very unique as they try to create an identity outside of their family history and trauma. I haven\\u2019t read much about slavery in Jamaica, so it was \\u201cinteresting\\u201d and educational to read this. We often learn about the life of slaves in the American South, but not so much in the Caribbean so the book opened my eyes to the experiences of slaves in Jamaican plantations. I did feel like the book jumped around a lot between generations and character, so it was a little difficult to follow at first. However, once I got used to the structure it flowed much smoother.\\n\\n\\u201cEven though they were just words, they built a world that she couldn\\u2019t stop thinking about, that she felt trapped inside every night.\\u201d\\n\\nSurge by Jay Bernard\\n\\nImage by Uju Onyishi\\n\\nSurge is a collection of poems about the 1981 New Cross Fire, a house fire at a birthday party in south London that killed thirteen people all of whom were Black. The fire was initially believed to be a racist attack, but there was a sense of indifference from the police, the government and the press.\\n\\nThe collection also talks about the Grenfell fire on 14th June 2017. A case where institutional indifference to working-class lives left 72 people dead. The lack of justice and accountability in both cases exemplify Britain\\u2019s racist past and present.\\n\\nThe collection begins with the arrival of the Windrush Generation into Britain, followed by the New Cross Fire and then into present-day. The first few poems are told through the voices of ghosts and then it goes into real bodies. There was a lot of shifts in perspectives both between and within poems and that was done so effortlessly. I really enjoyed reading the collection. Some of the poems really spoke to me. But there were some that I didn\\u2019t quite understand (the struggles of reading poetry), though I was able to find some Youtube videos where Bernard reads and discusses the poems and that was extremely beneficial.\\n\\n\\u201cMe seh blood ah goh run for di pain of di loss\\u201d\\n\\nThe Perseverance by Raymond Antrobus\\n\\nImage by Uju Onyishi\\n\\nThe Perseverance is a collection of poems about the D/deaf experience in a hearing world, the author\\u2019s identity as a British-Jamaican and some poems about his father.\\n\\nReading this collection made me confront a privilege that I have, but hardly ever think about. I don\\u2019t know what else to say about this except that it was powerful and incredible. So much so that less than 12 hours after reading it for the first time I decided to reread the collection.\\n\\n\\u201cProving people wrong is great but tiring.\\u201d\\n\\nQueenie by Candice Carty-Williams\\n\\nImage by Uju Onyishi\\n\\nQueenie is a year in the life of a 25-year-old Black woman of Jamaican heritage living in London. At the start everything is okay. She\\u2019s living with her white boyfriend and has a job she worked hard to get. But then he wants to go on a break, so Queenie has to move out. And let\\u2019s just say she did not handle the break well.\\n\\nShe starts doing badly at work and having unprotected sex with various guys that showed her no respect. As the story goes on we learn that she experienced some childhood trauma that completely destroyed her self esteem and self-regard. And because of that, her default is self-sabotage.\\n\\nThe book touches on so many heavy topics including racism in Britain, micro-aggressions in the workplace, complicated family dynamics, the fetishization of the Black woman\\u2019s body and mental health issues. It did a good job in portraying the stigma surrounding going to therapy in the Black community. I also liked that Carty-Williams did not rush Queenie\\u2019s healing process. The story flowed so smoothly and it was written so vividly.\\n\\nI was really rooting for Queenie, but I couldn\\u2019t help but be annoyed by a lot of her actions. She is also such a contradictory character but the fact that she is such a flawed character make things more realistic. She stays current on the issues of police brutality and the Black Lives Matter movement but then she harbours so much self-hate and allows her body to be used by white men that just don\\u2019t care about her. Oh and don\\u2019t get me started on her relationship with Black men. It just goes show hoe white supremacist ideologies are so deeply rooted in our subconscious.\\n\\nI can\\u2019t recommend this book enough.\",\n          \"Artificial Intelligence. These two words spark a variety of emotions in today\\u2019s culture. For many, they flicker fear: fear of lost jobs, greater dependence on technology, and even fears spurred by science-fiction films imagining a future of robot overlords. Some members of the population view artificial intelligence with hopeful anticipation. They envision a world of greater relaxation spent pursuing projects of cultural and artistic significance free from the more mundane aspects of life on earth. Whichever vision you prefer, AI has changed daily life and appears to be shaping life for generations to come.\\n\\nDespite the plethora of views, most remain unaware of the hoax that inspired AI over 200 years ago.\\n\\nAs with all great stories, ours will begin in an 18th century palace. Empress Maria Theresa, ruler of Austria, appreciated a good magician. On frequent occasions, she invited only the best and brightest of the trade to entertain in her court. It was in Austria\\u2019s Schonbrunn Palace, in 1770, that yet another illusionist awed his observers. Yet, one audience member wasn\\u2019t impressed. Baron Wolfgang von Kempelen, an inventor specializing in physics, hydraulics, and mechanics, knew he could do better and he told the Empress so. Empress Maria gave the Baron six months to invent a device that could top any magician\\u2019s act (Garfinkel and Grunspan 36). Kempelen took the challenge, creating a device he claimed could beat any of the best human chess masters in the world (Garfinkel and Grunspan 36).\\n\\nAs a modern observer, let\\u2019s take a step back. Machines that play chess are not uncommon to us, but the year was 1770, and digital computers of complex operation had not yet been invented.\\n\\nWhen Baron Wolfgang introduced his device, he convinced the world that the device could play chess and respond to an unpredictable human using only mechanical means.\\n\\nHis contraption used a variety of gears, pulleys, hydraulics, and a simple crank (\\u201cMeet the Mechanical Turk\\u2026\\u201d).\\n\\nThe device involved a desk of sorts, behind which sat a wooden man in oriential dress. Under the desk was housed all of the mechanics. Kempelen went to great lengths to illustrate that his device was true to his claim. He always began a performance by opening small doors in the desk showing the opponent his device\\u2019s inner workings, convincing them it was in fact operated solely by mechanical means (Walter, \\u201cThe Mechanical Turk\\u2026\\u201d). Baron Wolfgang called his device the Automaton Chess Player (Eschner, \\u201cDebunking the Mechanical\\u2026\\u201d), later it came to be known as the \\u201cMechanical Turk.\\u201d\\n\\nTruth be told, the device impressed the Empress and baffled nearly every opponent it played.\\n\\nThe Mechanical Turk was good, almost too good.\\n\\nKempelen and its later owner, Johann Nepomuk M\\u00e4lzel (Fourtane, \\u201cThe Turk\\u2026\\u201d), took the Chess Player on a worldwide tour where it beat US ambassador Benjamin Franklin and poet Edgar Allen Poe (Garfinkel and Grunspan 36). Even Napoleon Bonaparte played the Mechanical Turk. He attempted a number of illegal moves and the Turk responded by moving the pieces back to their original locations. Eventually, the Turk had enough of Napoleon\\u2019s cheats and swept every piece from the board (Garfinkel and Grunspan 36).\\n\\nThe technology Kempelen claimed to have invented, \\u201ca thinking machine,\\u201d was unbelievable. As confused as many were, most refused to believe that the Mechanical Turk was truly operating by itself. Many believed that the device was operated by a human, but nobody could figure out how it was operated. A variety of theories abounded. Some believed that it was operated by thin wires and strong magnets from a distance, a trained monkey, or even evil spirits (\\u201cThe Mechanical Turk: AI\\u2026\\u201d). Edgar Allen Poe personally believed that it worked via a small human who crawled into the body of the wooden Turk (Eschner, \\u201cDebunking the Mechanical\\u2026\\u201d).\\n\\nAlthough the real operation of the Chess Player was a marvel of hidden engineering, it was indeed a hoax. A human operator was hidden inside the device. The Museum of Hoaxes reports on the real \\u201cmagic:\\u201d\\n\\nA series of sliding panels and a rolling chair allowed the automaton\\u2019s operator to hide while the interior of the machine was being displayed. The operator then controlled the Turk by means of a \\u2018pantograph\\u2019 device that synchronized his arm movements with those of the wooden Turk. Magnetic chess pieces allowed him to know what pieces were being moved on the board above his head (Museum of Hoaxes as quoted in Eschner, \\u201cDebunking the Mechanical\\u2026\\u201d).\\n\\nAfter befuddling and confounding many around the world over the course of 84 years, the Mechanical Turk was lost during a fire in the Chinese Museum of Philadelphia in 1854 (Fourtane, \\u201cThe Turk\\u2026\\u201d).\\n\\nAlthough the chess playing Mechanical Turk was a hoax and an illusion, many were inspired by the idea.\\n\\nEdgar Allen Poe was inspired to write his own hoax and detective stories, \\u201cmost famously the Balloon-Hoax of 1844, in which he wrote a series of fictionalized newspaper articles about a three-day trans-Atlantic balloon flight\\u201d (Eschner, \\u201cDebunking the Mechanical\\u2026\\u201d).\\n\\nOne man, Charles Babbage, was also inspired by the Turk. Babbage was an early computer scientist, creating the Analytical Engine which was really the first general purpose computer (Walter, \\u201cThe Mechanical Turk\\u2026\\u201d). Although quick to call the device a hoax \\u2014 after he was beaten twice by the Mechanical Turk \\u2014 he envisioned a future where a real device could beat a human chess player (Walter, \\u201cThe Mechanical Turk\\u2026\\u201d).\\n\\nHis dream saw reality in 1997 when IBM\\u2019s Deep Blue computer beat world-chess master Garry Kasparov (Greenemeier, \\u201c20 Years after\\u2026\\u201d).\\n\\nThe Mechanical Turk wasn\\u2019t artificial intelligence, but it sparked the thought for the first time. What if a device could mimic human thought? What would that device do? How would that device function? These are questions still being answered today.\\n\\nIn 2005 Amazon honored the legacy of the Mechanical Turk, by naming its new service after the device that sparked artificial intelligence (Schwartz, \\u201cUntold History\\u2026\\u201d). As Amazon grew, it realized it needed mundane tasks completed that, strangely, could not be completed by a computer. Just like the Turk was operated by a human appearing as a mechanical device, Amazon\\u2019s Mechanical Turk (or mTurk for short) is using humans to accomplish tasks by mimicking the appearance of a computer. Amazon Founder and CEO, Jeff Bezos, calls it \\u201cartificial artificial intelligence\\u201d (Schwartz, \\u201cUntold History\\u2026\\u201d). Human operators, any human on the Internet, can be paid to accomplish tasks via mTurk. To learn more about mTurk, visit Amazon\\u2019s website. However, if you think you\\u2019ve found a sweet new gig online, consider reading The Atlantic\\u2019s 2018 article.\\n\\nThe future of AI is still very much uncharted, but the research looks promising.\\n\\nAlready, AI is creating new kinds of data that offer life-altering insights into health and life on earth. AI is making cars and roads safer and allowing humans greater time to relax and pursue projects of interest and worldwide benefit. Given AI\\u2019s impact on our world and its promise for the future, we\\u2019ll be revisiting this topic significantly on our journey through the history of computers.\\n\\nThe Mechanical Turk was an elaborate hoax, yet it sparked inspiration for a new kind of technology that is still altering our world and lives. The Mechanical Turk is the eleventh major milestone in the history of computing.\\n\\nMore on the History of Computers:\",\n          \"A case for moving digital advertising up the funnel\\n\\nOriginally published at InsideHigherEd.com\\n\\nBy 2020, more than $117 billion will be spent on digital and mobile advertising in the U.S. And as marketing budgets continue to increase across our industry, the investment in digital advertising will likely continue to grow, as well.\\n\\nAs I survey our industry\\u2019s digital advertising output, it is clear that the bulk of ad dollars are going to direct response ads, those middle-of-the-funnel type.\\n\\nIs this the best strategy?\\n\\nThere is power in closely aligning digital (as well as social) advertising with traditional marketing efforts. To me, there is an obvious place for digital advertising in the marketing mix, but do we need to scrape the bottom of the supply-side barrel to increase digital metrics or only maintain a direct response approach?\\n\\nLess Direct\\n\\n\\u201cYou\\u2019re more likely to be accepted into Harvard than click on a banner.\\u201d \\u2014 \\u201cBanner Beater\\u201d\\n\\nMarketers enjoy a 0.05 percent click-through-rate across all industries. Why design for the less than one percent? As consumers continue to adopt to rapid media environments, behavior is becoming increasingly passive and content is being consumed in rapid succession. Similarly, there is little evidence, from a business perspective, that clicks are linked to brand impact or sales.\\n\\nDirect response ads rely on conscious consumption and rational messaging to provoke action, which is a lot to ask for when, according to Millward Brown, consumers look at display ads for less than three seconds. We must deliver our messages quickly to be effective. Concurrently, research has shown that 250 milliseconds of exposure on mobile display is enough to gain significant ad recall. Knowing the media environment in which our ads are often viewed, we should shift the mindset that digital advertising shouldn\\u2019t be primarily a conversion-only tactic and given a more brand-building role.\\n\\nTo adopt this approach, here are three principles to consider when developing your next digital advertising campaign.\\n\\nDesign for System One\\n\\n\\u201cWe (marketers) are in a System One business.\\u201d \\u2014 Rory Sutherland\\n\\nDaniel Kahneman introduced how we form thought in Thinking, Fast and Slow. The instinctual System One describes the part of mind that is responsible for fast, automatic and emotional agency. Roughly 80 percent of our decisions are made using System One, including most purchasing decisions. System Two is slower, used to make complex computations and requires attention.\\n\\nDirect response digital advertising relies on System Two and is meant to drive an action. Digital advertising meant to drive brand awareness doesn\\u2019t need active engagement or a unique-selling proposition. They simply need to be distinct enough to be stored as implicit memories and used as a shortcut by System One, knowing that the ads are being processed passively and subconsciously.\\n\\nTo be effective, digital ads should include a direct link to the brand via always-present branding (logo or name). Your logo is a distinctive asset that helps to maintain mental networks, improve saliency and linkage within the communication in the split-second consumers give to an ad. In this case, it might be best to ditch the elaborate research photo for better placement of your logo.\\n\\nInclude Brand Assets\\n\\n\\u201cRather than striving for meaningful perceived differentiation, marketers should seek meaningless distinctiveness. Branding lasts. Differentiation doesn\\u2019t.\\u201d\\u2013 Byron Sharp\\n\\nIn 2009, Tropicana learned the hard way the importance of brand assets. After ditching their distinctive straw-in-orange logo, font and green color pallet, the brand saw sales drop by 22 percent. Distinctive brand assets are unique identity elements of a brand, and it is these brand assets that our brains rely on to make purchasing decisions. Visual elements like fonts, colors and slogans, through repeat exposure, help build familiarity and memory structures related to the brand. The more brand assets you \\u201cown\\u201d the more likely you are to trigger brand memories in and amongst the digital clutter. Check out Ehrenberg-Bass\\u2019s Measure Your Distinctive Assets to assess what assets you should identify.\\n\\nMake it Integrated (And Get Creative)\\n\\n\\u201cUpwards of 50 percent of taps on mobile are on accident.\\u201d \\u2013Google Benchmark\\n\\nA quick survey of moat.com would indicate that many digital campaigns are designed in a vacuum. Digital ads should trigger any brand-level or recruitment campaigns \\u2014 building upon the familiarity of other tactics (i.e. brand assets).\\n\\nThere is also an opportunity to creatively integrate digital campaigns within the broader communications plan. The mere exposure effect indicates digital advertising is a great way to build familiarity before view books or event invites are sent, acting as a priming agent for message comprehension. Research also indicates that digital advertising and television work in synergy to improve campaign effectiveness. Why not build campaigns around television buys or football games? Similarly, why not use digital ads to build familiarity as part of your strategy for attracting prospective students and drive awareness between search campaigns?\\n\\nInstead of spending money on re-targeting, I have found success combining web data and CRM data to plan digital campaigns around moments of intent during the college search process. The data gave us a sense of how far out we needed to begin to build awareness. At the end of each advertising campaign we then used emails to convert and drive middle-of-the-funnel actions.\\n\\nIf we remove ourselves from the confines of using digital ads to drive conversions, we can begin to unlock the creative potential of digital ads playing a role in driving familiarity, which drives fluency and helps improve brand metrics throughout the funnel.\"\n        ],\n        \"semantic_type\": \"\",\n        \"description\": \"\"\n      }\n    },\n    {\n      \"column\": \"url\",\n      \"properties\": {\n        \"dtype\": \"string\",\n        \"num_unique_values\": 250,\n        \"samples\": [\n          \"https://medium.com/the-open-bookshelf/5-books-by-caribbean-authors-you-should-read-4ef0cb084cd4\",\n          \"https://medium.com/tech-is-a-tool/the-hoax-that-inspired-ai-the-mechanical-turk-2914ba2063bf\",\n          \"https://medium.com/chris-huebner/stop-burying-digital-advertising-7e92b93f8c80\"\n        ],\n        \"semantic_type\": \"\",\n        \"description\": \"\"\n      }\n    },\n    {\n      \"column\": \"authors\",\n      \"properties\": {\n        \"dtype\": \"object\",\n        \"semantic_type\": \"\",\n        \"description\": \"\"\n      }\n    },\n    {\n      \"column\": \"timestamp\",\n      \"properties\": {\n        \"dtype\": \"string\",\n        \"num_unique_values\": 250,\n        \"samples\": [\n          \"2020-06-18 11:58:29.978000+00:00\",\n          \"2020-06-06 13:31:01.164000+00:00\",\n          \"2018-12-28 02:07:46.821000+00:00\"\n        ],\n        \"semantic_type\": \"\",\n        \"description\": \"\"\n      }\n    },\n    {\n      \"column\": \"tags\",\n      \"properties\": {\n        \"dtype\": \"object\",\n        \"semantic_type\": \"\",\n        \"description\": \"\"\n      }\n    },\n    {\n      \"column\": \"timestamp_iso\",\n      \"properties\": {\n        \"dtype\": \"object\",\n        \"num_unique_values\": 250,\n        \"samples\": [\n          \"2020-06-18T11:58:29Z\",\n          \"2020-06-06T13:31:01Z\",\n          \"2018-12-28T02:07:46Z\"\n        ],\n        \"semantic_type\": \"\",\n        \"description\": \"\"\n      }\n    },\n    {\n      \"column\": \"year\",\n      \"properties\": {\n        \"dtype\": \"Int64\",\n        \"num_unique_values\": 6,\n        \"samples\": [\n          2020,\n          2019,\n          2015\n        ],\n        \"semantic_type\": \"\",\n        \"description\": \"\"\n      }\n    },\n    {\n      \"column\": \"id\",\n      \"properties\": {\n        \"dtype\": \"string\",\n        \"num_unique_values\": 250,\n        \"samples\": [\n          \"142\",\n          \"6\",\n          \"97\"\n        ],\n        \"semantic_type\": \"\",\n        \"description\": \"\"\n      }\n    },\n    {\n      \"column\": \"named_entity\",\n      \"properties\": {\n        \"dtype\": \"object\",\n        \"semantic_type\": \"\",\n        \"description\": \"\"\n      }\n    }\n  ]\n}"
      }
     },
     "metadata": {},
     "execution_count": 45
    }
   ],
   "source": [
    "# Inspect the data\n",
    "clean_data.head()"
   ]
  },
  {
   "cell_type": "markdown",
   "id": "33",
   "metadata": {
    "id": "33"
   },
   "source": [
    "## 2.3 Building Metadata\n",
    "\n",
    "After extracting entities, we enrich our dataset with a new metadata column. This metadata combines several fields - title, authors, timestamp, year, tags - together with the extracted named entities. This ensures that when we query Pinecone later, we can filter not only by semantic similarity but also by these metadata attributes."
   ]
  },
  {
   "cell_type": "code",
   "execution_count": 46,
   "id": "34",
   "metadata": {
    "id": "34"
   },
   "outputs": [],
   "source": [
    "# Creating \"metadata\" column\n",
    "clean_data['metadata'] = clean_data.apply(lambda x: {\n",
    "    \"title\": x[\"title\"],\n",
    "    \"authors\": x[\"authors\"],\n",
    "    \"timestamp\": x[\"timestamp_iso\"],\n",
    "    \"year\": x[\"year\"],\n",
    "    \"tags\": x[\"tags\"],\n",
    "    \"entities\": x[\"named_entity\"]\n",
    "}, axis=1)"
   ]
  },
  {
   "cell_type": "code",
   "execution_count": 47,
   "id": "35",
   "metadata": {
    "id": "35",
    "colab": {
     "base_uri": "https://localhost:8080/",
     "height": 204
    },
    "outputId": "0cd2a120-6ed3-49a9-b7f9-d1fd1e0e4142"
   },
   "outputs": [
    {
     "output_type": "execute_result",
     "data": {
      "text/plain": [
       "  id                                           metadata\n",
       "0  0  {'title': 'Anti-maskers Pushing for Herd Immun...\n",
       "1  1  {'title': 'Six Wrong Predictions Reported By t...\n",
       "2  2  {'title': 'The #1 Mistake I Made on Medium thi...\n",
       "3  3  {'title': '4 Signs You May Have an Anxious Att...\n",
       "4  4  {'title': 'Revit Like It\u2019s Sketchup', 'authors..."
      ],
      "text/html": [
       "\n",
       "  <div id=\"df-512a8088-dedc-46a8-9b30-a21747cf176d\" class=\"colab-df-container\">\n",
       "    <div>\n",
       "<style scoped>\n",
       "    .dataframe tbody tr th:only-of-type {\n",
       "        vertical-align: middle;\n",
       "    }\n",
       "\n",
       "    .dataframe tbody tr th {\n",
       "        vertical-align: top;\n",
       "    }\n",
       "\n",
       "    .dataframe thead th {\n",
       "        text-align: right;\n",
       "    }\n",
       "</style>\n",
       "<table border=\"1\" class=\"dataframe\">\n",
       "  <thead>\n",
       "    <tr style=\"text-align: right;\">\n",
       "      <th></th>\n",
       "      <th>id</th>\n",
       "      <th>metadata</th>\n",
       "    </tr>\n",
       "  </thead>\n",
       "  <tbody>\n",
       "    <tr>\n",
       "      <th>0</th>\n",
       "      <td>0</td>\n",
       "      <td>{'title': 'Anti-maskers Pushing for Herd Immun...</td>\n",
       "    </tr>\n",
       "    <tr>\n",
       "      <th>1</th>\n",
       "      <td>1</td>\n",
       "      <td>{'title': 'Six Wrong Predictions Reported By t...</td>\n",
       "    </tr>\n",
       "    <tr>\n",
       "      <th>2</th>\n",
       "      <td>2</td>\n",
       "      <td>{'title': 'The #1 Mistake I Made on Medium thi...</td>\n",
       "    </tr>\n",
       "    <tr>\n",
       "      <th>3</th>\n",
       "      <td>3</td>\n",
       "      <td>{'title': '4 Signs You May Have an Anxious Att...</td>\n",
       "    </tr>\n",
       "    <tr>\n",
       "      <th>4</th>\n",
       "      <td>4</td>\n",
       "      <td>{'title': 'Revit Like It\u2019s Sketchup', 'authors...</td>\n",
       "    </tr>\n",
       "  </tbody>\n",
       "</table>\n",
       "</div>\n",
       "    <div class=\"colab-df-buttons\">\n",
       "\n",
       "  <div class=\"colab-df-container\">\n",
       "    <button class=\"colab-df-convert\" onclick=\"convertToInteractive('df-512a8088-dedc-46a8-9b30-a21747cf176d')\"\n",
       "            title=\"Convert this dataframe to an interactive table.\"\n",
       "            style=\"display:none;\">\n",
       "\n",
       "  <svg xmlns=\"http://www.w3.org/2000/svg\" height=\"24px\" viewBox=\"0 -960 960 960\">\n",
       "    <path d=\"M120-120v-720h720v720H120Zm60-500h600v-160H180v160Zm220 220h160v-160H400v160Zm0 220h160v-160H400v160ZM180-400h160v-160H180v160Zm440 0h160v-160H620v160ZM180-180h160v-160H180v160Zm440 0h160v-160H620v160Z\"/>\n",
       "  </svg>\n",
       "    </button>\n",
       "\n",
       "  <style>\n",
       "    .colab-df-container {\n",
       "      display:flex;\n",
       "      gap: 12px;\n",
       "    }\n",
       "\n",
       "    .colab-df-convert {\n",
       "      background-color: #E8F0FE;\n",
       "      border: none;\n",
       "      border-radius: 50%;\n",
       "      cursor: pointer;\n",
       "      display: none;\n",
       "      fill: #1967D2;\n",
       "      height: 32px;\n",
       "      padding: 0 0 0 0;\n",
       "      width: 32px;\n",
       "    }\n",
       "\n",
       "    .colab-df-convert:hover {\n",
       "      background-color: #E2EBFA;\n",
       "      box-shadow: 0px 1px 2px rgba(60, 64, 67, 0.3), 0px 1px 3px 1px rgba(60, 64, 67, 0.15);\n",
       "      fill: #174EA6;\n",
       "    }\n",
       "\n",
       "    .colab-df-buttons div {\n",
       "      margin-bottom: 4px;\n",
       "    }\n",
       "\n",
       "    [theme=dark] .colab-df-convert {\n",
       "      background-color: #3B4455;\n",
       "      fill: #D2E3FC;\n",
       "    }\n",
       "\n",
       "    [theme=dark] .colab-df-convert:hover {\n",
       "      background-color: #434B5C;\n",
       "      box-shadow: 0px 1px 3px 1px rgba(0, 0, 0, 0.15);\n",
       "      filter: drop-shadow(0px 1px 2px rgba(0, 0, 0, 0.3));\n",
       "      fill: #FFFFFF;\n",
       "    }\n",
       "  </style>\n",
       "\n",
       "    <script>\n",
       "      const buttonEl =\n",
       "        document.querySelector('#df-512a8088-dedc-46a8-9b30-a21747cf176d button.colab-df-convert');\n",
       "      buttonEl.style.display =\n",
       "        google.colab.kernel.accessAllowed ? 'block' : 'none';\n",
       "\n",
       "      async function convertToInteractive(key) {\n",
       "        const element = document.querySelector('#df-512a8088-dedc-46a8-9b30-a21747cf176d');\n",
       "        const dataTable =\n",
       "          await google.colab.kernel.invokeFunction('convertToInteractive',\n",
       "                                                    [key], {});\n",
       "        if (!dataTable) return;\n",
       "\n",
       "        const docLinkHtml = 'Like what you see? Visit the ' +\n",
       "          '<a target=\"_blank\" href=https://colab.research.google.com/notebooks/data_table.ipynb>data table notebook</a>'\n",
       "          + ' to learn more about interactive tables.';\n",
       "        element.innerHTML = '';\n",
       "        dataTable['output_type'] = 'display_data';\n",
       "        await google.colab.output.renderOutput(dataTable, element);\n",
       "        const docLink = document.createElement('div');\n",
       "        docLink.innerHTML = docLinkHtml;\n",
       "        element.appendChild(docLink);\n",
       "      }\n",
       "    </script>\n",
       "  </div>\n",
       "\n",
       "\n",
       "    <div id=\"df-0e9a5ab2-e523-4fe7-87db-1c0c505a464e\">\n",
       "      <button class=\"colab-df-quickchart\" onclick=\"quickchart('df-0e9a5ab2-e523-4fe7-87db-1c0c505a464e')\"\n",
       "                title=\"Suggest charts\"\n",
       "                style=\"display:none;\">\n",
       "\n",
       "<svg xmlns=\"http://www.w3.org/2000/svg\" height=\"24px\"viewBox=\"0 0 24 24\"\n",
       "     width=\"24px\">\n",
       "    <g>\n",
       "        <path d=\"M19 3H5c-1.1 0-2 .9-2 2v14c0 1.1.9 2 2 2h14c1.1 0 2-.9 2-2V5c0-1.1-.9-2-2-2zM9 17H7v-7h2v7zm4 0h-2V7h2v10zm4 0h-2v-4h2v4z\"/>\n",
       "    </g>\n",
       "</svg>\n",
       "      </button>\n",
       "\n",
       "<style>\n",
       "  .colab-df-quickchart {\n",
       "      --bg-color: #E8F0FE;\n",
       "      --fill-color: #1967D2;\n",
       "      --hover-bg-color: #E2EBFA;\n",
       "      --hover-fill-color: #174EA6;\n",
       "      --disabled-fill-color: #AAA;\n",
       "      --disabled-bg-color: #DDD;\n",
       "  }\n",
       "\n",
       "  [theme=dark] .colab-df-quickchart {\n",
       "      --bg-color: #3B4455;\n",
       "      --fill-color: #D2E3FC;\n",
       "      --hover-bg-color: #434B5C;\n",
       "      --hover-fill-color: #FFFFFF;\n",
       "      --disabled-bg-color: #3B4455;\n",
       "      --disabled-fill-color: #666;\n",
       "  }\n",
       "\n",
       "  .colab-df-quickchart {\n",
       "    background-color: var(--bg-color);\n",
       "    border: none;\n",
       "    border-radius: 50%;\n",
       "    cursor: pointer;\n",
       "    display: none;\n",
       "    fill: var(--fill-color);\n",
       "    height: 32px;\n",
       "    padding: 0;\n",
       "    width: 32px;\n",
       "  }\n",
       "\n",
       "  .colab-df-quickchart:hover {\n",
       "    background-color: var(--hover-bg-color);\n",
       "    box-shadow: 0 1px 2px rgba(60, 64, 67, 0.3), 0 1px 3px 1px rgba(60, 64, 67, 0.15);\n",
       "    fill: var(--button-hover-fill-color);\n",
       "  }\n",
       "\n",
       "  .colab-df-quickchart-complete:disabled,\n",
       "  .colab-df-quickchart-complete:disabled:hover {\n",
       "    background-color: var(--disabled-bg-color);\n",
       "    fill: var(--disabled-fill-color);\n",
       "    box-shadow: none;\n",
       "  }\n",
       "\n",
       "  .colab-df-spinner {\n",
       "    border: 2px solid var(--fill-color);\n",
       "    border-color: transparent;\n",
       "    border-bottom-color: var(--fill-color);\n",
       "    animation:\n",
       "      spin 1s steps(1) infinite;\n",
       "  }\n",
       "\n",
       "  @keyframes spin {\n",
       "    0% {\n",
       "      border-color: transparent;\n",
       "      border-bottom-color: var(--fill-color);\n",
       "      border-left-color: var(--fill-color);\n",
       "    }\n",
       "    20% {\n",
       "      border-color: transparent;\n",
       "      border-left-color: var(--fill-color);\n",
       "      border-top-color: var(--fill-color);\n",
       "    }\n",
       "    30% {\n",
       "      border-color: transparent;\n",
       "      border-left-color: var(--fill-color);\n",
       "      border-top-color: var(--fill-color);\n",
       "      border-right-color: var(--fill-color);\n",
       "    }\n",
       "    40% {\n",
       "      border-color: transparent;\n",
       "      border-right-color: var(--fill-color);\n",
       "      border-top-color: var(--fill-color);\n",
       "    }\n",
       "    60% {\n",
       "      border-color: transparent;\n",
       "      border-right-color: var(--fill-color);\n",
       "    }\n",
       "    80% {\n",
       "      border-color: transparent;\n",
       "      border-right-color: var(--fill-color);\n",
       "      border-bottom-color: var(--fill-color);\n",
       "    }\n",
       "    90% {\n",
       "      border-color: transparent;\n",
       "      border-bottom-color: var(--fill-color);\n",
       "    }\n",
       "  }\n",
       "</style>\n",
       "\n",
       "      <script>\n",
       "        async function quickchart(key) {\n",
       "          const quickchartButtonEl =\n",
       "            document.querySelector('#' + key + ' button');\n",
       "          quickchartButtonEl.disabled = true;  // To prevent multiple clicks.\n",
       "          quickchartButtonEl.classList.add('colab-df-spinner');\n",
       "          try {\n",
       "            const charts = await google.colab.kernel.invokeFunction(\n",
       "                'suggestCharts', [key], {});\n",
       "          } catch (error) {\n",
       "            console.error('Error during call to suggestCharts:', error);\n",
       "          }\n",
       "          quickchartButtonEl.classList.remove('colab-df-spinner');\n",
       "          quickchartButtonEl.classList.add('colab-df-quickchart-complete');\n",
       "        }\n",
       "        (() => {\n",
       "          let quickchartButtonEl =\n",
       "            document.querySelector('#df-0e9a5ab2-e523-4fe7-87db-1c0c505a464e button');\n",
       "          quickchartButtonEl.style.display =\n",
       "            google.colab.kernel.accessAllowed ? 'block' : 'none';\n",
       "        })();\n",
       "      </script>\n",
       "    </div>\n",
       "\n",
       "    </div>\n",
       "  </div>\n"
      ],
      "application/vnd.google.colaboratory.intrinsic+json": {
       "type": "dataframe",
       "variable_name": "df_to_upsert",
       "summary": "{\n  \"name\": \"df_to_upsert\",\n  \"rows\": 250,\n  \"fields\": [\n    {\n      \"column\": \"id\",\n      \"properties\": {\n        \"dtype\": \"string\",\n        \"num_unique_values\": 250,\n        \"samples\": [\n          \"142\",\n          \"6\",\n          \"97\"\n        ],\n        \"semantic_type\": \"\",\n        \"description\": \"\"\n      }\n    },\n    {\n      \"column\": \"metadata\",\n      \"properties\": {\n        \"dtype\": \"object\",\n        \"semantic_type\": \"\",\n        \"description\": \"\"\n      }\n    }\n  ]\n}"
      }
     },
     "metadata": {},
     "execution_count": 47
    }
   ],
   "source": [
    "# Next, we prepare a new dataframe df_to_upsert with IDs and metadata\n",
    "df_to_upsert = clean_data[[\"id\", \"metadata\"]].copy()\n",
    "df_to_upsert.head()"
   ]
  },
  {
   "cell_type": "markdown",
   "id": "36",
   "metadata": {
    "id": "36"
   },
   "source": [
    "## 2.4 Generating Embeddings\n",
    "\n",
    "Finally, we'll create embeddings for each article using the pre-trained `all-MiniLM-L6-v2` model from SentenceTransformers and store them in the dataframe as Python lists under a new column \"values\":"
   ]
  },
  {
   "cell_type": "code",
   "execution_count": 48,
   "id": "37",
   "metadata": {
    "id": "37",
    "colab": {
     "base_uri": "https://localhost:8080/",
     "height": 401,
     "referenced_widgets": [
      "cbb5e76a73284457bdd55353066bd157",
      "e68d41119f2f45c68513798312a59f35",
      "340e1db289114fc68283779aa4480377",
      "2951fc38d6da47658c1bda3d07ecfbf5",
      "50398d46830a4f6fbe901fa261030eb2",
      "7e6578127aa9432e8a8b740b398aa912",
      "55556c38c0304e098919749fbe690d4f",
      "44e4ecf570994f7cb74a01ce9d1a172a",
      "95c1ae145dec4c84a875293a057e7390",
      "1d38f98745bc4712a4acc76ccf2ae7fe",
      "7e8bdd322ba847bd8e1c5465f59582cb",
      "c3119c2e9c834b34b2727ca9b179fe48",
      "a45456dd57064dc393b676039ebbc36c",
      "90119a57a62b4c2e87af4daef53b1196",
      "cf65e7fa72ff4d1ab96272425fccaf41",
      "dd6b56f74afe49afa1e07566dec01908",
      "00d6152066b8426b8cbee718a78088a6",
      "dd4ef7bcf2cd4144b9e2baeb8df1fdd7",
      "d0eb863478fd4c49a017d4198c8561bd",
      "5c5fa784bebb498ba8f628b6db14f646",
      "74f878beb6c344a6b2ba087ffbcd3cce",
      "3e206c13ed8a48e4990a1f75d2d070d8",
      "118bb570e8f44831a1d7f2cb5ca5ed85",
      "4df8017211d34bb1bc2ba27435ac74a2",
      "b7c0864fd1854254934aac5e45fa34de",
      "9b469770704d49ea8d7e857d19ca58a7",
      "c11d5dcec13149728d64ca15e2c60db6",
      "0ce0288c0ae0461cbe8c2a9c379c8516",
      "698f3c1b054d490cbbdeaee1de0b2b4d",
      "d49762fe049a4ec5a4af1cc12a7617fe",
      "58f35cb410dd43a29b8a26416ed3715c",
      "d33fa1ac2d04401cbcd94e4d3442d0df",
      "cb0cd5bab12b40d9924459bd9b0f33e2",
      "2181269569e04e3ea5462fa078b70e9f",
      "28c87871984941128d0f2f5a50792eb4",
      "ca0efde601cf412ebb84076309cc9615",
      "f6b0f50164ee426dba889c470e6e3757",
      "72e3f126ce1e42a9a4bbf81493569dc0",
      "04f5a14e609e44e6bb5905e35f33cc03",
      "e7815bea1d6942e0bcc7584e4c4262d5",
      "c050bdc385d74c779b558537569129d6",
      "a2dda1705d784dbdbe981c977ae7e358",
      "1f6c4a03f7ac4eaeae9a93199d646775",
      "e6953f27a5db47009bc5926569c8dda3",
      "ef1ac6703d3b49ad86a0beecf838a69e",
      "addb9de12fe44e00ab5b1ae82c2b727c",
      "a9bfb71dd54e41e68dc6078a146c0d1a",
      "e8c2451a5d554567a8e165158eb114ec",
      "4e9a3f01640e486e95cbb6e1708cb29f",
      "f469460aa56843c78428ba7f0db9f4d5",
      "373e2c3cc61d4f35bf3c565eb9114133",
      "bc538b6045c04d1597c97d10ab3ecb5d",
      "95dbd9340e50447fa27912e9dc7c2792",
      "eb840bb4655c4313b2e0def2fbfa9e35",
      "10ee3d72057c43c4a7b1f0c283b164e6",
      "b725d76df724481eb09b24db071a103b",
      "dbce1a911f4e4f89b78f09cd0d3ea32a",
      "37d7dcb69a53444e834934960e291116",
      "fc384de5951b483d9e2d95a5b03e2666",
      "7a0c08a61dff42bbabb1581dc6024f7e",
      "30de9b44a9e3423f97c7ecc26d99832c",
      "4088b29b3b174e33a780f6d14ba579d3",
      "fb10fdeb250a476989ca570fac27de4d",
      "df6dc7fc24bb490d877098d644db07df",
      "051c115a342a44a3a44c0e0d1d46ad46",
      "c7a3dcb241ec49d4a9fdd631d3159005",
      "e7ab466512164c45afee76cd8909ade1",
      "cf798d151d5c4b0ab2cc5856673801b3",
      "9d795cdbe129412bbc90d1d248555680",
      "62ae831436214d9d9dba294b3cbbe39e",
      "d2c43cee4caf46c7bc52d0304edbde9f",
      "1ba774439b6d4cc8a856bb54a1d1c3b7",
      "ff1963df3eb14dc5b0182bb524607cf1",
      "de6a046d0db24b128d9e5197cbf9383c",
      "75aa276909db4e45ab676b6f2c6dc033",
      "af49b1b6b56a42458e8b5ba7cb0c66e2",
      "b4c51fb05b974c159ec3b380a06ca640",
      "d68e763bffb54f4093b501009c663763",
      "5b132c73c2ff46efb1ae3f8cd2a3045e",
      "ab60fffcab8d421597e2f70d3840f9da",
      "b09af8931782426b902ff698b6e1d231",
      "5b8ef9f84536495db6d5960455649a6a",
      "fb3c58b4a502409ea52198dad0204fc2",
      "2c8843d617b246988508a9d140eb87ad",
      "87991de7e60d443b8f00f86d1ad31fb4",
      "99e234d21512414d80e761052c2c5024",
      "b6b0a282e63e4710b9094278df0c0f94",
      "b6707f5aeb544a7293008eb2d607e08a",
      "b271d1c8abd940f6b046321facf8c258",
      "a431abcbbc8f45498e86cfb4db229565",
      "5e4f775c10014089849f4d0baa399500",
      "cd71f1871d6d4c02ba26de738995c6b1",
      "6bfd453fd85a4e369467ec4395baf1f1",
      "730b235fcc9a4d3ca247563cd8cb816f",
      "807eb1439f49472f97ab50dee879a350",
      "d134c934912346cb9792f6819619f768",
      "f08f55dd2f2c494d883ede972337de88",
      "2787df1badf4497cb027153138254a06",
      "81260f17040c456a9880fd3f40e88adf",
      "281318c84d154106ac0c1d0d6911cbdd",
      "96e37d2931c7493a8412bcb1170ebfc5",
      "648ef8bb325d431c997c81d7fc95c3fa",
      "3a0c7a6af45b4b9d95e59dd2636d1cf0",
      "5a016c885c6c4cce92db6aa6687f4cb4",
      "2576dcf43f81477fb98add7fbd12f04c",
      "f4732ec004ae4cb88539ba43c4e92f80",
      "8c69c9f07fac48beb5a7becdaf7c35a8",
      "a4e88c788a1d4aa79e7a0f41ee23e2c8",
      "bcf9d62aa7ee470d8cb8dd5ca9fba531",
      "151d03dec1ec4402a86790d983a0d3a2",
      "a29f24a4932a43f4a16cc86b02b0cf45",
      "a184c0bd6aad4411b9f160d526567158",
      "24b57a1fd30b4efa9324d4aa4bd0e1bd",
      "7a2f58dc5ead4124bdd4eadadf8260bf",
      "86fdc2876e124309b19fe697cd7ccd83",
      "16db613d5ee0408e9d104cd599b8c590",
      "e9730e4663584be78a819856f3a550de",
      "ba55c1b3841e45d8869cf60f230891f1",
      "5f66d412a5974c08bedeed971cdf4128",
      "8db0434013be49d3af72e2a472765808",
      "ae9c7e91905c483191fe917937bddcd6",
      "8ec3fc9803974c61945f61e683da26e6",
      "39fc4845dd51477288c20843428e4318",
      "2159ae297e6c4e898c3e8e62b884bc49",
      "669b13ee48224acd8681b6db44142d2a",
      "3cdc35cafd534458b0396e30d3e19910",
      "e1c2f88c776049c194952632e1b936ed",
      "1cbb57a58ac34cb8a7e1a493c220dd32",
      "183862f5e19a4de79441881bf3c70f5f",
      "f8bcceeee3104bc58c65a05827608bbb",
      "cd4f35306ae940b282138b54af0cc7c1",
      "f1997044c38b4fb5aaa1aa87abd599de"
     ]
    },
    "outputId": "cd4e25c6-820b-4a1a-a19d-2ae14bb8037c"
   },
   "outputs": [
    {
     "output_type": "display_data",
     "data": {
      "text/plain": [
       "modules.json:   0%|          | 0.00/349 [00:00<?, ?B/s]"
      ],
      "application/vnd.jupyter.widget-view+json": {
       "version_major": 2,
       "version_minor": 0,
       "model_id": "cbb5e76a73284457bdd55353066bd157"
      }
     },
     "metadata": {}
    },
    {
     "output_type": "display_data",
     "data": {
      "text/plain": [
       "config_sentence_transformers.json:   0%|          | 0.00/116 [00:00<?, ?B/s]"
      ],
      "application/vnd.jupyter.widget-view+json": {
       "version_major": 2,
       "version_minor": 0,
       "model_id": "c3119c2e9c834b34b2727ca9b179fe48"
      }
     },
     "metadata": {}
    },
    {
     "output_type": "display_data",
     "data": {
      "text/plain": [
       "README.md: 0.00B [00:00, ?B/s]"
      ],
      "application/vnd.jupyter.widget-view+json": {
       "version_major": 2,
       "version_minor": 0,
       "model_id": "118bb570e8f44831a1d7f2cb5ca5ed85"
      }
     },
     "metadata": {}
    },
    {
     "output_type": "display_data",
     "data": {
      "text/plain": [
       "sentence_bert_config.json:   0%|          | 0.00/53.0 [00:00<?, ?B/s]"
      ],
      "application/vnd.jupyter.widget-view+json": {
       "version_major": 2,
       "version_minor": 0,
       "model_id": "2181269569e04e3ea5462fa078b70e9f"
      }
     },
     "metadata": {}
    },
    {
     "output_type": "display_data",
     "data": {
      "text/plain": [
       "config.json:   0%|          | 0.00/612 [00:00<?, ?B/s]"
      ],
      "application/vnd.jupyter.widget-view+json": {
       "version_major": 2,
       "version_minor": 0,
       "model_id": "ef1ac6703d3b49ad86a0beecf838a69e"
      }
     },
     "metadata": {}
    },
    {
     "output_type": "display_data",
     "data": {
      "text/plain": [
       "model.safetensors:   0%|          | 0.00/90.9M [00:00<?, ?B/s]"
      ],
      "application/vnd.jupyter.widget-view+json": {
       "version_major": 2,
       "version_minor": 0,
       "model_id": "b725d76df724481eb09b24db071a103b"
      }
     },
     "metadata": {}
    },
    {
     "output_type": "display_data",
     "data": {
      "text/plain": [
       "tokenizer_config.json:   0%|          | 0.00/350 [00:00<?, ?B/s]"
      ],
      "application/vnd.jupyter.widget-view+json": {
       "version_major": 2,
       "version_minor": 0,
       "model_id": "e7ab466512164c45afee76cd8909ade1"
      }
     },
     "metadata": {}
    },
    {
     "output_type": "display_data",
     "data": {
      "text/plain": [
       "vocab.txt: 0.00B [00:00, ?B/s]"
      ],
      "application/vnd.jupyter.widget-view+json": {
       "version_major": 2,
       "version_minor": 0,
       "model_id": "d68e763bffb54f4093b501009c663763"
      }
     },
     "metadata": {}
    },
    {
     "output_type": "display_data",
     "data": {
      "text/plain": [
       "tokenizer.json: 0.00B [00:00, ?B/s]"
      ],
      "application/vnd.jupyter.widget-view+json": {
       "version_major": 2,
       "version_minor": 0,
       "model_id": "b271d1c8abd940f6b046321facf8c258"
      }
     },
     "metadata": {}
    },
    {
     "output_type": "display_data",
     "data": {
      "text/plain": [
       "special_tokens_map.json:   0%|          | 0.00/112 [00:00<?, ?B/s]"
      ],
      "application/vnd.jupyter.widget-view+json": {
       "version_major": 2,
       "version_minor": 0,
       "model_id": "281318c84d154106ac0c1d0d6911cbdd"
      }
     },
     "metadata": {}
    },
    {
     "output_type": "display_data",
     "data": {
      "text/plain": [
       "config.json:   0%|          | 0.00/190 [00:00<?, ?B/s]"
      ],
      "application/vnd.jupyter.widget-view+json": {
       "version_major": 2,
       "version_minor": 0,
       "model_id": "a29f24a4932a43f4a16cc86b02b0cf45"
      }
     },
     "metadata": {}
    },
    {
     "output_type": "display_data",
     "data": {
      "text/plain": [
       "Batches:   0%|          | 0/4 [00:00<?, ?it/s]"
      ],
      "application/vnd.jupyter.widget-view+json": {
       "version_major": 2,
       "version_minor": 0,
       "model_id": "8ec3fc9803974c61945f61e683da26e6"
      }
     },
     "metadata": {}
    }
   ],
   "source": [
    "# Loading embedding model\n",
    "retriever = SentenceTransformer(\"all-MiniLM-L6-v2\", device=\"cpu\")\n",
    "\n",
    "# Getting texts\n",
    "texts = clean_data[\"text\"].tolist()\n",
    "\n",
    "# Creating embeddings\n",
    "embeddings = retriever.encode(\n",
    "    texts,\n",
    "    batch_size=64,\n",
    "    show_progress_bar=True,\n",
    "    convert_to_numpy=True,\n",
    "    normalize_embeddings=False\n",
    ")\n",
    "\n",
    "# Storing embeddings in DataFrame as lists\n",
    "df_to_upsert[\"values\"] = [vec.tolist() for vec in embeddings]"
   ]
  },
  {
   "cell_type": "code",
   "execution_count": 49,
   "id": "38",
   "metadata": {
    "id": "38",
    "colab": {
     "base_uri": "https://localhost:8080/",
     "height": 204
    },
    "outputId": "953238cc-6af7-43b3-e685-42ab560bf62d"
   },
   "outputs": [
    {
     "output_type": "execute_result",
     "data": {
      "text/plain": [
       "  id                                           metadata  \\\n",
       "0  0  {'title': 'Anti-maskers Pushing for Herd Immun...   \n",
       "1  1  {'title': 'Six Wrong Predictions Reported By t...   \n",
       "2  2  {'title': 'The #1 Mistake I Made on Medium thi...   \n",
       "3  3  {'title': '4 Signs You May Have an Anxious Att...   \n",
       "4  4  {'title': 'Revit Like It\u2019s Sketchup', 'authors...   \n",
       "\n",
       "                                              values  \n",
       "0  [0.032676707953214645, 0.04764920100569725, 0....  \n",
       "1  [0.0008722133934497833, -0.03343416005373001, ...  \n",
       "2  [0.008692548610270023, -0.06024245172739029, 0...  \n",
       "3  [0.08500546962022781, -0.029169099405407906, 0...  \n",
       "4  [-0.10077796876430511, 0.025403376668691635, 0...  "
      ],
      "text/html": [
       "\n",
       "  <div id=\"df-41fbb017-7f9f-4b91-8911-50501f6da782\" class=\"colab-df-container\">\n",
       "    <div>\n",
       "<style scoped>\n",
       "    .dataframe tbody tr th:only-of-type {\n",
       "        vertical-align: middle;\n",
       "    }\n",
       "\n",
       "    .dataframe tbody tr th {\n",
       "        vertical-align: top;\n",
       "    }\n",
       "\n",
       "    .dataframe thead th {\n",
       "        text-align: right;\n",
       "    }\n",
       "</style>\n",
       "<table border=\"1\" class=\"dataframe\">\n",
       "  <thead>\n",
       "    <tr style=\"text-align: right;\">\n",
       "      <th></th>\n",
       "      <th>id</th>\n",
       "      <th>metadata</th>\n",
       "      <th>values</th>\n",
       "    </tr>\n",
       "  </thead>\n",
       "  <tbody>\n",
       "    <tr>\n",
       "      <th>0</th>\n",
       "      <td>0</td>\n",
       "      <td>{'title': 'Anti-maskers Pushing for Herd Immun...</td>\n",
       "      <td>[0.032676707953214645, 0.04764920100569725, 0....</td>\n",
       "    </tr>\n",
       "    <tr>\n",
       "      <th>1</th>\n",
       "      <td>1</td>\n",
       "      <td>{'title': 'Six Wrong Predictions Reported By t...</td>\n",
       "      <td>[0.0008722133934497833, -0.03343416005373001, ...</td>\n",
       "    </tr>\n",
       "    <tr>\n",
       "      <th>2</th>\n",
       "      <td>2</td>\n",
       "      <td>{'title': 'The #1 Mistake I Made on Medium thi...</td>\n",
       "      <td>[0.008692548610270023, -0.06024245172739029, 0...</td>\n",
       "    </tr>\n",
       "    <tr>\n",
       "      <th>3</th>\n",
       "      <td>3</td>\n",
       "      <td>{'title': '4 Signs You May Have an Anxious Att...</td>\n",
       "      <td>[0.08500546962022781, -0.029169099405407906, 0...</td>\n",
       "    </tr>\n",
       "    <tr>\n",
       "      <th>4</th>\n",
       "      <td>4</td>\n",
       "      <td>{'title': 'Revit Like It\u2019s Sketchup', 'authors...</td>\n",
       "      <td>[-0.10077796876430511, 0.025403376668691635, 0...</td>\n",
       "    </tr>\n",
       "  </tbody>\n",
       "</table>\n",
       "</div>\n",
       "    <div class=\"colab-df-buttons\">\n",
       "\n",
       "  <div class=\"colab-df-container\">\n",
       "    <button class=\"colab-df-convert\" onclick=\"convertToInteractive('df-41fbb017-7f9f-4b91-8911-50501f6da782')\"\n",
       "            title=\"Convert this dataframe to an interactive table.\"\n",
       "            style=\"display:none;\">\n",
       "\n",
       "  <svg xmlns=\"http://www.w3.org/2000/svg\" height=\"24px\" viewBox=\"0 -960 960 960\">\n",
       "    <path d=\"M120-120v-720h720v720H120Zm60-500h600v-160H180v160Zm220 220h160v-160H400v160Zm0 220h160v-160H400v160ZM180-400h160v-160H180v160Zm440 0h160v-160H620v160ZM180-180h160v-160H180v160Zm440 0h160v-160H620v160Z\"/>\n",
       "  </svg>\n",
       "    </button>\n",
       "\n",
       "  <style>\n",
       "    .colab-df-container {\n",
       "      display:flex;\n",
       "      gap: 12px;\n",
       "    }\n",
       "\n",
       "    .colab-df-convert {\n",
       "      background-color: #E8F0FE;\n",
       "      border: none;\n",
       "      border-radius: 50%;\n",
       "      cursor: pointer;\n",
       "      display: none;\n",
       "      fill: #1967D2;\n",
       "      height: 32px;\n",
       "      padding: 0 0 0 0;\n",
       "      width: 32px;\n",
       "    }\n",
       "\n",
       "    .colab-df-convert:hover {\n",
       "      background-color: #E2EBFA;\n",
       "      box-shadow: 0px 1px 2px rgba(60, 64, 67, 0.3), 0px 1px 3px 1px rgba(60, 64, 67, 0.15);\n",
       "      fill: #174EA6;\n",
       "    }\n",
       "\n",
       "    .colab-df-buttons div {\n",
       "      margin-bottom: 4px;\n",
       "    }\n",
       "\n",
       "    [theme=dark] .colab-df-convert {\n",
       "      background-color: #3B4455;\n",
       "      fill: #D2E3FC;\n",
       "    }\n",
       "\n",
       "    [theme=dark] .colab-df-convert:hover {\n",
       "      background-color: #434B5C;\n",
       "      box-shadow: 0px 1px 3px 1px rgba(0, 0, 0, 0.15);\n",
       "      filter: drop-shadow(0px 1px 2px rgba(0, 0, 0, 0.3));\n",
       "      fill: #FFFFFF;\n",
       "    }\n",
       "  </style>\n",
       "\n",
       "    <script>\n",
       "      const buttonEl =\n",
       "        document.querySelector('#df-41fbb017-7f9f-4b91-8911-50501f6da782 button.colab-df-convert');\n",
       "      buttonEl.style.display =\n",
       "        google.colab.kernel.accessAllowed ? 'block' : 'none';\n",
       "\n",
       "      async function convertToInteractive(key) {\n",
       "        const element = document.querySelector('#df-41fbb017-7f9f-4b91-8911-50501f6da782');\n",
       "        const dataTable =\n",
       "          await google.colab.kernel.invokeFunction('convertToInteractive',\n",
       "                                                    [key], {});\n",
       "        if (!dataTable) return;\n",
       "\n",
       "        const docLinkHtml = 'Like what you see? Visit the ' +\n",
       "          '<a target=\"_blank\" href=https://colab.research.google.com/notebooks/data_table.ipynb>data table notebook</a>'\n",
       "          + ' to learn more about interactive tables.';\n",
       "        element.innerHTML = '';\n",
       "        dataTable['output_type'] = 'display_data';\n",
       "        await google.colab.output.renderOutput(dataTable, element);\n",
       "        const docLink = document.createElement('div');\n",
       "        docLink.innerHTML = docLinkHtml;\n",
       "        element.appendChild(docLink);\n",
       "      }\n",
       "    </script>\n",
       "  </div>\n",
       "\n",
       "\n",
       "    <div id=\"df-adcc2be7-fce9-47b8-aa78-ec3bf59ef371\">\n",
       "      <button class=\"colab-df-quickchart\" onclick=\"quickchart('df-adcc2be7-fce9-47b8-aa78-ec3bf59ef371')\"\n",
       "                title=\"Suggest charts\"\n",
       "                style=\"display:none;\">\n",
       "\n",
       "<svg xmlns=\"http://www.w3.org/2000/svg\" height=\"24px\"viewBox=\"0 0 24 24\"\n",
       "     width=\"24px\">\n",
       "    <g>\n",
       "        <path d=\"M19 3H5c-1.1 0-2 .9-2 2v14c0 1.1.9 2 2 2h14c1.1 0 2-.9 2-2V5c0-1.1-.9-2-2-2zM9 17H7v-7h2v7zm4 0h-2V7h2v10zm4 0h-2v-4h2v4z\"/>\n",
       "    </g>\n",
       "</svg>\n",
       "      </button>\n",
       "\n",
       "<style>\n",
       "  .colab-df-quickchart {\n",
       "      --bg-color: #E8F0FE;\n",
       "      --fill-color: #1967D2;\n",
       "      --hover-bg-color: #E2EBFA;\n",
       "      --hover-fill-color: #174EA6;\n",
       "      --disabled-fill-color: #AAA;\n",
       "      --disabled-bg-color: #DDD;\n",
       "  }\n",
       "\n",
       "  [theme=dark] .colab-df-quickchart {\n",
       "      --bg-color: #3B4455;\n",
       "      --fill-color: #D2E3FC;\n",
       "      --hover-bg-color: #434B5C;\n",
       "      --hover-fill-color: #FFFFFF;\n",
       "      --disabled-bg-color: #3B4455;\n",
       "      --disabled-fill-color: #666;\n",
       "  }\n",
       "\n",
       "  .colab-df-quickchart {\n",
       "    background-color: var(--bg-color);\n",
       "    border: none;\n",
       "    border-radius: 50%;\n",
       "    cursor: pointer;\n",
       "    display: none;\n",
       "    fill: var(--fill-color);\n",
       "    height: 32px;\n",
       "    padding: 0;\n",
       "    width: 32px;\n",
       "  }\n",
       "\n",
       "  .colab-df-quickchart:hover {\n",
       "    background-color: var(--hover-bg-color);\n",
       "    box-shadow: 0 1px 2px rgba(60, 64, 67, 0.3), 0 1px 3px 1px rgba(60, 64, 67, 0.15);\n",
       "    fill: var(--button-hover-fill-color);\n",
       "  }\n",
       "\n",
       "  .colab-df-quickchart-complete:disabled,\n",
       "  .colab-df-quickchart-complete:disabled:hover {\n",
       "    background-color: var(--disabled-bg-color);\n",
       "    fill: var(--disabled-fill-color);\n",
       "    box-shadow: none;\n",
       "  }\n",
       "\n",
       "  .colab-df-spinner {\n",
       "    border: 2px solid var(--fill-color);\n",
       "    border-color: transparent;\n",
       "    border-bottom-color: var(--fill-color);\n",
       "    animation:\n",
       "      spin 1s steps(1) infinite;\n",
       "  }\n",
       "\n",
       "  @keyframes spin {\n",
       "    0% {\n",
       "      border-color: transparent;\n",
       "      border-bottom-color: var(--fill-color);\n",
       "      border-left-color: var(--fill-color);\n",
       "    }\n",
       "    20% {\n",
       "      border-color: transparent;\n",
       "      border-left-color: var(--fill-color);\n",
       "      border-top-color: var(--fill-color);\n",
       "    }\n",
       "    30% {\n",
       "      border-color: transparent;\n",
       "      border-left-color: var(--fill-color);\n",
       "      border-top-color: var(--fill-color);\n",
       "      border-right-color: var(--fill-color);\n",
       "    }\n",
       "    40% {\n",
       "      border-color: transparent;\n",
       "      border-right-color: var(--fill-color);\n",
       "      border-top-color: var(--fill-color);\n",
       "    }\n",
       "    60% {\n",
       "      border-color: transparent;\n",
       "      border-right-color: var(--fill-color);\n",
       "    }\n",
       "    80% {\n",
       "      border-color: transparent;\n",
       "      border-right-color: var(--fill-color);\n",
       "      border-bottom-color: var(--fill-color);\n",
       "    }\n",
       "    90% {\n",
       "      border-color: transparent;\n",
       "      border-bottom-color: var(--fill-color);\n",
       "    }\n",
       "  }\n",
       "</style>\n",
       "\n",
       "      <script>\n",
       "        async function quickchart(key) {\n",
       "          const quickchartButtonEl =\n",
       "            document.querySelector('#' + key + ' button');\n",
       "          quickchartButtonEl.disabled = true;  // To prevent multiple clicks.\n",
       "          quickchartButtonEl.classList.add('colab-df-spinner');\n",
       "          try {\n",
       "            const charts = await google.colab.kernel.invokeFunction(\n",
       "                'suggestCharts', [key], {});\n",
       "          } catch (error) {\n",
       "            console.error('Error during call to suggestCharts:', error);\n",
       "          }\n",
       "          quickchartButtonEl.classList.remove('colab-df-spinner');\n",
       "          quickchartButtonEl.classList.add('colab-df-quickchart-complete');\n",
       "        }\n",
       "        (() => {\n",
       "          let quickchartButtonEl =\n",
       "            document.querySelector('#df-adcc2be7-fce9-47b8-aa78-ec3bf59ef371 button');\n",
       "          quickchartButtonEl.style.display =\n",
       "            google.colab.kernel.accessAllowed ? 'block' : 'none';\n",
       "        })();\n",
       "      </script>\n",
       "    </div>\n",
       "\n",
       "    </div>\n",
       "  </div>\n"
      ],
      "application/vnd.google.colaboratory.intrinsic+json": {
       "type": "dataframe",
       "variable_name": "df_to_upsert",
       "summary": "{\n  \"name\": \"df_to_upsert\",\n  \"rows\": 250,\n  \"fields\": [\n    {\n      \"column\": \"id\",\n      \"properties\": {\n        \"dtype\": \"string\",\n        \"num_unique_values\": 250,\n        \"samples\": [\n          \"142\",\n          \"6\",\n          \"97\"\n        ],\n        \"semantic_type\": \"\",\n        \"description\": \"\"\n      }\n    },\n    {\n      \"column\": \"metadata\",\n      \"properties\": {\n        \"dtype\": \"object\",\n        \"semantic_type\": \"\",\n        \"description\": \"\"\n      }\n    },\n    {\n      \"column\": \"values\",\n      \"properties\": {\n        \"dtype\": \"object\",\n        \"semantic_type\": \"\",\n        \"description\": \"\"\n      }\n    }\n  ]\n}"
      }
     },
     "metadata": {},
     "execution_count": 49
    }
   ],
   "source": [
    "df_to_upsert.head()"
   ]
  },
  {
   "cell_type": "markdown",
   "id": "39",
   "metadata": {
    "id": "39"
   },
   "source": [
    "## 2.5 Creating a Pinecone Index and Upserting the Data\n",
    "\n",
    "Now that we\u2019ve prepared our dataframe with unique IDs, metadata (including named entities) and vector embeddings, we\u2019re ready to upsert everything into Pinecone."
   ]
  },
  {
   "cell_type": "code",
   "execution_count": 52,
   "id": "40",
   "metadata": {
    "id": "40"
   },
   "outputs": [],
   "source": [
    "from google.colab import userdata\n",
    "\n",
    "# Load API key from Google Colab secrets\n",
    "pinecone_client = Pinecone(api_key=userdata.get('PINECONE_API_KEY'))"
   ]
  },
  {
   "cell_type": "code",
   "execution_count": 53,
   "id": "41",
   "metadata": {
    "id": "41",
    "colab": {
     "base_uri": "https://localhost:8080/"
    },
    "outputId": "7d058b8d-e9cd-4c36-890a-ccfe8a19492d"
   },
   "outputs": [
    {
     "output_type": "execute_result",
     "data": {
      "text/plain": [
       "{\n",
       "    \"name\": \"articles-ner\",\n",
       "    \"metric\": \"cosine\",\n",
       "    \"host\": \"articles-ner-lxoswle.svc.aped-4627-b74a.pinecone.io\",\n",
       "    \"spec\": {\n",
       "        \"serverless\": {\n",
       "            \"cloud\": \"aws\",\n",
       "            \"region\": \"us-east-1\"\n",
       "        }\n",
       "    },\n",
       "    \"status\": {\n",
       "        \"ready\": true,\n",
       "        \"state\": \"Ready\"\n",
       "    },\n",
       "    \"vector_type\": \"dense\",\n",
       "    \"dimension\": 384,\n",
       "    \"deletion_protection\": \"disabled\",\n",
       "    \"tags\": null\n",
       "}"
      ]
     },
     "metadata": {},
     "execution_count": 53
    }
   ],
   "source": [
    "# Creating an Index\n",
    "pinecone_client.create_index(name = \"articles-ner\",\n",
    "                             dimension = 384,\n",
    "                             metric = \"cosine\",\n",
    "                             spec = ServerlessSpec(\n",
    "                                 cloud = \"aws\",\n",
    "                                 region = \"us-east-1\"\n",
    "                             ))"
   ]
  },
  {
   "cell_type": "code",
   "execution_count": 54,
   "id": "42",
   "metadata": {
    "id": "42"
   },
   "outputs": [],
   "source": [
    "# Connecting\n",
    "index = pinecone_client.Index(\"articles-ner\")"
   ]
  },
  {
   "cell_type": "code",
   "execution_count": 55,
   "id": "43",
   "metadata": {
    "id": "43",
    "colab": {
     "base_uri": "https://localhost:8080/",
     "height": 66,
     "referenced_widgets": [
      "9d9df4bca14f4382af89274f2be36fa7",
      "bafb79462d1b48caa57c58fac9ea25e6",
      "372391fd69974a018872b06bb5e153b0",
      "e9b3083ae540435b904079b39c4976a0",
      "b0506d86560344318df40b6602976705",
      "e05e94acce6d4923b6d1299e73399721",
      "55a971c76d054219aa3078aba96041c1",
      "78c0fcd71d6249e396c2dee92f3695d2",
      "5c22c9a5ef38425e9307367380849f69",
      "d6174eb55b2c400ebfce5b5d45d1bd23",
      "4f251c6d83a041488b514c846a0f6bee"
     ]
    },
    "outputId": "e74cf827-ccd1-40b5-eb2d-b18b4131f380"
   },
   "outputs": [
    {
     "output_type": "display_data",
     "data": {
      "text/plain": [
       "sending upsert requests:   0%|          | 0/250 [00:00<?, ?it/s]"
      ],
      "application/vnd.jupyter.widget-view+json": {
       "version_major": 2,
       "version_minor": 0,
       "model_id": "9d9df4bca14f4382af89274f2be36fa7"
      }
     },
     "metadata": {}
    },
    {
     "output_type": "execute_result",
     "data": {
      "text/plain": [
       "{'upserted_count': 250}"
      ]
     },
     "metadata": {},
     "execution_count": 55
    }
   ],
   "source": [
    "# Upserting the data\n",
    "index.upsert_from_dataframe(\n",
    "    df_to_upsert,\n",
    "    batch_size = 500,\n",
    "    show_progress = True)"
   ]
  },
  {
   "cell_type": "markdown",
   "source": [
    "![Sni\u0301mka obrazovky 2025-10-28 o 9.34.19.png](data:image/png;base64,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)"
   ],
   "metadata": {
    "id": "ymMMoI2B9GK_"
   },
   "id": "ymMMoI2B9GK_"
  },
  {
   "cell_type": "markdown",
   "id": "45",
   "metadata": {
    "id": "45"
   },
   "source": [
    "## 2.6 Querying the Database"
   ]
  },
  {
   "cell_type": "markdown",
   "id": "46",
   "metadata": {
    "id": "46"
   },
   "source": [
    "First, we take our query and convert it to embedding:"
   ]
  },
  {
   "cell_type": "code",
   "execution_count": 77,
   "id": "47",
   "metadata": {
    "id": "47"
   },
   "outputs": [],
   "source": [
    "# Our question\n",
    "query = \"Find me articles regarding Artificial Intelligence\"\n",
    "\n",
    "# Embedding question to query vector\n",
    "emb_query = retriever.encode(query).tolist()"
   ]
  },
  {
   "cell_type": "markdown",
   "id": "48",
   "metadata": {
    "id": "48"
   },
   "source": [
    "Next, we run our NER pipeline on the query to detect important terms. In this case, the model extracts the entity \"UX\", which we then use as a metadata filter:"
   ]
  },
  {
   "cell_type": "code",
   "execution_count": 78,
   "id": "49",
   "metadata": {
    "id": "49",
    "colab": {
     "base_uri": "https://localhost:8080/"
    },
    "outputId": "d8251dce-d523-4ffc-b113-a3a5ca5fefd4"
   },
   "outputs": [
    {
     "output_type": "execute_result",
     "data": {
      "text/plain": [
       "['Artificial', 'Intelligence']"
      ]
     },
     "metadata": {},
     "execution_count": 78
    }
   ],
   "source": [
    "# Extracting named entity\n",
    "entity_filter = extract_entities([query])[0]\n",
    "entity_filter"
   ]
  },
  {
   "cell_type": "markdown",
   "id": "50",
   "metadata": {
    "id": "50"
   },
   "source": [
    "Finally, we query Pinecone with both the embedding and the entity filter:"
   ]
  },
  {
   "cell_type": "code",
   "execution_count": 86,
   "id": "51",
   "metadata": {
    "id": "51"
   },
   "outputs": [],
   "source": [
    "responses = index.query(\n",
    "    vector = emb_query,\n",
    "    top_k= 5,\n",
    "    include_metadata = True,\n",
    "    # Using named entity for filtering\n",
    "    filter = {\"entities\": {\"$in\" : entity_filter}})"
   ]
  },
  {
   "cell_type": "code",
   "source": [
    "for response in responses[\"matches\"]:\n",
    "    print(f\"{response['score']:.4f}\", \" \", response[\"metadata\"].get(\"entities\", []))"
   ],
   "metadata": {
    "colab": {
     "base_uri": "https://localhost:8080/"
    },
    "id": "ncSYtkTA_tAf",
    "outputId": "01dbdc6e-bd2f-4a88-fe8c-55bdd4d2c9c5"
   },
   "id": "ncSYtkTA_tAf",
   "execution_count": 87,
   "outputs": [
    {
     "output_type": "stream",
     "name": "stdout",
     "text": [
      "0.4005   ['AI', 'Artificial', 'Artificial Intelligence', 'COVID - 19', 'Consortium', 'Data and Artificial Intelligence', 'Ethics', 'Fight Against COVID - 19', 'GAIEC', 'Global AI Ethics Consortium', 'Intelligence', 'Pandemics', 'Stefaan Verhulst', 'TUM Institute for Ethics in Artificial Intelligence', 'of Data']\n",
      "0.3776   ['AI', 'Artificial', 'Austria', 'Maria', 'Maria Theresa', 'Schonbrunn Palace', 'Wolfgang', 'Wolfgang von Kempelen']\n"
     ]
    }
   ]
  },
  {
   "cell_type": "code",
   "source": [
    "# Displaying the results in a clean format\n",
    "for respose in responses[\"matches\"]:\n",
    "    print(f\"ID: {respose['id']}\")\n",
    "    print(f\"Score: {respose['score']:.4f}\")  # 4 decimal places\n",
    "    metadata = respose.get(\"metadata\", {})\n",
    "    print(\"Metadata:\")\n",
    "    for key, value in metadata.items():\n",
    "            print(f\" {key}: {value}\")\n",
    "    print(\"\\n\" + \"-\" * 40 + \"\\n\")"
   ],
   "metadata": {
    "colab": {
     "base_uri": "https://localhost:8080/"
    },
    "id": "E90RIhEN_xAV",
    "outputId": "bb9ec2d5-74a2-45a5-cbb3-f4a3842ed836"
   },
   "id": "E90RIhEN_xAV",
   "execution_count": 88,
   "outputs": [
    {
     "output_type": "stream",
     "name": "stdout",
     "text": [
      "ID: 89\n",
      "Score: 0.4005\n",
      "Metadata:\n",
      " authors: ['The Govlab']\n",
      " entities: ['AI', 'Artificial', 'Artificial Intelligence', 'COVID - 19', 'Consortium', 'Data and Artificial Intelligence', 'Ethics', 'Fight Against COVID - 19', 'GAIEC', 'Global AI Ethics Consortium', 'Intelligence', 'Pandemics', 'Stefaan Verhulst', 'TUM Institute for Ethics in Artificial Intelligence', 'of Data']\n",
      " tags: ['AI', 'Data', 'Covid 19']\n",
      " timestamp: 2020-04-15T14:12:49Z\n",
      " title: The Global AI Ethics Consortium (GAIEC) on Ethics and the Use of Data and Artificial Intelligence in the Fight Against COVID-19 and other Pandemics is officially launched\n",
      " year: 2020.0\n",
      "\n",
      "----------------------------------------\n",
      "\n",
      "ID: 6\n",
      "Score: 0.3776\n",
      "Metadata:\n",
      " authors: ['Benjamin Rhodes']\n",
      " entities: ['AI', 'Artificial', 'Austria', 'Maria', 'Maria Theresa', 'Schonbrunn Palace', 'Wolfgang', 'Wolfgang von Kempelen']\n",
      " tags: ['Computer History', 'Artificial Intelligence', 'Technology', 'History', 'Machine Learning']\n",
      " timestamp: 2020-06-06T13:31:01Z\n",
      " title: The Hoax that Inspired AI: The Mechanical Turk\n",
      " year: 2020.0\n",
      "\n",
      "----------------------------------------\n",
      "\n"
     ]
    }
   ]
  },
  {
   "cell_type": "markdown",
   "id": "52",
   "metadata": {
    "id": "52"
   },
   "source": [
    "The output shows 2 matches, each with a similarity score and the entities associated with the article."
   ]
  },
  {
   "cell_type": "markdown",
   "id": "53",
   "metadata": {
    "id": "53"
   },
   "source": [
    "### \ud83d\udcdd EXERCISE 2: Search with Entity Filtering\n",
    "\n",
    "\n",
    "\n",
    "**Your task:**\n",
    "1. Create a query that mentions a specific entity (person, organization, or location)\n",
    "   - Examples: \"How does Python work with AWS?\", \"Where can I find Machine Learning tutorials?\", How do I learn React development?.\n",
    "2. Extract entities from your query using the NER pipeline\n",
    "3. Create an embedding for your query text\n",
    "4. Query the Pinecone index with:\n",
    "   - The query embedding (for semantic similarity)\n",
    "   - An entity filter (to only return documents mentioning that entity)\n",
    "5. Display the top 3 results with their scores and detected entities\n"
   ]
  },
  {
   "cell_type": "code",
   "execution_count": 101,
   "id": "54",
   "metadata": {
    "id": "54"
   },
   "outputs": [],
   "source": [
    "# YOUR CODE HERE\n"
   ]
  },
  {
   "cell_type": "code",
   "source": [],
   "metadata": {
    "id": "HQ_q5y_OAGua"
   },
   "id": "HQ_q5y_OAGua",
   "execution_count": null,
   "outputs": []
  }
 ],
 "metadata": {
  "colab": {
   "provenance": []
  },
  "kernelspec": {
   "display_name": "Python 3 (ipykernel)",
   "language": "python",
   "name": "python3"
  },
  "language_info": {
   "codemirror_mode": {
    "name": "ipython",
    "version": 3
   },
   "file_extension": ".py",
   "mimetype": "text/x-python",
   "name": "python",
   "nbconvert_exporter": "python",
   "pygments_lexer": "ipython3",
   "version": "3.10.18"
  }
 },
 "nbformat": 4,
 "nbformat_minor": 5
}