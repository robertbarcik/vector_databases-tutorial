{
 "cells": [
  {
   "cell_type": "markdown",
   "metadata": {
    "id": "n7fUZbLIE9T_"
   },
   "source": [
    "# Setup: Installing Required Libraries\n",
    "\n",
    "Before we begin, we need to install the necessary Python libraries. Run the cell below to install all dependencies for this notebook."
   ]
  },
  {
   "cell_type": "code",
   "execution_count": 1,
   "metadata": {
    "colab": {
     "base_uri": "https://localhost:8080/"
    },
    "id": "PF224IYSE9UA",
    "outputId": "caa74f61-a2e1-42a6-dbad-e46b50022c18"
   },
   "outputs": [
    {
     "output_type": "stream",
     "name": "stdout",
     "text": [
      "\u001b[?25l     \u001b[90m\u2501\u2501\u2501\u2501\u2501\u2501\u2501\u2501\u2501\u2501\u2501\u2501\u2501\u2501\u2501\u2501\u2501\u2501\u2501\u2501\u2501\u2501\u2501\u2501\u2501\u2501\u2501\u2501\u2501\u2501\u2501\u2501\u2501\u2501\u2501\u2501\u2501\u2501\u2501\u2501\u001b[0m \u001b[32m0.0/67.3 kB\u001b[0m \u001b[31m?\u001b[0m eta \u001b[36m-:--:--\u001b[0m\r\u001b[2K     \u001b[90m\u2501\u2501\u2501\u2501\u2501\u2501\u2501\u2501\u2501\u2501\u2501\u2501\u2501\u2501\u2501\u2501\u2501\u2501\u2501\u2501\u2501\u2501\u2501\u2501\u2501\u2501\u2501\u2501\u2501\u2501\u2501\u2501\u2501\u2501\u2501\u2501\u2501\u2501\u2501\u2501\u001b[0m \u001b[32m67.3/67.3 kB\u001b[0m \u001b[31m3.7 MB/s\u001b[0m eta \u001b[36m0:00:00\u001b[0m\n",
      "\u001b[?25h  Installing build dependencies ... \u001b[?25l\u001b[?25hdone\n",
      "  Getting requirements to build wheel ... \u001b[?25l\u001b[?25hdone\n",
      "  Preparing metadata (pyproject.toml) ... \u001b[?25l\u001b[?25hdone\n",
      "\u001b[2K     \u001b[90m\u2501\u2501\u2501\u2501\u2501\u2501\u2501\u2501\u2501\u2501\u2501\u2501\u2501\u2501\u2501\u2501\u2501\u2501\u2501\u2501\u2501\u2501\u2501\u2501\u2501\u2501\u2501\u2501\u2501\u2501\u2501\u2501\u2501\u2501\u2501\u2501\u2501\u2501\u2501\u2501\u001b[0m \u001b[32m40.1/40.1 kB\u001b[0m \u001b[31m2.2 MB/s\u001b[0m eta \u001b[36m0:00:00\u001b[0m\n",
      "\u001b[2K     \u001b[90m\u2501\u2501\u2501\u2501\u2501\u2501\u2501\u2501\u2501\u2501\u2501\u2501\u2501\u2501\u2501\u2501\u2501\u2501\u2501\u2501\u2501\u2501\u2501\u2501\u2501\u2501\u2501\u2501\u2501\u2501\u2501\u2501\u2501\u2501\u2501\u2501\u2501\u2501\u2501\u2501\u001b[0m \u001b[32m42.2/42.2 kB\u001b[0m \u001b[31m2.4 MB/s\u001b[0m eta \u001b[36m0:00:00\u001b[0m\n",
      "\u001b[2K     \u001b[90m\u2501\u2501\u2501\u2501\u2501\u2501\u2501\u2501\u2501\u2501\u2501\u2501\u2501\u2501\u2501\u2501\u2501\u2501\u2501\u2501\u2501\u2501\u2501\u2501\u2501\u2501\u2501\u2501\u2501\u2501\u2501\u2501\u2501\u2501\u2501\u2501\u2501\u2501\u2501\u2501\u001b[0m \u001b[32m40.1/40.1 kB\u001b[0m \u001b[31m2.5 MB/s\u001b[0m eta \u001b[36m0:00:00\u001b[0m\n",
      "\u001b[2K     \u001b[90m\u2501\u2501\u2501\u2501\u2501\u2501\u2501\u2501\u2501\u2501\u2501\u2501\u2501\u2501\u2501\u2501\u2501\u2501\u2501\u2501\u2501\u2501\u2501\u2501\u2501\u2501\u2501\u2501\u2501\u2501\u2501\u2501\u2501\u2501\u2501\u2501\u2501\u2501\u2501\u2501\u001b[0m \u001b[32m42.0/42.0 kB\u001b[0m \u001b[31m3.1 MB/s\u001b[0m eta \u001b[36m0:00:00\u001b[0m\n",
      "\u001b[2K     \u001b[90m\u2501\u2501\u2501\u2501\u2501\u2501\u2501\u2501\u2501\u2501\u2501\u2501\u2501\u2501\u2501\u2501\u2501\u2501\u2501\u2501\u2501\u2501\u2501\u2501\u2501\u2501\u2501\u2501\u2501\u2501\u2501\u2501\u2501\u2501\u2501\u2501\u2501\u2501\u2501\u2501\u001b[0m \u001b[32m42.0/42.0 kB\u001b[0m \u001b[31m3.1 MB/s\u001b[0m eta \u001b[36m0:00:00\u001b[0m\n",
      "\u001b[2K     \u001b[90m\u2501\u2501\u2501\u2501\u2501\u2501\u2501\u2501\u2501\u2501\u2501\u2501\u2501\u2501\u2501\u2501\u2501\u2501\u2501\u2501\u2501\u2501\u2501\u2501\u2501\u2501\u2501\u2501\u2501\u2501\u2501\u2501\u2501\u2501\u2501\u2501\u2501\u2501\u2501\u2501\u001b[0m \u001b[32m42.0/42.0 kB\u001b[0m \u001b[31m2.9 MB/s\u001b[0m eta \u001b[36m0:00:00\u001b[0m\n",
      "\u001b[2K     \u001b[90m\u2501\u2501\u2501\u2501\u2501\u2501\u2501\u2501\u2501\u2501\u2501\u2501\u2501\u2501\u2501\u2501\u2501\u2501\u2501\u2501\u2501\u2501\u2501\u2501\u2501\u2501\u2501\u2501\u2501\u2501\u2501\u2501\u2501\u2501\u2501\u2501\u2501\u2501\u2501\u2501\u001b[0m \u001b[32m42.0/42.0 kB\u001b[0m \u001b[31m1.6 MB/s\u001b[0m eta \u001b[36m0:00:00\u001b[0m\n",
      "\u001b[2K     \u001b[90m\u2501\u2501\u2501\u2501\u2501\u2501\u2501\u2501\u2501\u2501\u2501\u2501\u2501\u2501\u2501\u2501\u2501\u2501\u2501\u2501\u2501\u2501\u2501\u2501\u2501\u2501\u2501\u2501\u2501\u2501\u2501\u2501\u2501\u2501\u2501\u2501\u2501\u2501\u2501\u2501\u001b[0m \u001b[32m41.7/41.7 kB\u001b[0m \u001b[31m2.9 MB/s\u001b[0m eta \u001b[36m0:00:00\u001b[0m\n",
      "\u001b[2K     \u001b[90m\u2501\u2501\u2501\u2501\u2501\u2501\u2501\u2501\u2501\u2501\u2501\u2501\u2501\u2501\u2501\u2501\u2501\u2501\u2501\u2501\u2501\u2501\u2501\u2501\u2501\u2501\u2501\u2501\u2501\u2501\u2501\u2501\u2501\u2501\u2501\u2501\u2501\u2501\u2501\u2501\u001b[0m \u001b[32m41.7/41.7 kB\u001b[0m \u001b[31m3.1 MB/s\u001b[0m eta \u001b[36m0:00:00\u001b[0m\n",
      "\u001b[2K     \u001b[90m\u2501\u2501\u2501\u2501\u2501\u2501\u2501\u2501\u2501\u2501\u2501\u2501\u2501\u2501\u2501\u2501\u2501\u2501\u2501\u2501\u2501\u2501\u2501\u2501\u2501\u2501\u2501\u2501\u2501\u2501\u2501\u2501\u2501\u2501\u2501\u2501\u2501\u2501\u2501\u2501\u001b[0m \u001b[32m40.9/40.9 kB\u001b[0m \u001b[31m3.1 MB/s\u001b[0m eta \u001b[36m0:00:00\u001b[0m\n",
      "\u001b[2K     \u001b[90m\u2501\u2501\u2501\u2501\u2501\u2501\u2501\u2501\u2501\u2501\u2501\u2501\u2501\u2501\u2501\u2501\u2501\u2501\u2501\u2501\u2501\u2501\u2501\u2501\u2501\u2501\u2501\u2501\u2501\u2501\u2501\u2501\u2501\u2501\u2501\u2501\u2501\u2501\u2501\u2501\u001b[0m \u001b[32m40.9/40.9 kB\u001b[0m \u001b[31m2.6 MB/s\u001b[0m eta \u001b[36m0:00:00\u001b[0m\n",
      "\u001b[2K     \u001b[90m\u2501\u2501\u2501\u2501\u2501\u2501\u2501\u2501\u2501\u2501\u2501\u2501\u2501\u2501\u2501\u2501\u2501\u2501\u2501\u2501\u2501\u2501\u2501\u2501\u2501\u2501\u2501\u2501\u2501\u2501\u2501\u2501\u2501\u2501\u2501\u2501\u2501\u2501\u2501\u2501\u001b[0m \u001b[32m40.9/40.9 kB\u001b[0m \u001b[31m3.2 MB/s\u001b[0m eta \u001b[36m0:00:00\u001b[0m\n",
      "\u001b[2K     \u001b[90m\u2501\u2501\u2501\u2501\u2501\u2501\u2501\u2501\u2501\u2501\u2501\u2501\u2501\u2501\u2501\u2501\u2501\u2501\u2501\u2501\u2501\u2501\u2501\u2501\u2501\u2501\u2501\u2501\u2501\u2501\u2501\u2501\u2501\u2501\u2501\u2501\u2501\u2501\u2501\u2501\u001b[0m \u001b[32m40.2/40.2 kB\u001b[0m \u001b[31m2.8 MB/s\u001b[0m eta \u001b[36m0:00:00\u001b[0m\n",
      "\u001b[2K     \u001b[90m\u2501\u2501\u2501\u2501\u2501\u2501\u2501\u2501\u2501\u2501\u2501\u2501\u2501\u2501\u2501\u2501\u2501\u2501\u2501\u2501\u2501\u2501\u2501\u2501\u2501\u2501\u2501\u2501\u2501\u2501\u2501\u2501\u2501\u2501\u2501\u2501\u2501\u2501\u2501\u2501\u001b[0m \u001b[32m40.2/40.2 kB\u001b[0m \u001b[31m3.4 MB/s\u001b[0m eta \u001b[36m0:00:00\u001b[0m\n",
      "\u001b[2K     \u001b[90m\u2501\u2501\u2501\u2501\u2501\u2501\u2501\u2501\u2501\u2501\u2501\u2501\u2501\u2501\u2501\u2501\u2501\u2501\u2501\u2501\u2501\u2501\u2501\u2501\u2501\u2501\u2501\u2501\u2501\u2501\u2501\u2501\u2501\u2501\u2501\u2501\u2501\u2501\u2501\u2501\u001b[0m \u001b[32m44.0/44.0 kB\u001b[0m \u001b[31m3.4 MB/s\u001b[0m eta \u001b[36m0:00:00\u001b[0m\n",
      "\u001b[2K     \u001b[90m\u2501\u2501\u2501\u2501\u2501\u2501\u2501\u2501\u2501\u2501\u2501\u2501\u2501\u2501\u2501\u2501\u2501\u2501\u2501\u2501\u2501\u2501\u2501\u2501\u2501\u2501\u2501\u2501\u2501\u2501\u2501\u2501\u2501\u2501\u2501\u2501\u2501\u2501\u2501\u2501\u001b[0m \u001b[32m44.4/44.4 kB\u001b[0m \u001b[31m3.0 MB/s\u001b[0m eta \u001b[36m0:00:00\u001b[0m\n",
      "\u001b[2K     \u001b[90m\u2501\u2501\u2501\u2501\u2501\u2501\u2501\u2501\u2501\u2501\u2501\u2501\u2501\u2501\u2501\u2501\u2501\u2501\u2501\u2501\u2501\u2501\u2501\u2501\u2501\u2501\u2501\u2501\u2501\u2501\u2501\u2501\u2501\u2501\u2501\u2501\u2501\u2501\u2501\u2501\u001b[0m \u001b[32m44.4/44.4 kB\u001b[0m \u001b[31m3.5 MB/s\u001b[0m eta \u001b[36m0:00:00\u001b[0m\n",
      "\u001b[2K     \u001b[90m\u2501\u2501\u2501\u2501\u2501\u2501\u2501\u2501\u2501\u2501\u2501\u2501\u2501\u2501\u2501\u2501\u2501\u2501\u2501\u2501\u2501\u2501\u2501\u2501\u2501\u2501\u2501\u2501\u2501\u2501\u2501\u2501\u2501\u2501\u2501\u2501\u2501\u2501\u2501\u2501\u001b[0m \u001b[32m44.4/44.4 kB\u001b[0m \u001b[31m3.0 MB/s\u001b[0m eta \u001b[36m0:00:00\u001b[0m\n",
      "\u001b[2K     \u001b[90m\u2501\u2501\u2501\u2501\u2501\u2501\u2501\u2501\u2501\u2501\u2501\u2501\u2501\u2501\u2501\u2501\u2501\u2501\u2501\u2501\u2501\u2501\u2501\u2501\u2501\u2501\u2501\u2501\u2501\u2501\u2501\u2501\u2501\u2501\u2501\u2501\u2501\u2501\u2501\u2501\u001b[0m \u001b[32m44.4/44.4 kB\u001b[0m \u001b[31m3.6 MB/s\u001b[0m eta \u001b[36m0:00:00\u001b[0m\n",
      "\u001b[2K     \u001b[90m\u2501\u2501\u2501\u2501\u2501\u2501\u2501\u2501\u2501\u2501\u2501\u2501\u2501\u2501\u2501\u2501\u2501\u2501\u2501\u2501\u2501\u2501\u2501\u2501\u2501\u2501\u2501\u2501\u2501\u2501\u2501\u2501\u2501\u2501\u2501\u2501\u2501\u2501\u2501\u2501\u001b[0m \u001b[32m44.1/44.1 kB\u001b[0m \u001b[31m3.7 MB/s\u001b[0m eta \u001b[36m0:00:00\u001b[0m\n",
      "\u001b[2K     \u001b[90m\u2501\u2501\u2501\u2501\u2501\u2501\u2501\u2501\u2501\u2501\u2501\u2501\u2501\u2501\u2501\u2501\u2501\u2501\u2501\u2501\u2501\u2501\u2501\u2501\u2501\u2501\u2501\u2501\u2501\u2501\u2501\u2501\u2501\u2501\u2501\u2501\u2501\u2501\u2501\u2501\u001b[0m \u001b[32m43.5/43.5 kB\u001b[0m \u001b[31m3.5 MB/s\u001b[0m eta \u001b[36m0:00:00\u001b[0m\n",
      "\u001b[2K     \u001b[90m\u2501\u2501\u2501\u2501\u2501\u2501\u2501\u2501\u2501\u2501\u2501\u2501\u2501\u2501\u2501\u2501\u2501\u2501\u2501\u2501\u2501\u2501\u2501\u2501\u2501\u2501\u2501\u2501\u2501\u2501\u2501\u2501\u2501\u2501\u2501\u2501\u2501\u2501\u2501\u2501\u001b[0m \u001b[32m44.1/44.1 kB\u001b[0m \u001b[31m3.6 MB/s\u001b[0m eta \u001b[36m0:00:00\u001b[0m\n",
      "\u001b[2K   \u001b[90m\u2501\u2501\u2501\u2501\u2501\u2501\u2501\u2501\u2501\u2501\u2501\u2501\u2501\u2501\u2501\u2501\u2501\u2501\u2501\u2501\u2501\u2501\u2501\u2501\u2501\u2501\u2501\u2501\u2501\u2501\u2501\u2501\u2501\u2501\u2501\u2501\u2501\u2501\u2501\u2501\u001b[0m \u001b[32m628.3/628.3 kB\u001b[0m \u001b[31m18.7 MB/s\u001b[0m eta \u001b[36m0:00:00\u001b[0m\n",
      "\u001b[2K   \u001b[90m\u2501\u2501\u2501\u2501\u2501\u2501\u2501\u2501\u2501\u2501\u2501\u2501\u2501\u2501\u2501\u2501\u2501\u2501\u2501\u2501\u2501\u2501\u2501\u2501\u2501\u2501\u2501\u2501\u2501\u2501\u2501\u2501\u2501\u2501\u2501\u2501\u2501\u2501\u2501\u2501\u001b[0m \u001b[32m389.6/389.6 kB\u001b[0m \u001b[31m27.1 MB/s\u001b[0m eta \u001b[36m0:00:00\u001b[0m\n",
      "\u001b[2K   \u001b[90m\u2501\u2501\u2501\u2501\u2501\u2501\u2501\u2501\u2501\u2501\u2501\u2501\u2501\u2501\u2501\u2501\u2501\u2501\u2501\u2501\u2501\u2501\u2501\u2501\u2501\u2501\u2501\u2501\u2501\u2501\u2501\u2501\u2501\u2501\u2501\u2501\u2501\u2501\u2501\u2501\u001b[0m \u001b[32m268.8/268.8 kB\u001b[0m \u001b[31m19.7 MB/s\u001b[0m eta \u001b[36m0:00:00\u001b[0m\n",
      "\u001b[2K   \u001b[90m\u2501\u2501\u2501\u2501\u2501\u2501\u2501\u2501\u2501\u2501\u2501\u2501\u2501\u2501\u2501\u2501\u2501\u2501\u2501\u2501\u2501\u2501\u2501\u2501\u2501\u2501\u2501\u2501\u2501\u2501\u2501\u2501\u2501\u2501\u2501\u2501\u2501\u2501\u2501\u2501\u001b[0m \u001b[32m2.4/2.4 MB\u001b[0m \u001b[31m58.1 MB/s\u001b[0m eta \u001b[36m0:00:00\u001b[0m\n",
      "\u001b[2K   \u001b[90m\u2501\u2501\u2501\u2501\u2501\u2501\u2501\u2501\u2501\u2501\u2501\u2501\u2501\u2501\u2501\u2501\u2501\u2501\u2501\u2501\u2501\u2501\u2501\u2501\u2501\u2501\u2501\u2501\u2501\u2501\u2501\u2501\u2501\u2501\u2501\u2501\u2501\u2501\u2501\u2501\u001b[0m \u001b[32m278.2/278.2 kB\u001b[0m \u001b[31m23.7 MB/s\u001b[0m eta \u001b[36m0:00:00\u001b[0m\n",
      "\u001b[2K   \u001b[90m\u2501\u2501\u2501\u2501\u2501\u2501\u2501\u2501\u2501\u2501\u2501\u2501\u2501\u2501\u2501\u2501\u2501\u2501\u2501\u2501\u2501\u2501\u2501\u2501\u2501\u2501\u2501\u2501\u2501\u2501\u2501\u2501\u2501\u2501\u2501\u2501\u2501\u2501\u2501\u2501\u001b[0m \u001b[32m2.0/2.0 MB\u001b[0m \u001b[31m78.5 MB/s\u001b[0m eta \u001b[36m0:00:00\u001b[0m\n",
      "\u001b[2K   \u001b[90m\u2501\u2501\u2501\u2501\u2501\u2501\u2501\u2501\u2501\u2501\u2501\u2501\u2501\u2501\u2501\u2501\u2501\u2501\u2501\u2501\u2501\u2501\u2501\u2501\u2501\u2501\u2501\u2501\u2501\u2501\u2501\u2501\u2501\u2501\u2501\u2501\u2501\u2501\u2501\u2501\u001b[0m \u001b[32m103.3/103.3 kB\u001b[0m \u001b[31m8.7 MB/s\u001b[0m eta \u001b[36m0:00:00\u001b[0m\n",
      "\u001b[2K   \u001b[90m\u2501\u2501\u2501\u2501\u2501\u2501\u2501\u2501\u2501\u2501\u2501\u2501\u2501\u2501\u2501\u2501\u2501\u2501\u2501\u2501\u2501\u2501\u2501\u2501\u2501\u2501\u2501\u2501\u2501\u2501\u2501\u2501\u2501\u2501\u2501\u2501\u2501\u2501\u2501\u2501\u001b[0m \u001b[32m17.4/17.4 MB\u001b[0m \u001b[31m97.1 MB/s\u001b[0m eta \u001b[36m0:00:00\u001b[0m\n",
      "\u001b[2K   \u001b[90m\u2501\u2501\u2501\u2501\u2501\u2501\u2501\u2501\u2501\u2501\u2501\u2501\u2501\u2501\u2501\u2501\u2501\u2501\u2501\u2501\u2501\u2501\u2501\u2501\u2501\u2501\u2501\u2501\u2501\u2501\u2501\u2501\u2501\u2501\u2501\u2501\u2501\u2501\u2501\u2501\u001b[0m \u001b[32m72.5/72.5 kB\u001b[0m \u001b[31m5.6 MB/s\u001b[0m eta \u001b[36m0:00:00\u001b[0m\n",
      "\u001b[2K   \u001b[90m\u2501\u2501\u2501\u2501\u2501\u2501\u2501\u2501\u2501\u2501\u2501\u2501\u2501\u2501\u2501\u2501\u2501\u2501\u2501\u2501\u2501\u2501\u2501\u2501\u2501\u2501\u2501\u2501\u2501\u2501\u2501\u2501\u2501\u2501\u2501\u2501\u2501\u2501\u2501\u2501\u001b[0m \u001b[32m208.0/208.0 kB\u001b[0m \u001b[31m14.8 MB/s\u001b[0m eta \u001b[36m0:00:00\u001b[0m\n",
      "\u001b[2K   \u001b[90m\u2501\u2501\u2501\u2501\u2501\u2501\u2501\u2501\u2501\u2501\u2501\u2501\u2501\u2501\u2501\u2501\u2501\u2501\u2501\u2501\u2501\u2501\u2501\u2501\u2501\u2501\u2501\u2501\u2501\u2501\u2501\u2501\u2501\u2501\u2501\u2501\u2501\u2501\u2501\u2501\u001b[0m \u001b[32m65.9/65.9 kB\u001b[0m \u001b[31m5.1 MB/s\u001b[0m eta \u001b[36m0:00:00\u001b[0m\n",
      "\u001b[2K   \u001b[90m\u2501\u2501\u2501\u2501\u2501\u2501\u2501\u2501\u2501\u2501\u2501\u2501\u2501\u2501\u2501\u2501\u2501\u2501\u2501\u2501\u2501\u2501\u2501\u2501\u2501\u2501\u2501\u2501\u2501\u2501\u2501\u2501\u2501\u2501\u2501\u2501\u2501\u2501\u2501\u2501\u001b[0m \u001b[32m132.3/132.3 kB\u001b[0m \u001b[31m10.3 MB/s\u001b[0m eta \u001b[36m0:00:00\u001b[0m\n",
      "\u001b[2K   \u001b[90m\u2501\u2501\u2501\u2501\u2501\u2501\u2501\u2501\u2501\u2501\u2501\u2501\u2501\u2501\u2501\u2501\u2501\u2501\u2501\u2501\u2501\u2501\u2501\u2501\u2501\u2501\u2501\u2501\u2501\u2501\u2501\u2501\u2501\u2501\u2501\u2501\u2501\u2501\u2501\u2501\u001b[0m \u001b[32m138.7/138.7 kB\u001b[0m \u001b[31m10.6 MB/s\u001b[0m eta \u001b[36m0:00:00\u001b[0m\n",
      "\u001b[2K   \u001b[90m\u2501\u2501\u2501\u2501\u2501\u2501\u2501\u2501\u2501\u2501\u2501\u2501\u2501\u2501\u2501\u2501\u2501\u2501\u2501\u2501\u2501\u2501\u2501\u2501\u2501\u2501\u2501\u2501\u2501\u2501\u2501\u2501\u2501\u2501\u2501\u2501\u2501\u2501\u2501\u2501\u001b[0m \u001b[32m3.0/3.0 MB\u001b[0m \u001b[31m101.7 MB/s\u001b[0m eta \u001b[36m0:00:00\u001b[0m\n",
      "\u001b[2K   \u001b[90m\u2501\u2501\u2501\u2501\u2501\u2501\u2501\u2501\u2501\u2501\u2501\u2501\u2501\u2501\u2501\u2501\u2501\u2501\u2501\u2501\u2501\u2501\u2501\u2501\u2501\u2501\u2501\u2501\u2501\u2501\u2501\u2501\u2501\u2501\u2501\u2501\u2501\u2501\u2501\u2501\u001b[0m \u001b[32m10.0/10.0 MB\u001b[0m \u001b[31m119.2 MB/s\u001b[0m eta \u001b[36m0:00:00\u001b[0m\n",
      "\u001b[2K   \u001b[90m\u2501\u2501\u2501\u2501\u2501\u2501\u2501\u2501\u2501\u2501\u2501\u2501\u2501\u2501\u2501\u2501\u2501\u2501\u2501\u2501\u2501\u2501\u2501\u2501\u2501\u2501\u2501\u2501\u2501\u2501\u2501\u2501\u2501\u2501\u2501\u2501\u2501\u2501\u2501\u2501\u001b[0m \u001b[32m517.7/517.7 kB\u001b[0m \u001b[31m33.7 MB/s\u001b[0m eta \u001b[36m0:00:00\u001b[0m\n",
      "\u001b[2K   \u001b[90m\u2501\u2501\u2501\u2501\u2501\u2501\u2501\u2501\u2501\u2501\u2501\u2501\u2501\u2501\u2501\u2501\u2501\u2501\u2501\u2501\u2501\u2501\u2501\u2501\u2501\u2501\u2501\u2501\u2501\u2501\u2501\u2501\u2501\u2501\u2501\u2501\u2501\u2501\u2501\u2501\u001b[0m \u001b[32m128.4/128.4 kB\u001b[0m \u001b[31m10.8 MB/s\u001b[0m eta \u001b[36m0:00:00\u001b[0m\n",
      "\u001b[2K   \u001b[90m\u2501\u2501\u2501\u2501\u2501\u2501\u2501\u2501\u2501\u2501\u2501\u2501\u2501\u2501\u2501\u2501\u2501\u2501\u2501\u2501\u2501\u2501\u2501\u2501\u2501\u2501\u2501\u2501\u2501\u2501\u2501\u2501\u2501\u2501\u2501\u2501\u2501\u2501\u2501\u2501\u001b[0m \u001b[32m4.4/4.4 MB\u001b[0m \u001b[31m105.8 MB/s\u001b[0m eta \u001b[36m0:00:00\u001b[0m\n",
      "\u001b[2K   \u001b[90m\u2501\u2501\u2501\u2501\u2501\u2501\u2501\u2501\u2501\u2501\u2501\u2501\u2501\u2501\u2501\u2501\u2501\u2501\u2501\u2501\u2501\u2501\u2501\u2501\u2501\u2501\u2501\u2501\u2501\u2501\u2501\u2501\u2501\u2501\u2501\u2501\u2501\u2501\u2501\u2501\u001b[0m \u001b[32m456.8/456.8 kB\u001b[0m \u001b[31m30.4 MB/s\u001b[0m eta \u001b[36m0:00:00\u001b[0m\n",
      "\u001b[2K   \u001b[90m\u2501\u2501\u2501\u2501\u2501\u2501\u2501\u2501\u2501\u2501\u2501\u2501\u2501\u2501\u2501\u2501\u2501\u2501\u2501\u2501\u2501\u2501\u2501\u2501\u2501\u2501\u2501\u2501\u2501\u2501\u2501\u2501\u2501\u2501\u2501\u2501\u2501\u2501\u2501\u2501\u001b[0m \u001b[32m46.0/46.0 kB\u001b[0m \u001b[31m3.7 MB/s\u001b[0m eta \u001b[36m0:00:00\u001b[0m\n",
      "\u001b[2K   \u001b[90m\u2501\u2501\u2501\u2501\u2501\u2501\u2501\u2501\u2501\u2501\u2501\u2501\u2501\u2501\u2501\u2501\u2501\u2501\u2501\u2501\u2501\u2501\u2501\u2501\u2501\u2501\u2501\u2501\u2501\u2501\u2501\u2501\u2501\u2501\u2501\u2501\u2501\u2501\u2501\u2501\u001b[0m \u001b[32m86.8/86.8 kB\u001b[0m \u001b[31m6.2 MB/s\u001b[0m eta \u001b[36m0:00:00\u001b[0m\n",
      "\u001b[2K   \u001b[90m\u2501\u2501\u2501\u2501\u2501\u2501\u2501\u2501\u2501\u2501\u2501\u2501\u2501\u2501\u2501\u2501\u2501\u2501\u2501\u2501\u2501\u2501\u2501\u2501\u2501\u2501\u2501\u2501\u2501\u2501\u2501\u2501\u2501\u2501\u2501\u2501\u2501\u2501\u2501\u2501\u001b[0m \u001b[32m88.0/88.0 kB\u001b[0m \u001b[31m7.1 MB/s\u001b[0m eta \u001b[36m0:00:00\u001b[0m\n",
      "\u001b[?25h  Building wheel for pypika (pyproject.toml) ... \u001b[?25l\u001b[?25hdone\n",
      "\u001b[31mERROR: pip's dependency resolver does not currently take into account all the packages that are installed. This behaviour is the source of the following dependency conflicts.\n",
      "opentelemetry-exporter-otlp-proto-http 1.37.0 requires opentelemetry-exporter-otlp-proto-common==1.37.0, but you have opentelemetry-exporter-otlp-proto-common 1.38.0 which is incompatible.\n",
      "opentelemetry-exporter-otlp-proto-http 1.37.0 requires opentelemetry-proto==1.37.0, but you have opentelemetry-proto 1.38.0 which is incompatible.\n",
      "opentelemetry-exporter-otlp-proto-http 1.37.0 requires opentelemetry-sdk~=1.37.0, but you have opentelemetry-sdk 1.38.0 which is incompatible.\n",
      "google-adk 1.16.0 requires opentelemetry-api<=1.37.0,>=1.37.0, but you have opentelemetry-api 1.38.0 which is incompatible.\n",
      "google-adk 1.16.0 requires opentelemetry-sdk<=1.37.0,>=1.37.0, but you have opentelemetry-sdk 1.38.0 which is incompatible.\u001b[0m\u001b[31m\n",
      "\u001b[0m\u2705 All libraries installed successfully!\n",
      "\u26a0\ufe0f  IMPORTANT: Please restart your kernel/runtime now before running the next cell!\n"
     ]
    }
   ],
   "source": [
    "# Install required libraries with compatible versions for Google Colab\n",
    "# Note: These versions are tested to work together in Colab's Python 3.12 environment\n",
    "!pip install -q chromadb==0.5.23 openai==1.54.3 sentence-transformers==3.3.1\n",
    "\n",
    "print(\"\u2705 All libraries installed successfully!\")\n",
    "print(\"\u26a0\ufe0f  IMPORTANT: Please restart your kernel/runtime now before running the next cell!\")"
   ]
  },
  {
   "cell_type": "markdown",
   "metadata": {
    "id": "Fv2D5PlDE9UB"
   },
   "source": [
    "### \ud83d\udca1 Installation Note\n",
    "\n",
    "If you see **dependency conflict warnings** during installation, you can safely **ignore them** - they won't affect this notebook.\n",
    "\n",
    "**Remember:** Always restart your runtime after installation! (Runtime \u2192 Restart runtime)\n",
    "\n",
    "---"
   ]
  },
  {
   "cell_type": "markdown",
   "metadata": {
    "id": "_XvgVfqfxbYB"
   },
   "source": [
    "# 1. Creating Embeddings Locally\n",
    "\n",
    "We\u2019ll start by generating embeddings locally. This means the text will be converted into numerical vectors right on your computer. Let's import `embedding_functions` module which provides various embedding functions.  \n"
   ]
  },
  {
   "cell_type": "code",
   "execution_count": 1,
   "metadata": {
    "id": "_d9paMe4vr1t"
   },
   "outputs": [],
   "source": [
    "# Importing\n",
    "import os\n",
    "import warnings\n",
    "import logging\n",
    "\n",
    "# Suppress ChromaDB telemetry and warning messages\n",
    "os.environ['ANONYMIZED_TELEMETRY'] = 'False'\n",
    "logging.getLogger('chromadb').setLevel(logging.ERROR)\n",
    "warnings.filterwarnings('ignore', category=UserWarning, module='chromadb')\n",
    "\n",
    "import chromadb\n",
    "from chromadb.utils import embedding_functions\n",
    "from dotenv import load_dotenv"
   ]
  },
  {
   "cell_type": "markdown",
   "metadata": {
    "id": "TdHUWxhj1mod"
   },
   "source": [
    "We'll use the default embedding function with the model called `all-MiniLM-L6-v2` which outputs a **384-dimensional vector** for each piece of text."
   ]
  },
  {
   "cell_type": "code",
   "execution_count": 2,
   "metadata": {
    "id": "6OKAlOYevwHD"
   },
   "outputs": [],
   "source": [
    "# Instantiating embedding function\n",
    "default_emb_function = embedding_functions.DefaultEmbeddingFunction()"
   ]
  },
  {
   "cell_type": "markdown",
   "metadata": {
    "id": "EBICbVMB2qr6"
   },
   "source": [
    "Let's create an embedding from the name \"Robert\":"
   ]
  },
  {
   "cell_type": "code",
   "execution_count": 3,
   "metadata": {
    "id": "Fw_-xr_fvxZ3"
   },
   "outputs": [],
   "source": [
    "name = \"Robert\""
   ]
  },
  {
   "cell_type": "markdown",
   "metadata": {
    "id": "_tUwkTJM24HI"
   },
   "source": [
    "The result will be a list containing a single 384-dimensional vector:"
   ]
  },
  {
   "cell_type": "code",
   "execution_count": 4,
   "metadata": {
    "id": "ZBAUMdwbv3Kw",
    "outputId": "4e376f19-cca2-4135-b05c-a988b24ed2ef",
    "colab": {
     "base_uri": "https://localhost:8080/"
    }
   },
   "outputs": [
    {
     "output_type": "stream",
     "name": "stderr",
     "text": [
      "/root/.cache/chroma/onnx_models/all-MiniLM-L6-v2/onnx.tar.gz: 100%|\u2588\u2588\u2588\u2588\u2588\u2588\u2588\u2588\u2588\u2588| 79.3M/79.3M [00:01<00:00, 78.3MiB/s]\n"
     ]
    },
    {
     "output_type": "stream",
     "name": "stdout",
     "text": [
      "Number of input texts processed: 1\n",
      "Size of embedding vector: 384\n",
      "\n",
      "\n",
      "Vector:\n"
     ]
    },
    {
     "output_type": "execute_result",
     "data": {
      "text/plain": [
       "[array([-5.40348403e-02,  2.66963579e-02, -1.07305117e-01, -3.67461587e-03,\n",
       "         2.53224410e-02,  8.88966583e-03,  5.59045300e-02, -3.29155568e-03,\n",
       "         5.70123643e-02,  3.28125805e-02, -1.74496006e-02,  6.33188430e-03,\n",
       "         1.40350554e-02, -3.61221321e-02,  3.36330826e-03,  3.51374224e-02,\n",
       "        -2.78370660e-02,  5.34730554e-02, -8.47225115e-02, -1.26681840e-02,\n",
       "        -6.80675730e-02,  3.88935283e-02, -1.20294970e-02, -7.86136463e-03,\n",
       "        -4.20105755e-02,  5.02251461e-02,  3.13598849e-02, -1.27794947e-02,\n",
       "        -3.43163162e-02, -9.33534801e-02,  1.29755056e-02, -3.51988003e-02,\n",
       "         4.75362279e-02, -2.08198167e-02, -1.13180177e-02, -2.02551633e-02,\n",
       "        -5.41168079e-02,  9.20452550e-02, -3.33941751e-03, -2.63320655e-02,\n",
       "        -5.79898469e-02, -8.11530724e-02,  3.83732133e-02,  1.89567916e-02,\n",
       "        -3.14504877e-02, -8.28366913e-03,  3.84795256e-02, -5.64144850e-02,\n",
       "         1.22147299e-01,  5.90696186e-02, -3.08633652e-02, -1.09670050e-02,\n",
       "        -3.37739848e-02,  6.85103564e-03,  3.06482762e-02, -1.74662389e-03,\n",
       "        -5.89022897e-02, -1.43405637e-02, -3.18650180e-03,  4.90240827e-02,\n",
       "        -3.02680172e-02,  4.67204787e-02, -1.26431108e-01,  3.95908058e-02,\n",
       "         4.12487760e-02,  5.71018234e-02, -7.21221417e-02, -3.73353101e-02,\n",
       "        -5.16682975e-02, -1.47291264e-02, -7.28574023e-02, -5.28577380e-02,\n",
       "         2.41320357e-02, -9.70572457e-02,  4.81748395e-02, -2.74553075e-02,\n",
       "         3.63299660e-02,  2.74346396e-02,  1.62062440e-02, -1.47098778e-02,\n",
       "         2.66879797e-03, -6.31221235e-02, -8.68823752e-02, -3.84288467e-02,\n",
       "        -1.52610634e-02,  5.95553406e-02,  7.13406578e-02, -5.59078157e-02,\n",
       "         4.07841662e-03,  1.54634728e-03,  1.63875744e-02, -2.64261514e-02,\n",
       "         5.95728904e-02,  3.95741351e-02, -2.21775137e-02,  4.27139029e-02,\n",
       "        -1.58592872e-03,  6.99530821e-03, -7.81462416e-02,  2.60308921e-01,\n",
       "        -3.51358764e-02,  4.03874852e-02, -6.55130902e-03,  4.01715226e-02,\n",
       "        -2.55973302e-02, -2.88747549e-02, -3.64726176e-03,  7.13102445e-02,\n",
       "         6.15675747e-02, -4.17361520e-02, -9.70343873e-03, -9.79197491e-03,\n",
       "         4.07872954e-03,  6.31592199e-02,  1.04552865e-01, -5.46463579e-02,\n",
       "         5.47690019e-02, -4.48268885e-03,  2.56139692e-02, -5.84906563e-02,\n",
       "         5.87890521e-02,  5.16024046e-02, -7.44781345e-02, -3.09295710e-02,\n",
       "         1.82462707e-02,  3.64474431e-02,  8.27443451e-02, -4.85625075e-33,\n",
       "         4.87494692e-02,  8.22030008e-02,  9.54308808e-02,  6.72358787e-03,\n",
       "        -4.72660288e-02,  4.52845544e-03, -6.75620511e-02, -3.96658778e-02,\n",
       "        -4.76980023e-02,  4.29874398e-02,  2.31613088e-02, -1.36852674e-02,\n",
       "        -6.97181076e-02, -1.81314442e-02,  4.92455764e-03,  4.95084375e-02,\n",
       "         5.05296960e-02, -1.86484661e-02,  6.66622818e-02,  2.39714757e-02,\n",
       "        -8.00620168e-02,  1.95912868e-01, -2.47989092e-02,  5.06674126e-02,\n",
       "         3.03677153e-02, -3.14438269e-02,  3.78691666e-02,  4.39753942e-03,\n",
       "         3.24790776e-02,  3.18041258e-02,  2.10640766e-02,  7.64920264e-02,\n",
       "         4.64492274e-04,  3.90050076e-02,  7.41905645e-02, -4.95611727e-02,\n",
       "        -2.72232592e-02, -1.78282820e-02,  1.52947549e-02, -3.70016396e-02,\n",
       "         1.81811042e-02,  8.70554824e-04, -7.59390276e-03,  8.56366530e-02,\n",
       "        -6.88859448e-02, -2.54920982e-02,  2.13915221e-02,  5.17884679e-02,\n",
       "         4.95357662e-02,  4.71436325e-03,  3.36260838e-03,  2.02175342e-02,\n",
       "        -1.04248133e-02,  3.56299840e-02,  5.95655013e-03, -6.96316138e-02,\n",
       "        -4.35766727e-02, -2.41436511e-02,  3.10611911e-02, -1.78363062e-02,\n",
       "         1.97974034e-02,  8.53621066e-02,  1.76137108e-02,  1.34909719e-01,\n",
       "         4.67243750e-04, -1.51478350e-01, -4.82954318e-03, -5.02318628e-02,\n",
       "         2.28591971e-02, -4.97223018e-03, -5.85353859e-02,  6.42747730e-02,\n",
       "         8.82953703e-02, -1.20749315e-02, -1.15233148e-02,  2.20310744e-02,\n",
       "        -1.69486683e-02,  4.11805138e-02,  8.96054879e-03,  2.98789013e-02,\n",
       "        -5.20549119e-02, -4.83892709e-02, -1.36458850e-03, -1.12925470e-02,\n",
       "        -3.97031344e-02, -2.48037092e-02, -1.10899627e-01, -8.06264207e-02,\n",
       "        -1.52683388e-02, -1.54007645e-02, -5.90390265e-02, -1.12482607e-02,\n",
       "         9.83793661e-03,  2.54003499e-02,  4.47934540e-03,  3.08961058e-33,\n",
       "         1.20839560e-02, -5.64065091e-02,  7.79588297e-02,  9.88063589e-02,\n",
       "         1.06253341e-01, -2.26842649e-02,  5.26926741e-02, -5.88784292e-02,\n",
       "        -3.75265554e-02, -4.61314544e-02, -6.53213914e-03, -1.33002540e-02,\n",
       "         1.75545532e-02, -4.06502895e-02,  8.99746567e-02, -2.41432060e-02,\n",
       "         3.31001282e-02, -6.74635470e-02,  1.36906020e-02, -1.74867846e-02,\n",
       "         1.60788111e-02,  3.27390544e-02, -3.15400697e-02, -1.14333108e-01,\n",
       "         2.06673052e-02,  1.25654927e-03,  8.39904025e-02,  7.34468624e-02,\n",
       "        -1.19575620e-01, -2.38211937e-02,  2.51911320e-02,  4.73449416e-02,\n",
       "        -7.21258856e-03, -6.85603023e-02, -9.76959914e-02,  1.08961880e-01,\n",
       "         8.09457898e-03,  2.90552806e-03, -2.19720080e-02,  9.32072289e-03,\n",
       "         3.35831456e-02, -1.61941890e-02, -6.59111701e-03,  4.30952273e-02,\n",
       "         3.89115140e-02, -5.24019897e-02, -3.17336954e-02, -2.48748437e-02,\n",
       "         3.93279418e-02,  2.38728076e-02, -5.68833947e-02,  2.04095487e-02,\n",
       "         4.57973307e-04, -6.12635612e-02,  6.75708577e-02,  4.28745560e-02,\n",
       "         4.43023406e-02,  5.98534942e-03,  3.18623073e-02,  8.34506974e-02,\n",
       "        -6.25145882e-02,  8.42212215e-02,  3.32962126e-02,  4.47501466e-02,\n",
       "         1.02048172e-02,  2.03204956e-02, -3.71224550e-03,  3.66217420e-02,\n",
       "         2.68327799e-02,  2.51453673e-03,  1.20142870e-01, -5.95402457e-02,\n",
       "        -7.32740341e-03,  2.97148377e-02,  6.52061170e-03,  1.92662608e-02,\n",
       "        -4.94058281e-02,  4.83029708e-02, -6.83844835e-02,  2.46293638e-02,\n",
       "        -5.26081212e-02, -5.20073995e-02, -2.32669208e-02,  9.50030535e-02,\n",
       "        -9.68593583e-02,  3.45390319e-04,  1.03732362e-01, -8.03449526e-02,\n",
       "        -1.30345607e-02,  1.16229160e-02,  9.81909595e-03, -1.02260172e-01,\n",
       "         2.58307643e-02, -5.16851284e-02, -2.03658193e-02, -1.16701324e-08,\n",
       "         1.35722794e-02, -2.48675589e-02, -5.55056781e-02, -1.19068444e-01,\n",
       "         2.33440790e-02,  4.09010686e-02,  3.80486622e-02, -6.01117453e-03,\n",
       "        -8.32831860e-02,  7.73769766e-02,  3.08242440e-02, -6.06928533e-03,\n",
       "         7.51455128e-02,  1.46259842e-02,  8.53420049e-02, -4.95981351e-02,\n",
       "        -1.98879037e-02, -4.37597707e-02, -5.41053675e-02, -2.24379636e-02,\n",
       "         1.36761311e-02, -4.01881933e-02,  4.69029993e-02, -2.57841870e-02,\n",
       "         4.16789902e-03,  2.94420440e-02,  9.62188747e-03,  1.95222683e-02,\n",
       "        -1.00982981e-02,  6.58382475e-02, -4.32530493e-02,  3.74254882e-02,\n",
       "        -1.48242852e-02, -2.70519615e-03,  5.28217293e-02, -4.91042472e-02,\n",
       "        -2.34661810e-02, -6.71778172e-02,  2.20529269e-02,  3.75809870e-03,\n",
       "        -4.69888449e-02,  5.87554052e-02,  1.51678836e-02,  1.39231654e-02,\n",
       "        -3.22803408e-02, -1.06194271e-02,  3.93768512e-02,  2.54252534e-02,\n",
       "        -5.08063808e-02, -7.25823790e-02,  1.80814024e-02,  3.52076180e-02,\n",
       "        -3.08027826e-02,  6.10554032e-02,  2.16354392e-02,  8.30512028e-03,\n",
       "         3.16278972e-02,  1.27074523e-02, -6.68213665e-02, -6.06773049e-02,\n",
       "         7.39836693e-02, -5.80220334e-02, -6.67637289e-02, -5.41566201e-02],\n",
       "       dtype=float32)]"
      ]
     },
     "metadata": {},
     "execution_count": 4
    }
   ],
   "source": [
    "# Creating an embedding\n",
    "local_emb = default_emb_function([name])\n",
    "\n",
    "print(\"Number of input texts processed:\", len(local_emb))\n",
    "print(\"Size of embedding vector:\", len(local_emb[0]))\n",
    "print(\"\\n\")\n",
    "print(\"Vector:\")\n",
    "local_emb"
   ]
  },
  {
   "cell_type": "markdown",
   "metadata": {
    "id": "FNvMY2LbE9UC"
   },
   "source": [
    "### \ud83d\udcdd EXERCISE 1: Create Your Own Embeddings\n",
    "\n",
    "\n",
    "\n",
    "**Your task:**\n",
    "1. Create a list with 3-5 words or short phrases related to a topic you're interested in (e.g., programming languages, foods, cities, hobbies)\n",
    "2. Generate embeddings for your list using `default_emb_function()`\n",
    "3. Print the number of items processed and the size of one embedding vector\n",
    "\n"
   ]
  },
  {
   "cell_type": "code",
   "execution_count": null,
   "metadata": {
    "id": "D0sTMSW6E9UC"
   },
   "outputs": [],
   "source": [
    "# YOUR CODE HERE\n"
   ]
  },
  {
   "cell_type": "markdown",
   "metadata": {
    "id": "G4zPKIbZ_f1K"
   },
   "source": [
    "## 1.1 Storing the data\n",
    "This was a really simple example of embedding just one word. But in the real world, we have hundreds or thousands of texts for which we want to create embeddings and then search them later. We need somewhere to keep them. Let's see how ChromaDB handle storing these data.\n",
    "\n",
    "\n",
    "**1. In-memory Chroma Database**:\n",
    "- Chroma keeps all your embeddings only while the program is running. As soon as you stop or restart your notebook, **all data is lost automatically**. This is fine for quick experiments where you don\u2019t care about keeping the results, but it\u2019s not practical for building something you\u2019ll revisit later.\n",
    "\n",
    "To create a temporary, in-memory Chroma database instance, we can use **an ephemeral client** right inside our notebook session. It starts a Chroma server entirely in memory and returns a Python client object that we can interact with as if it's a full database:\n",
    "\n",
    "```\n",
    "client = chromadb.EphemeralClient()\n",
    "```\n",
    "\n",
    "**2. Persistent storage**\n",
    "- The second approach is creating **a persistent client that saves everything to files on your disk**. Even if you close your notebook or shut down your computer, you can open the same database later and all your data will still be there.\n",
    "\n",
    "\n"
   ]
  },
  {
   "cell_type": "code",
   "execution_count": 6,
   "metadata": {
    "id": "ZiAWesWADuNB",
    "colab": {
     "base_uri": "https://localhost:8080/"
    },
    "outputId": "678d9567-d3f2-45dd-f589-0328078f863e"
   },
   "outputs": [
    {
     "output_type": "stream",
     "name": "stderr",
     "text": [
      "ERROR:chromadb.telemetry.product.posthog:Failed to send telemetry event ClientStartEvent: capture() takes 1 positional argument but 3 were given\n"
     ]
    }
   ],
   "source": [
    "# Creating a persistent storage in the current directory\n",
    "client = chromadb.PersistentClient(path=\"./chroma_db\")"
   ]
  },
  {
   "cell_type": "code",
   "execution_count": 7,
   "metadata": {
    "id": "nRydQnOgC29E",
    "colab": {
     "base_uri": "https://localhost:8080/"
    },
    "outputId": "3cdcdb10-d0b1-4014-c3a5-ef9a8acb6d0d"
   },
   "outputs": [
    {
     "output_type": "stream",
     "name": "stderr",
     "text": [
      "ERROR:chromadb.telemetry.product.posthog:Failed to send telemetry event ClientCreateCollectionEvent: capture() takes 1 positional argument but 3 were given\n"
     ]
    }
   ],
   "source": [
    "# Creating a collection\n",
    "collection = client.get_or_create_collection(\"my_documents_locally\",\n",
    "                                             metadata={\"hnsw:space\": \"cosine\"})"
   ]
  },
  {
   "cell_type": "markdown",
   "metadata": {
    "id": "iYaKuNK7ndUl"
   },
   "source": [
    "You can list all created collections using:"
   ]
  },
  {
   "cell_type": "code",
   "execution_count": 8,
   "metadata": {
    "id": "5_ZTL8t9nkxp",
    "outputId": "78217505-5f69-4b37-c7de-c5c512de9d3d",
    "colab": {
     "base_uri": "https://localhost:8080/"
    }
   },
   "outputs": [
    {
     "output_type": "execute_result",
     "data": {
      "text/plain": [
       "[Collection(name=my_documents_locally)]"
      ]
     },
     "metadata": {},
     "execution_count": 8
    }
   ],
   "source": [
    "client.list_collections()"
   ]
  },
  {
   "cell_type": "markdown",
   "metadata": {
    "id": "pVkRKFCFnoEH"
   },
   "source": [
    "If you want to delete an entire collection, use the below code:"
   ]
  },
  {
   "cell_type": "code",
   "execution_count": null,
   "metadata": {
    "id": "GUUrPDxfntuB"
   },
   "outputs": [],
   "source": [
    "# This is irreversible\n",
    "#client.delete_collection(\"my_documents_locally\")"
   ]
  },
  {
   "cell_type": "markdown",
   "metadata": {
    "id": "j-khAklvHVCU"
   },
   "source": [
    "## 1.3 Adding Documents into a Collection\n",
    "\n",
    "In real projects, we embed PDFs, HTML, or other larger documents, but to clearly see how Chroma works, we\u2019ll start with a few short example texts:"
   ]
  },
  {
   "cell_type": "code",
   "execution_count": 9,
   "metadata": {
    "id": "uZvIkRrfrlNf"
   },
   "outputs": [],
   "source": [
    "# Documents with metadata that will be embedded and added into Chroma database\n",
    "\n",
    "documents = [    {        \"id\": \"document_1\",        \"text\": \"\"\"Public-key cryptography, also known as asymmetric cryptography, represents a monumental paradigm shift from its predecessor, symmetric cryptography. The fundamental challenge it solves is that of key distribution, which was the Achilles' heel of symmetric systems requiring a shared secret key to be exchanged over a secure channel beforehand. Introduced conceptually by Whitfield Diffie and Martin Hellman in their seminal 1976 paper \"New Directions in Cryptography,\" this system utilizes pairs of mathematically linked keys: a public key and a private key. The public key can be shared openly without compromising security, while the private key must be kept secret by its owner. This ingenious design allows for two primary functions: encryption and digital signatures. For encryption, a sender uses the recipient's public key to encrypt a message, which can then only be decrypted by the recipient using their corresponding private key. This ensures confidentiality even when communicating over a hostile, monitored network like the internet. For digital signatures, a sender uses their own private key to sign a message, and anyone with their public key can verify the signature's authenticity, ensuring both integrity and non-repudiation. The security of these systems relies on the computational difficulty of 'one-way functions' with a 'trapdoor,' where it is easy to compute in one direction but infeasible to reverse without the secret information of the private key. The first practical and widely used implementation was the RSA algorithm, developed in 1977 by Ron Rivest, Adi Shamir, and Leonard Adleman, which bases its security on the difficulty of factoring large prime numbers. Over time, other algorithms like Elliptic Curve Cryptography (ECC) have gained prominence, offering equivalent security with much smaller key sizes, making them ideal for resource-constrained devices like smartphones. The practical application of public-key cryptography is managed through a Public Key Infrastructure (PKI). A PKI is a framework of policies and procedures that uses a trusted third party, known as a Certificate Authority (CA), to issue digital certificates that bind public keys to specific identities. This is the trust model that underpins the entire secure web, enabling protocols like Transport Layer Security (TLS), which secures HTTPS traffic. Its influence extends to securing email with PGP, remote shell access with SSH, and forming the transactional backbone of virtually all cryptocurrencies, including Bitcoin. However, the rise of quantum computing poses a significant future threat to current public-key algorithms, as they can theoretically solve the underlying mathematical problems efficiently. This has spurred the development of a new field called post-quantum cryptography (PQC), which aims to create a new generation of secure algorithms resistant to attacks from both classical and quantum computers.\"\"\",        \"metadata\": {\"category\": \"cryptography\", \"year\": 1976, \"difficulty\": \"advanced\", \"author\": \"Security Team\"}    },    {        \"id\": \"document_2\",        \"text\": \"\"\"Stuxnet stands as a watershed moment in the history of digital warfare, a malicious computer worm that transcended the digital realm to cause tangible, physical destruction. First discovered in 2010 by the Belarusian security firm VirusBlokAda, its origins and development are widely attributed to a top-secret joint American-Israeli intelligence operation, codenamed \"Olympic Games.\" Stuxnet's primary target was the Iranian nuclear program, specifically the Siemens industrial control systems (ICS) that managed the gas centrifuges at the Natanz uranium enrichment facility. What made Stuxnet exceptionally sophisticated was its multi-stage attack methodology and its method of propagation. It was specifically designed to cross the 'air gap,' a security measure where critical networks are physically isolated from the internet. The worm primarily spread through infected USB flash drives, exploiting a Windows Shell vulnerability related to .LNK files. Once inside a network, it would aggressively seek out machines running Siemens Step7 software, the specific platform used to program the programmable logic controllers (PLCs) that automated the centrifuges. The worm's payload was a masterpiece of deception. It would record the normal operating frequencies of the centrifuges and then replay this data back to the human operators, creating the illusion that everything was functioning correctly. Meanwhile, the malware would subtly and intermittently alter the rotational speed of the centrifuges, causing them to spin too fast and then too slow, inducing excessive vibration and stress that led to their eventual mechanical failure and destruction. This cyber-physical attack was unprecedented in its precision and impact. Stuxnet leveraged an astonishing four different zero-day vulnerabilities in Microsoft Windows, a record for a single piece of malware at the time. To further evade detection, it was signed with stolen, legitimate digital certificates from reputable hardware companies, Realtek and JMicron, allowing it to masquerade as trusted software. The discovery of Stuxnet irrevocably changed the landscape of national security, proving that code could be deployed as a precise and effective weapon to sabotage critical infrastructure. It ushered in a new era of state-sponsored cyber-physical attacks and served as a blueprint for future digital weapons, fundamentally altering the calculus of modern conflict.\"\"\",        \"metadata\": {\"category\": \"cyberwarfare\", \"year\": 2010, \"difficulty\": \"intermediate\", \"author\": \"Security Team\"}    },    {        \"id\": \"document_3\",        \"text\": \"\"\"The Zero Trust Architecture (ZTA) is a modern cybersecurity strategy built on a profound philosophical shift: 'never trust, always verify.' This model fundamentally rejects the outdated 'castle-and-moat' concept of security, where a hardened perimeter was thought to be sufficient to protect a trusted internal network. That traditional model is no longer viable in an era of cloud computing, remote workforces, and sophisticated persistent threats that often breach the perimeter. Coined by John Kindervag at Forrester Research in 2010, Zero Trust mandates a granular, identity-centric approach to security. It operates on the core principle of 'assume breach,' meaning that an attacker is already present within the network, and therefore, no user or device can be implicitly trusted based on its physical or network location. Access to resources is granted on a per-session, least-privilege basis, strictly enforced through a dynamic policy engine. This policy engine makes access decisions based on a wide array of real-time signals, not just a static password. These signals form the pillars of Zero Trust: strong identity verification, device health, and network context. Every access request must be accompanied by robust authentication, with Multi-Factor Authentication (MFA) considered the absolute baseline. The security posture of the endpoint device is scrutinized; a device that is unpatched, jailbroken, or shows signs of infection may be denied access. To prevent the lateral movement of attackers within a network, Zero Trust heavily relies on micro-segmentation. This practice involves breaking the network into small, isolated zones, often down to the individual workload level, and enforcing strict access controls between them. The National Institute of Standards and Technology (NIST) has formalized these concepts in its Special Publication 800-207, providing a comprehensive guide for organizations. Implementing Zero Trust is not about deploying a single product but is a strategic journey that involves integrating various technologies and redesigning network and security architecture. The ultimate goal is to create a resilient, adaptable security posture where access is continuously validated, and the potential 'blast radius' of any single breach is minimized. It is a transition from a location-based trust model to an identity- and context-based model fit for the complexities of modern IT environments.\"\"\",        \"metadata\": {\"category\": \"architecture\", \"year\": 2010, \"difficulty\": \"intermediate\", \"author\": \"Security Team\"}    },    {        \"id\": \"document_4\",        \"text\": \"\"\"Phishing is the most pervasive form of social engineering, an attack vector that targets the weakest link in the security chain: human psychology. Its name, a homophone of 'fishing,' originated in the mid-1990s within the hacker community, where attackers used email lures to 'phish' for passwords from unsuspecting users. This attack vector functions by having a threat actor masquerade as a trustworthy entity to deceive a victim. The ultimate objective is typically to steal sensitive data like login credentials, credit card numbers, or personally identifiable information (PII), or to deploy malware like ransomware. The attack begins with a carefully crafted lure, which most often takes the form of an email, SMS text message (known as smishing), or even a voice call (vishing). These messages are designed to exploit powerful human emotions such as fear, urgency, curiosity, or greed. For example, a message might falsely claim a user's bank account has been compromised and demand immediate action, or it might offer an unbelievable prize. The sophistication of phishing attacks varies widely. At the low end are bulk phishing campaigns sent to millions of users with generic greetings and obvious grammatical errors. At the high end is spear phishing, a highly targeted attack that uses personal information gathered about an individual or organization to create an extremely convincing and personalized lure. A sub-variant of this, known as whaling, specifically targets senior executives or other high-value individuals within a company. Another common technique is clone phishing, where an attacker copies a legitimate, previously delivered email and replaces its links or attachments with malicious ones. The attack chain relies on the victim taking a specific action, such as clicking a hyperlink that leads to a fraudulent website designed to harvest credentials or downloading an attachment laden with malware. Defending against phishing requires a multi-layered approach. User education and awareness training are critical to help people recognize the tell-tale signs of a phishing attempt, such as mismatched URLs, suspicious sender addresses, and unexpected requests for sensitive information. On the technical side, organizations deploy email security gateways that use protocols like SPF, DKIM, and DMARC to authenticate senders, as well as advanced threat protection systems that scan links and attachments for malicious content. Despite these defenses, phishing remains the primary initial access vector for a vast majority of all cyberattacks, making it an enduring and critical threat to both individuals and organizations.\"\"\",        \"metadata\": {\"category\": \"social-engineering\", \"year\": 1995, \"difficulty\": \"beginner\", \"author\": \"Security Team\"}    },    {        \"id\": \"document_5\",        \"text\": \"\"\"Multi-Factor Authentication (MFA) is a security mechanism that requires users to provide two or more verification factors to gain access to a resource, such as an application, online account, or VPN. Rather than just asking for a username and password, MFA requires additional credentials, making it harder for attackers to gain unauthorized access. The factors fall into three categories: something you know (like a password or PIN), something you have (like a smartphone or security token), and something you are (like a fingerprint or facial recognition). A common example is when you log into your bank account: you enter your password (something you know), and then the bank sends a code to your phone (something you have). Even if an attacker steals your password, they would still need access to your phone to complete the login. MFA significantly reduces the risk of account takeovers, which are common in phishing attacks where passwords are compromised. According to Microsoft, MFA can block over 99.9% of account compromise attacks. The most common MFA methods include SMS codes, authenticator apps like Google Authenticator or Microsoft Authenticator, hardware tokens like YubiKey, and biometric verification. While SMS-based MFA is better than nothing, it's vulnerable to SIM-swapping attacks where attackers convince mobile carriers to transfer a victim's phone number to a new SIM card. Authenticator apps and hardware tokens are more secure alternatives. Organizations should implement MFA for all critical systems, especially email, VPN access, and administrative accounts.\"\"\",        \"metadata\": {\"category\": \"authentication\", \"year\": 2020, \"difficulty\": \"beginner\", \"author\": \"Security Team\"}    },    {        \"id\": \"document_6\",        \"text\": \"\"\"A Virtual Private Network (VPN) creates a secure, encrypted tunnel between your device and the internet. When you connect to a VPN, all your internet traffic is routed through an encrypted connection to a server operated by the VPN provider. This serves several purposes: it hides your IP address, encrypts your data so that ISPs and other third parties cannot see what you're doing online, and allows you to appear as if you're browsing from a different location. VPNs are essential for remote workers who need to securely access corporate networks from home or public Wi-Fi networks. Without a VPN, data transmitted over public Wi-Fi can be intercepted by attackers using tools like packet sniffers. VPNs use various protocols to establish secure connections, including OpenVPN, WireGuard, and IKEv2/IPSec. Each protocol offers different balances of speed, security, and compatibility. Enterprise VPNs often integrate with corporate authentication systems and enforce security policies, such as requiring devices to have up-to-date antivirus software before allowing connections. While consumer VPNs are marketed for privacy, it's important to choose reputable providers, as a malicious VPN provider could potentially monitor your traffic. For businesses, VPNs are a critical component of remote access security, especially in the context of Zero Trust architectures where every connection is verified regardless of location.\"\"\",        \"metadata\": {\"category\": \"network-security\", \"year\": 2015, \"difficulty\": \"beginner\", \"author\": \"Network Team\"}    }]"
   ]
  },
  {
   "cell_type": "code",
   "execution_count": 10,
   "metadata": {
    "id": "f0J8r326rlNf",
    "outputId": "45f60710-c535-4e59-af8a-d5d8a2d5e03c",
    "colab": {
     "base_uri": "https://localhost:8080/"
    }
   },
   "outputs": [
    {
     "output_type": "execute_result",
     "data": {
      "text/plain": [
       "[{'id': 'document_1',\n",
       "  'text': 'Public-key cryptography, also known as asymmetric cryptography, represents a monumental paradigm shift from its predecessor, symmetric cryptography. The fundamental challenge it solves is that of key distribution, which was the Achilles\\' heel of symmetric systems requiring a shared secret key to be exchanged over a secure channel beforehand. Introduced conceptually by Whitfield Diffie and Martin Hellman in their seminal 1976 paper \"New Directions in Cryptography,\" this system utilizes pairs of mathematically linked keys: a public key and a private key. The public key can be shared openly without compromising security, while the private key must be kept secret by its owner. This ingenious design allows for two primary functions: encryption and digital signatures. For encryption, a sender uses the recipient\\'s public key to encrypt a message, which can then only be decrypted by the recipient using their corresponding private key. This ensures confidentiality even when communicating over a hostile, monitored network like the internet. For digital signatures, a sender uses their own private key to sign a message, and anyone with their public key can verify the signature\\'s authenticity, ensuring both integrity and non-repudiation. The security of these systems relies on the computational difficulty of \\'one-way functions\\' with a \\'trapdoor,\\' where it is easy to compute in one direction but infeasible to reverse without the secret information of the private key. The first practical and widely used implementation was the RSA algorithm, developed in 1977 by Ron Rivest, Adi Shamir, and Leonard Adleman, which bases its security on the difficulty of factoring large prime numbers. Over time, other algorithms like Elliptic Curve Cryptography (ECC) have gained prominence, offering equivalent security with much smaller key sizes, making them ideal for resource-constrained devices like smartphones. The practical application of public-key cryptography is managed through a Public Key Infrastructure (PKI). A PKI is a framework of policies and procedures that uses a trusted third party, known as a Certificate Authority (CA), to issue digital certificates that bind public keys to specific identities. This is the trust model that underpins the entire secure web, enabling protocols like Transport Layer Security (TLS), which secures HTTPS traffic. Its influence extends to securing email with PGP, remote shell access with SSH, and forming the transactional backbone of virtually all cryptocurrencies, including Bitcoin. However, the rise of quantum computing poses a significant future threat to current public-key algorithms, as they can theoretically solve the underlying mathematical problems efficiently. This has spurred the development of a new field called post-quantum cryptography (PQC), which aims to create a new generation of secure algorithms resistant to attacks from both classical and quantum computers.',\n",
       "  'metadata': {'category': 'cryptography',\n",
       "   'year': 1976,\n",
       "   'difficulty': 'advanced',\n",
       "   'author': 'Security Team'}},\n",
       " {'id': 'document_2',\n",
       "  'text': 'Stuxnet stands as a watershed moment in the history of digital warfare, a malicious computer worm that transcended the digital realm to cause tangible, physical destruction. First discovered in 2010 by the Belarusian security firm VirusBlokAda, its origins and development are widely attributed to a top-secret joint American-Israeli intelligence operation, codenamed \"Olympic Games.\" Stuxnet\\'s primary target was the Iranian nuclear program, specifically the Siemens industrial control systems (ICS) that managed the gas centrifuges at the Natanz uranium enrichment facility. What made Stuxnet exceptionally sophisticated was its multi-stage attack methodology and its method of propagation. It was specifically designed to cross the \\'air gap,\\' a security measure where critical networks are physically isolated from the internet. The worm primarily spread through infected USB flash drives, exploiting a Windows Shell vulnerability related to .LNK files. Once inside a network, it would aggressively seek out machines running Siemens Step7 software, the specific platform used to program the programmable logic controllers (PLCs) that automated the centrifuges. The worm\\'s payload was a masterpiece of deception. It would record the normal operating frequencies of the centrifuges and then replay this data back to the human operators, creating the illusion that everything was functioning correctly. Meanwhile, the malware would subtly and intermittently alter the rotational speed of the centrifuges, causing them to spin too fast and then too slow, inducing excessive vibration and stress that led to their eventual mechanical failure and destruction. This cyber-physical attack was unprecedented in its precision and impact. Stuxnet leveraged an astonishing four different zero-day vulnerabilities in Microsoft Windows, a record for a single piece of malware at the time. To further evade detection, it was signed with stolen, legitimate digital certificates from reputable hardware companies, Realtek and JMicron, allowing it to masquerade as trusted software. The discovery of Stuxnet irrevocably changed the landscape of national security, proving that code could be deployed as a precise and effective weapon to sabotage critical infrastructure. It ushered in a new era of state-sponsored cyber-physical attacks and served as a blueprint for future digital weapons, fundamentally altering the calculus of modern conflict.',\n",
       "  'metadata': {'category': 'cyberwarfare',\n",
       "   'year': 2010,\n",
       "   'difficulty': 'intermediate',\n",
       "   'author': 'Security Team'}},\n",
       " {'id': 'document_3',\n",
       "  'text': \"The Zero Trust Architecture (ZTA) is a modern cybersecurity strategy built on a profound philosophical shift: 'never trust, always verify.' This model fundamentally rejects the outdated 'castle-and-moat' concept of security, where a hardened perimeter was thought to be sufficient to protect a trusted internal network. That traditional model is no longer viable in an era of cloud computing, remote workforces, and sophisticated persistent threats that often breach the perimeter. Coined by John Kindervag at Forrester Research in 2010, Zero Trust mandates a granular, identity-centric approach to security. It operates on the core principle of 'assume breach,' meaning that an attacker is already present within the network, and therefore, no user or device can be implicitly trusted based on its physical or network location. Access to resources is granted on a per-session, least-privilege basis, strictly enforced through a dynamic policy engine. This policy engine makes access decisions based on a wide array of real-time signals, not just a static password. These signals form the pillars of Zero Trust: strong identity verification, device health, and network context. Every access request must be accompanied by robust authentication, with Multi-Factor Authentication (MFA) considered the absolute baseline. The security posture of the endpoint device is scrutinized; a device that is unpatched, jailbroken, or shows signs of infection may be denied access. To prevent the lateral movement of attackers within a network, Zero Trust heavily relies on micro-segmentation. This practice involves breaking the network into small, isolated zones, often down to the individual workload level, and enforcing strict access controls between them. The National Institute of Standards and Technology (NIST) has formalized these concepts in its Special Publication 800-207, providing a comprehensive guide for organizations. Implementing Zero Trust is not about deploying a single product but is a strategic journey that involves integrating various technologies and redesigning network and security architecture. The ultimate goal is to create a resilient, adaptable security posture where access is continuously validated, and the potential 'blast radius' of any single breach is minimized. It is a transition from a location-based trust model to an identity- and context-based model fit for the complexities of modern IT environments.\",\n",
       "  'metadata': {'category': 'architecture',\n",
       "   'year': 2010,\n",
       "   'difficulty': 'intermediate',\n",
       "   'author': 'Security Team'}}]"
      ]
     },
     "metadata": {},
     "execution_count": 10
    }
   ],
   "source": [
    "documents[:3]"
   ]
  },
  {
   "cell_type": "markdown",
   "metadata": {
    "id": "_Ww0N4RAJMU7"
   },
   "source": [
    "Now we'll fill the created collection with data using `add()` function which takes a list of unique string IDs and a list of documents. These will be automatically embedded using the default embedding function. Chroma then builds vector indexes inside the collection."
   ]
  },
  {
   "cell_type": "code",
   "execution_count": 11,
   "metadata": {
    "id": "_9_4Gt9gHUsE",
    "colab": {
     "base_uri": "https://localhost:8080/"
    },
    "outputId": "fecbbcef-9aa9-433c-b308-d6ccb85e2cac"
   },
   "outputs": [
    {
     "output_type": "stream",
     "name": "stderr",
     "text": [
      "ERROR:chromadb.telemetry.product.posthog:Failed to send telemetry event CollectionAddEvent: capture() takes 1 positional argument but 3 were given\n"
     ]
    }
   ],
   "source": [
    "# Adding documents into the collection\n",
    "ids = [doc[\"id\"] for doc in documents]\n",
    "texts = [doc[\"text\"] for doc in documents]\n",
    "\n",
    "collection.add(ids = ids, documents = texts)"
   ]
  },
  {
   "cell_type": "markdown",
   "metadata": {
    "id": "AHq_9i3qE9UD"
   },
   "source": [
    "## 1.4 Working with Metadata\n",
    "\n",
    "In the previous example, we added just the text. But ChromaDB also supports **metadata** - additional information about each document that can be used for filtering and organizing your data.\n",
    "\n",
    "Metadata is extremely useful for:\n",
    "- **Filtering searches** by category, date, author, difficulty level, etc.\n",
    "- **Organizing documents** by type or topic\n",
    "- **Tracking source information** without embedding it\n",
    "\n",
    "Let's delete our current collection and recreate it with metadata included."
   ]
  },
  {
   "cell_type": "code",
   "execution_count": 12,
   "metadata": {
    "colab": {
     "base_uri": "https://localhost:8080/"
    },
    "id": "POojYuOvE9UD",
    "outputId": "fec16dd0-e026-43b6-cfbc-12faf1215820"
   },
   "outputs": [
    {
     "output_type": "stream",
     "name": "stderr",
     "text": [
      "ERROR:chromadb.telemetry.product.posthog:Failed to send telemetry event ClientCreateCollectionEvent: capture() takes 1 positional argument but 3 were given\n"
     ]
    }
   ],
   "source": [
    "# Delete the old collection\n",
    "client.delete_collection(\"my_documents_locally\")\n",
    "\n",
    "# Recreate it\n",
    "collection = client.get_or_create_collection(\"my_documents_locally\",\n",
    "                                             metadata={\"hnsw:space\": \"cosine\"})"
   ]
  },
  {
   "cell_type": "markdown",
   "metadata": {
    "id": "IiKUhelaE9UD"
   },
   "source": [
    "Now let's add documents **with metadata**. Notice how we extract the metadata dictionary from each document:"
   ]
  },
  {
   "cell_type": "code",
   "execution_count": 13,
   "metadata": {
    "colab": {
     "base_uri": "https://localhost:8080/"
    },
    "id": "l4qMn5b1E9UD",
    "outputId": "9bca14a2-475b-4bf3-ff77-824fdea30e44"
   },
   "outputs": [
    {
     "output_type": "stream",
     "name": "stderr",
     "text": [
      "ERROR:chromadb.telemetry.product.posthog:Failed to send telemetry event CollectionAddEvent: capture() takes 1 positional argument but 3 were given\n"
     ]
    }
   ],
   "source": [
    "# Adding documents WITH metadata\n",
    "ids = [doc[\"id\"] for doc in documents]\n",
    "texts = [doc[\"text\"] for doc in documents]\n",
    "metadatas = [doc[\"metadata\"] for doc in documents]\n",
    "\n",
    "collection.add(\n",
    "    ids = ids,\n",
    "    documents = texts,\n",
    "    metadatas = metadatas\n",
    ")"
   ]
  },
  {
   "cell_type": "markdown",
   "metadata": {
    "id": "NF1xzdFQE9UD"
   },
   "source": [
    "Let's retrieve a document and see its metadata:"
   ]
  },
  {
   "cell_type": "code",
   "execution_count": 14,
   "metadata": {
    "colab": {
     "base_uri": "https://localhost:8080/"
    },
    "id": "v-zgfs_nE9UD",
    "outputId": "ec04cad6-47ac-43d5-9361-3e1e7b39d292"
   },
   "outputs": [
    {
     "output_type": "stream",
     "name": "stderr",
     "text": [
      "ERROR:chromadb.telemetry.product.posthog:Failed to send telemetry event CollectionGetEvent: capture() takes 1 positional argument but 3 were given\n"
     ]
    },
    {
     "output_type": "stream",
     "name": "stdout",
     "text": [
      "Document ID: document_2\n",
      "\n",
      "Metadata:\n",
      "  author: Security Team\n",
      "  category: cyberwarfare\n",
      "  difficulty: intermediate\n",
      "  year: 2010\n",
      "\n",
      "Document preview: Stuxnet stands as a watershed moment in the history of digital warfare, a malicious computer worm that transcended the digital realm to cause tangible ...\n"
     ]
    }
   ],
   "source": [
    "# Get document with metadata\n",
    "result = collection.get(ids=[\"document_2\"], include=[\"documents\", \"metadatas\"])\n",
    "\n",
    "print(\"Document ID:\", result[\"ids\"][0])\n",
    "print(\"\\nMetadata:\")\n",
    "for key, value in result[\"metadatas\"][0].items():\n",
    "    print(f\"  {key}: {value}\")\n",
    "print(\"\\nDocument preview:\", result[\"documents\"][0][:150], \"...\")"
   ]
  },
  {
   "cell_type": "markdown",
   "metadata": {
    "id": "nlOTTtOcE9UE"
   },
   "source": [
    "## 1.5 Filtering with Where Clauses\n",
    "\n",
    "Now that we have metadata, we can use it to **filter our searches**. This is incredibly powerful - you can retrieve only documents that match specific criteria.\n",
    "\n",
    "Let's say we only want documents from the \"cryptography\" category:"
   ]
  },
  {
   "cell_type": "code",
   "execution_count": 15,
   "metadata": {
    "colab": {
     "base_uri": "https://localhost:8080/"
    },
    "id": "vCvMDkfPE9UE",
    "outputId": "884f0967-d348-41f4-e36e-68d5c0bfaf24"
   },
   "outputs": [
    {
     "output_type": "stream",
     "name": "stdout",
     "text": [
      "Found 1 cryptography document(s):\n",
      "  - document_1: cryptography (1976)\n"
     ]
    }
   ],
   "source": [
    "# Get only cryptography documents\n",
    "crypto_docs = collection.get(\n",
    "    where={\"category\": \"cryptography\"},\n",
    "    include=[\"documents\", \"metadatas\"]\n",
    ")\n",
    "\n",
    "print(f\"Found {len(crypto_docs['ids'])} cryptography document(s):\")\n",
    "for doc_id, metadata in zip(crypto_docs[\"ids\"], crypto_docs[\"metadatas\"]):\n",
    "    print(f\"  - {doc_id}: {metadata['category']} ({metadata['year']})\")"
   ]
  },
  {
   "cell_type": "markdown",
   "metadata": {
    "id": "BVN0XTS_E9UE"
   },
   "source": [
    "We can also filter by multiple criteria. Let's find all beginner-level documents:"
   ]
  },
  {
   "cell_type": "code",
   "execution_count": 16,
   "metadata": {
    "colab": {
     "base_uri": "https://localhost:8080/"
    },
    "id": "5OlQh5n0E9UE",
    "outputId": "110f8af5-0e2d-44dd-a2dd-226d0ee287de"
   },
   "outputs": [
    {
     "output_type": "stream",
     "name": "stdout",
     "text": [
      "Found 3 beginner-level document(s):\n",
      "  - document_4: social-engineering (difficulty: beginner)\n",
      "  - document_5: authentication (difficulty: beginner)\n",
      "  - document_6: network-security (difficulty: beginner)\n"
     ]
    }
   ],
   "source": [
    "# Get beginner documents\n",
    "beginner_docs = collection.get(\n",
    "    where={\"difficulty\": \"beginner\"},\n",
    "    include=[\"metadatas\"]\n",
    ")\n",
    "\n",
    "print(f\"Found {len(beginner_docs['ids'])} beginner-level document(s):\")\n",
    "for doc_id, metadata in zip(beginner_docs[\"ids\"], beginner_docs[\"metadatas\"]):\n",
    "    print(f\"  - {doc_id}: {metadata['category']} (difficulty: {metadata['difficulty']})\")"
   ]
  },
  {
   "cell_type": "markdown",
   "metadata": {
    "id": "lQbjEE_cE9UE"
   },
   "source": [
    "You can also use operators like `$gt` (greater than), `$lt` (less than), `$gte`, `$lte`, `$ne` (not equal), and `$in` (in list):"
   ]
  },
  {
   "cell_type": "code",
   "execution_count": 17,
   "metadata": {
    "colab": {
     "base_uri": "https://localhost:8080/"
    },
    "id": "dXvFixWNE9UE",
    "outputId": "de4328f7-f515-455d-ad86-aca4f67ffbff"
   },
   "outputs": [
    {
     "output_type": "stream",
     "name": "stdout",
     "text": [
      "Found 4 document(s) from 2010 or later:\n",
      "  - document_2: cyberwarfare (2010)\n",
      "  - document_3: architecture (2010)\n",
      "  - document_5: authentication (2020)\n",
      "  - document_6: network-security (2015)\n"
     ]
    }
   ],
   "source": [
    "# Get documents from year 2010 or later\n",
    "recent_docs = collection.get(\n",
    "    where={\"year\": {\"$gte\": 2010}},\n",
    "    include=[\"metadatas\"]\n",
    ")\n",
    "\n",
    "print(f\"Found {len(recent_docs['ids'])} document(s) from 2010 or later:\")\n",
    "for doc_id, metadata in zip(recent_docs[\"ids\"], recent_docs[\"metadatas\"]):\n",
    "    print(f\"  - {doc_id}: {metadata['category']} ({metadata['year']})\")"
   ]
  },
  {
   "cell_type": "markdown",
   "metadata": {
    "id": "HtaVF-WLE9UE"
   },
   "source": [
    "## 1.6 Updating and Deleting Documents\n",
    "\n",
    "Sometimes you need to modify existing documents or remove them entirely. ChromaDB provides methods for both operations."
   ]
  },
  {
   "cell_type": "markdown",
   "metadata": {
    "id": "nZjOXetYE9UE"
   },
   "source": [
    "### Updating Documents with `upsert()`\n",
    "\n",
    "The `upsert()` function is smart:\n",
    "- If a document with the given ID **already exists**, it **updates** it\n",
    "- If it **doesn't exist**, it **creates** it\n",
    "\n",
    "Let's update document_5's metadata to mark it as reviewed:"
   ]
  },
  {
   "cell_type": "code",
   "execution_count": 18,
   "metadata": {
    "colab": {
     "base_uri": "https://localhost:8080/"
    },
    "id": "mjm9x6a9E9UE",
    "outputId": "f43c1bb7-0923-48dc-dabf-37f8769b8720"
   },
   "outputs": [
    {
     "output_type": "stream",
     "name": "stdout",
     "text": [
      "Updated metadata for document_5:\n",
      "{'author': 'Security Team', 'category': 'authentication', 'difficulty': 'beginner', 'reviewed': True, 'year': 2020}\n"
     ]
    }
   ],
   "source": [
    "# Update metadata for document_5\n",
    "# First, get the existing document text\n",
    "existing = collection.get(ids=[\"document_5\"], include=[\"documents\"])\n",
    "\n",
    "# Now upsert with both the document and updated metadata\n",
    "collection.upsert(\n",
    "    ids=[\"document_5\"],\n",
    "    documents=existing[\"documents\"],  # Include the document text\n",
    "    metadatas=[{\"category\": \"authentication\", \"year\": 2020, \"difficulty\": \"beginner\", \"author\": \"Security Team\", \"reviewed\": True}]\n",
    ")\n",
    "\n",
    "# Verify the update\n",
    "result = collection.get(ids=[\"document_5\"], include=[\"metadatas\"])\n",
    "print(\"Updated metadata for document_5:\")\n",
    "print(result[\"metadatas\"][0])"
   ]
  },
  {
   "cell_type": "markdown",
   "metadata": {
    "id": "qRN6P4HgE9UE"
   },
   "source": [
    "You can also use `upsert()` to add a completely new document:"
   ]
  },
  {
   "cell_type": "code",
   "execution_count": 19,
   "metadata": {
    "colab": {
     "base_uri": "https://localhost:8080/"
    },
    "id": "lg4jCwXeE9UE",
    "outputId": "12ace76a-857f-46b4-aab0-8c1871bd53bc"
   },
   "outputs": [
    {
     "output_type": "stream",
     "name": "stdout",
     "text": [
      "\n",
      "Total documents after upsert: 7\n"
     ]
    }
   ],
   "source": [
    "# Add a new document using upsert\n",
    "collection.upsert(\n",
    "    ids=[\"document_7\"],\n",
    "    documents=[\"\"\"Firewalls are network security devices that monitor and control incoming and outgoing network traffic based on predetermined security rules. A firewall establishes a barrier between trusted internal networks and untrusted external networks, such as the Internet.\"\"\"],\n",
    "    metadatas=[{\"category\": \"network-security\", \"year\": 2000, \"difficulty\": \"beginner\", \"author\": \"Network Team\"}]\n",
    ")\n",
    "\n",
    "print(\"\\nTotal documents after upsert:\", collection.count())"
   ]
  },
  {
   "cell_type": "markdown",
   "metadata": {
    "id": "In5yQsBSE9UE"
   },
   "source": [
    "### Deleting Documents\n",
    "\n",
    "To remove specific documents, use the `delete()` method with document IDs:"
   ]
  },
  {
   "cell_type": "code",
   "execution_count": 20,
   "metadata": {
    "colab": {
     "base_uri": "https://localhost:8080/"
    },
    "id": "p-ZHluWME9UE",
    "outputId": "8b9a101c-81a9-4df4-fc03-c4b02647a8cf"
   },
   "outputs": [
    {
     "output_type": "stream",
     "name": "stderr",
     "text": [
      "ERROR:chromadb.telemetry.product.posthog:Failed to send telemetry event CollectionDeleteEvent: capture() takes 1 positional argument but 3 were given\n"
     ]
    },
    {
     "output_type": "stream",
     "name": "stdout",
     "text": [
      "Documents after deletion: 6\n",
      "Document document_7 has been successfully deleted\n"
     ]
    }
   ],
   "source": [
    "# Delete document_7\n",
    "collection.delete(ids=[\"document_7\"])\n",
    "\n",
    "print(\"Documents after deletion:\", collection.count())\n",
    "\n",
    "# Try to get the deleted document\n",
    "try:\n",
    "    result = collection.get(ids=[\"document_7\"])\n",
    "    if not result[\"ids\"]:\n",
    "        print(\"Document document_7 has been successfully deleted\")\n",
    "except Exception as e:\n",
    "    print(f\"Document not found: {e}\")"
   ]
  },
  {
   "cell_type": "markdown",
   "metadata": {
    "id": "3tSuyXs_E9UE"
   },
   "source": [
    "You can also delete documents based on metadata filters:"
   ]
  },
  {
   "cell_type": "code",
   "execution_count": 21,
   "metadata": {
    "colab": {
     "base_uri": "https://localhost:8080/"
    },
    "id": "C3LESXXtE9UE",
    "outputId": "aefaf0c6-5c7c-49c6-9d07-5c2a4c4b2620"
   },
   "outputs": [
    {
     "output_type": "stream",
     "name": "stdout",
     "text": [
      "\n",
      "Note: The delete with where clause is commented out to preserve our data.\n",
      "Syntax: collection.delete(where={'year': {'$lt': 2000}})\n"
     ]
    }
   ],
   "source": [
    "# Example: Delete all documents from before year 2000 (we don't have any, but this shows the syntax)\n",
    "# collection.delete(where={\"year\": {\"$lt\": 2000}})\n",
    "\n",
    "print(\"\\nNote: The delete with where clause is commented out to preserve our data.\")\n",
    "print(\"Syntax: collection.delete(where={'year': {'$lt': 2000}})\")"
   ]
  },
  {
   "cell_type": "markdown",
   "metadata": {
    "id": "-5SNzOItE9UF"
   },
   "source": [
    "## 1.7 Collection Introspection\n",
    "\n",
    "ChromaDB provides several methods to inspect what's in your collection without retrieving all the data."
   ]
  },
  {
   "cell_type": "code",
   "execution_count": 22,
   "metadata": {
    "colab": {
     "base_uri": "https://localhost:8080/"
    },
    "id": "Y6A8hQ4YE9UF",
    "outputId": "d0cce98c-8e49-4c50-fbf3-ab5024d521dc"
   },
   "outputs": [
    {
     "output_type": "stream",
     "name": "stderr",
     "text": [
      "ERROR:chromadb.telemetry.product.posthog:Failed to send telemetry event CollectionGetEvent: capture() takes 1 positional argument but 3 were given\n"
     ]
    },
    {
     "output_type": "stream",
     "name": "stdout",
     "text": [
      "Peeking at first 2 documents:\n",
      "\n",
      "  ID: document_1\n",
      "  Category: cryptography\n",
      "  Year: 1976\n",
      "  Difficulty: advanced\n",
      "\n",
      "  ID: document_2\n",
      "  Category: cyberwarfare\n",
      "  Year: 2010\n",
      "  Difficulty: intermediate\n"
     ]
    }
   ],
   "source": [
    "# Peek at the first few items\n",
    "preview = collection.peek(limit=2)\n",
    "\n",
    "print(\"Peeking at first 2 documents:\")\n",
    "for doc_id, metadata in zip(preview[\"ids\"], preview[\"metadatas\"]):\n",
    "    print(f\"\\n  ID: {doc_id}\")\n",
    "    print(f\"  Category: {metadata['category']}\")\n",
    "    print(f\"  Year: {metadata['year']}\")\n",
    "    print(f\"  Difficulty: {metadata['difficulty']}\")"
   ]
  },
  {
   "cell_type": "code",
   "execution_count": 23,
   "metadata": {
    "colab": {
     "base_uri": "https://localhost:8080/"
    },
    "id": "l7xb8TyME9UF",
    "outputId": "448ef3f5-0096-4804-b798-7591344d3026"
   },
   "outputs": [
    {
     "output_type": "stream",
     "name": "stdout",
     "text": [
      "\n",
      "Total documents in collection: 6\n"
     ]
    }
   ],
   "source": [
    "# Get total count\n",
    "total = collection.count()\n",
    "print(f\"\\nTotal documents in collection: {total}\")"
   ]
  },
  {
   "cell_type": "markdown",
   "metadata": {
    "id": "eB78AJNNE9UF"
   },
   "source": [
    "You can also get all documents (be careful with large collections!):"
   ]
  },
  {
   "cell_type": "code",
   "execution_count": 24,
   "metadata": {
    "colab": {
     "base_uri": "https://localhost:8080/"
    },
    "id": "pLiRh9f4E9UF",
    "outputId": "f2da0a7e-e803-4f6f-bdba-f8f43832df04"
   },
   "outputs": [
    {
     "output_type": "stream",
     "name": "stdout",
     "text": [
      "\n",
      "All document IDs: ['document_1', 'document_2', 'document_3', 'document_4', 'document_5', 'document_6']\n",
      "\n",
      "Categories present:\n",
      "  - architecture\n",
      "  - authentication\n",
      "  - cryptography\n",
      "  - cyberwarfare\n",
      "  - network-security\n",
      "  - social-engineering\n"
     ]
    }
   ],
   "source": [
    "# Get all documents (IDs and metadata only)\n",
    "all_docs = collection.get(include=[\"metadatas\"])\n",
    "\n",
    "print(f\"\\nAll document IDs: {all_docs['ids']}\")\n",
    "print(f\"\\nCategories present:\")\n",
    "categories = set(meta['category'] for meta in all_docs['metadatas'])\n",
    "for cat in sorted(categories):\n",
    "    print(f\"  - {cat}\")"
   ]
  },
  {
   "cell_type": "markdown",
   "metadata": {
    "id": "65LSkJHDZr48"
   },
   "source": [
    "> NOTE: Chroma also provides `upsert()` function which works like `add()`, but with one difference: If an ID already exists in the collection, the record is updated (text, metadata, embedding). If it doesn\u2019t exist, the record is created."
   ]
  },
  {
   "cell_type": "markdown",
   "metadata": {
    "id": "SF-tOwnanBE8"
   },
   "source": [
    "You can inspect the created collection:"
   ]
  },
  {
   "cell_type": "code",
   "execution_count": 25,
   "metadata": {
    "id": "jE0qFHAYrlNg",
    "outputId": "ad257ae6-d603-46d0-97cd-8928a4d29250",
    "colab": {
     "base_uri": "https://localhost:8080/"
    }
   },
   "outputs": [
    {
     "output_type": "execute_result",
     "data": {
      "text/plain": [
       "6"
      ]
     },
     "metadata": {},
     "execution_count": 25
    }
   ],
   "source": [
    "# Number of items\n",
    "collection.count()"
   ]
  },
  {
   "cell_type": "markdown",
   "metadata": {
    "id": "rUUuQuJmdxiw"
   },
   "source": [
    "Let's return both the original text and the generated embedding for ID \"document_3\":"
   ]
  },
  {
   "cell_type": "markdown",
   "metadata": {
    "id": "nUz_I-QnE9UF"
   },
   "source": [
    "### \ud83d\udcdd EXERCISE 2: Explore Your Collection\n",
    "\n",
    "\n",
    "**Your task:**\n",
    "1. Retrieve the document with ID `\"document_2\"` (the Stuxnet article) from the collection\n",
    "2. Print the first 200 characters of the document text to see what it's about\n",
    "3. Print the embedding vector length\n",
    "4. Compare: Is the embedding size the same as for `document_3`? Why or why not?\n",
    "\n"
   ]
  },
  {
   "cell_type": "code",
   "execution_count": null,
   "metadata": {
    "id": "QS5Ta2F2E9UF"
   },
   "outputs": [],
   "source": [
    "# YOUR CODE HERE\n"
   ]
  },
  {
   "cell_type": "markdown",
   "metadata": {
    "id": "MrHjelK_rlNg"
   },
   "source": [
    "So, the embeddings are stored permanently on disk in our Chroma database. Whenever we want to use them again (after restarting/closing kernel), we don\u2019t need to re-embed the texts. We just point a new client at the same folder and re-open the collection using `get_collection()`."
   ]
  },
  {
   "cell_type": "code",
   "execution_count": null,
   "metadata": {
    "id": "sOPbC6x3rlNg"
   },
   "outputs": [],
   "source": [
    "#client = chromadb.PersistentClient(path=\"./db/chroma_persist\")\n",
    "#collection = client.get_collection(\"my_documents_locally\")"
   ]
  },
  {
   "cell_type": "markdown",
   "metadata": {
    "id": "3_LFsFaz3DPS"
   },
   "source": [
    "# 2. Creating Embeddings using OpenAI API\n",
    "\n",
    "Now we\u2019ll switch to provider **OpenAI**. The concept is exactly the same: text gets transformed into numerical vectors, but this time **the computation happens on OpenAI\u2019s servers** instead of locally.\n",
    "\n",
    "**Authentication using OpenAI API key**:\n",
    "\n",
    "To access OpenAI\u2019s API, you\u2019ll need an API key. The most convenient way is to store it as an environment variable so it loads automatically whenever your terminal starts. Open the terminal and type `nano ~/.zshrc`. At the end of the file, add: `export CHROMA_OPENAI_API_KEY=\"your_api_key\"`. Save and exit. Then reload your shell config (so the change applies immediately) using `source ~/.zshrc`.\n",
    "\n",
    "We'll use `text-embedding-3-small` model to create the embeddings. For our tiny demo texts, the number of tokens is so small that the cost of creating embeddings with OpenAI is practically negligible.\n",
    "\n",
    "Let's instantiate it using `OpenAIEmbeddingFunction()`:"
   ]
  },
  {
   "cell_type": "code",
   "execution_count": 26,
   "metadata": {
    "colab": {
     "base_uri": "https://localhost:8080/",
     "height": 373
    },
    "id": "62",
    "outputId": "4974edba-e435-467d-cf39-5cb76582cf69"
   },
   "outputs": [
    {
     "output_type": "stream",
     "name": "stdout",
     "text": [
      "\ud83d\udca1 To use Colab secrets: Go to \ud83d\udd11 (left sidebar) \u2192 Add new secret \u2192 Name: OPENAI_API_KEY\n"
     ]
    },
    {
     "output_type": "error",
     "ename": "KeyboardInterrupt",
     "evalue": "Interrupted by user",
     "traceback": [
      "\u001b[0;31m---------------------------------------------------------------------------\u001b[0m",
      "\u001b[0;31mKeyboardInterrupt\u001b[0m                         Traceback (most recent call last)",
      "\u001b[0;32m/tmp/ipython-input-3179731511.py\u001b[0m in \u001b[0;36m<cell line: 0>\u001b[0;34m()\u001b[0m\n\u001b[1;32m     19\u001b[0m         \u001b[0;32mfrom\u001b[0m \u001b[0mgetpass\u001b[0m \u001b[0;32mimport\u001b[0m \u001b[0mgetpass\u001b[0m\u001b[0;34m\u001b[0m\u001b[0;34m\u001b[0m\u001b[0m\n\u001b[1;32m     20\u001b[0m         \u001b[0mprint\u001b[0m\u001b[0;34m(\u001b[0m\u001b[0;34m'\ud83d\udca1 To use Colab secrets: Go to \ud83d\udd11 (left sidebar) \u2192 Add new secret \u2192 Name: OPENAI_API_KEY'\u001b[0m\u001b[0;34m)\u001b[0m\u001b[0;34m\u001b[0m\u001b[0;34m\u001b[0m\u001b[0m\n\u001b[0;32m---> 21\u001b[0;31m         \u001b[0mOPENAI_API_KEY\u001b[0m \u001b[0;34m=\u001b[0m \u001b[0mgetpass\u001b[0m\u001b[0;34m(\u001b[0m\u001b[0;34m'Enter your OpenAI API Key: '\u001b[0m\u001b[0;34m)\u001b[0m\u001b[0;34m\u001b[0m\u001b[0;34m\u001b[0m\u001b[0m\n\u001b[0m\u001b[1;32m     22\u001b[0m     \u001b[0;32mexcept\u001b[0m \u001b[0mException\u001b[0m \u001b[0;32mas\u001b[0m \u001b[0mexc\u001b[0m\u001b[0;34m:\u001b[0m\u001b[0;34m\u001b[0m\u001b[0;34m\u001b[0m\u001b[0m\n\u001b[1;32m     23\u001b[0m         \u001b[0;32mraise\u001b[0m \u001b[0mValueError\u001b[0m\u001b[0;34m(\u001b[0m\u001b[0;34m'\u274c ERROR: No API key provided! Set OPENAI_API_KEY as an environment variable or Colab secret.'\u001b[0m\u001b[0;34m)\u001b[0m \u001b[0;32mfrom\u001b[0m \u001b[0mexc\u001b[0m\u001b[0;34m\u001b[0m\u001b[0;34m\u001b[0m\u001b[0m\n",
      "\u001b[0;32m/usr/local/lib/python3.12/dist-packages/ipykernel/kernelbase.py\u001b[0m in \u001b[0;36mgetpass\u001b[0;34m(self, prompt, stream)\u001b[0m\n\u001b[1;32m   1157\u001b[0m                 \u001b[0mstacklevel\u001b[0m\u001b[0;34m=\u001b[0m\u001b[0;36m2\u001b[0m\u001b[0;34m,\u001b[0m\u001b[0;34m\u001b[0m\u001b[0;34m\u001b[0m\u001b[0m\n\u001b[1;32m   1158\u001b[0m             )\n\u001b[0;32m-> 1159\u001b[0;31m         return self._input_request(\n\u001b[0m\u001b[1;32m   1160\u001b[0m             \u001b[0mprompt\u001b[0m\u001b[0;34m,\u001b[0m\u001b[0;34m\u001b[0m\u001b[0;34m\u001b[0m\u001b[0m\n\u001b[1;32m   1161\u001b[0m             \u001b[0mself\u001b[0m\u001b[0;34m.\u001b[0m\u001b[0m_parent_ident\u001b[0m\u001b[0;34m[\u001b[0m\u001b[0;34m\"shell\"\u001b[0m\u001b[0;34m]\u001b[0m\u001b[0;34m,\u001b[0m\u001b[0;34m\u001b[0m\u001b[0;34m\u001b[0m\u001b[0m\n",
      "\u001b[0;32m/usr/local/lib/python3.12/dist-packages/ipykernel/kernelbase.py\u001b[0m in \u001b[0;36m_input_request\u001b[0;34m(self, prompt, ident, parent, password)\u001b[0m\n\u001b[1;32m   1217\u001b[0m             \u001b[0;32mexcept\u001b[0m \u001b[0mKeyboardInterrupt\u001b[0m\u001b[0;34m:\u001b[0m\u001b[0;34m\u001b[0m\u001b[0;34m\u001b[0m\u001b[0m\n\u001b[1;32m   1218\u001b[0m                 \u001b[0;31m# re-raise KeyboardInterrupt, to truncate traceback\u001b[0m\u001b[0;34m\u001b[0m\u001b[0;34m\u001b[0m\u001b[0m\n\u001b[0;32m-> 1219\u001b[0;31m                 \u001b[0;32mraise\u001b[0m \u001b[0mKeyboardInterrupt\u001b[0m\u001b[0;34m(\u001b[0m\u001b[0;34m\"Interrupted by user\"\u001b[0m\u001b[0;34m)\u001b[0m \u001b[0;32mfrom\u001b[0m \u001b[0;32mNone\u001b[0m\u001b[0;34m\u001b[0m\u001b[0;34m\u001b[0m\u001b[0m\n\u001b[0m\u001b[1;32m   1220\u001b[0m             \u001b[0;32mexcept\u001b[0m \u001b[0mException\u001b[0m\u001b[0;34m:\u001b[0m\u001b[0;34m\u001b[0m\u001b[0;34m\u001b[0m\u001b[0m\n\u001b[1;32m   1221\u001b[0m                 \u001b[0mself\u001b[0m\u001b[0;34m.\u001b[0m\u001b[0mlog\u001b[0m\u001b[0;34m.\u001b[0m\u001b[0mwarning\u001b[0m\u001b[0;34m(\u001b[0m\u001b[0;34m\"Invalid Message:\"\u001b[0m\u001b[0;34m,\u001b[0m \u001b[0mexc_info\u001b[0m\u001b[0;34m=\u001b[0m\u001b[0;32mTrue\u001b[0m\u001b[0;34m)\u001b[0m\u001b[0;34m\u001b[0m\u001b[0;34m\u001b[0m\u001b[0m\n",
      "\u001b[0;31mKeyboardInterrupt\u001b[0m: Interrupted by user"
     ]
    }
   ],
   "source": [
    "import os\n",
    "from getpass import getpass\n",
    "\n",
    "# Configure OpenAI API key\n",
    "OPENAI_API_KEY = None\n",
    "\n",
    "# Try loading from Google Colab secrets first\n",
    "try:\n",
    "    from google.colab import userdata\n",
    "    OPENAI_API_KEY = userdata.get('OPENAI_API_KEY')\n",
    "    print('\u2705 API key loaded from Colab secrets')\n",
    "except ImportError:\n",
    "    # Not in Colab environment\n",
    "    pass\n",
    "except Exception as e:\n",
    "    # Colab secrets not configured\n",
    "    print('\ud83d\udca1 Colab secret not found. You can add it via: \ud83d\udd11 (Secrets in left sidebar) \u2192 OPENAI_API_KEY')\n",
    "\n",
    "# Fall back to environment variable\n",
    "if not OPENAI_API_KEY:\n",
    "    OPENAI_API_KEY = os.getenv('OPENAI_API_KEY')\n",
    "    if OPENAI_API_KEY:\n",
    "        print('\u2705 API key loaded from environment variable')\n",
    "\n",
    "# If still not found, prompt user\n",
    "if not OPENAI_API_KEY:\n",
    "    print('\\n\ud83d\udd11 OpenAI API key not found.')\n",
    "    print('   To use Colab secrets: Click \ud83d\udd11 in left sidebar \u2192 Add OPENAI_API_KEY')\n",
    "    print('   Or enter it below (will be hidden):\\n')\n",
    "    OPENAI_API_KEY = getpass('Enter your OpenAI API Key: ')\n",
    "\n",
    "if not OPENAI_API_KEY or OPENAI_API_KEY.strip() == '':\n",
    "    raise ValueError('\u274c ERROR: No API key provided!')\n",
    "\n",
    "os.environ['OPENAI_API_KEY'] = OPENAI_API_KEY\n",
    "print('\\n\u2705 OpenAI API configured!')"
   ]
  },
  {
   "cell_type": "code",
   "execution_count": null,
   "metadata": {
    "id": "1tl_1X5X4rA2"
   },
   "outputs": [],
   "source": [
    "# Instantiating OpenAI embedding function\n",
    "openai_embedding_function = embedding_functions.OpenAIEmbeddingFunction(\n",
    "    model_name = \"text-embedding-3-small\",\n",
    "    api_key = os.getenv(\"OPENAI_API_KEY\")\n",
    ")"
   ]
  },
  {
   "cell_type": "markdown",
   "metadata": {
    "id": "s-ayDHoS4q80"
   },
   "source": [
    "Now we need to create a new collection (in the same persistent database). Notice that we specify \"openai_embedding_function\" using`embedding_function` parameter. This ensures that whenever we add documents to this collection, they\u2019ll be embedded with OpenAI instead of the Chroma's default model."
   ]
  },
  {
   "cell_type": "code",
   "execution_count": null,
   "metadata": {
    "id": "5SR3J-pRWfIJ"
   },
   "outputs": [],
   "source": [
    "# Creating a new collection\n",
    "openai_collection = client.get_or_create_collection(\n",
    "    \"my_documents_openai\",\n",
    "    embedding_function = openai_embedding_function,\n",
    "    metadata={\"hnsw:space\": \"cosine\"}\n",
    ")"
   ]
  },
  {
   "cell_type": "markdown",
   "metadata": {
    "id": "lIpkgvm7XPwx"
   },
   "source": [
    "Next we'll add the documents into this collection:"
   ]
  },
  {
   "cell_type": "code",
   "execution_count": null,
   "metadata": {
    "id": "WDFD_PVHXM_l"
   },
   "outputs": [],
   "source": [
    "# Adding documents\n",
    "ids = [d[\"id\"] for d in documents]\n",
    "texts = [d[\"text\"] for d in documents]\n",
    "\n",
    "openai_collection.add(ids = ids, documents = texts)"
   ]
  },
  {
   "cell_type": "markdown",
   "metadata": {
    "id": "5lvSxEb-rlNh"
   },
   "source": [
    "For the model we chose, each embedding is **1536-dimensional vector**. Because this is such a large array, Jupyter Notebook automatically truncates the result."
   ]
  },
  {
   "cell_type": "markdown",
   "metadata": {
    "id": "lxYMr0rUE9UG"
   },
   "source": [
    "### \ud83d\udcdd EXERCISE 3: Compare Local vs OpenAI Embeddings (10 minutes)\n",
    "\n",
    "**What you'll practice:** Understanding the differences between local and cloud-based embedding models.\n",
    "\n",
    "**Your task:**\n",
    "1. Retrieve `document_4` (about Phishing) from the `openai_collection`\n",
    "2. Print the embedding vector length for this OpenAI embedding\n",
    "3. Compare it to the embedding length from the local collection (384 dimensions)\n",
    "4. Think about: Why might OpenAI's embeddings be larger? What are the trade-offs?\n",
    "\n",
    "**Discussion points to consider:**\n",
    "- Local embeddings (384d): Faster, free, runs on your computer, good for prototyping\n",
    "- OpenAI embeddings (1536d): Higher dimensional, potentially captures more nuance, costs money, requires API calls\n",
    "- Both can work well depending on your use case!\n",
    "\n",
    "**Hint:** Use `openai_collection.get()` method with the appropriate ID."
   ]
  },
  {
   "cell_type": "code",
   "execution_count": null,
   "metadata": {
    "id": "plCpgw7hE9UG"
   },
   "outputs": [],
   "source": [
    "# YOUR CODE HERE\n",
    "# Example solution structure:\n",
    "# row = openai_collection.get(ids=[\"document_4\"], include=[\"documents\", \"embeddings\"])\n",
    "# print(\"Document topic:\", row[\"documents\"][0][:100])\n",
    "# print(\"OpenAI embedding length:\", len(row[\"embeddings\"][0]))\n",
    "# print(\"\\nComparison:\")\n",
    "# print(\"  Local model: 384 dimensions\")\n",
    "# print(\"  OpenAI model:\", len(row[\"embeddings\"][0]), \"dimensions\")"
   ]
  },
  {
   "cell_type": "code",
   "execution_count": null,
   "metadata": {
    "id": "bN_cNHSjrlNh"
   },
   "outputs": [],
   "source": [
    "# Retrieving embedding\n",
    "row = openai_collection.get(ids = [\"document_1\"], include = [\"documents\", \"embeddings\"])\n",
    "\n",
    "print(\"Original document:\\n\", row[\"documents\"][0])\n",
    "print(\"\\n Embedding length: \\n\", len(row[\"embeddings\"][0]))\n",
    "print(\"\\n Embedding vector: \\n\", row[\"embeddings\"][0])"
   ]
  },
  {
   "cell_type": "markdown",
   "metadata": {
    "id": "QEkE0_ETE9UG"
   },
   "source": [
    "# 3. Download Database for Notebook 2\n",
    "\n",
    "**IMPORTANT:** You've just created a ChromaDB database with embeddings. To use this database in notebook 2, you need to transfer it.\n",
    "\n",
    "Run the cell below to create a downloadable zip file of your database:"
   ]
  },
  {
   "cell_type": "code",
   "execution_count": null,
   "metadata": {
    "id": "2jH0_WWRE9UG"
   },
   "outputs": [],
   "source": [
    "import shutil\n",
    "import os\n",
    "\n",
    "# Create a zip file of the database\n",
    "zip_filename = \"chromadb_database\"\n",
    "source_dir = \"./chroma_db\"  # The database directory we created earlier\n",
    "\n",
    "print(f\"Creating zip file from: {source_dir}\")\n",
    "\n",
    "try:\n",
    "    # Create the zip file\n",
    "    shutil.make_archive(zip_filename, 'zip', source_dir)\n",
    "    print(f\"\u2705 Database successfully zipped to: {zip_filename}.zip\")\n",
    "    print(f\"   File size: {os.path.getsize(f'{zip_filename}.zip') / 1024:.2f} KB\")\n",
    "\n",
    "    # In Colab, trigger download\n",
    "    try:\n",
    "        from google.colab import files\n",
    "        files.download(f\"{zip_filename}.zip\")\n",
    "        print(\"\\n\ud83d\udce5 Download started! Check your browser's downloads folder.\")\n",
    "        print(\"   You'll upload this file in notebook 2.\")\n",
    "    except ImportError:\n",
    "        print(\"\\n\u2139\ufe0f  Running locally. Zip file saved to current directory.\")\n",
    "        print(f\"   Copy '{zip_filename}.zip' to notebook 2's directory.\")\n",
    "\n",
    "except Exception as e:\n",
    "    print(f\"\u274c Error creating zip file: {e}\")\n",
    "    print(f\"   Make sure the database exists at: {source_dir}\")"
   ]
  }
 ],
 "metadata": {
  "colab": {
   "provenance": []
  },
  "kernelspec": {
   "display_name": "Python 3 (ipykernel)",
   "language": "python",
   "name": "python3"
  },
  "language_info": {
   "codemirror_mode": {
    "name": "ipython",
    "version": 3
   },
   "file_extension": ".py",
   "mimetype": "text/x-python",
   "name": "python",
   "nbconvert_exporter": "python",
   "pygments_lexer": "ipython3",
   "version": "3.10.18"
  }
 },
 "nbformat": 4,
 "nbformat_minor": 0
}