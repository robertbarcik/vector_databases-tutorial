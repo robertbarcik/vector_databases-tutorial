{
 "cells": [
  {
   "cell_type": "markdown",
   "metadata": {
    "id": "n7fUZbLIE9T_"
   },
   "source": [
    "# Setup: Installing Required Libraries\n",
    "\n",
    "Before we begin, we need to install the necessary Python libraries. Run the cell below to install all dependencies for this notebook."
   ]
  },
  {
   "cell_type": "code",
   "execution_count": 1,
   "metadata": {
    "colab": {
     "base_uri": "https://localhost:8080/"
    },
    "id": "PF224IYSE9UA",
    "outputId": "246bf01a-c681-46b1-a0b5-75507540a750"
   },
   "outputs": [
    {
     "output_type": "stream",
     "name": "stdout",
     "text": [
      "  Installing build dependencies ... \u001b[?25l\u001b[?25hdone\n",
      "  Getting requirements to build wheel ... \u001b[?25l\u001b[?25hdone\n",
      "  Preparing metadata (pyproject.toml) ... \u001b[?25l\u001b[?25hdone\n",
      "\u001b[2K     \u001b[90m\u2501\u2501\u2501\u2501\u2501\u2501\u2501\u2501\u2501\u2501\u2501\u2501\u2501\u2501\u2501\u2501\u2501\u2501\u2501\u2501\u2501\u2501\u2501\u2501\u2501\u2501\u2501\u2501\u2501\u2501\u2501\u2501\u2501\u2501\u2501\u2501\u2501\u2501\u2501\u2501\u001b[0m \u001b[32m61.0/61.0 kB\u001b[0m \u001b[31m5.1 MB/s\u001b[0m eta \u001b[36m0:00:00\u001b[0m\n",
      "\u001b[2K     \u001b[90m\u2501\u2501\u2501\u2501\u2501\u2501\u2501\u2501\u2501\u2501\u2501\u2501\u2501\u2501\u2501\u2501\u2501\u2501\u2501\u2501\u2501\u2501\u2501\u2501\u2501\u2501\u2501\u2501\u2501\u2501\u2501\u2501\u2501\u2501\u2501\u2501\u2501\u2501\u2501\u2501\u001b[0m \u001b[32m67.3/67.3 kB\u001b[0m \u001b[31m7.1 MB/s\u001b[0m eta \u001b[36m0:00:00\u001b[0m\n",
      "\u001b[?25h  Installing build dependencies ... \u001b[?25l\u001b[?25hdone\n",
      "  Getting requirements to build wheel ... \u001b[?25l\u001b[?25hdone\n",
      "  Preparing metadata (pyproject.toml) ... \u001b[?25l\u001b[?25hdone\n",
      "\u001b[2K   \u001b[90m\u2501\u2501\u2501\u2501\u2501\u2501\u2501\u2501\u2501\u2501\u2501\u2501\u2501\u2501\u2501\u2501\u2501\u2501\u2501\u2501\u2501\u2501\u2501\u2501\u2501\u2501\u2501\u2501\u2501\u2501\u2501\u2501\u2501\u2501\u2501\u2501\u2501\u2501\u2501\u2501\u001b[0m \u001b[32m559.5/559.5 kB\u001b[0m \u001b[31m16.7 MB/s\u001b[0m eta \u001b[36m0:00:00\u001b[0m\n",
      "\u001b[2K   \u001b[90m\u2501\u2501\u2501\u2501\u2501\u2501\u2501\u2501\u2501\u2501\u2501\u2501\u2501\u2501\u2501\u2501\u2501\u2501\u2501\u2501\u2501\u2501\u2501\u2501\u2501\u2501\u2501\u2501\u2501\u2501\u2501\u2501\u2501\u2501\u2501\u2501\u2501\u2501\u2501\u2501\u001b[0m \u001b[32m77.0/77.0 kB\u001b[0m \u001b[31m6.4 MB/s\u001b[0m eta \u001b[36m0:00:00\u001b[0m\n",
      "\u001b[2K   \u001b[90m\u2501\u2501\u2501\u2501\u2501\u2501\u2501\u2501\u2501\u2501\u2501\u2501\u2501\u2501\u2501\u2501\u2501\u2501\u2501\u2501\u2501\u2501\u2501\u2501\u2501\u2501\u2501\u2501\u2501\u2501\u2501\u2501\u2501\u2501\u2501\u2501\u2501\u2501\u2501\u2501\u001b[0m \u001b[32m227.1/227.1 kB\u001b[0m \u001b[31m19.0 MB/s\u001b[0m eta \u001b[36m0:00:00\u001b[0m\n",
      "\u001b[2K   \u001b[90m\u2501\u2501\u2501\u2501\u2501\u2501\u2501\u2501\u2501\u2501\u2501\u2501\u2501\u2501\u2501\u2501\u2501\u2501\u2501\u2501\u2501\u2501\u2501\u2501\u2501\u2501\u2501\u2501\u2501\u2501\u2501\u2501\u2501\u2501\u2501\u2501\u2501\u2501\u2501\u2501\u001b[0m \u001b[32m278.2/278.2 kB\u001b[0m \u001b[31m22.2 MB/s\u001b[0m eta \u001b[36m0:00:00\u001b[0m\n",
      "\u001b[2K   \u001b[90m\u2501\u2501\u2501\u2501\u2501\u2501\u2501\u2501\u2501\u2501\u2501\u2501\u2501\u2501\u2501\u2501\u2501\u2501\u2501\u2501\u2501\u2501\u2501\u2501\u2501\u2501\u2501\u2501\u2501\u2501\u2501\u2501\u2501\u2501\u2501\u2501\u2501\u2501\u2501\u2501\u001b[0m \u001b[32m2.0/2.0 MB\u001b[0m \u001b[31m68.5 MB/s\u001b[0m eta \u001b[36m0:00:00\u001b[0m\n",
      "\u001b[2K   \u001b[90m\u2501\u2501\u2501\u2501\u2501\u2501\u2501\u2501\u2501\u2501\u2501\u2501\u2501\u2501\u2501\u2501\u2501\u2501\u2501\u2501\u2501\u2501\u2501\u2501\u2501\u2501\u2501\u2501\u2501\u2501\u2501\u2501\u2501\u2501\u2501\u2501\u2501\u2501\u2501\u2501\u001b[0m \u001b[32m103.3/103.3 kB\u001b[0m \u001b[31m10.1 MB/s\u001b[0m eta \u001b[36m0:00:00\u001b[0m\n",
      "\u001b[2K   \u001b[90m\u2501\u2501\u2501\u2501\u2501\u2501\u2501\u2501\u2501\u2501\u2501\u2501\u2501\u2501\u2501\u2501\u2501\u2501\u2501\u2501\u2501\u2501\u2501\u2501\u2501\u2501\u2501\u2501\u2501\u2501\u2501\u2501\u2501\u2501\u2501\u2501\u2501\u2501\u2501\u2501\u001b[0m \u001b[32m18.0/18.0 MB\u001b[0m \u001b[31m136.5 MB/s\u001b[0m eta \u001b[36m0:00:00\u001b[0m\n",
      "\u001b[2K   \u001b[90m\u2501\u2501\u2501\u2501\u2501\u2501\u2501\u2501\u2501\u2501\u2501\u2501\u2501\u2501\u2501\u2501\u2501\u2501\u2501\u2501\u2501\u2501\u2501\u2501\u2501\u2501\u2501\u2501\u2501\u2501\u2501\u2501\u2501\u2501\u2501\u2501\u2501\u2501\u2501\u2501\u001b[0m \u001b[32m17.4/17.4 MB\u001b[0m \u001b[31m126.0 MB/s\u001b[0m eta \u001b[36m0:00:00\u001b[0m\n",
      "\u001b[2K   \u001b[90m\u2501\u2501\u2501\u2501\u2501\u2501\u2501\u2501\u2501\u2501\u2501\u2501\u2501\u2501\u2501\u2501\u2501\u2501\u2501\u2501\u2501\u2501\u2501\u2501\u2501\u2501\u2501\u2501\u2501\u2501\u2501\u2501\u2501\u2501\u2501\u2501\u2501\u2501\u2501\u2501\u001b[0m \u001b[32m72.5/72.5 kB\u001b[0m \u001b[31m5.5 MB/s\u001b[0m eta \u001b[36m0:00:00\u001b[0m\n",
      "\u001b[2K   \u001b[90m\u2501\u2501\u2501\u2501\u2501\u2501\u2501\u2501\u2501\u2501\u2501\u2501\u2501\u2501\u2501\u2501\u2501\u2501\u2501\u2501\u2501\u2501\u2501\u2501\u2501\u2501\u2501\u2501\u2501\u2501\u2501\u2501\u2501\u2501\u2501\u2501\u2501\u2501\u2501\u2501\u001b[0m \u001b[32m208.0/208.0 kB\u001b[0m \u001b[31m17.5 MB/s\u001b[0m eta \u001b[36m0:00:00\u001b[0m\n",
      "\u001b[2K   \u001b[90m\u2501\u2501\u2501\u2501\u2501\u2501\u2501\u2501\u2501\u2501\u2501\u2501\u2501\u2501\u2501\u2501\u2501\u2501\u2501\u2501\u2501\u2501\u2501\u2501\u2501\u2501\u2501\u2501\u2501\u2501\u2501\u2501\u2501\u2501\u2501\u2501\u2501\u2501\u2501\u2501\u001b[0m \u001b[32m65.9/65.9 kB\u001b[0m \u001b[31m5.7 MB/s\u001b[0m eta \u001b[36m0:00:00\u001b[0m\n",
      "\u001b[2K   \u001b[90m\u2501\u2501\u2501\u2501\u2501\u2501\u2501\u2501\u2501\u2501\u2501\u2501\u2501\u2501\u2501\u2501\u2501\u2501\u2501\u2501\u2501\u2501\u2501\u2501\u2501\u2501\u2501\u2501\u2501\u2501\u2501\u2501\u2501\u2501\u2501\u2501\u2501\u2501\u2501\u2501\u001b[0m \u001b[32m132.3/132.3 kB\u001b[0m \u001b[31m10.7 MB/s\u001b[0m eta \u001b[36m0:00:00\u001b[0m\n",
      "\u001b[2K   \u001b[90m\u2501\u2501\u2501\u2501\u2501\u2501\u2501\u2501\u2501\u2501\u2501\u2501\u2501\u2501\u2501\u2501\u2501\u2501\u2501\u2501\u2501\u2501\u2501\u2501\u2501\u2501\u2501\u2501\u2501\u2501\u2501\u2501\u2501\u2501\u2501\u2501\u2501\u2501\u2501\u2501\u001b[0m \u001b[32m138.7/138.7 kB\u001b[0m \u001b[31m12.4 MB/s\u001b[0m eta \u001b[36m0:00:00\u001b[0m\n",
      "\u001b[2K   \u001b[90m\u2501\u2501\u2501\u2501\u2501\u2501\u2501\u2501\u2501\u2501\u2501\u2501\u2501\u2501\u2501\u2501\u2501\u2501\u2501\u2501\u2501\u2501\u2501\u2501\u2501\u2501\u2501\u2501\u2501\u2501\u2501\u2501\u2501\u2501\u2501\u2501\u2501\u2501\u2501\u2501\u001b[0m \u001b[32m517.7/517.7 kB\u001b[0m \u001b[31m39.8 MB/s\u001b[0m eta \u001b[36m0:00:00\u001b[0m\n",
      "\u001b[2K   \u001b[90m\u2501\u2501\u2501\u2501\u2501\u2501\u2501\u2501\u2501\u2501\u2501\u2501\u2501\u2501\u2501\u2501\u2501\u2501\u2501\u2501\u2501\u2501\u2501\u2501\u2501\u2501\u2501\u2501\u2501\u2501\u2501\u2501\u2501\u2501\u2501\u2501\u2501\u2501\u2501\u2501\u001b[0m \u001b[32m128.4/128.4 kB\u001b[0m \u001b[31m11.1 MB/s\u001b[0m eta \u001b[36m0:00:00\u001b[0m\n",
      "\u001b[2K   \u001b[90m\u2501\u2501\u2501\u2501\u2501\u2501\u2501\u2501\u2501\u2501\u2501\u2501\u2501\u2501\u2501\u2501\u2501\u2501\u2501\u2501\u2501\u2501\u2501\u2501\u2501\u2501\u2501\u2501\u2501\u2501\u2501\u2501\u2501\u2501\u2501\u2501\u2501\u2501\u2501\u2501\u001b[0m \u001b[32m4.4/4.4 MB\u001b[0m \u001b[31m123.2 MB/s\u001b[0m eta \u001b[36m0:00:00\u001b[0m\n",
      "\u001b[2K   \u001b[90m\u2501\u2501\u2501\u2501\u2501\u2501\u2501\u2501\u2501\u2501\u2501\u2501\u2501\u2501\u2501\u2501\u2501\u2501\u2501\u2501\u2501\u2501\u2501\u2501\u2501\u2501\u2501\u2501\u2501\u2501\u2501\u2501\u2501\u2501\u2501\u2501\u2501\u2501\u2501\u2501\u001b[0m \u001b[32m456.8/456.8 kB\u001b[0m \u001b[31m37.5 MB/s\u001b[0m eta \u001b[36m0:00:00\u001b[0m\n",
      "\u001b[2K   \u001b[90m\u2501\u2501\u2501\u2501\u2501\u2501\u2501\u2501\u2501\u2501\u2501\u2501\u2501\u2501\u2501\u2501\u2501\u2501\u2501\u2501\u2501\u2501\u2501\u2501\u2501\u2501\u2501\u2501\u2501\u2501\u2501\u2501\u2501\u2501\u2501\u2501\u2501\u2501\u2501\u2501\u001b[0m \u001b[32m46.0/46.0 kB\u001b[0m \u001b[31m3.5 MB/s\u001b[0m eta \u001b[36m0:00:00\u001b[0m\n",
      "\u001b[2K   \u001b[90m\u2501\u2501\u2501\u2501\u2501\u2501\u2501\u2501\u2501\u2501\u2501\u2501\u2501\u2501\u2501\u2501\u2501\u2501\u2501\u2501\u2501\u2501\u2501\u2501\u2501\u2501\u2501\u2501\u2501\u2501\u2501\u2501\u2501\u2501\u2501\u2501\u2501\u2501\u2501\u2501\u001b[0m \u001b[32m86.8/86.8 kB\u001b[0m \u001b[31m6.6 MB/s\u001b[0m eta \u001b[36m0:00:00\u001b[0m\n",
      "\u001b[2K   \u001b[90m\u2501\u2501\u2501\u2501\u2501\u2501\u2501\u2501\u2501\u2501\u2501\u2501\u2501\u2501\u2501\u2501\u2501\u2501\u2501\u2501\u2501\u2501\u2501\u2501\u2501\u2501\u2501\u2501\u2501\u2501\u2501\u2501\u2501\u2501\u2501\u2501\u2501\u2501\u2501\u2501\u001b[0m \u001b[32m88.0/88.0 kB\u001b[0m \u001b[31m7.8 MB/s\u001b[0m eta \u001b[36m0:00:00\u001b[0m\n",
      "\u001b[?25h  Building wheel for chroma-hnswlib (pyproject.toml) ... \u001b[?25l\u001b[?25hdone\n",
      "  Building wheel for pypika (pyproject.toml) ... \u001b[?25l\u001b[?25hdone\n",
      "\u001b[31mERROR: pip's dependency resolver does not currently take into account all the packages that are installed. This behaviour is the source of the following dependency conflicts.\n",
      "jaxlib 0.7.2 requires numpy>=2.0, but you have numpy 1.26.4 which is incompatible.\n",
      "opentelemetry-exporter-otlp-proto-http 1.37.0 requires opentelemetry-exporter-otlp-proto-common==1.37.0, but you have opentelemetry-exporter-otlp-proto-common 1.38.0 which is incompatible.\n",
      "opentelemetry-exporter-otlp-proto-http 1.37.0 requires opentelemetry-proto==1.37.0, but you have opentelemetry-proto 1.38.0 which is incompatible.\n",
      "opentelemetry-exporter-otlp-proto-http 1.37.0 requires opentelemetry-sdk~=1.37.0, but you have opentelemetry-sdk 1.38.0 which is incompatible.\n",
      "pytensor 2.35.1 requires numpy>=2.0, but you have numpy 1.26.4 which is incompatible.\n",
      "google-adk 1.16.0 requires opentelemetry-api<=1.37.0,>=1.37.0, but you have opentelemetry-api 1.38.0 which is incompatible.\n",
      "google-adk 1.16.0 requires opentelemetry-sdk<=1.37.0,>=1.37.0, but you have opentelemetry-sdk 1.38.0 which is incompatible.\n",
      "opencv-python-headless 4.12.0.88 requires numpy<2.3.0,>=2; python_version >= \"3.9\", but you have numpy 1.26.4 which is incompatible.\n",
      "jax 0.7.2 requires numpy>=2.0, but you have numpy 1.26.4 which is incompatible.\n",
      "opencv-contrib-python 4.12.0.88 requires numpy<2.3.0,>=2; python_version >= \"3.9\", but you have numpy 1.26.4 which is incompatible.\n",
      "thinc 8.3.6 requires numpy<3.0.0,>=2.0.0, but you have numpy 1.26.4 which is incompatible.\n",
      "opencv-python 4.12.0.88 requires numpy<2.3.0,>=2; python_version >= \"3.9\", but you have numpy 1.26.4 which is incompatible.\u001b[0m\u001b[31m\n",
      "\u001b[0m\u2705 All libraries installed successfully!\n",
      "\u26a0\ufe0f  IMPORTANT: Please restart your kernel/runtime now before running the next cell!\n"
     ]
    }
   ],
   "source": [
    "# Install required libraries - CONSISTENT VERSIONS\n",
    "# Both notebooks use: chromadb 0.5.3 + openai 0.28.1\n",
    "!pip install -q chromadb==0.5.3 openai==0.28.1 sentence-transformers==3.0.1\n",
    "\n",
    "print(\"\u2705 All libraries installed successfully!\")\n",
    "print(\"\u26a0\ufe0f  IMPORTANT: Please restart your kernel/runtime now before running the next cell!\")"
   ]
  },
  {
   "cell_type": "markdown",
   "metadata": {
    "id": "_XvgVfqfxbYB"
   },
   "source": [
    "# 1. Creating Embeddings Locally\n",
    "\n",
    "We\u2019ll start by generating embeddings locally. This means the text will be converted into numerical vectors right on your computer. Let's import `embedding_functions` module which provides various embedding functions.  \n"
   ]
  },
  {
   "cell_type": "code",
   "execution_count": 1,
   "metadata": {
    "id": "_d9paMe4vr1t"
   },
   "outputs": [],
   "source": [
    "# Importing\n",
    "import os\n",
    "import warnings\n",
    "import logging\n",
    "\n",
    "# Suppress ChromaDB telemetry errors\n",
    "os.environ['ANONYMIZED_TELEMETRY'] = 'False'\n",
    "logging.getLogger('chromadb.telemetry.product.posthog').setLevel(logging.CRITICAL)\n",
    "warnings.filterwarnings('ignore', category=UserWarning, module='chromadb')\n",
    "\n",
    "import chromadb\n",
    "from chromadb.utils import embedding_functions\n",
    "from dotenv import load_dotenv"
   ]
  },
  {
   "cell_type": "markdown",
   "metadata": {
    "id": "TdHUWxhj1mod"
   },
   "source": [
    "We'll use the default embedding function with the model called `all-MiniLM-L6-v2` which outputs a **384-dimensional vector** for each piece of text."
   ]
  },
  {
   "cell_type": "code",
   "execution_count": 2,
   "metadata": {
    "id": "6OKAlOYevwHD"
   },
   "outputs": [],
   "source": [
    "# Instantiating embedding function\n",
    "default_emb_function = embedding_functions.DefaultEmbeddingFunction()"
   ]
  },
  {
   "cell_type": "markdown",
   "metadata": {
    "id": "EBICbVMB2qr6"
   },
   "source": [
    "Let's create an embedding from the name \"Robert\":"
   ]
  },
  {
   "cell_type": "code",
   "execution_count": 3,
   "metadata": {
    "id": "Fw_-xr_fvxZ3"
   },
   "outputs": [],
   "source": [
    "name = \"Robert\""
   ]
  },
  {
   "cell_type": "markdown",
   "metadata": {
    "id": "_tUwkTJM24HI"
   },
   "source": [
    "The result will be a list containing a single 384-dimensional vector:"
   ]
  },
  {
   "cell_type": "code",
   "execution_count": 4,
   "metadata": {
    "id": "ZBAUMdwbv3Kw",
    "outputId": "4bcec7ef-aaf2-45b8-ab89-c7427fab6a52",
    "colab": {
     "base_uri": "https://localhost:8080/"
    }
   },
   "outputs": [
    {
     "output_type": "stream",
     "name": "stderr",
     "text": [
      "/root/.cache/chroma/onnx_models/all-MiniLM-L6-v2/onnx.tar.gz: 100%|\u2588\u2588\u2588\u2588\u2588\u2588\u2588\u2588\u2588\u2588| 79.3M/79.3M [00:01<00:00, 82.0MiB/s]\n"
     ]
    },
    {
     "output_type": "stream",
     "name": "stdout",
     "text": [
      "Number of input texts processed: 1\n",
      "Size of embedding vector: 384\n",
      "\n",
      "\n",
      "Vector:\n"
     ]
    },
    {
     "output_type": "execute_result",
     "data": {
      "text/plain": [
       "[[-0.05403484031558037,\n",
       "  0.026696357876062393,\n",
       "  -0.1073051169514656,\n",
       "  -0.0036746158730238676,\n",
       "  0.02532244101166725,\n",
       "  0.008889665827155113,\n",
       "  0.05590452998876572,\n",
       "  -0.003291555680334568,\n",
       "  0.05701236426830292,\n",
       "  0.03281258046627045,\n",
       "  -0.017449600622057915,\n",
       "  0.006331884302198887,\n",
       "  0.014035055413842201,\n",
       "  -0.03612213209271431,\n",
       "  0.0033633082639425993,\n",
       "  0.035137422382831573,\n",
       "  -0.02783706597983837,\n",
       "  0.053473055362701416,\n",
       "  -0.08472251147031784,\n",
       "  -0.012668184004724026,\n",
       "  -0.06806757301092148,\n",
       "  0.038893528282642365,\n",
       "  -0.01202949695289135,\n",
       "  -0.007861364632844925,\n",
       "  -0.04201057553291321,\n",
       "  0.0502251461148262,\n",
       "  0.03135988488793373,\n",
       "  -0.012779494747519493,\n",
       "  -0.03431631624698639,\n",
       "  -0.09335348010063171,\n",
       "  0.01297550555318594,\n",
       "  -0.03519880026578903,\n",
       "  0.047536227852106094,\n",
       "  -0.02081981673836708,\n",
       "  -0.011318017728626728,\n",
       "  -0.020255163311958313,\n",
       "  -0.054116807878017426,\n",
       "  0.09204525500535965,\n",
       "  -0.0033394175115972757,\n",
       "  -0.0263320654630661,\n",
       "  -0.05798984691500664,\n",
       "  -0.08115307241678238,\n",
       "  0.03837321326136589,\n",
       "  0.01895679160952568,\n",
       "  -0.03145048767328262,\n",
       "  -0.008283669129014015,\n",
       "  0.0384795255959034,\n",
       "  -0.05641448497772217,\n",
       "  0.12214729934930801,\n",
       "  0.059069618582725525,\n",
       "  -0.030863365158438683,\n",
       "  -0.010967005044221878,\n",
       "  -0.033773984760046005,\n",
       "  0.006851035635918379,\n",
       "  0.030648276209831238,\n",
       "  -0.0017466238932684064,\n",
       "  -0.05890228971838951,\n",
       "  -0.014340563677251339,\n",
       "  -0.003186501795426011,\n",
       "  0.049024082720279694,\n",
       "  -0.030268017202615738,\n",
       "  0.0467204786837101,\n",
       "  -0.12643110752105713,\n",
       "  0.039590805768966675,\n",
       "  0.04124877601861954,\n",
       "  0.05710182338953018,\n",
       "  -0.07212214171886444,\n",
       "  -0.03733531013131142,\n",
       "  -0.05166829749941826,\n",
       "  -0.01472912635654211,\n",
       "  -0.07285740226507187,\n",
       "  -0.052857737988233566,\n",
       "  0.024132035672664642,\n",
       "  -0.09705724567174911,\n",
       "  0.048174839466810226,\n",
       "  -0.02745530754327774,\n",
       "  0.0363299660384655,\n",
       "  0.027434639632701874,\n",
       "  0.016206244006752968,\n",
       "  -0.014709877781569958,\n",
       "  0.0026687979698181152,\n",
       "  -0.06312212347984314,\n",
       "  -0.08688237518072128,\n",
       "  -0.03842884674668312,\n",
       "  -0.015261063352227211,\n",
       "  0.05955534055829048,\n",
       "  0.0713406577706337,\n",
       "  -0.05590781569480896,\n",
       "  0.004078416619449854,\n",
       "  0.0015463472809642553,\n",
       "  0.01638757437467575,\n",
       "  -0.026426151394844055,\n",
       "  0.059572890400886536,\n",
       "  0.03957413509488106,\n",
       "  -0.02217751368880272,\n",
       "  0.04271390289068222,\n",
       "  -0.0015859287232160568,\n",
       "  0.0069953082129359245,\n",
       "  -0.07814624160528183,\n",
       "  0.2603089213371277,\n",
       "  -0.03513587638735771,\n",
       "  0.040387485176324844,\n",
       "  -0.006551309023052454,\n",
       "  0.04017152264714241,\n",
       "  -0.025597330182790756,\n",
       "  -0.028874754905700684,\n",
       "  -0.0036472617648541927,\n",
       "  0.07131024450063705,\n",
       "  0.06156757473945618,\n",
       "  -0.04173615202307701,\n",
       "  -0.009703438729047775,\n",
       "  -0.009791974909603596,\n",
       "  0.004078729543834925,\n",
       "  0.06315921992063522,\n",
       "  0.10455286502838135,\n",
       "  -0.05464635789394379,\n",
       "  0.05476900190114975,\n",
       "  -0.004482688847929239,\n",
       "  0.025613969191908836,\n",
       "  -0.058490656316280365,\n",
       "  0.058789052069187164,\n",
       "  0.051602404564619064,\n",
       "  -0.0744781345129013,\n",
       "  -0.030929571017622948,\n",
       "  0.018246270716190338,\n",
       "  0.036447443068027496,\n",
       "  0.08274434506893158,\n",
       "  -4.8562507512590056e-33,\n",
       "  0.048749469220638275,\n",
       "  0.08220300078392029,\n",
       "  0.0954308807849884,\n",
       "  0.006723587866872549,\n",
       "  -0.04726602882146835,\n",
       "  0.004528455436229706,\n",
       "  -0.0675620511174202,\n",
       "  -0.03966587781906128,\n",
       "  -0.0476980023086071,\n",
       "  0.04298743978142738,\n",
       "  0.023161308839917183,\n",
       "  -0.01368526741862297,\n",
       "  -0.06971810758113861,\n",
       "  -0.018131444230675697,\n",
       "  0.004924557637423277,\n",
       "  0.049508437514305115,\n",
       "  0.05052969604730606,\n",
       "  -0.01864846609532833,\n",
       "  0.06666228175163269,\n",
       "  0.023971475660800934,\n",
       "  -0.08006201684474945,\n",
       "  0.19591286778450012,\n",
       "  -0.024798909202218056,\n",
       "  0.0506674125790596,\n",
       "  0.030367715284228325,\n",
       "  -0.03144382685422897,\n",
       "  0.0378691665828228,\n",
       "  0.004397539421916008,\n",
       "  0.03247907757759094,\n",
       "  0.031804125756025314,\n",
       "  0.02106407657265663,\n",
       "  0.07649202644824982,\n",
       "  0.00046449227374978364,\n",
       "  0.03900500759482384,\n",
       "  0.07419056445360184,\n",
       "  -0.04956117272377014,\n",
       "  -0.027223259210586548,\n",
       "  -0.017828281968832016,\n",
       "  0.0152947548776865,\n",
       "  -0.03700163960456848,\n",
       "  0.018181104212999344,\n",
       "  0.000870554824359715,\n",
       "  -0.007593902759253979,\n",
       "  0.08563665300607681,\n",
       "  -0.06888594478368759,\n",
       "  -0.025492098182439804,\n",
       "  0.021391522139310837,\n",
       "  0.05178846791386604,\n",
       "  0.04953576624393463,\n",
       "  0.004714363254606724,\n",
       "  0.0033626083750277758,\n",
       "  0.02021753415465355,\n",
       "  -0.010424813255667686,\n",
       "  0.035629983991384506,\n",
       "  0.005956550128757954,\n",
       "  -0.06963161379098892,\n",
       "  -0.0435766726732254,\n",
       "  -0.024143651127815247,\n",
       "  0.031061191111803055,\n",
       "  -0.017836306244134903,\n",
       "  0.01979740336537361,\n",
       "  0.08536210656166077,\n",
       "  0.017613710835576057,\n",
       "  0.1349097192287445,\n",
       "  0.00046724374988116324,\n",
       "  -0.1514783501625061,\n",
       "  -0.004829543177038431,\n",
       "  -0.05023186281323433,\n",
       "  0.022859197109937668,\n",
       "  -0.004972230177372694,\n",
       "  -0.058535385876894,\n",
       "  0.06427477300167084,\n",
       "  0.08829537034034729,\n",
       "  -0.012074931524693966,\n",
       "  -0.011523314751684666,\n",
       "  0.02203107438981533,\n",
       "  -0.016948668286204338,\n",
       "  0.04118051379919052,\n",
       "  0.008960548788309097,\n",
       "  0.029878901317715645,\n",
       "  -0.052054911851882935,\n",
       "  -0.04838927090167999,\n",
       "  -0.0013645885046571493,\n",
       "  -0.01129254698753357,\n",
       "  -0.0397031344473362,\n",
       "  -0.024803709238767624,\n",
       "  -0.11089962720870972,\n",
       "  -0.08062642067670822,\n",
       "  -0.015268338844180107,\n",
       "  -0.015400764532387257,\n",
       "  -0.059039026498794556,\n",
       "  -0.011248260736465454,\n",
       "  0.009837936609983444,\n",
       "  0.025400349870324135,\n",
       "  0.00447934539988637,\n",
       "  3.0896105769837594e-33,\n",
       "  0.01208395604044199,\n",
       "  -0.05640650913119316,\n",
       "  0.07795882970094681,\n",
       "  0.09880635887384415,\n",
       "  0.10625334084033966,\n",
       "  -0.022684264928102493,\n",
       "  0.05269267410039902,\n",
       "  -0.05887842923402786,\n",
       "  -0.037526555359363556,\n",
       "  -0.04613145440816879,\n",
       "  -0.006532139144837856,\n",
       "  -0.013300254009664059,\n",
       "  0.017554553225636482,\n",
       "  -0.04065028950572014,\n",
       "  0.08997465670108795,\n",
       "  -0.02414320595562458,\n",
       "  0.033100128173828125,\n",
       "  -0.06746354699134827,\n",
       "  0.013690602034330368,\n",
       "  -0.017486784607172012,\n",
       "  0.016078811138868332,\n",
       "  0.032739054411649704,\n",
       "  -0.03154006972908974,\n",
       "  -0.11433310806751251,\n",
       "  0.0206673052161932,\n",
       "  0.0012565492652356625,\n",
       "  0.08399040251970291,\n",
       "  0.0734468623995781,\n",
       "  -0.1195756196975708,\n",
       "  -0.023821193724870682,\n",
       "  0.025191131979227066,\n",
       "  0.04734494164586067,\n",
       "  -0.0072125885635614395,\n",
       "  -0.06856030225753784,\n",
       "  -0.09769599139690399,\n",
       "  0.10896188020706177,\n",
       "  0.008094578981399536,\n",
       "  0.0029055280610919,\n",
       "  -0.021972008049488068,\n",
       "  0.00932072289288044,\n",
       "  0.0335831455886364,\n",
       "  -0.016194188967347145,\n",
       "  -0.006591117009520531,\n",
       "  0.04309522733092308,\n",
       "  0.03891151398420334,\n",
       "  -0.052401989698410034,\n",
       "  -0.03173369541764259,\n",
       "  -0.024874843657016754,\n",
       "  0.039327941834926605,\n",
       "  0.02387280762195587,\n",
       "  -0.056883394718170166,\n",
       "  0.02040954865515232,\n",
       "  0.00045797330676577985,\n",
       "  -0.0612635612487793,\n",
       "  0.06757085770368576,\n",
       "  0.04287455603480339,\n",
       "  0.04430234059691429,\n",
       "  0.005985349416732788,\n",
       "  0.03186230733990669,\n",
       "  0.08345069736242294,\n",
       "  -0.06251458823680878,\n",
       "  0.08422122150659561,\n",
       "  0.033296212553977966,\n",
       "  0.0447501465678215,\n",
       "  0.010204817168414593,\n",
       "  0.02032049559056759,\n",
       "  -0.0037122454959899187,\n",
       "  0.03662174195051193,\n",
       "  0.026832779869437218,\n",
       "  0.002514536725357175,\n",
       "  0.1201428696513176,\n",
       "  -0.059540245682001114,\n",
       "  -0.007327403407543898,\n",
       "  0.029714837670326233,\n",
       "  0.006520611699670553,\n",
       "  0.019266260787844658,\n",
       "  -0.04940582811832428,\n",
       "  0.048302970826625824,\n",
       "  -0.06838448345661163,\n",
       "  0.024629363790154457,\n",
       "  -0.05260812118649483,\n",
       "  -0.05200739949941635,\n",
       "  -0.023266920819878578,\n",
       "  0.09500305354595184,\n",
       "  -0.09685935825109482,\n",
       "  0.0003453903191257268,\n",
       "  0.10373236238956451,\n",
       "  -0.08034495264291763,\n",
       "  -0.013034560717642307,\n",
       "  0.011622915975749493,\n",
       "  0.009819095954298973,\n",
       "  -0.10226017236709595,\n",
       "  0.025830764323472977,\n",
       "  -0.05168512836098671,\n",
       "  -0.020365819334983826,\n",
       "  -1.1670132415986245e-08,\n",
       "  0.01357227936387062,\n",
       "  -0.024867558851838112,\n",
       "  -0.05550567805767059,\n",
       "  -0.119068443775177,\n",
       "  0.02334407903254032,\n",
       "  0.040901068598032,\n",
       "  0.03804866224527359,\n",
       "  -0.006011174526065588,\n",
       "  -0.0832831859588623,\n",
       "  0.07737697660923004,\n",
       "  0.030824244022369385,\n",
       "  -0.006069285329431295,\n",
       "  0.07514551281929016,\n",
       "  0.014625984244048595,\n",
       "  0.08534200489521027,\n",
       "  -0.04959813505411148,\n",
       "  -0.019887903705239296,\n",
       "  -0.043759770691394806,\n",
       "  -0.05410536751151085,\n",
       "  -0.022437963634729385,\n",
       "  0.013676131144165993,\n",
       "  -0.04018819332122803,\n",
       "  0.04690299928188324,\n",
       "  -0.025784187018871307,\n",
       "  0.004167899023741484,\n",
       "  0.029442043974995613,\n",
       "  0.009621887467801571,\n",
       "  0.01952226832509041,\n",
       "  -0.010098298080265522,\n",
       "  0.06583824753761292,\n",
       "  -0.04325304925441742,\n",
       "  0.037425488233566284,\n",
       "  -0.014824285171926022,\n",
       "  -0.002705196151509881,\n",
       "  0.05282172933220863,\n",
       "  -0.049104247242212296,\n",
       "  -0.02346618101000786,\n",
       "  -0.06717781722545624,\n",
       "  0.022052926942706108,\n",
       "  0.0037580986972898245,\n",
       "  -0.046988844871520996,\n",
       "  0.058755405247211456,\n",
       "  0.015167883597314358,\n",
       "  0.013923165388405323,\n",
       "  -0.032280340790748596,\n",
       "  -0.01061942707747221,\n",
       "  0.03937685117125511,\n",
       "  0.025425253435969353,\n",
       "  -0.050806380808353424,\n",
       "  -0.07258237898349762,\n",
       "  0.01808140240609646,\n",
       "  0.03520761802792549,\n",
       "  -0.030802782624959946,\n",
       "  0.06105540320277214,\n",
       "  0.02163543924689293,\n",
       "  0.008305120281875134,\n",
       "  0.031627897173166275,\n",
       "  0.012707452289760113,\n",
       "  -0.06682136654853821,\n",
       "  -0.06067730486392975,\n",
       "  0.07398366928100586,\n",
       "  -0.05802203342318535,\n",
       "  -0.0667637288570404,\n",
       "  -0.05415662005543709]]"
      ]
     },
     "metadata": {},
     "execution_count": 4
    }
   ],
   "source": [
    "# Creating an embedding\n",
    "local_emb = default_emb_function([name])\n",
    "\n",
    "print(\"Number of input texts processed:\", len(local_emb))\n",
    "print(\"Size of embedding vector:\", len(local_emb[0]))\n",
    "print(\"\\n\")\n",
    "print(\"Vector:\")\n",
    "local_emb"
   ]
  },
  {
   "cell_type": "markdown",
   "metadata": {
    "id": "FNvMY2LbE9UC"
   },
   "source": [
    "### \ud83d\udcdd EXERCISE 1: Create Your Own Embeddings\n",
    "\n",
    "\n",
    "\n",
    "**Your task:**\n",
    "1. Create a list with 3-5 words or short phrases related to a topic you're interested in (e.g., programming languages, foods, cities, hobbies)\n",
    "2. Generate embeddings for your list using `default_emb_function()`\n",
    "3. Print the number of items processed and the size of one embedding vector\n",
    "\n"
   ]
  },
  {
   "cell_type": "code",
   "execution_count": 5,
   "metadata": {
    "id": "D0sTMSW6E9UC"
   },
   "outputs": [],
   "source": [
    "# YOUR CODE HERE\n"
   ]
  },
  {
   "cell_type": "markdown",
   "metadata": {
    "id": "G4zPKIbZ_f1K"
   },
   "source": [
    "## 1.1 Storing the data\n",
    "This was a really simple example of embedding just one word. But in the real world, we have hundreds or thousands of texts for which we want to create embeddings and then search them later. We need somewhere to keep them. Let's see how ChromaDB handle storing these data.\n",
    "\n",
    "\n",
    "**1. In-memory Chroma Database**:\n",
    "- Chroma keeps all your embeddings only while the program is running. As soon as you stop or restart your notebook, **all data is lost automatically**. This is fine for quick experiments where you don\u2019t care about keeping the results, but it\u2019s not practical for building something you\u2019ll revisit later.\n",
    "\n",
    "To create a temporary, in-memory Chroma database instance, we can use **an ephemeral client** right inside our notebook session. It starts a Chroma server entirely in memory and returns a Python client object that we can interact with as if it's a full database:\n",
    "\n",
    "```\n",
    "client = chromadb.EphemeralClient()\n",
    "```\n",
    "\n",
    "**2. Persistent storage**\n",
    "- The second approach is creating **a persistent client that saves everything to files on your disk**. Even if you close your notebook or shut down your computer, you can open the same database later and all your data will still be there.\n",
    "\n",
    "\n"
   ]
  },
  {
   "cell_type": "code",
   "execution_count": 6,
   "metadata": {
    "id": "ZiAWesWADuNB"
   },
   "outputs": [],
   "source": [
    "# Creating a persistent storage in the current directory\n",
    "client = chromadb.PersistentClient(path=\"./chroma_db\")"
   ]
  },
  {
   "cell_type": "code",
   "execution_count": 7,
   "metadata": {
    "id": "nRydQnOgC29E"
   },
   "outputs": [],
   "source": [
    "# Creating a collection\n",
    "collection = client.get_or_create_collection(\"my_documents_locally\",\n",
    "                                             metadata={\"hnsw:space\": \"cosine\"})"
   ]
  },
  {
   "cell_type": "markdown",
   "metadata": {
    "id": "iYaKuNK7ndUl"
   },
   "source": [
    "You can list all created collections using:"
   ]
  },
  {
   "cell_type": "code",
   "execution_count": 8,
   "metadata": {
    "id": "5_ZTL8t9nkxp",
    "outputId": "3223f373-ca6f-4bc2-8366-72ef63498a94",
    "colab": {
     "base_uri": "https://localhost:8080/"
    }
   },
   "outputs": [
    {
     "output_type": "execute_result",
     "data": {
      "text/plain": [
       "[<chromadb.api.models.Collection.Collection at 0x7c1b020c54f0>]"
      ]
     },
     "metadata": {},
     "execution_count": 8
    }
   ],
   "source": [
    "client.list_collections()"
   ]
  },
  {
   "cell_type": "markdown",
   "metadata": {
    "id": "pVkRKFCFnoEH"
   },
   "source": [
    "If you want to delete an entire collection, use the below code:"
   ]
  },
  {
   "cell_type": "code",
   "execution_count": 9,
   "metadata": {
    "id": "GUUrPDxfntuB"
   },
   "outputs": [],
   "source": [
    "# This is irreversible\n",
    "#client.delete_collection(\"my_documents_locally\")"
   ]
  },
  {
   "cell_type": "markdown",
   "metadata": {
    "id": "j-khAklvHVCU"
   },
   "source": [
    "## 1.3 Adding Documents into a Collection\n",
    "\n",
    "In real projects, we embed PDFs, HTML, or other larger documents, but to clearly see how Chroma works, we\u2019ll start with a few short example texts:"
   ]
  },
  {
   "cell_type": "code",
   "execution_count": 10,
   "metadata": {
    "id": "uZvIkRrfrlNf"
   },
   "outputs": [],
   "source": [
    "# Documents with metadata that will be embedded and added into Chroma database\n",
    "\n",
    "documents = [    {        \"id\": \"document_1\",        \"text\": \"\"\"Public-key cryptography, also known as asymmetric cryptography, represents a monumental paradigm shift from its predecessor, symmetric cryptography. The fundamental challenge it solves is that of key distribution, which was the Achilles' heel of symmetric systems requiring a shared secret key to be exchanged over a secure channel beforehand. Introduced conceptually by Whitfield Diffie and Martin Hellman in their seminal 1976 paper \"New Directions in Cryptography,\" this system utilizes pairs of mathematically linked keys: a public key and a private key. The public key can be shared openly without compromising security, while the private key must be kept secret by its owner. This ingenious design allows for two primary functions: encryption and digital signatures. For encryption, a sender uses the recipient's public key to encrypt a message, which can then only be decrypted by the recipient using their corresponding private key. This ensures confidentiality even when communicating over a hostile, monitored network like the internet. For digital signatures, a sender uses their own private key to sign a message, and anyone with their public key can verify the signature's authenticity, ensuring both integrity and non-repudiation. The security of these systems relies on the computational difficulty of 'one-way functions' with a 'trapdoor,' where it is easy to compute in one direction but infeasible to reverse without the secret information of the private key. The first practical and widely used implementation was the RSA algorithm, developed in 1977 by Ron Rivest, Adi Shamir, and Leonard Adleman, which bases its security on the difficulty of factoring large prime numbers. Over time, other algorithms like Elliptic Curve Cryptography (ECC) have gained prominence, offering equivalent security with much smaller key sizes, making them ideal for resource-constrained devices like smartphones. The practical application of public-key cryptography is managed through a Public Key Infrastructure (PKI). A PKI is a framework of policies and procedures that uses a trusted third party, known as a Certificate Authority (CA), to issue digital certificates that bind public keys to specific identities. This is the trust model that underpins the entire secure web, enabling protocols like Transport Layer Security (TLS), which secures HTTPS traffic. Its influence extends to securing email with PGP, remote shell access with SSH, and forming the transactional backbone of virtually all cryptocurrencies, including Bitcoin. However, the rise of quantum computing poses a significant future threat to current public-key algorithms, as they can theoretically solve the underlying mathematical problems efficiently. This has spurred the development of a new field called post-quantum cryptography (PQC), which aims to create a new generation of secure algorithms resistant to attacks from both classical and quantum computers.\"\"\",        \"metadata\": {\"category\": \"cryptography\", \"year\": 1976, \"difficulty\": \"advanced\", \"author\": \"Security Team\"}    },    {        \"id\": \"document_2\",        \"text\": \"\"\"Stuxnet stands as a watershed moment in the history of digital warfare, a malicious computer worm that transcended the digital realm to cause tangible, physical destruction. First discovered in 2010 by the Belarusian security firm VirusBlokAda, its origins and development are widely attributed to a top-secret joint American-Israeli intelligence operation, codenamed \"Olympic Games.\" Stuxnet's primary target was the Iranian nuclear program, specifically the Siemens industrial control systems (ICS) that managed the gas centrifuges at the Natanz uranium enrichment facility. What made Stuxnet exceptionally sophisticated was its multi-stage attack methodology and its method of propagation. It was specifically designed to cross the 'air gap,' a security measure where critical networks are physically isolated from the internet. The worm primarily spread through infected USB flash drives, exploiting a Windows Shell vulnerability related to .LNK files. Once inside a network, it would aggressively seek out machines running Siemens Step7 software, the specific platform used to program the programmable logic controllers (PLCs) that automated the centrifuges. The worm's payload was a masterpiece of deception. It would record the normal operating frequencies of the centrifuges and then replay this data back to the human operators, creating the illusion that everything was functioning correctly. Meanwhile, the malware would subtly and intermittently alter the rotational speed of the centrifuges, causing them to spin too fast and then too slow, inducing excessive vibration and stress that led to their eventual mechanical failure and destruction. This cyber-physical attack was unprecedented in its precision and impact. Stuxnet leveraged an astonishing four different zero-day vulnerabilities in Microsoft Windows, a record for a single piece of malware at the time. To further evade detection, it was signed with stolen, legitimate digital certificates from reputable hardware companies, Realtek and JMicron, allowing it to masquerade as trusted software. The discovery of Stuxnet irrevocably changed the landscape of national security, proving that code could be deployed as a precise and effective weapon to sabotage critical infrastructure. It ushered in a new era of state-sponsored cyber-physical attacks and served as a blueprint for future digital weapons, fundamentally altering the calculus of modern conflict.\"\"\",        \"metadata\": {\"category\": \"cyberwarfare\", \"year\": 2010, \"difficulty\": \"intermediate\", \"author\": \"Security Team\"}    },    {        \"id\": \"document_3\",        \"text\": \"\"\"The Zero Trust Architecture (ZTA) is a modern cybersecurity strategy built on a profound philosophical shift: 'never trust, always verify.' This model fundamentally rejects the outdated 'castle-and-moat' concept of security, where a hardened perimeter was thought to be sufficient to protect a trusted internal network. That traditional model is no longer viable in an era of cloud computing, remote workforces, and sophisticated persistent threats that often breach the perimeter. Coined by John Kindervag at Forrester Research in 2010, Zero Trust mandates a granular, identity-centric approach to security. It operates on the core principle of 'assume breach,' meaning that an attacker is already present within the network, and therefore, no user or device can be implicitly trusted based on its physical or network location. Access to resources is granted on a per-session, least-privilege basis, strictly enforced through a dynamic policy engine. This policy engine makes access decisions based on a wide array of real-time signals, not just a static password. These signals form the pillars of Zero Trust: strong identity verification, device health, and network context. Every access request must be accompanied by robust authentication, with Multi-Factor Authentication (MFA) considered the absolute baseline. The security posture of the endpoint device is scrutinized; a device that is unpatched, jailbroken, or shows signs of infection may be denied access. To prevent the lateral movement of attackers within a network, Zero Trust heavily relies on micro-segmentation. This practice involves breaking the network into small, isolated zones, often down to the individual workload level, and enforcing strict access controls between them. The National Institute of Standards and Technology (NIST) has formalized these concepts in its Special Publication 800-207, providing a comprehensive guide for organizations. Implementing Zero Trust is not about deploying a single product but is a strategic journey that involves integrating various technologies and redesigning network and security architecture. The ultimate goal is to create a resilient, adaptable security posture where access is continuously validated, and the potential 'blast radius' of any single breach is minimized. It is a transition from a location-based trust model to an identity- and context-based model fit for the complexities of modern IT environments.\"\"\",        \"metadata\": {\"category\": \"architecture\", \"year\": 2010, \"difficulty\": \"intermediate\", \"author\": \"Security Team\"}    },    {        \"id\": \"document_4\",        \"text\": \"\"\"Phishing is the most pervasive form of social engineering, an attack vector that targets the weakest link in the security chain: human psychology. Its name, a homophone of 'fishing,' originated in the mid-1990s within the hacker community, where attackers used email lures to 'phish' for passwords from unsuspecting users. This attack vector functions by having a threat actor masquerade as a trustworthy entity to deceive a victim. The ultimate objective is typically to steal sensitive data like login credentials, credit card numbers, or personally identifiable information (PII), or to deploy malware like ransomware. The attack begins with a carefully crafted lure, which most often takes the form of an email, SMS text message (known as smishing), or even a voice call (vishing). These messages are designed to exploit powerful human emotions such as fear, urgency, curiosity, or greed. For example, a message might falsely claim a user's bank account has been compromised and demand immediate action, or it might offer an unbelievable prize. The sophistication of phishing attacks varies widely. At the low end are bulk phishing campaigns sent to millions of users with generic greetings and obvious grammatical errors. At the high end is spear phishing, a highly targeted attack that uses personal information gathered about an individual or organization to create an extremely convincing and personalized lure. A sub-variant of this, known as whaling, specifically targets senior executives or other high-value individuals within a company. Another common technique is clone phishing, where an attacker copies a legitimate, previously delivered email and replaces its links or attachments with malicious ones. The attack chain relies on the victim taking a specific action, such as clicking a hyperlink that leads to a fraudulent website designed to harvest credentials or downloading an attachment laden with malware. Defending against phishing requires a multi-layered approach. User education and awareness training are critical to help people recognize the tell-tale signs of a phishing attempt, such as mismatched URLs, suspicious sender addresses, and unexpected requests for sensitive information. On the technical side, organizations deploy email security gateways that use protocols like SPF, DKIM, and DMARC to authenticate senders, as well as advanced threat protection systems that scan links and attachments for malicious content. Despite these defenses, phishing remains the primary initial access vector for a vast majority of all cyberattacks, making it an enduring and critical threat to both individuals and organizations.\"\"\",        \"metadata\": {\"category\": \"social-engineering\", \"year\": 1995, \"difficulty\": \"beginner\", \"author\": \"Security Team\"}    },    {        \"id\": \"document_5\",        \"text\": \"\"\"Multi-Factor Authentication (MFA) is a security mechanism that requires users to provide two or more verification factors to gain access to a resource, such as an application, online account, or VPN. Rather than just asking for a username and password, MFA requires additional credentials, making it harder for attackers to gain unauthorized access. The factors fall into three categories: something you know (like a password or PIN), something you have (like a smartphone or security token), and something you are (like a fingerprint or facial recognition). A common example is when you log into your bank account: you enter your password (something you know), and then the bank sends a code to your phone (something you have). Even if an attacker steals your password, they would still need access to your phone to complete the login. MFA significantly reduces the risk of account takeovers, which are common in phishing attacks where passwords are compromised. According to Microsoft, MFA can block over 99.9% of account compromise attacks. The most common MFA methods include SMS codes, authenticator apps like Google Authenticator or Microsoft Authenticator, hardware tokens like YubiKey, and biometric verification. While SMS-based MFA is better than nothing, it's vulnerable to SIM-swapping attacks where attackers convince mobile carriers to transfer a victim's phone number to a new SIM card. Authenticator apps and hardware tokens are more secure alternatives. Organizations should implement MFA for all critical systems, especially email, VPN access, and administrative accounts.\"\"\",        \"metadata\": {\"category\": \"authentication\", \"year\": 2020, \"difficulty\": \"beginner\", \"author\": \"Security Team\"}    },    {        \"id\": \"document_6\",        \"text\": \"\"\"A Virtual Private Network (VPN) creates a secure, encrypted tunnel between your device and the internet. When you connect to a VPN, all your internet traffic is routed through an encrypted connection to a server operated by the VPN provider. This serves several purposes: it hides your IP address, encrypts your data so that ISPs and other third parties cannot see what you're doing online, and allows you to appear as if you're browsing from a different location. VPNs are essential for remote workers who need to securely access corporate networks from home or public Wi-Fi networks. Without a VPN, data transmitted over public Wi-Fi can be intercepted by attackers using tools like packet sniffers. VPNs use various protocols to establish secure connections, including OpenVPN, WireGuard, and IKEv2/IPSec. Each protocol offers different balances of speed, security, and compatibility. Enterprise VPNs often integrate with corporate authentication systems and enforce security policies, such as requiring devices to have up-to-date antivirus software before allowing connections. While consumer VPNs are marketed for privacy, it's important to choose reputable providers, as a malicious VPN provider could potentially monitor your traffic. For businesses, VPNs are a critical component of remote access security, especially in the context of Zero Trust architectures where every connection is verified regardless of location.\"\"\",        \"metadata\": {\"category\": \"network-security\", \"year\": 2015, \"difficulty\": \"beginner\", \"author\": \"Network Team\"}    }]"
   ]
  },
  {
   "cell_type": "code",
   "execution_count": 11,
   "metadata": {
    "id": "f0J8r326rlNf",
    "outputId": "3bff6691-d331-4ec0-e344-a33cabb8f856",
    "colab": {
     "base_uri": "https://localhost:8080/"
    }
   },
   "outputs": [
    {
     "output_type": "execute_result",
     "data": {
      "text/plain": [
       "[{'id': 'document_1',\n",
       "  'text': 'Public-key cryptography, also known as asymmetric cryptography, represents a monumental paradigm shift from its predecessor, symmetric cryptography. The fundamental challenge it solves is that of key distribution, which was the Achilles\\' heel of symmetric systems requiring a shared secret key to be exchanged over a secure channel beforehand. Introduced conceptually by Whitfield Diffie and Martin Hellman in their seminal 1976 paper \"New Directions in Cryptography,\" this system utilizes pairs of mathematically linked keys: a public key and a private key. The public key can be shared openly without compromising security, while the private key must be kept secret by its owner. This ingenious design allows for two primary functions: encryption and digital signatures. For encryption, a sender uses the recipient\\'s public key to encrypt a message, which can then only be decrypted by the recipient using their corresponding private key. This ensures confidentiality even when communicating over a hostile, monitored network like the internet. For digital signatures, a sender uses their own private key to sign a message, and anyone with their public key can verify the signature\\'s authenticity, ensuring both integrity and non-repudiation. The security of these systems relies on the computational difficulty of \\'one-way functions\\' with a \\'trapdoor,\\' where it is easy to compute in one direction but infeasible to reverse without the secret information of the private key. The first practical and widely used implementation was the RSA algorithm, developed in 1977 by Ron Rivest, Adi Shamir, and Leonard Adleman, which bases its security on the difficulty of factoring large prime numbers. Over time, other algorithms like Elliptic Curve Cryptography (ECC) have gained prominence, offering equivalent security with much smaller key sizes, making them ideal for resource-constrained devices like smartphones. The practical application of public-key cryptography is managed through a Public Key Infrastructure (PKI). A PKI is a framework of policies and procedures that uses a trusted third party, known as a Certificate Authority (CA), to issue digital certificates that bind public keys to specific identities. This is the trust model that underpins the entire secure web, enabling protocols like Transport Layer Security (TLS), which secures HTTPS traffic. Its influence extends to securing email with PGP, remote shell access with SSH, and forming the transactional backbone of virtually all cryptocurrencies, including Bitcoin. However, the rise of quantum computing poses a significant future threat to current public-key algorithms, as they can theoretically solve the underlying mathematical problems efficiently. This has spurred the development of a new field called post-quantum cryptography (PQC), which aims to create a new generation of secure algorithms resistant to attacks from both classical and quantum computers.',\n",
       "  'metadata': {'category': 'cryptography',\n",
       "   'year': 1976,\n",
       "   'difficulty': 'advanced',\n",
       "   'author': 'Security Team'}},\n",
       " {'id': 'document_2',\n",
       "  'text': 'Stuxnet stands as a watershed moment in the history of digital warfare, a malicious computer worm that transcended the digital realm to cause tangible, physical destruction. First discovered in 2010 by the Belarusian security firm VirusBlokAda, its origins and development are widely attributed to a top-secret joint American-Israeli intelligence operation, codenamed \"Olympic Games.\" Stuxnet\\'s primary target was the Iranian nuclear program, specifically the Siemens industrial control systems (ICS) that managed the gas centrifuges at the Natanz uranium enrichment facility. What made Stuxnet exceptionally sophisticated was its multi-stage attack methodology and its method of propagation. It was specifically designed to cross the \\'air gap,\\' a security measure where critical networks are physically isolated from the internet. The worm primarily spread through infected USB flash drives, exploiting a Windows Shell vulnerability related to .LNK files. Once inside a network, it would aggressively seek out machines running Siemens Step7 software, the specific platform used to program the programmable logic controllers (PLCs) that automated the centrifuges. The worm\\'s payload was a masterpiece of deception. It would record the normal operating frequencies of the centrifuges and then replay this data back to the human operators, creating the illusion that everything was functioning correctly. Meanwhile, the malware would subtly and intermittently alter the rotational speed of the centrifuges, causing them to spin too fast and then too slow, inducing excessive vibration and stress that led to their eventual mechanical failure and destruction. This cyber-physical attack was unprecedented in its precision and impact. Stuxnet leveraged an astonishing four different zero-day vulnerabilities in Microsoft Windows, a record for a single piece of malware at the time. To further evade detection, it was signed with stolen, legitimate digital certificates from reputable hardware companies, Realtek and JMicron, allowing it to masquerade as trusted software. The discovery of Stuxnet irrevocably changed the landscape of national security, proving that code could be deployed as a precise and effective weapon to sabotage critical infrastructure. It ushered in a new era of state-sponsored cyber-physical attacks and served as a blueprint for future digital weapons, fundamentally altering the calculus of modern conflict.',\n",
       "  'metadata': {'category': 'cyberwarfare',\n",
       "   'year': 2010,\n",
       "   'difficulty': 'intermediate',\n",
       "   'author': 'Security Team'}},\n",
       " {'id': 'document_3',\n",
       "  'text': \"The Zero Trust Architecture (ZTA) is a modern cybersecurity strategy built on a profound philosophical shift: 'never trust, always verify.' This model fundamentally rejects the outdated 'castle-and-moat' concept of security, where a hardened perimeter was thought to be sufficient to protect a trusted internal network. That traditional model is no longer viable in an era of cloud computing, remote workforces, and sophisticated persistent threats that often breach the perimeter. Coined by John Kindervag at Forrester Research in 2010, Zero Trust mandates a granular, identity-centric approach to security. It operates on the core principle of 'assume breach,' meaning that an attacker is already present within the network, and therefore, no user or device can be implicitly trusted based on its physical or network location. Access to resources is granted on a per-session, least-privilege basis, strictly enforced through a dynamic policy engine. This policy engine makes access decisions based on a wide array of real-time signals, not just a static password. These signals form the pillars of Zero Trust: strong identity verification, device health, and network context. Every access request must be accompanied by robust authentication, with Multi-Factor Authentication (MFA) considered the absolute baseline. The security posture of the endpoint device is scrutinized; a device that is unpatched, jailbroken, or shows signs of infection may be denied access. To prevent the lateral movement of attackers within a network, Zero Trust heavily relies on micro-segmentation. This practice involves breaking the network into small, isolated zones, often down to the individual workload level, and enforcing strict access controls between them. The National Institute of Standards and Technology (NIST) has formalized these concepts in its Special Publication 800-207, providing a comprehensive guide for organizations. Implementing Zero Trust is not about deploying a single product but is a strategic journey that involves integrating various technologies and redesigning network and security architecture. The ultimate goal is to create a resilient, adaptable security posture where access is continuously validated, and the potential 'blast radius' of any single breach is minimized. It is a transition from a location-based trust model to an identity- and context-based model fit for the complexities of modern IT environments.\",\n",
       "  'metadata': {'category': 'architecture',\n",
       "   'year': 2010,\n",
       "   'difficulty': 'intermediate',\n",
       "   'author': 'Security Team'}}]"
      ]
     },
     "metadata": {},
     "execution_count": 11
    }
   ],
   "source": [
    "documents[:3]"
   ]
  },
  {
   "cell_type": "markdown",
   "metadata": {
    "id": "_Ww0N4RAJMU7"
   },
   "source": [
    "Now we'll fill the created collection with data using `add()` function which takes a list of unique string IDs and a list of documents. These will be automatically embedded using the default embedding function. Chroma then builds vector indexes inside the collection."
   ]
  },
  {
   "cell_type": "code",
   "execution_count": 12,
   "metadata": {
    "id": "_9_4Gt9gHUsE"
   },
   "outputs": [],
   "source": [
    "# Adding documents into the collection\n",
    "ids = [doc[\"id\"] for doc in documents]\n",
    "texts = [doc[\"text\"] for doc in documents]\n",
    "\n",
    "collection.add(ids = ids, documents = texts)"
   ]
  },
  {
   "cell_type": "markdown",
   "metadata": {
    "id": "AHq_9i3qE9UD"
   },
   "source": [
    "## 1.4 Working with Metadata\n",
    "\n",
    "In the previous example, we added just the text. But ChromaDB also supports **metadata** - additional information about each document that can be used for filtering and organizing your data.\n",
    "\n",
    "Metadata is extremely useful for:\n",
    "- **Filtering searches** by category, date, author, difficulty level, etc.\n",
    "- **Organizing documents** by type or topic\n",
    "- **Tracking source information** without embedding it\n",
    "\n",
    "Let's delete our current collection and recreate it with metadata included."
   ]
  },
  {
   "cell_type": "code",
   "execution_count": 13,
   "metadata": {
    "id": "POojYuOvE9UD"
   },
   "outputs": [],
   "source": [
    "# Delete the old collection\n",
    "client.delete_collection(\"my_documents_locally\")\n",
    "\n",
    "# Recreate it\n",
    "collection = client.get_or_create_collection(\"my_documents_locally\",\n",
    "                                             metadata={\"hnsw:space\": \"cosine\"})"
   ]
  },
  {
   "cell_type": "markdown",
   "metadata": {
    "id": "IiKUhelaE9UD"
   },
   "source": [
    "Now let's add documents **with metadata**. Notice how we extract the metadata dictionary from each document:"
   ]
  },
  {
   "cell_type": "code",
   "execution_count": 14,
   "metadata": {
    "id": "l4qMn5b1E9UD"
   },
   "outputs": [],
   "source": [
    "# Adding documents WITH metadata\n",
    "ids = [doc[\"id\"] for doc in documents]\n",
    "texts = [doc[\"text\"] for doc in documents]\n",
    "metadatas = [doc[\"metadata\"] for doc in documents]\n",
    "\n",
    "collection.add(\n",
    "    ids = ids,\n",
    "    documents = texts,\n",
    "    metadatas = metadatas\n",
    ")"
   ]
  },
  {
   "cell_type": "markdown",
   "metadata": {
    "id": "NF1xzdFQE9UD"
   },
   "source": [
    "Let's retrieve a document and see its metadata:"
   ]
  },
  {
   "cell_type": "code",
   "execution_count": 15,
   "metadata": {
    "colab": {
     "base_uri": "https://localhost:8080/"
    },
    "id": "v-zgfs_nE9UD",
    "outputId": "90a4ea6b-a1f3-4544-89c8-6ab5d0608435"
   },
   "outputs": [
    {
     "output_type": "stream",
     "name": "stdout",
     "text": [
      "Document ID: document_2\n",
      "\n",
      "Metadata:\n",
      "  author: Security Team\n",
      "  category: cyberwarfare\n",
      "  difficulty: intermediate\n",
      "  year: 2010\n",
      "\n",
      "Document preview: Stuxnet stands as a watershed moment in the history of digital warfare, a malicious computer worm that transcended the digital realm to cause tangible ...\n"
     ]
    }
   ],
   "source": [
    "# Get document with metadata\n",
    "result = collection.get(ids=[\"document_2\"], include=[\"documents\", \"metadatas\"])\n",
    "\n",
    "print(\"Document ID:\", result[\"ids\"][0])\n",
    "print(\"\\nMetadata:\")\n",
    "for key, value in result[\"metadatas\"][0].items():\n",
    "    print(f\"  {key}: {value}\")\n",
    "print(\"\\nDocument preview:\", result[\"documents\"][0][:150], \"...\")"
   ]
  },
  {
   "cell_type": "markdown",
   "metadata": {
    "id": "nlOTTtOcE9UE"
   },
   "source": [
    "## 1.5 Filtering with Where Clauses\n",
    "\n",
    "Now that we have metadata, we can use it to **filter our searches**. This is incredibly powerful - you can retrieve only documents that match specific criteria.\n",
    "\n",
    "Let's say we only want documents from the \"cryptography\" category:"
   ]
  },
  {
   "cell_type": "code",
   "execution_count": 16,
   "metadata": {
    "colab": {
     "base_uri": "https://localhost:8080/"
    },
    "id": "vCvMDkfPE9UE",
    "outputId": "7463e843-210b-4849-b2c4-9ead3dc52c29"
   },
   "outputs": [
    {
     "output_type": "stream",
     "name": "stdout",
     "text": [
      "Found 1 cryptography document(s):\n",
      "  - document_1: cryptography (1976)\n"
     ]
    }
   ],
   "source": [
    "# Get only cryptography documents\n",
    "crypto_docs = collection.get(\n",
    "    where={\"category\": \"cryptography\"},\n",
    "    include=[\"documents\", \"metadatas\"]\n",
    ")\n",
    "\n",
    "print(f\"Found {len(crypto_docs['ids'])} cryptography document(s):\")\n",
    "for doc_id, metadata in zip(crypto_docs[\"ids\"], crypto_docs[\"metadatas\"]):\n",
    "    print(f\"  - {doc_id}: {metadata['category']} ({metadata['year']})\")"
   ]
  },
  {
   "cell_type": "markdown",
   "metadata": {
    "id": "BVN0XTS_E9UE"
   },
   "source": [
    "We can also filter by multiple criteria. Let's find all beginner-level documents:"
   ]
  },
  {
   "cell_type": "code",
   "execution_count": 17,
   "metadata": {
    "colab": {
     "base_uri": "https://localhost:8080/"
    },
    "id": "5OlQh5n0E9UE",
    "outputId": "d2ec30f4-69f1-4bad-a636-d3222bbd7666"
   },
   "outputs": [
    {
     "output_type": "stream",
     "name": "stdout",
     "text": [
      "Found 3 beginner-level document(s):\n",
      "  - document_4: social-engineering (difficulty: beginner)\n",
      "  - document_5: authentication (difficulty: beginner)\n",
      "  - document_6: network-security (difficulty: beginner)\n"
     ]
    }
   ],
   "source": [
    "# Get beginner documents\n",
    "beginner_docs = collection.get(\n",
    "    where={\"difficulty\": \"beginner\"},\n",
    "    include=[\"metadatas\"]\n",
    ")\n",
    "\n",
    "print(f\"Found {len(beginner_docs['ids'])} beginner-level document(s):\")\n",
    "for doc_id, metadata in zip(beginner_docs[\"ids\"], beginner_docs[\"metadatas\"]):\n",
    "    print(f\"  - {doc_id}: {metadata['category']} (difficulty: {metadata['difficulty']})\")"
   ]
  },
  {
   "cell_type": "markdown",
   "metadata": {
    "id": "lQbjEE_cE9UE"
   },
   "source": [
    "You can also use operators like `$gt` (greater than), `$lt` (less than), `$gte`, `$lte`, `$ne` (not equal), and `$in` (in list):"
   ]
  },
  {
   "cell_type": "code",
   "execution_count": 18,
   "metadata": {
    "colab": {
     "base_uri": "https://localhost:8080/"
    },
    "id": "dXvFixWNE9UE",
    "outputId": "cb5a7035-3c9c-4548-f88f-798433c96c18"
   },
   "outputs": [
    {
     "output_type": "stream",
     "name": "stdout",
     "text": [
      "Found 4 document(s) from 2010 or later:\n",
      "  - document_2: cyberwarfare (2010)\n",
      "  - document_3: architecture (2010)\n",
      "  - document_5: authentication (2020)\n",
      "  - document_6: network-security (2015)\n"
     ]
    }
   ],
   "source": [
    "# Get documents from year 2010 or later\n",
    "recent_docs = collection.get(\n",
    "    where={\"year\": {\"$gte\": 2010}},\n",
    "    include=[\"metadatas\"]\n",
    ")\n",
    "\n",
    "print(f\"Found {len(recent_docs['ids'])} document(s) from 2010 or later:\")\n",
    "for doc_id, metadata in zip(recent_docs[\"ids\"], recent_docs[\"metadatas\"]):\n",
    "    print(f\"  - {doc_id}: {metadata['category']} ({metadata['year']})\")"
   ]
  },
  {
   "cell_type": "markdown",
   "metadata": {
    "id": "HtaVF-WLE9UE"
   },
   "source": [
    "## 1.6 Updating and Deleting Documents\n",
    "\n",
    "Sometimes you need to modify existing documents or remove them entirely. ChromaDB provides methods for both operations."
   ]
  },
  {
   "cell_type": "markdown",
   "metadata": {
    "id": "nZjOXetYE9UE"
   },
   "source": [
    "### Updating Documents with `upsert()`\n",
    "\n",
    "The `upsert()` function is smart:\n",
    "- If a document with the given ID **already exists**, it **updates** it\n",
    "- If it **doesn't exist**, it **creates** it\n",
    "\n",
    "Let's update document_5's metadata to mark it as reviewed:"
   ]
  },
  {
   "cell_type": "code",
   "execution_count": 19,
   "metadata": {
    "colab": {
     "base_uri": "https://localhost:8080/"
    },
    "id": "mjm9x6a9E9UE",
    "outputId": "0c4b2ca7-5025-455d-cdaf-2ec244cf6b65"
   },
   "outputs": [
    {
     "output_type": "stream",
     "name": "stdout",
     "text": [
      "Updated metadata for document_5:\n",
      "{'author': 'Security Team', 'category': 'authentication', 'difficulty': 'beginner', 'reviewed': True, 'year': 2020}\n"
     ]
    }
   ],
   "source": [
    "# Update metadata for document_5\n",
    "# First, get the existing document text\n",
    "existing = collection.get(ids=[\"document_5\"], include=[\"documents\"])\n",
    "\n",
    "# Now upsert with both the document and updated metadata\n",
    "collection.upsert(\n",
    "    ids=[\"document_5\"],\n",
    "    documents=existing[\"documents\"],  # Include the document text\n",
    "    metadatas=[{\"category\": \"authentication\", \"year\": 2020, \"difficulty\": \"beginner\", \"author\": \"Security Team\", \"reviewed\": True}]\n",
    ")\n",
    "\n",
    "# Verify the update\n",
    "result = collection.get(ids=[\"document_5\"], include=[\"metadatas\"])\n",
    "print(\"Updated metadata for document_5:\")\n",
    "print(result[\"metadatas\"][0])"
   ]
  },
  {
   "cell_type": "markdown",
   "metadata": {
    "id": "qRN6P4HgE9UE"
   },
   "source": [
    "You can also use `upsert()` to add a completely new document:"
   ]
  },
  {
   "cell_type": "code",
   "execution_count": 20,
   "metadata": {
    "colab": {
     "base_uri": "https://localhost:8080/"
    },
    "id": "lg4jCwXeE9UE",
    "outputId": "eedb35a4-6679-4ec0-9290-c8e25b5cf022"
   },
   "outputs": [
    {
     "output_type": "stream",
     "name": "stdout",
     "text": [
      "\n",
      "Total documents after upsert: 7\n"
     ]
    }
   ],
   "source": [
    "# Add a new document using upsert\n",
    "collection.upsert(\n",
    "    ids=[\"document_7\"],\n",
    "    documents=[\"\"\"Firewalls are network security devices that monitor and control incoming and outgoing network traffic based on predetermined security rules. A firewall establishes a barrier between trusted internal networks and untrusted external networks, such as the Internet.\"\"\"],\n",
    "    metadatas=[{\"category\": \"network-security\", \"year\": 2000, \"difficulty\": \"beginner\", \"author\": \"Network Team\"}]\n",
    ")\n",
    "\n",
    "print(\"\\nTotal documents after upsert:\", collection.count())"
   ]
  },
  {
   "cell_type": "markdown",
   "metadata": {
    "id": "In5yQsBSE9UE"
   },
   "source": [
    "### Deleting Documents\n",
    "\n",
    "To remove specific documents, use the `delete()` method with document IDs:"
   ]
  },
  {
   "cell_type": "code",
   "execution_count": 21,
   "metadata": {
    "colab": {
     "base_uri": "https://localhost:8080/"
    },
    "id": "p-ZHluWME9UE",
    "outputId": "c0a45074-ed0a-4f31-8b57-1ce54a8890c3"
   },
   "outputs": [
    {
     "output_type": "stream",
     "name": "stdout",
     "text": [
      "Documents after deletion: 6\n",
      "Document document_7 has been successfully deleted\n"
     ]
    }
   ],
   "source": [
    "# Delete document_7\n",
    "collection.delete(ids=[\"document_7\"])\n",
    "\n",
    "print(\"Documents after deletion:\", collection.count())\n",
    "\n",
    "# Try to get the deleted document\n",
    "try:\n",
    "    result = collection.get(ids=[\"document_7\"])\n",
    "    if not result[\"ids\"]:\n",
    "        print(\"Document document_7 has been successfully deleted\")\n",
    "except Exception as e:\n",
    "    print(f\"Document not found: {e}\")"
   ]
  },
  {
   "cell_type": "markdown",
   "metadata": {
    "id": "3tSuyXs_E9UE"
   },
   "source": [
    "You can also delete documents based on metadata filters:"
   ]
  },
  {
   "cell_type": "code",
   "execution_count": 22,
   "metadata": {
    "colab": {
     "base_uri": "https://localhost:8080/"
    },
    "id": "C3LESXXtE9UE",
    "outputId": "104e7f1c-03e2-4110-ccc6-9c3ed108098b"
   },
   "outputs": [
    {
     "output_type": "stream",
     "name": "stdout",
     "text": [
      "\n",
      "Note: The delete with where clause is commented out to preserve our data.\n",
      "Syntax: collection.delete(where={'year': {'$lt': 2000}})\n"
     ]
    }
   ],
   "source": [
    "# Example: Delete all documents from before year 2000 (we don't have any, but this shows the syntax)\n",
    "# collection.delete(where={\"year\": {\"$lt\": 2000}})\n",
    "\n",
    "print(\"\\nNote: The delete with where clause is commented out to preserve our data.\")\n",
    "print(\"Syntax: collection.delete(where={'year': {'$lt': 2000}})\")"
   ]
  },
  {
   "cell_type": "markdown",
   "metadata": {
    "id": "-5SNzOItE9UF"
   },
   "source": [
    "## 1.7 Collection Introspection\n",
    "\n",
    "ChromaDB provides several methods to inspect what's in your collection without retrieving all the data."
   ]
  },
  {
   "cell_type": "code",
   "execution_count": 23,
   "metadata": {
    "colab": {
     "base_uri": "https://localhost:8080/"
    },
    "id": "Y6A8hQ4YE9UF",
    "outputId": "44670f41-4991-4732-cbaf-a22ba6927c7b"
   },
   "outputs": [
    {
     "output_type": "stream",
     "name": "stdout",
     "text": [
      "Peeking at first 2 documents:\n",
      "\n",
      "  ID: document_1\n",
      "  Category: cryptography\n",
      "  Year: 1976\n",
      "  Difficulty: advanced\n",
      "\n",
      "  ID: document_2\n",
      "  Category: cyberwarfare\n",
      "  Year: 2010\n",
      "  Difficulty: intermediate\n"
     ]
    }
   ],
   "source": [
    "# Peek at the first few items\n",
    "preview = collection.peek(limit=2)\n",
    "\n",
    "print(\"Peeking at first 2 documents:\")\n",
    "for doc_id, metadata in zip(preview[\"ids\"], preview[\"metadatas\"]):\n",
    "    print(f\"\\n  ID: {doc_id}\")\n",
    "    print(f\"  Category: {metadata['category']}\")\n",
    "    print(f\"  Year: {metadata['year']}\")\n",
    "    print(f\"  Difficulty: {metadata['difficulty']}\")"
   ]
  },
  {
   "cell_type": "code",
   "execution_count": 24,
   "metadata": {
    "colab": {
     "base_uri": "https://localhost:8080/"
    },
    "id": "l7xb8TyME9UF",
    "outputId": "d8a2a016-d8b5-475a-f5b0-56cd541c534e"
   },
   "outputs": [
    {
     "output_type": "stream",
     "name": "stdout",
     "text": [
      "\n",
      "Total documents in collection: 6\n"
     ]
    }
   ],
   "source": [
    "# Get total count\n",
    "total = collection.count()\n",
    "print(f\"\\nTotal documents in collection: {total}\")"
   ]
  },
  {
   "cell_type": "markdown",
   "metadata": {
    "id": "eB78AJNNE9UF"
   },
   "source": [
    "You can also get all documents (be careful with large collections!):"
   ]
  },
  {
   "cell_type": "code",
   "execution_count": 25,
   "metadata": {
    "colab": {
     "base_uri": "https://localhost:8080/"
    },
    "id": "pLiRh9f4E9UF",
    "outputId": "d888bdb1-4dfd-410e-9c9a-862afe0367e7"
   },
   "outputs": [
    {
     "output_type": "stream",
     "name": "stdout",
     "text": [
      "\n",
      "All document IDs: ['document_1', 'document_2', 'document_3', 'document_4', 'document_5', 'document_6']\n",
      "\n",
      "Categories present:\n",
      "  - architecture\n",
      "  - authentication\n",
      "  - cryptography\n",
      "  - cyberwarfare\n",
      "  - network-security\n",
      "  - social-engineering\n"
     ]
    }
   ],
   "source": [
    "# Get all documents (IDs and metadata only)\n",
    "all_docs = collection.get(include=[\"metadatas\"])\n",
    "\n",
    "print(f\"\\nAll document IDs: {all_docs['ids']}\")\n",
    "print(f\"\\nCategories present:\")\n",
    "categories = set(meta['category'] for meta in all_docs['metadatas'])\n",
    "for cat in sorted(categories):\n",
    "    print(f\"  - {cat}\")"
   ]
  },
  {
   "cell_type": "markdown",
   "metadata": {
    "id": "65LSkJHDZr48"
   },
   "source": [
    "> NOTE: Chroma also provides `upsert()` function which works like `add()`, but with one difference: If an ID already exists in the collection, the record is updated (text, metadata, embedding). If it doesn\u2019t exist, the record is created."
   ]
  },
  {
   "cell_type": "markdown",
   "metadata": {
    "id": "SF-tOwnanBE8"
   },
   "source": [
    "You can inspect the created collection:"
   ]
  },
  {
   "cell_type": "code",
   "execution_count": 26,
   "metadata": {
    "id": "jE0qFHAYrlNg",
    "outputId": "c607355e-a2ae-4c9e-fb64-d51e6c6e87be",
    "colab": {
     "base_uri": "https://localhost:8080/"
    }
   },
   "outputs": [
    {
     "output_type": "execute_result",
     "data": {
      "text/plain": [
       "6"
      ]
     },
     "metadata": {},
     "execution_count": 26
    }
   ],
   "source": [
    "# Number of items\n",
    "collection.count()"
   ]
  },
  {
   "cell_type": "markdown",
   "metadata": {
    "id": "rUUuQuJmdxiw"
   },
   "source": [
    "Let's return both the original text and the generated embedding for ID \"document_3\":"
   ]
  },
  {
   "cell_type": "markdown",
   "metadata": {
    "id": "nUz_I-QnE9UF"
   },
   "source": [
    "### \ud83d\udcdd EXERCISE 2: Explore Your Collection\n",
    "\n",
    "\n",
    "**Your task:**\n",
    "1. Retrieve the document with ID `\"document_2\"` (the Stuxnet article) from the collection\n",
    "2. Print the first 200 characters of the document text to see what it's about\n",
    "3. Print the embedding vector length\n",
    "4. Compare: Is the embedding size the same as for `document_3`? Why or why not?\n",
    "\n"
   ]
  },
  {
   "cell_type": "code",
   "execution_count": 27,
   "metadata": {
    "id": "QS5Ta2F2E9UF"
   },
   "outputs": [],
   "source": [
    "# YOUR CODE HERE\n"
   ]
  },
  {
   "cell_type": "markdown",
   "metadata": {
    "id": "MrHjelK_rlNg"
   },
   "source": [
    "So, the embeddings are stored permanently on disk in our Chroma database. Whenever we want to use them again (after restarting/closing kernel), we don\u2019t need to re-embed the texts. We just point a new client at the same folder and re-open the collection using `get_collection()`."
   ]
  },
  {
   "cell_type": "code",
   "execution_count": 28,
   "metadata": {
    "id": "sOPbC6x3rlNg"
   },
   "outputs": [],
   "source": [
    "#client = chromadb.PersistentClient(path=\"./db/chroma_persist\")\n",
    "#collection = client.get_collection(\"my_documents_locally\")"
   ]
  },
  {
   "cell_type": "markdown",
   "metadata": {
    "id": "3_LFsFaz3DPS"
   },
   "source": [
    "# 2. Creating Embeddings using OpenAI API\n",
    "\n",
    "Now we\u2019ll switch to provider **OpenAI**. The concept is exactly the same: text gets transformed into numerical vectors, but this time **the computation happens on OpenAI\u2019s servers** instead of locally.\n",
    "\n",
    "**Authentication using OpenAI API key**:\n",
    "\n",
    "To access OpenAI\u2019s API, you\u2019ll need an API key. The most convenient way is to store it as an environment variable so it loads automatically whenever your terminal starts. Open the terminal and type `nano ~/.zshrc`. At the end of the file, add: `export CHROMA_OPENAI_API_KEY=\"your_api_key\"`. Save and exit. Then reload your shell config (so the change applies immediately) using `source ~/.zshrc`.\n",
    "\n",
    "We'll use `text-embedding-3-small` model to create the embeddings. For our tiny demo texts, the number of tokens is so small that the cost of creating embeddings with OpenAI is practically negligible.\n",
    "\n",
    "Let's instantiate it using `OpenAIEmbeddingFunction()`:"
   ]
  },
  {
   "cell_type": "code",
   "execution_count": 29,
   "metadata": {
    "colab": {
     "base_uri": "https://localhost:8080/"
    },
    "id": "62",
    "outputId": "dbd32247-2720-4fd0-ac87-602e50dfebe4"
   },
   "outputs": [
    {
     "output_type": "stream",
     "name": "stdout",
     "text": [
      "\u2705 API key loaded from Colab secrets\n",
      "\u2705 Authentication configured!\n"
     ]
    }
   ],
   "source": [
    "import os\n",
    "\n",
    "# Configure OpenAI API key\n",
    "try:\n",
    "    from google.colab import userdata\n",
    "    OPENAI_API_KEY = userdata.get('OPENAI_API_KEY')\n",
    "    print(\"\u2705 API key loaded from Colab secrets\")\n",
    "except:\n",
    "    from getpass import getpass\n",
    "    print(\"\ud83d\udca1 To use Colab secrets: Go to \ud83d\udd11 (left sidebar) \u2192 Add new secret \u2192 Name: OPENAI_API_KEY\")\n",
    "    OPENAI_API_KEY = getpass(\"Enter your OpenAI API Key: \")\n",
    "\n",
    "os.environ[\"OPENAI_API_KEY\"] = OPENAI_API_KEY\n",
    "print(\"\u2705 Authentication configured!\")"
   ]
  },
  {
   "cell_type": "code",
   "execution_count": 30,
   "metadata": {
    "id": "1tl_1X5X4rA2"
   },
   "outputs": [],
   "source": [
    "# Instantiating OpenAI embedding function\n",
    "openai_embedding_function = embedding_functions.OpenAIEmbeddingFunction(\n",
    "    model_name=\"text-embedding-3-small\",\n",
    "    api_key=OPENAI_API_KEY\n",
    ")"
   ]
  },
  {
   "cell_type": "markdown",
   "metadata": {
    "id": "s-ayDHoS4q80"
   },
   "source": [
    "Now we need to create a new collection (in the same persistent database). Notice that we specify \"openai_embedding_function\" using`embedding_function` parameter. This ensures that whenever we add documents to this collection, they\u2019ll be embedded with OpenAI instead of the Chroma's default model."
   ]
  },
  {
   "cell_type": "code",
   "execution_count": 31,
   "metadata": {
    "id": "5SR3J-pRWfIJ"
   },
   "outputs": [],
   "source": [
    "# Creating a new collection\n",
    "openai_collection = client.get_or_create_collection(\n",
    "    \"my_documents_openai\",\n",
    "    embedding_function = openai_embedding_function,\n",
    "    metadata={\"hnsw:space\": \"cosine\"}\n",
    ")"
   ]
  },
  {
   "cell_type": "markdown",
   "metadata": {
    "id": "lIpkgvm7XPwx"
   },
   "source": [
    "Next we'll add the documents into this collection:"
   ]
  },
  {
   "cell_type": "code",
   "execution_count": 32,
   "metadata": {
    "id": "WDFD_PVHXM_l"
   },
   "outputs": [],
   "source": [
    "# Adding documents\n",
    "ids = [d[\"id\"] for d in documents]\n",
    "texts = [d[\"text\"] for d in documents]\n",
    "\n",
    "openai_collection.add(ids = ids, documents = texts)"
   ]
  },
  {
   "cell_type": "markdown",
   "metadata": {
    "id": "5lvSxEb-rlNh"
   },
   "source": [
    "For the model we chose, each embedding is **1536-dimensional vector**. Because this is such a large array, Jupyter Notebook automatically truncates the result."
   ]
  },
  {
   "cell_type": "code",
   "execution_count": 34,
   "metadata": {
    "id": "bN_cNHSjrlNh",
    "colab": {
     "base_uri": "https://localhost:8080/"
    },
    "outputId": "e839962c-e7b5-4927-bb1e-2459bcda13d7"
   },
   "outputs": [
    {
     "output_type": "stream",
     "name": "stdout",
     "text": [
      "Original document:\n",
      " Public-key cryptography, also known as asymmetric cryptography, represents a monumental paradigm shift from its predecessor, symmetric cryptography. The fundamental challenge it solves is that of key distribution, which was the Achilles' heel of symmetric systems requiring a shared secret key to be exchanged over a secure channel beforehand. Introduced conceptually by Whitfield Diffie and Martin Hellman in their seminal 1976 paper \"New Directions in Cryptography,\" this system utilizes pairs of mathematically linked keys: a public key and a private key. The public key can be shared openly without compromising security, while the private key must be kept secret by its owner. This ingenious design allows for two primary functions: encryption and digital signatures. For encryption, a sender uses the recipient's public key to encrypt a message, which can then only be decrypted by the recipient using their corresponding private key. This ensures confidentiality even when communicating over a hostile, monitored network like the internet. For digital signatures, a sender uses their own private key to sign a message, and anyone with their public key can verify the signature's authenticity, ensuring both integrity and non-repudiation. The security of these systems relies on the computational difficulty of 'one-way functions' with a 'trapdoor,' where it is easy to compute in one direction but infeasible to reverse without the secret information of the private key. The first practical and widely used implementation was the RSA algorithm, developed in 1977 by Ron Rivest, Adi Shamir, and Leonard Adleman, which bases its security on the difficulty of factoring large prime numbers. Over time, other algorithms like Elliptic Curve Cryptography (ECC) have gained prominence, offering equivalent security with much smaller key sizes, making them ideal for resource-constrained devices like smartphones. The practical application of public-key cryptography is managed through a Public Key Infrastructure (PKI). A PKI is a framework of policies and procedures that uses a trusted third party, known as a Certificate Authority (CA), to issue digital certificates that bind public keys to specific identities. This is the trust model that underpins the entire secure web, enabling protocols like Transport Layer Security (TLS), which secures HTTPS traffic. Its influence extends to securing email with PGP, remote shell access with SSH, and forming the transactional backbone of virtually all cryptocurrencies, including Bitcoin. However, the rise of quantum computing poses a significant future threat to current public-key algorithms, as they can theoretically solve the underlying mathematical problems efficiently. This has spurred the development of a new field called post-quantum cryptography (PQC), which aims to create a new generation of secure algorithms resistant to attacks from both classical and quantum computers.\n",
      "\n",
      " Embedding length: \n",
      " 1536\n",
      "\n",
      " Embedding vector: \n",
      " [0.015244344249367714, -0.034878864884376526, 0.043416667729616165, 0.047176212072372437, 0.045478351414203644, 0.004529643803834915, -0.026341062039136887, 0.04938342794775963, -0.008131529204547405, 0.02019238844513893, 0.032332077622413635, -0.036382682621479034, -0.030173370614647865, -0.024182356894016266, 0.028354236856102943, -0.01794878952205181, -0.025128304958343506, 0.00601830193772912, 0.017051350325345993, -0.007761639077216387, 0.018276233226060867, 0.01438328716903925, 0.0185551680624485, 0.04579366743564606, -0.010829911567270756, -0.0342482328414917, -0.03982691094279289, -0.010563105344772339, 0.033666107803583145, -0.03148314729332924, -0.007682809606194496, -0.016202421858906746, -0.01811857521533966, 0.0023103002458810806, -0.00034525649971328676, 0.01962239295244217, -0.01462583802640438, -0.004784322809427977, 0.04821918159723282, 0.035558007657527924, 0.012564152479171753, -0.06388799101114273, -0.018409637734293938, 0.03839585557579994, -0.029300186783075333, 0.024437034502625465, -0.0034806099720299244, -0.026971695944666862, -0.004368953872472048, 0.02816019579768181, 0.006075907964259386, 0.0349273756146431, 0.012060859240591526, 0.05287616327404976, -0.057533148676157, -0.002366390312090516, -0.01574157364666462, 0.00356853473931551, -0.04154902324080467, 0.03298696503043175, 0.05321573466062546, -0.027165735140442848, -0.024703841656446457, 0.009410986676812172, -0.018094319850206375, 0.024097463116049767, -0.038201816380023956, 0.020738128572702408, 0.018409637734293938, 0.02854827791452408, -0.005184532143175602, 0.01579008437693119, -7.958711648825556e-06, 0.010550977662205696, -0.01011438574641943, 0.020823022350668907, -0.03191974014043808, 0.049407683312892914, 0.06252970546483994, 0.027020204812288284, 0.041815828531980515, -0.016954330727458, 0.01901601441204548, 0.004462942481040955, -0.016541993245482445, 0.00893194880336523, -0.05966759845614433, -0.003298696596175432, -0.06767179071903229, -0.04329539090394974, 0.011787989176809788, -0.01665114052593708, -0.02692318521440029, -0.004881343338638544, 0.017099861055612564, 0.025686172768473625, -0.0172090083360672, 0.04836471378803253, 0.004963204264640808, -0.003623108845204115, -0.036892037838697433, -0.01816708594560623, -0.026195531710982323, -0.02670488879084587, 0.03977840021252632, 0.0003859975258819759, -0.008319506421685219, 0.02130812406539917, -0.01742730475962162, 0.00791929755359888, -0.06903007626533508, -0.011005761101841927, -0.02903337962925434, 0.007749511394649744, -0.024449162185192108, -0.03485460951924324, -0.02609851025044918, -0.04006946086883545, 0.027238501235842705, 0.01565668173134327, -0.010059811174869537, -0.028912104666233063, 0.03058570809662342, 0.0021511260420084, 0.025201071053743362, -0.0250555407255888, -0.04450814798474312, -0.0492621511220932, 0.01266117300838232, -0.010829911567270756, 0.024061080068349838, 0.009562581777572632, 0.03502439707517624, 0.02592872455716133, -0.01449243538081646, 0.006445798557251692, 0.027456797659397125, -0.022981727495789528, -0.014565200544893742, -0.02660786733031273, 0.02264215610921383, -0.03834734857082367, -0.016529865562915802, -0.004108211025595665, -0.046642597764730453, 0.016493482515215874, -0.02351533994078636, 0.010993633419275284, -0.01388605684041977, -0.003144070040434599, -0.03274441510438919, -0.03514567017555237, 0.02053195983171463, 0.055835288017988205, -0.00039831455796957016, -0.0022526944521814585, 0.029300186783075333, 0.07392960786819458, 0.028087429702281952, -0.00966566614806652, -0.045357078313827515, 0.0462302602827549, -0.07198920100927353, 0.016384335234761238, 0.023066621273756027, -0.01061161607503891, 0.0023876135237514973, -0.04290730878710747, -0.023187896236777306, -0.004093051888048649, -0.017584962770342827, -0.04232518747448921, -0.017718365415930748, 0.023830655962228775, -0.0036958742421120405, -0.007579725235700607, 0.010769274085760117, -0.05763017013669014, -0.01815495826303959, -0.05835782364010811, -0.031240595504641533, 0.0011862270766869187, 0.006512499880045652, -0.0009512555552646518, 0.01842176541686058, 0.009423114359378815, 0.02532234601676464, 0.01479562371969223, -0.007088559214025736, 0.028135940432548523, -0.028912104666233063, 0.04615749791264534, -0.012600535526871681, 0.020240899175405502, 0.03723161295056343, -0.0051329899579286575, 0.03939031809568405, -0.005760591477155685, -0.014977537095546722, -0.01326755154877901, -0.00455086724832654, -0.023478956893086433, -0.017621345818042755, -0.006203247234225273, 0.0015856785466894507, -0.037328630685806274, 0.016978584229946136, -0.03558226302266121, -0.06582839787006378, -0.024703841656446457, -0.04050605371594429, 0.0016341888112947345, 0.011381715536117554, 0.0011740995105355978, -0.010078002698719501, 0.00983545184135437, -0.02018026076257229, 0.002608941402286291, -0.012758193537592888, 0.029906565323472023, -0.005387668963521719, 0.00821642205119133, 0.014177118428051472, 0.013449464924633503, -0.008598440326750278, 0.0067611150443553925, 0.011151292361319065, 0.031216342002153397, 0.022363221272826195, -0.021065572276711464, 0.02056834287941456, 0.017014967277646065, -0.007027921266853809, -0.012127560563385487, -0.010550977662205696, 0.008859182707965374, -0.00048131257062777877, -0.006797497626394033, -0.03696480393409729, -0.03546098619699478, 0.013510102406144142, 0.002575590740889311, -0.040651582181453705, -0.00773131987079978, -0.05127532780170441, 0.014783496968448162, -0.00738568464294076, -0.003574598580598831, -0.014092225581407547, -0.04938342794775963, -0.0029742843471467495, -0.006900581996887922, 0.014965410344302654, 0.014262011274695396, -0.003350238548591733, -0.0037625757977366447, 0.021817481145262718, -0.006979411002248526, 0.021295996382832527, 0.02243598736822605, -0.04649706929922104, -0.08649376034736633, 0.009520134888589382, -0.02104131691157818, -0.01747581548988819, 0.02152642048895359, -0.041257962584495544, -0.017002839595079422, -0.02036217413842678, -0.022229818627238274, 0.06165651977062225, 0.07582151144742966, 0.0453813336789608, -0.02993082068860531, -0.0006992296548560262, 0.013594995252788067, -0.019125163555145264, -0.001117251580581069, -0.03252611681818962, 0.041694555431604385, 0.014868389815092087, 0.035558007657527924, 0.04647281393408775, -0.01825197972357273, 0.017876025289297104, 0.042591992765665054, -0.03839585557579994, 0.0029197102412581444, -0.030464433133602142, -0.03434525057673454, 0.07960531115531921, 0.016845181584358215, -0.03502439707517624, 0.017136244103312492, -0.006706540938466787, -0.027723602950572968, 0.009459497407078743, 0.007840467616915703, -0.051129795610904694, -0.02466745860874653, -0.007828340865671635, 0.024267248809337616, -0.02583170495927334, -0.003322951728478074, -0.03972988948225975, 0.02355172298848629, 0.025637663900852203, 0.03546098619699478, 0.01004768442362547, -0.014807751402258873, -0.03330228105187416, 0.005233042407780886, 0.008653014898300171, 0.023879166692495346, -0.06403352320194244, -0.011205866001546383, -0.006658030673861504, -0.03393291309475899, -0.023964060470461845, -0.07174664735794067, -0.009774814359843731, -0.07228026539087296, -0.02515256032347679, -0.00486315181478858, 0.015110940672457218, 0.030246136710047722, -0.0284270029515028, -0.0012552025727927685, 0.03834734857082367, -0.0037231610622256994, 0.01438328716903925, -0.028354236856102943, 0.0460604764521122, -0.0071188779547810555, -0.05059618502855301, -0.018276233226060867, 0.07072793692350388, 0.013837547041475773, -0.005836388561874628, -0.027117226272821426, -0.002242082729935646, 0.011181610636413097, 0.045963454991579056, 0.007318982854485512, 0.004193104337900877, 0.021926630288362503, -0.007895042188465595, -0.008798545226454735, 0.07994487881660461, 0.027553817257285118, -0.04593919962644577, 0.015450512059032917, -0.017002839595079422, 0.030052095651626587, 0.021295996382832527, -0.008677269332110882, 0.011339269578456879, -0.02653510309755802, 0.015062430873513222, -0.004620600491762161, 0.01682092621922493, -0.012442877516150475, -0.04533282294869423, 0.04288305342197418, 0.04749152809381485, -0.024437034502625465, -0.07116452604532242, -0.04766131192445755, -0.03701331466436386, -0.03296270966529846, -0.05874590575695038, 0.011848626658320427, 0.020689617842435837, -0.020823022350668907, 0.004014222417026758, 0.010065875016152859, -0.021417271345853806, 0.03463631495833397, 0.06083184480667114, 0.03359334170818329, 0.05205149203538895, 0.026341062039136887, 0.0006355599616654217, 0.005075383931398392, 0.01326755154877901, 0.06354841589927673, 0.003635236294940114, -0.05850335210561752, -0.05146936699748039, 0.021635567769408226, 0.029227420687675476, -0.014880516566336155, -0.02544362284243107, 0.025855960324406624, -0.048340458422899246, 0.005257297772914171, -0.04647281393408775, -0.005957663990557194, 0.03788650035858154, -0.0014848682330921292, -0.032380588352680206, -0.003650395665317774, 0.0501110814511776, 0.01033268216997385, 0.004911662079393864, 0.004493261221796274, 0.007610044442117214, 0.01793666183948517, 0.036600977182388306, 0.03313249722123146, 0.012891597114503384, 0.04494474083185196, 0.03548524156212807, -0.04193710535764694, 0.04598771035671234, -0.01911303587257862, 0.02488575503230095, -0.006785370409488678, 0.04693365842103958, 0.0035230563953518867, 0.02592872455716133, -0.0023648743517696857, -0.08712439984083176, -0.011921391822397709, 0.040312010794878006, 0.06233566254377365, -0.03216229006648064, -0.018712826073169708, -0.0055665504187345505, -0.07897467166185379, 0.06155949831008911, 0.02493426389992237, -0.021150466054677963, 0.008719716221094131, 0.01214575208723545, 0.053894881159067154, -0.01631156913936138, 0.01608114503324032, -0.07999338954687119, -0.007876850664615631, -0.03325377032160759, -0.004914694000035524, -0.019185801967978477, 0.02019238844513893, -0.02532234601676464, -0.001545506063848734, -0.029009126126766205, -0.05379785969853401, -0.022241946309804916, -0.024534055963158607, 0.04378049448132515, -0.0016235772054642439, 0.037425652146339417, -0.015026047825813293, -0.013692015781998634, 0.0024346078280359507, 0.05559273809194565, -0.024315759539604187, -0.0013817839790135622, 0.026171276345849037, -0.017742620781064034, -0.0062820762395858765, -0.011151292361319065, 0.03286568820476532, 0.024449162185192108, -0.015377746894955635, -0.012000221759080887, 0.040530309081077576, -0.02304236590862274, 0.01725751906633377, -0.003992999438196421, -0.011060335673391819, -0.004090019967406988, -0.03490312024950981, -0.06136545538902283, -0.00047449080739170313, 0.05641741305589676, -0.0038686918560415506, 0.015523278154432774, 0.0610743947327137, -0.0005392974708229303, 0.004908630158752203, -0.008161848410964012, 0.02286045253276825, -0.03805628418922424, -0.018057938665151596, -0.01669965125620365, 0.030658474192023277, 0.031507402658462524, -0.00395661685615778, -0.03167719021439552, -0.03592183440923691, 0.03803202882409096, -0.010538849979639053, 0.032501861453056335, -0.03298696503043175, 0.012060859240591526, -0.01816708594560623, 0.012806704267859459, 0.02837849222123623, 0.0759185329079628, 6.921236490597948e-05, -0.02144152671098709, 0.022921089082956314, -0.0009967338992282748, 0.03529120236635208, 0.03531545773148537, 0.00045933134970255196, -0.004153689369559288, 0.015244344249367714, 0.02915465645492077, -0.06602244079113007, 0.015596043318510056, -0.010156831704080105, -0.012321601621806622, 0.00031342165311798453, 0.011460544541478157, 0.001323420088738203, 0.0026695793494582176, -0.03592183440923691, 0.004359858110547066, -0.027893390506505966, -0.018409637734293938, 0.001141506596468389, -0.022799814119935036, 0.003407844575121999, -0.050062570720911026, -0.0014644030015915632, -0.020386429503560066, -0.07509385794401169, 0.025249581784009933, -0.002997023519128561, -0.002377001801505685, -0.004902566317468882, -0.026171276345849037, -0.045017506927251816, -0.032720159739255905, -0.015329237096011639, 0.001170309609733522, -0.03684353083372116, 0.009247264824807644, -0.0229453444480896, 0.012467131949961185, 0.01825197972357273, -0.015365619212388992, 0.03376312926411629, 0.011327141895890236, -0.029324442148208618, -0.014031588099896908, 0.011666713282465935, 0.025225326418876648, -0.005803037900477648, -0.036867786198854446, -0.01169096864759922, -0.01587497629225254, 0.02424299344420433, 0.010557041503489017, 0.031070809811353683, 0.015147323720157146, 0.022484498098492622, 0.005172404460608959, 0.021211104467511177, 0.020374301820993423, 0.007664618548005819, 0.007355365436524153, 0.049116622656583786, 0.03141038119792938, 0.0043022520840168, 0.007488768547773361, 0.007513023912906647, -0.007985998876392841, -0.012503514997661114, 0.02381853014230728, -0.050790224224328995, 0.050014059990644455, 0.021623440086841583, -0.018530912697315216, 0.010411511175334454, 0.045357078313827515, 0.056611452251672745, -0.03691629320383072, 0.036382682621479034, -0.012060859240591526, 0.023321298882365227, 0.007446322124451399, 0.005084479693323374, 0.029518483206629753, 0.012539898045361042, -0.03204101696610451, 0.002020754851400852, -0.03524269163608551, 0.0007613834459334612, -0.03456354886293411, -0.0032289631199091673, -0.03757118433713913, 0.02341832034289837, 0.019440479576587677, -0.013170531019568443, -0.047127701342105865, -0.004817673470824957, -0.01035087276250124, 0.036043111234903336, -0.01971941441297531, -0.004711557179689407, -0.02243598736822605, 0.005348254460841417, 0.020071113482117653, -0.017390921711921692, 0.03958435729146004, -0.027917644008994102, -0.020992808043956757, -0.00745238596573472, 0.030488688498735428, 0.016457099467515945, -0.03386015072464943, -0.003371461993083358, 0.0006291171885095537, -0.022666411474347115, -0.03635842725634575, 0.01717262528836727, -0.024788733571767807, 0.002366390312090516, -0.0054088919423520565, -0.01919792778789997, 0.01005374826490879, -0.021114083006978035, 0.015644554048776627, -0.007155261002480984, -0.019610265269875526, 0.01565668173134327, 0.022157052531838417, 0.006118354387581348, -0.026341062039136887, -0.026389572769403458, 0.02682616375386715, 0.010211406275629997, 0.023660870268940926, 0.03264739364385605, 0.014431796967983246, -0.04339241236448288, -0.005466497968882322, 0.030731238424777985, -0.01828836090862751, -0.010132577270269394, 0.034005679190158844, -0.024558311328291893, -0.030464433133602142, 0.01880984753370285, 0.026898929849267006, -0.016833053901791573, 0.031240595504641533, 0.00647005345672369, 0.05554422736167908, -0.045138780027627945, 0.015438384376466274, -0.019125163555145264, 0.035606518387794495, 0.02515256032347679, -0.014844134449958801, 0.014225629158318043, -0.006482181139290333, -0.026850419119000435, -0.01600838080048561, 0.002370938193053007, 0.013594995252788067, -0.009174499660730362, 0.002486150013282895, 0.018470274284482002, -0.012030540034174919, 0.0058151655830442905, -0.057048045098781586, 0.03703757002949715, 0.002270885743200779, -0.003996031358838081, -0.05292467400431633, -0.0018070065416395664, -0.016930075362324715, -0.015414129942655563, -0.013122020289301872, 0.047127701342105865, -0.014371159486472607, 0.004241614136844873, -0.041767317801713943, -0.02515256032347679, -0.019258566200733185, 0.00402028625831008, 0.020119622349739075, 0.014334776438772678, 0.023442575708031654, -0.054331470280885696, 0.01984068937599659, -0.004538739565759897, -0.008968330919742584, 0.01180011685937643, -0.004493261221796274, 0.022290457040071487, 0.012600535526871681, 0.02083515003323555, -0.039317552000284195, -0.017014967277646065, -0.0008709104731678963, 0.023066621273756027, -0.055447205901145935, -0.015268598683178425, -0.0033775256015360355, 0.018446018919348717, -0.029566993936896324, 0.018142830580472946, 0.05515614524483681, -0.02164769545197487, 0.007003666367381811, -0.003222899278625846, 0.028135940432548523, -0.0006010722136124969, 0.005469529889523983, -0.013740526512265205, 2.4799914172035642e-05, 0.0005574888200499117, -0.020216643810272217, -0.0448719747364521, -0.009914280846714973, 0.017584962770342827, -0.028572533279657364, -0.008659078739583492, 0.002918194280937314, -0.00500261876732111, -0.0030318901408463717, 0.03262313827872276, -0.008101210929453373, -0.01005374826490879, -0.017803259193897247, -0.010654062032699585, 0.0333993025124073, -0.007306855171918869, 0.007640363182872534, -0.006169896572828293, -0.020689617842435837, 0.006670158356428146, -0.006379096768796444, 0.012830959632992744, -0.02786913514137268, -0.006312395446002483, 0.010647998191416264, -0.0010846586665138602, 0.03376312926411629, -0.009320029988884926, -0.02108982764184475, 0.017997300252318382, 0.0048874071799218655, 0.006182024255394936, 0.02341832034289837, 0.008798545226454735, -0.014819879084825516, 0.006955156102776527, -0.010538849979639053, 0.012115432880818844, -0.023175768554210663, 0.02709297090768814, -0.09158733487129211, -0.015123068355023861, -0.013037127442657948, 0.03182271867990494, -0.03335079178214073, 0.045138780027627945, 0.012394366785883904, -0.007822277024388313, 0.010726827196776867, 0.009695984423160553, 0.03170144185423851, 0.0072401538491249084, 0.03839585557579994, 0.020847277715802193, -0.03170144185423851, 0.05442849174141884, 0.0388081930577755, -0.011551501229405403, -0.01449243538081646, 0.03274441510438919, 0.03844436630606651, -0.0026741272304207087, -0.0027802432887256145, -0.019161546602845192, -0.04237369820475578, 0.02213279902935028, 0.0021435462404042482, -0.04312560707330704, 0.012418622151017189, -0.015207961201667786, -0.021902374923229218, -0.03381163999438286, -0.0037928945384919643, 0.005478625651448965, -0.016360079869627953, 0.029178911820054054, -0.014407542534172535, 0.002255726372823119, -0.0013181142276152968, -0.08741545677185059, -0.02544362284243107, 0.020507704466581345, 0.027941899374127388, 0.00961715541779995, -0.009404923766851425, -0.023976188153028488, 0.04120945185422897, 0.013643505983054638, -0.06024972349405289, 0.015632426366209984, -0.042689014226198196, 0.015147323720157146, 0.02142939902842045, 0.012370112352073193, -0.005493784788995981, 0.004975331947207451, -0.06607095152139664, -0.039147764444351196, 0.01975579559803009, 0.020422812551259995, -0.0003444985195528716, 0.004881343338638544, 0.026510847732424736, 0.006779306568205357, -0.004420496057718992, 0.01557178795337677, -0.00398996751755476, -0.03429673984646797, 0.0026301646139472723, 0.02488575503230095, 0.011217993684113026, 0.05054767429828644, 0.009520134888589382, 0.0021162594202905893, 0.011545437388122082, 0.005478625651448965, -0.01354648545384407, -8.967762551037595e-05, -0.025904469192028046, 0.011484799906611443, -0.03997243940830231, -0.004778258968144655, -0.011387779377400875, 0.01737879402935505, -0.04295581951737404, 0.004823737312108278, 0.02333342656493187, -0.017014967277646065, 0.004353794269263744, -0.005072352476418018, -0.010478212498128414, 0.002242082729935646, -0.04511452466249466, -0.008076955564320087, 0.018094319850206375, -0.010490340180695057, 0.020204516127705574, -0.009477688930928707, -0.0057302722707390785, -0.029615502804517746, 0.01967090368270874, 0.014965410344302654, 0.03262313827872276, 0.03524269163608551, -0.019986219704151154, -0.005120862741023302, 0.0006738376105204225, -0.009095670655369759, 0.0008974394877441227, 0.042034126818180084, -0.014540945179760456, 0.0041779447346925735, 0.01786389760673046, -0.03242909908294678, 0.013631378300487995, 0.010617678984999657, 0.030270392075181007, -0.03446652740240097, -0.0125277703627944, 0.015038175508379936, -0.02566191926598549, -0.01928282156586647, -0.006839944049715996, -0.004111242946237326, -0.04293156415224075, -0.004784322809427977, 0.0010785949416458607, 0.013073510490357876, -0.006706540938466787, -0.0019692126661539078, -0.038323093205690384, 0.0031319425906986, 0.001661475864239037, 0.029615502804517746, 0.029275931417942047, 0.02549213171005249, 0.017111988738179207, -0.011357460170984268, -0.014249883592128754, 0.011230121366679668, -0.005472561810165644, -0.03786224499344826, -0.04334390163421631, 0.007943551987409592, -0.017099861055612564, -0.026001490652561188, 0.005311871413141489, 0.03313249722123146, -0.012491387315094471, -0.009344285354018211, -0.029348697513341904, 0.03614013269543648, -0.030512942001223564, -0.008028444834053516, 0.0024740223307162523, -0.004769163206219673, 0.03470907732844353, -0.04438687115907669, -0.024230865761637688, 0.026462337002158165, -0.005478625651448965, 0.009762686677277088, 0.03179846331477165, 0.015777956694364548, -0.04057881981134415, -0.024788733571767807, 0.0372801199555397, 0.03381163999438286, -0.02648659236729145, -0.026001490652561188, -0.015001792460680008, -0.028790829703211784, -0.018652187660336494, 0.006633775774389505, -0.05442849174141884, 0.00427193334326148, 0.021975139155983925, -0.031119320541620255, 0.0019388938089832664, -0.015207961201667786, 0.003091012127697468, 0.009362476877868176, -0.011781925335526466, -0.002490697894245386, 0.02083515003323555, -0.0073674931190907955, 0.011994157917797565, 0.005636283662170172, -0.007622172124683857, 0.011587884277105331, -0.018057938665151596, 0.009022905491292477, -0.004605441354215145, -0.043974533677101135, -0.013983077369630337, -0.0035230563953518867, 0.010090130381286144, -0.0028378493152558804, 0.03187122941017151, 0.030440177768468857, -0.0029742843471467495, 0.013291806913912296, -0.0005468772142194211, -0.0031561977230012417, -0.03325377032160759, -0.0038353409618139267, -0.011284695006906986, 0.007755575235933065, -0.010508531704545021, 0.024558311328291893, -0.011733414605259895, -0.01477136928588152, 0.0029045508708804846, 0.005242138169705868, 0.0033623662311583757, 0.005090543534606695, -0.0266563780605793, 0.006585265509784222, 0.010096194222569466, -0.01035087276250124, 0.026632122695446014, 0.018991760909557343, -0.026365317404270172, -0.015329237096011639, -0.04135498031973839, -0.018579423427581787, -0.0015750669408589602, 0.0034017807338386774, -0.05093575641512871, 0.029009126126766205, 0.0026847387198358774, 0.0033653981518000364, 0.033447813242673874, 0.008968330919742584, -0.030828259885311127, -0.01140597090125084, -0.03507290408015251, -0.033835895359516144, -0.01617816649377346, -0.04894683510065079, 0.0489225797355175, 0.003614013083279133, 0.0226057730615139, -0.00093154824571684, -0.0073674931190907955, -0.017669856548309326, 0.00032763363560661674, -0.0035412476863712072, 0.02061685360968113, -0.028063176199793816, 0.03223505616188049, 0.014553072862327099, -0.018227724358439445, 0.001599322073161602, -0.03281717747449875, -0.00951407104730606, 0.05772718787193298, -0.04831620305776596, 0.013134147971868515, -0.01164852175861597, -0.019561754539608955, -0.028305726125836372, -0.0006507194484584033, -0.03580055758357048, 0.007112814579159021, 0.028184451162815094, -0.011891073547303677, -0.030634218826889992, -0.004569058306515217, -0.0035594389773905277, 0.019598137587308884, 0.008465037681162357, -0.014237755909562111, -0.027117226272821426, 0.0009414019295945764, -0.010429701767861843, -0.04797663167119026, -0.0028242056723684072, 0.023478956893086433, 0.019355587661266327, 0.011715224012732506, 0.029081890359520912, -0.0036018856335431337, -0.025370856747031212, -0.028014665469527245, 0.03601885586977005, -0.013570740818977356, 0.0031137512996792793, -0.03609162196516991, -0.03274441510438919, 0.008064827881753445, 0.020810894668102264, 0.01438328716903925, -0.020677490159869194, -0.03883244842290878, 0.018737081438302994, -0.00023970881011337042, 0.005508944392204285, -0.02290896140038967, 0.011606075800955296, 0.019294949248433113, 0.02738403156399727, 0.0460604764521122, 0.004805545788258314, 0.005339158698916435, 0.017888152971863747, 0.05437998101115227, 0.036382682621479034, -0.026413828134536743, 0.028475511819124222, 0.03087676875293255, -0.016141783446073532, -0.0125277703627944, 0.001080110901966691, -0.013728398829698563, -0.03298696503043175, -0.017803259193897247, -0.0026407763361930847, -0.02351533994078636, 0.019561754539608955, 0.003783799009397626, -0.02527383714914322, 0.010265979915857315, 0.027747858315706253, 0.015062430873513222, -0.0063730329275131226, 0.022957472130656242, -0.010090130381286144, -0.017233263701200485, 0.043465178459882736, 0.012806704267859459, 0.02264215610921383, 0.026244040578603745, -0.02488575503230095, -0.019379841163754463, 0.017524324357509613, -0.002472506370395422, 0.020713873207569122, -0.008840992115437984, -0.0014022492105141282, 0.015753701329231262, 0.016323696821928024, 0.03912350907921791, 0.01551115047186613, -0.003107687458395958, 0.006809625308960676, -0.018785592168569565, -0.00461453665047884, -0.0027954026591032743, -0.01108459010720253, 0.0015409581828862429, 0.022848324850201607, 0.014722858555614948, -0.005599901080131531, -0.020350046455860138, -0.01911303587257862, -0.0076524908654391766, 0.014092225581407547, 0.012867341749370098, -0.012843086384236813, 0.011830435134470463, 0.019488990306854248, 0.03216229006648064, 0.03652821108698845, -0.0008314958540722728, 0.041427746415138245, 0.003459386760368943, 0.0070461127907037735, -0.017051350325345993, 0.0151837058365345, 0.0263168066740036, 0.014298394322395325, -0.025225326418876648, 0.004505388904362917, 0.030658474192023277, -0.016833053901791573, -0.009877897799015045, 0.02372150868177414, -0.002378517761826515, -0.03570353984832764, -0.035558007657527924, 0.06267523020505905, 0.009417050518095493, -0.01807006634771824, -0.023794274777173996, 0.03674650937318802, 0.007773766294121742, 0.028524022549390793, -0.034005679190158844, 0.031337615102529526, 4.630738476407714e-05, 0.02075025625526905, -0.008689397014677525, 0.012388302944600582, 0.009574709460139275, -0.03757118433713913, -0.018215596675872803, -0.029882309958338737, -0.02898487076163292, -0.012339793145656586, 0.013000745326280594, -0.009459497407078743, 0.028063176199793816, -0.050790224224328995, -0.006809625308960676, -0.016541993245482445, 0.03230782225728035, 0.028087429702281952, -0.0002819657966028899, -0.01992558315396309, 0.007852595299482346, -0.013910312205553055, 0.014298394322395325, -0.043246880173683167, -0.011897137388586998, -0.0015735509805381298, 0.005281552672386169, -0.01266117300838232, -0.01872495375573635, -0.014007332734763622, 0.052391063421964645, -0.010514595545828342, -0.0010831428226083517, 0.023018110543489456, 0.0029197102412581444, -0.0349273756146431, -0.009010777808725834, -0.009762686677277088, 0.01953750103712082, 0.013558613136410713, -0.013449464924633503, 0.014989664778113365, 0.013061382807791233, -0.024400651454925537, -0.021708333864808083, 0.030609963461756706, 0.006433670874685049, -0.030609963461756706, 0.005521072074770927, -0.012697556056082249, -0.01837325468659401, 0.0019297980470582843, -0.00899258628487587, 0.020083241164684296, 0.022593645378947258, -0.03158016875386238, 0.037328630685806274, 0.013376699760556221, 0.011982030235230923, -0.03774096816778183, 0.04562388360500336, -0.006936964578926563, 0.043077096343040466, 0.012782448902726173, -0.0420098714530468, -0.020810894668102264, -0.022678539156913757, -0.011848626658320427, 0.0018737080972641706, -0.020847277715802193, 0.014540945179760456, -0.010199278593063354, 0.00036496378015726805, 0.024570437148213387, 0.01574157364666462, -0.034054189920425415, 0.037377141416072845, -0.0423494428396225, 0.033278025686740875, -0.0008140624850057065, 0.0300278402864933, 0.011096717789769173, 0.004135498311370611, 0.006336650345474482, -0.026025746017694473, 0.006415479816496372, 0.016760289669036865, 0.026898929849267006, 0.0065670739859342575, -0.01759709045290947, 0.012746065855026245, 0.020071113482117653, 0.007252281531691551, -0.011866818182170391, -0.009847579523921013, -0.006821752991527319, -0.007967807352542877, -0.004817673470824957, 0.05219702050089836, 0.012927980162203312, 0.012818831950426102, 0.010538849979639053, -0.0034927374217659235, 0.01828836090862751, -0.010945123620331287, -0.01953750103712082, -0.005839420482516289, 0.013619250617921352, 0.024534055963158607, -0.013303933665156364, -0.017099861055612564, -0.026898929849267006, 0.005357349757105112, 0.025807449594140053, -0.0006908919895067811, -0.011951711028814316, -0.004702461883425713, -0.009483752772212029, -0.019440479576587677, 0.021283868700265884, -7.076384463289287e-06, -0.026632122695446014, 0.03679502010345459, 0.01815495826303959, -0.007531215436756611, 0.016020508483052254, -0.012157879769802094, -0.01052065845578909, -0.0013128084829077125, 0.015947742387652397, 0.029081890359520912, -0.008956203237175941, 0.03252611681818962, 0.004644855856895447, 0.00033653981518000364, 0.012588407844305038, 0.001904027070850134, 0.015523278154432774, 0.0009717207867652178, -0.007416003383696079, -0.012345856986939907, 0.001533378497697413, -0.0381290502846241, -0.00791929755359888, -0.026850419119000435, 0.005396764725446701, -0.01798517256975174, -0.007682809606194496, -0.01388605684041977, -0.025346601381897926, 0.03097379021346569, 0.005433147307485342, -0.01343733724206686, -0.004484165459871292, 0.008004190400242805, -0.007543342653661966, -0.01382541935890913, 0.015887103974819183, 0.015414129942655563, -0.016457099467515945, -0.011551501229405403, -0.03269590437412262, 0.01101788878440857, -0.013109893538057804, -0.015123068355023861, 0.00682781683281064, -0.017536452040076256, 0.002419448457658291, -0.023103002458810806, 0.040918391197919846, -0.008452909998595715, 0.0016948266420513391, 0.0011945647420361638, -0.008998650126159191, -0.052342552691698074, -0.011290758848190308, -0.02626829594373703, -0.03141038119792938, -0.018179213628172874, 0.005927345249801874, 0.0040566688403487206, 0.03878393769264221, 0.011569692753255367, -0.0005688584060408175, 0.00682781683281064, -0.009689920581877232, 0.009471625089645386, -0.0022269233595579863, 0.0026195531245321035, -0.011114909313619137, -0.02643808163702488, -0.037716712802648544, -0.017912406474351883, 0.022666411474347115, -0.0151837058365345, -0.010175023227930069, -0.015195833519101143, 0.0038262454327195883, 0.004350762348622084, 0.0004043783410452306, -0.012903724797070026, 0.029833799228072166, -0.010575233027338982, -0.006257821340113878, 0.0010156831704080105, 0.047903865575790405, -0.00815578456968069, -0.0030728206038475037, 0.03972988948225975, -0.011842562817037106, -0.004484165459871292, 0.016760289669036865, 0.04416857659816742, -0.031992506235837936, -0.0025831705424934626, 0.01095725130289793, -0.0031319425906986, -0.010090130381286144, -0.015499022789299488, -0.021720461547374725, -0.010981506668031216, 0.02095642499625683, 0.02748105302453041, -0.021890247240662575, -0.030464433133602142, -0.021817481145262718, 0.020507704466581345, -0.011072463355958462, -0.0022602740209549665, -0.010120449587702751, -0.0037686394061893225, 0.006791433785110712, 0.04111243039369583, -0.011878945864737034, 0.01152118295431137, -0.007537278812378645, -0.023005982860922813, 0.01785176992416382, 0.017960917204618454, 0.005508944392204285, 0.0033199198078364134, 0.016966456547379494, 0.0070097302086651325, 0.015195833519101143, 0.026777654886245728, 0.030003584921360016, -0.01175766997039318, 0.015195833519101143, -0.02515256032347679, 0.010272043757140636, 0.04331964626908302, -0.028887849301099777, 0.007519087754189968, 0.005445274990051985, 0.0001526367268525064, 0.01056916918605566, -0.005120862741023302, -0.005057192873209715, 0.022144926711916924, -0.002311816206201911, 0.04390177130699158, 0.03213803470134735, 0.002906066831201315, -0.028475511819124222, -0.004465974401682615, -0.011260440573096275, -0.006591329351067543, -0.05404040962457657, -0.025176815688610077, 0.0014371159486472607, -0.018057938665151596, 0.02281194180250168, 0.01175766997039318, -0.01011438574641943, 0.014698603190481663, 0.002978831995278597, 0.02738403156399727, -0.007640363182872534, -0.022884707897901535, 0.01399520505219698, -0.006463990081101656, 0.02415810152888298, -0.01825197972357273, 0.02925167605280876, 0.026341062039136887, -0.020738128572702408, 0.007852595299482346, -0.02937295287847519, -0.0012210938148200512, 0.01786389760673046, 0.02760232798755169, -0.007543342653661966, 0.030003584921360016, -0.01565668173134327, 0.006306331604719162, 0.007822277024388313, 0.00040778922266326845, 0.005172404460608959, -0.0066883498802781105, 0.004732780624181032, 0.01842176541686058, 0.001488658133894205, 0.020762383937835693, 0.00938066840171814, 0.009574709460139275, -0.02782062441110611, 0.02398831583559513, 0.0004343182663433254, -0.002422480145469308, 0.04067583754658699, -0.05680549517273903, 0.02104131691157818, 0.007967807352542877, 0.014916899614036083, 0.018494529649615288, -0.008107274770736694, 0.012491387315094471, -0.008240677416324615, 0.004487197380512953, -0.0034563548397272825, -0.012515642680227757, -0.011551501229405403, -0.013958822004497051, 0.08251592516899109, -0.002577106701210141, -0.048291947692632675, -0.04198561608791351, 0.011539374478161335, -0.029130401089787483, 0.018821973353624344, 0.005387668963521719, 0.034878864884376526, -0.04991703853011131, 0.024825116619467735, 0.01371627114713192, -0.012442877516150475, 0.021077699959278107, -0.02350321225821972, -0.0010808688821271062, -0.02204790525138378, -0.014734986238181591, 0.017111988738179207, -0.050450652837753296, 0.0021950884256511927, 0.02515256032347679, 0.03184697404503822, 0.02803892083466053, -0.022678539156913757, -0.011260440573096275, 0.04305284097790718, 0.008428654633462429, -0.037328630685806274, 0.057824209332466125, 0.00972630362957716, -0.018530912697315216, 0.01382541935890913, 0.0002488044847268611, 0.03398142382502556, -0.06189906969666481, 0.011878945864737034, 0.0206653643399477, -0.0571935772895813, 0.012115432880818844, -0.029469972476363182, -0.02476447820663452, -0.011242249049246311, -0.014128608629107475, 0.008076955564320087, 0.01046002097427845, -0.024170229211449623, -0.010945123620331287, -0.005536231677979231, 0.008768226020038128, 0.016833053901791573, -0.019440479576587677, -0.0040506054647266865, 0.016796670854091644, 0.0008784901583567262, -0.015304981730878353, 0.0036989059299230576, -0.047903865575790405, -0.0021950884256511927, -0.0036200769245624542, 0.007221962325274944, 0.021211104467511177, -0.02466745860874653, -0.013958822004497051, 0.001949505414813757]\n"
     ]
    }
   ],
   "source": [
    "# Retrieving embedding\n",
    "row = openai_collection.get(ids = [\"document_1\"], include = [\"documents\", \"embeddings\"])\n",
    "\n",
    "print(\"Original document:\\n\", row[\"documents\"][0])\n",
    "print(\"\\n Embedding length: \\n\", len(row[\"embeddings\"][0]))\n",
    "print(\"\\n Embedding vector: \\n\", row[\"embeddings\"][0])"
   ]
  },
  {
   "cell_type": "markdown",
   "metadata": {
    "id": "lxYMr0rUE9UG"
   },
   "source": [
    "### \ud83d\udcdd EXERCISE 3: Compare Local vs OpenAI Embeddings\n",
    "\n",
    "\n",
    "\n",
    "**Your task:**\n",
    "1. Retrieve `document_4` (about Phishing) from the `openai_collection`\n",
    "2. Print the embedding vector length for this OpenAI embedding\n",
    "3. Compare it to the embedding length from the local collection (384 dimensions)\n",
    "4. Think about: Why might OpenAI's embeddings be larger? What are the trade-offs?\n",
    "\n"
   ]
  },
  {
   "cell_type": "code",
   "execution_count": 33,
   "metadata": {
    "id": "plCpgw7hE9UG"
   },
   "outputs": [],
   "source": [
    "# YOUR CODE HERE\n"
   ]
  },
  {
   "cell_type": "markdown",
   "metadata": {
    "id": "QEkE0_ETE9UG"
   },
   "source": [
    "# 3. Download Database for Notebook 2\n",
    "\n",
    "**IMPORTANT:** You've just created a ChromaDB database with embeddings. To use this database in notebook 2, you need to transfer it.\n",
    "\n",
    "Run the cell below to create a downloadable zip file of your database:"
   ]
  },
  {
   "cell_type": "code",
   "execution_count": 35,
   "metadata": {
    "id": "2jH0_WWRE9UG",
    "colab": {
     "base_uri": "https://localhost:8080/",
     "height": 121
    },
    "outputId": "5f064910-6b5d-4fad-985b-30e340546bc0"
   },
   "outputs": [
    {
     "output_type": "stream",
     "name": "stdout",
     "text": [
      "Creating zip file from: ./chroma_db\n",
      "\u2705 Database successfully zipped to: chromadb_database.zip\n",
      "   File size: 1052.43 KB\n"
     ]
    },
    {
     "output_type": "display_data",
     "data": {
      "text/plain": [
       "<IPython.core.display.Javascript object>"
      ],
      "application/javascript": [
       "\n",
       "    async function download(id, filename, size) {\n",
       "      if (!google.colab.kernel.accessAllowed) {\n",
       "        return;\n",
       "      }\n",
       "      const div = document.createElement('div');\n",
       "      const label = document.createElement('label');\n",
       "      label.textContent = `Downloading \"${filename}\": `;\n",
       "      div.appendChild(label);\n",
       "      const progress = document.createElement('progress');\n",
       "      progress.max = size;\n",
       "      div.appendChild(progress);\n",
       "      document.body.appendChild(div);\n",
       "\n",
       "      const buffers = [];\n",
       "      let downloaded = 0;\n",
       "\n",
       "      const channel = await google.colab.kernel.comms.open(id);\n",
       "      // Send a message to notify the kernel that we're ready.\n",
       "      channel.send({})\n",
       "\n",
       "      for await (const message of channel.messages) {\n",
       "        // Send a message to notify the kernel that we're ready.\n",
       "        channel.send({})\n",
       "        if (message.buffers) {\n",
       "          for (const buffer of message.buffers) {\n",
       "            buffers.push(buffer);\n",
       "            downloaded += buffer.byteLength;\n",
       "            progress.value = downloaded;\n",
       "          }\n",
       "        }\n",
       "      }\n",
       "      const blob = new Blob(buffers, {type: 'application/binary'});\n",
       "      const a = document.createElement('a');\n",
       "      a.href = window.URL.createObjectURL(blob);\n",
       "      a.download = filename;\n",
       "      div.appendChild(a);\n",
       "      a.click();\n",
       "      div.remove();\n",
       "    }\n",
       "  "
      ]
     },
     "metadata": {}
    },
    {
     "output_type": "display_data",
     "data": {
      "text/plain": [
       "<IPython.core.display.Javascript object>"
      ],
      "application/javascript": [
       "download(\"download_7caefff7-39cb-4d7e-a63b-ef2d359a37c1\", \"chromadb_database.zip\", 1077689)"
      ]
     },
     "metadata": {}
    },
    {
     "output_type": "stream",
     "name": "stdout",
     "text": [
      "\n",
      "\ud83d\udce5 Download started! Check your browser's downloads folder.\n",
      "   You'll upload this file in notebook 2.\n"
     ]
    }
   ],
   "source": [
    "import shutil\n",
    "import os\n",
    "\n",
    "# Create a zip file of the database\n",
    "zip_filename = \"chromadb_database\"\n",
    "source_dir = \"./chroma_db\"  # The database directory we created earlier\n",
    "\n",
    "print(f\"Creating zip file from: {source_dir}\")\n",
    "\n",
    "try:\n",
    "    # Create the zip file\n",
    "    shutil.make_archive(zip_filename, 'zip', source_dir)\n",
    "    print(f\"\u2705 Database successfully zipped to: {zip_filename}.zip\")\n",
    "    print(f\"   File size: {os.path.getsize(f'{zip_filename}.zip') / 1024:.2f} KB\")\n",
    "\n",
    "    # In Colab, trigger download\n",
    "    try:\n",
    "        from google.colab import files\n",
    "        files.download(f\"{zip_filename}.zip\")\n",
    "        print(\"\\n\ud83d\udce5 Download started! Check your browser's downloads folder.\")\n",
    "        print(\"   You'll upload this file in notebook 2.\")\n",
    "    except ImportError:\n",
    "        print(\"\\n\u2139\ufe0f  Running locally. Zip file saved to current directory.\")\n",
    "        print(f\"   Copy '{zip_filename}.zip' to notebook 2's directory.\")\n",
    "\n",
    "except Exception as e:\n",
    "    print(f\"\u274c Error creating zip file: {e}\")\n",
    "    print(f\"   Make sure the database exists at: {source_dir}\")"
   ]
  },
  {
   "cell_type": "code",
   "source": [],
   "metadata": {
    "id": "uV7da9LQW1B7"
   },
   "execution_count": null,
   "outputs": []
  }
 ],
 "metadata": {
  "colab": {
   "provenance": []
  },
  "kernelspec": {
   "display_name": "Python 3 (ipykernel)",
   "language": "python",
   "name": "python3"
  },
  "language_info": {
   "codemirror_mode": {
    "name": "ipython",
    "version": 3
   },
   "file_extension": ".py",
   "mimetype": "text/x-python",
   "name": "python",
   "nbconvert_exporter": "python",
   "pygments_lexer": "ipython3",
   "version": "3.10.18"
  }
 },
 "nbformat": 4,
 "nbformat_minor": 0
}