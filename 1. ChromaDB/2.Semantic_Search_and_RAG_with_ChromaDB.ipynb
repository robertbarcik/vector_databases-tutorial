{
  "cells": [
    {
      "cell_type": "markdown",
      "id": "0",
      "metadata": {
        "id": "0"
      },
      "source": [
        "# Setup: Installing Required Libraries\n",
        "\n",
        "Before we begin, we need to install the necessary Python libraries and upload chromadb_database.zip file from the previous notebook. Run the cell below to install all dependencies for this notebook."
      ]
    },
    {
      "cell_type": "code",
      "source": [
        "# Install required libraries\n",
        "# Always restart your runtime after installation! (Runtime → Restart runtime)\n",
        "!pip install -q chromadb==1.3.0 openai==1.109.1 sentence-transformers==5.1.2 transformers==4.57.1 torch==2.8.0\n",
        "\n",
        "print(\"✅ All libraries installed successfully!\")\n",
        "print(\"⚠️  IMPORTANT: Please restart your kernel/runtime now before running the next cell!\")"
      ],
      "metadata": {
        "id": "3hRY0mjyJiWx"
      },
      "id": "3hRY0mjyJiWx",
      "execution_count": null,
      "outputs": []
    },
    {
      "cell_type": "code",
      "execution_count": null,
      "id": "2",
      "metadata": {
        "id": "2"
      },
      "outputs": [],
      "source": [
        "# Upload and extract the database from Notebook 1\n",
        "import zipfile\n",
        "import os\n",
        "\n",
        "try:\n",
        "    from google.colab import files\n",
        "    print(\"📤 Please upload the chromadb_database.zip file...\")\n",
        "    uploaded = files.upload()\n",
        "\n",
        "    if 'chromadb_database.zip' in uploaded:\n",
        "        # Extract the zip file\n",
        "        with zipfile.ZipFile('chromadb_database.zip', 'r') as zip_ref:\n",
        "            zip_ref.extractall('./uploaded_db')\n",
        "        print(\"✅ Database extracted successfully!\")\n",
        "    else:\n",
        "        print(\"❌ chromadb_database.zip not found. Please upload it.\")\n",
        "\n",
        "except ImportError:\n",
        "    # Not in Colab - check if zip exists locally\n",
        "    if os.path.exists('chromadb_database.zip'):\n",
        "        with zipfile.ZipFile('chromadb_database.zip', 'r') as zip_ref:\n",
        "            zip_ref.extractall('./uploaded_db')\n",
        "        print(\"✅ Database extracted from local zip file!\")\n",
        "    else:\n",
        "        print(\"❌ chromadb_database.zip not found. Please place it in the current directory.\")"
      ]
    },
    {
      "cell_type": "markdown",
      "id": "3",
      "metadata": {
        "id": "3"
      },
      "source": [
        "## Verify Database Connection\n",
        "\n",
        "Now let's verify that the collection from Notebook 1 was loaded successfully."
      ]
    },
    {
      "cell_type": "code",
      "execution_count": null,
      "id": "4",
      "metadata": {
        "id": "4"
      },
      "outputs": [],
      "source": [
        "# Importing\n",
        "import os\n",
        "import chromadb\n",
        "from chromadb.utils import embedding_functions"
      ]
    },
    {
      "cell_type": "code",
      "execution_count": null,
      "id": "5",
      "metadata": {
        "id": "5"
      },
      "outputs": [],
      "source": [
        "# Reconnecting to the persistent DB\n",
        "chroma_client = chromadb.PersistentClient(path=\"./uploaded_db\")"
      ]
    },
    {
      "cell_type": "code",
      "execution_count": null,
      "id": "6",
      "metadata": {
        "id": "6"
      },
      "outputs": [],
      "source": [
        "# Reopening the collection and verifying it has data\n",
        "# This cell will check if the collection exists and contains the expected documents from notebook 1\n",
        "\n",
        "try:\n",
        "    local_collection = chroma_client.get_collection(\"my_documents_locally\")\n",
        "    count = local_collection.count()\n",
        "    print(f\"✅ Successfully connected to collection 'my_documents_locally'\")\n",
        "    print(f\"   Documents in collection: {count}\")\n",
        "\n",
        "    if count == 0:\n",
        "        print(\"\\n⚠️  WARNING: Collection exists but contains no documents!\")\n",
        "        print(\"   Please run the first notebook (1.Creating_Embeddings_using_Chroma.ipynb) completely.\")\n",
        "    elif count < 6:\n",
        "        print(f\"\\n⚠️  WARNING: Expected 6 documents but found {count}\")\n",
        "        print(\"   Please re-run the first notebook to ensure all documents are added.\")\n",
        "\n",
        "except ValueError as e:\n",
        "    print(\"❌ ERROR: Collection 'my_documents_locally' does not exist!\")\n",
        "    print(\"\\n📝 SOLUTION:\")\n",
        "    print(\"   1. Go back to the first notebook: '1.Creating_Embeddings_using_Chroma.ipynb'\")\n",
        "    print(\"   2. Run ALL cells in that notebook to create and populate the collection\")\n",
        "    print(\"   3. Then return to this notebook\")\n",
        "    print(f\"\\nTechnical details: {e}\")\n",
        "    raise"
      ]
    },
    {
      "cell_type": "markdown",
      "id": "7",
      "metadata": {
        "id": "7"
      },
      "source": [
        "Now we can run a semantic search using `query()` function. When we call it, Chroma takes 2 steps:\n",
        "1. It **embeds our query text** using the same embedding function that was used for the documents in the collection.\n",
        "2. It **compares the query embedding with all stored embeddings** and then returns the most relevant results.\n",
        "\n",
        "In this example, we tell Chroma to return the top 2 most relevant documents:"
      ]
    },
    {
      "cell_type": "code",
      "execution_count": null,
      "id": "8",
      "metadata": {
        "id": "8"
      },
      "outputs": [],
      "source": [
        "query_text = \"What are the foundational principles and technologies used to secure modern internet traffic?\"\n",
        "\n",
        "results = local_collection.query(\n",
        "    query_texts = [query_text],\n",
        "    n_results = 2,\n",
        ")"
      ]
    },
    {
      "cell_type": "markdown",
      "id": "9",
      "metadata": {
        "id": "9"
      },
      "source": [
        "To make the output easier to read, let’s loop through the results and print a short preview of each one. The output includes **the matching documents, their IDs and the distance scores** which is a measure of similarity (the smaller the distance, the closer the match)."
      ]
    },
    {
      "cell_type": "code",
      "execution_count": null,
      "id": "10",
      "metadata": {
        "id": "10"
      },
      "outputs": [],
      "source": [
        "# Displaying results in readable format\n",
        "for rank, (document, document_id, distance_score) in enumerate(\n",
        "    zip(results[\"documents\"][0], results[\"ids\"][0], results[\"distances\"][0]),\n",
        "    start=1):\n",
        "    preview = document[:600]\n",
        "    print(f\"Result {rank}\")\n",
        "    print(f\"• ID: {document_id}\")\n",
        "    print(f\"• Distance: {distance_score:.4f}\")\n",
        "    print(f\"• Preview: {preview}…\")\n",
        "    print(\"-\" * 80)"
      ]
    },
    {
      "cell_type": "markdown",
      "id": "11",
      "metadata": {
        "id": "11"
      },
      "source": [
        "## 1.1 Filtering Semantic Search with Metadata\n",
        "\n",
        "Semantic search is powerful, but sometimes you want to **combine semantic similarity with specific filters**. For example, you might want to find documents about \"encryption\" but only from the \"cryptography\" category, or only beginner-level documents.\n",
        "\n",
        "ChromaDB allows you to add a `where` clause to your queries, just like you learned in the first notebook. This combines the best of both worlds:\n",
        "- **Semantic search** finds conceptually relevant documents\n",
        "- **Metadata filters** narrow down results to specific criteria\n",
        "\n",
        "Let's see this in action."
      ]
    },
    {
      "cell_type": "code",
      "source": [
        "  # Get collection stats\n",
        "  results = local_collection.get(include=['metadatas'])\n",
        "\n",
        "  print(f\"Total documents: {len(results['metadatas'])}\")\n",
        "  print(\"\\nMetadata fields across all documents:\")\n",
        "\n",
        "  # Find all unique metadata keys\n",
        "  all_keys = set()\n",
        "  for metadata in results['metadatas']:\n",
        "      all_keys.update(metadata.keys())\n",
        "\n",
        "  print(f\"Unique metadata fields: {sorted(all_keys)}\")\n",
        "\n",
        "  # Show example values for each field\n",
        "  print(\"\\nExample values per field:\")\n",
        "  for key in sorted(all_keys):\n",
        "      example_values = [m.get(key) for m in results['metadatas'] if key\n",
        "   in m][:3]\n",
        "      print(f\"  {key}: {example_values}\")\n",
        "\n"
      ],
      "metadata": {
        "id": "_w1WCDnlUybr"
      },
      "id": "_w1WCDnlUybr",
      "execution_count": null,
      "outputs": []
    },
    {
      "cell_type": "markdown",
      "id": "12",
      "metadata": {
        "id": "12"
      },
      "source": [
        "### Example 1: Search with Category Filter\n",
        "\n",
        "Let's search for documents about \"network protection\" but only from the \"architecture\" category:"
      ]
    },
    {
      "cell_type": "code",
      "execution_count": null,
      "id": "13",
      "metadata": {
        "id": "13"
      },
      "outputs": [],
      "source": [
        "query_text = \"How to protect networks from attackers?\"\n",
        "\n",
        "# Semantic search with category filter\n",
        "results = local_collection.query(\n",
        "    query_texts=[query_text],\n",
        "    n_results=2,\n",
        "    where={\"category\": \"architecture\"},  # Only architecture documents\n",
        "    include=[\"documents\", \"metadatas\", \"distances\"]\n",
        ")\n",
        "\n",
        "print(f\"Query: {query_text}\")\n",
        "print(f\"Filter: category = 'architecture'\\n\")\n",
        "\n",
        "for rank, (doc, doc_id, metadata, distance) in enumerate(\n",
        "    zip(results[\"documents\"][0], results[\"ids\"][0], results[\"metadatas\"][0], results[\"distances\"][0]),\n",
        "    start=1):\n",
        "    print(f\"Result {rank}:\")\n",
        "    print(f\"  ID: {doc_id}\")\n",
        "    print(f\"  Category: {metadata['category']}\")\n",
        "    print(f\"  Distance: {distance:.4f}\")\n",
        "    print(f\"  Preview: {doc[:200]}...\\n\")"
      ]
    },
    {
      "cell_type": "markdown",
      "source": [
        "#### Exercise 1\n",
        "\n",
        "You want to find information about encryption methods. Write a\n",
        "  semantic search query with the question \"How do encryption methods\n",
        "  work?\" that only searches within documents in the \"cryptography\"\n",
        "  category. Retrieve the top 3 results and display their IDs and\n",
        "  categories.\n",
        "\n"
      ],
      "metadata": {
        "id": "C6LtVo-_VG1z"
      },
      "id": "C6LtVo-_VG1z"
    },
    {
      "cell_type": "code",
      "source": [
        "# YOUR CODE HERE\n",
        "\n"
      ],
      "metadata": {
        "id": "DrNZSmSYU-Gi"
      },
      "id": "DrNZSmSYU-Gi",
      "execution_count": null,
      "outputs": []
    },
    {
      "cell_type": "markdown",
      "id": "14",
      "metadata": {
        "id": "14"
      },
      "source": [
        "### Example 2: Search with Difficulty Filter\n",
        "\n",
        "Now let's find beginner-friendly documents about authentication:"
      ]
    },
    {
      "cell_type": "code",
      "execution_count": null,
      "id": "15",
      "metadata": {
        "id": "15"
      },
      "outputs": [],
      "source": [
        "query_text = \"How do authentication systems work?\"\n",
        "\n",
        "# Semantic search with difficulty filter\n",
        "results = local_collection.query(\n",
        "    query_texts=[query_text],\n",
        "    n_results=3,\n",
        "    where={\"difficulty\": \"beginner\"},  # Only beginner-level documents\n",
        "    include=[\"metadatas\", \"distances\"]\n",
        ")\n",
        "\n",
        "print(f\"Query: {query_text}\")\n",
        "print(f\"Filter: difficulty = 'beginner'\\n\")\n",
        "\n",
        "if results[\"ids\"][0]:\n",
        "    for rank, (doc_id, metadata, distance) in enumerate(\n",
        "        zip(results[\"ids\"][0], results[\"metadatas\"][0], results[\"distances\"][0]),\n",
        "        start=1):\n",
        "        print(f\"Result {rank}: {doc_id}\")\n",
        "        print(f\"  Category: {metadata['category']}, Difficulty: {metadata['difficulty']}\")\n",
        "        print(f\"  Distance: {distance:.4f}\\n\")\n",
        "else:\n",
        "    print(\"No beginner-level documents found matching this query.\")"
      ]
    },
    {
      "cell_type": "markdown",
      "source": [
        "#### Exercise 2\n",
        "\n",
        "You are looking for advanced\n",
        "  material. Write a query to search for \"What are advanced security\n",
        "  techniques?\" but ONLY return documents with \"advanced\" difficulty.\n",
        "  Retrieve the top 3 results and show their IDs, categories, and\n",
        "  difficulty levels."
      ],
      "metadata": {
        "id": "v-gO6Jq-WN71"
      },
      "id": "v-gO6Jq-WN71"
    },
    {
      "cell_type": "code",
      "source": [
        "# YOUR CODE HERE\n",
        "\n"
      ],
      "metadata": {
        "id": "I0KxGmwsWTFq"
      },
      "id": "I0KxGmwsWTFq",
      "execution_count": null,
      "outputs": []
    },
    {
      "cell_type": "markdown",
      "id": "16",
      "metadata": {
        "id": "16"
      },
      "source": [
        "### Example 3: Complex Filters with Operators\n",
        "\n",
        "You can also use operators like `$gte` (greater than or equal), `$in` (in list), etc.:"
      ]
    },
    {
      "cell_type": "code",
      "execution_count": null,
      "id": "17",
      "metadata": {
        "id": "17"
      },
      "outputs": [],
      "source": [
        "query_text = \"Modern security approaches\"\n",
        "\n",
        "# Find documents from 2010 or later\n",
        "results = local_collection.query(\n",
        "    query_texts=[query_text],\n",
        "    n_results=3,\n",
        "    where={\"year\": {\"$gte\": 2010}},  # Documents from 2010 onwards\n",
        "    include=[\"metadatas\", \"distances\"]\n",
        ")\n",
        "\n",
        "print(f\"Query: {query_text}\")\n",
        "print(f\"Filter: year >= 2010\\n\")\n",
        "\n",
        "for rank, (doc_id, metadata, distance) in enumerate(\n",
        "    zip(results[\"ids\"][0], results[\"metadatas\"][0], results[\"distances\"][0]),\n",
        "    start=1):\n",
        "    print(f\"Result {rank}: {doc_id}\")\n",
        "    print(f\"  Category: {metadata['category']}, Year: {metadata['year']}\")\n",
        "    print(f\"  Distance: {distance:.4f}\\n\")"
      ]
    },
    {
      "cell_type": "markdown",
      "source": [
        "#### Exercise 3\n",
        "\n",
        "You want to find high-quality, recent content. Write a query to\n",
        "  search for \"How can I protect my network from attacks?\" that meets\n",
        "  ALL of these criteria:\n",
        "  - Published in year 2010 or later ($gte operator)\n",
        "  - Have been reviewed (reviewed is True)\n",
        "\n",
        "  Retrieve the top 3 results and display their IDs, years, and review\n",
        "  status.\n"
      ],
      "metadata": {
        "id": "7CdjS18yWiNE"
      },
      "id": "7CdjS18yWiNE"
    },
    {
      "cell_type": "code",
      "source": [
        "# YOUR CODE HERE\n",
        "\n"
      ],
      "metadata": {
        "id": "L9Favy72WnOP"
      },
      "id": "L9Favy72WnOP",
      "execution_count": null,
      "outputs": []
    },
    {
      "cell_type": "markdown",
      "id": "18",
      "metadata": {
        "id": "18"
      },
      "source": [
        "**Key Takeaway:** Filtered semantic search is incredibly powerful. It lets you:\n",
        "- Find semantically relevant content (\"what does it mean?\")\n",
        "- While applying specific business logic (\"show me only X type of documents\")\n",
        "\n",
        "This is essential for building production RAG systems where you need to control which documents can be retrieved based on user permissions, document types, dates, or other criteria."
      ]
    },
    {
      "cell_type": "markdown",
      "id": "21",
      "metadata": {
        "id": "21"
      },
      "source": [
        "## 1.2 Optimizing n_results: How Many Documents Should You Retrieve?\n",
        "\n",
        "When performing semantic search for RAG, one critical parameter is `n_results` - how many documents to retrieve. This isn't just a technical detail; it's a key design decision that affects your system's quality, cost, and performance.\n",
        "\n",
        "### The Trade-offs\n",
        "\n",
        "**Too Few Documents (n_results = 1-2):**\n",
        "- ✅ **Pros:**\n",
        "  - Faster retrieval\n",
        "  - Lower LLM cost (less context to process)\n",
        "  - More focused answers\n",
        "- ❌ **Cons:**\n",
        "  - **Low recall**: Might miss relevant information spread across multiple documents\n",
        "  - Risk of incomplete answers\n",
        "  - Single point of failure if top result isn't perfect\n",
        "\n",
        "**Too Many Documents (n_results = 10+):**\n",
        "- ✅ **Pros:**\n",
        "  - **High recall**: More likely to capture all relevant information\n",
        "  - Better coverage of the topic\n",
        "- ❌ **Cons:**\n",
        "  - **Context size explosion**: LLMs have token limits (e.g., GPT-4: 8k-128k tokens)\n",
        "  - Higher costs (more tokens = more $$$)\n",
        "  - **Noise**: Irrelevant documents can confuse the LLM\n",
        "  - Slower processing\n",
        "  - LLM may struggle to synthesize information from too many sources\n",
        "\n",
        "### Finding the Sweet Spot\n",
        "\n",
        "Let's experiment with different values of `n_results` to see how it affects our results:"
      ]
    },
    {
      "cell_type": "code",
      "execution_count": null,
      "id": "22",
      "metadata": {
        "id": "22"
      },
      "outputs": [],
      "source": [
        "query_text = \"What are the main security threats?\"\n",
        "\n",
        "print(f\"Query: {query_text}\\n\")\n",
        "print(\"=\" * 80)\n",
        "\n",
        "# Test different n_results values\n",
        "for n in [1, 3, 5]:\n",
        "    results = local_collection.query(\n",
        "        query_texts=[query_text],\n",
        "        n_results=n,\n",
        "        include=[\"distances\", \"documents\"]\n",
        "    )\n",
        "\n",
        "    print(f\"\\nn_results = {n}:\")\n",
        "    print(f\"  Document IDs: {results['ids'][0]}\")\n",
        "    print(f\"  Distance scores: {[f'{d:.4f}' for d in results['distances'][0]]}\")\n",
        "\n",
        "    # Calculate approximate token count (rough estimate: 1 token ≈ 4 characters)\n",
        "    total_chars = sum(len(doc) for doc in results[\"documents\"][0])\n",
        "    approx_tokens = total_chars // 4\n",
        "    print(f\"  Approx context tokens: ~{approx_tokens}\")\n",
        "\n",
        "print(\"\\n\" + \"=\" * 80)"
      ]
    },
    {
      "cell_type": "markdown",
      "id": "23",
      "metadata": {
        "id": "23"
      },
      "source": [
        "### Practical Guidelines\n",
        "\n",
        "**1. Start with n_results = 3-5** for most use cases:\n",
        "   - Good balance between recall and context size\n",
        "   - Works well with most LLMs' context windows\n",
        "   - Manageable cost\n",
        "\n",
        "**2. Adjust based on your documents:**\n",
        "   - **Short documents** (tweets, Q&A pairs): Can use higher n_results (10-20)\n",
        "   - **Long documents** (articles, papers): Use lower n_results (2-5)\n",
        "   - **Chunked documents**: Consider 5-10 chunks\n",
        "\n",
        "**3. Consider your LLM's context window:**\n",
        "   - GPT-3.5-turbo: 4k tokens → Keep context under 3k\n",
        "   - GPT-4: 8k-32k tokens → More flexibility\n",
        "   - Local models: Often 2k-4k → Be conservative\n",
        "\n",
        "**4. Monitor distance scores:**\n",
        "   - If the 3rd result has a distance > 0.5, the remaining results probably won't help\n",
        "   - Use a **distance threshold** instead of fixed n_results\n",
        "\n",
        "**5. Advanced technique - Reranking:**\n",
        "   - Retrieve more documents (n=10-20)\n",
        "   - Use a reranking model to select the best 3-5\n",
        "   - Send only the reranked results to the LLM\n",
        "\n",
        "### Example: Dynamic n_results with Distance Threshold"
      ]
    },
    {
      "cell_type": "code",
      "execution_count": null,
      "id": "24",
      "metadata": {
        "id": "24"
      },
      "outputs": [],
      "source": [
        "def smart_retrieve(collection, query, max_results=5, distance_threshold=0.6):\n",
        "    \"\"\"\n",
        "    Retrieve documents but stop if distance scores get too high (low similarity)\n",
        "    \"\"\"\n",
        "    results = collection.query(\n",
        "        query_texts=[query],\n",
        "        n_results=max_results,\n",
        "        include=[\"documents\", \"distances\"]\n",
        "    )\n",
        "\n",
        "    # Filter out documents with distance > threshold\n",
        "    filtered_docs = []\n",
        "    filtered_ids = []\n",
        "\n",
        "    for doc, doc_id, dist in zip(\n",
        "        results[\"documents\"][0],\n",
        "        results[\"ids\"][0],\n",
        "        results[\"distances\"][0]\n",
        "    ):\n",
        "        if dist <= distance_threshold:\n",
        "            filtered_docs.append(doc)\n",
        "            filtered_ids.append(doc_id)\n",
        "        else:\n",
        "            print(f\"  Skipping {doc_id} (distance {dist:.4f} > threshold {distance_threshold})\")\n",
        "\n",
        "    return filtered_docs, filtered_ids\n",
        "\n",
        "# Test it\n",
        "query = \"How does public key cryptography work?\"\n",
        "print(f\"Query: {query}\\n\")\n",
        "\n",
        "docs, ids = smart_retrieve(local_collection, query, max_results=5, distance_threshold=0.5)\n",
        "print(f\"\\nRetrieved {len(docs)} high-quality documents: {ids}\")"
      ]
    },
    {
      "cell_type": "markdown",
      "id": "25",
      "metadata": {
        "id": "25"
      },
      "source": [
        "**Key Takeaway:**\n",
        "\n",
        "Don't just blindly set `n_results=5`. Think about:\n",
        "- Your document length and structure\n",
        "- Your LLM's context window\n",
        "- Your quality vs. cost trade-offs\n",
        "- The semantic distance of retrieved results\n",
        "\n",
        "For most applications, **n_results=3** with a **distance threshold of 0.5-0.6** is a good starting point. Then tune based on your specific needs!"
      ]
    },
    {
      "cell_type": "markdown",
      "id": "26",
      "metadata": {
        "id": "26"
      },
      "source": [
        "# 2. RAG (Retrieval-Augmented-Generation)\n",
        "\n",
        "We’ll keep doing the same search, but now we’ll hand the retrieved text to an LLM and have it compose an answer while staying grounded in our documents."
      ]
    },
    {
      "cell_type": "markdown",
      "id": "27",
      "metadata": {
        "id": "27"
      },
      "source": [
        "## 2.1 OpenAI API\n",
        "\n",
        "We’ll access LLM through the OpenAI API. To do this, we first load the API key from the environment and then create a client object that we will use to send requests to the model."
      ]
    },
    {
      "cell_type": "code",
      "execution_count": null,
      "id": "28",
      "metadata": {
        "id": "28"
      },
      "outputs": [],
      "source": [
        "import os\n",
        "from getpass import getpass\n",
        "\n",
        "# Configure OpenAI API key\n",
        "try:\n",
        "    from google.colab import userdata\n",
        "    OPENAI_API_KEY = userdata.get('OPENAI_API_KEY')\n",
        "    print(\"✅ API key loaded from Colab secrets\")\n",
        "except:\n",
        "    from getpass import getpass\n",
        "    print(\"💡 To use Colab secrets: Go to 🔑 (left sidebar) → Add new secret → Name: OPENAI_API_KEY\")\n",
        "    OPENAI_API_KEY = getpass(\"Enter your OpenAI API Key: \")\n",
        "\n",
        "os.environ[\"OPENAI_API_KEY\"] = OPENAI_API_KEY\n",
        "\n",
        "if not OPENAI_API_KEY or OPENAI_API_KEY.strip() == \"\":\n",
        "    raise ValueError(\"❌ ERROR: No API key provided!\")\n",
        "\n",
        "print(\"\\n✅ OpenAI API configured!\")\n",
        "\n",
        "# Set the model to use\n",
        "OPENAI_MODEL = \"gpt-5-nano\"\n",
        "print(f\"🤖 Using model: {OPENAI_MODEL}\")"
      ]
    },
    {
      "cell_type": "code",
      "execution_count": null,
      "id": "29",
      "metadata": {
        "id": "29"
      },
      "outputs": [],
      "source": [
        "from openai import OpenAI\n"
      ]
    },
    {
      "cell_type": "code",
      "execution_count": null,
      "id": "30",
      "metadata": {
        "id": "30"
      },
      "outputs": [],
      "source": [
        "# Create OpenAI client\n",
        "client = OpenAI(api_key=OPENAI_API_KEY)"
      ]
    },
    {
      "cell_type": "markdown",
      "id": "31",
      "metadata": {
        "id": "31"
      },
      "source": [
        "We will query Chroma collection to get the most relevant passages for the question. Here we ask for the top 3 results, and we also include their IDs. These IDs help us later show where the information came from. If no results are found, we stop early and tell the user that nothing matched."
      ]
    },
    {
      "cell_type": "code",
      "execution_count": null,
      "id": "32",
      "metadata": {
        "id": "32"
      },
      "outputs": [],
      "source": [
        "query_text = \"What is the difference between symmetric and asymmetric encryption?\"\n",
        "\n",
        "# Step 1: Retrieving relevant passages from Chroma\n",
        "response = local_collection.query(\n",
        "    query_texts = [query_text],\n",
        "    n_results = 3,\n",
        "    include = [\"documents\"]\n",
        ")\n",
        "\n",
        "docs = response[\"documents\"][0]\n",
        "ids = response[\"ids\"][0]\n",
        "\n",
        "if not docs:\n",
        "    print(\"No relevant passages found in the vector store. Try rephrasing the question.\")\n",
        "else:\n",
        "    # Step 2: Packing retrieved results into a labeled context block to make the input clearer for the LLM\n",
        "    context_blocks = [f\"[{i+1} | {ids[i]}]\\n{docs[i]}\" for i in range(len(docs))]\n",
        "    context = \"\\n\\n\".join(context_blocks)"
      ]
    },
    {
      "cell_type": "markdown",
      "source": [
        "Finally, we'll send retrieved passages along with the question to the OpenAI model `gpt-5-nano`."
      ],
      "metadata": {
        "id": "UmbNrD3pOJt3"
      },
      "id": "UmbNrD3pOJt3"
    },
    {
      "cell_type": "code",
      "execution_count": null,
      "id": "36",
      "metadata": {
        "id": "36"
      },
      "outputs": [],
      "source": [
        "# Step 3: Generating an answer using the retrieved context\n",
        "resp = client.responses.create(\n",
        "    model=OPENAI_MODEL,\n",
        "    input=(\n",
        "        \"You are a precise assistant that must answer ONLY using the provided sources. \"\n",
        "        \"If the answer is not fully supported by the sources, explain that the information is not in the provided material and suggest how the user might rephrase their question. \"\n",
        "        \"At the end, cite sources by their bracket labels, e.g., [1], [2].\\n\\n\"\n",
        "        f\"SOURCES:\\n{context}\\n\\n\"\n",
        "        f\"QUESTION: {query_text}\\n\\n\"\n",
        "        f\"ANSWER:\"\n",
        "    )\n",
        ")\n",
        "\n",
        "print(resp.output_text)"
      ]
    },
    {
      "cell_type": "markdown",
      "id": "37",
      "metadata": {
        "id": "37"
      },
      "source": [
        "## 2.1.1 RAG Evaluation and Source Attribution\n",
        "\n",
        "So far, we've built a RAG pipeline that retrieves documents and generates answers. But there's a critical question we haven't addressed: **How do we know if the LLM actually used the retrieved sources, or if it just made up an answer?**\n",
        "\n",
        "This is one of the biggest challenges in production RAG systems:\n",
        "\n",
        "1. **No verification that sources are actually used**: After getting an LLM answer, there's often no check whether the answer actually came from the retrieved context\n",
        "2. **Hallucinations**: LLMs can confidently generate information that wasn't in the sources at all\n",
        "3. **Source attribution**: Even when the answer is correct, it's hard to verify which specific source documents were actually used\n",
        "\n",
        "Let's explore techniques to address these issues."
      ]
    },
    {
      "cell_type": "markdown",
      "id": "38",
      "metadata": {
        "id": "38"
      },
      "source": [
        "### Technique 1: Explicit Citation Requirements\n",
        "\n",
        "The simplest approach is to **force the LLM to cite its sources** in the system prompt. Let's compare answers with and without citation requirements:"
      ]
    },
    {
      "cell_type": "code",
      "source": [
        "# Example 1 WITHOUT citation requirement\n",
        "query_text_A = \"What is public-key cryptography and what problem does it solve?\"\n",
        "\n",
        "response = local_collection.query(\n",
        "    query_texts=[query_text],\n",
        "    n_results=2,\n",
        "    include=[\"documents\"]\n",
        ")\n",
        "\n",
        "docs = response[\"documents\"][0]\n",
        "ids = response[\"ids\"][0]\n",
        "\n",
        "if docs:\n",
        "    context_blocks = [f\"[{i+1} | {ids[i]}]\\n{docs[i]}\" for i in range(len(docs))]\n",
        "    context = \"\\n\\n\".join(context_blocks)\n",
        "\n",
        "    # Weak system prompt - no citation requirement\n",
        "    resp_no_citation = client.responses.create(\n",
        "        model=OPENAI_MODEL,\n",
        "        input=f\"You are a helpful assistant. Answer the question using the provided sources.\\n\\nSOURCES:\\n{context}\\n\\nQUESTION: {query_text_A}\"\n",
        "    )\n",
        "\n",
        "    print(\"❌ WITHOUT Citation Requirement:\")\n",
        "    print(resp_no_citation.output_text)\n",
        "    print(\"\\n\" + \"=\"*80 + \"\\n\")"
      ],
      "metadata": {
        "id": "9jl0xV5eQ2Sg"
      },
      "id": "9jl0xV5eQ2Sg",
      "execution_count": null,
      "outputs": []
    },
    {
      "cell_type": "code",
      "source": [
        "    # Example 1: Now WITH strong citation requirement\n",
        "    resp_with_citation = client.responses.create(\n",
        "        model=OPENAI_MODEL,\n",
        "        input=(\n",
        "            \"You are a precise assistant. Answer ONLY using the provided sources. \"\n",
        "            \"You MUST cite every claim with [1], [2], etc. \"\n",
        "            \"If the answer is not in the sources, say 'The provided sources do not contain this information.'\\n\\n\"\n",
        "            f\"SOURCES:\\n{context}\\n\\n\"\n",
        "            f\"QUESTION: {query_text_A}\"\n",
        "        )\n",
        "    )\n",
        "\n",
        "    print(\"✅ WITH Citation Requirement:\")\n",
        "    print(resp_with_citation.output_text)"
      ],
      "metadata": {
        "id": "ot45i7YNQ9cB"
      },
      "id": "ot45i7YNQ9cB",
      "execution_count": null,
      "outputs": []
    },
    {
      "cell_type": "markdown",
      "source": [
        "  - ✅ The query matches the retrieved context\n",
        "  - ✅ The model provides accurate answers with citations\n",
        "  - ✅ Every claim is backed by a source reference [1], [2], etc.\n",
        "\n",
        "  Let's take a look at example 2:"
      ],
      "metadata": {
        "id": "swJelMiSRKFW"
      },
      "id": "swJelMiSRKFW"
    },
    {
      "cell_type": "code",
      "execution_count": null,
      "id": "39",
      "metadata": {
        "id": "39"
      },
      "outputs": [],
      "source": [
        "# Example 2 WITHOUT citation requirement\n",
        "query_text_B = \"What is quantum computing?\"\n",
        "\n",
        "response = local_collection.query(\n",
        "    query_texts=[query_text],\n",
        "    n_results=2,\n",
        "    include=[\"documents\"]\n",
        ")\n",
        "\n",
        "docs = response[\"documents\"][0]\n",
        "ids = response[\"ids\"][0]\n",
        "\n",
        "if docs:\n",
        "    context_blocks = [f\"[{i+1} | {ids[i]}]\\n{docs[i]}\" for i in range(len(docs))]\n",
        "    context = \"\\n\\n\".join(context_blocks)\n",
        "\n",
        "    # Weak system prompt - no citation requirement\n",
        "    resp_no_citation = client.responses.create(\n",
        "        model=OPENAI_MODEL,\n",
        "        input=f\"You are a helpful assistant. Answer the question using the provided sources.\\n\\nSOURCES:\\n{context}\\n\\nQUESTION: {query_text_B}\"\n",
        "    )\n",
        "\n",
        "    print(\"❌ WITHOUT Citation Requirement:\")\n",
        "    print(resp_no_citation.output_text)\n",
        "    print(\"\\n\" + \"=\"*80 + \"\\n\")"
      ]
    },
    {
      "cell_type": "markdown",
      "source": [
        "In the result below we can see that:\n",
        "The model recognizes when information is NOT in the sources\n",
        "  - ✅ It refuses to hallucinate or make up information\n",
        "  - ✅ It honestly says \"The provided sources do not contain this\n",
        "  information\""
      ],
      "metadata": {
        "id": "tTHMUptaRzwt"
      },
      "id": "tTHMUptaRzwt"
    },
    {
      "cell_type": "code",
      "execution_count": null,
      "id": "40",
      "metadata": {
        "id": "40"
      },
      "outputs": [],
      "source": [
        "# Example 2: Now WITH strong citation requirement\n",
        "resp_with_citation = client.responses.create(\n",
        "    model=OPENAI_MODEL,\n",
        "    input=(\n",
        "            \"You are a precise assistant. Answer ONLY using the provided sources. \"\n",
        "            \"You MUST cite every claim with [1], [2], etc. \"\n",
        "            \"If the answer is not in the sources, say 'The provided sources do not contain this information.'\\n\\n\"\n",
        "            f\"SOURCES:\\n{context}\\n\\n\"\n",
        "            f\"QUESTION: {query_text_B}\"\n",
        "        )\n",
        "    )\n",
        "\n",
        "print(\"✅ WITH Citation Requirement:\")\n",
        "print(resp_with_citation.output_text)"
      ]
    },
    {
      "cell_type": "markdown",
      "id": "41",
      "metadata": {
        "id": "41"
      },
      "source": [
        "\n",
        "\n",
        "### Technique 2: Programmatic Source Verification\n",
        "\n",
        "A more robust approach is to **automatically verify** if the LLM's answer actually uses content from the retrieved sources. We can do this by checking for text overlap:"
      ]
    },
    {
      "cell_type": "code",
      "execution_count": null,
      "id": "42",
      "metadata": {
        "id": "42"
      },
      "outputs": [],
      "source": [
        "def verify_source_usage(answer, source_docs, min_overlap_words=5):\n",
        "    \"\"\"\n",
        "    Check if the LLM answer contains content from the source documents.\n",
        "    Returns a dict with verification metrics.\n",
        "    \"\"\"\n",
        "    answer_lower = answer.lower()\n",
        "    answer_words = set(answer_lower.split())\n",
        "\n",
        "    verification = {\n",
        "        \"uses_sources\": False,\n",
        "        \"source_overlaps\": [],\n",
        "        \"total_overlap_words\": 0\n",
        "    }\n",
        "\n",
        "    for i, doc in enumerate(source_docs):\n",
        "        doc_lower = doc.lower()\n",
        "        doc_words = set(doc_lower.split())\n",
        "\n",
        "        # Find common words (excluding very short words)\n",
        "        overlap = answer_words & doc_words\n",
        "        meaningful_overlap = {w for w in overlap if len(w) > 3}\n",
        "\n",
        "        if len(meaningful_overlap) >= min_overlap_words:\n",
        "            verification[\"uses_sources\"] = True\n",
        "            verification[\"source_overlaps\"].append({\n",
        "                \"source_index\": i + 1,\n",
        "                \"overlap_count\": len(meaningful_overlap),\n",
        "                \"sample_words\": list(meaningful_overlap)[:10]\n",
        "            })\n",
        "            verification[\"total_overlap_words\"] += len(meaningful_overlap)\n",
        "\n",
        "    return verification\n",
        "\n",
        "# Test it with a real RAG query\n",
        "test_query = \"What are encryption algorithms?\"\n",
        "response = local_collection.query(\n",
        "    query_texts=[test_query],\n",
        "    n_results=2,\n",
        "    include=[\"documents\"]\n",
        ")\n",
        "\n",
        "test_docs = response[\"documents\"][0]\n",
        "test_ids = response[\"ids\"][0]\n",
        "\n",
        "if test_docs:\n",
        "    context_blocks = [f\"[{i+1} | {test_ids[i]}]\\n{test_docs[i]}\" for i in range(len(test_docs))]\n",
        "    context = \"\\n\\n\".join(context_blocks)\n",
        "\n",
        "    # Get LLM answer using Responses API\n",
        "    test_resp = client.responses.create(\n",
        "        model=OPENAI_MODEL,\n",
        "        input=f\"Answer using the provided sources.\\n\\nSOURCES:\\n{context}\\n\\nQUESTION: {test_query}\"\n",
        "    )\n",
        "\n",
        "    answer = test_resp.output_text\n",
        "\n",
        "    # Verify source usage\n",
        "    verification = verify_source_usage(answer, test_docs)\n",
        "\n",
        "    print(f\"Query: {test_query}\\n\")\n",
        "    print(f\"Answer: {answer}\\n\")\n",
        "    print(\"=\"*80)\n",
        "    print(f\"\\n✓ Verification Results:\")\n",
        "    print(f\"  Uses sources: {verification['uses_sources']}\")\n",
        "    print(f\"  Total word overlap: {verification['total_overlap_words']}\")\n",
        "    for overlap_info in verification[\"source_overlaps\"]:\n",
        "        print(f\"  Source [{overlap_info['source_index']}]: {overlap_info['overlap_count']} overlapping words\")"
      ]
    },
    {
      "cell_type": "markdown",
      "id": "43",
      "metadata": {
        "id": "43"
      },
      "source": [
        "**Key Takeaway - RAG Evaluation:**\n",
        "\n",
        "In production RAG systems, you should:\n",
        "\n",
        "1. **Enforce citations** in system prompts - make the LLM cite sources with [1], [2], etc.\n",
        "2. **Verify programmatically** - use overlap analysis or semantic similarity to check if answers use the sources\n",
        "3. **Monitor hallucinations** - if word overlap is too low, the LLM may be inventing information\n",
        "4. **Build feedback loops** - log cases where verification fails for continuous improvement\n",
        "\n",
        "These techniques help ensure your RAG system stays grounded in facts and doesn't hallucinate information that isn't in your knowledge base."
      ]
    },
    {
      "cell_type": "markdown",
      "id": "44",
      "metadata": {
        "id": "44"
      },
      "source": [
        "## 2.2 Local Model from Hugging Face\n",
        "\n",
        "In the previous section, we combined local retrieval with ChromaDB (embeddings stored on disk) and then sent the retrieved passages to OpenAI’s API for generation. That worked well but it also meant our data had to leave our computer and be processed by an external service.\n",
        "\n",
        "What if we don’t want to send private documents outside our environment? In this section we’ll keep **everything on-device by running a model locally**. We'll use a pretrained instruction-tuned model from HuggingFace called `Qwen/Qwen2.5-1.5B-Instruct`.\n",
        "\n",
        "This model is small enough to run on a laptop or a single GPU, yet powerful enough to follow instructions and generate answers. With it, both retrieval and generation happen locally:\n",
        "- our data never leave our computer\n",
        "- we avoid per-request API costs\n",
        "- we reduce reliance on external services and avoid latency from network calls\n",
        "\n",
        "You can read more about this model on [HuggingFace website](https://huggingface.co/Qwen/Qwen2.5-1.5B-Instruct).\n",
        "\n",
        "We start by importing the Hugging Face `transformers` library, which gives us the tools to load and run local language models."
      ]
    },
    {
      "cell_type": "code",
      "execution_count": null,
      "id": "45",
      "metadata": {
        "id": "45"
      },
      "outputs": [],
      "source": [
        "# Importing\n",
        "from transformers import AutoTokenizer, AutoModelForCausalLM, pipeline"
      ]
    },
    {
      "cell_type": "markdown",
      "id": "46",
      "metadata": {
        "id": "46"
      },
      "source": [
        "We then load two key components:\n",
        "- **Tokenizer**: This converts our input text (the context and the question) into numerical tokens the model can understand and process. Later, the tokenizer also converts the model’s output tokens back into human-readable text.\n",
        "- **Model**: This is the actual neural network with all its trained weights."
      ]
    },
    {
      "cell_type": "code",
      "execution_count": null,
      "id": "47",
      "metadata": {
        "id": "47"
      },
      "outputs": [],
      "source": [
        "from transformers import AutoTokenizer, AutoModelForCausalLM, pipeline\n",
        "\n",
        "model_name = \"Qwen/Qwen2.5-1.5B-Instruct\"\n",
        "tokenizer = AutoTokenizer.from_pretrained(model_name)\n",
        "\n",
        "# Pulling down the model weights and config\n",
        "llm = AutoModelForCausalLM.from_pretrained(\n",
        "    model_name,\n",
        "    device_map = \"auto\",       # place the model on GPU if available, CPU otherwise\n",
        "    torch_dtype = \"float16\")"
      ]
    },
    {
      "cell_type": "markdown",
      "id": "48",
      "metadata": {
        "id": "48"
      },
      "source": [
        "Now we'll create custom function that ties everything together. First, it opens the Chroma collection and retrieves the top-k most relevant documents for the given question. Those documents are combined into a prompt which instructs the model to answer only using the retrieved context. The prompt is then tokenized and passed to the language model for generation. The model produces new tokens, which are decoded back into text to form the final answer."
      ]
    },
    {
      "cell_type": "code",
      "execution_count": null,
      "id": "49",
      "metadata": {
        "id": "49"
      },
      "outputs": [],
      "source": [
        "def get_answer(client, collection_name: str, question: str, k: int = 2, max_new_tokens: int = 120):\n",
        "    # Opening the collection\n",
        "    col = client.get_collection(collection_name)\n",
        "\n",
        "    # Retrieving top-k documents\n",
        "    res = col.query(query_texts=[question], n_results=k, include=[\"documents\"])\n",
        "    docs = res[\"documents\"][0] if res.get(\"documents\") else []\n",
        "    if not docs:\n",
        "        return \"Insufficient context.\"\n",
        "\n",
        "    # The prompt\n",
        "    context = \"\\n\\n\".join(docs)\n",
        "    prompt = (\n",
        "        \"You are a precise assistant.\\n\"\n",
        "        \"Answer ONLY using the CONTEXT below.\"\n",
        "        \"If the CONTEXT is insufficient, reply exactly: Insufficient context.\\n\"\n",
        "        \"Keep the answer short (1–2 sentences).\\n\\n\"\n",
        "        \"----- CONTEXT -----\\n\"\n",
        "        f\"{context}\\n\"\n",
        "        \"-------------------\\n\"\n",
        "        f\"QUESTION: {question}\\n\"\n",
        "        \"Answer:\"\n",
        "    )\n",
        "\n",
        "    # Tokenizing and generating\n",
        "    inputs = tokenizer(prompt, return_tensors=\"pt\").to(llm.device)\n",
        "    outputs = llm.generate(\n",
        "        **inputs,\n",
        "        max_new_tokens=max_new_tokens,\n",
        "        temperature=0.7,\n",
        "        top_p=0.9,\n",
        "        do_sample=True\n",
        "    )\n",
        "\n",
        "    # Decoding only the newly generated tokens\n",
        "    answer = tokenizer.decode(outputs[0][inputs[\"input_ids\"].shape[1]:], skip_special_tokens=True)\n",
        "    return answer.strip()"
      ]
    },
    {
      "cell_type": "code",
      "execution_count": null,
      "id": "50",
      "metadata": {
        "id": "50"
      },
      "outputs": [],
      "source": [
        "question = \"What is the difference between symmetric and asymmetric encryption?\"\n",
        "\n",
        "# Calling the RAG function\n",
        "answer = get_answer(\n",
        "    client = chroma_client,\n",
        "    collection_name = \"my_documents_locally\",\n",
        "    question = question,\n",
        "    k = 2\n",
        ")\n",
        "\n",
        "# Displaying the output\n",
        "print(\"Question:\", question)\n",
        "print(\"Answer:\", answer)"
      ]
    }
  ],
  "metadata": {
    "colab": {
      "provenance": []
    },
    "kernelspec": {
      "display_name": "Python 3 (ipykernel)",
      "language": "python",
      "name": "python3"
    },
    "language_info": {
      "codemirror_mode": {
        "name": "ipython",
        "version": 3
      },
      "file_extension": ".py",
      "mimetype": "text/x-python",
      "name": "python",
      "nbconvert_exporter": "python",
      "pygments_lexer": "ipython3",
      "version": "3.10.18"
    }
  },
  "nbformat": 4,
  "nbformat_minor": 5
}