{
 "cells": [
  {
   "cell_type": "markdown",
   "metadata": {
    "id": "aJZKPiFmuzCo"
   },
   "source": [
    "\n",
    "# RAG Security Lab: Memorization vs RAG, and 4 Layers of Protection\n",
    "\n",
    "**You’ll learn to:**\n",
    "- Explain LLM **memorization/regurgitation** at a high level, and why **Differential Privacy** (DP) is used to mitigate it.\n",
    "- Build a small **RAG** system over a mock support-ticket dataset.\n",
    "- Add **four security layers** to RAG:\n",
    "  1) Access Control (the *Bouncer*)\n",
    "  2) Data Anonymization (the *Sanitizer*)\n",
    "  3) Prompt Constraints (the *Chaperone*)\n",
    "  4) Output Filtering (the *Redactor*)\n",
    "\n",
    "> This notebook includes a pure-Python in-memory vector index so it runs offline for class. Swap in Pinecone in the exercises to connect to a real vector DB.\n"
   ]
  },
  {
   "cell_type": "code",
   "execution_count": null,
   "metadata": {
    "id": "RjsuTiGTudcc"
   },
   "outputs": [],
   "source": []
  }
 ],
 "metadata": {
  "colab": {
   "authorship_tag": "ABX9TyPjaSQTk/3h3lTrBlhBxBwm",
   "provenance": []
  },
  "kernelspec": {
   "display_name": "Python 3",
   "name": "python3"
  },
  "language_info": {
   "name": "python"
  }
 },
 "nbformat": 4,
 "nbformat_minor": 0
}
